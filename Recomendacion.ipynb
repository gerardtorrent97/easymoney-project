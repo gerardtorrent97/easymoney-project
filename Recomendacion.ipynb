{
  "nbformat": 4,
  "nbformat_minor": 0,
  "metadata": {
    "colab": {
      "name": "Recomendacion.ipynb",
      "provenance": [],
      "mount_file_id": "10RZkkm93zBkR9_ZL3KEX6tVY_6PTygtf",
      "authorship_tag": "ABX9TyP1gXBt9KHdxtEptlErgXMG"
    },
    "kernelspec": {
      "name": "python3",
      "display_name": "Python 3"
    },
    "language_info": {
      "name": "python"
    }
  },
  "cells": [
    {
      "cell_type": "markdown",
      "metadata": {
        "id": "s5YJyqugEd0V"
      },
      "source": [
        "## Import Libraries"
      ]
    },
    {
      "cell_type": "code",
      "metadata": {
        "id": "OG4onfzbEgV3"
      },
      "source": [
        "import os\n",
        "import warnings\n",
        "\n",
        "import scipy as sp\n",
        "\n",
        "import matplotlib.pyplot as plt\n",
        "import seaborn as sns\n",
        "\n",
        "import numpy as np\n",
        "import pandas as pd\n",
        "\n",
        "from sklearn.preprocessing import LabelEncoder\n",
        "\n",
        "from sklearn.metrics.pairwise import cosine_similarity\n",
        "from sklearn.multioutput import MultiOutputClassifier\n",
        "from sklearn.model_selection import train_test_split\n",
        "\n",
        "import xgboost as xgb\n",
        "\n",
        "from google.colab import drive"
      ],
      "execution_count": 1,
      "outputs": []
    },
    {
      "cell_type": "code",
      "metadata": {
        "id": "1dd5xddZE6FK"
      },
      "source": [
        "warnings.filterwarnings(\"ignore\")\n",
        "plt.style.use('ggplot')\n",
        "%matplotlib inline"
      ],
      "execution_count": 2,
      "outputs": []
    },
    {
      "cell_type": "code",
      "metadata": {
        "colab": {
          "base_uri": "https://localhost:8080/"
        },
        "id": "3llI4dQLFV_W",
        "outputId": "5f78eed4-0e3a-40df-b5bf-5381c2527218"
      },
      "source": [
        "drive.mount(\"/content/gdrive\")"
      ],
      "execution_count": 3,
      "outputs": [
        {
          "output_type": "stream",
          "text": [
            "Mounted at /content/gdrive\n"
          ],
          "name": "stdout"
        }
      ]
    },
    {
      "cell_type": "code",
      "metadata": {
        "id": "qi4ZA41Kk6LF"
      },
      "source": [
        "RANDOM_STATE = 42"
      ],
      "execution_count": 4,
      "outputs": []
    },
    {
      "cell_type": "markdown",
      "metadata": {
        "id": "MFoMTrq6GPzP"
      },
      "source": [
        "## Load Data"
      ]
    },
    {
      "cell_type": "code",
      "metadata": {
        "id": "LB068ZozFgFT"
      },
      "source": [
        "DATA_PATH = \"gdrive/MyDrive/EASY_MONEY_NUCLIO/data/\""
      ],
      "execution_count": 5,
      "outputs": []
    },
    {
      "cell_type": "code",
      "metadata": {
        "id": "7bzHT0iZGYBV"
      },
      "source": [
        "df = pd.read_csv(DATA_PATH + \"total_df.csv\", sep=\";\", index_col=0)"
      ],
      "execution_count": 6,
      "outputs": []
    },
    {
      "cell_type": "code",
      "metadata": {
        "id": "dcOk5jD0JeA7"
      },
      "source": [
        "df[\"pk_partition\"] = pd.to_datetime(df[\"pk_partition\"], format=\"%Y-%m-%d\")"
      ],
      "execution_count": 7,
      "outputs": []
    },
    {
      "cell_type": "code",
      "metadata": {
        "id": "zWQiaEF7GjBn"
      },
      "source": [
        "PRODUCTS = [\n",
        "    \"short_term_deposit\",\t\n",
        "    \"loans\",\n",
        "    \"mortgage\",\t\n",
        "    \"funds\",\n",
        "    \"securities\",\n",
        "    \"long_term_deposit\",\t\n",
        "    \"em_account_pp\",\t\n",
        "    \"credit_card\",\t\n",
        "    \"payroll\",\t\n",
        "    \"pension_plan\",\t\n",
        "    \"payroll_account\",\t\n",
        "    \"emc_account\",\t\n",
        "    \"debit_card\",\t\n",
        "    \"em_account_p\",\t\n",
        "    \"em_acount\"\t\n",
        "]\n",
        "\n",
        "PRICE = {\n",
        "    \"Finaciación\": 60,\n",
        "    \"Ahorro/Inversion\": 40,\n",
        "    \"Cuentas\": 10\n",
        "}\n",
        "\n",
        "PRODUCTS_PRICED = {\n",
        "    \"short_term_deposit\": \"Ahorro/Inversion\",\t\n",
        "    \"loans\": \"Finaciación\",\n",
        "    \"mortgage\": \"Finaciación\",\t\n",
        "    \"funds\": \"Ahorro/Inversion\",\n",
        "    \"securities\": \"Ahorro/Inversion\",\n",
        "    \"long_term_deposit\": \"Ahorro/Inversion\",\t\n",
        "    \"em_account_pp\": \"Cuentas\",\t\n",
        "    \"credit_card\": \"Finaciación\",\n",
        "    \"pension_plan\": \"Ahorro/Inversion\",\t\n",
        "    \"payroll_account\": \"Cuentas\",\t\n",
        "    \"emc_account\": \"Cuentas\",\t\n",
        "    \"debit_card\": \"Finaciación\",\t\n",
        "    \"em_account_p\": \"Cuentas\",\t\n",
        "    \"em_acount\": \"Cuentas\"\t\n",
        "}"
      ],
      "execution_count": 8,
      "outputs": []
    },
    {
      "cell_type": "markdown",
      "metadata": {
        "id": "F8-l8tKAL6-S"
      },
      "source": [
        "# EDA"
      ]
    },
    {
      "cell_type": "code",
      "metadata": {
        "colab": {
          "base_uri": "https://localhost:8080/"
        },
        "id": "Hjz6bnHEGs8n",
        "outputId": "0efc38f9-4b8a-4313-9e0a-e3880380e068"
      },
      "source": [
        "df.isna().sum()"
      ],
      "execution_count": 9,
      "outputs": [
        {
          "output_type": "execute_result",
          "data": {
            "text/plain": [
              "pk_cid                      0\n",
              "pk_partition                0\n",
              "short_term_deposit          0\n",
              "loans                       0\n",
              "mortgage                    0\n",
              "funds                       0\n",
              "securities                  0\n",
              "long_term_deposit           0\n",
              "em_account_pp               0\n",
              "credit_card                 0\n",
              "payroll                    61\n",
              "pension_plan               61\n",
              "payroll_account             0\n",
              "emc_account                 0\n",
              "debit_card                  0\n",
              "em_account_p                0\n",
              "em_acount                   0\n",
              "entry_date                  0\n",
              "entry_channel          133033\n",
              "active_customer             0\n",
              "segment                133944\n",
              "country_id                  0\n",
              "region_code              2264\n",
              "gender                     25\n",
              "age                         0\n",
              "deceased                    0\n",
              "salary                1512103\n",
              "dtype: int64"
            ]
          },
          "metadata": {
            "tags": []
          },
          "execution_count": 9
        }
      ]
    },
    {
      "cell_type": "code",
      "metadata": {
        "colab": {
          "base_uri": "https://localhost:8080/"
        },
        "id": "MuWxed8lMMcr",
        "outputId": "24ac9d3a-54f3-4274-d015-20d1200ad093"
      },
      "source": [
        "df[[\"pk_cid\", \"pk_partition\"]].duplicated().astype(int).sum()"
      ],
      "execution_count": 10,
      "outputs": [
        {
          "output_type": "execute_result",
          "data": {
            "text/plain": [
              "0"
            ]
          },
          "metadata": {
            "tags": []
          },
          "execution_count": 10
        }
      ]
    },
    {
      "cell_type": "markdown",
      "metadata": {
        "id": "kJpEcTNNNHJR"
      },
      "source": [
        "# NaN's"
      ]
    },
    {
      "cell_type": "code",
      "metadata": {
        "id": "frLTZnnKMoHe"
      },
      "source": [
        "df[\"salary\"] = df[\"salary\"].fillna(-9999)"
      ],
      "execution_count": 11,
      "outputs": []
    },
    {
      "cell_type": "code",
      "metadata": {
        "id": "3TemV1JxNeCY"
      },
      "source": [
        "df[\"region_code\"] = df[\"region_code\"].fillna(-99)"
      ],
      "execution_count": 12,
      "outputs": []
    },
    {
      "cell_type": "code",
      "metadata": {
        "id": "lfVhy17wNd6S"
      },
      "source": [
        "df[\"entry_channel\"] = df[\"entry_channel\"].fillna(\"Unknown\")"
      ],
      "execution_count": 13,
      "outputs": []
    },
    {
      "cell_type": "code",
      "metadata": {
        "colab": {
          "base_uri": "https://localhost:8080/"
        },
        "id": "jqv5Ecm8NdyS",
        "outputId": "5413d54b-98e9-412a-e22e-a199b42b57e8"
      },
      "source": [
        "df[\"pension_plan\"].value_counts(dropna=False)"
      ],
      "execution_count": 14,
      "outputs": [
        {
          "output_type": "execute_result",
          "data": {
            "text/plain": [
              "0.0    5745061\n",
              "1.0     217802\n",
              "NaN         61\n",
              "Name: pension_plan, dtype: int64"
            ]
          },
          "metadata": {
            "tags": []
          },
          "execution_count": 14
        }
      ]
    },
    {
      "cell_type": "code",
      "metadata": {
        "id": "u6c98McsZExQ"
      },
      "source": [
        "df[\"pension_plan\"] = df[\"pension_plan\"].fillna(0.0)"
      ],
      "execution_count": 15,
      "outputs": []
    },
    {
      "cell_type": "code",
      "metadata": {
        "colab": {
          "base_uri": "https://localhost:8080/"
        },
        "id": "H1YNRp30c6Ag",
        "outputId": "a43028e1-72c5-4fe1-9656-bae6119831d1"
      },
      "source": [
        "df.isna().sum()"
      ],
      "execution_count": 16,
      "outputs": [
        {
          "output_type": "execute_result",
          "data": {
            "text/plain": [
              "pk_cid                     0\n",
              "pk_partition               0\n",
              "short_term_deposit         0\n",
              "loans                      0\n",
              "mortgage                   0\n",
              "funds                      0\n",
              "securities                 0\n",
              "long_term_deposit          0\n",
              "em_account_pp              0\n",
              "credit_card                0\n",
              "payroll                   61\n",
              "pension_plan               0\n",
              "payroll_account            0\n",
              "emc_account                0\n",
              "debit_card                 0\n",
              "em_account_p               0\n",
              "em_acount                  0\n",
              "entry_date                 0\n",
              "entry_channel              0\n",
              "active_customer            0\n",
              "segment               133944\n",
              "country_id                 0\n",
              "region_code                0\n",
              "gender                    25\n",
              "age                        0\n",
              "deceased                   0\n",
              "salary                     0\n",
              "dtype: int64"
            ]
          },
          "metadata": {
            "tags": []
          },
          "execution_count": 16
        }
      ]
    },
    {
      "cell_type": "markdown",
      "metadata": {
        "id": "_2r0a6otdAC_"
      },
      "source": [
        "# Preprocessing"
      ]
    },
    {
      "cell_type": "code",
      "metadata": {
        "colab": {
          "base_uri": "https://localhost:8080/"
        },
        "id": "IH9i10LyI971",
        "outputId": "e6d6f740-451c-46b0-a120-bc22258e5823"
      },
      "source": [
        "df[\"deceased\"].value_counts()"
      ],
      "execution_count": 17,
      "outputs": [
        {
          "output_type": "execute_result",
          "data": {
            "text/plain": [
              "N    5961849\n",
              "S       1075\n",
              "Name: deceased, dtype: int64"
            ]
          },
          "metadata": {
            "tags": []
          },
          "execution_count": 17
        }
      ]
    },
    {
      "cell_type": "markdown",
      "metadata": {
        "id": "6EJxj7AiNicC"
      },
      "source": [
        "No podemos recomendar productos a clientes que estan muertos, por tanto, filtramos estos clientes."
      ]
    },
    {
      "cell_type": "code",
      "metadata": {
        "id": "smwehGJGNYNq"
      },
      "source": [
        "df = df[df[\"deceased\"] != \"S\"]"
      ],
      "execution_count": 18,
      "outputs": []
    },
    {
      "cell_type": "code",
      "metadata": {
        "id": "3IUolhZdNv7A"
      },
      "source": [
        "df = df[(df[\"age\"] >= 18) & (df[\"age\"] <= 90)]"
      ],
      "execution_count": 19,
      "outputs": []
    },
    {
      "cell_type": "code",
      "metadata": {
        "colab": {
          "base_uri": "https://localhost:8080/",
          "height": 304
        },
        "id": "QWrjPqM8OLEB",
        "outputId": "09d3403d-c9cb-4f72-efeb-01fc49bc58e3"
      },
      "source": [
        "df.head()"
      ],
      "execution_count": 20,
      "outputs": [
        {
          "output_type": "execute_result",
          "data": {
            "text/html": [
              "<div>\n",
              "<style scoped>\n",
              "    .dataframe tbody tr th:only-of-type {\n",
              "        vertical-align: middle;\n",
              "    }\n",
              "\n",
              "    .dataframe tbody tr th {\n",
              "        vertical-align: top;\n",
              "    }\n",
              "\n",
              "    .dataframe thead th {\n",
              "        text-align: right;\n",
              "    }\n",
              "</style>\n",
              "<table border=\"1\" class=\"dataframe\">\n",
              "  <thead>\n",
              "    <tr style=\"text-align: right;\">\n",
              "      <th></th>\n",
              "      <th>pk_cid</th>\n",
              "      <th>pk_partition</th>\n",
              "      <th>short_term_deposit</th>\n",
              "      <th>loans</th>\n",
              "      <th>mortgage</th>\n",
              "      <th>funds</th>\n",
              "      <th>securities</th>\n",
              "      <th>long_term_deposit</th>\n",
              "      <th>em_account_pp</th>\n",
              "      <th>credit_card</th>\n",
              "      <th>payroll</th>\n",
              "      <th>pension_plan</th>\n",
              "      <th>payroll_account</th>\n",
              "      <th>emc_account</th>\n",
              "      <th>debit_card</th>\n",
              "      <th>em_account_p</th>\n",
              "      <th>em_acount</th>\n",
              "      <th>entry_date</th>\n",
              "      <th>entry_channel</th>\n",
              "      <th>active_customer</th>\n",
              "      <th>segment</th>\n",
              "      <th>country_id</th>\n",
              "      <th>region_code</th>\n",
              "      <th>gender</th>\n",
              "      <th>age</th>\n",
              "      <th>deceased</th>\n",
              "      <th>salary</th>\n",
              "    </tr>\n",
              "  </thead>\n",
              "  <tbody>\n",
              "    <tr>\n",
              "      <th>0</th>\n",
              "      <td>1375586</td>\n",
              "      <td>2018-01-28</td>\n",
              "      <td>0</td>\n",
              "      <td>0</td>\n",
              "      <td>0</td>\n",
              "      <td>0</td>\n",
              "      <td>0</td>\n",
              "      <td>0</td>\n",
              "      <td>0</td>\n",
              "      <td>0</td>\n",
              "      <td>0.0</td>\n",
              "      <td>0.0</td>\n",
              "      <td>0</td>\n",
              "      <td>0</td>\n",
              "      <td>0</td>\n",
              "      <td>0</td>\n",
              "      <td>1</td>\n",
              "      <td>2018-01-12</td>\n",
              "      <td>KHL</td>\n",
              "      <td>1.0</td>\n",
              "      <td>02 - PARTICULARES</td>\n",
              "      <td>ES</td>\n",
              "      <td>29.0</td>\n",
              "      <td>H</td>\n",
              "      <td>35</td>\n",
              "      <td>N</td>\n",
              "      <td>87218.10</td>\n",
              "    </tr>\n",
              "    <tr>\n",
              "      <th>1</th>\n",
              "      <td>1050611</td>\n",
              "      <td>2018-01-28</td>\n",
              "      <td>0</td>\n",
              "      <td>0</td>\n",
              "      <td>0</td>\n",
              "      <td>0</td>\n",
              "      <td>0</td>\n",
              "      <td>0</td>\n",
              "      <td>0</td>\n",
              "      <td>0</td>\n",
              "      <td>0.0</td>\n",
              "      <td>0.0</td>\n",
              "      <td>0</td>\n",
              "      <td>0</td>\n",
              "      <td>0</td>\n",
              "      <td>0</td>\n",
              "      <td>1</td>\n",
              "      <td>2015-08-10</td>\n",
              "      <td>KHE</td>\n",
              "      <td>0.0</td>\n",
              "      <td>03 - UNIVERSITARIO</td>\n",
              "      <td>ES</td>\n",
              "      <td>13.0</td>\n",
              "      <td>V</td>\n",
              "      <td>23</td>\n",
              "      <td>N</td>\n",
              "      <td>35548.74</td>\n",
              "    </tr>\n",
              "    <tr>\n",
              "      <th>2</th>\n",
              "      <td>1050612</td>\n",
              "      <td>2018-01-28</td>\n",
              "      <td>0</td>\n",
              "      <td>0</td>\n",
              "      <td>0</td>\n",
              "      <td>0</td>\n",
              "      <td>0</td>\n",
              "      <td>0</td>\n",
              "      <td>0</td>\n",
              "      <td>0</td>\n",
              "      <td>0.0</td>\n",
              "      <td>0.0</td>\n",
              "      <td>0</td>\n",
              "      <td>0</td>\n",
              "      <td>0</td>\n",
              "      <td>0</td>\n",
              "      <td>1</td>\n",
              "      <td>2015-08-10</td>\n",
              "      <td>KHE</td>\n",
              "      <td>0.0</td>\n",
              "      <td>03 - UNIVERSITARIO</td>\n",
              "      <td>ES</td>\n",
              "      <td>13.0</td>\n",
              "      <td>V</td>\n",
              "      <td>23</td>\n",
              "      <td>N</td>\n",
              "      <td>122179.11</td>\n",
              "    </tr>\n",
              "    <tr>\n",
              "      <th>3</th>\n",
              "      <td>1050613</td>\n",
              "      <td>2018-01-28</td>\n",
              "      <td>1</td>\n",
              "      <td>0</td>\n",
              "      <td>0</td>\n",
              "      <td>0</td>\n",
              "      <td>0</td>\n",
              "      <td>0</td>\n",
              "      <td>0</td>\n",
              "      <td>0</td>\n",
              "      <td>0.0</td>\n",
              "      <td>0.0</td>\n",
              "      <td>0</td>\n",
              "      <td>0</td>\n",
              "      <td>0</td>\n",
              "      <td>0</td>\n",
              "      <td>0</td>\n",
              "      <td>2015-08-10</td>\n",
              "      <td>KHD</td>\n",
              "      <td>0.0</td>\n",
              "      <td>03 - UNIVERSITARIO</td>\n",
              "      <td>ES</td>\n",
              "      <td>50.0</td>\n",
              "      <td>H</td>\n",
              "      <td>22</td>\n",
              "      <td>N</td>\n",
              "      <td>119775.54</td>\n",
              "    </tr>\n",
              "    <tr>\n",
              "      <th>4</th>\n",
              "      <td>1050614</td>\n",
              "      <td>2018-01-28</td>\n",
              "      <td>0</td>\n",
              "      <td>0</td>\n",
              "      <td>0</td>\n",
              "      <td>0</td>\n",
              "      <td>0</td>\n",
              "      <td>0</td>\n",
              "      <td>0</td>\n",
              "      <td>0</td>\n",
              "      <td>0.0</td>\n",
              "      <td>0.0</td>\n",
              "      <td>0</td>\n",
              "      <td>0</td>\n",
              "      <td>0</td>\n",
              "      <td>0</td>\n",
              "      <td>1</td>\n",
              "      <td>2015-08-10</td>\n",
              "      <td>KHE</td>\n",
              "      <td>1.0</td>\n",
              "      <td>03 - UNIVERSITARIO</td>\n",
              "      <td>ES</td>\n",
              "      <td>50.0</td>\n",
              "      <td>V</td>\n",
              "      <td>23</td>\n",
              "      <td>N</td>\n",
              "      <td>-9999.00</td>\n",
              "    </tr>\n",
              "  </tbody>\n",
              "</table>\n",
              "</div>"
            ],
            "text/plain": [
              "    pk_cid pk_partition  short_term_deposit  ...  age  deceased     salary\n",
              "0  1375586   2018-01-28                   0  ...   35         N   87218.10\n",
              "1  1050611   2018-01-28                   0  ...   23         N   35548.74\n",
              "2  1050612   2018-01-28                   0  ...   23         N  122179.11\n",
              "3  1050613   2018-01-28                   1  ...   22         N  119775.54\n",
              "4  1050614   2018-01-28                   0  ...   23         N   -9999.00\n",
              "\n",
              "[5 rows x 27 columns]"
            ]
          },
          "metadata": {
            "tags": []
          },
          "execution_count": 20
        }
      ]
    },
    {
      "cell_type": "code",
      "metadata": {
        "id": "iGm495lEQEdm"
      },
      "source": [
        "cols_to_drop = [\"entry_date\", \"segment\", \"deceased\", \"payroll\", \"gender\"]\n",
        "df = df.drop(cols_to_drop, axis=1)"
      ],
      "execution_count": 21,
      "outputs": []
    },
    {
      "cell_type": "code",
      "metadata": {
        "colab": {
          "base_uri": "https://localhost:8080/"
        },
        "id": "t3siVW_rQoLM",
        "outputId": "a0063a03-659d-4cd6-c3df-89c1eb340339"
      },
      "source": [
        "print(df.shape)\n",
        "print(df.columns)"
      ],
      "execution_count": 22,
      "outputs": [
        {
          "output_type": "stream",
          "text": [
            "(5921197, 22)\n",
            "Index(['pk_cid', 'pk_partition', 'short_term_deposit', 'loans', 'mortgage',\n",
            "       'funds', 'securities', 'long_term_deposit', 'em_account_pp',\n",
            "       'credit_card', 'pension_plan', 'payroll_account', 'emc_account',\n",
            "       'debit_card', 'em_account_p', 'em_acount', 'entry_channel',\n",
            "       'active_customer', 'country_id', 'region_code', 'age', 'salary'],\n",
            "      dtype='object')\n"
          ],
          "name": "stdout"
        }
      ]
    },
    {
      "cell_type": "code",
      "metadata": {
        "id": "RD6xwe26Q0aY"
      },
      "source": [
        "df[\"country_id\"] = LabelEncoder().fit_transform(df[\"country_id\"])"
      ],
      "execution_count": 23,
      "outputs": []
    },
    {
      "cell_type": "code",
      "metadata": {
        "id": "4BvQuoAHdT-G"
      },
      "source": [
        "df[\"year\"] = df[\"pk_partition\"].dt.year\n",
        "df[\"month\"] = df[\"pk_partition\"].dt.month\n",
        "del df[\"pk_partition\"]"
      ],
      "execution_count": 24,
      "outputs": []
    },
    {
      "cell_type": "code",
      "metadata": {
        "colab": {
          "base_uri": "https://localhost:8080/"
        },
        "id": "Y-S1jz7adXSg",
        "outputId": "0e828e80-1c22-40a3-8d06-346f2c833e31"
      },
      "source": [
        "df.info()"
      ],
      "execution_count": 25,
      "outputs": [
        {
          "output_type": "stream",
          "text": [
            "<class 'pandas.core.frame.DataFrame'>\n",
            "Int64Index: 5921197 entries, 0 to 5962923\n",
            "Data columns (total 23 columns):\n",
            " #   Column              Dtype  \n",
            "---  ------              -----  \n",
            " 0   pk_cid              int64  \n",
            " 1   short_term_deposit  int64  \n",
            " 2   loans               int64  \n",
            " 3   mortgage            int64  \n",
            " 4   funds               int64  \n",
            " 5   securities          int64  \n",
            " 6   long_term_deposit   int64  \n",
            " 7   em_account_pp       int64  \n",
            " 8   credit_card         int64  \n",
            " 9   pension_plan        float64\n",
            " 10  payroll_account     int64  \n",
            " 11  emc_account         int64  \n",
            " 12  debit_card          int64  \n",
            " 13  em_account_p        int64  \n",
            " 14  em_acount           int64  \n",
            " 15  entry_channel       object \n",
            " 16  active_customer     float64\n",
            " 17  country_id          int64  \n",
            " 18  region_code         float64\n",
            " 19  age                 int64  \n",
            " 20  salary              float64\n",
            " 21  year                int64  \n",
            " 22  month               int64  \n",
            "dtypes: float64(4), int64(18), object(1)\n",
            "memory usage: 1.1+ GB\n"
          ],
          "name": "stdout"
        }
      ]
    },
    {
      "cell_type": "code",
      "metadata": {
        "id": "jSpuxYoSfJrS"
      },
      "source": [
        "def set_others(df, col, n):\n",
        "    \"\"\"\n",
        "    Converts to Categorical column and sets Others for the categories outside the top n\n",
        "    :param df: DataFrame object\n",
        "    :param col: column name\n",
        "    :param n: top X\n",
        "    :return \n",
        "    \"\"\"\n",
        "    top_categories = df[col].value_counts().head(n)\n",
        "    top_categories_list = top_categories.index.tolist()\n",
        "    top_categories_list.append(\"Others\")\n",
        "\n",
        "    df[col] = pd.Categorical(df[col], categories=top_categories_list)\n",
        "    return df[col].fillna(\"Others\")"
      ],
      "execution_count": 26,
      "outputs": []
    },
    {
      "cell_type": "code",
      "metadata": {
        "colab": {
          "base_uri": "https://localhost:8080/"
        },
        "id": "tCgq-5KJfMf0",
        "outputId": "b8e84465-9ab5-4a39-dbc7-071559a834b3"
      },
      "source": [
        "df[\"entry_channel\"].value_counts().head(8)"
      ],
      "execution_count": 27,
      "outputs": [
        {
          "output_type": "execute_result",
          "data": {
            "text/plain": [
              "KHE        3113575\n",
              "KFC         873049\n",
              "KHQ         590224\n",
              "KAT         405973\n",
              "KHK         229826\n",
              "KHM         176333\n",
              "Unknown     132171\n",
              "KHN         108157\n",
              "Name: entry_channel, dtype: int64"
            ]
          },
          "metadata": {
            "tags": []
          },
          "execution_count": 27
        }
      ]
    },
    {
      "cell_type": "code",
      "metadata": {
        "id": "mP7JSzFviH39"
      },
      "source": [
        "df[\"entry_channel\"] = set_others(df, \"entry_channel\", 8)"
      ],
      "execution_count": 28,
      "outputs": []
    },
    {
      "cell_type": "code",
      "metadata": {
        "id": "1j4L8_U8gmhQ"
      },
      "source": [
        "def one_hot_encoder(data, col):\n",
        "    _dummy_dataset = pd.get_dummies(data[col], prefix=col)\n",
        "    data = pd.concat([data, _dummy_dataset], axis=1)\n",
        "    del data[col]\n",
        "    del _dummy_dataset\n",
        "\n",
        "    return data"
      ],
      "execution_count": 29,
      "outputs": []
    },
    {
      "cell_type": "code",
      "metadata": {
        "id": "LPSJKjhzhRPh"
      },
      "source": [
        "df = one_hot_encoder(df, \"entry_channel\")"
      ],
      "execution_count": 30,
      "outputs": []
    },
    {
      "cell_type": "code",
      "metadata": {
        "colab": {
          "base_uri": "https://localhost:8080/"
        },
        "id": "T7dJhh4Wity_",
        "outputId": "2a83c2dc-dadb-444f-9aaa-9541c911594c"
      },
      "source": [
        "# Region code frequency encoding\n",
        "region_counter = df[\"region_code\"].value_counts()\n",
        "df[\"region_code\"] = df[\"region_code\"].replace(region_counter)\n",
        "df[\"region_code\"]"
      ],
      "execution_count": 31,
      "outputs": [
        {
          "output_type": "execute_result",
          "data": {
            "text/plain": [
              "0           187309.0\n",
              "1            69905.0\n",
              "2            69905.0\n",
              "3           132590.0\n",
              "4           132590.0\n",
              "             ...    \n",
              "5962919     132590.0\n",
              "5962920      34660.0\n",
              "5962921     132590.0\n",
              "5962922     132590.0\n",
              "5962923    1162770.0\n",
              "Name: region_code, Length: 5921197, dtype: float64"
            ]
          },
          "metadata": {
            "tags": []
          },
          "execution_count": 31
        }
      ]
    },
    {
      "cell_type": "markdown",
      "metadata": {
        "id": "VnWK8MNQjJrr"
      },
      "source": [
        "# Modelling"
      ]
    },
    {
      "cell_type": "code",
      "metadata": {
        "colab": {
          "base_uri": "https://localhost:8080/"
        },
        "id": "9Mm4xxcei8gj",
        "outputId": "49efc326-77a4-4e86-c490-1e2ca8cd562a"
      },
      "source": [
        "df.columns"
      ],
      "execution_count": 32,
      "outputs": [
        {
          "output_type": "execute_result",
          "data": {
            "text/plain": [
              "Index(['pk_cid', 'short_term_deposit', 'loans', 'mortgage', 'funds',\n",
              "       'securities', 'long_term_deposit', 'em_account_pp', 'credit_card',\n",
              "       'pension_plan', 'payroll_account', 'emc_account', 'debit_card',\n",
              "       'em_account_p', 'em_acount', 'active_customer', 'country_id',\n",
              "       'region_code', 'age', 'salary', 'year', 'month', 'entry_channel_KHE',\n",
              "       'entry_channel_KFC', 'entry_channel_KHQ', 'entry_channel_KAT',\n",
              "       'entry_channel_KHK', 'entry_channel_KHM', 'entry_channel_Unknown',\n",
              "       'entry_channel_KHN', 'entry_channel_Others'],\n",
              "      dtype='object')"
            ]
          },
          "metadata": {
            "tags": []
          },
          "execution_count": 32
        }
      ]
    },
    {
      "cell_type": "code",
      "metadata": {
        "colab": {
          "base_uri": "https://localhost:8080/"
        },
        "id": "Fv5ydPd9jMsa",
        "outputId": "4d18d135-4864-4f6b-c105-79c5a914f031"
      },
      "source": [
        "df.info()"
      ],
      "execution_count": 33,
      "outputs": [
        {
          "output_type": "stream",
          "text": [
            "<class 'pandas.core.frame.DataFrame'>\n",
            "Int64Index: 5921197 entries, 0 to 5962923\n",
            "Data columns (total 31 columns):\n",
            " #   Column                 Dtype  \n",
            "---  ------                 -----  \n",
            " 0   pk_cid                 int64  \n",
            " 1   short_term_deposit     int64  \n",
            " 2   loans                  int64  \n",
            " 3   mortgage               int64  \n",
            " 4   funds                  int64  \n",
            " 5   securities             int64  \n",
            " 6   long_term_deposit      int64  \n",
            " 7   em_account_pp          int64  \n",
            " 8   credit_card            int64  \n",
            " 9   pension_plan           float64\n",
            " 10  payroll_account        int64  \n",
            " 11  emc_account            int64  \n",
            " 12  debit_card             int64  \n",
            " 13  em_account_p           int64  \n",
            " 14  em_acount              int64  \n",
            " 15  active_customer        float64\n",
            " 16  country_id             int64  \n",
            " 17  region_code            float64\n",
            " 18  age                    int64  \n",
            " 19  salary                 float64\n",
            " 20  year                   int64  \n",
            " 21  month                  int64  \n",
            " 22  entry_channel_KHE      uint8  \n",
            " 23  entry_channel_KFC      uint8  \n",
            " 24  entry_channel_KHQ      uint8  \n",
            " 25  entry_channel_KAT      uint8  \n",
            " 26  entry_channel_KHK      uint8  \n",
            " 27  entry_channel_KHM      uint8  \n",
            " 28  entry_channel_Unknown  uint8  \n",
            " 29  entry_channel_KHN      uint8  \n",
            " 30  entry_channel_Others   uint8  \n",
            "dtypes: float64(4), int64(18), uint8(9)\n",
            "memory usage: 1.1 GB\n"
          ],
          "name": "stdout"
        }
      ]
    },
    {
      "cell_type": "code",
      "metadata": {
        "id": "Eg3IALqJjPyF"
      },
      "source": [
        "TARGETS = [\n",
        "            \"short_term_deposit\", \n",
        "            \"loans\", \n",
        "            \"mortgage\", \n",
        "            \"funds\",\n",
        "            \"securities\", \n",
        "            \"long_term_deposit\", \n",
        "            \"em_account_pp\", \n",
        "            \"credit_card\",\n",
        "            \"pension_plan\", \n",
        "            \"payroll_account\", \n",
        "            \"emc_account\", \n",
        "            \"debit_card\",\n",
        "            \"em_account_p\", \n",
        "            \"em_acount\"\n",
        "]"
      ],
      "execution_count": 34,
      "outputs": []
    },
    {
      "cell_type": "code",
      "metadata": {
        "id": "FfO4alLRkE1n"
      },
      "source": [
        "X = df.drop(TARGETS + [\"pk_cid\"], axis=1)\n",
        "y = df[TARGETS]"
      ],
      "execution_count": 35,
      "outputs": []
    },
    {
      "cell_type": "code",
      "metadata": {
        "colab": {
          "base_uri": "https://localhost:8080/"
        },
        "id": "oR8oOvojkRqK",
        "outputId": "f351cc51-7294-4e28-c4f8-0a4ff4c0b367"
      },
      "source": [
        "df.shape"
      ],
      "execution_count": 36,
      "outputs": [
        {
          "output_type": "execute_result",
          "data": {
            "text/plain": [
              "(5921197, 31)"
            ]
          },
          "metadata": {
            "tags": []
          },
          "execution_count": 36
        }
      ]
    },
    {
      "cell_type": "code",
      "metadata": {
        "id": "bxBLyWhJkXk7"
      },
      "source": [
        "# Validation and Train-Test\n",
        "X_train_test, X_validation, y_train_test, y_validation =  train_test_split(X, y, test_size=0.1, random_state=RANDOM_STATE)\n",
        "\n",
        "# Train and Test\n",
        "X_train, X_test, y_train, y_test =  train_test_split(X_train_test, y_train_test, test_size=0.2, random_state=RANDOM_STATE)"
      ],
      "execution_count": 37,
      "outputs": []
    },
    {
      "cell_type": "code",
      "metadata": {
        "id": "yR9PiwI-lV7W"
      },
      "source": [
        "model = MultiOutputClassifier(xgb.XGBClassifier(\n",
        "    max_depth=4,\n",
        "    min_samples_leaf = 200,\n",
        "    random_state=RANDOM_STATE\n",
        "))"
      ],
      "execution_count": 38,
      "outputs": []
    },
    {
      "cell_type": "code",
      "metadata": {
        "colab": {
          "base_uri": "https://localhost:8080/"
        },
        "id": "5_mDhk1rm5gC",
        "outputId": "04853246-bc2d-46ca-cfec-987c9c02c896"
      },
      "source": [
        "model.fit(X_train, y_train)"
      ],
      "execution_count": null,
      "outputs": [
        {
          "output_type": "stream",
          "text": [
            "[10:20:20] WARNING: /workspace/src/learner.cc:686: Tree method is automatically selected to be 'approx' for faster speed. To use old behavior (exact greedy algorithm on single machine), set tree_method to 'exact'.\n"
          ],
          "name": "stdout"
        }
      ]
    },
    {
      "cell_type": "code",
      "metadata": {
        "id": "rQ_p5KkInDC6"
      },
      "source": [
        "y_train_pred = dt.predict(X_train)\n",
        "y_train_score = dt.predict_proba(X_train)[:,1]\n",
        "\n",
        "#Predict the response for test dataset\n",
        "y_pred = dt.predict(X_test)\n",
        "y_test_score = dt.predict_proba(X_test)[:,1]"
      ],
      "execution_count": null,
      "outputs": []
    }
  ]
}