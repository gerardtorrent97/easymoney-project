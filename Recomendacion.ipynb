{
  "nbformat": 4,
  "nbformat_minor": 0,
  "metadata": {
    "colab": {
      "name": "Recomendacion.ipynb",
      "provenance": [],
      "mount_file_id": "10RZkkm93zBkR9_ZL3KEX6tVY_6PTygtf",
      "authorship_tag": "ABX9TyPHiHE7o5k2IsJh2sUH2Ih2"
    },
    "kernelspec": {
      "name": "python3",
      "display_name": "Python 3"
    },
    "language_info": {
      "name": "python"
    }
  },
  "cells": [
    {
      "cell_type": "markdown",
      "metadata": {
        "id": "s5YJyqugEd0V"
      },
      "source": [
        "## Import Libraries"
      ]
    },
    {
      "cell_type": "code",
      "metadata": {
        "id": "OG4onfzbEgV3"
      },
      "source": [
        "import os\n",
        "import warnings\n",
        "\n",
        "import scipy as sp\n",
        "\n",
        "import matplotlib.pyplot as plt\n",
        "import seaborn as sns\n",
        "\n",
        "import numpy as np\n",
        "import pandas as pd\n",
        "import dateutil.relativedelta\n",
        "\n",
        "from sklearn.preprocessing import LabelEncoder\n",
        "\n",
        "from sklearn.metrics.pairwise import cosine_similarity\n",
        "from sklearn.model_selection import train_test_split\n",
        "\n",
        "import xgboost as xgb\n",
        "\n",
        "from google.colab import drive"
      ],
      "execution_count": 1,
      "outputs": []
    },
    {
      "cell_type": "code",
      "metadata": {
        "id": "1dd5xddZE6FK"
      },
      "source": [
        "warnings.filterwarnings(\"ignore\")\n",
        "plt.style.use('ggplot')\n",
        "%matplotlib inline"
      ],
      "execution_count": 2,
      "outputs": []
    },
    {
      "cell_type": "code",
      "metadata": {
        "colab": {
          "base_uri": "https://localhost:8080/"
        },
        "id": "3llI4dQLFV_W",
        "outputId": "cfa85a2a-e73b-4b83-bf9f-ee0f4dd28bac"
      },
      "source": [
        "drive.mount(\"/content/gdrive\")"
      ],
      "execution_count": 3,
      "outputs": [
        {
          "output_type": "stream",
          "text": [
            "Drive already mounted at /content/gdrive; to attempt to forcibly remount, call drive.mount(\"/content/gdrive\", force_remount=True).\n"
          ],
          "name": "stdout"
        }
      ]
    },
    {
      "cell_type": "code",
      "metadata": {
        "id": "qi4ZA41Kk6LF"
      },
      "source": [
        "RANDOM_STATE = 42"
      ],
      "execution_count": 4,
      "outputs": []
    },
    {
      "cell_type": "markdown",
      "metadata": {
        "id": "MFoMTrq6GPzP"
      },
      "source": [
        "## Load Data"
      ]
    },
    {
      "cell_type": "code",
      "metadata": {
        "id": "LB068ZozFgFT"
      },
      "source": [
        "DATA_PATH = \"gdrive/MyDrive/EASY_MONEY_NUCLIO/data/\""
      ],
      "execution_count": 5,
      "outputs": []
    },
    {
      "cell_type": "code",
      "metadata": {
        "id": "TqucZz-hYbID"
      },
      "source": [
        "#df = pd.read_pickle(DATA_PATH + \"total_df_segmentado.pkl\")"
      ],
      "execution_count": 6,
      "outputs": []
    },
    {
      "cell_type": "code",
      "metadata": {
        "id": "7bzHT0iZGYBV"
      },
      "source": [
        "df = pd.read_csv(DATA_PATH + \"total_df.csv\", sep=\";\", index_col=0)"
      ],
      "execution_count": 7,
      "outputs": []
    },
    {
      "cell_type": "code",
      "metadata": {
        "id": "sHe5fItlr3FU"
      },
      "source": [
        "# corregir fechas\n",
        "df.loc[df[\"entry_date\"] == \"2015-02-29\", \"entry_date\"] = \"2015-02-28\"\n",
        "df.loc[df[\"entry_date\"] == \"2019-02-29\", \"entry_date\"] = \"2019-02-28\""
      ],
      "execution_count": 8,
      "outputs": []
    },
    {
      "cell_type": "code",
      "metadata": {
        "id": "KUlgHMvu46Kp"
      },
      "source": [
        "DATES = df[\"pk_partition\"].unique().tolist()"
      ],
      "execution_count": 9,
      "outputs": []
    },
    {
      "cell_type": "code",
      "metadata": {
        "id": "dcOk5jD0JeA7"
      },
      "source": [
        "df[\"pk_partition\"] = pd.to_datetime(df[\"pk_partition\"], format=\"%Y-%m-%d\")\n",
        "df[\"entry_date\"] = pd.to_datetime(df[\"entry_date\"], format=\"%Y-%m-%d\")"
      ],
      "execution_count": 10,
      "outputs": []
    },
    {
      "cell_type": "code",
      "metadata": {
        "id": "zWQiaEF7GjBn"
      },
      "source": [
        "PRODUCTS = [\n",
        "    \"short_term_deposit\",\t\n",
        "    \"loans\",\n",
        "    \"mortgage\",\t\n",
        "    \"funds\",\n",
        "    \"securities\",\n",
        "    \"long_term_deposit\",\t\n",
        "    \"em_account_pp\",\t\n",
        "    \"credit_card\",\t\n",
        "    \"payroll\",\t\n",
        "    \"pension_plan\",\t\n",
        "    \"payroll_account\",\t\n",
        "    \"emc_account\",\t\n",
        "    \"debit_card\",\t\n",
        "    \"em_account_p\",\t\n",
        "    \"em_acount\"\t\n",
        "]\n",
        "\n",
        "PRICE = {\n",
        "    \"Finaciación\": 60,\n",
        "    \"Ahorro/Inversion\": 40,\n",
        "    \"Cuentas\": 10\n",
        "}\n",
        "\n",
        "PRODUCTS_PRICED = {\n",
        "    \"short_term_deposit\": \"Ahorro/Inversion\",\t\n",
        "    \"loans\": \"Finaciación\",\n",
        "    \"mortgage\": \"Finaciación\",\t\n",
        "    \"funds\": \"Ahorro/Inversion\",\n",
        "    \"securities\": \"Ahorro/Inversion\",\n",
        "    \"long_term_deposit\": \"Ahorro/Inversion\",\t\n",
        "    \"em_account_pp\": \"Cuentas\",\t\n",
        "    \"credit_card\": \"Finaciación\",\n",
        "    \"pension_plan\": \"Ahorro/Inversion\",\t\n",
        "    \"payroll_account\": \"Cuentas\",\t\n",
        "    \"emc_account\": \"Cuentas\",\t\n",
        "    \"debit_card\": \"Finaciación\",\t\n",
        "    \"em_account_p\": \"Cuentas\",\t\n",
        "    \"em_acount\": \"Cuentas\"\t\n",
        "}"
      ],
      "execution_count": 11,
      "outputs": []
    },
    {
      "cell_type": "markdown",
      "metadata": {
        "id": "F8-l8tKAL6-S"
      },
      "source": [
        "# EDA"
      ]
    },
    {
      "cell_type": "code",
      "metadata": {
        "colab": {
          "base_uri": "https://localhost:8080/"
        },
        "id": "Hjz6bnHEGs8n",
        "outputId": "323affc9-8d9c-4e0b-cca1-82fcefccadad"
      },
      "source": [
        "df.isna().sum()"
      ],
      "execution_count": 12,
      "outputs": [
        {
          "output_type": "execute_result",
          "data": {
            "text/plain": [
              "pk_cid                      0\n",
              "pk_partition                0\n",
              "short_term_deposit          0\n",
              "loans                       0\n",
              "mortgage                    0\n",
              "funds                       0\n",
              "securities                  0\n",
              "long_term_deposit           0\n",
              "em_account_pp               0\n",
              "credit_card                 0\n",
              "payroll                    61\n",
              "pension_plan               61\n",
              "payroll_account             0\n",
              "emc_account                 0\n",
              "debit_card                  0\n",
              "em_account_p                0\n",
              "em_acount                   0\n",
              "entry_date                  0\n",
              "entry_channel          133033\n",
              "active_customer             0\n",
              "segment                133944\n",
              "country_id                  0\n",
              "region_code              2264\n",
              "gender                     25\n",
              "age                         0\n",
              "deceased                    0\n",
              "salary                1512103\n",
              "dtype: int64"
            ]
          },
          "metadata": {
            "tags": []
          },
          "execution_count": 12
        }
      ]
    },
    {
      "cell_type": "code",
      "metadata": {
        "colab": {
          "base_uri": "https://localhost:8080/"
        },
        "id": "MuWxed8lMMcr",
        "outputId": "6e411bff-4a96-4933-f649-b3d9b8c2d011"
      },
      "source": [
        "df[[\"pk_cid\", \"pk_partition\"]].duplicated().astype(int).sum()"
      ],
      "execution_count": 13,
      "outputs": [
        {
          "output_type": "execute_result",
          "data": {
            "text/plain": [
              "0"
            ]
          },
          "metadata": {
            "tags": []
          },
          "execution_count": 13
        }
      ]
    },
    {
      "cell_type": "markdown",
      "metadata": {
        "id": "kJpEcTNNNHJR"
      },
      "source": [
        "# NaN's"
      ]
    },
    {
      "cell_type": "code",
      "metadata": {
        "id": "frLTZnnKMoHe"
      },
      "source": [
        "df[\"salary\"] = df[\"salary\"].fillna(-9999)"
      ],
      "execution_count": 14,
      "outputs": []
    },
    {
      "cell_type": "code",
      "metadata": {
        "id": "3TemV1JxNeCY"
      },
      "source": [
        "df[\"region_code\"] = df[\"region_code\"].fillna(-99)"
      ],
      "execution_count": 15,
      "outputs": []
    },
    {
      "cell_type": "code",
      "metadata": {
        "id": "lfVhy17wNd6S"
      },
      "source": [
        "df[\"entry_channel\"] = df[\"entry_channel\"].fillna(\"Unknown\")"
      ],
      "execution_count": 16,
      "outputs": []
    },
    {
      "cell_type": "code",
      "metadata": {
        "colab": {
          "base_uri": "https://localhost:8080/"
        },
        "id": "jqv5Ecm8NdyS",
        "outputId": "b6ceac21-a473-4fc7-c03d-9a8b2827e5b7"
      },
      "source": [
        "df[\"pension_plan\"].value_counts(dropna=False)"
      ],
      "execution_count": 17,
      "outputs": [
        {
          "output_type": "execute_result",
          "data": {
            "text/plain": [
              "0.0    5745061\n",
              "1.0     217802\n",
              "NaN         61\n",
              "Name: pension_plan, dtype: int64"
            ]
          },
          "metadata": {
            "tags": []
          },
          "execution_count": 17
        }
      ]
    },
    {
      "cell_type": "code",
      "metadata": {
        "id": "u6c98McsZExQ"
      },
      "source": [
        "df[\"pension_plan\"] = df[\"pension_plan\"].fillna(0.0)"
      ],
      "execution_count": 18,
      "outputs": []
    },
    {
      "cell_type": "code",
      "metadata": {
        "id": "cylaBwMgk6AO",
        "colab": {
          "base_uri": "https://localhost:8080/"
        },
        "outputId": "d11ad3dc-d0a9-4662-a045-a4f11e20a6d0"
      },
      "source": [
        "df[\"gender\"].value_counts(dropna=False)"
      ],
      "execution_count": 19,
      "outputs": [
        {
          "output_type": "execute_result",
          "data": {
            "text/plain": [
              "H      3087502\n",
              "V      2875397\n",
              "NaN         25\n",
              "Name: gender, dtype: int64"
            ]
          },
          "metadata": {
            "tags": []
          },
          "execution_count": 19
        }
      ]
    },
    {
      "cell_type": "code",
      "metadata": {
        "id": "WWRy5zUul-yX"
      },
      "source": [
        "df[\"gender\"] = df[\"gender\"].fillna(df[\"gender\"].mode().values[0])"
      ],
      "execution_count": 20,
      "outputs": []
    },
    {
      "cell_type": "code",
      "metadata": {
        "colab": {
          "base_uri": "https://localhost:8080/"
        },
        "id": "H1YNRp30c6Ag",
        "outputId": "7ad76131-9afd-4ef8-a87b-a8d11cd23a07"
      },
      "source": [
        "df.isna().sum()"
      ],
      "execution_count": 21,
      "outputs": [
        {
          "output_type": "execute_result",
          "data": {
            "text/plain": [
              "pk_cid                     0\n",
              "pk_partition               0\n",
              "short_term_deposit         0\n",
              "loans                      0\n",
              "mortgage                   0\n",
              "funds                      0\n",
              "securities                 0\n",
              "long_term_deposit          0\n",
              "em_account_pp              0\n",
              "credit_card                0\n",
              "payroll                   61\n",
              "pension_plan               0\n",
              "payroll_account            0\n",
              "emc_account                0\n",
              "debit_card                 0\n",
              "em_account_p               0\n",
              "em_acount                  0\n",
              "entry_date                 0\n",
              "entry_channel              0\n",
              "active_customer            0\n",
              "segment               133944\n",
              "country_id                 0\n",
              "region_code                0\n",
              "gender                     0\n",
              "age                        0\n",
              "deceased                   0\n",
              "salary                     0\n",
              "dtype: int64"
            ]
          },
          "metadata": {
            "tags": []
          },
          "execution_count": 21
        }
      ]
    },
    {
      "cell_type": "markdown",
      "metadata": {
        "id": "k71dJM0UkSCe"
      },
      "source": [
        "# Population Analysis"
      ]
    },
    {
      "cell_type": "code",
      "metadata": {
        "colab": {
          "base_uri": "https://localhost:8080/"
        },
        "id": "4jqB0Q6mz9SC",
        "outputId": "e1dc6efc-6b44-49a7-f321-22d0d1608268"
      },
      "source": [
        "for product in PRODUCTS:\n",
        "  if product not in [\"payroll\", \"em_account_pp\"]:\n",
        "    print(f\"#########{product}########\")\n",
        "    print(df.loc[df[product] == 1, [product, \"age\", \"salary\"]].describe())\n",
        "    print(\"Predominant gender: \", df.loc[df[product] == 1, \"gender\"].mode().values[0])\n",
        "    print(\"#####################\")\n",
        "    print(\"\")"
      ],
      "execution_count": 22,
      "outputs": [
        {
          "output_type": "stream",
          "text": [
            "#########short_term_deposit########\n",
            "       short_term_deposit           age        salary\n",
            "count             15394.0  15394.000000  1.539400e+04\n",
            "mean                  1.0     46.836690  9.187965e+04\n",
            "std                   0.0     13.849793  1.914814e+05\n",
            "min                   1.0     20.000000 -9.999000e+03\n",
            "25%                   1.0     37.000000 -9.999000e+03\n",
            "50%                   1.0     44.000000  8.017053e+04\n",
            "75%                   1.0     55.000000  1.269798e+05\n",
            "max                   1.0     97.000000  9.833873e+06\n",
            "Predominant gender:  V\n",
            "#####################\n",
            "\n",
            "#########loans########\n",
            "       loans         age         salary\n",
            "count  468.0  468.000000     468.000000\n",
            "mean     1.0   33.478632   95258.656923\n",
            "std      0.0    9.633630   61072.220811\n",
            "min      1.0   21.000000   -9999.000000\n",
            "25%      1.0   26.000000   60530.880000\n",
            "50%      1.0   30.000000   78374.385000\n",
            "75%      1.0   37.250000  145972.320000\n",
            "max      1.0   60.000000  228200.220000\n",
            "Predominant gender:  V\n",
            "#####################\n",
            "\n",
            "#########mortgage########\n",
            "       mortgage         age         salary\n",
            "count     324.0  324.000000     324.000000\n",
            "mean        1.0   43.271605  220948.171019\n",
            "std         0.0    9.453831  228163.913614\n",
            "min         1.0   27.000000   -9999.000000\n",
            "25%         1.0   35.000000   99183.060000\n",
            "50%         1.0   42.000000  187287.750000\n",
            "75%         1.0   52.000000  265487.490000\n",
            "max         1.0   60.000000  937306.320000\n",
            "Predominant gender:  V\n",
            "#####################\n",
            "\n",
            "#########funds########\n",
            "         funds           age        salary\n",
            "count  20099.0  20099.000000  2.009900e+04\n",
            "mean       1.0     48.821832  1.182347e+05\n",
            "std        0.0     15.163029  1.125743e+05\n",
            "min        1.0     20.000000 -9.999000e+03\n",
            "25%        1.0     38.000000  5.434803e+04\n",
            "50%        1.0     48.000000  1.011058e+05\n",
            "75%        1.0     58.000000  1.594002e+05\n",
            "max        1.0    101.000000  1.201956e+06\n",
            "Predominant gender:  V\n",
            "#####################\n",
            "\n",
            "#########securities########\n",
            "       securities           age        salary\n",
            "count     22133.0  22133.000000  2.213300e+04\n",
            "mean          1.0     44.982018  1.120723e+05\n",
            "std           0.0     13.971090  1.278330e+05\n",
            "min           1.0     20.000000 -9.999000e+03\n",
            "25%           1.0     35.000000  4.649304e+04\n",
            "50%           1.0     43.000000  9.220209e+04\n",
            "75%           1.0     53.000000  1.485828e+05\n",
            "max           1.0     98.000000  2.563288e+06\n",
            "Predominant gender:  V\n",
            "#####################\n",
            "\n",
            "#########long_term_deposit########\n",
            "       long_term_deposit            age        salary\n",
            "count           100660.0  100660.000000  1.006600e+05\n",
            "mean                 1.0      52.389261  1.090736e+05\n",
            "std                  0.0      15.597157  1.016474e+05\n",
            "min                  1.0      20.000000 -9.999000e+03\n",
            "25%                  1.0      41.000000  5.445678e+04\n",
            "50%                  1.0      50.000000  9.682647e+04\n",
            "75%                  1.0      62.000000  1.506698e+05\n",
            "max                  1.0     102.000000  2.058336e+06\n",
            "Predominant gender:  V\n",
            "#####################\n",
            "\n",
            "#########credit_card########\n",
            "       credit_card           age        salary\n",
            "count      70866.0  70866.000000  7.086600e+04\n",
            "mean           1.0     41.967558  1.099120e+05\n",
            "std            0.0     11.127110  2.159999e+05\n",
            "min            1.0     20.000000 -9.999000e+03\n",
            "25%            1.0     34.000000  5.154225e+04\n",
            "50%            1.0     40.000000  8.790294e+04\n",
            "75%            1.0     49.000000  1.359378e+05\n",
            "max            1.0     99.000000  1.027035e+07\n",
            "Predominant gender:  V\n",
            "#####################\n",
            "\n",
            "#########pension_plan########\n",
            "       pension_plan            age        salary\n",
            "count      217802.0  217802.000000  2.178020e+05\n",
            "mean            1.0      37.468329  9.388295e+04\n",
            "std             0.0      11.816900  1.459297e+05\n",
            "min             1.0       3.000000 -9.999000e+03\n",
            "25%             1.0      29.000000  4.365540e+04\n",
            "50%             1.0      35.000000  7.767225e+04\n",
            "75%             1.0      44.000000  1.230049e+05\n",
            "max             1.0     101.000000  1.027035e+07\n",
            "Predominant gender:  V\n",
            "#####################\n",
            "\n",
            "#########payroll_account########\n",
            "       payroll_account            age        salary\n",
            "count         329420.0  329420.000000  3.294200e+05\n",
            "mean               1.0      36.576513  9.423746e+04\n",
            "std                0.0      11.657653  1.397015e+05\n",
            "min                1.0      19.000000 -9.999000e+03\n",
            "25%                1.0      29.000000  4.367037e+04\n",
            "50%                1.0      34.000000  7.788312e+04\n",
            "75%                1.0      42.000000  1.232413e+05\n",
            "max                1.0     101.000000  1.027035e+07\n",
            "Predominant gender:  V\n",
            "#####################\n",
            "\n",
            "#########emc_account########\n",
            "       emc_account            age        salary\n",
            "count     326961.0  326961.000000  3.269610e+05\n",
            "mean           1.0      44.203030  1.036947e+05\n",
            "std            0.0      13.723695  2.215666e+05\n",
            "min            1.0      19.000000 -9.999000e+03\n",
            "25%            1.0      35.000000  5.070288e+04\n",
            "50%            1.0      42.000000  8.678946e+04\n",
            "75%            1.0      51.000000  1.351305e+05\n",
            "max            1.0     102.000000  2.889440e+07\n",
            "Predominant gender:  V\n",
            "#####################\n",
            "\n",
            "#########debit_card########\n",
            "       debit_card            age        salary\n",
            "count    562968.0  562968.000000  5.629680e+05\n",
            "mean          1.0      37.004578  9.141396e+04\n",
            "std           0.0      11.558605  2.205347e+05\n",
            "min           1.0      19.000000 -9.999000e+03\n",
            "25%           1.0      29.000000  4.115580e+04\n",
            "50%           1.0      35.000000  7.482267e+04\n",
            "75%           1.0      43.000000  1.171218e+05\n",
            "max           1.0     101.000000  2.889440e+07\n",
            "Predominant gender:  V\n",
            "#####################\n",
            "\n",
            "#########em_account_p########\n",
            "       em_account_p        age         salary\n",
            "count          34.0  34.000000      34.000000\n",
            "mean            1.0  48.558824  170217.420000\n",
            "std             0.0  19.734896   97287.597422\n",
            "min             1.0  29.000000   74371.200000\n",
            "25%             1.0  29.000000   74371.200000\n",
            "50%             1.0  49.000000  170217.420000\n",
            "75%             1.0  68.000000  266063.640000\n",
            "max             1.0  68.000000  266063.640000\n",
            "Predominant gender:  H\n",
            "#####################\n",
            "\n",
            "#########em_acount########\n",
            "       em_acount           age        salary\n",
            "count  4381602.0  4.381602e+06  4.381602e+06\n",
            "mean         1.0  2.860830e+01  8.212072e+04\n",
            "std          0.0  1.091813e+01  1.704562e+05\n",
            "min          1.0  2.000000e+00 -9.999000e+03\n",
            "25%          1.0  2.200000e+01  2.207181e+04\n",
            "50%          1.0  2.400000e+01  6.921702e+04\n",
            "75%          1.0  3.100000e+01  1.106276e+05\n",
            "max          1.0  1.050000e+02  2.889440e+07\n",
            "Predominant gender:  H\n",
            "#####################\n",
            "\n"
          ],
          "name": "stdout"
        }
      ]
    },
    {
      "cell_type": "markdown",
      "metadata": {
        "id": "3tKFp9cv7Q92"
      },
      "source": [
        "Podemos observar como algunos productos se podrían agrupar debido a que el perfil de edad de los clientes es parecido. La variable \"salary\" no es un buen indicativo del cliente (se extrayeron los datos a partir de encuestas) para hacer esta agrupación."
      ]
    },
    {
      "cell_type": "code",
      "metadata": {
        "id": "7Jzp2oe_sZgu",
        "colab": {
          "base_uri": "https://localhost:8080/"
        },
        "outputId": "1a9c829e-b7c1-4233-9908-c1dca9a5681a"
      },
      "source": [
        "for product in PRODUCTS:\n",
        "  if product != \"payroll\":\n",
        "    _df = df.groupby(\"pk_cid\").agg({product: \"max\"})\n",
        "    print(f\"#######{product}#######\")\n",
        "    print(_df[product].value_counts())\n",
        "    print(_df[product].value_counts(normalize=True))\n",
        "    print(\"########################\")\n",
        "    print(\"\")\n",
        "\n",
        "del _df"
      ],
      "execution_count": 23,
      "outputs": [
        {
          "output_type": "stream",
          "text": [
            "#######short_term_deposit#######\n",
            "0    451049\n",
            "1      5324\n",
            "Name: short_term_deposit, dtype: int64\n",
            "0    0.988334\n",
            "1    0.011666\n",
            "Name: short_term_deposit, dtype: float64\n",
            "########################\n",
            "\n",
            "#######loans#######\n",
            "0    456329\n",
            "1        44\n",
            "Name: loans, dtype: int64\n",
            "0    0.999904\n",
            "1    0.000096\n",
            "Name: loans, dtype: float64\n",
            "########################\n",
            "\n",
            "#######mortgage#######\n",
            "0    456348\n",
            "1        25\n",
            "Name: mortgage, dtype: int64\n",
            "0    0.999945\n",
            "1    0.000055\n",
            "Name: mortgage, dtype: float64\n",
            "########################\n",
            "\n",
            "#######funds#######\n",
            "0    454707\n",
            "1      1666\n",
            "Name: funds, dtype: int64\n",
            "0    0.996349\n",
            "1    0.003651\n",
            "Name: funds, dtype: float64\n",
            "########################\n",
            "\n",
            "#######securities#######\n",
            "0    454284\n",
            "1      2089\n",
            "Name: securities, dtype: int64\n",
            "0    0.995423\n",
            "1    0.004577\n",
            "Name: securities, dtype: float64\n",
            "########################\n",
            "\n",
            "#######long_term_deposit#######\n",
            "0    447262\n",
            "1      9111\n",
            "Name: long_term_deposit, dtype: int64\n",
            "0    0.980036\n",
            "1    0.019964\n",
            "Name: long_term_deposit, dtype: float64\n",
            "########################\n",
            "\n",
            "#######em_account_pp#######\n",
            "0    456373\n",
            "Name: em_account_pp, dtype: int64\n",
            "0    1.0\n",
            "Name: em_account_pp, dtype: float64\n",
            "########################\n",
            "\n",
            "#######credit_card#######\n",
            "0    447842\n",
            "1      8531\n",
            "Name: credit_card, dtype: int64\n",
            "0    0.981307\n",
            "1    0.018693\n",
            "Name: credit_card, dtype: float64\n",
            "########################\n",
            "\n",
            "#######pension_plan#######\n",
            "0.0    428169\n",
            "1.0     28204\n",
            "Name: pension_plan, dtype: int64\n",
            "0.0    0.9382\n",
            "1.0    0.0618\n",
            "Name: pension_plan, dtype: float64\n",
            "########################\n",
            "\n",
            "#######payroll_account#######\n",
            "0    424785\n",
            "1     31588\n",
            "Name: payroll_account, dtype: int64\n",
            "0    0.930785\n",
            "1    0.069215\n",
            "Name: payroll_account, dtype: float64\n",
            "########################\n",
            "\n",
            "#######emc_account#######\n",
            "0    428730\n",
            "1     27643\n",
            "Name: emc_account, dtype: int64\n",
            "0    0.939429\n",
            "1    0.060571\n",
            "Name: emc_account, dtype: float64\n",
            "########################\n",
            "\n",
            "#######debit_card#######\n",
            "0    392837\n",
            "1     63536\n",
            "Name: debit_card, dtype: int64\n",
            "0    0.860781\n",
            "1    0.139219\n",
            "Name: debit_card, dtype: float64\n",
            "########################\n",
            "\n",
            "#######em_account_p#######\n",
            "0    456371\n",
            "1         2\n",
            "Name: em_account_p, dtype: int64\n",
            "0    0.999996\n",
            "1    0.000004\n",
            "Name: em_account_p, dtype: float64\n",
            "########################\n",
            "\n",
            "#######em_acount#######\n",
            "1    332728\n",
            "0    123645\n",
            "Name: em_acount, dtype: int64\n",
            "1    0.72907\n",
            "0    0.27093\n",
            "Name: em_acount, dtype: float64\n",
            "########################\n",
            "\n"
          ],
          "name": "stdout"
        }
      ]
    },
    {
      "cell_type": "markdown",
      "metadata": {
        "id": "qpOVo55vdYm3"
      },
      "source": [
        "Podemos ver como la tenencia de los distintos productos no esta balanceada en la gran mayoría de los casos.\n",
        "\n",
        "También se puede observar como el producto em_account_pp no tiene ninguna venta en todo el histórico disponible.\n",
        "\n",
        "Un buen enfoque para atacar este problema sería agrupar los productos en distintas categorías en función de lo parecida que sea la población que contrata cada producto, como de balanceado este el target (cada producto) y por productos similares."
      ]
    },
    {
      "cell_type": "code",
      "metadata": {
        "id": "rlfMvn3Lra4C"
      },
      "source": [
        "cuentas = [\"emc_account\", \"em_account_p\", \"payroll_account\"]\n",
        "ahorro_inversion = [\"short_term_deposit\", \"long_term_deposit\", \"pension_plan\", \"securities\", \"funds\"]\n",
        "financiacion = [\"credit_card\", \"mortgage\", \"loans\"]"
      ],
      "execution_count": 24,
      "outputs": []
    },
    {
      "cell_type": "code",
      "metadata": {
        "id": "VYJoNoMCr_cV"
      },
      "source": [
        "df[\"cuentas\"] = df[cuentas].max(axis=1)\n",
        "df[\"ahorro_inversion\"] = df[ahorro_inversion].max(axis=1)\n",
        "df[\"financiacion\"] = df[financiacion].max(axis=1)\n",
        "\n",
        "for group in [cuentas, ahorro_inversion, financiacion]:\n",
        "  df = df.drop(group, axis=1)"
      ],
      "execution_count": 25,
      "outputs": []
    },
    {
      "cell_type": "code",
      "metadata": {
        "colab": {
          "base_uri": "https://localhost:8080/"
        },
        "id": "C3njXSd3mfVg",
        "outputId": "805db5c9-6817-4738-9333-3e1b9132daf8"
      },
      "source": [
        "for product in [\"cuentas\", \"ahorro_inversion\", \"financiacion\", \"em_acount\", \"debit_card\"]:\n",
        "    _df = df.groupby(\"pk_cid\").agg({product: \"max\"})\n",
        "    print(f\"#######{product}#######\")\n",
        "    print(_df[product].value_counts())\n",
        "    print(_df[product].value_counts(normalize=True))\n",
        "    print(\"########################\")\n",
        "    print(\"\")\n",
        "  \n",
        "del _df"
      ],
      "execution_count": 26,
      "outputs": [
        {
          "output_type": "stream",
          "text": [
            "#######cuentas#######\n",
            "0    403699\n",
            "1     52674\n",
            "Name: cuentas, dtype: int64\n",
            "0    0.884581\n",
            "1    0.115419\n",
            "Name: cuentas, dtype: float64\n",
            "########################\n",
            "\n",
            "#######ahorro_inversion#######\n",
            "0.0    413955\n",
            "1.0     42418\n",
            "Name: ahorro_inversion, dtype: int64\n",
            "0.0    0.907054\n",
            "1.0    0.092946\n",
            "Name: ahorro_inversion, dtype: float64\n",
            "########################\n",
            "\n",
            "#######financiacion#######\n",
            "0    447810\n",
            "1      8563\n",
            "Name: financiacion, dtype: int64\n",
            "0    0.981237\n",
            "1    0.018763\n",
            "Name: financiacion, dtype: float64\n",
            "########################\n",
            "\n",
            "#######em_acount#######\n",
            "1    332728\n",
            "0    123645\n",
            "Name: em_acount, dtype: int64\n",
            "1    0.72907\n",
            "0    0.27093\n",
            "Name: em_acount, dtype: float64\n",
            "########################\n",
            "\n",
            "#######debit_card#######\n",
            "0    392837\n",
            "1     63536\n",
            "Name: debit_card, dtype: int64\n",
            "0    0.860781\n",
            "1    0.139219\n",
            "Name: debit_card, dtype: float64\n",
            "########################\n",
            "\n"
          ],
          "name": "stdout"
        }
      ]
    },
    {
      "cell_type": "markdown",
      "metadata": {
        "id": "XQgwKkNdm_Ze"
      },
      "source": [
        "Podemos ver como todos los nuevos productos estan balanceados excepto los productos de \"financiacion\". Para esta categoría de productos tendremos que realizar técnicas de rebalanceo."
      ]
    },
    {
      "cell_type": "code",
      "metadata": {
        "colab": {
          "base_uri": "https://localhost:8080/",
          "height": 309
        },
        "id": "ZI3seZ-dqpzg",
        "outputId": "4b0c87b1-a22a-4007-dc12-143d8173daac"
      },
      "source": [
        "df.head()"
      ],
      "execution_count": 27,
      "outputs": [
        {
          "output_type": "execute_result",
          "data": {
            "text/html": [
              "<div>\n",
              "<style scoped>\n",
              "    .dataframe tbody tr th:only-of-type {\n",
              "        vertical-align: middle;\n",
              "    }\n",
              "\n",
              "    .dataframe tbody tr th {\n",
              "        vertical-align: top;\n",
              "    }\n",
              "\n",
              "    .dataframe thead th {\n",
              "        text-align: right;\n",
              "    }\n",
              "</style>\n",
              "<table border=\"1\" class=\"dataframe\">\n",
              "  <thead>\n",
              "    <tr style=\"text-align: right;\">\n",
              "      <th></th>\n",
              "      <th>pk_cid</th>\n",
              "      <th>pk_partition</th>\n",
              "      <th>em_account_pp</th>\n",
              "      <th>payroll</th>\n",
              "      <th>debit_card</th>\n",
              "      <th>em_acount</th>\n",
              "      <th>entry_date</th>\n",
              "      <th>entry_channel</th>\n",
              "      <th>active_customer</th>\n",
              "      <th>segment</th>\n",
              "      <th>country_id</th>\n",
              "      <th>region_code</th>\n",
              "      <th>gender</th>\n",
              "      <th>age</th>\n",
              "      <th>deceased</th>\n",
              "      <th>salary</th>\n",
              "      <th>cuentas</th>\n",
              "      <th>ahorro_inversion</th>\n",
              "      <th>financiacion</th>\n",
              "    </tr>\n",
              "  </thead>\n",
              "  <tbody>\n",
              "    <tr>\n",
              "      <th>0</th>\n",
              "      <td>1375586</td>\n",
              "      <td>2018-01-28</td>\n",
              "      <td>0</td>\n",
              "      <td>0.0</td>\n",
              "      <td>0</td>\n",
              "      <td>1</td>\n",
              "      <td>2018-01-12</td>\n",
              "      <td>KHL</td>\n",
              "      <td>1.0</td>\n",
              "      <td>02 - PARTICULARES</td>\n",
              "      <td>ES</td>\n",
              "      <td>29.0</td>\n",
              "      <td>H</td>\n",
              "      <td>35</td>\n",
              "      <td>N</td>\n",
              "      <td>87218.10</td>\n",
              "      <td>0</td>\n",
              "      <td>0.0</td>\n",
              "      <td>0</td>\n",
              "    </tr>\n",
              "    <tr>\n",
              "      <th>1</th>\n",
              "      <td>1050611</td>\n",
              "      <td>2018-01-28</td>\n",
              "      <td>0</td>\n",
              "      <td>0.0</td>\n",
              "      <td>0</td>\n",
              "      <td>1</td>\n",
              "      <td>2015-08-10</td>\n",
              "      <td>KHE</td>\n",
              "      <td>0.0</td>\n",
              "      <td>03 - UNIVERSITARIO</td>\n",
              "      <td>ES</td>\n",
              "      <td>13.0</td>\n",
              "      <td>V</td>\n",
              "      <td>23</td>\n",
              "      <td>N</td>\n",
              "      <td>35548.74</td>\n",
              "      <td>0</td>\n",
              "      <td>0.0</td>\n",
              "      <td>0</td>\n",
              "    </tr>\n",
              "    <tr>\n",
              "      <th>2</th>\n",
              "      <td>1050612</td>\n",
              "      <td>2018-01-28</td>\n",
              "      <td>0</td>\n",
              "      <td>0.0</td>\n",
              "      <td>0</td>\n",
              "      <td>1</td>\n",
              "      <td>2015-08-10</td>\n",
              "      <td>KHE</td>\n",
              "      <td>0.0</td>\n",
              "      <td>03 - UNIVERSITARIO</td>\n",
              "      <td>ES</td>\n",
              "      <td>13.0</td>\n",
              "      <td>V</td>\n",
              "      <td>23</td>\n",
              "      <td>N</td>\n",
              "      <td>122179.11</td>\n",
              "      <td>0</td>\n",
              "      <td>0.0</td>\n",
              "      <td>0</td>\n",
              "    </tr>\n",
              "    <tr>\n",
              "      <th>3</th>\n",
              "      <td>1050613</td>\n",
              "      <td>2018-01-28</td>\n",
              "      <td>0</td>\n",
              "      <td>0.0</td>\n",
              "      <td>0</td>\n",
              "      <td>0</td>\n",
              "      <td>2015-08-10</td>\n",
              "      <td>KHD</td>\n",
              "      <td>0.0</td>\n",
              "      <td>03 - UNIVERSITARIO</td>\n",
              "      <td>ES</td>\n",
              "      <td>50.0</td>\n",
              "      <td>H</td>\n",
              "      <td>22</td>\n",
              "      <td>N</td>\n",
              "      <td>119775.54</td>\n",
              "      <td>0</td>\n",
              "      <td>1.0</td>\n",
              "      <td>0</td>\n",
              "    </tr>\n",
              "    <tr>\n",
              "      <th>4</th>\n",
              "      <td>1050614</td>\n",
              "      <td>2018-01-28</td>\n",
              "      <td>0</td>\n",
              "      <td>0.0</td>\n",
              "      <td>0</td>\n",
              "      <td>1</td>\n",
              "      <td>2015-08-10</td>\n",
              "      <td>KHE</td>\n",
              "      <td>1.0</td>\n",
              "      <td>03 - UNIVERSITARIO</td>\n",
              "      <td>ES</td>\n",
              "      <td>50.0</td>\n",
              "      <td>V</td>\n",
              "      <td>23</td>\n",
              "      <td>N</td>\n",
              "      <td>-9999.00</td>\n",
              "      <td>0</td>\n",
              "      <td>0.0</td>\n",
              "      <td>0</td>\n",
              "    </tr>\n",
              "  </tbody>\n",
              "</table>\n",
              "</div>"
            ],
            "text/plain": [
              "    pk_cid pk_partition  em_account_pp  ...  cuentas  ahorro_inversion  financiacion\n",
              "0  1375586   2018-01-28              0  ...        0               0.0             0\n",
              "1  1050611   2018-01-28              0  ...        0               0.0             0\n",
              "2  1050612   2018-01-28              0  ...        0               0.0             0\n",
              "3  1050613   2018-01-28              0  ...        0               1.0             0\n",
              "4  1050614   2018-01-28              0  ...        0               0.0             0\n",
              "\n",
              "[5 rows x 19 columns]"
            ]
          },
          "metadata": {
            "tags": []
          },
          "execution_count": 27
        }
      ]
    },
    {
      "cell_type": "markdown",
      "metadata": {
        "id": "_2r0a6otdAC_"
      },
      "source": [
        "# Preprocessing"
      ]
    },
    {
      "cell_type": "code",
      "metadata": {
        "colab": {
          "base_uri": "https://localhost:8080/"
        },
        "id": "IH9i10LyI971",
        "outputId": "008006e5-021f-4e23-bc44-42004ed5538a"
      },
      "source": [
        "df[\"deceased\"].value_counts()"
      ],
      "execution_count": 28,
      "outputs": [
        {
          "output_type": "execute_result",
          "data": {
            "text/plain": [
              "N    5961849\n",
              "S       1075\n",
              "Name: deceased, dtype: int64"
            ]
          },
          "metadata": {
            "tags": []
          },
          "execution_count": 28
        }
      ]
    },
    {
      "cell_type": "markdown",
      "metadata": {
        "id": "6EJxj7AiNicC"
      },
      "source": [
        "No podemos recomendar productos a clientes que estan muertos, por tanto, filtramos estos clientes."
      ]
    },
    {
      "cell_type": "code",
      "metadata": {
        "id": "smwehGJGNYNq"
      },
      "source": [
        "df = df[df[\"deceased\"] != \"S\"]"
      ],
      "execution_count": 29,
      "outputs": []
    },
    {
      "cell_type": "code",
      "metadata": {
        "id": "3IUolhZdNv7A"
      },
      "source": [
        "df = df[(df[\"age\"] >= 18) & (df[\"age\"] <= 90)]"
      ],
      "execution_count": 30,
      "outputs": []
    },
    {
      "cell_type": "code",
      "metadata": {
        "id": "iGm495lEQEdm"
      },
      "source": [
        "# cols_to_drop = [\"entry_date\", \"segment\", \"deceased\", \"payroll\", \"gender\", \"ConProducto\"]\n",
        "cols_to_drop = [\"segment\", \"deceased\", \"payroll\", \"em_account_pp\"]\n",
        "df = df.drop(cols_to_drop, axis=1)"
      ],
      "execution_count": 31,
      "outputs": []
    },
    {
      "cell_type": "code",
      "metadata": {
        "colab": {
          "base_uri": "https://localhost:8080/"
        },
        "id": "t3siVW_rQoLM",
        "outputId": "63f5d828-37a4-4151-d783-4f7669f7dff9"
      },
      "source": [
        "print(df.shape)\n",
        "print(df.columns)"
      ],
      "execution_count": 32,
      "outputs": [
        {
          "output_type": "stream",
          "text": [
            "(5921197, 15)\n",
            "Index(['pk_cid', 'pk_partition', 'debit_card', 'em_acount', 'entry_date',\n",
            "       'entry_channel', 'active_customer', 'country_id', 'region_code',\n",
            "       'gender', 'age', 'salary', 'cuentas', 'ahorro_inversion',\n",
            "       'financiacion'],\n",
            "      dtype='object')\n"
          ],
          "name": "stdout"
        }
      ]
    },
    {
      "cell_type": "code",
      "metadata": {
        "id": "RD6xwe26Q0aY"
      },
      "source": [
        "df[\"country_id\"] = LabelEncoder().fit_transform(df[\"country_id\"])"
      ],
      "execution_count": 33,
      "outputs": []
    },
    {
      "cell_type": "code",
      "metadata": {
        "colab": {
          "base_uri": "https://localhost:8080/",
          "height": 224
        },
        "id": "DrPGCd45u4SL",
        "outputId": "8c3c0520-eec5-4cc0-b0e7-c153224e2f71"
      },
      "source": [
        "df.head()"
      ],
      "execution_count": 34,
      "outputs": [
        {
          "output_type": "execute_result",
          "data": {
            "text/html": [
              "<div>\n",
              "<style scoped>\n",
              "    .dataframe tbody tr th:only-of-type {\n",
              "        vertical-align: middle;\n",
              "    }\n",
              "\n",
              "    .dataframe tbody tr th {\n",
              "        vertical-align: top;\n",
              "    }\n",
              "\n",
              "    .dataframe thead th {\n",
              "        text-align: right;\n",
              "    }\n",
              "</style>\n",
              "<table border=\"1\" class=\"dataframe\">\n",
              "  <thead>\n",
              "    <tr style=\"text-align: right;\">\n",
              "      <th></th>\n",
              "      <th>pk_cid</th>\n",
              "      <th>pk_partition</th>\n",
              "      <th>debit_card</th>\n",
              "      <th>em_acount</th>\n",
              "      <th>entry_date</th>\n",
              "      <th>entry_channel</th>\n",
              "      <th>active_customer</th>\n",
              "      <th>country_id</th>\n",
              "      <th>region_code</th>\n",
              "      <th>gender</th>\n",
              "      <th>age</th>\n",
              "      <th>salary</th>\n",
              "      <th>cuentas</th>\n",
              "      <th>ahorro_inversion</th>\n",
              "      <th>financiacion</th>\n",
              "    </tr>\n",
              "  </thead>\n",
              "  <tbody>\n",
              "    <tr>\n",
              "      <th>0</th>\n",
              "      <td>1375586</td>\n",
              "      <td>2018-01-28</td>\n",
              "      <td>0</td>\n",
              "      <td>1</td>\n",
              "      <td>2018-01-12</td>\n",
              "      <td>KHL</td>\n",
              "      <td>1.0</td>\n",
              "      <td>15</td>\n",
              "      <td>29.0</td>\n",
              "      <td>H</td>\n",
              "      <td>35</td>\n",
              "      <td>87218.10</td>\n",
              "      <td>0</td>\n",
              "      <td>0.0</td>\n",
              "      <td>0</td>\n",
              "    </tr>\n",
              "    <tr>\n",
              "      <th>1</th>\n",
              "      <td>1050611</td>\n",
              "      <td>2018-01-28</td>\n",
              "      <td>0</td>\n",
              "      <td>1</td>\n",
              "      <td>2015-08-10</td>\n",
              "      <td>KHE</td>\n",
              "      <td>0.0</td>\n",
              "      <td>15</td>\n",
              "      <td>13.0</td>\n",
              "      <td>V</td>\n",
              "      <td>23</td>\n",
              "      <td>35548.74</td>\n",
              "      <td>0</td>\n",
              "      <td>0.0</td>\n",
              "      <td>0</td>\n",
              "    </tr>\n",
              "    <tr>\n",
              "      <th>2</th>\n",
              "      <td>1050612</td>\n",
              "      <td>2018-01-28</td>\n",
              "      <td>0</td>\n",
              "      <td>1</td>\n",
              "      <td>2015-08-10</td>\n",
              "      <td>KHE</td>\n",
              "      <td>0.0</td>\n",
              "      <td>15</td>\n",
              "      <td>13.0</td>\n",
              "      <td>V</td>\n",
              "      <td>23</td>\n",
              "      <td>122179.11</td>\n",
              "      <td>0</td>\n",
              "      <td>0.0</td>\n",
              "      <td>0</td>\n",
              "    </tr>\n",
              "    <tr>\n",
              "      <th>3</th>\n",
              "      <td>1050613</td>\n",
              "      <td>2018-01-28</td>\n",
              "      <td>0</td>\n",
              "      <td>0</td>\n",
              "      <td>2015-08-10</td>\n",
              "      <td>KHD</td>\n",
              "      <td>0.0</td>\n",
              "      <td>15</td>\n",
              "      <td>50.0</td>\n",
              "      <td>H</td>\n",
              "      <td>22</td>\n",
              "      <td>119775.54</td>\n",
              "      <td>0</td>\n",
              "      <td>1.0</td>\n",
              "      <td>0</td>\n",
              "    </tr>\n",
              "    <tr>\n",
              "      <th>4</th>\n",
              "      <td>1050614</td>\n",
              "      <td>2018-01-28</td>\n",
              "      <td>0</td>\n",
              "      <td>1</td>\n",
              "      <td>2015-08-10</td>\n",
              "      <td>KHE</td>\n",
              "      <td>1.0</td>\n",
              "      <td>15</td>\n",
              "      <td>50.0</td>\n",
              "      <td>V</td>\n",
              "      <td>23</td>\n",
              "      <td>-9999.00</td>\n",
              "      <td>0</td>\n",
              "      <td>0.0</td>\n",
              "      <td>0</td>\n",
              "    </tr>\n",
              "  </tbody>\n",
              "</table>\n",
              "</div>"
            ],
            "text/plain": [
              "    pk_cid pk_partition  debit_card  ...  cuentas ahorro_inversion financiacion\n",
              "0  1375586   2018-01-28           0  ...        0              0.0            0\n",
              "1  1050611   2018-01-28           0  ...        0              0.0            0\n",
              "2  1050612   2018-01-28           0  ...        0              0.0            0\n",
              "3  1050613   2018-01-28           0  ...        0              1.0            0\n",
              "4  1050614   2018-01-28           0  ...        0              0.0            0\n",
              "\n",
              "[5 rows x 15 columns]"
            ]
          },
          "metadata": {
            "tags": []
          },
          "execution_count": 34
        }
      ]
    },
    {
      "cell_type": "code",
      "metadata": {
        "id": "4BvQuoAHdT-G"
      },
      "source": [
        "df[\"entry_year\"] = df[\"entry_date\"].dt.year\n",
        "df[\"entry_month\"] = df[\"entry_date\"].dt.month\n",
        "df[\"entry_day\"] = df[\"entry_date\"].dt.day\n",
        "df[\"entry_week\"] = df[\"entry_date\"].dt.week\n",
        "df[\"entry_weekday\"] = df[\"entry_date\"].dt.weekday\n",
        "df[\"entry_quarter\"] = df[\"entry_date\"].dt.quarter\n",
        "\n",
        "df = df.drop(\"entry_date\", axis=1)"
      ],
      "execution_count": 35,
      "outputs": []
    },
    {
      "cell_type": "code",
      "metadata": {
        "colab": {
          "base_uri": "https://localhost:8080/"
        },
        "id": "Y-S1jz7adXSg",
        "outputId": "06c0e065-68e3-46f8-d93c-9d20a2d6663e"
      },
      "source": [
        "df.info()"
      ],
      "execution_count": 36,
      "outputs": [
        {
          "output_type": "stream",
          "text": [
            "<class 'pandas.core.frame.DataFrame'>\n",
            "Int64Index: 5921197 entries, 0 to 5962923\n",
            "Data columns (total 20 columns):\n",
            " #   Column            Dtype         \n",
            "---  ------            -----         \n",
            " 0   pk_cid            int64         \n",
            " 1   pk_partition      datetime64[ns]\n",
            " 2   debit_card        int64         \n",
            " 3   em_acount         int64         \n",
            " 4   entry_channel     object        \n",
            " 5   active_customer   float64       \n",
            " 6   country_id        int64         \n",
            " 7   region_code       float64       \n",
            " 8   gender            object        \n",
            " 9   age               int64         \n",
            " 10  salary            float64       \n",
            " 11  cuentas           int64         \n",
            " 12  ahorro_inversion  float64       \n",
            " 13  financiacion      int64         \n",
            " 14  entry_year        int64         \n",
            " 15  entry_month       int64         \n",
            " 16  entry_day         int64         \n",
            " 17  entry_week        int64         \n",
            " 18  entry_weekday     int64         \n",
            " 19  entry_quarter     int64         \n",
            "dtypes: datetime64[ns](1), float64(4), int64(13), object(2)\n",
            "memory usage: 948.7+ MB\n"
          ],
          "name": "stdout"
        }
      ]
    },
    {
      "cell_type": "code",
      "metadata": {
        "id": "jSpuxYoSfJrS"
      },
      "source": [
        "def set_others(df, col, n):\n",
        "    \"\"\"\n",
        "    Converts to Categorical column and sets Others for the categories outside the top n\n",
        "    :param df: DataFrame object\n",
        "    :param col: column name\n",
        "    :param n: top X\n",
        "    :return \n",
        "    \"\"\"\n",
        "    top_categories = df[col].value_counts().head(n)\n",
        "    top_categories_list = top_categories.index.tolist()\n",
        "    top_categories_list.append(\"Others\")\n",
        "\n",
        "    df[col] = pd.Categorical(df[col], categories=top_categories_list)\n",
        "    return df[col].fillna(\"Others\")"
      ],
      "execution_count": 37,
      "outputs": []
    },
    {
      "cell_type": "code",
      "metadata": {
        "colab": {
          "base_uri": "https://localhost:8080/"
        },
        "id": "tCgq-5KJfMf0",
        "outputId": "c86b10c8-009d-4146-e692-cae979cbfaeb"
      },
      "source": [
        "df[\"entry_channel\"].value_counts().head(8)"
      ],
      "execution_count": 38,
      "outputs": [
        {
          "output_type": "execute_result",
          "data": {
            "text/plain": [
              "KHE        3113575\n",
              "KFC         873049\n",
              "KHQ         590224\n",
              "KAT         405973\n",
              "KHK         229826\n",
              "KHM         176333\n",
              "Unknown     132171\n",
              "KHN         108157\n",
              "Name: entry_channel, dtype: int64"
            ]
          },
          "metadata": {
            "tags": []
          },
          "execution_count": 38
        }
      ]
    },
    {
      "cell_type": "code",
      "metadata": {
        "id": "mP7JSzFviH39"
      },
      "source": [
        "df[\"entry_channel\"] = set_others(df, \"entry_channel\", 8)"
      ],
      "execution_count": 39,
      "outputs": []
    },
    {
      "cell_type": "code",
      "metadata": {
        "id": "1j4L8_U8gmhQ"
      },
      "source": [
        "def one_hot_encoder(data, col):\n",
        "    _dummy_dataset = pd.get_dummies(data[col], prefix=col)\n",
        "    data = pd.concat([data, _dummy_dataset], axis=1)\n",
        "    del data[col]\n",
        "    del _dummy_dataset\n",
        "\n",
        "    return data"
      ],
      "execution_count": 40,
      "outputs": []
    },
    {
      "cell_type": "code",
      "metadata": {
        "id": "LPSJKjhzhRPh"
      },
      "source": [
        "df = one_hot_encoder(df, \"entry_channel\")"
      ],
      "execution_count": 41,
      "outputs": []
    },
    {
      "cell_type": "code",
      "metadata": {
        "id": "T7dJhh4Wity_"
      },
      "source": [
        "# region_code frequency encoding\n",
        "region_counter = df[\"region_code\"].value_counts()\n",
        "df[\"region_code\"] = df[\"region_code\"].replace(region_counter)"
      ],
      "execution_count": 42,
      "outputs": []
    },
    {
      "cell_type": "code",
      "metadata": {
        "id": "WgB8Upb8xQEJ"
      },
      "source": [
        "df[\"gender\"] = (df[\"gender\"] == \"H\").astype(int)"
      ],
      "execution_count": 43,
      "outputs": []
    },
    {
      "cell_type": "markdown",
      "metadata": {
        "id": "VnWK8MNQjJrr"
      },
      "source": [
        "# Dataset Resampling"
      ]
    },
    {
      "cell_type": "markdown",
      "metadata": {
        "id": "jGWgusru5hOU"
      },
      "source": [
        "Queremos predecir las compras de los productos para el mes de Junio del 2019. Para poder implementar esto correctamente tendremos que coger los datos para \"train/test\" desde Enero del 2018 hasta Abril del 2019 y nos guardaremos Mayo del 2019 para validación."
      ]
    },
    {
      "cell_type": "markdown",
      "metadata": {
        "id": "Bd-xPJcvRztn"
      },
      "source": [
        "Una vez convertidos los datos para que el modelo los entienda, tendremos que preparar el conjunto de datos para que cada row represente a un cliente. \n",
        "\n",
        "Para realizar esto, se extraerá la fecha mínima de compra de cada cliente, le restaremos un mes a esa fecha y extraeremos la row correspondiente que contenga dicha fecha para cada cliente. Esto se realiza para conseguir la información de aquellos clientes a mes m1, ya que son los clientes que van a comprar el mes siguiente."
      ]
    },
    {
      "cell_type": "markdown",
      "metadata": {
        "id": "yxUaWueWi0yz"
      },
      "source": [
        "Con tal de que el modelo no aprenda a predecir mejor las compras en aquellos meses donde hay más predominancia de compras vs. no compras, realizaremos un rebalanceo mes a mes. El objetivo es conseguir un ratio de 90-10 de la clase negativa vs. la clase positiva."
      ]
    },
    {
      "cell_type": "code",
      "metadata": {
        "id": "Eg3IALqJjPyF"
      },
      "source": [
        "TARGETS = [\n",
        "         \"em_acount\",\n",
        "         \"debit_card\",\n",
        "         \"cuentas\",\n",
        "         \"ahorro_inversion\",\n",
        "         \"financiacion\"\n",
        "]"
      ],
      "execution_count": 44,
      "outputs": []
    },
    {
      "cell_type": "code",
      "metadata": {
        "id": "pDVapvfkjFQJ"
      },
      "source": [
        "def get_compras(df, target):\n",
        "  compras = df[(df[target] == 1) & (df[\"pk_partition\"] != \"2018-01-28\")].groupby(\"pk_cid\")[\"pk_partition\"].min().reset_index().set_index(\"pk_cid\")\n",
        "  compras[\"mes_m1\"] = compras[\"pk_partition\"].dt.date - pd.DateOffset(months=1)\n",
        "  del compras[\"pk_partition\"]\n",
        "  compras.columns = [\"pk_partition\"]\n",
        "  compras[\"compra\"] = 1\n",
        "\n",
        "  return compras\n",
        "\n",
        "def clean_compras(df_compras, df):\n",
        "  df_compras[\"pk_cid\"] = df_compras.index\n",
        "  c_cid_partition_tupled = df_compras[[\"pk_cid\", \"pk_partition\"]].apply(tuple, axis=1)\n",
        "  df_cid_partition_tupled = df[[\"pk_cid\", \"pk_partition\"]].apply(tuple, axis=1)\n",
        "\n",
        "  df_compras = df_compras[c_cid_partition_tupled.isin(df_cid_partition_tupled.tolist())]\n",
        "  del df_compras[\"pk_cid\"]\n",
        "\n",
        "  return df_compras\n",
        "\n",
        "def clean_no_compras(df_compras, df_no_compras):\n",
        "  intersection = set(df_compras.index).intersection(df_no_compras.index.tolist())\n",
        "  df_no_compras = df_no_compras.drop(intersection, axis=0)\n",
        "\n",
        "  return df_no_compras\n",
        "\n",
        "def get_month_subset(df_compras, df_no_compras, month):\n",
        "  compras = df_compras[df_compras[\"pk_partition\"] == month]\n",
        "  no_compras = df_no_compras[df_no_compras[\"pk_partition\"] <= month] \n",
        "  # miramos que los clientes que estan en compras no esten en no compras\n",
        "  no_compras_cleaned = no_compras[~ no_compras.index.isin(compras.index.tolist())]\n",
        "\n",
        "  return compras, no_compras_cleaned"
      ],
      "execution_count": 45,
      "outputs": []
    },
    {
      "cell_type": "markdown",
      "metadata": {
        "id": "_zGXpBf1e4cL"
      },
      "source": [
        "Recorreremos cada target individualmente entre las fechas 2018-02 y 2019-04. Hay que tener en cuenta que estamos recorriendo para mes m1."
      ]
    },
    {
      "cell_type": "code",
      "metadata": {
        "colab": {
          "base_uri": "https://localhost:8080/"
        },
        "id": "ZrCBJ6HJfW34",
        "outputId": "c7a64f67-7180-4a55-a39b-b04aa1fa872d"
      },
      "source": [
        "datasets = {}\n",
        "for target in TARGETS:\n",
        "  compras = get_compras(df, target)\n",
        "  compras = clean_compras(compras, df)\n",
        "  pool_no_compras = df[df[\"em_acount\"] == 0].groupby(\"pk_cid\")[\"pk_partition\"].min().reset_index().set_index(\"pk_cid\")\n",
        "  pool_no_compras = clean_no_compras(compras, pool_no_compras)\n",
        "  pool_no_compras[\"compra\"] = 0\n",
        "  dataset_target = pd.DataFrame(columns=[\"pk_partition\"])\n",
        "  for month in DATES[1:-1]:\n",
        "    compras_month, no_compras_clean = get_month_subset(compras, pool_no_compras, month)\n",
        "    sample_size = int(9 * compras_month.shape[0])\n",
        "    if sample_size <= no_compras_clean.shape[0]:\n",
        "      no_compras_sample = no_compras_clean.sample(sample_size)\n",
        "      pool_no_compras = pool_no_compras.drop(no_compras_sample.index, axis=0)\n",
        "      dataset_month = compras_month.append(no_compras_sample)\n",
        "    else:\n",
        "      compras_month_sample = compras_month.sample(int(1/9 * no_compras_clean.shape[0]))\n",
        "      pool_no_compras = pool_no_compras.drop(no_compras_clean.index, axis=0)\n",
        "      dataset_month = compras_month_sample.append(no_compras_clean)\n",
        "    \n",
        "    dataset_target = dataset_target.append(dataset_month)\n",
        "  \n",
        "  datasets[target] = dataset_target\n"
      ],
      "execution_count": 46,
      "outputs": [
        {
          "output_type": "stream",
          "text": [
            "(966, 2)\n",
            "(8694, 2)\n",
            "(473, 2)\n",
            "(4257, 2)\n",
            "(430, 2)\n",
            "(3870, 2)\n",
            "(2238, 2)\n",
            "(3870, 2)\n",
            "(337, 2)\n",
            "(3870, 2)\n",
            "(3435, 2)\n",
            "(30915, 2)\n",
            "(1811, 2)\n",
            "(16299, 2)\n",
            "(3114, 2)\n",
            "(28026, 2)\n",
            "(2327, 2)\n",
            "(28026, 2)\n",
            "(3463, 2)\n",
            "(28026, 2)\n",
            "(1564, 2)\n",
            "(28026, 2)\n",
            "(1510, 2)\n",
            "(28026, 2)\n",
            "(1777, 2)\n",
            "(28026, 2)\n",
            "(1363, 2)\n",
            "(28026, 2)\n",
            "(1285, 2)\n",
            "(28026, 2)\n",
            "(3931, 2)\n",
            "(28026, 2)\n",
            "(2492, 2)\n",
            "(28026, 2)\n",
            "(1860, 2)\n",
            "(28026, 2)\n",
            "(1841, 2)\n",
            "(28026, 2)\n",
            "(1928, 2)\n",
            "(28026, 2)\n",
            "(1936, 2)\n",
            "(17424, 2)\n",
            "(2484, 2)\n",
            "(22356, 2)\n",
            "(3386, 2)\n",
            "(30474, 2)\n",
            "(2862, 2)\n",
            "(25758, 2)\n",
            "(2436, 2)\n",
            "(25758, 2)\n",
            "(2129, 2)\n",
            "(25758, 2)\n",
            "(2469, 2)\n",
            "(25758, 2)\n",
            "(2518, 2)\n",
            "(25758, 2)\n",
            "(2084, 2)\n",
            "(25758, 2)\n",
            "(2002, 2)\n",
            "(25758, 2)\n",
            "(1617, 2)\n",
            "(25758, 2)\n",
            "(1369, 2)\n",
            "(25758, 2)\n",
            "(1374, 2)\n",
            "(25758, 2)\n",
            "(1284, 2)\n",
            "(25758, 2)\n",
            "(1455, 2)\n",
            "(25758, 2)\n",
            "(1444, 2)\n",
            "(12996, 2)\n",
            "(1095, 2)\n",
            "(9855, 2)\n",
            "(1319, 2)\n",
            "(11871, 2)\n",
            "(2030, 2)\n",
            "(18270, 2)\n",
            "(2229, 2)\n",
            "(20061, 2)\n",
            "(1746, 2)\n",
            "(15714, 2)\n",
            "(1748, 2)\n",
            "(15732, 2)\n",
            "(1680, 2)\n",
            "(15120, 2)\n",
            "(1861, 2)\n",
            "(15120, 2)\n",
            "(2257, 2)\n",
            "(15120, 2)\n",
            "(2216, 2)\n",
            "(15120, 2)\n",
            "(1424, 2)\n",
            "(15120, 2)\n",
            "(1332, 2)\n",
            "(15120, 2)\n",
            "(1488, 2)\n",
            "(15120, 2)\n",
            "(2036, 2)\n",
            "(15120, 2)\n",
            "(1549, 2)\n",
            "(13941, 2)\n",
            "(1451, 2)\n",
            "(13059, 2)\n",
            "(1736, 2)\n",
            "(15624, 2)\n",
            "(1509, 2)\n",
            "(13581, 2)\n",
            "(1618, 2)\n",
            "(14562, 2)\n",
            "(1136, 2)\n",
            "(10224, 2)\n",
            "(1263, 2)\n",
            "(11367, 2)\n",
            "(1208, 2)\n",
            "(10872, 2)\n",
            "(1122, 2)\n",
            "(10098, 2)\n",
            "(1184, 2)\n",
            "(10656, 2)\n",
            "(699, 2)\n",
            "(6291, 2)\n",
            "(462, 2)\n",
            "(4158, 2)\n",
            "(392, 2)\n",
            "(3528, 2)\n",
            "(413, 2)\n",
            "(3717, 2)\n",
            "(391, 2)\n",
            "(3519, 2)\n",
            "(345, 2)\n",
            "(3105, 2)\n",
            "(297, 2)\n",
            "(2673, 2)\n",
            "(304, 2)\n",
            "(2736, 2)\n",
            "(264, 2)\n",
            "(2376, 2)\n",
            "(224, 2)\n",
            "(2016, 2)\n",
            "(224, 2)\n",
            "(2016, 2)\n",
            "(248, 2)\n",
            "(2232, 2)\n",
            "(246, 2)\n",
            "(2214, 2)\n",
            "(238, 2)\n",
            "(2142, 2)\n",
            "(249, 2)\n",
            "(2241, 2)\n"
          ],
          "name": "stdout"
        }
      ]
    },
    {
      "cell_type": "code",
      "metadata": {
        "id": "377v02gxuaUG"
      },
      "source": [
        "test = datasets[\"em_acount\"]"
      ],
      "execution_count": 47,
      "outputs": []
    },
    {
      "cell_type": "code",
      "metadata": {
        "id": "_omAzp89TuLd",
        "outputId": "00835383-a9b0-41b5-bb7c-9afdfe29d5f8",
        "colab": {
          "base_uri": "https://localhost:8080/",
          "height": 439
        }
      },
      "source": [
        "pd.merge(test, df, left_on=[test.index, \"pk_partition\"], right_on=[\"pk_cid\", \"pk_partition\"], how=\"left\")"
      ],
      "execution_count": 48,
      "outputs": [
        {
          "output_type": "execute_result",
          "data": {
            "text/html": [
              "<div>\n",
              "<style scoped>\n",
              "    .dataframe tbody tr th:only-of-type {\n",
              "        vertical-align: middle;\n",
              "    }\n",
              "\n",
              "    .dataframe tbody tr th {\n",
              "        vertical-align: top;\n",
              "    }\n",
              "\n",
              "    .dataframe thead th {\n",
              "        text-align: right;\n",
              "    }\n",
              "</style>\n",
              "<table border=\"1\" class=\"dataframe\">\n",
              "  <thead>\n",
              "    <tr style=\"text-align: right;\">\n",
              "      <th></th>\n",
              "      <th>pk_partition</th>\n",
              "      <th>compra</th>\n",
              "      <th>pk_cid</th>\n",
              "      <th>debit_card</th>\n",
              "      <th>em_acount</th>\n",
              "      <th>active_customer</th>\n",
              "      <th>country_id</th>\n",
              "      <th>region_code</th>\n",
              "      <th>gender</th>\n",
              "      <th>age</th>\n",
              "      <th>salary</th>\n",
              "      <th>cuentas</th>\n",
              "      <th>ahorro_inversion</th>\n",
              "      <th>financiacion</th>\n",
              "      <th>entry_year</th>\n",
              "      <th>entry_month</th>\n",
              "      <th>entry_day</th>\n",
              "      <th>entry_week</th>\n",
              "      <th>entry_weekday</th>\n",
              "      <th>entry_quarter</th>\n",
              "      <th>entry_channel_KHE</th>\n",
              "      <th>entry_channel_KFC</th>\n",
              "      <th>entry_channel_KHQ</th>\n",
              "      <th>entry_channel_KAT</th>\n",
              "      <th>entry_channel_KHK</th>\n",
              "      <th>entry_channel_KHM</th>\n",
              "      <th>entry_channel_Unknown</th>\n",
              "      <th>entry_channel_KHN</th>\n",
              "      <th>entry_channel_Others</th>\n",
              "    </tr>\n",
              "  </thead>\n",
              "  <tbody>\n",
              "    <tr>\n",
              "      <th>0</th>\n",
              "      <td>2018-02-28</td>\n",
              "      <td>1.0</td>\n",
              "      <td>39997</td>\n",
              "      <td>0</td>\n",
              "      <td>0</td>\n",
              "      <td>1.0</td>\n",
              "      <td>15</td>\n",
              "      <td>288968.0</td>\n",
              "      <td>0</td>\n",
              "      <td>62</td>\n",
              "      <td>201575.01</td>\n",
              "      <td>0</td>\n",
              "      <td>1.0</td>\n",
              "      <td>0</td>\n",
              "      <td>2018</td>\n",
              "      <td>1</td>\n",
              "      <td>2</td>\n",
              "      <td>1</td>\n",
              "      <td>1</td>\n",
              "      <td>1</td>\n",
              "      <td>0</td>\n",
              "      <td>0</td>\n",
              "      <td>0</td>\n",
              "      <td>1</td>\n",
              "      <td>0</td>\n",
              "      <td>0</td>\n",
              "      <td>0</td>\n",
              "      <td>0</td>\n",
              "      <td>0</td>\n",
              "    </tr>\n",
              "    <tr>\n",
              "      <th>1</th>\n",
              "      <td>2018-02-28</td>\n",
              "      <td>1.0</td>\n",
              "      <td>55712</td>\n",
              "      <td>0</td>\n",
              "      <td>0</td>\n",
              "      <td>1.0</td>\n",
              "      <td>15</td>\n",
              "      <td>1162770.0</td>\n",
              "      <td>1</td>\n",
              "      <td>59</td>\n",
              "      <td>183352.59</td>\n",
              "      <td>0</td>\n",
              "      <td>1.0</td>\n",
              "      <td>0</td>\n",
              "      <td>2017</td>\n",
              "      <td>12</td>\n",
              "      <td>18</td>\n",
              "      <td>51</td>\n",
              "      <td>0</td>\n",
              "      <td>4</td>\n",
              "      <td>0</td>\n",
              "      <td>0</td>\n",
              "      <td>0</td>\n",
              "      <td>0</td>\n",
              "      <td>0</td>\n",
              "      <td>0</td>\n",
              "      <td>0</td>\n",
              "      <td>0</td>\n",
              "      <td>1</td>\n",
              "    </tr>\n",
              "    <tr>\n",
              "      <th>2</th>\n",
              "      <td>2018-02-28</td>\n",
              "      <td>1.0</td>\n",
              "      <td>97322</td>\n",
              "      <td>1</td>\n",
              "      <td>0</td>\n",
              "      <td>1.0</td>\n",
              "      <td>15</td>\n",
              "      <td>1162770.0</td>\n",
              "      <td>0</td>\n",
              "      <td>38</td>\n",
              "      <td>385518.33</td>\n",
              "      <td>1</td>\n",
              "      <td>1.0</td>\n",
              "      <td>1</td>\n",
              "      <td>2015</td>\n",
              "      <td>11</td>\n",
              "      <td>23</td>\n",
              "      <td>48</td>\n",
              "      <td>0</td>\n",
              "      <td>4</td>\n",
              "      <td>0</td>\n",
              "      <td>0</td>\n",
              "      <td>0</td>\n",
              "      <td>0</td>\n",
              "      <td>0</td>\n",
              "      <td>0</td>\n",
              "      <td>0</td>\n",
              "      <td>0</td>\n",
              "      <td>1</td>\n",
              "    </tr>\n",
              "    <tr>\n",
              "      <th>3</th>\n",
              "      <td>2018-02-28</td>\n",
              "      <td>1.0</td>\n",
              "      <td>138411</td>\n",
              "      <td>1</td>\n",
              "      <td>0</td>\n",
              "      <td>1.0</td>\n",
              "      <td>15</td>\n",
              "      <td>1162770.0</td>\n",
              "      <td>0</td>\n",
              "      <td>48</td>\n",
              "      <td>89954.76</td>\n",
              "      <td>0</td>\n",
              "      <td>0.0</td>\n",
              "      <td>1</td>\n",
              "      <td>2016</td>\n",
              "      <td>2</td>\n",
              "      <td>18</td>\n",
              "      <td>7</td>\n",
              "      <td>3</td>\n",
              "      <td>1</td>\n",
              "      <td>0</td>\n",
              "      <td>0</td>\n",
              "      <td>0</td>\n",
              "      <td>1</td>\n",
              "      <td>0</td>\n",
              "      <td>0</td>\n",
              "      <td>0</td>\n",
              "      <td>0</td>\n",
              "      <td>0</td>\n",
              "    </tr>\n",
              "    <tr>\n",
              "      <th>4</th>\n",
              "      <td>2018-02-28</td>\n",
              "      <td>1.0</td>\n",
              "      <td>177044</td>\n",
              "      <td>0</td>\n",
              "      <td>0</td>\n",
              "      <td>1.0</td>\n",
              "      <td>15</td>\n",
              "      <td>1162770.0</td>\n",
              "      <td>1</td>\n",
              "      <td>59</td>\n",
              "      <td>143059.50</td>\n",
              "      <td>0</td>\n",
              "      <td>1.0</td>\n",
              "      <td>0</td>\n",
              "      <td>2017</td>\n",
              "      <td>9</td>\n",
              "      <td>12</td>\n",
              "      <td>37</td>\n",
              "      <td>1</td>\n",
              "      <td>3</td>\n",
              "      <td>0</td>\n",
              "      <td>0</td>\n",
              "      <td>0</td>\n",
              "      <td>0</td>\n",
              "      <td>0</td>\n",
              "      <td>0</td>\n",
              "      <td>0</td>\n",
              "      <td>0</td>\n",
              "      <td>1</td>\n",
              "    </tr>\n",
              "    <tr>\n",
              "      <th>...</th>\n",
              "      <td>...</td>\n",
              "      <td>...</td>\n",
              "      <td>...</td>\n",
              "      <td>...</td>\n",
              "      <td>...</td>\n",
              "      <td>...</td>\n",
              "      <td>...</td>\n",
              "      <td>...</td>\n",
              "      <td>...</td>\n",
              "      <td>...</td>\n",
              "      <td>...</td>\n",
              "      <td>...</td>\n",
              "      <td>...</td>\n",
              "      <td>...</td>\n",
              "      <td>...</td>\n",
              "      <td>...</td>\n",
              "      <td>...</td>\n",
              "      <td>...</td>\n",
              "      <td>...</td>\n",
              "      <td>...</td>\n",
              "      <td>...</td>\n",
              "      <td>...</td>\n",
              "      <td>...</td>\n",
              "      <td>...</td>\n",
              "      <td>...</td>\n",
              "      <td>...</td>\n",
              "      <td>...</td>\n",
              "      <td>...</td>\n",
              "      <td>...</td>\n",
              "    </tr>\n",
              "    <tr>\n",
              "      <th>149281</th>\n",
              "      <td>2019-04-28</td>\n",
              "      <td>0.0</td>\n",
              "      <td>1548193</td>\n",
              "      <td>0</td>\n",
              "      <td>0</td>\n",
              "      <td>0.0</td>\n",
              "      <td>15</td>\n",
              "      <td>30978.0</td>\n",
              "      <td>1</td>\n",
              "      <td>87</td>\n",
              "      <td>-9999.00</td>\n",
              "      <td>0</td>\n",
              "      <td>0.0</td>\n",
              "      <td>0</td>\n",
              "      <td>2019</td>\n",
              "      <td>4</td>\n",
              "      <td>29</td>\n",
              "      <td>18</td>\n",
              "      <td>0</td>\n",
              "      <td>2</td>\n",
              "      <td>0</td>\n",
              "      <td>0</td>\n",
              "      <td>0</td>\n",
              "      <td>0</td>\n",
              "      <td>0</td>\n",
              "      <td>0</td>\n",
              "      <td>1</td>\n",
              "      <td>0</td>\n",
              "      <td>0</td>\n",
              "    </tr>\n",
              "    <tr>\n",
              "      <th>149282</th>\n",
              "      <td>2019-04-28</td>\n",
              "      <td>0.0</td>\n",
              "      <td>1548198</td>\n",
              "      <td>0</td>\n",
              "      <td>0</td>\n",
              "      <td>0.0</td>\n",
              "      <td>15</td>\n",
              "      <td>1162770.0</td>\n",
              "      <td>0</td>\n",
              "      <td>50</td>\n",
              "      <td>-9999.00</td>\n",
              "      <td>0</td>\n",
              "      <td>0.0</td>\n",
              "      <td>0</td>\n",
              "      <td>2019</td>\n",
              "      <td>4</td>\n",
              "      <td>29</td>\n",
              "      <td>18</td>\n",
              "      <td>0</td>\n",
              "      <td>2</td>\n",
              "      <td>0</td>\n",
              "      <td>0</td>\n",
              "      <td>0</td>\n",
              "      <td>0</td>\n",
              "      <td>0</td>\n",
              "      <td>0</td>\n",
              "      <td>1</td>\n",
              "      <td>0</td>\n",
              "      <td>0</td>\n",
              "    </tr>\n",
              "    <tr>\n",
              "      <th>149283</th>\n",
              "      <td>2019-04-28</td>\n",
              "      <td>0.0</td>\n",
              "      <td>1548204</td>\n",
              "      <td>0</td>\n",
              "      <td>0</td>\n",
              "      <td>0.0</td>\n",
              "      <td>15</td>\n",
              "      <td>598170.0</td>\n",
              "      <td>0</td>\n",
              "      <td>54</td>\n",
              "      <td>-9999.00</td>\n",
              "      <td>0</td>\n",
              "      <td>0.0</td>\n",
              "      <td>0</td>\n",
              "      <td>2019</td>\n",
              "      <td>4</td>\n",
              "      <td>29</td>\n",
              "      <td>18</td>\n",
              "      <td>0</td>\n",
              "      <td>2</td>\n",
              "      <td>0</td>\n",
              "      <td>0</td>\n",
              "      <td>0</td>\n",
              "      <td>0</td>\n",
              "      <td>0</td>\n",
              "      <td>0</td>\n",
              "      <td>1</td>\n",
              "      <td>0</td>\n",
              "      <td>0</td>\n",
              "    </tr>\n",
              "    <tr>\n",
              "      <th>149284</th>\n",
              "      <td>2019-04-28</td>\n",
              "      <td>0.0</td>\n",
              "      <td>1548206</td>\n",
              "      <td>0</td>\n",
              "      <td>0</td>\n",
              "      <td>0.0</td>\n",
              "      <td>15</td>\n",
              "      <td>1162770.0</td>\n",
              "      <td>1</td>\n",
              "      <td>40</td>\n",
              "      <td>-9999.00</td>\n",
              "      <td>0</td>\n",
              "      <td>0.0</td>\n",
              "      <td>0</td>\n",
              "      <td>2019</td>\n",
              "      <td>4</td>\n",
              "      <td>29</td>\n",
              "      <td>18</td>\n",
              "      <td>0</td>\n",
              "      <td>2</td>\n",
              "      <td>0</td>\n",
              "      <td>0</td>\n",
              "      <td>0</td>\n",
              "      <td>0</td>\n",
              "      <td>0</td>\n",
              "      <td>0</td>\n",
              "      <td>1</td>\n",
              "      <td>0</td>\n",
              "      <td>0</td>\n",
              "    </tr>\n",
              "    <tr>\n",
              "      <th>149285</th>\n",
              "      <td>2019-04-28</td>\n",
              "      <td>0.0</td>\n",
              "      <td>1548207</td>\n",
              "      <td>0</td>\n",
              "      <td>0</td>\n",
              "      <td>0.0</td>\n",
              "      <td>15</td>\n",
              "      <td>598170.0</td>\n",
              "      <td>0</td>\n",
              "      <td>32</td>\n",
              "      <td>-9999.00</td>\n",
              "      <td>0</td>\n",
              "      <td>0.0</td>\n",
              "      <td>0</td>\n",
              "      <td>2019</td>\n",
              "      <td>4</td>\n",
              "      <td>29</td>\n",
              "      <td>18</td>\n",
              "      <td>0</td>\n",
              "      <td>2</td>\n",
              "      <td>0</td>\n",
              "      <td>0</td>\n",
              "      <td>0</td>\n",
              "      <td>0</td>\n",
              "      <td>0</td>\n",
              "      <td>0</td>\n",
              "      <td>1</td>\n",
              "      <td>0</td>\n",
              "      <td>0</td>\n",
              "    </tr>\n",
              "  </tbody>\n",
              "</table>\n",
              "<p>149286 rows × 29 columns</p>\n",
              "</div>"
            ],
            "text/plain": [
              "       pk_partition  compra  ...  entry_channel_KHN  entry_channel_Others\n",
              "0        2018-02-28     1.0  ...                  0                     0\n",
              "1        2018-02-28     1.0  ...                  0                     1\n",
              "2        2018-02-28     1.0  ...                  0                     1\n",
              "3        2018-02-28     1.0  ...                  0                     0\n",
              "4        2018-02-28     1.0  ...                  0                     1\n",
              "...             ...     ...  ...                ...                   ...\n",
              "149281   2019-04-28     0.0  ...                  0                     0\n",
              "149282   2019-04-28     0.0  ...                  0                     0\n",
              "149283   2019-04-28     0.0  ...                  0                     0\n",
              "149284   2019-04-28     0.0  ...                  0                     0\n",
              "149285   2019-04-28     0.0  ...                  0                     0\n",
              "\n",
              "[149286 rows x 29 columns]"
            ]
          },
          "metadata": {
            "tags": []
          },
          "execution_count": 0
        }
      ]
    },
    {
      "cell_type": "code",
      "metadata": {
        "colab": {
          "base_uri": "https://localhost:8080/"
        },
        "id": "B1d6rT4_fhCU",
        "outputId": "b4842a5d-13fc-403f-a68c-a0ce8cecfab4"
      },
      "source": [
        "# cruzamos los pk_cid y pk_partition con df para sacar los datos de los clientes en las particiones deseadas\n",
        "for target, dataset in datasets.items():\n",
        "  dataset = dataset.reset_index()\n",
        "  dataset.columns = [\"pk_cid\", \"pk_partition\", \"compra\"]\n",
        "  print(dataset.shape)\n",
        "  datasets[target] = pd.merge(dataset, df, on=[\"pk_cid\", \"pk_partition\"], how=\"left\")\n",
        "  # creamos copia de lista de targets y eliminamos el target actual de la lista\n",
        "  # borramos los demás targets del dataset resampleado para mantener un único target\n",
        "  datasets[target] = datasets[target].drop(TARGETS, axis=1)\n",
        "  print(datasets[target].shape)\n",
        "  print(\"\")\n"
      ],
      "execution_count": 49,
      "outputs": [
        {
          "output_type": "stream",
          "text": [
            "(149286, 3)\n",
            "(149286, 24)\n",
            "\n",
            "(166518, 3)\n",
            "(166518, 24)\n",
            "\n",
            "(156236, 3)\n",
            "(156236, 24)\n",
            "\n",
            "(156076, 3)\n",
            "(156076, 24)\n",
            "\n",
            "(49960, 3)\n",
            "(49960, 24)\n",
            "\n"
          ],
          "name": "stdout"
        }
      ]
    },
    {
      "cell_type": "code",
      "metadata": {
        "id": "jvYLuP9E4KF5"
      },
      "source": [
        "# guardar los datasets en pkl para no tener que calcularlos cada vez\n",
        "for target, dataset in datasets.items():\n",
        "  file_name = f\"{target}_df.pkl\"\n",
        "  dataset.to_pickle(f\"/content/gdrive/MyDrive/EASY_MONEY_NUCLIO/recomendacion/{file_name}\")"
      ],
      "execution_count": 50,
      "outputs": []
    },
    {
      "cell_type": "markdown",
      "metadata": {
        "id": "pO0tVcrMiU9j"
      },
      "source": [
        "# Load Pickles"
      ]
    },
    {
      "cell_type": "code",
      "metadata": {
        "id": "RW6LJ0jdhwNn"
      },
      "source": [
        "# cargamos los pickles\n",
        "FILES = os.listdir(\"/content/gdrive/MyDrive/EASY_MONEY_NUCLIO/recomendacion/\")\n",
        "DATASETS = {}\n",
        "for file_name in FILES:\n",
        "  target, _ = file_name.split(\"_df.pkl\")\n",
        "  DATASETS[target] = pd.read_pickle(f\"/content/gdrive/MyDrive/EASY_MONEY_NUCLIO/recomendacion/{file_name}\")"
      ],
      "execution_count": 51,
      "outputs": []
    },
    {
      "cell_type": "code",
      "metadata": {
        "colab": {
          "base_uri": "https://localhost:8080/"
        },
        "id": "_T0fGiV8iAMd",
        "outputId": "eeaf5e38-6f57-4f47-9e96-4d9706c97150"
      },
      "source": [
        "# miramos que el target este bien balanceado (en el total)\n",
        "for target, dataset in DATASETS.items():\n",
        "  print(target)\n",
        "  try:\n",
        "    print(dataset[\"compra\"].value_counts(dropna=False))\n",
        "    print(\"\")\n",
        "  except:\n",
        "    continue"
      ],
      "execution_count": 58,
      "outputs": [
        {
          "output_type": "stream",
          "text": [
            "em_acount\n",
            "0.0    134362\n",
            "1.0     14924\n",
            "Name: compra, dtype: int64\n",
            "\n",
            "financiacion\n",
            "0.0    44964\n",
            "1.0     4996\n",
            "Name: compra, dtype: int64\n",
            "\n",
            "debit_card\n",
            "0.0    149871\n",
            "1.0     16647\n",
            "Name: compra, dtype: int64\n",
            "\n",
            "cuentas\n",
            "0.0    140616\n",
            "1.0     15620\n",
            "Name: compra, dtype: int64\n",
            "\n",
            "ahorro_inversion\n",
            "0.0    140471\n",
            "1.0     15605\n",
            "Name: compra, dtype: int64\n",
            "\n"
          ],
          "name": "stdout"
        }
      ]
    },
    {
      "cell_type": "code",
      "metadata": {
        "id": "pogaoz6EI6RX"
      },
      "source": [
        "# validaremos con las los clientes de abril (compras de mayo)"
      ],
      "execution_count": null,
      "outputs": []
    },
    {
      "cell_type": "code",
      "metadata": {
        "id": "yBVhD8wrDP_R"
      },
      "source": [
        "# mirar correlación variables"
      ],
      "execution_count": null,
      "outputs": []
    },
    {
      "cell_type": "markdown",
      "metadata": {
        "id": "cO6SkL36kCjZ"
      },
      "source": [
        "# Modelling"
      ]
    },
    {
      "cell_type": "code",
      "metadata": {
        "id": "yR9PiwI-lV7W"
      },
      "source": [
        "model = MultiOutputClassifier(xgb.XGBClassifier(\n",
        "    max_depth=4,\n",
        "    min_samples_leaf = 200,\n",
        "    random_state=RANDOM_STATE\n",
        "))"
      ],
      "execution_count": null,
      "outputs": []
    },
    {
      "cell_type": "code",
      "metadata": {
        "id": "5_mDhk1rm5gC"
      },
      "source": [
        "model.fit(X_train, y_train)"
      ],
      "execution_count": null,
      "outputs": []
    },
    {
      "cell_type": "code",
      "metadata": {
        "id": "rQ_p5KkInDC6"
      },
      "source": [
        "y_train_pred = dt.predict(X_train)\n",
        "y_train_score = dt.predict_proba(X_train)[:,1]\n",
        "\n",
        "#Predict the response for test dataset\n",
        "y_pred = dt.predict(X_test)\n",
        "y_test_score = dt.predict_proba(X_test)[:,1]"
      ],
      "execution_count": null,
      "outputs": []
    },
    {
      "cell_type": "code",
      "metadata": {
        "id": "SLLeWeMcDSxy"
      },
      "source": [
        "# probar meter la columna del indicador del cluster de la primera segmentación"
      ],
      "execution_count": null,
      "outputs": []
    }
  ]
}