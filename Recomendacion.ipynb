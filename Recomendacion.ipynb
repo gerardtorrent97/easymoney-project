{
  "nbformat": 4,
  "nbformat_minor": 0,
  "metadata": {
    "colab": {
      "name": "Recomendacion.ipynb",
      "provenance": [],
      "mount_file_id": "10RZkkm93zBkR9_ZL3KEX6tVY_6PTygtf",
      "authorship_tag": "ABX9TyMZOg/cJOCMHkjh5E6HQqUf"
    },
    "kernelspec": {
      "name": "python3",
      "display_name": "Python 3"
    },
    "language_info": {
      "name": "python"
    }
  },
  "cells": [
    {
      "cell_type": "markdown",
      "metadata": {
        "id": "s5YJyqugEd0V"
      },
      "source": [
        "## Import Libraries"
      ]
    },
    {
      "cell_type": "code",
      "metadata": {
        "id": "OG4onfzbEgV3"
      },
      "source": [
        "import os\n",
        "import warnings\n",
        "\n",
        "import scipy as sp\n",
        "\n",
        "import matplotlib.pyplot as plt\n",
        "import seaborn as sns\n",
        "\n",
        "import numpy as np\n",
        "import pandas as pd\n",
        "\n",
        "from sklearn.preprocessing import LabelEncoder\n",
        "\n",
        "from sklearn.metrics.pairwise import cosine_similarity\n",
        "from sklearn.model_selection import train_test_split\n",
        "\n",
        "import xgboost as xgb\n",
        "\n",
        "from google.colab import drive"
      ],
      "execution_count": 1,
      "outputs": []
    },
    {
      "cell_type": "code",
      "metadata": {
        "id": "1dd5xddZE6FK"
      },
      "source": [
        "warnings.filterwarnings(\"ignore\")\n",
        "plt.style.use('ggplot')\n",
        "%matplotlib inline"
      ],
      "execution_count": 2,
      "outputs": []
    },
    {
      "cell_type": "code",
      "metadata": {
        "colab": {
          "base_uri": "https://localhost:8080/"
        },
        "id": "3llI4dQLFV_W",
        "outputId": "cce95bfe-ea04-4066-ee4c-7c30c0dc6e16"
      },
      "source": [
        "drive.mount(\"/content/gdrive\")"
      ],
      "execution_count": 3,
      "outputs": [
        {
          "output_type": "stream",
          "text": [
            "Drive already mounted at /content/gdrive; to attempt to forcibly remount, call drive.mount(\"/content/gdrive\", force_remount=True).\n"
          ],
          "name": "stdout"
        }
      ]
    },
    {
      "cell_type": "code",
      "metadata": {
        "id": "qi4ZA41Kk6LF"
      },
      "source": [
        "RANDOM_STATE = 42"
      ],
      "execution_count": 4,
      "outputs": []
    },
    {
      "cell_type": "markdown",
      "metadata": {
        "id": "MFoMTrq6GPzP"
      },
      "source": [
        "## Load Data"
      ]
    },
    {
      "cell_type": "code",
      "metadata": {
        "id": "LB068ZozFgFT"
      },
      "source": [
        "DATA_PATH = \"gdrive/MyDrive/EASY_MONEY_NUCLIO/data/\""
      ],
      "execution_count": 5,
      "outputs": []
    },
    {
      "cell_type": "code",
      "metadata": {
        "id": "TqucZz-hYbID"
      },
      "source": [
        "#df = pd.read_pickle(DATA_PATH + \"total_df_segmentado.pkl\")"
      ],
      "execution_count": 6,
      "outputs": []
    },
    {
      "cell_type": "code",
      "metadata": {
        "id": "7bzHT0iZGYBV"
      },
      "source": [
        "df = pd.read_csv(DATA_PATH + \"total_df.csv\", sep=\";\", index_col=0)"
      ],
      "execution_count": 7,
      "outputs": []
    },
    {
      "cell_type": "code",
      "metadata": {
        "id": "dcOk5jD0JeA7"
      },
      "source": [
        "df[\"pk_partition\"] = pd.to_datetime(df[\"pk_partition\"], format=\"%Y-%m-%d\")"
      ],
      "execution_count": 8,
      "outputs": []
    },
    {
      "cell_type": "code",
      "metadata": {
        "id": "zWQiaEF7GjBn"
      },
      "source": [
        "PRODUCTS = [\n",
        "    \"short_term_deposit\",\t\n",
        "    \"loans\",\n",
        "    \"mortgage\",\t\n",
        "    \"funds\",\n",
        "    \"securities\",\n",
        "    \"long_term_deposit\",\t\n",
        "    \"em_account_pp\",\t\n",
        "    \"credit_card\",\t\n",
        "    \"payroll\",\t\n",
        "    \"pension_plan\",\t\n",
        "    \"payroll_account\",\t\n",
        "    \"emc_account\",\t\n",
        "    \"debit_card\",\t\n",
        "    \"em_account_p\",\t\n",
        "    \"em_acount\"\t\n",
        "]\n",
        "\n",
        "PRICE = {\n",
        "    \"Finaciación\": 60,\n",
        "    \"Ahorro/Inversion\": 40,\n",
        "    \"Cuentas\": 10\n",
        "}\n",
        "\n",
        "PRODUCTS_PRICED = {\n",
        "    \"short_term_deposit\": \"Ahorro/Inversion\",\t\n",
        "    \"loans\": \"Finaciación\",\n",
        "    \"mortgage\": \"Finaciación\",\t\n",
        "    \"funds\": \"Ahorro/Inversion\",\n",
        "    \"securities\": \"Ahorro/Inversion\",\n",
        "    \"long_term_deposit\": \"Ahorro/Inversion\",\t\n",
        "    \"em_account_pp\": \"Cuentas\",\t\n",
        "    \"credit_card\": \"Finaciación\",\n",
        "    \"pension_plan\": \"Ahorro/Inversion\",\t\n",
        "    \"payroll_account\": \"Cuentas\",\t\n",
        "    \"emc_account\": \"Cuentas\",\t\n",
        "    \"debit_card\": \"Finaciación\",\t\n",
        "    \"em_account_p\": \"Cuentas\",\t\n",
        "    \"em_acount\": \"Cuentas\"\t\n",
        "}"
      ],
      "execution_count": 9,
      "outputs": []
    },
    {
      "cell_type": "markdown",
      "metadata": {
        "id": "F8-l8tKAL6-S"
      },
      "source": [
        "# EDA"
      ]
    },
    {
      "cell_type": "code",
      "metadata": {
        "colab": {
          "base_uri": "https://localhost:8080/"
        },
        "id": "Hjz6bnHEGs8n",
        "outputId": "deed3afd-0821-4ab0-f354-30ab0cfb7e41"
      },
      "source": [
        "df.isna().sum()"
      ],
      "execution_count": 10,
      "outputs": [
        {
          "output_type": "execute_result",
          "data": {
            "text/plain": [
              "pk_cid                      0\n",
              "pk_partition                0\n",
              "short_term_deposit          0\n",
              "loans                       0\n",
              "mortgage                    0\n",
              "funds                       0\n",
              "securities                  0\n",
              "long_term_deposit           0\n",
              "em_account_pp               0\n",
              "credit_card                 0\n",
              "payroll                    61\n",
              "pension_plan               61\n",
              "payroll_account             0\n",
              "emc_account                 0\n",
              "debit_card                  0\n",
              "em_account_p                0\n",
              "em_acount                   0\n",
              "entry_date                  0\n",
              "entry_channel          133033\n",
              "active_customer             0\n",
              "segment                133944\n",
              "country_id                  0\n",
              "region_code              2264\n",
              "gender                     25\n",
              "age                         0\n",
              "deceased                    0\n",
              "salary                1512103\n",
              "dtype: int64"
            ]
          },
          "metadata": {
            "tags": []
          },
          "execution_count": 10
        }
      ]
    },
    {
      "cell_type": "code",
      "metadata": {
        "colab": {
          "base_uri": "https://localhost:8080/"
        },
        "id": "MuWxed8lMMcr",
        "outputId": "d8e3beae-7f28-4fbf-b5f2-523a33d71de0"
      },
      "source": [
        "df[[\"pk_cid\", \"pk_partition\"]].duplicated().astype(int).sum()"
      ],
      "execution_count": 11,
      "outputs": [
        {
          "output_type": "execute_result",
          "data": {
            "text/plain": [
              "0"
            ]
          },
          "metadata": {
            "tags": []
          },
          "execution_count": 11
        }
      ]
    },
    {
      "cell_type": "markdown",
      "metadata": {
        "id": "kJpEcTNNNHJR"
      },
      "source": [
        "# NaN's"
      ]
    },
    {
      "cell_type": "code",
      "metadata": {
        "id": "frLTZnnKMoHe"
      },
      "source": [
        "df[\"salary\"] = df[\"salary\"].fillna(-9999)"
      ],
      "execution_count": 12,
      "outputs": []
    },
    {
      "cell_type": "code",
      "metadata": {
        "id": "3TemV1JxNeCY"
      },
      "source": [
        "df[\"region_code\"] = df[\"region_code\"].fillna(-99)"
      ],
      "execution_count": 13,
      "outputs": []
    },
    {
      "cell_type": "code",
      "metadata": {
        "id": "lfVhy17wNd6S"
      },
      "source": [
        "df[\"entry_channel\"] = df[\"entry_channel\"].fillna(\"Unknown\")"
      ],
      "execution_count": 14,
      "outputs": []
    },
    {
      "cell_type": "code",
      "metadata": {
        "colab": {
          "base_uri": "https://localhost:8080/"
        },
        "id": "jqv5Ecm8NdyS",
        "outputId": "095ec7e0-d4cf-43f5-cf3d-b2a568c4645a"
      },
      "source": [
        "df[\"pension_plan\"].value_counts(dropna=False)"
      ],
      "execution_count": 15,
      "outputs": [
        {
          "output_type": "execute_result",
          "data": {
            "text/plain": [
              "0.0    5745061\n",
              "1.0     217802\n",
              "NaN         61\n",
              "Name: pension_plan, dtype: int64"
            ]
          },
          "metadata": {
            "tags": []
          },
          "execution_count": 15
        }
      ]
    },
    {
      "cell_type": "code",
      "metadata": {
        "id": "u6c98McsZExQ"
      },
      "source": [
        "df[\"pension_plan\"] = df[\"pension_plan\"].fillna(0.0)"
      ],
      "execution_count": 16,
      "outputs": []
    },
    {
      "cell_type": "code",
      "metadata": {
        "id": "cylaBwMgk6AO",
        "outputId": "532f2e49-a490-45e2-d10a-b599db0e335c",
        "colab": {
          "base_uri": "https://localhost:8080/"
        }
      },
      "source": [
        "df[\"gender\"].value_counts(dropna=False)"
      ],
      "execution_count": 17,
      "outputs": [
        {
          "output_type": "execute_result",
          "data": {
            "text/plain": [
              "H      3087502\n",
              "V      2875397\n",
              "NaN         25\n",
              "Name: gender, dtype: int64"
            ]
          },
          "metadata": {
            "tags": []
          },
          "execution_count": 17
        }
      ]
    },
    {
      "cell_type": "code",
      "metadata": {
        "id": "WWRy5zUul-yX"
      },
      "source": [
        "df[\"gender\"] = df[\"gender\"].fillna(df[\"gender\"].mode().values[0])"
      ],
      "execution_count": 18,
      "outputs": []
    },
    {
      "cell_type": "code",
      "metadata": {
        "id": "j1P43co-pJCF",
        "outputId": "09c76f5d-c2c5-4848-b8e5-f995e86ca652",
        "colab": {
          "base_uri": "https://localhost:8080/"
        }
      },
      "source": [
        "df[\"gender\"].value_counts(dropna=False)"
      ],
      "execution_count": 19,
      "outputs": [
        {
          "output_type": "execute_result",
          "data": {
            "text/plain": [
              "H    3087527\n",
              "V    2875397\n",
              "Name: gender, dtype: int64"
            ]
          },
          "metadata": {
            "tags": []
          },
          "execution_count": 19
        }
      ]
    },
    {
      "cell_type": "code",
      "metadata": {
        "colab": {
          "base_uri": "https://localhost:8080/"
        },
        "id": "H1YNRp30c6Ag",
        "outputId": "816d9ec8-b81f-46da-a82c-8b9e276b33a8"
      },
      "source": [
        "df.isna().sum()"
      ],
      "execution_count": 20,
      "outputs": [
        {
          "output_type": "execute_result",
          "data": {
            "text/plain": [
              "pk_cid                     0\n",
              "pk_partition               0\n",
              "short_term_deposit         0\n",
              "loans                      0\n",
              "mortgage                   0\n",
              "funds                      0\n",
              "securities                 0\n",
              "long_term_deposit          0\n",
              "em_account_pp              0\n",
              "credit_card                0\n",
              "payroll                   61\n",
              "pension_plan               0\n",
              "payroll_account            0\n",
              "emc_account                0\n",
              "debit_card                 0\n",
              "em_account_p               0\n",
              "em_acount                  0\n",
              "entry_date                 0\n",
              "entry_channel              0\n",
              "active_customer            0\n",
              "segment               133944\n",
              "country_id                 0\n",
              "region_code                0\n",
              "gender                     0\n",
              "age                        0\n",
              "deceased                   0\n",
              "salary                     0\n",
              "dtype: int64"
            ]
          },
          "metadata": {
            "tags": []
          },
          "execution_count": 20
        }
      ]
    },
    {
      "cell_type": "markdown",
      "metadata": {
        "id": "k71dJM0UkSCe"
      },
      "source": [
        "# Population Analysis"
      ]
    },
    {
      "cell_type": "code",
      "metadata": {
        "id": "chDKkQtWslaZ",
        "outputId": "65f83dbf-e78b-4137-a70b-d8b0722fdd58",
        "colab": {
          "base_uri": "https://localhost:8080/",
          "height": 146
        }
      },
      "source": [
        "df[df[\"pk_cid\"] == 15891]"
      ],
      "execution_count": 21,
      "outputs": [
        {
          "output_type": "execute_result",
          "data": {
            "text/html": [
              "<div>\n",
              "<style scoped>\n",
              "    .dataframe tbody tr th:only-of-type {\n",
              "        vertical-align: middle;\n",
              "    }\n",
              "\n",
              "    .dataframe tbody tr th {\n",
              "        vertical-align: top;\n",
              "    }\n",
              "\n",
              "    .dataframe thead th {\n",
              "        text-align: right;\n",
              "    }\n",
              "</style>\n",
              "<table border=\"1\" class=\"dataframe\">\n",
              "  <thead>\n",
              "    <tr style=\"text-align: right;\">\n",
              "      <th></th>\n",
              "      <th>pk_cid</th>\n",
              "      <th>pk_partition</th>\n",
              "      <th>short_term_deposit</th>\n",
              "      <th>loans</th>\n",
              "      <th>mortgage</th>\n",
              "      <th>funds</th>\n",
              "      <th>securities</th>\n",
              "      <th>long_term_deposit</th>\n",
              "      <th>em_account_pp</th>\n",
              "      <th>credit_card</th>\n",
              "      <th>payroll</th>\n",
              "      <th>pension_plan</th>\n",
              "      <th>payroll_account</th>\n",
              "      <th>emc_account</th>\n",
              "      <th>debit_card</th>\n",
              "      <th>em_account_p</th>\n",
              "      <th>em_acount</th>\n",
              "      <th>entry_date</th>\n",
              "      <th>entry_channel</th>\n",
              "      <th>active_customer</th>\n",
              "      <th>segment</th>\n",
              "      <th>country_id</th>\n",
              "      <th>region_code</th>\n",
              "      <th>gender</th>\n",
              "      <th>age</th>\n",
              "      <th>deceased</th>\n",
              "      <th>salary</th>\n",
              "    </tr>\n",
              "  </thead>\n",
              "  <tbody>\n",
              "    <tr>\n",
              "      <th>1479563</th>\n",
              "      <td>15891</td>\n",
              "      <td>2018-07-28</td>\n",
              "      <td>0</td>\n",
              "      <td>0</td>\n",
              "      <td>0</td>\n",
              "      <td>0</td>\n",
              "      <td>0</td>\n",
              "      <td>0</td>\n",
              "      <td>0</td>\n",
              "      <td>0</td>\n",
              "      <td>0.0</td>\n",
              "      <td>0.0</td>\n",
              "      <td>0</td>\n",
              "      <td>0</td>\n",
              "      <td>0</td>\n",
              "      <td>0</td>\n",
              "      <td>1</td>\n",
              "      <td>2018-07-28</td>\n",
              "      <td>KAT</td>\n",
              "      <td>1.0</td>\n",
              "      <td>NaN</td>\n",
              "      <td>ES</td>\n",
              "      <td>28.0</td>\n",
              "      <td>H</td>\n",
              "      <td>59</td>\n",
              "      <td>N</td>\n",
              "      <td>-9999.0</td>\n",
              "    </tr>\n",
              "    <tr>\n",
              "      <th>2168122</th>\n",
              "      <td>15891</td>\n",
              "      <td>2018-08-28</td>\n",
              "      <td>0</td>\n",
              "      <td>0</td>\n",
              "      <td>0</td>\n",
              "      <td>0</td>\n",
              "      <td>0</td>\n",
              "      <td>0</td>\n",
              "      <td>0</td>\n",
              "      <td>0</td>\n",
              "      <td>0.0</td>\n",
              "      <td>0.0</td>\n",
              "      <td>0</td>\n",
              "      <td>0</td>\n",
              "      <td>0</td>\n",
              "      <td>0</td>\n",
              "      <td>0</td>\n",
              "      <td>2018-07-28</td>\n",
              "      <td>KAT</td>\n",
              "      <td>0.0</td>\n",
              "      <td>02 - PARTICULARES</td>\n",
              "      <td>ES</td>\n",
              "      <td>28.0</td>\n",
              "      <td>H</td>\n",
              "      <td>59</td>\n",
              "      <td>N</td>\n",
              "      <td>-9999.0</td>\n",
              "    </tr>\n",
              "  </tbody>\n",
              "</table>\n",
              "</div>"
            ],
            "text/plain": [
              "         pk_cid pk_partition  short_term_deposit  ...  age  deceased  salary\n",
              "1479563   15891   2018-07-28                   0  ...   59         N -9999.0\n",
              "2168122   15891   2018-08-28                   0  ...   59         N -9999.0\n",
              "\n",
              "[2 rows x 27 columns]"
            ]
          },
          "metadata": {
            "tags": []
          },
          "execution_count": 21
        }
      ]
    },
    {
      "cell_type": "code",
      "metadata": {
        "id": "7Jzp2oe_sZgu",
        "outputId": "43689260-f2ce-4827-dede-16c99c32bf65",
        "colab": {
          "base_uri": "https://localhost:8080/"
        }
      },
      "source": [
        "for product in PRODUCTS:\n",
        "  _df = df.groupby(\"pk_cid\").agg({\"pk_partition\": \"min\", product: \"max\"})\n",
        "  print(f\"#######{product}#######\")\n",
        "  print(_df[product].value_counts())\n",
        "  print(\"########################\")\n",
        "  print(\"\")"
      ],
      "execution_count": 23,
      "outputs": [
        {
          "output_type": "stream",
          "text": [
            "#######short_term_deposit#######\n",
            "0    451049\n",
            "1      5324\n",
            "Name: short_term_deposit, dtype: int64\n",
            "########################\n",
            "\n",
            "#######loans#######\n",
            "0    456329\n",
            "1        44\n",
            "Name: loans, dtype: int64\n",
            "########################\n",
            "\n",
            "#######mortgage#######\n",
            "0    456348\n",
            "1        25\n",
            "Name: mortgage, dtype: int64\n",
            "########################\n",
            "\n",
            "#######funds#######\n",
            "0    454707\n",
            "1      1666\n",
            "Name: funds, dtype: int64\n",
            "########################\n",
            "\n",
            "#######securities#######\n",
            "0    454284\n",
            "1      2089\n",
            "Name: securities, dtype: int64\n",
            "########################\n",
            "\n",
            "#######long_term_deposit#######\n",
            "0    447262\n",
            "1      9111\n",
            "Name: long_term_deposit, dtype: int64\n",
            "########################\n",
            "\n",
            "#######em_account_pp#######\n",
            "0    456373\n",
            "Name: em_account_pp, dtype: int64\n",
            "########################\n",
            "\n",
            "#######credit_card#######\n",
            "0    447842\n",
            "1      8531\n",
            "Name: credit_card, dtype: int64\n",
            "########################\n",
            "\n",
            "#######payroll#######\n",
            "0.0    429478\n",
            "1.0     26895\n",
            "Name: payroll, dtype: int64\n",
            "########################\n",
            "\n",
            "#######pension_plan#######\n",
            "0.0    428169\n",
            "1.0     28204\n",
            "Name: pension_plan, dtype: int64\n",
            "########################\n",
            "\n",
            "#######payroll_account#######\n",
            "0    424785\n",
            "1     31588\n",
            "Name: payroll_account, dtype: int64\n",
            "########################\n",
            "\n",
            "#######emc_account#######\n",
            "0    428730\n",
            "1     27643\n",
            "Name: emc_account, dtype: int64\n",
            "########################\n",
            "\n",
            "#######debit_card#######\n",
            "0    392837\n",
            "1     63536\n",
            "Name: debit_card, dtype: int64\n",
            "########################\n",
            "\n",
            "#######em_account_p#######\n",
            "0    456371\n",
            "1         2\n",
            "Name: em_account_p, dtype: int64\n",
            "########################\n",
            "\n",
            "#######em_acount#######\n",
            "1    332728\n",
            "0    123645\n",
            "Name: em_acount, dtype: int64\n",
            "########################\n",
            "\n"
          ],
          "name": "stdout"
        }
      ]
    },
    {
      "cell_type": "markdown",
      "metadata": {
        "id": "_2r0a6otdAC_"
      },
      "source": [
        "# Preprocessing"
      ]
    },
    {
      "cell_type": "code",
      "metadata": {
        "colab": {
          "base_uri": "https://localhost:8080/"
        },
        "id": "IH9i10LyI971",
        "outputId": "698f1606-2d39-4b4d-a170-a4ce04adc753"
      },
      "source": [
        "df[\"deceased\"].value_counts()"
      ],
      "execution_count": 26,
      "outputs": [
        {
          "output_type": "execute_result",
          "data": {
            "text/plain": [
              "N    5961849\n",
              "S       1075\n",
              "Name: deceased, dtype: int64"
            ]
          },
          "metadata": {
            "tags": []
          },
          "execution_count": 26
        }
      ]
    },
    {
      "cell_type": "markdown",
      "metadata": {
        "id": "6EJxj7AiNicC"
      },
      "source": [
        "No podemos recomendar productos a clientes que estan muertos, por tanto, filtramos estos clientes."
      ]
    },
    {
      "cell_type": "code",
      "metadata": {
        "id": "smwehGJGNYNq"
      },
      "source": [
        "df = df[df[\"deceased\"] != \"S\"]"
      ],
      "execution_count": 27,
      "outputs": []
    },
    {
      "cell_type": "code",
      "metadata": {
        "id": "3IUolhZdNv7A"
      },
      "source": [
        "df = df[(df[\"age\"] >= 18) & (df[\"age\"] <= 90)]"
      ],
      "execution_count": 28,
      "outputs": []
    },
    {
      "cell_type": "code",
      "metadata": {
        "colab": {
          "base_uri": "https://localhost:8080/",
          "height": 304
        },
        "id": "QWrjPqM8OLEB",
        "outputId": "90db7c5d-7f3e-466c-a272-6fb2f21e86b6"
      },
      "source": [
        "df.head()"
      ],
      "execution_count": 29,
      "outputs": [
        {
          "output_type": "execute_result",
          "data": {
            "text/html": [
              "<div>\n",
              "<style scoped>\n",
              "    .dataframe tbody tr th:only-of-type {\n",
              "        vertical-align: middle;\n",
              "    }\n",
              "\n",
              "    .dataframe tbody tr th {\n",
              "        vertical-align: top;\n",
              "    }\n",
              "\n",
              "    .dataframe thead th {\n",
              "        text-align: right;\n",
              "    }\n",
              "</style>\n",
              "<table border=\"1\" class=\"dataframe\">\n",
              "  <thead>\n",
              "    <tr style=\"text-align: right;\">\n",
              "      <th></th>\n",
              "      <th>pk_cid</th>\n",
              "      <th>pk_partition</th>\n",
              "      <th>short_term_deposit</th>\n",
              "      <th>loans</th>\n",
              "      <th>mortgage</th>\n",
              "      <th>funds</th>\n",
              "      <th>securities</th>\n",
              "      <th>long_term_deposit</th>\n",
              "      <th>em_account_pp</th>\n",
              "      <th>credit_card</th>\n",
              "      <th>payroll</th>\n",
              "      <th>pension_plan</th>\n",
              "      <th>payroll_account</th>\n",
              "      <th>emc_account</th>\n",
              "      <th>debit_card</th>\n",
              "      <th>em_account_p</th>\n",
              "      <th>em_acount</th>\n",
              "      <th>entry_date</th>\n",
              "      <th>entry_channel</th>\n",
              "      <th>active_customer</th>\n",
              "      <th>segment</th>\n",
              "      <th>country_id</th>\n",
              "      <th>region_code</th>\n",
              "      <th>gender</th>\n",
              "      <th>age</th>\n",
              "      <th>deceased</th>\n",
              "      <th>salary</th>\n",
              "    </tr>\n",
              "  </thead>\n",
              "  <tbody>\n",
              "    <tr>\n",
              "      <th>0</th>\n",
              "      <td>1375586</td>\n",
              "      <td>2018-01-28</td>\n",
              "      <td>0</td>\n",
              "      <td>0</td>\n",
              "      <td>0</td>\n",
              "      <td>0</td>\n",
              "      <td>0</td>\n",
              "      <td>0</td>\n",
              "      <td>0</td>\n",
              "      <td>0</td>\n",
              "      <td>0.0</td>\n",
              "      <td>0.0</td>\n",
              "      <td>0</td>\n",
              "      <td>0</td>\n",
              "      <td>0</td>\n",
              "      <td>0</td>\n",
              "      <td>1</td>\n",
              "      <td>2018-01-12</td>\n",
              "      <td>KHL</td>\n",
              "      <td>1.0</td>\n",
              "      <td>02 - PARTICULARES</td>\n",
              "      <td>ES</td>\n",
              "      <td>29.0</td>\n",
              "      <td>H</td>\n",
              "      <td>35</td>\n",
              "      <td>N</td>\n",
              "      <td>87218.10</td>\n",
              "    </tr>\n",
              "    <tr>\n",
              "      <th>1</th>\n",
              "      <td>1050611</td>\n",
              "      <td>2018-01-28</td>\n",
              "      <td>0</td>\n",
              "      <td>0</td>\n",
              "      <td>0</td>\n",
              "      <td>0</td>\n",
              "      <td>0</td>\n",
              "      <td>0</td>\n",
              "      <td>0</td>\n",
              "      <td>0</td>\n",
              "      <td>0.0</td>\n",
              "      <td>0.0</td>\n",
              "      <td>0</td>\n",
              "      <td>0</td>\n",
              "      <td>0</td>\n",
              "      <td>0</td>\n",
              "      <td>1</td>\n",
              "      <td>2015-08-10</td>\n",
              "      <td>KHE</td>\n",
              "      <td>0.0</td>\n",
              "      <td>03 - UNIVERSITARIO</td>\n",
              "      <td>ES</td>\n",
              "      <td>13.0</td>\n",
              "      <td>V</td>\n",
              "      <td>23</td>\n",
              "      <td>N</td>\n",
              "      <td>35548.74</td>\n",
              "    </tr>\n",
              "    <tr>\n",
              "      <th>2</th>\n",
              "      <td>1050612</td>\n",
              "      <td>2018-01-28</td>\n",
              "      <td>0</td>\n",
              "      <td>0</td>\n",
              "      <td>0</td>\n",
              "      <td>0</td>\n",
              "      <td>0</td>\n",
              "      <td>0</td>\n",
              "      <td>0</td>\n",
              "      <td>0</td>\n",
              "      <td>0.0</td>\n",
              "      <td>0.0</td>\n",
              "      <td>0</td>\n",
              "      <td>0</td>\n",
              "      <td>0</td>\n",
              "      <td>0</td>\n",
              "      <td>1</td>\n",
              "      <td>2015-08-10</td>\n",
              "      <td>KHE</td>\n",
              "      <td>0.0</td>\n",
              "      <td>03 - UNIVERSITARIO</td>\n",
              "      <td>ES</td>\n",
              "      <td>13.0</td>\n",
              "      <td>V</td>\n",
              "      <td>23</td>\n",
              "      <td>N</td>\n",
              "      <td>122179.11</td>\n",
              "    </tr>\n",
              "    <tr>\n",
              "      <th>3</th>\n",
              "      <td>1050613</td>\n",
              "      <td>2018-01-28</td>\n",
              "      <td>1</td>\n",
              "      <td>0</td>\n",
              "      <td>0</td>\n",
              "      <td>0</td>\n",
              "      <td>0</td>\n",
              "      <td>0</td>\n",
              "      <td>0</td>\n",
              "      <td>0</td>\n",
              "      <td>0.0</td>\n",
              "      <td>0.0</td>\n",
              "      <td>0</td>\n",
              "      <td>0</td>\n",
              "      <td>0</td>\n",
              "      <td>0</td>\n",
              "      <td>0</td>\n",
              "      <td>2015-08-10</td>\n",
              "      <td>KHD</td>\n",
              "      <td>0.0</td>\n",
              "      <td>03 - UNIVERSITARIO</td>\n",
              "      <td>ES</td>\n",
              "      <td>50.0</td>\n",
              "      <td>H</td>\n",
              "      <td>22</td>\n",
              "      <td>N</td>\n",
              "      <td>119775.54</td>\n",
              "    </tr>\n",
              "    <tr>\n",
              "      <th>4</th>\n",
              "      <td>1050614</td>\n",
              "      <td>2018-01-28</td>\n",
              "      <td>0</td>\n",
              "      <td>0</td>\n",
              "      <td>0</td>\n",
              "      <td>0</td>\n",
              "      <td>0</td>\n",
              "      <td>0</td>\n",
              "      <td>0</td>\n",
              "      <td>0</td>\n",
              "      <td>0.0</td>\n",
              "      <td>0.0</td>\n",
              "      <td>0</td>\n",
              "      <td>0</td>\n",
              "      <td>0</td>\n",
              "      <td>0</td>\n",
              "      <td>1</td>\n",
              "      <td>2015-08-10</td>\n",
              "      <td>KHE</td>\n",
              "      <td>1.0</td>\n",
              "      <td>03 - UNIVERSITARIO</td>\n",
              "      <td>ES</td>\n",
              "      <td>50.0</td>\n",
              "      <td>V</td>\n",
              "      <td>23</td>\n",
              "      <td>N</td>\n",
              "      <td>-9999.00</td>\n",
              "    </tr>\n",
              "  </tbody>\n",
              "</table>\n",
              "</div>"
            ],
            "text/plain": [
              "    pk_cid pk_partition  short_term_deposit  ...  age  deceased     salary\n",
              "0  1375586   2018-01-28                   0  ...   35         N   87218.10\n",
              "1  1050611   2018-01-28                   0  ...   23         N   35548.74\n",
              "2  1050612   2018-01-28                   0  ...   23         N  122179.11\n",
              "3  1050613   2018-01-28                   1  ...   22         N  119775.54\n",
              "4  1050614   2018-01-28                   0  ...   23         N   -9999.00\n",
              "\n",
              "[5 rows x 27 columns]"
            ]
          },
          "metadata": {
            "tags": []
          },
          "execution_count": 29
        }
      ]
    },
    {
      "cell_type": "code",
      "metadata": {
        "id": "iGm495lEQEdm"
      },
      "source": [
        "# cols_to_drop = [\"entry_date\", \"segment\", \"deceased\", \"payroll\", \"gender\", \"ConProducto\"]\n",
        "cols_to_drop = [\"segment\", \"deceased\", \"payroll\"]\n",
        "df = df.drop(cols_to_drop, axis=1)"
      ],
      "execution_count": 30,
      "outputs": []
    },
    {
      "cell_type": "code",
      "metadata": {
        "colab": {
          "base_uri": "https://localhost:8080/"
        },
        "id": "t3siVW_rQoLM",
        "outputId": "7d2ac855-3e56-462c-86b3-c005ca341d13"
      },
      "source": [
        "print(df.shape)\n",
        "print(df.columns)"
      ],
      "execution_count": 31,
      "outputs": [
        {
          "output_type": "stream",
          "text": [
            "(5921197, 24)\n",
            "Index(['pk_cid', 'pk_partition', 'short_term_deposit', 'loans', 'mortgage',\n",
            "       'funds', 'securities', 'long_term_deposit', 'em_account_pp',\n",
            "       'credit_card', 'pension_plan', 'payroll_account', 'emc_account',\n",
            "       'debit_card', 'em_account_p', 'em_acount', 'entry_date',\n",
            "       'entry_channel', 'active_customer', 'country_id', 'region_code',\n",
            "       'gender', 'age', 'salary'],\n",
            "      dtype='object')\n"
          ],
          "name": "stdout"
        }
      ]
    },
    {
      "cell_type": "code",
      "metadata": {
        "id": "RD6xwe26Q0aY"
      },
      "source": [
        "df[\"country_id\"] = LabelEncoder().fit_transform(df[\"country_id\"])"
      ],
      "execution_count": 32,
      "outputs": []
    },
    {
      "cell_type": "code",
      "metadata": {
        "id": "4BvQuoAHdT-G"
      },
      "source": [
        "df[\"year\"] = df[\"pk_partition\"].dt.year\n",
        "df[\"month\"] = df[\"pk_partition\"].dt.month\n",
        "del df[\"pk_partition\"]"
      ],
      "execution_count": 33,
      "outputs": []
    },
    {
      "cell_type": "code",
      "metadata": {
        "colab": {
          "base_uri": "https://localhost:8080/"
        },
        "id": "Y-S1jz7adXSg",
        "outputId": "16ae301d-b352-4750-dfae-e5893fd2a57b"
      },
      "source": [
        "df.info()"
      ],
      "execution_count": 34,
      "outputs": [
        {
          "output_type": "stream",
          "text": [
            "<class 'pandas.core.frame.DataFrame'>\n",
            "Int64Index: 5921197 entries, 0 to 5962923\n",
            "Data columns (total 25 columns):\n",
            " #   Column              Dtype  \n",
            "---  ------              -----  \n",
            " 0   pk_cid              int64  \n",
            " 1   short_term_deposit  int64  \n",
            " 2   loans               int64  \n",
            " 3   mortgage            int64  \n",
            " 4   funds               int64  \n",
            " 5   securities          int64  \n",
            " 6   long_term_deposit   int64  \n",
            " 7   em_account_pp       int64  \n",
            " 8   credit_card         int64  \n",
            " 9   pension_plan        float64\n",
            " 10  payroll_account     int64  \n",
            " 11  emc_account         int64  \n",
            " 12  debit_card          int64  \n",
            " 13  em_account_p        int64  \n",
            " 14  em_acount           int64  \n",
            " 15  entry_date          object \n",
            " 16  entry_channel       object \n",
            " 17  active_customer     float64\n",
            " 18  country_id          int64  \n",
            " 19  region_code         float64\n",
            " 20  gender              object \n",
            " 21  age                 int64  \n",
            " 22  salary              float64\n",
            " 23  year                int64  \n",
            " 24  month               int64  \n",
            "dtypes: float64(4), int64(18), object(3)\n",
            "memory usage: 1.1+ GB\n"
          ],
          "name": "stdout"
        }
      ]
    },
    {
      "cell_type": "code",
      "metadata": {
        "id": "jSpuxYoSfJrS"
      },
      "source": [
        "def set_others(df, col, n):\n",
        "    \"\"\"\n",
        "    Converts to Categorical column and sets Others for the categories outside the top n\n",
        "    :param df: DataFrame object\n",
        "    :param col: column name\n",
        "    :param n: top X\n",
        "    :return \n",
        "    \"\"\"\n",
        "    top_categories = df[col].value_counts().head(n)\n",
        "    top_categories_list = top_categories.index.tolist()\n",
        "    top_categories_list.append(\"Others\")\n",
        "\n",
        "    df[col] = pd.Categorical(df[col], categories=top_categories_list)\n",
        "    return df[col].fillna(\"Others\")"
      ],
      "execution_count": 35,
      "outputs": []
    },
    {
      "cell_type": "code",
      "metadata": {
        "colab": {
          "base_uri": "https://localhost:8080/"
        },
        "id": "tCgq-5KJfMf0",
        "outputId": "07dc9914-ada2-4c20-fd90-8dce3fae50f8"
      },
      "source": [
        "df[\"entry_channel\"].value_counts().head(8)"
      ],
      "execution_count": 36,
      "outputs": [
        {
          "output_type": "execute_result",
          "data": {
            "text/plain": [
              "KHE        3113575\n",
              "KFC         873049\n",
              "KHQ         590224\n",
              "KAT         405973\n",
              "KHK         229826\n",
              "KHM         176333\n",
              "Unknown     132171\n",
              "KHN         108157\n",
              "Name: entry_channel, dtype: int64"
            ]
          },
          "metadata": {
            "tags": []
          },
          "execution_count": 36
        }
      ]
    },
    {
      "cell_type": "code",
      "metadata": {
        "id": "mP7JSzFviH39"
      },
      "source": [
        "df[\"entry_channel\"] = set_others(df, \"entry_channel\", 8)"
      ],
      "execution_count": 37,
      "outputs": []
    },
    {
      "cell_type": "code",
      "metadata": {
        "id": "1j4L8_U8gmhQ"
      },
      "source": [
        "def one_hot_encoder(data, col):\n",
        "    _dummy_dataset = pd.get_dummies(data[col], prefix=col)\n",
        "    data = pd.concat([data, _dummy_dataset], axis=1)\n",
        "    del data[col]\n",
        "    del _dummy_dataset\n",
        "\n",
        "    return data"
      ],
      "execution_count": 38,
      "outputs": []
    },
    {
      "cell_type": "code",
      "metadata": {
        "id": "LPSJKjhzhRPh"
      },
      "source": [
        "df = one_hot_encoder(df, \"entry_channel\")"
      ],
      "execution_count": 39,
      "outputs": []
    },
    {
      "cell_type": "code",
      "metadata": {
        "id": "T7dJhh4Wity_"
      },
      "source": [
        "# Region code frequency encoding\n",
        "region_counter = df[\"region_code\"].value_counts()\n",
        "df[\"region_code\"] = df[\"region_code\"].replace(region_counter)\n",
        "df[\"region_code\"]"
      ],
      "execution_count": null,
      "outputs": []
    },
    {
      "cell_type": "markdown",
      "metadata": {
        "id": "Q0s8hrdjbKFG"
      },
      "source": [
        "# Dataset Preparation"
      ]
    },
    {
      "cell_type": "markdown",
      "metadata": {
        "id": "gR2W3fgZcypo"
      },
      "source": [
        "Una vez filtrados estos datos tendremos que preparar el conjunto de datos para que cada row represente a un cliente. Para realizar esto, se extraerá la fecha mínima de la compra de cada cliente, le restaremos un mes a esa fecha y extraeremos la row correspondiente que contenga dicha fecha para cada cliente."
      ]
    },
    {
      "cell_type": "markdown",
      "metadata": {
        "id": "bDyj8Nkfd6Aq"
      },
      "source": [
        "Posteriormente plantearemos la estrategia a seguir para la modelización:\n",
        "- Realizar 16 modelos (uno por producto)\n",
        "- Agrupar estos productos en categorías y realizar el num. correspondiente de modelos en función de las categorías que aparezcan.\n",
        "\n",
        "Para decidir la estrategia, tendremos que analizar el perfil de los clientes de toda la muestra comparandolos con la muestra de clientes por producto. Entonces, podremos decidir si agrupar o no por productos."
      ]
    },
    {
      "cell_type": "markdown",
      "metadata": {
        "id": "VnWK8MNQjJrr"
      },
      "source": [
        "# Modelling"
      ]
    },
    {
      "cell_type": "markdown",
      "metadata": {
        "id": "yxUaWueWi0yz"
      },
      "source": [
        "Queremos predecir las compras de los productos para el mes de Junio del 2019. Para poder implementar esto correctamente tendremos que coger los datos para \"train/test\" desde Febrero del 2018 hasta Abril del 2019 y nos guardaremos Mayo del 2019 para validación."
      ]
    },
    {
      "cell_type": "code",
      "metadata": {
        "colab": {
          "base_uri": "https://localhost:8080/"
        },
        "id": "9Mm4xxcei8gj",
        "outputId": "49efc326-77a4-4e86-c490-1e2ca8cd562a"
      },
      "source": [
        "df.columns"
      ],
      "execution_count": null,
      "outputs": [
        {
          "output_type": "execute_result",
          "data": {
            "text/plain": [
              "Index(['pk_cid', 'short_term_deposit', 'loans', 'mortgage', 'funds',\n",
              "       'securities', 'long_term_deposit', 'em_account_pp', 'credit_card',\n",
              "       'pension_plan', 'payroll_account', 'emc_account', 'debit_card',\n",
              "       'em_account_p', 'em_acount', 'active_customer', 'country_id',\n",
              "       'region_code', 'age', 'salary', 'year', 'month', 'entry_channel_KHE',\n",
              "       'entry_channel_KFC', 'entry_channel_KHQ', 'entry_channel_KAT',\n",
              "       'entry_channel_KHK', 'entry_channel_KHM', 'entry_channel_Unknown',\n",
              "       'entry_channel_KHN', 'entry_channel_Others'],\n",
              "      dtype='object')"
            ]
          },
          "metadata": {
            "tags": []
          },
          "execution_count": 32
        }
      ]
    },
    {
      "cell_type": "code",
      "metadata": {
        "colab": {
          "base_uri": "https://localhost:8080/"
        },
        "id": "Fv5ydPd9jMsa",
        "outputId": "4d18d135-4864-4f6b-c105-79c5a914f031"
      },
      "source": [
        "df.info()"
      ],
      "execution_count": null,
      "outputs": [
        {
          "output_type": "stream",
          "text": [
            "<class 'pandas.core.frame.DataFrame'>\n",
            "Int64Index: 5921197 entries, 0 to 5962923\n",
            "Data columns (total 31 columns):\n",
            " #   Column                 Dtype  \n",
            "---  ------                 -----  \n",
            " 0   pk_cid                 int64  \n",
            " 1   short_term_deposit     int64  \n",
            " 2   loans                  int64  \n",
            " 3   mortgage               int64  \n",
            " 4   funds                  int64  \n",
            " 5   securities             int64  \n",
            " 6   long_term_deposit      int64  \n",
            " 7   em_account_pp          int64  \n",
            " 8   credit_card            int64  \n",
            " 9   pension_plan           float64\n",
            " 10  payroll_account        int64  \n",
            " 11  emc_account            int64  \n",
            " 12  debit_card             int64  \n",
            " 13  em_account_p           int64  \n",
            " 14  em_acount              int64  \n",
            " 15  active_customer        float64\n",
            " 16  country_id             int64  \n",
            " 17  region_code            float64\n",
            " 18  age                    int64  \n",
            " 19  salary                 float64\n",
            " 20  year                   int64  \n",
            " 21  month                  int64  \n",
            " 22  entry_channel_KHE      uint8  \n",
            " 23  entry_channel_KFC      uint8  \n",
            " 24  entry_channel_KHQ      uint8  \n",
            " 25  entry_channel_KAT      uint8  \n",
            " 26  entry_channel_KHK      uint8  \n",
            " 27  entry_channel_KHM      uint8  \n",
            " 28  entry_channel_Unknown  uint8  \n",
            " 29  entry_channel_KHN      uint8  \n",
            " 30  entry_channel_Others   uint8  \n",
            "dtypes: float64(4), int64(18), uint8(9)\n",
            "memory usage: 1.1 GB\n"
          ],
          "name": "stdout"
        }
      ]
    },
    {
      "cell_type": "code",
      "metadata": {
        "id": "Eg3IALqJjPyF"
      },
      "source": [
        "TARGETS = [\n",
        "            \"short_term_deposit\", \n",
        "            \"loans\", \n",
        "            \"mortgage\", \n",
        "            \"funds\",\n",
        "            \"securities\", \n",
        "            \"long_term_deposit\", \n",
        "            \"em_account_pp\", \n",
        "            \"credit_card\",\n",
        "            \"pension_plan\", \n",
        "            \"payroll_account\", \n",
        "            \"emc_account\", \n",
        "            \"debit_card\",\n",
        "            \"em_account_p\", \n",
        "            \"em_acount\"\n",
        "]"
      ],
      "execution_count": null,
      "outputs": []
    },
    {
      "cell_type": "code",
      "metadata": {
        "id": "lNGEKZk2hJzw"
      },
      "source": [
        "\"\"\"class Model(object):\n",
        "  def __init__(self, target_name, data):\n",
        "    self.target = target_name\n",
        "    self.data = data\n",
        "  \n",
        "  def split_X_y(self):\n",
        "    self.X = data.drop(self.target, axis=1)\n",
        "    self.y = data[self.target]\"\"\""
      ],
      "execution_count": null,
      "outputs": []
    },
    {
      "cell_type": "code",
      "metadata": {
        "id": "FfO4alLRkE1n"
      },
      "source": [
        "X = df.drop(TARGETS + [\"pk_cid\"], axis=1)\n",
        "y = df[TARGETS]"
      ],
      "execution_count": null,
      "outputs": []
    },
    {
      "cell_type": "code",
      "metadata": {
        "colab": {
          "base_uri": "https://localhost:8080/"
        },
        "id": "oR8oOvojkRqK",
        "outputId": "f351cc51-7294-4e28-c4f8-0a4ff4c0b367"
      },
      "source": [
        "df.shape"
      ],
      "execution_count": null,
      "outputs": [
        {
          "output_type": "execute_result",
          "data": {
            "text/plain": [
              "(5921197, 31)"
            ]
          },
          "metadata": {
            "tags": []
          },
          "execution_count": 36
        }
      ]
    },
    {
      "cell_type": "code",
      "metadata": {
        "id": "bxBLyWhJkXk7"
      },
      "source": [
        "# Validation and Train-Test\n",
        "X_train_test, X_validation, y_train_test, y_validation =  train_test_split(X, y, test_size=0.1, random_state=RANDOM_STATE)\n",
        "\n",
        "# Train and Test\n",
        "X_train, X_test, y_train, y_test =  train_test_split(X_train_test, y_train_test, test_size=0.2, random_state=RANDOM_STATE)"
      ],
      "execution_count": null,
      "outputs": []
    },
    {
      "cell_type": "code",
      "metadata": {
        "id": "yR9PiwI-lV7W"
      },
      "source": [
        "model = MultiOutputClassifier(xgb.XGBClassifier(\n",
        "    max_depth=4,\n",
        "    min_samples_leaf = 200,\n",
        "    random_state=RANDOM_STATE\n",
        "))"
      ],
      "execution_count": null,
      "outputs": []
    },
    {
      "cell_type": "code",
      "metadata": {
        "colab": {
          "base_uri": "https://localhost:8080/"
        },
        "id": "5_mDhk1rm5gC",
        "outputId": "04853246-bc2d-46ca-cfec-987c9c02c896"
      },
      "source": [
        "model.fit(X_train, y_train)"
      ],
      "execution_count": null,
      "outputs": [
        {
          "output_type": "stream",
          "text": [
            "[10:20:20] WARNING: /workspace/src/learner.cc:686: Tree method is automatically selected to be 'approx' for faster speed. To use old behavior (exact greedy algorithm on single machine), set tree_method to 'exact'.\n"
          ],
          "name": "stdout"
        }
      ]
    },
    {
      "cell_type": "code",
      "metadata": {
        "id": "rQ_p5KkInDC6"
      },
      "source": [
        "y_train_pred = dt.predict(X_train)\n",
        "y_train_score = dt.predict_proba(X_train)[:,1]\n",
        "\n",
        "#Predict the response for test dataset\n",
        "y_pred = dt.predict(X_test)\n",
        "y_test_score = dt.predict_proba(X_test)[:,1]"
      ],
      "execution_count": null,
      "outputs": []
    }
  ]
}