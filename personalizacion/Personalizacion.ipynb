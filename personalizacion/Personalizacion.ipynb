{
  "nbformat": 4,
  "nbformat_minor": 5,
  "metadata": {
    "kernelspec": {
      "display_name": "Python 3",
      "language": "python",
      "name": "python3"
    },
    "language_info": {
      "codemirror_mode": {
        "name": "ipython",
        "version": 3
      },
      "file_extension": ".py",
      "mimetype": "text/x-python",
      "name": "python",
      "nbconvert_exporter": "python",
      "pygments_lexer": "ipython3",
      "version": "3.7.10"
    },
    "papermill": {
      "default_parameters": {},
      "duration": 22.83931,
      "end_time": "2021-05-16T16:05:08.889118",
      "environment_variables": {},
      "exception": null,
      "input_path": "__notebook__.ipynb",
      "output_path": "__notebook__.ipynb",
      "parameters": {},
      "start_time": "2021-05-16T16:04:46.049808",
      "version": "2.3.3"
    },
    "colab": {
      "name": "TAREA4_Personalizacion.ipynb",
      "provenance": [],
      "collapsed_sections": []
    }
  },
  "cells": [
    {
      "cell_type": "markdown",
      "metadata": {
        "papermill": {
          "duration": 0.067266,
          "end_time": "2021-05-16T16:04:52.408480",
          "exception": false,
          "start_time": "2021-05-16T16:04:52.341214",
          "status": "completed"
        },
        "tags": [],
        "id": "hazardous-publication"
      },
      "source": [
        "# TAREA 4: PERSONALIZACIÓN"
      ],
      "id": "hazardous-publication"
    },
    {
      "cell_type": "markdown",
      "metadata": {
        "papermill": {
          "duration": 0.065649,
          "end_time": "2021-05-16T16:04:52.540462",
          "exception": false,
          "start_time": "2021-05-16T16:04:52.474813",
          "status": "completed"
        },
        "tags": [],
        "id": "streaming-radiation"
      },
      "source": [
        "<a id = \"toc\"></a>\n",
        "# Índice\n",
        "[Objetivos del notebook](#objetivos)\n",
        "\n",
        "[Importación de las principales librerías](##import_modules)\n",
        "\n",
        "[Importación de los datos](#import_data)\n",
        "\n",
        "\n",
        "[Creación del dataset de personalización](#dataperson)\n",
        "\n",
        "\n",
        "[Creación del pipline](#pipline)\n",
        "\n",
        "[KMeans](#Knn)\n",
        "\n",
        "[Presentación de resultados](#resultados)\n",
        "\n",
        "\n",
        "\n",
        "\n"
      ],
      "id": "streaming-radiation"
    },
    {
      "cell_type": "markdown",
      "metadata": {
        "papermill": {
          "duration": 0.065665,
          "end_time": "2021-05-16T16:04:52.672691",
          "exception": false,
          "start_time": "2021-05-16T16:04:52.607026",
          "status": "completed"
        },
        "tags": [],
        "id": "formal-disabled"
      },
      "source": [
        "<a id = \"objetivos\"></a>\n",
        "# Objetivos del notebook\n",
        "[Volver al índice](#toc)\n",
        "\n",
        "En este notebook detallamos el proceso seguido para la segmentación de los 10000 clientes a los cuales se les ha recomendado la compra de algun producto en la anterior tarea con el objetivo de personalizar los mails en 4 o 5 creatividades distintias.\n"
      ],
      "id": "formal-disabled"
    },
    {
      "cell_type": "markdown",
      "metadata": {
        "papermill": {
          "duration": 0.066975,
          "end_time": "2021-05-16T16:04:52.806841",
          "exception": false,
          "start_time": "2021-05-16T16:04:52.739866",
          "status": "completed"
        },
        "tags": [],
        "id": "after-documentation"
      },
      "source": [
        "<a id = \"import_modules\"></a>\n",
        "# Importación de las principales librerías\n",
        "[Volver al índice](#toc)"
      ],
      "id": "after-documentation"
    },
    {
      "cell_type": "code",
      "metadata": {
        "execution": {
          "iopub.execute_input": "2021-05-16T16:04:52.944033Z",
          "iopub.status.busy": "2021-05-16T16:04:52.942924Z",
          "iopub.status.idle": "2021-05-16T16:04:55.172339Z",
          "shell.execute_reply": "2021-05-16T16:04:55.172951Z"
        },
        "papermill": {
          "duration": 2.299485,
          "end_time": "2021-05-16T16:04:55.173323",
          "exception": false,
          "start_time": "2021-05-16T16:04:52.873838",
          "status": "completed"
        },
        "tags": [],
        "id": "forbidden-playlist"
      },
      "source": [
        "# silence warnings\n",
        "import warnings\n",
        "warnings.filterwarnings(\"ignore\")\n",
        "# operating system\n",
        "import os\n",
        "# time calculation to track some processes\n",
        "import time\n",
        "\n",
        "# numeric and matrix operations\n",
        "import numpy as np\n",
        "import pandas as pd\n",
        "# loading ploting libraries\n",
        "import matplotlib.pyplot as plt\n",
        "import seaborn as sns\n",
        "import plotly.express as px\n",
        "plt.style.use('ggplot')\n",
        "%matplotlib inline\n",
        "\n",
        "# python core library for machine learning and data science\n",
        "from sklearn.preprocessing import LabelEncoder\n",
        "from sklearn.pipeline import Pipeline\n",
        "from sklearn.preprocessing import StandardScaler, MinMaxScaler\n",
        "from sklearn.base import BaseEstimator, TransformerMixin\n",
        "from sklearn.impute import KNNImputer, SimpleImputer\n",
        "from sklearn.cluster import KMeans \n",
        "\n",
        "from sklearn.externals import joblib \n",
        "\n",
        "\n",
        "RANDOM_STATE = 175\n",
        "import os\n",
        "\n",
        "from google.colab import drive\n"
      ],
      "id": "forbidden-playlist",
      "execution_count": null,
      "outputs": []
    },
    {
      "cell_type": "markdown",
      "metadata": {
        "papermill": {
          "duration": 0.067426,
          "end_time": "2021-05-16T16:04:55.309542",
          "exception": false,
          "start_time": "2021-05-16T16:04:55.242116",
          "status": "completed"
        },
        "tags": [],
        "id": "normal-government"
      },
      "source": [
        "<a id = \"import_data\"></a>\n",
        "# Importación de los datos\n",
        "[Volver al índice](#toc)\n"
      ],
      "id": "normal-government"
    },
    {
      "cell_type": "code",
      "metadata": {
        "colab": {
          "base_uri": "https://localhost:8080/"
        },
        "id": "rD2ytsBTcgrK",
        "outputId": "f9b45aba-4f8f-4d1a-ea5d-f9e72991a50c"
      },
      "source": [
        "drive.mount(\"/content/gdrive\")"
      ],
      "id": "rD2ytsBTcgrK",
      "execution_count": null,
      "outputs": [
        {
          "output_type": "stream",
          "text": [
            "Drive already mounted at /content/gdrive; to attempt to forcibly remount, call drive.mount(\"/content/gdrive\", force_remount=True).\n"
          ],
          "name": "stdout"
        }
      ]
    },
    {
      "cell_type": "markdown",
      "metadata": {
        "id": "g5CdZR9s17DS"
      },
      "source": [
        "El primer archivo que importamos es el resultante de hacer la recomendación en la tarea 3. Asi pues este fichero contiene dos columnas:\n",
        "- User_id: identificador del cliente\n",
        "- target: producto a recomendar "
      ],
      "id": "g5CdZR9s17DS"
    },
    {
      "cell_type": "code",
      "metadata": {
        "id": "jv_TsUal1iZL"
      },
      "source": [
        "df_recomend=pd.read_csv(\"gdrive/MyDrive/EASY_MONEY_NUCLIO/data/top_clients.csv\",index_col=0)"
      ],
      "id": "jv_TsUal1iZL",
      "execution_count": null,
      "outputs": []
    },
    {
      "cell_type": "code",
      "metadata": {
        "colab": {
          "base_uri": "https://localhost:8080/",
          "height": 206
        },
        "id": "xwHp9YlV1wzk",
        "outputId": "1d87f232-884a-4169-89d4-fb8969ee80b3"
      },
      "source": [
        "df_recomend.head()"
      ],
      "id": "xwHp9YlV1wzk",
      "execution_count": null,
      "outputs": [
        {
          "output_type": "execute_result",
          "data": {
            "text/html": [
              "<div>\n",
              "<style scoped>\n",
              "    .dataframe tbody tr th:only-of-type {\n",
              "        vertical-align: middle;\n",
              "    }\n",
              "\n",
              "    .dataframe tbody tr th {\n",
              "        vertical-align: top;\n",
              "    }\n",
              "\n",
              "    .dataframe thead th {\n",
              "        text-align: right;\n",
              "    }\n",
              "</style>\n",
              "<table border=\"1\" class=\"dataframe\">\n",
              "  <thead>\n",
              "    <tr style=\"text-align: right;\">\n",
              "      <th></th>\n",
              "      <th>user_id</th>\n",
              "      <th>target</th>\n",
              "    </tr>\n",
              "  </thead>\n",
              "  <tbody>\n",
              "    <tr>\n",
              "      <th>0</th>\n",
              "      <td>1459181</td>\n",
              "      <td>em_acount</td>\n",
              "    </tr>\n",
              "    <tr>\n",
              "      <th>1</th>\n",
              "      <td>1440380</td>\n",
              "      <td>em_acount</td>\n",
              "    </tr>\n",
              "    <tr>\n",
              "      <th>2</th>\n",
              "      <td>1465393</td>\n",
              "      <td>em_acount</td>\n",
              "    </tr>\n",
              "    <tr>\n",
              "      <th>3</th>\n",
              "      <td>1462014</td>\n",
              "      <td>em_acount</td>\n",
              "    </tr>\n",
              "    <tr>\n",
              "      <th>4</th>\n",
              "      <td>1423487</td>\n",
              "      <td>em_acount</td>\n",
              "    </tr>\n",
              "  </tbody>\n",
              "</table>\n",
              "</div>"
            ],
            "text/plain": [
              "   user_id     target\n",
              "0  1459181  em_acount\n",
              "1  1440380  em_acount\n",
              "2  1465393  em_acount\n",
              "3  1462014  em_acount\n",
              "4  1423487  em_acount"
            ]
          },
          "metadata": {
            "tags": []
          },
          "execution_count": 4
        }
      ]
    },
    {
      "cell_type": "markdown",
      "metadata": {
        "id": "SfBHTvCb2QKo"
      },
      "source": [
        "Para poder añadir otros atributos que nos permitan personalizar los correos se carga tambien todo el dataset resultante de la primera segmentación el qual contiene ya algunas variables intersantes."
      ],
      "id": "SfBHTvCb2QKo"
    },
    {
      "cell_type": "code",
      "metadata": {
        "id": "nAUBKkteGiFY"
      },
      "source": [
        "df_tot=pd.read_pickle(\"gdrive/MyDrive/EASY_MONEY_NUCLIO/data/df_post_segmentacion_2.pkl\")"
      ],
      "id": "nAUBKkteGiFY",
      "execution_count": null,
      "outputs": []
    },
    {
      "cell_type": "code",
      "metadata": {
        "id": "ono0fH6NG5Sj"
      },
      "source": [
        "df_tot=df_tot.sort_values(by='pk_partition',ascending=False)"
      ],
      "id": "ono0fH6NG5Sj",
      "execution_count": null,
      "outputs": []
    },
    {
      "cell_type": "code",
      "metadata": {
        "colab": {
          "base_uri": "https://localhost:8080/",
          "height": 1000
        },
        "id": "R6J1PY-nIf9A",
        "outputId": "129bc794-c8d4-451d-e4d4-05f633436b04"
      },
      "source": [
        "df_tot.head().T"
      ],
      "id": "R6J1PY-nIf9A",
      "execution_count": null,
      "outputs": [
        {
          "output_type": "execute_result",
          "data": {
            "text/html": [
              "<div>\n",
              "<style scoped>\n",
              "    .dataframe tbody tr th:only-of-type {\n",
              "        vertical-align: middle;\n",
              "    }\n",
              "\n",
              "    .dataframe tbody tr th {\n",
              "        vertical-align: top;\n",
              "    }\n",
              "\n",
              "    .dataframe thead th {\n",
              "        text-align: right;\n",
              "    }\n",
              "</style>\n",
              "<table border=\"1\" class=\"dataframe\">\n",
              "  <thead>\n",
              "    <tr style=\"text-align: right;\">\n",
              "      <th></th>\n",
              "      <th>5962923</th>\n",
              "      <th>5667597</th>\n",
              "      <th>5667586</th>\n",
              "      <th>5667587</th>\n",
              "      <th>5667588</th>\n",
              "    </tr>\n",
              "  </thead>\n",
              "  <tbody>\n",
              "    <tr>\n",
              "      <th>pk_cid</th>\n",
              "      <td>1550586</td>\n",
              "      <td>1489272</td>\n",
              "      <td>1489286</td>\n",
              "      <td>1489285</td>\n",
              "      <td>1489283</td>\n",
              "    </tr>\n",
              "    <tr>\n",
              "      <th>pk_partition</th>\n",
              "      <td>2019-05-28 00:00:00</td>\n",
              "      <td>2019-05-28 00:00:00</td>\n",
              "      <td>2019-05-28 00:00:00</td>\n",
              "      <td>2019-05-28 00:00:00</td>\n",
              "      <td>2019-05-28 00:00:00</td>\n",
              "    </tr>\n",
              "    <tr>\n",
              "      <th>short_term_deposit</th>\n",
              "      <td>0</td>\n",
              "      <td>0</td>\n",
              "      <td>0</td>\n",
              "      <td>0</td>\n",
              "      <td>0</td>\n",
              "    </tr>\n",
              "    <tr>\n",
              "      <th>loans</th>\n",
              "      <td>0</td>\n",
              "      <td>0</td>\n",
              "      <td>0</td>\n",
              "      <td>0</td>\n",
              "      <td>0</td>\n",
              "    </tr>\n",
              "    <tr>\n",
              "      <th>mortgage</th>\n",
              "      <td>0</td>\n",
              "      <td>0</td>\n",
              "      <td>0</td>\n",
              "      <td>0</td>\n",
              "      <td>0</td>\n",
              "    </tr>\n",
              "    <tr>\n",
              "      <th>funds</th>\n",
              "      <td>0</td>\n",
              "      <td>0</td>\n",
              "      <td>0</td>\n",
              "      <td>0</td>\n",
              "      <td>0</td>\n",
              "    </tr>\n",
              "    <tr>\n",
              "      <th>securities</th>\n",
              "      <td>0</td>\n",
              "      <td>0</td>\n",
              "      <td>0</td>\n",
              "      <td>0</td>\n",
              "      <td>0</td>\n",
              "    </tr>\n",
              "    <tr>\n",
              "      <th>long_term_deposit</th>\n",
              "      <td>0</td>\n",
              "      <td>0</td>\n",
              "      <td>0</td>\n",
              "      <td>0</td>\n",
              "      <td>0</td>\n",
              "    </tr>\n",
              "    <tr>\n",
              "      <th>em_account_pp</th>\n",
              "      <td>0</td>\n",
              "      <td>0</td>\n",
              "      <td>0</td>\n",
              "      <td>0</td>\n",
              "      <td>0</td>\n",
              "    </tr>\n",
              "    <tr>\n",
              "      <th>credit_card</th>\n",
              "      <td>0</td>\n",
              "      <td>0</td>\n",
              "      <td>0</td>\n",
              "      <td>0</td>\n",
              "      <td>0</td>\n",
              "    </tr>\n",
              "    <tr>\n",
              "      <th>payroll</th>\n",
              "      <td>0</td>\n",
              "      <td>0</td>\n",
              "      <td>0</td>\n",
              "      <td>0</td>\n",
              "      <td>0</td>\n",
              "    </tr>\n",
              "    <tr>\n",
              "      <th>pension_plan</th>\n",
              "      <td>0</td>\n",
              "      <td>0</td>\n",
              "      <td>0</td>\n",
              "      <td>0</td>\n",
              "      <td>0</td>\n",
              "    </tr>\n",
              "    <tr>\n",
              "      <th>payroll_account</th>\n",
              "      <td>0</td>\n",
              "      <td>0</td>\n",
              "      <td>0</td>\n",
              "      <td>0</td>\n",
              "      <td>0</td>\n",
              "    </tr>\n",
              "    <tr>\n",
              "      <th>emc_account</th>\n",
              "      <td>0</td>\n",
              "      <td>0</td>\n",
              "      <td>0</td>\n",
              "      <td>0</td>\n",
              "      <td>0</td>\n",
              "    </tr>\n",
              "    <tr>\n",
              "      <th>debit_card</th>\n",
              "      <td>0</td>\n",
              "      <td>0</td>\n",
              "      <td>0</td>\n",
              "      <td>0</td>\n",
              "      <td>1</td>\n",
              "    </tr>\n",
              "    <tr>\n",
              "      <th>em_account_p</th>\n",
              "      <td>0</td>\n",
              "      <td>0</td>\n",
              "      <td>0</td>\n",
              "      <td>0</td>\n",
              "      <td>0</td>\n",
              "    </tr>\n",
              "    <tr>\n",
              "      <th>em_acount</th>\n",
              "      <td>1</td>\n",
              "      <td>1</td>\n",
              "      <td>1</td>\n",
              "      <td>0</td>\n",
              "      <td>1</td>\n",
              "    </tr>\n",
              "    <tr>\n",
              "      <th>entry_date</th>\n",
              "      <td>2019-05-13 00:00:00</td>\n",
              "      <td>2018-10-24 00:00:00</td>\n",
              "      <td>2018-10-24 00:00:00</td>\n",
              "      <td>2018-10-24 00:00:00</td>\n",
              "      <td>2018-10-24 00:00:00</td>\n",
              "    </tr>\n",
              "    <tr>\n",
              "      <th>entry_channel</th>\n",
              "      <td>NaN</td>\n",
              "      <td>KHM</td>\n",
              "      <td>KHM</td>\n",
              "      <td>KHM</td>\n",
              "      <td>KHN</td>\n",
              "    </tr>\n",
              "    <tr>\n",
              "      <th>active_customer</th>\n",
              "      <td>1</td>\n",
              "      <td>1</td>\n",
              "      <td>0</td>\n",
              "      <td>0</td>\n",
              "      <td>1</td>\n",
              "    </tr>\n",
              "    <tr>\n",
              "      <th>segment</th>\n",
              "      <td>NaN</td>\n",
              "      <td>02 - PARTICULARES</td>\n",
              "      <td>02 - PARTICULARES</td>\n",
              "      <td>02 - PARTICULARES</td>\n",
              "      <td>02 - PARTICULARES</td>\n",
              "    </tr>\n",
              "    <tr>\n",
              "      <th>country_id</th>\n",
              "      <td>ES</td>\n",
              "      <td>ES</td>\n",
              "      <td>ES</td>\n",
              "      <td>ES</td>\n",
              "      <td>ES</td>\n",
              "    </tr>\n",
              "    <tr>\n",
              "      <th>region_code</th>\n",
              "      <td>28</td>\n",
              "      <td>36</td>\n",
              "      <td>3</td>\n",
              "      <td>8</td>\n",
              "      <td>6</td>\n",
              "    </tr>\n",
              "    <tr>\n",
              "      <th>gender</th>\n",
              "      <td>0</td>\n",
              "      <td>0</td>\n",
              "      <td>0</td>\n",
              "      <td>0</td>\n",
              "      <td>0</td>\n",
              "    </tr>\n",
              "    <tr>\n",
              "      <th>age</th>\n",
              "      <td>37</td>\n",
              "      <td>23</td>\n",
              "      <td>43</td>\n",
              "      <td>61</td>\n",
              "      <td>56</td>\n",
              "    </tr>\n",
              "    <tr>\n",
              "      <th>deceased</th>\n",
              "      <td>0</td>\n",
              "      <td>0</td>\n",
              "      <td>0</td>\n",
              "      <td>0</td>\n",
              "      <td>0</td>\n",
              "    </tr>\n",
              "    <tr>\n",
              "      <th>salary</th>\n",
              "      <td>NaN</td>\n",
              "      <td>NaN</td>\n",
              "      <td>NaN</td>\n",
              "      <td>NaN</td>\n",
              "      <td>NaN</td>\n",
              "    </tr>\n",
              "    <tr>\n",
              "      <th>entry_date_year</th>\n",
              "      <td>2019</td>\n",
              "      <td>2018</td>\n",
              "      <td>2018</td>\n",
              "      <td>2018</td>\n",
              "      <td>2018</td>\n",
              "    </tr>\n",
              "    <tr>\n",
              "      <th>entry_date_month</th>\n",
              "      <td>5</td>\n",
              "      <td>10</td>\n",
              "      <td>10</td>\n",
              "      <td>10</td>\n",
              "      <td>10</td>\n",
              "    </tr>\n",
              "    <tr>\n",
              "      <th>pk_partition_year</th>\n",
              "      <td>2019</td>\n",
              "      <td>2019</td>\n",
              "      <td>2019</td>\n",
              "      <td>2019</td>\n",
              "      <td>2019</td>\n",
              "    </tr>\n",
              "    <tr>\n",
              "      <th>pk_partition_month</th>\n",
              "      <td>5</td>\n",
              "      <td>5</td>\n",
              "      <td>5</td>\n",
              "      <td>5</td>\n",
              "      <td>5</td>\n",
              "    </tr>\n",
              "    <tr>\n",
              "      <th>ConProducto</th>\n",
              "      <td>1</td>\n",
              "      <td>1</td>\n",
              "      <td>1</td>\n",
              "      <td>0</td>\n",
              "      <td>1</td>\n",
              "    </tr>\n",
              "    <tr>\n",
              "      <th>total_ahorro</th>\n",
              "      <td>0</td>\n",
              "      <td>0</td>\n",
              "      <td>0</td>\n",
              "      <td>0</td>\n",
              "      <td>0</td>\n",
              "    </tr>\n",
              "    <tr>\n",
              "      <th>total_inversion</th>\n",
              "      <td>0</td>\n",
              "      <td>0</td>\n",
              "      <td>0</td>\n",
              "      <td>0</td>\n",
              "      <td>0</td>\n",
              "    </tr>\n",
              "    <tr>\n",
              "      <th>total_financiacion</th>\n",
              "      <td>0</td>\n",
              "      <td>0</td>\n",
              "      <td>0</td>\n",
              "      <td>0</td>\n",
              "      <td>0</td>\n",
              "    </tr>\n",
              "    <tr>\n",
              "      <th>total_cuentas</th>\n",
              "      <td>1</td>\n",
              "      <td>1</td>\n",
              "      <td>1</td>\n",
              "      <td>0</td>\n",
              "      <td>2</td>\n",
              "    </tr>\n",
              "    <tr>\n",
              "      <th>EsEspañol</th>\n",
              "      <td>1</td>\n",
              "      <td>1</td>\n",
              "      <td>1</td>\n",
              "      <td>1</td>\n",
              "      <td>1</td>\n",
              "    </tr>\n",
              "    <tr>\n",
              "      <th>Num_cobros</th>\n",
              "      <td>0</td>\n",
              "      <td>0</td>\n",
              "      <td>0</td>\n",
              "      <td>0</td>\n",
              "      <td>0</td>\n",
              "    </tr>\n",
              "    <tr>\n",
              "      <th>Numero_bajas</th>\n",
              "      <td>0</td>\n",
              "      <td>0</td>\n",
              "      <td>0</td>\n",
              "      <td>0</td>\n",
              "      <td>0</td>\n",
              "    </tr>\n",
              "    <tr>\n",
              "      <th>Numero_altas</th>\n",
              "      <td>0</td>\n",
              "      <td>0</td>\n",
              "      <td>0</td>\n",
              "      <td>0</td>\n",
              "      <td>0</td>\n",
              "    </tr>\n",
              "    <tr>\n",
              "      <th>cluster</th>\n",
              "      <td>0</td>\n",
              "      <td>0</td>\n",
              "      <td>0</td>\n",
              "      <td>0</td>\n",
              "      <td>0</td>\n",
              "    </tr>\n",
              "  </tbody>\n",
              "</table>\n",
              "</div>"
            ],
            "text/plain": [
              "                                5962923  ...              5667588\n",
              "pk_cid                          1550586  ...              1489283\n",
              "pk_partition        2019-05-28 00:00:00  ...  2019-05-28 00:00:00\n",
              "short_term_deposit                    0  ...                    0\n",
              "loans                                 0  ...                    0\n",
              "mortgage                              0  ...                    0\n",
              "funds                                 0  ...                    0\n",
              "securities                            0  ...                    0\n",
              "long_term_deposit                     0  ...                    0\n",
              "em_account_pp                         0  ...                    0\n",
              "credit_card                           0  ...                    0\n",
              "payroll                               0  ...                    0\n",
              "pension_plan                          0  ...                    0\n",
              "payroll_account                       0  ...                    0\n",
              "emc_account                           0  ...                    0\n",
              "debit_card                            0  ...                    1\n",
              "em_account_p                          0  ...                    0\n",
              "em_acount                             1  ...                    1\n",
              "entry_date          2019-05-13 00:00:00  ...  2018-10-24 00:00:00\n",
              "entry_channel                       NaN  ...                  KHN\n",
              "active_customer                       1  ...                    1\n",
              "segment                             NaN  ...    02 - PARTICULARES\n",
              "country_id                           ES  ...                   ES\n",
              "region_code                          28  ...                    6\n",
              "gender                                0  ...                    0\n",
              "age                                  37  ...                   56\n",
              "deceased                              0  ...                    0\n",
              "salary                              NaN  ...                  NaN\n",
              "entry_date_year                    2019  ...                 2018\n",
              "entry_date_month                      5  ...                   10\n",
              "pk_partition_year                  2019  ...                 2019\n",
              "pk_partition_month                    5  ...                    5\n",
              "ConProducto                           1  ...                    1\n",
              "total_ahorro                          0  ...                    0\n",
              "total_inversion                       0  ...                    0\n",
              "total_financiacion                    0  ...                    0\n",
              "total_cuentas                         1  ...                    2\n",
              "EsEspañol                             1  ...                    1\n",
              "Num_cobros                            0  ...                    0\n",
              "Numero_bajas                          0  ...                    0\n",
              "Numero_altas                          0  ...                    0\n",
              "cluster                               0  ...                    0\n",
              "\n",
              "[41 rows x 5 columns]"
            ]
          },
          "metadata": {
            "tags": []
          },
          "execution_count": 7
        }
      ]
    },
    {
      "cell_type": "markdown",
      "metadata": {
        "id": "ljXfilpM2qGz"
      },
      "source": [
        "Para enriquecer nuestro modelo de personalización se han buscado en fuente externa (INE)  los siguientes datos: \n",
        "- La renta per capita por provincia.\n",
        "- Población por provincia. \n",
        "- Tasa de actividad por provinica \n",
        "- IPC por provinicia. "
      ],
      "id": "ljXfilpM2qGz"
    },
    {
      "cell_type": "code",
      "metadata": {
        "id": "Z68QtHjHpHja"
      },
      "source": [
        "df_renta=pd.read_excel(\"gdrive/MyDrive/EASY_MONEY_NUCLIO/data/renta.xlsx\")"
      ],
      "id": "Z68QtHjHpHja",
      "execution_count": null,
      "outputs": []
    },
    {
      "cell_type": "code",
      "metadata": {
        "colab": {
          "base_uri": "https://localhost:8080/",
          "height": 206
        },
        "id": "nT5f4HpAu7CJ",
        "outputId": "c2c2772c-bc19-4e87-8f13-ea48dcb7f704"
      },
      "source": [
        "df_renta.head()"
      ],
      "id": "nT5f4HpAu7CJ",
      "execution_count": null,
      "outputs": [
        {
          "output_type": "execute_result",
          "data": {
            "text/html": [
              "<div>\n",
              "<style scoped>\n",
              "    .dataframe tbody tr th:only-of-type {\n",
              "        vertical-align: middle;\n",
              "    }\n",
              "\n",
              "    .dataframe tbody tr th {\n",
              "        vertical-align: top;\n",
              "    }\n",
              "\n",
              "    .dataframe thead th {\n",
              "        text-align: right;\n",
              "    }\n",
              "</style>\n",
              "<table border=\"1\" class=\"dataframe\">\n",
              "  <thead>\n",
              "    <tr style=\"text-align: right;\">\n",
              "      <th></th>\n",
              "      <th>Provincia</th>\n",
              "      <th>Renta per cápita</th>\n",
              "    </tr>\n",
              "  </thead>\n",
              "  <tbody>\n",
              "    <tr>\n",
              "      <th>0</th>\n",
              "      <td>Álava</td>\n",
              "      <td>36.404</td>\n",
              "    </tr>\n",
              "    <tr>\n",
              "      <th>1</th>\n",
              "      <td>Madrid</td>\n",
              "      <td>35.091</td>\n",
              "    </tr>\n",
              "    <tr>\n",
              "      <th>2</th>\n",
              "      <td>Guipuzcoa</td>\n",
              "      <td>33.851</td>\n",
              "    </tr>\n",
              "    <tr>\n",
              "      <th>3</th>\n",
              "      <td>Vizcaya</td>\n",
              "      <td>31.792</td>\n",
              "    </tr>\n",
              "    <tr>\n",
              "      <th>4</th>\n",
              "      <td>Navarra</td>\n",
              "      <td>31.026</td>\n",
              "    </tr>\n",
              "  </tbody>\n",
              "</table>\n",
              "</div>"
            ],
            "text/plain": [
              "   Provincia Renta per cápita\n",
              "0      Álava          36.404 \n",
              "1     Madrid          35.091 \n",
              "2  Guipuzcoa          33.851 \n",
              "3    Vizcaya          31.792 \n",
              "4    Navarra          31.026 "
            ]
          },
          "metadata": {
            "tags": []
          },
          "execution_count": 9
        }
      ]
    },
    {
      "cell_type": "code",
      "metadata": {
        "id": "dvFiEyyo0G4y"
      },
      "source": [
        "regions_code = {1:['Álava', 'País Vasco'], 2:['Albacete', 'Castilla-La Mancha'], 3:['Alicante', 'Com. Valenciana'],4:['Almería','Andalucía'],5:['Ávila','Castilla y León'], 6:['Badajoz','Extremadura'],\n",
        "                        7:['Baleares','Islas Baleares'], 8:['Barcelona','Cataluña'],9:['Burgos','Castilla y León'], 10: ['Cáceres','Extremadura'], 11: ['Cádiz','Andalucía'], 12: ['Castellón','Com. Valenciana'],\n",
        "                        13: ['Ciudad Real','Castilla-La Mancha'], 14: ['Córdoba','Andalucía'], 15: ['La Coruña','Galicia'], 16: ['Cuenca','Castilla-La Mancha'], 17: ['Gerona','Cataluña'], 18: ['Granada','Andalucía'],\n",
        "                        19: ['Guadalajara','Castilla-La Mancha'], 20: ['Guipúzcoa','País Vasco'], 21: ['Huelva','Andalucía'], 22: ['Huesca','Aragón'], 23: ['Jaén','Andalucía'], 24: ['León','Castilla y León'],\n",
        "                        25: ['Lérida','Cataluña'], 26: ['La Rioja','La Rioja'], 27: ['Lugo','Galicia'], 28: ['Madrid','Madrid'], 29: ['Málaga','Andalucía'], 30: ['Murcia','Murcia'], 31: ['Navarra','Com. de Navarra'],\n",
        "                        32: ['Orense','Galicia'], 33: ['Asturias','Princ. de Asturias'], 34: ['Palencia','Castilla y León'], 35: ['Las Palmas','Islas Canarias'], 36: ['Pontevedra','Galicia'], 37: ['Salamanca','Castilla y León'],\n",
        "                        38: ['Santa Cruz de Tenerife','Islas Canarias'], 39: ['Cantabria','Cantabria'], 40: ['Segovia','Castilla y León'], 41: ['Sevilla','Andalucía'], 42: ['Soria','Castilla y León'], 43: ['Tarragona','Cataluña'], \n",
        "                        44: ['Teruel','Aragón'], 45: ['Toledo','Castilla-La Mancha'], 46: ['Valencia','Com. Valenciana'], 47: ['Valladolid','Castilla y León'], 48: ['Vizcaya','País Vasco'], 49: ['Zamora','Castilla y León'], \n",
        "                        50: ['Zaragoza','Aragón'], 51: ['Ceuta','Ceuta y Melilla'], 52: ['Melilla','Ceuta y Melilla']}"
      ],
      "id": "dvFiEyyo0G4y",
      "execution_count": null,
      "outputs": []
    },
    {
      "cell_type": "code",
      "metadata": {
        "id": "ivZG11J8vBAG"
      },
      "source": [
        "provincia={}\n",
        "for key, val in regions_code.items():\n",
        "    provincia[val[0]] = key \n",
        "df_renta['codigo']=df_renta['Provincia'].map(provincia)"
      ],
      "id": "ivZG11J8vBAG",
      "execution_count": null,
      "outputs": []
    },
    {
      "cell_type": "code",
      "metadata": {
        "colab": {
          "base_uri": "https://localhost:8080/",
          "height": 1000
        },
        "id": "_gsUNvgf0eew",
        "outputId": "d5bddb5e-0e52-4dd9-d564-30e05d064110"
      },
      "source": [
        "df_renta"
      ],
      "id": "_gsUNvgf0eew",
      "execution_count": null,
      "outputs": [
        {
          "output_type": "execute_result",
          "data": {
            "text/html": [
              "<div>\n",
              "<style scoped>\n",
              "    .dataframe tbody tr th:only-of-type {\n",
              "        vertical-align: middle;\n",
              "    }\n",
              "\n",
              "    .dataframe tbody tr th {\n",
              "        vertical-align: top;\n",
              "    }\n",
              "\n",
              "    .dataframe thead th {\n",
              "        text-align: right;\n",
              "    }\n",
              "</style>\n",
              "<table border=\"1\" class=\"dataframe\">\n",
              "  <thead>\n",
              "    <tr style=\"text-align: right;\">\n",
              "      <th></th>\n",
              "      <th>Provincia</th>\n",
              "      <th>Renta per cápita</th>\n",
              "      <th>codigo</th>\n",
              "    </tr>\n",
              "  </thead>\n",
              "  <tbody>\n",
              "    <tr>\n",
              "      <th>0</th>\n",
              "      <td>Álava</td>\n",
              "      <td>36.404</td>\n",
              "      <td>1.0</td>\n",
              "    </tr>\n",
              "    <tr>\n",
              "      <th>1</th>\n",
              "      <td>Madrid</td>\n",
              "      <td>35.091</td>\n",
              "      <td>28.0</td>\n",
              "    </tr>\n",
              "    <tr>\n",
              "      <th>2</th>\n",
              "      <td>Guipuzcoa</td>\n",
              "      <td>33.851</td>\n",
              "      <td>NaN</td>\n",
              "    </tr>\n",
              "    <tr>\n",
              "      <th>3</th>\n",
              "      <td>Vizcaya</td>\n",
              "      <td>31.792</td>\n",
              "      <td>48.0</td>\n",
              "    </tr>\n",
              "    <tr>\n",
              "      <th>4</th>\n",
              "      <td>Navarra</td>\n",
              "      <td>31.026</td>\n",
              "      <td>31.0</td>\n",
              "    </tr>\n",
              "    <tr>\n",
              "      <th>5</th>\n",
              "      <td>Barcelona</td>\n",
              "      <td>30.947</td>\n",
              "      <td>8.0</td>\n",
              "    </tr>\n",
              "    <tr>\n",
              "      <th>6</th>\n",
              "      <td>Tarragona</td>\n",
              "      <td>30.810</td>\n",
              "      <td>43.0</td>\n",
              "    </tr>\n",
              "    <tr>\n",
              "      <th>7</th>\n",
              "      <td>Burgos</td>\n",
              "      <td>29.571</td>\n",
              "      <td>9.0</td>\n",
              "    </tr>\n",
              "    <tr>\n",
              "      <th>8</th>\n",
              "      <td>Lérida</td>\n",
              "      <td>28.456</td>\n",
              "      <td>25.0</td>\n",
              "    </tr>\n",
              "    <tr>\n",
              "      <th>9</th>\n",
              "      <td>Zaragoza</td>\n",
              "      <td>28.386</td>\n",
              "      <td>50.0</td>\n",
              "    </tr>\n",
              "    <tr>\n",
              "      <th>10</th>\n",
              "      <td>Castellón</td>\n",
              "      <td>28.367</td>\n",
              "      <td>12.0</td>\n",
              "    </tr>\n",
              "    <tr>\n",
              "      <th>11</th>\n",
              "      <td>Gerona</td>\n",
              "      <td>28.184</td>\n",
              "      <td>17.0</td>\n",
              "    </tr>\n",
              "    <tr>\n",
              "      <th>12</th>\n",
              "      <td>Huesca</td>\n",
              "      <td>28.015</td>\n",
              "      <td>22.0</td>\n",
              "    </tr>\n",
              "    <tr>\n",
              "      <th>13</th>\n",
              "      <td>Baleares</td>\n",
              "      <td>27.870</td>\n",
              "      <td>7.0</td>\n",
              "    </tr>\n",
              "    <tr>\n",
              "      <th>14</th>\n",
              "      <td>La_Rioja</td>\n",
              "      <td>27.482</td>\n",
              "      <td>NaN</td>\n",
              "    </tr>\n",
              "    <tr>\n",
              "      <th>15</th>\n",
              "      <td>Palencia</td>\n",
              "      <td>27.346</td>\n",
              "      <td>34.0</td>\n",
              "    </tr>\n",
              "    <tr>\n",
              "      <th>16</th>\n",
              "      <td>Valladolid</td>\n",
              "      <td>26.901</td>\n",
              "      <td>47.0</td>\n",
              "    </tr>\n",
              "    <tr>\n",
              "      <th>17</th>\n",
              "      <td>Soria</td>\n",
              "      <td>26.626</td>\n",
              "      <td>42.0</td>\n",
              "    </tr>\n",
              "    <tr>\n",
              "      <th>18</th>\n",
              "      <td>Teruel</td>\n",
              "      <td>25.262</td>\n",
              "      <td>44.0</td>\n",
              "    </tr>\n",
              "    <tr>\n",
              "      <th>19</th>\n",
              "      <td>Coruña</td>\n",
              "      <td>23.816</td>\n",
              "      <td>NaN</td>\n",
              "    </tr>\n",
              "    <tr>\n",
              "      <th>20</th>\n",
              "      <td>Cantabria</td>\n",
              "      <td>23.646</td>\n",
              "      <td>39.0</td>\n",
              "    </tr>\n",
              "    <tr>\n",
              "      <th>21</th>\n",
              "      <td>Valencia</td>\n",
              "      <td>23.363</td>\n",
              "      <td>46.0</td>\n",
              "    </tr>\n",
              "    <tr>\n",
              "      <th>22</th>\n",
              "      <td>Lugo</td>\n",
              "      <td>23.320</td>\n",
              "      <td>27.0</td>\n",
              "    </tr>\n",
              "    <tr>\n",
              "      <th>23</th>\n",
              "      <td>Asturias</td>\n",
              "      <td>22.709</td>\n",
              "      <td>33.0</td>\n",
              "    </tr>\n",
              "    <tr>\n",
              "      <th>24</th>\n",
              "      <td>Cuenca</td>\n",
              "      <td>22.691</td>\n",
              "      <td>16.0</td>\n",
              "    </tr>\n",
              "    <tr>\n",
              "      <th>25</th>\n",
              "      <td>Pontevedra</td>\n",
              "      <td>22.586</td>\n",
              "      <td>36.0</td>\n",
              "    </tr>\n",
              "    <tr>\n",
              "      <th>26</th>\n",
              "      <td>Segovia</td>\n",
              "      <td>22.212</td>\n",
              "      <td>40.0</td>\n",
              "    </tr>\n",
              "    <tr>\n",
              "      <th>27</th>\n",
              "      <td>Orense</td>\n",
              "      <td>22.120</td>\n",
              "      <td>32.0</td>\n",
              "    </tr>\n",
              "    <tr>\n",
              "      <th>28</th>\n",
              "      <td>León</td>\n",
              "      <td>21.579</td>\n",
              "      <td>24.0</td>\n",
              "    </tr>\n",
              "    <tr>\n",
              "      <th>29</th>\n",
              "      <td>Ciudad_Real</td>\n",
              "      <td>21.563</td>\n",
              "      <td>NaN</td>\n",
              "    </tr>\n",
              "    <tr>\n",
              "      <th>30</th>\n",
              "      <td>Salamanca</td>\n",
              "      <td>21.187</td>\n",
              "      <td>37.0</td>\n",
              "    </tr>\n",
              "    <tr>\n",
              "      <th>31</th>\n",
              "      <td>Albacete</td>\n",
              "      <td>21.153</td>\n",
              "      <td>2.0</td>\n",
              "    </tr>\n",
              "    <tr>\n",
              "      <th>32</th>\n",
              "      <td>Murcia</td>\n",
              "      <td>21.094</td>\n",
              "      <td>30.0</td>\n",
              "    </tr>\n",
              "    <tr>\n",
              "      <th>33</th>\n",
              "      <td>Tenerife</td>\n",
              "      <td>21.076</td>\n",
              "      <td>NaN</td>\n",
              "    </tr>\n",
              "    <tr>\n",
              "      <th>34</th>\n",
              "      <td>Las_Palmas</td>\n",
              "      <td>20.813</td>\n",
              "      <td>NaN</td>\n",
              "    </tr>\n",
              "    <tr>\n",
              "      <th>35</th>\n",
              "      <td>Ávila</td>\n",
              "      <td>20.423</td>\n",
              "      <td>5.0</td>\n",
              "    </tr>\n",
              "    <tr>\n",
              "      <th>36</th>\n",
              "      <td>Guadalajara</td>\n",
              "      <td>20.415</td>\n",
              "      <td>19.0</td>\n",
              "    </tr>\n",
              "    <tr>\n",
              "      <th>37</th>\n",
              "      <td>Sevilla</td>\n",
              "      <td>20.314</td>\n",
              "      <td>41.0</td>\n",
              "    </tr>\n",
              "    <tr>\n",
              "      <th>38</th>\n",
              "      <td>Huelva</td>\n",
              "      <td>20.273</td>\n",
              "      <td>21.0</td>\n",
              "    </tr>\n",
              "    <tr>\n",
              "      <th>39</th>\n",
              "      <td>Almería</td>\n",
              "      <td>19.919</td>\n",
              "      <td>4.0</td>\n",
              "    </tr>\n",
              "    <tr>\n",
              "      <th>40</th>\n",
              "      <td>Zamora</td>\n",
              "      <td>19.813</td>\n",
              "      <td>49.0</td>\n",
              "    </tr>\n",
              "    <tr>\n",
              "      <th>41</th>\n",
              "      <td>Alicante</td>\n",
              "      <td>19.757</td>\n",
              "      <td>3.0</td>\n",
              "    </tr>\n",
              "    <tr>\n",
              "      <th>42</th>\n",
              "      <td>Cáceres</td>\n",
              "      <td>19.464</td>\n",
              "      <td>10.0</td>\n",
              "    </tr>\n",
              "    <tr>\n",
              "      <th>43</th>\n",
              "      <td>Málaga</td>\n",
              "      <td>18.801</td>\n",
              "      <td>29.0</td>\n",
              "    </tr>\n",
              "    <tr>\n",
              "      <th>44</th>\n",
              "      <td>Jaén</td>\n",
              "      <td>18.628</td>\n",
              "      <td>23.0</td>\n",
              "    </tr>\n",
              "    <tr>\n",
              "      <th>45</th>\n",
              "      <td>Toledo</td>\n",
              "      <td>18.617</td>\n",
              "      <td>45.0</td>\n",
              "    </tr>\n",
              "    <tr>\n",
              "      <th>46</th>\n",
              "      <td>Córdoba</td>\n",
              "      <td>18.525</td>\n",
              "      <td>14.0</td>\n",
              "    </tr>\n",
              "    <tr>\n",
              "      <th>47</th>\n",
              "      <td>Badajoz</td>\n",
              "      <td>18.453</td>\n",
              "      <td>6.0</td>\n",
              "    </tr>\n",
              "    <tr>\n",
              "      <th>48</th>\n",
              "      <td>Granada</td>\n",
              "      <td>18.181</td>\n",
              "      <td>18.0</td>\n",
              "    </tr>\n",
              "    <tr>\n",
              "      <th>49</th>\n",
              "      <td>Cádiz</td>\n",
              "      <td>18.050</td>\n",
              "      <td>11.0</td>\n",
              "    </tr>\n",
              "  </tbody>\n",
              "</table>\n",
              "</div>"
            ],
            "text/plain": [
              "      Provincia Renta per cápita  codigo\n",
              "0         Álava          36.404      1.0\n",
              "1        Madrid          35.091     28.0\n",
              "2     Guipuzcoa          33.851      NaN\n",
              "3       Vizcaya          31.792     48.0\n",
              "4       Navarra          31.026     31.0\n",
              "5     Barcelona          30.947      8.0\n",
              "6     Tarragona          30.810     43.0\n",
              "7        Burgos          29.571      9.0\n",
              "8        Lérida          28.456     25.0\n",
              "9      Zaragoza          28.386     50.0\n",
              "10    Castellón          28.367     12.0\n",
              "11       Gerona          28.184     17.0\n",
              "12       Huesca          28.015     22.0\n",
              "13     Baleares          27.870      7.0\n",
              "14     La_Rioja          27.482      NaN\n",
              "15     Palencia          27.346     34.0\n",
              "16   Valladolid          26.901     47.0\n",
              "17        Soria          26.626     42.0\n",
              "18       Teruel          25.262     44.0\n",
              "19       Coruña          23.816      NaN\n",
              "20    Cantabria          23.646     39.0\n",
              "21     Valencia          23.363     46.0\n",
              "22         Lugo          23.320     27.0\n",
              "23     Asturias          22.709     33.0\n",
              "24       Cuenca          22.691     16.0\n",
              "25   Pontevedra          22.586     36.0\n",
              "26      Segovia          22.212     40.0\n",
              "27       Orense          22.120     32.0\n",
              "28         León          21.579     24.0\n",
              "29  Ciudad_Real          21.563      NaN\n",
              "30    Salamanca          21.187     37.0\n",
              "31     Albacete          21.153      2.0\n",
              "32       Murcia          21.094     30.0\n",
              "33     Tenerife          21.076      NaN\n",
              "34   Las_Palmas          20.813      NaN\n",
              "35        Ávila          20.423      5.0\n",
              "36  Guadalajara          20.415     19.0\n",
              "37      Sevilla          20.314     41.0\n",
              "38       Huelva          20.273     21.0\n",
              "39      Almería          19.919      4.0\n",
              "40       Zamora          19.813     49.0\n",
              "41     Alicante          19.757      3.0\n",
              "42      Cáceres          19.464     10.0\n",
              "43       Málaga          18.801     29.0\n",
              "44         Jaén          18.628     23.0\n",
              "45       Toledo          18.617     45.0\n",
              "46      Córdoba          18.525     14.0\n",
              "47      Badajoz          18.453      6.0\n",
              "48      Granada          18.181     18.0\n",
              "49        Cádiz          18.050     11.0"
            ]
          },
          "metadata": {
            "tags": []
          },
          "execution_count": 12
        }
      ]
    },
    {
      "cell_type": "code",
      "metadata": {
        "id": "STynGxov0yLp"
      },
      "source": [
        "del(df_renta['Provincia'])"
      ],
      "id": "STynGxov0yLp",
      "execution_count": null,
      "outputs": []
    },
    {
      "cell_type": "code",
      "metadata": {
        "id": "Z8esfK5xycww"
      },
      "source": [
        "df_renta.columns=['Renta per cápita','region_code']"
      ],
      "id": "Z8esfK5xycww",
      "execution_count": null,
      "outputs": []
    },
    {
      "cell_type": "code",
      "metadata": {
        "id": "MR5Q9t2VHjqI"
      },
      "source": [
        "df_poblacion=pd.read_csv(\"gdrive/MyDrive/EASY_MONEY_NUCLIO/data/poblacion_por_provincias.csv\",sep=\";\")"
      ],
      "id": "MR5Q9t2VHjqI",
      "execution_count": null,
      "outputs": []
    },
    {
      "cell_type": "code",
      "metadata": {
        "id": "sas_74oCIFD5"
      },
      "source": [
        "df_poblacion=df_poblacion[(df_poblacion['Sexo']=='Total') & (df_poblacion['Periodo']==2019)]"
      ],
      "id": "sas_74oCIFD5",
      "execution_count": null,
      "outputs": []
    },
    {
      "cell_type": "code",
      "metadata": {
        "id": "Hta_vmWJQRpF"
      },
      "source": [
        "df_poblacion=df_poblacion[(df_poblacion['Provincias']!='To') &(df_poblacion['Provincias']!='Total')]"
      ],
      "id": "Hta_vmWJQRpF",
      "execution_count": null,
      "outputs": []
    },
    {
      "cell_type": "code",
      "metadata": {
        "id": "opxKcyvfIjql"
      },
      "source": [
        "df_poblacion['Provincias']=df_poblacion['Provincias'].str.slice(start=0,stop=2).astype('float')"
      ],
      "id": "opxKcyvfIjql",
      "execution_count": null,
      "outputs": []
    },
    {
      "cell_type": "code",
      "metadata": {
        "id": "gA1GB3J6JNVP"
      },
      "source": [
        "df_poblacion.reset_index(drop=True,inplace=True)"
      ],
      "id": "gA1GB3J6JNVP",
      "execution_count": null,
      "outputs": []
    },
    {
      "cell_type": "code",
      "metadata": {
        "id": "5KwtQ1RgJeYg"
      },
      "source": [
        "df_poblacion.drop(['Sexo','Periodo'],axis=1,inplace=True)"
      ],
      "id": "5KwtQ1RgJeYg",
      "execution_count": null,
      "outputs": []
    },
    {
      "cell_type": "code",
      "metadata": {
        "id": "oKgrND38KlMR"
      },
      "source": [
        "df_poblacion.columns=['region_code','poblacion']"
      ],
      "id": "oKgrND38KlMR",
      "execution_count": null,
      "outputs": []
    },
    {
      "cell_type": "code",
      "metadata": {
        "colab": {
          "base_uri": "https://localhost:8080/",
          "height": 1000
        },
        "id": "36ahwDixLBYQ",
        "outputId": "2462846c-aedf-450b-dfc5-a7db3bef1b57"
      },
      "source": [
        "df_poblacion"
      ],
      "id": "36ahwDixLBYQ",
      "execution_count": null,
      "outputs": [
        {
          "output_type": "execute_result",
          "data": {
            "text/html": [
              "<div>\n",
              "<style scoped>\n",
              "    .dataframe tbody tr th:only-of-type {\n",
              "        vertical-align: middle;\n",
              "    }\n",
              "\n",
              "    .dataframe tbody tr th {\n",
              "        vertical-align: top;\n",
              "    }\n",
              "\n",
              "    .dataframe thead th {\n",
              "        text-align: right;\n",
              "    }\n",
              "</style>\n",
              "<table border=\"1\" class=\"dataframe\">\n",
              "  <thead>\n",
              "    <tr style=\"text-align: right;\">\n",
              "      <th></th>\n",
              "      <th>region_code</th>\n",
              "      <th>poblacion</th>\n",
              "    </tr>\n",
              "  </thead>\n",
              "  <tbody>\n",
              "    <tr>\n",
              "      <th>0</th>\n",
              "      <td>2.0</td>\n",
              "      <td>388.167</td>\n",
              "    </tr>\n",
              "    <tr>\n",
              "      <th>1</th>\n",
              "      <td>3.0</td>\n",
              "      <td>1.858.683</td>\n",
              "    </tr>\n",
              "    <tr>\n",
              "      <th>2</th>\n",
              "      <td>4.0</td>\n",
              "      <td>716.820</td>\n",
              "    </tr>\n",
              "    <tr>\n",
              "      <th>3</th>\n",
              "      <td>1.0</td>\n",
              "      <td>331.549</td>\n",
              "    </tr>\n",
              "    <tr>\n",
              "      <th>4</th>\n",
              "      <td>33.0</td>\n",
              "      <td>1.022.800</td>\n",
              "    </tr>\n",
              "    <tr>\n",
              "      <th>5</th>\n",
              "      <td>5.0</td>\n",
              "      <td>157.640</td>\n",
              "    </tr>\n",
              "    <tr>\n",
              "      <th>6</th>\n",
              "      <td>6.0</td>\n",
              "      <td>673.559</td>\n",
              "    </tr>\n",
              "    <tr>\n",
              "      <th>7</th>\n",
              "      <td>7.0</td>\n",
              "      <td>1.149.460</td>\n",
              "    </tr>\n",
              "    <tr>\n",
              "      <th>8</th>\n",
              "      <td>8.0</td>\n",
              "      <td>5.664.579</td>\n",
              "    </tr>\n",
              "    <tr>\n",
              "      <th>9</th>\n",
              "      <td>48.0</td>\n",
              "      <td>1.152.651</td>\n",
              "    </tr>\n",
              "    <tr>\n",
              "      <th>10</th>\n",
              "      <td>9.0</td>\n",
              "      <td>356.958</td>\n",
              "    </tr>\n",
              "    <tr>\n",
              "      <th>11</th>\n",
              "      <td>10.0</td>\n",
              "      <td>394.151</td>\n",
              "    </tr>\n",
              "    <tr>\n",
              "      <th>12</th>\n",
              "      <td>11.0</td>\n",
              "      <td>1.240.155</td>\n",
              "    </tr>\n",
              "    <tr>\n",
              "      <th>13</th>\n",
              "      <td>39.0</td>\n",
              "      <td>581.078</td>\n",
              "    </tr>\n",
              "    <tr>\n",
              "      <th>14</th>\n",
              "      <td>12.0</td>\n",
              "      <td>579.962</td>\n",
              "    </tr>\n",
              "    <tr>\n",
              "      <th>15</th>\n",
              "      <td>13.0</td>\n",
              "      <td>495.761</td>\n",
              "    </tr>\n",
              "    <tr>\n",
              "      <th>16</th>\n",
              "      <td>14.0</td>\n",
              "      <td>782.979</td>\n",
              "    </tr>\n",
              "    <tr>\n",
              "      <th>17</th>\n",
              "      <td>15.0</td>\n",
              "      <td>1.119.596</td>\n",
              "    </tr>\n",
              "    <tr>\n",
              "      <th>18</th>\n",
              "      <td>16.0</td>\n",
              "      <td>196.329</td>\n",
              "    </tr>\n",
              "    <tr>\n",
              "      <th>19</th>\n",
              "      <td>20.0</td>\n",
              "      <td>723.576</td>\n",
              "    </tr>\n",
              "    <tr>\n",
              "      <th>20</th>\n",
              "      <td>17.0</td>\n",
              "      <td>771.044</td>\n",
              "    </tr>\n",
              "    <tr>\n",
              "      <th>21</th>\n",
              "      <td>18.0</td>\n",
              "      <td>914.678</td>\n",
              "    </tr>\n",
              "    <tr>\n",
              "      <th>22</th>\n",
              "      <td>19.0</td>\n",
              "      <td>257.762</td>\n",
              "    </tr>\n",
              "    <tr>\n",
              "      <th>23</th>\n",
              "      <td>21.0</td>\n",
              "      <td>521.870</td>\n",
              "    </tr>\n",
              "    <tr>\n",
              "      <th>24</th>\n",
              "      <td>22.0</td>\n",
              "      <td>220.461</td>\n",
              "    </tr>\n",
              "    <tr>\n",
              "      <th>25</th>\n",
              "      <td>23.0</td>\n",
              "      <td>633.564</td>\n",
              "    </tr>\n",
              "    <tr>\n",
              "      <th>26</th>\n",
              "      <td>24.0</td>\n",
              "      <td>460.001</td>\n",
              "    </tr>\n",
              "    <tr>\n",
              "      <th>27</th>\n",
              "      <td>25.0</td>\n",
              "      <td>434.930</td>\n",
              "    </tr>\n",
              "    <tr>\n",
              "      <th>28</th>\n",
              "      <td>27.0</td>\n",
              "      <td>329.587</td>\n",
              "    </tr>\n",
              "    <tr>\n",
              "      <th>29</th>\n",
              "      <td>28.0</td>\n",
              "      <td>6.663.394</td>\n",
              "    </tr>\n",
              "    <tr>\n",
              "      <th>30</th>\n",
              "      <td>29.0</td>\n",
              "      <td>1.661.785</td>\n",
              "    </tr>\n",
              "    <tr>\n",
              "      <th>31</th>\n",
              "      <td>30.0</td>\n",
              "      <td>1.493.898</td>\n",
              "    </tr>\n",
              "    <tr>\n",
              "      <th>32</th>\n",
              "      <td>31.0</td>\n",
              "      <td>654.214</td>\n",
              "    </tr>\n",
              "    <tr>\n",
              "      <th>33</th>\n",
              "      <td>32.0</td>\n",
              "      <td>307.651</td>\n",
              "    </tr>\n",
              "    <tr>\n",
              "      <th>34</th>\n",
              "      <td>34.0</td>\n",
              "      <td>160.980</td>\n",
              "    </tr>\n",
              "    <tr>\n",
              "      <th>35</th>\n",
              "      <td>35.0</td>\n",
              "      <td>1.120.406</td>\n",
              "    </tr>\n",
              "    <tr>\n",
              "      <th>36</th>\n",
              "      <td>36.0</td>\n",
              "      <td>942.665</td>\n",
              "    </tr>\n",
              "    <tr>\n",
              "      <th>37</th>\n",
              "      <td>26.0</td>\n",
              "      <td>316.798</td>\n",
              "    </tr>\n",
              "    <tr>\n",
              "      <th>38</th>\n",
              "      <td>37.0</td>\n",
              "      <td>330.119</td>\n",
              "    </tr>\n",
              "    <tr>\n",
              "      <th>39</th>\n",
              "      <td>38.0</td>\n",
              "      <td>1.032.983</td>\n",
              "    </tr>\n",
              "    <tr>\n",
              "      <th>40</th>\n",
              "      <td>40.0</td>\n",
              "      <td>153.129</td>\n",
              "    </tr>\n",
              "    <tr>\n",
              "      <th>41</th>\n",
              "      <td>41.0</td>\n",
              "      <td>1.942.389</td>\n",
              "    </tr>\n",
              "    <tr>\n",
              "      <th>42</th>\n",
              "      <td>42.0</td>\n",
              "      <td>88.636</td>\n",
              "    </tr>\n",
              "    <tr>\n",
              "      <th>43</th>\n",
              "      <td>43.0</td>\n",
              "      <td>804.664</td>\n",
              "    </tr>\n",
              "    <tr>\n",
              "      <th>44</th>\n",
              "      <td>44.0</td>\n",
              "      <td>134.137</td>\n",
              "    </tr>\n",
              "    <tr>\n",
              "      <th>45</th>\n",
              "      <td>45.0</td>\n",
              "      <td>694.844</td>\n",
              "    </tr>\n",
              "    <tr>\n",
              "      <th>46</th>\n",
              "      <td>46.0</td>\n",
              "      <td>2.565.124</td>\n",
              "    </tr>\n",
              "    <tr>\n",
              "      <th>47</th>\n",
              "      <td>47.0</td>\n",
              "      <td>519.546</td>\n",
              "    </tr>\n",
              "    <tr>\n",
              "      <th>48</th>\n",
              "      <td>49.0</td>\n",
              "      <td>172.539</td>\n",
              "    </tr>\n",
              "    <tr>\n",
              "      <th>49</th>\n",
              "      <td>50.0</td>\n",
              "      <td>964.693</td>\n",
              "    </tr>\n",
              "    <tr>\n",
              "      <th>50</th>\n",
              "      <td>51.0</td>\n",
              "      <td>84.777</td>\n",
              "    </tr>\n",
              "    <tr>\n",
              "      <th>51</th>\n",
              "      <td>52.0</td>\n",
              "      <td>86.487</td>\n",
              "    </tr>\n",
              "  </tbody>\n",
              "</table>\n",
              "</div>"
            ],
            "text/plain": [
              "    region_code  poblacion\n",
              "0           2.0    388.167\n",
              "1           3.0  1.858.683\n",
              "2           4.0    716.820\n",
              "3           1.0    331.549\n",
              "4          33.0  1.022.800\n",
              "5           5.0    157.640\n",
              "6           6.0    673.559\n",
              "7           7.0  1.149.460\n",
              "8           8.0  5.664.579\n",
              "9          48.0  1.152.651\n",
              "10          9.0    356.958\n",
              "11         10.0    394.151\n",
              "12         11.0  1.240.155\n",
              "13         39.0    581.078\n",
              "14         12.0    579.962\n",
              "15         13.0    495.761\n",
              "16         14.0    782.979\n",
              "17         15.0  1.119.596\n",
              "18         16.0    196.329\n",
              "19         20.0    723.576\n",
              "20         17.0    771.044\n",
              "21         18.0    914.678\n",
              "22         19.0    257.762\n",
              "23         21.0    521.870\n",
              "24         22.0    220.461\n",
              "25         23.0    633.564\n",
              "26         24.0    460.001\n",
              "27         25.0    434.930\n",
              "28         27.0    329.587\n",
              "29         28.0  6.663.394\n",
              "30         29.0  1.661.785\n",
              "31         30.0  1.493.898\n",
              "32         31.0    654.214\n",
              "33         32.0    307.651\n",
              "34         34.0    160.980\n",
              "35         35.0  1.120.406\n",
              "36         36.0    942.665\n",
              "37         26.0    316.798\n",
              "38         37.0    330.119\n",
              "39         38.0  1.032.983\n",
              "40         40.0    153.129\n",
              "41         41.0  1.942.389\n",
              "42         42.0     88.636\n",
              "43         43.0    804.664\n",
              "44         44.0    134.137\n",
              "45         45.0    694.844\n",
              "46         46.0  2.565.124\n",
              "47         47.0    519.546\n",
              "48         49.0    172.539\n",
              "49         50.0    964.693\n",
              "50         51.0     84.777\n",
              "51         52.0     86.487"
            ]
          },
          "metadata": {
            "tags": []
          },
          "execution_count": 22
        }
      ]
    },
    {
      "cell_type": "code",
      "metadata": {
        "id": "dpnoFVitLJp1"
      },
      "source": [
        "df_tasa_actividad=pd.read_csv(\"gdrive/MyDrive/EASY_MONEY_NUCLIO/data/tasa_de_actividad.csv\",sep=\";\")"
      ],
      "id": "dpnoFVitLJp1",
      "execution_count": null,
      "outputs": []
    },
    {
      "cell_type": "code",
      "metadata": {
        "id": "BqMeYzmyLW8l"
      },
      "source": [
        "df_tasa_actividad=df_tasa_actividad[(df_tasa_actividad['Sexo']=='Ambos sexos')& (df_tasa_actividad['Provincias']!='Total Nacional') & (df_tasa_actividad['Periodo']=='2019T2') & (df_tasa_actividad['Tasas']=='Tasa de actividad')]"
      ],
      "id": "BqMeYzmyLW8l",
      "execution_count": null,
      "outputs": []
    },
    {
      "cell_type": "code",
      "metadata": {
        "id": "iKzYNoXcMdEA"
      },
      "source": [
        "df_tasa_actividad.drop(['Sexo','Tasas','Periodo'],axis=1,inplace=True)"
      ],
      "id": "iKzYNoXcMdEA",
      "execution_count": null,
      "outputs": []
    },
    {
      "cell_type": "code",
      "metadata": {
        "id": "YJFjMPQpMv8U"
      },
      "source": [
        "df_tasa_actividad['Provincias']=df_tasa_actividad['Provincias'].str.slice(start=0,stop=2).astype('float')"
      ],
      "id": "YJFjMPQpMv8U",
      "execution_count": null,
      "outputs": []
    },
    {
      "cell_type": "code",
      "metadata": {
        "id": "UcM_q5dDM9eK"
      },
      "source": [
        "df_tasa_actividad.reset_index(drop=True,inplace=True)"
      ],
      "id": "UcM_q5dDM9eK",
      "execution_count": null,
      "outputs": []
    },
    {
      "cell_type": "code",
      "metadata": {
        "id": "UwfRw7_1PAeK"
      },
      "source": [
        "df_tasa_actividad.columns=['region_code','Indice Actividad']"
      ],
      "id": "UwfRw7_1PAeK",
      "execution_count": null,
      "outputs": []
    },
    {
      "cell_type": "code",
      "metadata": {
        "id": "Rs2ra-pANIDp"
      },
      "source": [
        "df_IPC=pd.read_csv(\"gdrive/MyDrive/EASY_MONEY_NUCLIO/data/indice_IPC.csv\",sep=\";\")"
      ],
      "id": "Rs2ra-pANIDp",
      "execution_count": null,
      "outputs": []
    },
    {
      "cell_type": "code",
      "metadata": {
        "id": "vWilxdQENTPw"
      },
      "source": [
        "df_IPC=df_IPC[(df_IPC['Comunidades y Ciudades Autónomas']!='Nacional')&(df_IPC['Grupos ECOICOP']=='Índice general')&(df_IPC['Tipo de dato']=='Índice')&(df_IPC['Periodo']=='2019M06')]"
      ],
      "id": "vWilxdQENTPw",
      "execution_count": null,
      "outputs": []
    },
    {
      "cell_type": "code",
      "metadata": {
        "id": "3FbHbiDqOFCo"
      },
      "source": [
        "df_IPC['Comunidades y Ciudades Autónomas']=df_IPC['Comunidades y Ciudades Autónomas'].str.slice(start=0,stop=2).astype('float')"
      ],
      "id": "3FbHbiDqOFCo",
      "execution_count": null,
      "outputs": []
    },
    {
      "cell_type": "code",
      "metadata": {
        "id": "WYsk7yazOacQ"
      },
      "source": [
        "df_IPC.drop(['Grupos ECOICOP','Tipo de dato','Periodo'],axis=1,inplace=True)"
      ],
      "id": "WYsk7yazOacQ",
      "execution_count": null,
      "outputs": []
    },
    {
      "cell_type": "code",
      "metadata": {
        "id": "DzCASZ0fOs8c"
      },
      "source": [
        "df_IPC.columns=['region_code','IPC']"
      ],
      "id": "DzCASZ0fOs8c",
      "execution_count": null,
      "outputs": []
    },
    {
      "cell_type": "code",
      "metadata": {
        "id": "lLc0-kv5O1Qy"
      },
      "source": [
        "df_IPC.reset_index(drop=True,inplace=True)"
      ],
      "id": "lLc0-kv5O1Qy",
      "execution_count": null,
      "outputs": []
    },
    {
      "cell_type": "code",
      "metadata": {
        "colab": {
          "base_uri": "https://localhost:8080/",
          "height": 645
        },
        "id": "bgD_A0DreZdj",
        "outputId": "ec663e32-12c9-4c7d-d35d-b1f2bce5432e"
      },
      "source": [
        "df_IPC"
      ],
      "id": "bgD_A0DreZdj",
      "execution_count": null,
      "outputs": [
        {
          "output_type": "execute_result",
          "data": {
            "text/html": [
              "<div>\n",
              "<style scoped>\n",
              "    .dataframe tbody tr th:only-of-type {\n",
              "        vertical-align: middle;\n",
              "    }\n",
              "\n",
              "    .dataframe tbody tr th {\n",
              "        vertical-align: top;\n",
              "    }\n",
              "\n",
              "    .dataframe thead th {\n",
              "        text-align: right;\n",
              "    }\n",
              "</style>\n",
              "<table border=\"1\" class=\"dataframe\">\n",
              "  <thead>\n",
              "    <tr style=\"text-align: right;\">\n",
              "      <th></th>\n",
              "      <th>region_code</th>\n",
              "      <th>IPC</th>\n",
              "    </tr>\n",
              "  </thead>\n",
              "  <tbody>\n",
              "    <tr>\n",
              "      <th>0</th>\n",
              "      <td>1.0</td>\n",
              "      <td>104,507</td>\n",
              "    </tr>\n",
              "    <tr>\n",
              "      <th>1</th>\n",
              "      <td>2.0</td>\n",
              "      <td>104,608</td>\n",
              "    </tr>\n",
              "    <tr>\n",
              "      <th>2</th>\n",
              "      <td>3.0</td>\n",
              "      <td>104,438</td>\n",
              "    </tr>\n",
              "    <tr>\n",
              "      <th>3</th>\n",
              "      <td>4.0</td>\n",
              "      <td>104,605</td>\n",
              "    </tr>\n",
              "    <tr>\n",
              "      <th>4</th>\n",
              "      <td>5.0</td>\n",
              "      <td>104,052</td>\n",
              "    </tr>\n",
              "    <tr>\n",
              "      <th>5</th>\n",
              "      <td>6.0</td>\n",
              "      <td>104,768</td>\n",
              "    </tr>\n",
              "    <tr>\n",
              "      <th>6</th>\n",
              "      <td>7.0</td>\n",
              "      <td>105,164</td>\n",
              "    </tr>\n",
              "    <tr>\n",
              "      <th>7</th>\n",
              "      <td>8.0</td>\n",
              "      <td>104,974</td>\n",
              "    </tr>\n",
              "    <tr>\n",
              "      <th>8</th>\n",
              "      <td>9.0</td>\n",
              "      <td>105,528</td>\n",
              "    </tr>\n",
              "    <tr>\n",
              "      <th>9</th>\n",
              "      <td>10.0</td>\n",
              "      <td>104,688</td>\n",
              "    </tr>\n",
              "    <tr>\n",
              "      <th>10</th>\n",
              "      <td>11.0</td>\n",
              "      <td>104,39</td>\n",
              "    </tr>\n",
              "    <tr>\n",
              "      <th>11</th>\n",
              "      <td>12.0</td>\n",
              "      <td>104,842</td>\n",
              "    </tr>\n",
              "    <tr>\n",
              "      <th>12</th>\n",
              "      <td>13.0</td>\n",
              "      <td>104,71</td>\n",
              "    </tr>\n",
              "    <tr>\n",
              "      <th>13</th>\n",
              "      <td>14.0</td>\n",
              "      <td>103,98</td>\n",
              "    </tr>\n",
              "    <tr>\n",
              "      <th>14</th>\n",
              "      <td>15.0</td>\n",
              "      <td>105,14</td>\n",
              "    </tr>\n",
              "    <tr>\n",
              "      <th>15</th>\n",
              "      <td>16.0</td>\n",
              "      <td>105,025</td>\n",
              "    </tr>\n",
              "    <tr>\n",
              "      <th>16</th>\n",
              "      <td>17.0</td>\n",
              "      <td>105,279</td>\n",
              "    </tr>\n",
              "    <tr>\n",
              "      <th>17</th>\n",
              "      <td>18.0</td>\n",
              "      <td>103,149</td>\n",
              "    </tr>\n",
              "    <tr>\n",
              "      <th>18</th>\n",
              "      <td>19.0</td>\n",
              "      <td>103,24</td>\n",
              "    </tr>\n",
              "  </tbody>\n",
              "</table>\n",
              "</div>"
            ],
            "text/plain": [
              "    region_code      IPC\n",
              "0           1.0  104,507\n",
              "1           2.0  104,608\n",
              "2           3.0  104,438\n",
              "3           4.0  104,605\n",
              "4           5.0  104,052\n",
              "5           6.0  104,768\n",
              "6           7.0  105,164\n",
              "7           8.0  104,974\n",
              "8           9.0  105,528\n",
              "9          10.0  104,688\n",
              "10         11.0   104,39\n",
              "11         12.0  104,842\n",
              "12         13.0   104,71\n",
              "13         14.0   103,98\n",
              "14         15.0   105,14\n",
              "15         16.0  105,025\n",
              "16         17.0  105,279\n",
              "17         18.0  103,149\n",
              "18         19.0   103,24"
            ]
          },
          "metadata": {
            "tags": []
          },
          "execution_count": 35
        }
      ]
    },
    {
      "cell_type": "markdown",
      "metadata": {
        "id": "PTk1iTmv3GGR"
      },
      "source": [
        "### <a id = \"dataperson\"></a>\n",
        "# Creación del dataset de personalización\n",
        "[Volver al índice](#toc)"
      ],
      "id": "PTk1iTmv3GGR"
    },
    {
      "cell_type": "markdown",
      "metadata": {
        "id": "ZrbHbt2X5eXR"
      },
      "source": [
        "Basicamente queremos unir los tres dataframes cargados anteriormente de tal forma que obtengamos un dataset resultante con los 10000 clientes de los quales queremos personalizar el envio de correos y sus respectivos atributos. "
      ],
      "id": "ZrbHbt2X5eXR"
    },
    {
      "cell_type": "code",
      "metadata": {
        "id": "L23FNUHjyK4z"
      },
      "source": [
        "df_tot=pd.merge(df_tot,df_renta,on='region_code',how='left')"
      ],
      "id": "L23FNUHjyK4z",
      "execution_count": null,
      "outputs": []
    },
    {
      "cell_type": "code",
      "metadata": {
        "id": "ByrT_d66y6Dn"
      },
      "source": [
        "df_tot['Renta per cápita'].fillna(df_tot['Renta per cápita'].median(),inplace=True)"
      ],
      "id": "ByrT_d66y6Dn",
      "execution_count": null,
      "outputs": []
    },
    {
      "cell_type": "code",
      "metadata": {
        "id": "1V8lkEI8PWpV"
      },
      "source": [
        "df_tot=pd.merge(df_tot,df_poblacion,on='region_code',how='left')"
      ],
      "id": "1V8lkEI8PWpV",
      "execution_count": null,
      "outputs": []
    },
    {
      "cell_type": "code",
      "metadata": {
        "id": "w8k_qnqqRDhA"
      },
      "source": [
        "df_tot=pd.merge(df_tot,df_tasa_actividad,on='region_code',how='left')"
      ],
      "id": "w8k_qnqqRDhA",
      "execution_count": null,
      "outputs": []
    },
    {
      "cell_type": "code",
      "metadata": {
        "id": "2mdNTFdwRMbs"
      },
      "source": [
        "df_tot=pd.merge(df_tot,df_IPC,on='region_code',how='left')"
      ],
      "id": "2mdNTFdwRMbs",
      "execution_count": null,
      "outputs": []
    },
    {
      "cell_type": "code",
      "metadata": {
        "id": "UCMGpGkT3rI_"
      },
      "source": [
        "df_recomend.columns=['pk_cid','target']"
      ],
      "id": "UCMGpGkT3rI_",
      "execution_count": null,
      "outputs": []
    },
    {
      "cell_type": "code",
      "metadata": {
        "id": "ImL_E_UYHXEP"
      },
      "source": [
        "df_pers=pd.merge(df_recomend,df_tot,on='pk_cid',how='left').drop_duplicates(['pk_cid','target'],keep='first').reset_index(drop=True)"
      ],
      "id": "ImL_E_UYHXEP",
      "execution_count": null,
      "outputs": []
    },
    {
      "cell_type": "code",
      "metadata": {
        "colab": {
          "base_uri": "https://localhost:8080/",
          "height": 348
        },
        "id": "efUUU4GZ4JyH",
        "outputId": "b8b40ac4-dfd9-4afd-afa1-80aeab4a7b8b"
      },
      "source": [
        "df_pers.head()"
      ],
      "id": "efUUU4GZ4JyH",
      "execution_count": null,
      "outputs": [
        {
          "output_type": "execute_result",
          "data": {
            "text/html": [
              "<div>\n",
              "<style scoped>\n",
              "    .dataframe tbody tr th:only-of-type {\n",
              "        vertical-align: middle;\n",
              "    }\n",
              "\n",
              "    .dataframe tbody tr th {\n",
              "        vertical-align: top;\n",
              "    }\n",
              "\n",
              "    .dataframe thead th {\n",
              "        text-align: right;\n",
              "    }\n",
              "</style>\n",
              "<table border=\"1\" class=\"dataframe\">\n",
              "  <thead>\n",
              "    <tr style=\"text-align: right;\">\n",
              "      <th></th>\n",
              "      <th>pk_cid</th>\n",
              "      <th>target</th>\n",
              "      <th>pk_partition</th>\n",
              "      <th>short_term_deposit</th>\n",
              "      <th>loans</th>\n",
              "      <th>mortgage</th>\n",
              "      <th>funds</th>\n",
              "      <th>securities</th>\n",
              "      <th>long_term_deposit</th>\n",
              "      <th>em_account_pp</th>\n",
              "      <th>credit_card</th>\n",
              "      <th>payroll</th>\n",
              "      <th>pension_plan</th>\n",
              "      <th>payroll_account</th>\n",
              "      <th>emc_account</th>\n",
              "      <th>debit_card</th>\n",
              "      <th>em_account_p</th>\n",
              "      <th>em_acount</th>\n",
              "      <th>entry_date</th>\n",
              "      <th>entry_channel</th>\n",
              "      <th>active_customer</th>\n",
              "      <th>segment</th>\n",
              "      <th>country_id</th>\n",
              "      <th>region_code</th>\n",
              "      <th>gender</th>\n",
              "      <th>age</th>\n",
              "      <th>deceased</th>\n",
              "      <th>salary</th>\n",
              "      <th>entry_date_year</th>\n",
              "      <th>entry_date_month</th>\n",
              "      <th>pk_partition_year</th>\n",
              "      <th>pk_partition_month</th>\n",
              "      <th>ConProducto</th>\n",
              "      <th>total_ahorro</th>\n",
              "      <th>total_inversion</th>\n",
              "      <th>total_financiacion</th>\n",
              "      <th>total_cuentas</th>\n",
              "      <th>EsEspañol</th>\n",
              "      <th>Num_cobros</th>\n",
              "      <th>Numero_bajas</th>\n",
              "      <th>Numero_altas</th>\n",
              "      <th>cluster</th>\n",
              "      <th>Renta per cápita</th>\n",
              "      <th>poblacion</th>\n",
              "      <th>Indice Actividad</th>\n",
              "      <th>IPC</th>\n",
              "    </tr>\n",
              "  </thead>\n",
              "  <tbody>\n",
              "    <tr>\n",
              "      <th>0</th>\n",
              "      <td>1459181</td>\n",
              "      <td>em_acount</td>\n",
              "      <td>2019-05-28</td>\n",
              "      <td>0</td>\n",
              "      <td>0</td>\n",
              "      <td>0</td>\n",
              "      <td>0</td>\n",
              "      <td>0</td>\n",
              "      <td>0</td>\n",
              "      <td>0</td>\n",
              "      <td>0</td>\n",
              "      <td>0.0</td>\n",
              "      <td>0.0</td>\n",
              "      <td>0</td>\n",
              "      <td>0</td>\n",
              "      <td>0</td>\n",
              "      <td>0</td>\n",
              "      <td>0</td>\n",
              "      <td>2018-09-30</td>\n",
              "      <td>KFC</td>\n",
              "      <td>0.0</td>\n",
              "      <td>02 - PARTICULARES</td>\n",
              "      <td>ES</td>\n",
              "      <td>35.0</td>\n",
              "      <td>1.0</td>\n",
              "      <td>19</td>\n",
              "      <td>0</td>\n",
              "      <td>NaN</td>\n",
              "      <td>2018</td>\n",
              "      <td>9</td>\n",
              "      <td>2019</td>\n",
              "      <td>5</td>\n",
              "      <td>0</td>\n",
              "      <td>0.0</td>\n",
              "      <td>0</td>\n",
              "      <td>0</td>\n",
              "      <td>0.0</td>\n",
              "      <td>1</td>\n",
              "      <td>0</td>\n",
              "      <td>0</td>\n",
              "      <td>0</td>\n",
              "      <td>NaN</td>\n",
              "      <td>23.363</td>\n",
              "      <td>1.120.406</td>\n",
              "      <td>60,18</td>\n",
              "      <td>NaN</td>\n",
              "    </tr>\n",
              "    <tr>\n",
              "      <th>1</th>\n",
              "      <td>1440380</td>\n",
              "      <td>em_acount</td>\n",
              "      <td>2019-05-28</td>\n",
              "      <td>0</td>\n",
              "      <td>0</td>\n",
              "      <td>0</td>\n",
              "      <td>0</td>\n",
              "      <td>0</td>\n",
              "      <td>0</td>\n",
              "      <td>0</td>\n",
              "      <td>0</td>\n",
              "      <td>0.0</td>\n",
              "      <td>0.0</td>\n",
              "      <td>0</td>\n",
              "      <td>0</td>\n",
              "      <td>0</td>\n",
              "      <td>0</td>\n",
              "      <td>0</td>\n",
              "      <td>2018-08-31</td>\n",
              "      <td>KFC</td>\n",
              "      <td>0.0</td>\n",
              "      <td>02 - PARTICULARES</td>\n",
              "      <td>ES</td>\n",
              "      <td>21.0</td>\n",
              "      <td>1.0</td>\n",
              "      <td>23</td>\n",
              "      <td>0</td>\n",
              "      <td>57535.23</td>\n",
              "      <td>2018</td>\n",
              "      <td>8</td>\n",
              "      <td>2019</td>\n",
              "      <td>5</td>\n",
              "      <td>0</td>\n",
              "      <td>0.0</td>\n",
              "      <td>0</td>\n",
              "      <td>0</td>\n",
              "      <td>0.0</td>\n",
              "      <td>1</td>\n",
              "      <td>0</td>\n",
              "      <td>0</td>\n",
              "      <td>0</td>\n",
              "      <td>NaN</td>\n",
              "      <td>20.273</td>\n",
              "      <td>521.870</td>\n",
              "      <td>58,58</td>\n",
              "      <td>NaN</td>\n",
              "    </tr>\n",
              "    <tr>\n",
              "      <th>2</th>\n",
              "      <td>1465393</td>\n",
              "      <td>em_acount</td>\n",
              "      <td>2019-05-28</td>\n",
              "      <td>0</td>\n",
              "      <td>0</td>\n",
              "      <td>0</td>\n",
              "      <td>0</td>\n",
              "      <td>0</td>\n",
              "      <td>0</td>\n",
              "      <td>0</td>\n",
              "      <td>0</td>\n",
              "      <td>0.0</td>\n",
              "      <td>0.0</td>\n",
              "      <td>0</td>\n",
              "      <td>0</td>\n",
              "      <td>0</td>\n",
              "      <td>0</td>\n",
              "      <td>0</td>\n",
              "      <td>2018-09-30</td>\n",
              "      <td>KFC</td>\n",
              "      <td>0.0</td>\n",
              "      <td>02 - PARTICULARES</td>\n",
              "      <td>ES</td>\n",
              "      <td>41.0</td>\n",
              "      <td>1.0</td>\n",
              "      <td>20</td>\n",
              "      <td>0</td>\n",
              "      <td>NaN</td>\n",
              "      <td>2018</td>\n",
              "      <td>9</td>\n",
              "      <td>2019</td>\n",
              "      <td>5</td>\n",
              "      <td>0</td>\n",
              "      <td>0.0</td>\n",
              "      <td>0</td>\n",
              "      <td>0</td>\n",
              "      <td>0.0</td>\n",
              "      <td>1</td>\n",
              "      <td>0</td>\n",
              "      <td>0</td>\n",
              "      <td>0</td>\n",
              "      <td>NaN</td>\n",
              "      <td>20.314</td>\n",
              "      <td>1.942.389</td>\n",
              "      <td>59,01</td>\n",
              "      <td>NaN</td>\n",
              "    </tr>\n",
              "    <tr>\n",
              "      <th>3</th>\n",
              "      <td>1462014</td>\n",
              "      <td>em_acount</td>\n",
              "      <td>2019-05-28</td>\n",
              "      <td>0</td>\n",
              "      <td>0</td>\n",
              "      <td>0</td>\n",
              "      <td>0</td>\n",
              "      <td>0</td>\n",
              "      <td>0</td>\n",
              "      <td>0</td>\n",
              "      <td>0</td>\n",
              "      <td>0.0</td>\n",
              "      <td>0.0</td>\n",
              "      <td>0</td>\n",
              "      <td>0</td>\n",
              "      <td>0</td>\n",
              "      <td>0</td>\n",
              "      <td>0</td>\n",
              "      <td>2018-09-29</td>\n",
              "      <td>KFC</td>\n",
              "      <td>0.0</td>\n",
              "      <td>02 - PARTICULARES</td>\n",
              "      <td>ES</td>\n",
              "      <td>23.0</td>\n",
              "      <td>0.0</td>\n",
              "      <td>19</td>\n",
              "      <td>0</td>\n",
              "      <td>NaN</td>\n",
              "      <td>2018</td>\n",
              "      <td>9</td>\n",
              "      <td>2019</td>\n",
              "      <td>5</td>\n",
              "      <td>0</td>\n",
              "      <td>0.0</td>\n",
              "      <td>0</td>\n",
              "      <td>0</td>\n",
              "      <td>0.0</td>\n",
              "      <td>1</td>\n",
              "      <td>0</td>\n",
              "      <td>0</td>\n",
              "      <td>0</td>\n",
              "      <td>NaN</td>\n",
              "      <td>18.628</td>\n",
              "      <td>633.564</td>\n",
              "      <td>52,21</td>\n",
              "      <td>NaN</td>\n",
              "    </tr>\n",
              "    <tr>\n",
              "      <th>4</th>\n",
              "      <td>1423487</td>\n",
              "      <td>em_acount</td>\n",
              "      <td>2019-05-28</td>\n",
              "      <td>0</td>\n",
              "      <td>0</td>\n",
              "      <td>0</td>\n",
              "      <td>0</td>\n",
              "      <td>0</td>\n",
              "      <td>0</td>\n",
              "      <td>0</td>\n",
              "      <td>0</td>\n",
              "      <td>0.0</td>\n",
              "      <td>0.0</td>\n",
              "      <td>0</td>\n",
              "      <td>0</td>\n",
              "      <td>0</td>\n",
              "      <td>0</td>\n",
              "      <td>0</td>\n",
              "      <td>2018-07-31</td>\n",
              "      <td>KHN</td>\n",
              "      <td>0.0</td>\n",
              "      <td>02 - PARTICULARES</td>\n",
              "      <td>ES</td>\n",
              "      <td>11.0</td>\n",
              "      <td>1.0</td>\n",
              "      <td>21</td>\n",
              "      <td>0</td>\n",
              "      <td>34419.45</td>\n",
              "      <td>2018</td>\n",
              "      <td>7</td>\n",
              "      <td>2019</td>\n",
              "      <td>5</td>\n",
              "      <td>0</td>\n",
              "      <td>0.0</td>\n",
              "      <td>0</td>\n",
              "      <td>0</td>\n",
              "      <td>0.0</td>\n",
              "      <td>1</td>\n",
              "      <td>0</td>\n",
              "      <td>0</td>\n",
              "      <td>0</td>\n",
              "      <td>NaN</td>\n",
              "      <td>18.050</td>\n",
              "      <td>1.240.155</td>\n",
              "      <td>55,33</td>\n",
              "      <td>104,39</td>\n",
              "    </tr>\n",
              "  </tbody>\n",
              "</table>\n",
              "</div>"
            ],
            "text/plain": [
              "    pk_cid     target pk_partition  ...  poblacion  Indice Actividad     IPC\n",
              "0  1459181  em_acount   2019-05-28  ...  1.120.406             60,18     NaN\n",
              "1  1440380  em_acount   2019-05-28  ...    521.870             58,58     NaN\n",
              "2  1465393  em_acount   2019-05-28  ...  1.942.389             59,01     NaN\n",
              "3  1462014  em_acount   2019-05-28  ...    633.564             52,21     NaN\n",
              "4  1423487  em_acount   2019-05-28  ...  1.240.155             55,33  104,39\n",
              "\n",
              "[5 rows x 46 columns]"
            ]
          },
          "metadata": {
            "tags": []
          },
          "execution_count": 43
        }
      ]
    },
    {
      "cell_type": "code",
      "metadata": {
        "colab": {
          "base_uri": "https://localhost:8080/"
        },
        "id": "GmOMorvC4PH-",
        "outputId": "21f20f2b-00fe-4645-8ba5-08c914f8de60"
      },
      "source": [
        "df_pers.shape"
      ],
      "id": "GmOMorvC4PH-",
      "execution_count": null,
      "outputs": [
        {
          "output_type": "execute_result",
          "data": {
            "text/plain": [
              "(10000, 46)"
            ]
          },
          "metadata": {
            "tags": []
          },
          "execution_count": 44
        }
      ]
    },
    {
      "cell_type": "code",
      "metadata": {
        "execution": {
          "iopub.execute_input": "2021-05-16T16:04:56.062310Z",
          "iopub.status.busy": "2021-05-16T16:04:56.061766Z",
          "iopub.status.idle": "2021-05-16T16:04:56.064807Z",
          "shell.execute_reply": "2021-05-16T16:04:56.064267Z"
        },
        "papermill": {
          "duration": 0.057594,
          "end_time": "2021-05-16T16:04:56.064935",
          "exception": false,
          "start_time": "2021-05-16T16:04:56.007341",
          "status": "completed"
        },
        "tags": [],
        "id": "governing-cleaning"
      },
      "source": [
        "def report_df(df, verbose = True):\n",
        "    '''\n",
        "    Hace un report simple sobre el DataFrame suministrado.\n",
        "    '''\n",
        "    print(df.info(verbose = verbose))\n",
        "    total_nulos = df.isnull().sum().sum()\n",
        "    print()\n",
        "    print('El dataset tiene {} observaciones y {} columnas'.format(df.shape[0],df.shape[1]))\n",
        "    print()\n",
        "    print(f\"Tenemos un total de {total_nulos} nulos\")\n",
        "    print()\n",
        "    customer_id = df[\"pk_cid\"].nunique()\n",
        "    print(f'''Tenemos un total de {customer_id} clientes únicos''')"
      ],
      "id": "governing-cleaning",
      "execution_count": null,
      "outputs": []
    },
    {
      "cell_type": "code",
      "metadata": {
        "execution": {
          "iopub.execute_input": "2021-05-16T16:04:56.181418Z",
          "iopub.status.busy": "2021-05-16T16:04:56.180914Z",
          "iopub.status.idle": "2021-05-16T16:04:56.184381Z",
          "shell.execute_reply": "2021-05-16T16:04:56.184774Z"
        },
        "papermill": {
          "duration": 0.064727,
          "end_time": "2021-05-16T16:04:56.184909",
          "exception": false,
          "start_time": "2021-05-16T16:04:56.120182",
          "status": "completed"
        },
        "tags": [],
        "colab": {
          "base_uri": "https://localhost:8080/"
        },
        "id": "soviet-seafood",
        "outputId": "271824ae-7825-48ff-f041-b03e2f5bd9d3"
      },
      "source": [
        "report_df(df_pers)"
      ],
      "id": "soviet-seafood",
      "execution_count": null,
      "outputs": [
        {
          "output_type": "stream",
          "text": [
            "<class 'pandas.core.frame.DataFrame'>\n",
            "RangeIndex: 10000 entries, 0 to 9999\n",
            "Data columns (total 46 columns):\n",
            " #   Column              Non-Null Count  Dtype         \n",
            "---  ------              --------------  -----         \n",
            " 0   pk_cid              10000 non-null  int64         \n",
            " 1   target              10000 non-null  object        \n",
            " 2   pk_partition        10000 non-null  datetime64[ns]\n",
            " 3   short_term_deposit  10000 non-null  int64         \n",
            " 4   loans               10000 non-null  int64         \n",
            " 5   mortgage            10000 non-null  int64         \n",
            " 6   funds               10000 non-null  int64         \n",
            " 7   securities          10000 non-null  int64         \n",
            " 8   long_term_deposit   10000 non-null  int64         \n",
            " 9   em_account_pp       10000 non-null  int64         \n",
            " 10  credit_card         10000 non-null  int64         \n",
            " 11  payroll             10000 non-null  float64       \n",
            " 12  pension_plan        10000 non-null  float64       \n",
            " 13  payroll_account     10000 non-null  int64         \n",
            " 14  emc_account         10000 non-null  int64         \n",
            " 15  debit_card          10000 non-null  int64         \n",
            " 16  em_account_p        10000 non-null  int64         \n",
            " 17  em_acount           10000 non-null  int64         \n",
            " 18  entry_date          10000 non-null  datetime64[ns]\n",
            " 19  entry_channel       9497 non-null   object        \n",
            " 20  active_customer     10000 non-null  float64       \n",
            " 21  segment             9497 non-null   object        \n",
            " 22  country_id          10000 non-null  object        \n",
            " 23  region_code         9996 non-null   float64       \n",
            " 24  gender              10000 non-null  float64       \n",
            " 25  age                 10000 non-null  int64         \n",
            " 26  deceased            10000 non-null  int64         \n",
            " 27  salary              6407 non-null   float64       \n",
            " 28  entry_date_year     10000 non-null  int64         \n",
            " 29  entry_date_month    10000 non-null  int64         \n",
            " 30  pk_partition_year   10000 non-null  int64         \n",
            " 31  pk_partition_month  10000 non-null  int64         \n",
            " 32  ConProducto         10000 non-null  int64         \n",
            " 33  total_ahorro        10000 non-null  float64       \n",
            " 34  total_inversion     10000 non-null  int64         \n",
            " 35  total_financiacion  10000 non-null  int64         \n",
            " 36  total_cuentas       10000 non-null  float64       \n",
            " 37  EsEspañol           10000 non-null  int64         \n",
            " 38  Num_cobros          10000 non-null  int64         \n",
            " 39  Numero_bajas        10000 non-null  int64         \n",
            " 40  Numero_altas        10000 non-null  int64         \n",
            " 41  cluster             8136 non-null   float64       \n",
            " 42  Renta per cápita    10000 non-null  object        \n",
            " 43  poblacion           9996 non-null   object        \n",
            " 44  Indice Actividad    9996 non-null   object        \n",
            " 45  IPC                 2764 non-null   object        \n",
            "dtypes: datetime64[ns](2), float64(9), int64(27), object(8)\n",
            "memory usage: 3.5+ MB\n",
            "None\n",
            "\n",
            "El dataset tiene 10000 observaciones y 46 columnas\n",
            "\n",
            "Tenemos un total de 13711 nulos\n",
            "\n",
            "Tenemos un total de 9994 clientes únicos\n"
          ],
          "name": "stdout"
        }
      ]
    },
    {
      "cell_type": "markdown",
      "metadata": {
        "id": "ye7JUDfy0EID"
      },
      "source": [
        "## Data Preparation"
      ],
      "id": "ye7JUDfy0EID"
    },
    {
      "cell_type": "markdown",
      "metadata": {
        "id": "ZOdNH9kq7Mn3"
      },
      "source": [
        "De toda esta información contenida solo nos quedaremos con aquella que nos permita hacer una personalización basada en los gustos o situación sociodemografica de los clientes. Se escogen los siguientes atributos, despues de realizar un proceso iterativo para la optimización del modelo. \n",
        "\n",
        "- Edad\n",
        "- Salario \n",
        "- region_code \n",
        "- active_customer\n",
        "- renta_per_cápita \n",
        "- Tasa de actividad\n",
        "- Población \n"
      ],
      "id": "ZOdNH9kq7Mn3"
    },
    {
      "cell_type": "code",
      "metadata": {
        "execution": {
          "iopub.execute_input": "2021-05-16T16:05:01.717167Z",
          "iopub.status.busy": "2021-05-16T16:05:01.711919Z",
          "iopub.status.idle": "2021-05-16T16:05:01.722884Z",
          "shell.execute_reply": "2021-05-16T16:05:01.722396Z"
        },
        "papermill": {
          "duration": 0.076887,
          "end_time": "2021-05-16T16:05:01.722988",
          "exception": false,
          "start_time": "2021-05-16T16:05:01.646101",
          "status": "completed"
        },
        "tags": [],
        "id": "ZUxs4m9h7J_F"
      },
      "source": [
        "df_pers.set_index('pk_cid',inplace=True)"
      ],
      "id": "ZUxs4m9h7J_F",
      "execution_count": null,
      "outputs": []
    },
    {
      "cell_type": "markdown",
      "metadata": {
        "id": "4avEqS4P8N9M"
      },
      "source": [
        "De todas las variables seleccionadas todas tienen un sentido ordinal excepto region_code. Es por eso que antes de segmentar se decide hacer un frequency encoding sobre esta variable. "
      ],
      "id": "4avEqS4P8N9M"
    },
    {
      "cell_type": "code",
      "metadata": {
        "id": "x0pEh8_r9Pbc"
      },
      "source": [
        "fe=df_pers.groupby('region_code').size()/len(df_pers)"
      ],
      "id": "x0pEh8_r9Pbc",
      "execution_count": null,
      "outputs": []
    },
    {
      "cell_type": "code",
      "metadata": {
        "id": "09kiaWFtFlko"
      },
      "source": [
        "df_pers['region_code'].fillna(method='bfill',inplace=True)"
      ],
      "id": "09kiaWFtFlko",
      "execution_count": null,
      "outputs": []
    },
    {
      "cell_type": "code",
      "metadata": {
        "id": "QR79ZTfK98tj"
      },
      "source": [
        "df_pers['region_code_fe'] = df_pers['region_code'].apply(lambda x : fe[x] )"
      ],
      "id": "QR79ZTfK98tj",
      "execution_count": null,
      "outputs": []
    },
    {
      "cell_type": "code",
      "metadata": {
        "colab": {
          "base_uri": "https://localhost:8080/",
          "height": 378
        },
        "id": "L63i86Jy8jPJ",
        "outputId": "66951c12-e52e-4c5e-c112-0162b0d58bdc"
      },
      "source": [
        "df_pers.head()"
      ],
      "id": "L63i86Jy8jPJ",
      "execution_count": null,
      "outputs": [
        {
          "output_type": "execute_result",
          "data": {
            "text/html": [
              "<div>\n",
              "<style scoped>\n",
              "    .dataframe tbody tr th:only-of-type {\n",
              "        vertical-align: middle;\n",
              "    }\n",
              "\n",
              "    .dataframe tbody tr th {\n",
              "        vertical-align: top;\n",
              "    }\n",
              "\n",
              "    .dataframe thead th {\n",
              "        text-align: right;\n",
              "    }\n",
              "</style>\n",
              "<table border=\"1\" class=\"dataframe\">\n",
              "  <thead>\n",
              "    <tr style=\"text-align: right;\">\n",
              "      <th></th>\n",
              "      <th>target</th>\n",
              "      <th>pk_partition</th>\n",
              "      <th>short_term_deposit</th>\n",
              "      <th>loans</th>\n",
              "      <th>mortgage</th>\n",
              "      <th>funds</th>\n",
              "      <th>securities</th>\n",
              "      <th>long_term_deposit</th>\n",
              "      <th>em_account_pp</th>\n",
              "      <th>credit_card</th>\n",
              "      <th>payroll</th>\n",
              "      <th>pension_plan</th>\n",
              "      <th>payroll_account</th>\n",
              "      <th>emc_account</th>\n",
              "      <th>debit_card</th>\n",
              "      <th>em_account_p</th>\n",
              "      <th>em_acount</th>\n",
              "      <th>entry_date</th>\n",
              "      <th>entry_channel</th>\n",
              "      <th>active_customer</th>\n",
              "      <th>segment</th>\n",
              "      <th>country_id</th>\n",
              "      <th>region_code</th>\n",
              "      <th>gender</th>\n",
              "      <th>age</th>\n",
              "      <th>deceased</th>\n",
              "      <th>salary</th>\n",
              "      <th>entry_date_year</th>\n",
              "      <th>entry_date_month</th>\n",
              "      <th>pk_partition_year</th>\n",
              "      <th>pk_partition_month</th>\n",
              "      <th>ConProducto</th>\n",
              "      <th>total_ahorro</th>\n",
              "      <th>total_inversion</th>\n",
              "      <th>total_financiacion</th>\n",
              "      <th>total_cuentas</th>\n",
              "      <th>EsEspañol</th>\n",
              "      <th>Num_cobros</th>\n",
              "      <th>Numero_bajas</th>\n",
              "      <th>Numero_altas</th>\n",
              "      <th>cluster</th>\n",
              "      <th>Renta per cápita</th>\n",
              "      <th>poblacion</th>\n",
              "      <th>Indice Actividad</th>\n",
              "      <th>IPC</th>\n",
              "      <th>region_code_fe</th>\n",
              "    </tr>\n",
              "    <tr>\n",
              "      <th>pk_cid</th>\n",
              "      <th></th>\n",
              "      <th></th>\n",
              "      <th></th>\n",
              "      <th></th>\n",
              "      <th></th>\n",
              "      <th></th>\n",
              "      <th></th>\n",
              "      <th></th>\n",
              "      <th></th>\n",
              "      <th></th>\n",
              "      <th></th>\n",
              "      <th></th>\n",
              "      <th></th>\n",
              "      <th></th>\n",
              "      <th></th>\n",
              "      <th></th>\n",
              "      <th></th>\n",
              "      <th></th>\n",
              "      <th></th>\n",
              "      <th></th>\n",
              "      <th></th>\n",
              "      <th></th>\n",
              "      <th></th>\n",
              "      <th></th>\n",
              "      <th></th>\n",
              "      <th></th>\n",
              "      <th></th>\n",
              "      <th></th>\n",
              "      <th></th>\n",
              "      <th></th>\n",
              "      <th></th>\n",
              "      <th></th>\n",
              "      <th></th>\n",
              "      <th></th>\n",
              "      <th></th>\n",
              "      <th></th>\n",
              "      <th></th>\n",
              "      <th></th>\n",
              "      <th></th>\n",
              "      <th></th>\n",
              "      <th></th>\n",
              "      <th></th>\n",
              "      <th></th>\n",
              "      <th></th>\n",
              "      <th></th>\n",
              "      <th></th>\n",
              "    </tr>\n",
              "  </thead>\n",
              "  <tbody>\n",
              "    <tr>\n",
              "      <th>1459181</th>\n",
              "      <td>em_acount</td>\n",
              "      <td>2019-05-28</td>\n",
              "      <td>0</td>\n",
              "      <td>0</td>\n",
              "      <td>0</td>\n",
              "      <td>0</td>\n",
              "      <td>0</td>\n",
              "      <td>0</td>\n",
              "      <td>0</td>\n",
              "      <td>0</td>\n",
              "      <td>0.0</td>\n",
              "      <td>0.0</td>\n",
              "      <td>0</td>\n",
              "      <td>0</td>\n",
              "      <td>0</td>\n",
              "      <td>0</td>\n",
              "      <td>0</td>\n",
              "      <td>2018-09-30</td>\n",
              "      <td>KFC</td>\n",
              "      <td>0.0</td>\n",
              "      <td>02 - PARTICULARES</td>\n",
              "      <td>ES</td>\n",
              "      <td>35.0</td>\n",
              "      <td>1.0</td>\n",
              "      <td>19</td>\n",
              "      <td>0</td>\n",
              "      <td>NaN</td>\n",
              "      <td>2018</td>\n",
              "      <td>9</td>\n",
              "      <td>2019</td>\n",
              "      <td>5</td>\n",
              "      <td>0</td>\n",
              "      <td>0.0</td>\n",
              "      <td>0</td>\n",
              "      <td>0</td>\n",
              "      <td>0.0</td>\n",
              "      <td>1</td>\n",
              "      <td>0</td>\n",
              "      <td>0</td>\n",
              "      <td>0</td>\n",
              "      <td>NaN</td>\n",
              "      <td>23.363</td>\n",
              "      <td>1.120.406</td>\n",
              "      <td>60,18</td>\n",
              "      <td>NaN</td>\n",
              "      <td>0.0129</td>\n",
              "    </tr>\n",
              "    <tr>\n",
              "      <th>1440380</th>\n",
              "      <td>em_acount</td>\n",
              "      <td>2019-05-28</td>\n",
              "      <td>0</td>\n",
              "      <td>0</td>\n",
              "      <td>0</td>\n",
              "      <td>0</td>\n",
              "      <td>0</td>\n",
              "      <td>0</td>\n",
              "      <td>0</td>\n",
              "      <td>0</td>\n",
              "      <td>0.0</td>\n",
              "      <td>0.0</td>\n",
              "      <td>0</td>\n",
              "      <td>0</td>\n",
              "      <td>0</td>\n",
              "      <td>0</td>\n",
              "      <td>0</td>\n",
              "      <td>2018-08-31</td>\n",
              "      <td>KFC</td>\n",
              "      <td>0.0</td>\n",
              "      <td>02 - PARTICULARES</td>\n",
              "      <td>ES</td>\n",
              "      <td>21.0</td>\n",
              "      <td>1.0</td>\n",
              "      <td>23</td>\n",
              "      <td>0</td>\n",
              "      <td>57535.23</td>\n",
              "      <td>2018</td>\n",
              "      <td>8</td>\n",
              "      <td>2019</td>\n",
              "      <td>5</td>\n",
              "      <td>0</td>\n",
              "      <td>0.0</td>\n",
              "      <td>0</td>\n",
              "      <td>0</td>\n",
              "      <td>0.0</td>\n",
              "      <td>1</td>\n",
              "      <td>0</td>\n",
              "      <td>0</td>\n",
              "      <td>0</td>\n",
              "      <td>NaN</td>\n",
              "      <td>20.273</td>\n",
              "      <td>521.870</td>\n",
              "      <td>58,58</td>\n",
              "      <td>NaN</td>\n",
              "      <td>0.0085</td>\n",
              "    </tr>\n",
              "    <tr>\n",
              "      <th>1465393</th>\n",
              "      <td>em_acount</td>\n",
              "      <td>2019-05-28</td>\n",
              "      <td>0</td>\n",
              "      <td>0</td>\n",
              "      <td>0</td>\n",
              "      <td>0</td>\n",
              "      <td>0</td>\n",
              "      <td>0</td>\n",
              "      <td>0</td>\n",
              "      <td>0</td>\n",
              "      <td>0.0</td>\n",
              "      <td>0.0</td>\n",
              "      <td>0</td>\n",
              "      <td>0</td>\n",
              "      <td>0</td>\n",
              "      <td>0</td>\n",
              "      <td>0</td>\n",
              "      <td>2018-09-30</td>\n",
              "      <td>KFC</td>\n",
              "      <td>0.0</td>\n",
              "      <td>02 - PARTICULARES</td>\n",
              "      <td>ES</td>\n",
              "      <td>41.0</td>\n",
              "      <td>1.0</td>\n",
              "      <td>20</td>\n",
              "      <td>0</td>\n",
              "      <td>NaN</td>\n",
              "      <td>2018</td>\n",
              "      <td>9</td>\n",
              "      <td>2019</td>\n",
              "      <td>5</td>\n",
              "      <td>0</td>\n",
              "      <td>0.0</td>\n",
              "      <td>0</td>\n",
              "      <td>0</td>\n",
              "      <td>0.0</td>\n",
              "      <td>1</td>\n",
              "      <td>0</td>\n",
              "      <td>0</td>\n",
              "      <td>0</td>\n",
              "      <td>NaN</td>\n",
              "      <td>20.314</td>\n",
              "      <td>1.942.389</td>\n",
              "      <td>59,01</td>\n",
              "      <td>NaN</td>\n",
              "      <td>0.0386</td>\n",
              "    </tr>\n",
              "    <tr>\n",
              "      <th>1462014</th>\n",
              "      <td>em_acount</td>\n",
              "      <td>2019-05-28</td>\n",
              "      <td>0</td>\n",
              "      <td>0</td>\n",
              "      <td>0</td>\n",
              "      <td>0</td>\n",
              "      <td>0</td>\n",
              "      <td>0</td>\n",
              "      <td>0</td>\n",
              "      <td>0</td>\n",
              "      <td>0.0</td>\n",
              "      <td>0.0</td>\n",
              "      <td>0</td>\n",
              "      <td>0</td>\n",
              "      <td>0</td>\n",
              "      <td>0</td>\n",
              "      <td>0</td>\n",
              "      <td>2018-09-29</td>\n",
              "      <td>KFC</td>\n",
              "      <td>0.0</td>\n",
              "      <td>02 - PARTICULARES</td>\n",
              "      <td>ES</td>\n",
              "      <td>23.0</td>\n",
              "      <td>0.0</td>\n",
              "      <td>19</td>\n",
              "      <td>0</td>\n",
              "      <td>NaN</td>\n",
              "      <td>2018</td>\n",
              "      <td>9</td>\n",
              "      <td>2019</td>\n",
              "      <td>5</td>\n",
              "      <td>0</td>\n",
              "      <td>0.0</td>\n",
              "      <td>0</td>\n",
              "      <td>0</td>\n",
              "      <td>0.0</td>\n",
              "      <td>1</td>\n",
              "      <td>0</td>\n",
              "      <td>0</td>\n",
              "      <td>0</td>\n",
              "      <td>NaN</td>\n",
              "      <td>18.628</td>\n",
              "      <td>633.564</td>\n",
              "      <td>52,21</td>\n",
              "      <td>NaN</td>\n",
              "      <td>0.0064</td>\n",
              "    </tr>\n",
              "    <tr>\n",
              "      <th>1423487</th>\n",
              "      <td>em_acount</td>\n",
              "      <td>2019-05-28</td>\n",
              "      <td>0</td>\n",
              "      <td>0</td>\n",
              "      <td>0</td>\n",
              "      <td>0</td>\n",
              "      <td>0</td>\n",
              "      <td>0</td>\n",
              "      <td>0</td>\n",
              "      <td>0</td>\n",
              "      <td>0.0</td>\n",
              "      <td>0.0</td>\n",
              "      <td>0</td>\n",
              "      <td>0</td>\n",
              "      <td>0</td>\n",
              "      <td>0</td>\n",
              "      <td>0</td>\n",
              "      <td>2018-07-31</td>\n",
              "      <td>KHN</td>\n",
              "      <td>0.0</td>\n",
              "      <td>02 - PARTICULARES</td>\n",
              "      <td>ES</td>\n",
              "      <td>11.0</td>\n",
              "      <td>1.0</td>\n",
              "      <td>21</td>\n",
              "      <td>0</td>\n",
              "      <td>34419.45</td>\n",
              "      <td>2018</td>\n",
              "      <td>7</td>\n",
              "      <td>2019</td>\n",
              "      <td>5</td>\n",
              "      <td>0</td>\n",
              "      <td>0.0</td>\n",
              "      <td>0</td>\n",
              "      <td>0</td>\n",
              "      <td>0.0</td>\n",
              "      <td>1</td>\n",
              "      <td>0</td>\n",
              "      <td>0</td>\n",
              "      <td>0</td>\n",
              "      <td>NaN</td>\n",
              "      <td>18.050</td>\n",
              "      <td>1.240.155</td>\n",
              "      <td>55,33</td>\n",
              "      <td>104,39</td>\n",
              "      <td>0.0151</td>\n",
              "    </tr>\n",
              "  </tbody>\n",
              "</table>\n",
              "</div>"
            ],
            "text/plain": [
              "            target pk_partition  ...     IPC  region_code_fe\n",
              "pk_cid                           ...                        \n",
              "1459181  em_acount   2019-05-28  ...     NaN          0.0129\n",
              "1440380  em_acount   2019-05-28  ...     NaN          0.0085\n",
              "1465393  em_acount   2019-05-28  ...     NaN          0.0386\n",
              "1462014  em_acount   2019-05-28  ...     NaN          0.0064\n",
              "1423487  em_acount   2019-05-28  ...  104,39          0.0151\n",
              "\n",
              "[5 rows x 46 columns]"
            ]
          },
          "metadata": {
            "tags": []
          },
          "execution_count": 51
        }
      ]
    },
    {
      "cell_type": "code",
      "metadata": {
        "id": "0raxaQitHUil"
      },
      "source": [
        "df_pers.drop('region_code',axis=1,inplace=True)"
      ],
      "id": "0raxaQitHUil",
      "execution_count": null,
      "outputs": []
    },
    {
      "cell_type": "code",
      "metadata": {
        "colab": {
          "base_uri": "https://localhost:8080/",
          "height": 285
        },
        "id": "17DbOJ54GWDz",
        "outputId": "b4270efa-2386-4cdf-979d-956997fe3084"
      },
      "source": [
        "df_pers['age'].plot(kind='box')"
      ],
      "id": "17DbOJ54GWDz",
      "execution_count": null,
      "outputs": [
        {
          "output_type": "execute_result",
          "data": {
            "text/plain": [
              "<matplotlib.axes._subplots.AxesSubplot at 0x7f4f6b42abd0>"
            ]
          },
          "metadata": {
            "tags": []
          },
          "execution_count": 53
        },
        {
          "output_type": "display_data",
          "data": {
            "image/png": "[encoded data removed]",
            "text/plain": [
              "<Figure size 432x288 with 1 Axes>"
            ]
          },
          "metadata": {
            "tags": [],
            "needs_background": "light"
          }
        }
      ]
    },
    {
      "cell_type": "code",
      "metadata": {
        "id": "6_KliBUOSyoU"
      },
      "source": [
        "df_pers['poblacion']=df_pers['poblacion'].str.replace('.','')"
      ],
      "id": "6_KliBUOSyoU",
      "execution_count": null,
      "outputs": []
    },
    {
      "cell_type": "code",
      "metadata": {
        "id": "0UoNr403TOLx"
      },
      "source": [
        "df_pers['poblacion']=df_pers['poblacion'].astype('float')"
      ],
      "id": "0UoNr403TOLx",
      "execution_count": null,
      "outputs": []
    },
    {
      "cell_type": "code",
      "metadata": {
        "id": "Y-ZhSGtgTgqb"
      },
      "source": [
        "df_pers['Indice Actividad']=df_pers['Indice Actividad'].str.slice(start=0,stop=2).astype('float')"
      ],
      "id": "Y-ZhSGtgTgqb",
      "execution_count": null,
      "outputs": []
    },
    {
      "cell_type": "code",
      "metadata": {
        "id": "cl_-8np0T-as"
      },
      "source": [
        "df_pers['IPC']=df_pers['IPC'].str.replace(',','').str.slice(start=0,stop=5).astype('float')/100"
      ],
      "id": "cl_-8np0T-as",
      "execution_count": null,
      "outputs": []
    },
    {
      "cell_type": "code",
      "metadata": {
        "id": "xikwg9h2hHQt"
      },
      "source": [
        "df_pers['IPC'].fillna(df_pers['IPC'].median(),inplace=True)"
      ],
      "id": "xikwg9h2hHQt",
      "execution_count": null,
      "outputs": []
    },
    {
      "cell_type": "code",
      "metadata": {
        "execution": {
          "iopub.execute_input": "2021-05-16T16:05:01.854596Z",
          "iopub.status.busy": "2021-05-16T16:05:01.854119Z",
          "iopub.status.idle": "2021-05-16T16:05:01.857952Z",
          "shell.execute_reply": "2021-05-16T16:05:01.857556Z"
        },
        "papermill": {
          "duration": 0.077895,
          "end_time": "2021-05-16T16:05:01.858065",
          "exception": false,
          "start_time": "2021-05-16T16:05:01.780170",
          "status": "completed"
        },
        "tags": [],
        "id": "UD8p-zxNOIeD"
      },
      "source": [
        "needed_cols=['age','salary','region_code_fe','active_customer','Renta per cápita','poblacion','Indice Actividad'] # 'gender , 'IPC'\n",
        "cols_to_drop=[c for c in df_pers if c not in needed_cols]\n",
        "df_pers.drop(cols_to_drop,axis=1,inplace=True)"
      ],
      "id": "UD8p-zxNOIeD",
      "execution_count": null,
      "outputs": []
    },
    {
      "cell_type": "code",
      "metadata": {
        "execution": {
          "iopub.execute_input": "2021-05-16T16:05:01.985313Z",
          "iopub.status.busy": "2021-05-16T16:05:01.979474Z",
          "iopub.status.idle": "2021-05-16T16:05:01.988906Z",
          "shell.execute_reply": "2021-05-16T16:05:01.988518Z"
        },
        "papermill": {
          "duration": 0.075075,
          "end_time": "2021-05-16T16:05:01.989010",
          "exception": false,
          "start_time": "2021-05-16T16:05:01.913935",
          "status": "completed"
        },
        "tags": [],
        "id": "VuREUGnaOIeD"
      },
      "source": [
        "columns = list(df_pers.columns)\n",
        "index = list(df_pers.index)"
      ],
      "id": "VuREUGnaOIeD",
      "execution_count": null,
      "outputs": []
    },
    {
      "cell_type": "code",
      "metadata": {
        "colab": {
          "base_uri": "https://localhost:8080/"
        },
        "id": "mghb4UJYOVwi",
        "outputId": "21d689e5-79a9-4990-8e7a-d8de932c9777"
      },
      "source": [
        "df_pers.isnull().sum()"
      ],
      "id": "mghb4UJYOVwi",
      "execution_count": null,
      "outputs": [
        {
          "output_type": "execute_result",
          "data": {
            "text/plain": [
              "active_customer        0\n",
              "age                    0\n",
              "salary              3593\n",
              "Renta per cápita       0\n",
              "poblacion              4\n",
              "Indice Actividad       4\n",
              "region_code_fe         0\n",
              "dtype: int64"
            ]
          },
          "metadata": {
            "tags": []
          },
          "execution_count": 61
        }
      ]
    },
    {
      "cell_type": "markdown",
      "metadata": {
        "id": "wlR6IdzFGB1D"
      },
      "source": [
        "Ya tenemos el dataset como queriamos para poder hacer la segmentación. Ahora bien vemos la existencia de nulos en la columna de salario que hara falta tratar. Ademas en la columna de edad vimos en el EDA que existian muchos outilers que tendremos que tratar previamente para que no influencien negativamente en el modelo."
      ],
      "id": "wlR6IdzFGB1D"
    },
    {
      "cell_type": "markdown",
      "metadata": {
        "papermill": {
          "duration": 0.082585,
          "end_time": "2021-05-16T16:05:00.775645",
          "exception": false,
          "start_time": "2021-05-16T16:05:00.693060",
          "status": "completed"
        },
        "tags": [],
        "id": "union-rotation"
      },
      "source": [
        "<a id = \"pipline\"></a>\n",
        "# Creación del Pipline\n",
        "[Volver al índice](#toc)\n",
        "\n"
      ],
      "id": "union-rotation"
    },
    {
      "cell_type": "markdown",
      "metadata": {
        "id": "OaEOvznh6HYk"
      },
      "source": [
        "Con el objetivo de automatizar el proceso de personalización se crea un pipline que consta de los siguientes procesos:\n",
        "- Imputación de nulos con KNN Imputer\n",
        "- Limpiar outliers \n",
        "- Escalar los datos \n",
        "- Aplicar algoritimo Kmeans con la k optima ( previamente seleccionada)\n"
      ],
      "id": "OaEOvznh6HYk"
    },
    {
      "cell_type": "code",
      "metadata": {
        "execution": {
          "iopub.execute_input": "2021-05-16T16:05:01.283589Z",
          "iopub.status.busy": "2021-05-16T16:05:01.282986Z",
          "iopub.status.idle": "2021-05-16T16:05:01.288573Z",
          "shell.execute_reply": "2021-05-16T16:05:01.289078Z"
        },
        "papermill": {
          "duration": 0.091373,
          "end_time": "2021-05-16T16:05:01.289207",
          "exception": false,
          "start_time": "2021-05-16T16:05:01.197834",
          "status": "completed"
        },
        "tags": [],
        "id": "assured-amateur"
      },
      "source": [
        "class OutlierFilter(BaseEstimator, TransformerMixin):\n",
        "    '''\n",
        "    Clase que filtra los outliers utilizando np.quantile()\n",
        "    Los cuantiles a filtrar así como las columnas a filtrar son los parámetros de la clase.\n",
        "    '''\n",
        "    \n",
        "    def __init__(self, q, col_to_filter):\n",
        "        self.q = q\n",
        "        self.col_to_filter = col_to_filter\n",
        "        \n",
        "    def fit(self, X, y = None):\n",
        "        return self\n",
        "    \n",
        "    def transform(self, X, y = None):\n",
        "        '''\n",
        "        El método considera outlier a aquel cliente que es outlier en todas las columnas que le pasas.\n",
        "        Es decir: si tiene que filtrar importe y número de pedidos, sólo va a eliminar aquellos clientes\n",
        "        que son outlier tanto en importe como número de pedidos. Si eres outlier en importe pero no en pedido\n",
        "        no se te va a filtrar del dataset.\n",
        "        '''\n",
        "        \n",
        "        # lista vacía\n",
        "        criteria_list = []\n",
        "        \n",
        "        # agregamos a la lista los clientes que son outliers\n",
        "        for col in self.col_to_filter:\n",
        "            criteria = X[col] < np.quantile(X[col], q = self.q)\n",
        "            criteria_list.append(criteria)\n",
        "            \n",
        "        # si hay más de 1 columna\n",
        "        if len(self.col_to_filter) > 1:\n",
        "            \n",
        "            # creamos el criterio global: es decir outlier en todas las columnas\n",
        "            global_criteria = criteria_list[0]\n",
        "            \n",
        "            for criteria in criteria_list[1:]:\n",
        "                global_criteria = global_criteria & criteria\n",
        "                \n",
        "        else:\n",
        "            global_criteria = criteria_list[0]\n",
        "            \n",
        "        # filtramos nuestra dataframe\n",
        "        X = X[global_criteria]\n",
        "        \n",
        "        # guardamos el índice como parámetro de la clase porque en caso contrario lo perderíamos.\n",
        "        self.index = X.index\n",
        "        \n",
        "        return X"
      ],
      "id": "assured-amateur",
      "execution_count": null,
      "outputs": []
    },
    {
      "cell_type": "code",
      "metadata": {
        "execution": {
          "iopub.execute_input": "2021-05-16T16:05:01.458859Z",
          "iopub.status.busy": "2021-05-16T16:05:01.458372Z",
          "iopub.status.idle": "2021-05-16T16:05:01.464359Z",
          "shell.execute_reply": "2021-05-16T16:05:01.463956Z"
        },
        "papermill": {
          "duration": 0.091951,
          "end_time": "2021-05-16T16:05:01.464474",
          "exception": false,
          "start_time": "2021-05-16T16:05:01.372523",
          "status": "completed"
        },
        "tags": [],
        "id": "renewable-indonesian"
      },
      "source": [
        "class ArrayToDataFrame(BaseEstimator, TransformerMixin):\n",
        "    '''\n",
        "    Clase que transforma un array en un DataFrame.\n",
        "    Necesita como parámetros el nombre de las columnas y el índice.\n",
        "    '''\n",
        "    \n",
        "    def __init__(self, columns, index = None):\n",
        "        self.columns = columns\n",
        "        self.index = index\n",
        "        \n",
        "    def fit(self, X, y = None):\n",
        "        return self\n",
        "    \n",
        "    def transform(self, X, y = None): \n",
        "        \n",
        "        if self.index != None:\n",
        "            df = pd.DataFrame(X, columns = self.columns, index = self.index)\n",
        "            \n",
        "        else:\n",
        "            df = pd.DataFrame(X, columns = self.columns)\n",
        "            \n",
        "        return df"
      ],
      "id": "renewable-indonesian",
      "execution_count": null,
      "outputs": []
    },
    {
      "cell_type": "code",
      "metadata": {
        "execution": {
          "iopub.execute_input": "2021-05-16T16:05:02.118621Z",
          "iopub.status.busy": "2021-05-16T16:05:02.118180Z",
          "iopub.status.idle": "2021-05-16T16:05:02.122330Z",
          "shell.execute_reply": "2021-05-16T16:05:02.121931Z"
        },
        "papermill": {
          "duration": 0.076832,
          "end_time": "2021-05-16T16:05:02.122444",
          "exception": false,
          "start_time": "2021-05-16T16:05:02.045612",
          "status": "completed"
        },
        "tags": [],
        "id": "powerful-registration"
      },
      "source": [
        "pipe = Pipeline(steps = [\n",
        "    (\"Imputer\", KNNImputer()),\n",
        "    (\"ArrayToDataFrame\", ArrayToDataFrame(columns, index = index)),\n",
        "    (\"OutlierFilter\", OutlierFilter(q = 0.99, col_to_filter = [\"age\",\"salary\"])),\n",
        "    (\"StandardScaler\", StandardScaler())\n",
        "])"
      ],
      "id": "powerful-registration",
      "execution_count": null,
      "outputs": []
    },
    {
      "cell_type": "code",
      "metadata": {
        "execution": {
          "iopub.execute_input": "2021-05-16T16:05:02.252004Z",
          "iopub.status.busy": "2021-05-16T16:05:02.251516Z",
          "iopub.status.idle": "2021-05-16T16:05:02.254706Z",
          "shell.execute_reply": "2021-05-16T16:05:02.254340Z"
        },
        "papermill": {
          "duration": 0.07442,
          "end_time": "2021-05-16T16:05:02.254833",
          "exception": false,
          "start_time": "2021-05-16T16:05:02.180413",
          "status": "completed"
        },
        "tags": [],
        "id": "medieval-philippines"
      },
      "source": [
        "df_scaled_transformed_no_outliers = pipe.fit_transform(df_pers)"
      ],
      "id": "medieval-philippines",
      "execution_count": null,
      "outputs": []
    },
    {
      "cell_type": "code",
      "metadata": {
        "execution": {
          "iopub.execute_input": "2021-05-16T16:05:02.374620Z",
          "iopub.status.busy": "2021-05-16T16:05:02.374190Z",
          "iopub.status.idle": "2021-05-16T16:05:02.377003Z",
          "shell.execute_reply": "2021-05-16T16:05:02.377325Z"
        },
        "papermill": {
          "duration": 0.063762,
          "end_time": "2021-05-16T16:05:02.377458",
          "exception": false,
          "start_time": "2021-05-16T16:05:02.313696",
          "status": "completed"
        },
        "tags": [],
        "id": "boolean-optics"
      },
      "source": [
        "CALCULATE_ELBOW = True"
      ],
      "id": "boolean-optics",
      "execution_count": null,
      "outputs": []
    },
    {
      "cell_type": "code",
      "metadata": {
        "execution": {
          "iopub.execute_input": "2021-05-16T16:05:02.507698Z",
          "iopub.status.busy": "2021-05-16T16:05:02.507229Z",
          "iopub.status.idle": "2021-05-16T16:05:02.512942Z",
          "shell.execute_reply": "2021-05-16T16:05:02.512492Z"
        },
        "papermill": {
          "duration": 0.077593,
          "end_time": "2021-05-16T16:05:02.513031",
          "exception": false,
          "start_time": "2021-05-16T16:05:02.435438",
          "status": "completed"
        },
        "tags": [],
        "colab": {
          "base_uri": "https://localhost:8080/"
        },
        "id": "focal-zambia",
        "outputId": "204f0b82-ee86-48e1-af13-a8c7d8245c17"
      },
      "source": [
        "if CALCULATE_ELBOW:\n",
        "    st = time.time()\n",
        "\n",
        "    sse = {}\n",
        "\n",
        "    for k in range(2, 15):\n",
        "\n",
        "        print(f\"Fitting pipe with {k} clusters\")\n",
        "\n",
        "        clustering_model = KMeans(n_clusters = k)\n",
        "\n",
        "        clustering_model.fit(df_scaled_transformed_no_outliers)\n",
        "\n",
        "        sse[k] = clustering_model.inertia_\n",
        "\n",
        "    et = time.time()\n",
        "    print(\"Elbow curve took {} minutes.\".format(round((et - st)/60), 2))"
      ],
      "id": "focal-zambia",
      "execution_count": null,
      "outputs": [
        {
          "output_type": "stream",
          "text": [
            "Fitting pipe with 2 clusters\n",
            "Fitting pipe with 3 clusters\n",
            "Fitting pipe with 4 clusters\n",
            "Fitting pipe with 5 clusters\n",
            "Fitting pipe with 6 clusters\n",
            "Fitting pipe with 7 clusters\n",
            "Fitting pipe with 8 clusters\n",
            "Fitting pipe with 9 clusters\n",
            "Fitting pipe with 10 clusters\n",
            "Fitting pipe with 11 clusters\n",
            "Fitting pipe with 12 clusters\n",
            "Fitting pipe with 13 clusters\n",
            "Fitting pipe with 14 clusters\n",
            "Elbow curve took 0 minutes.\n"
          ],
          "name": "stdout"
        }
      ]
    },
    {
      "cell_type": "code",
      "metadata": {
        "execution": {
          "iopub.execute_input": "2021-05-16T16:05:02.646964Z",
          "iopub.status.busy": "2021-05-16T16:05:02.646468Z",
          "iopub.status.idle": "2021-05-16T16:05:02.793956Z",
          "shell.execute_reply": "2021-05-16T16:05:02.793519Z"
        },
        "papermill": {
          "duration": 0.222554,
          "end_time": "2021-05-16T16:05:02.794073",
          "exception": false,
          "start_time": "2021-05-16T16:05:02.571519",
          "status": "completed"
        },
        "tags": [],
        "colab": {
          "base_uri": "https://localhost:8080/",
          "height": 540
        },
        "id": "compound-calculation",
        "outputId": "1acbf25a-384b-42ca-9b7d-d8f8a229f7a1"
      },
      "source": [
        "if CALCULATE_ELBOW:\n",
        "    fig = plt.figure(figsize = (16, 8))\n",
        "    ax = fig.add_subplot()\n",
        "\n",
        "    x_values = list(sse.keys())\n",
        "    y_values = list(sse.values())\n",
        "\n",
        "    ax.plot(x_values, y_values, label = \"Inertia/dispersión de los clústers\")\n",
        "    fig.suptitle(\"Variación de la dispersión de los clústers en función de la k\", fontsize = 16);"
      ],
      "id": "compound-calculation",
      "execution_count": null,
      "outputs": [
        {
          "output_type": "display_data",
          "data": {
            "image/png": "[encoded data removed]",
            "text/plain": [
              "<Figure size 1152x576 with 1 Axes>"
            ]
          },
          "metadata": {
            "tags": [],
            "needs_background": "light"
          }
        }
      ]
    },
    {
      "cell_type": "markdown",
      "metadata": {
        "id": "Fl78DXTJHtSv"
      },
      "source": [
        "Observamos claramente como el numero de clusters optimo esta en k=4 ( cambio de pendiente más pronunciado). Es una gran noticia pues desde marketing nos pedian 4 o 5 creatividades. "
      ],
      "id": "Fl78DXTJHtSv"
    },
    {
      "cell_type": "markdown",
      "metadata": {
        "papermill": {
          "duration": 0.058332,
          "end_time": "2021-05-16T16:05:02.912808",
          "exception": false,
          "start_time": "2021-05-16T16:05:02.854476",
          "status": "completed"
        },
        "tags": [],
        "id": "engaged-stress"
      },
      "source": [
        "<a id = \"Knn\"></a>\n",
        "# KMeans\n",
        "[Volver al índice](#toc)\n"
      ],
      "id": "engaged-stress"
    },
    {
      "cell_type": "markdown",
      "metadata": {
        "id": "qnp6YVyDIOC_"
      },
      "source": [
        "Una vez decidio que se crearan 5 creatividades distintas ya solo hace falta aplicar el agoritmo de agrupamiento conocidido como K-means. "
      ],
      "id": "qnp6YVyDIOC_"
    },
    {
      "cell_type": "code",
      "metadata": {
        "execution": {
          "iopub.execute_input": "2021-05-16T16:05:03.151154Z",
          "iopub.status.busy": "2021-05-16T16:05:03.147294Z",
          "iopub.status.idle": "2021-05-16T16:05:03.158418Z",
          "shell.execute_reply": "2021-05-16T16:05:03.157999Z"
        },
        "papermill": {
          "duration": 0.072361,
          "end_time": "2021-05-16T16:05:03.158512",
          "exception": false,
          "start_time": "2021-05-16T16:05:03.086151",
          "status": "completed"
        },
        "tags": [],
        "id": "italic-prototype"
      },
      "source": [
        "pipe = Pipeline(steps = [\n",
        "    (\"Imputer\", KNNImputer()), \n",
        "    (\"ArrayToDataFrame\", ArrayToDataFrame(columns, index = index)),\n",
        "    (\"OutlierFilter\", OutlierFilter(q = 0.99, col_to_filter = [\"age\",\"salary\"])),\n",
        "    (\"StandardScaler\", StandardScaler()),\n",
        "    (\"Clustering\", KMeans(n_clusters = 4))\n",
        "])"
      ],
      "id": "italic-prototype",
      "execution_count": null,
      "outputs": []
    },
    {
      "cell_type": "code",
      "metadata": {
        "execution": {
          "iopub.execute_input": "2021-05-16T16:05:03.287017Z",
          "iopub.status.busy": "2021-05-16T16:05:03.279715Z",
          "iopub.status.idle": "2021-05-16T16:05:03.291136Z",
          "shell.execute_reply": "2021-05-16T16:05:03.290759Z"
        },
        "papermill": {
          "duration": 0.073845,
          "end_time": "2021-05-16T16:05:03.291241",
          "exception": false,
          "start_time": "2021-05-16T16:05:03.217396",
          "status": "completed"
        },
        "tags": [],
        "colab": {
          "base_uri": "https://localhost:8080/"
        },
        "id": "satellite-participant",
        "outputId": "d1bc9d3c-0980-4786-fccd-8536acdd4525"
      },
      "source": [
        "pipe.fit(df_pers)"
      ],
      "id": "satellite-participant",
      "execution_count": null,
      "outputs": [
        {
          "output_type": "execute_result",
          "data": {
            "text/plain": [
              "Pipeline(memory=None,\n",
              "         steps=[('Imputer',\n",
              "                 KNNImputer(add_indicator=False, copy=True,\n",
              "                            metric='nan_euclidean', missing_values=nan,\n",
              "                            n_neighbors=5, weights='uniform')),\n",
              "                ('ArrayToDataFrame',\n",
              "                 ArrayToDataFrame(columns=['active_customer', 'age', 'salary',\n",
              "                                           'Renta per cápita', 'poblacion',\n",
              "                                           'Indice Actividad',\n",
              "                                           'region_code_fe'],\n",
              "                                  index=[1459181, 1440380, 1465393, 1462014,\n",
              "                                         1423487, 144...\n",
              "                                         1342216, 1341726, ...])),\n",
              "                ('OutlierFilter',\n",
              "                 OutlierFilter(col_to_filter=['age', 'salary'], q=0.99)),\n",
              "                ('StandardScaler',\n",
              "                 StandardScaler(copy=True, with_mean=True, with_std=True)),\n",
              "                ('Clustering',\n",
              "                 KMeans(algorithm='auto', copy_x=True, init='k-means++',\n",
              "                        max_iter=300, n_clusters=4, n_init=10, n_jobs=None,\n",
              "                        precompute_distances='auto', random_state=None,\n",
              "                        tol=0.0001, verbose=0))],\n",
              "         verbose=False)"
            ]
          },
          "metadata": {
            "tags": []
          },
          "execution_count": 70
        }
      ]
    },
    {
      "cell_type": "code",
      "metadata": {
        "colab": {
          "base_uri": "https://localhost:8080/"
        },
        "id": "fuWAkQX5KOCW",
        "outputId": "a9c57354-e2fe-4707-89e3-7966bc6c219c"
      },
      "source": [
        "joblib.dump(pipe, 'gdrive/MyDrive/EASY_MONEY_NUCLIO/personalizacion/modelo_personalizacion_entrenado.pkl')"
      ],
      "id": "fuWAkQX5KOCW",
      "execution_count": null,
      "outputs": [
        {
          "output_type": "execute_result",
          "data": {
            "text/plain": [
              "['gdrive/MyDrive/EASY_MONEY_NUCLIO/personalizacion/modelo_personalizacion_entrenado.pkl']"
            ]
          },
          "metadata": {
            "tags": []
          },
          "execution_count": 71
        }
      ]
    },
    {
      "cell_type": "code",
      "metadata": {
        "execution": {
          "iopub.execute_input": "2021-05-16T16:05:03.427485Z",
          "iopub.status.busy": "2021-05-16T16:05:03.420418Z",
          "iopub.status.idle": "2021-05-16T16:05:03.432203Z",
          "shell.execute_reply": "2021-05-16T16:05:03.431670Z"
        },
        "papermill": {
          "duration": 0.081372,
          "end_time": "2021-05-16T16:05:03.432330",
          "exception": false,
          "start_time": "2021-05-16T16:05:03.350958",
          "status": "completed"
        },
        "tags": [],
        "id": "rolled-polish"
      },
      "source": [
        "X_processed = pipe[:2].transform(df_pers)\n",
        "X_scaled = pipe[\"StandardScaler\"].transform(X_processed)"
      ],
      "id": "rolled-polish",
      "execution_count": null,
      "outputs": []
    },
    {
      "cell_type": "code",
      "metadata": {
        "execution": {
          "iopub.execute_input": "2021-05-16T16:05:03.616475Z",
          "iopub.status.busy": "2021-05-16T16:05:03.615908Z",
          "iopub.status.idle": "2021-05-16T16:05:03.626406Z",
          "shell.execute_reply": "2021-05-16T16:05:03.625852Z"
        },
        "papermill": {
          "duration": 0.104088,
          "end_time": "2021-05-16T16:05:03.626551",
          "exception": false,
          "start_time": "2021-05-16T16:05:03.522463",
          "status": "completed"
        },
        "tags": [],
        "id": "reasonable-hundred"
      },
      "source": [
        "labels = pipe[\"Clustering\"].predict(X_scaled)"
      ],
      "id": "reasonable-hundred",
      "execution_count": null,
      "outputs": []
    },
    {
      "cell_type": "code",
      "metadata": {
        "execution": {
          "iopub.execute_input": "2021-05-16T16:05:03.820328Z",
          "iopub.status.busy": "2021-05-16T16:05:03.819850Z",
          "iopub.status.idle": "2021-05-16T16:05:03.823653Z",
          "shell.execute_reply": "2021-05-16T16:05:03.823244Z"
        },
        "papermill": {
          "duration": 0.105969,
          "end_time": "2021-05-16T16:05:03.823782",
          "exception": false,
          "start_time": "2021-05-16T16:05:03.717813",
          "status": "completed"
        },
        "tags": [],
        "id": "changed-franklin"
      },
      "source": [
        "X_processed[\"personalizacion\"] = labels"
      ],
      "id": "changed-franklin",
      "execution_count": null,
      "outputs": []
    },
    {
      "cell_type": "code",
      "metadata": {
        "execution": {
          "iopub.execute_input": "2021-05-16T16:05:03.957099Z",
          "iopub.status.busy": "2021-05-16T16:05:03.956616Z",
          "iopub.status.idle": "2021-05-16T16:05:03.961133Z",
          "shell.execute_reply": "2021-05-16T16:05:03.960565Z"
        },
        "papermill": {
          "duration": 0.075779,
          "end_time": "2021-05-16T16:05:03.961246",
          "exception": false,
          "start_time": "2021-05-16T16:05:03.885467",
          "status": "completed"
        },
        "tags": [],
        "colab": {
          "base_uri": "https://localhost:8080/",
          "height": 424
        },
        "id": "deadly-seating",
        "outputId": "a8b87cc2-46db-4fdf-8b14-49e1acc84810"
      },
      "source": [
        "X_processed"
      ],
      "id": "deadly-seating",
      "execution_count": null,
      "outputs": [
        {
          "output_type": "execute_result",
          "data": {
            "text/html": [
              "<div>\n",
              "<style scoped>\n",
              "    .dataframe tbody tr th:only-of-type {\n",
              "        vertical-align: middle;\n",
              "    }\n",
              "\n",
              "    .dataframe tbody tr th {\n",
              "        vertical-align: top;\n",
              "    }\n",
              "\n",
              "    .dataframe thead th {\n",
              "        text-align: right;\n",
              "    }\n",
              "</style>\n",
              "<table border=\"1\" class=\"dataframe\">\n",
              "  <thead>\n",
              "    <tr style=\"text-align: right;\">\n",
              "      <th></th>\n",
              "      <th>active_customer</th>\n",
              "      <th>age</th>\n",
              "      <th>salary</th>\n",
              "      <th>Renta per cápita</th>\n",
              "      <th>poblacion</th>\n",
              "      <th>Indice Actividad</th>\n",
              "      <th>region_code_fe</th>\n",
              "      <th>personalizacion</th>\n",
              "    </tr>\n",
              "  </thead>\n",
              "  <tbody>\n",
              "    <tr>\n",
              "      <th>1459181</th>\n",
              "      <td>0.0</td>\n",
              "      <td>19.0</td>\n",
              "      <td>116939.034</td>\n",
              "      <td>23.363</td>\n",
              "      <td>1120406.0</td>\n",
              "      <td>60.0</td>\n",
              "      <td>0.0129</td>\n",
              "      <td>3</td>\n",
              "    </tr>\n",
              "    <tr>\n",
              "      <th>1440380</th>\n",
              "      <td>0.0</td>\n",
              "      <td>23.0</td>\n",
              "      <td>57535.230</td>\n",
              "      <td>20.273</td>\n",
              "      <td>521870.0</td>\n",
              "      <td>58.0</td>\n",
              "      <td>0.0085</td>\n",
              "      <td>3</td>\n",
              "    </tr>\n",
              "    <tr>\n",
              "      <th>1465393</th>\n",
              "      <td>0.0</td>\n",
              "      <td>20.0</td>\n",
              "      <td>176021.292</td>\n",
              "      <td>20.314</td>\n",
              "      <td>1942389.0</td>\n",
              "      <td>59.0</td>\n",
              "      <td>0.0386</td>\n",
              "      <td>3</td>\n",
              "    </tr>\n",
              "    <tr>\n",
              "      <th>1462014</th>\n",
              "      <td>0.0</td>\n",
              "      <td>19.0</td>\n",
              "      <td>65775.672</td>\n",
              "      <td>18.628</td>\n",
              "      <td>633564.0</td>\n",
              "      <td>52.0</td>\n",
              "      <td>0.0064</td>\n",
              "      <td>3</td>\n",
              "    </tr>\n",
              "    <tr>\n",
              "      <th>1423487</th>\n",
              "      <td>0.0</td>\n",
              "      <td>21.0</td>\n",
              "      <td>34419.450</td>\n",
              "      <td>18.050</td>\n",
              "      <td>1240155.0</td>\n",
              "      <td>55.0</td>\n",
              "      <td>0.0151</td>\n",
              "      <td>3</td>\n",
              "    </tr>\n",
              "    <tr>\n",
              "      <th>...</th>\n",
              "      <td>...</td>\n",
              "      <td>...</td>\n",
              "      <td>...</td>\n",
              "      <td>...</td>\n",
              "      <td>...</td>\n",
              "      <td>...</td>\n",
              "      <td>...</td>\n",
              "      <td>...</td>\n",
              "    </tr>\n",
              "    <tr>\n",
              "      <th>1004830</th>\n",
              "      <td>1.0</td>\n",
              "      <td>44.0</td>\n",
              "      <td>219869.700</td>\n",
              "      <td>35.091</td>\n",
              "      <td>6663394.0</td>\n",
              "      <td>62.0</td>\n",
              "      <td>0.3397</td>\n",
              "      <td>0</td>\n",
              "    </tr>\n",
              "    <tr>\n",
              "      <th>1004755</th>\n",
              "      <td>1.0</td>\n",
              "      <td>49.0</td>\n",
              "      <td>112760.700</td>\n",
              "      <td>35.091</td>\n",
              "      <td>6663394.0</td>\n",
              "      <td>62.0</td>\n",
              "      <td>0.3397</td>\n",
              "      <td>0</td>\n",
              "    </tr>\n",
              "    <tr>\n",
              "      <th>1018721</th>\n",
              "      <td>1.0</td>\n",
              "      <td>41.0</td>\n",
              "      <td>72700.560</td>\n",
              "      <td>23.363</td>\n",
              "      <td>2565124.0</td>\n",
              "      <td>58.0</td>\n",
              "      <td>0.0443</td>\n",
              "      <td>1</td>\n",
              "    </tr>\n",
              "    <tr>\n",
              "      <th>1020022</th>\n",
              "      <td>1.0</td>\n",
              "      <td>45.0</td>\n",
              "      <td>86311.194</td>\n",
              "      <td>22.709</td>\n",
              "      <td>1022800.0</td>\n",
              "      <td>50.0</td>\n",
              "      <td>0.0125</td>\n",
              "      <td>1</td>\n",
              "    </tr>\n",
              "    <tr>\n",
              "      <th>1017413</th>\n",
              "      <td>1.0</td>\n",
              "      <td>54.0</td>\n",
              "      <td>40576.890</td>\n",
              "      <td>23.363</td>\n",
              "      <td>2565124.0</td>\n",
              "      <td>58.0</td>\n",
              "      <td>0.0443</td>\n",
              "      <td>1</td>\n",
              "    </tr>\n",
              "  </tbody>\n",
              "</table>\n",
              "<p>10000 rows × 8 columns</p>\n",
              "</div>"
            ],
            "text/plain": [
              "         active_customer   age  ...  region_code_fe  personalizacion\n",
              "1459181              0.0  19.0  ...          0.0129                3\n",
              "1440380              0.0  23.0  ...          0.0085                3\n",
              "1465393              0.0  20.0  ...          0.0386                3\n",
              "1462014              0.0  19.0  ...          0.0064                3\n",
              "1423487              0.0  21.0  ...          0.0151                3\n",
              "...                  ...   ...  ...             ...              ...\n",
              "1004830              1.0  44.0  ...          0.3397                0\n",
              "1004755              1.0  49.0  ...          0.3397                0\n",
              "1018721              1.0  41.0  ...          0.0443                1\n",
              "1020022              1.0  45.0  ...          0.0125                1\n",
              "1017413              1.0  54.0  ...          0.0443                1\n",
              "\n",
              "[10000 rows x 8 columns]"
            ]
          },
          "metadata": {
            "tags": []
          },
          "execution_count": 75
        }
      ]
    },
    {
      "cell_type": "code",
      "metadata": {
        "id": "Tt7IEtrBMIwp"
      },
      "source": [
        "X_processed.to_pickle(path=\"gdrive/MyDrive/EASY_MONEY_NUCLIO/data/personalizacion.pkl\")"
      ],
      "id": "Tt7IEtrBMIwp",
      "execution_count": null,
      "outputs": []
    },
    {
      "cell_type": "code",
      "metadata": {
        "id": "8eoRHxDNJrre"
      },
      "source": [
        "X_processed.to_pickle(path=\"gdrive/MyDrive/EASY_MONEY_NUCLIO/personalizacion/result_personalizacion.pkl\")"
      ],
      "id": "8eoRHxDNJrre",
      "execution_count": null,
      "outputs": []
    },
    {
      "cell_type": "markdown",
      "metadata": {
        "id": "Dv13S5gvMj_r"
      },
      "source": [
        "### Presentación de resultados: Caracteristicas de las 4 creatividades"
      ],
      "id": "Dv13S5gvMj_r"
    },
    {
      "cell_type": "code",
      "metadata": {
        "colab": {
          "base_uri": "https://localhost:8080/",
          "height": 206
        },
        "id": "bVhwtumaMsrK",
        "outputId": "5322e6d1-a8ea-43c0-f333-86dce7432145"
      },
      "source": [
        "df_resumen=X_processed.groupby('personalizacion').agg({'active_customer':'mean',\n",
        "                                                        'salary':'mean',\n",
        "                                                       'age':'mean',\n",
        "                                                       'Renta per cápita':'mean',\n",
        "                                                       'region_code_fe':'mean',\n",
        "                                                       'poblacion':'mean',\n",
        "                                                       'Indice Actividad':'mean',\n",
        "                                        'personalizacion':len \n",
        "})\n",
        "\n",
        "df_resumen.rename(columns={\"personalizacion\":'Numero de clientes por creatividad'},inplace=True)\n",
        "df_resumen"
      ],
      "id": "bVhwtumaMsrK",
      "execution_count": null,
      "outputs": [
        {
          "output_type": "execute_result",
          "data": {
            "text/html": [
              "<div>\n",
              "<style scoped>\n",
              "    .dataframe tbody tr th:only-of-type {\n",
              "        vertical-align: middle;\n",
              "    }\n",
              "\n",
              "    .dataframe tbody tr th {\n",
              "        vertical-align: top;\n",
              "    }\n",
              "\n",
              "    .dataframe thead th {\n",
              "        text-align: right;\n",
              "    }\n",
              "</style>\n",
              "<table border=\"1\" class=\"dataframe\">\n",
              "  <thead>\n",
              "    <tr style=\"text-align: right;\">\n",
              "      <th></th>\n",
              "      <th>active_customer</th>\n",
              "      <th>salary</th>\n",
              "      <th>age</th>\n",
              "      <th>Renta per cápita</th>\n",
              "      <th>region_code_fe</th>\n",
              "      <th>poblacion</th>\n",
              "      <th>Indice Actividad</th>\n",
              "      <th>Numero de clientes por creatividad</th>\n",
              "    </tr>\n",
              "    <tr>\n",
              "      <th>personalizacion</th>\n",
              "      <th></th>\n",
              "      <th></th>\n",
              "      <th></th>\n",
              "      <th></th>\n",
              "      <th></th>\n",
              "      <th></th>\n",
              "      <th></th>\n",
              "      <th></th>\n",
              "    </tr>\n",
              "  </thead>\n",
              "  <tbody>\n",
              "    <tr>\n",
              "      <th>0</th>\n",
              "      <td>0.998048</td>\n",
              "      <td>165560.734096</td>\n",
              "      <td>38.613193</td>\n",
              "      <td>34.041374</td>\n",
              "      <td>0.275046</td>\n",
              "      <td>6.379200e+06</td>\n",
              "      <td>61.760734</td>\n",
              "      <td>2562</td>\n",
              "    </tr>\n",
              "    <tr>\n",
              "      <th>1</th>\n",
              "      <td>0.939587</td>\n",
              "      <td>96667.008976</td>\n",
              "      <td>47.449921</td>\n",
              "      <td>23.047136</td>\n",
              "      <td>0.021434</td>\n",
              "      <td>1.274943e+06</td>\n",
              "      <td>57.572337</td>\n",
              "      <td>1887</td>\n",
              "    </tr>\n",
              "    <tr>\n",
              "      <th>2</th>\n",
              "      <td>0.000000</td>\n",
              "      <td>158690.782251</td>\n",
              "      <td>24.077970</td>\n",
              "      <td>34.632822</td>\n",
              "      <td>0.313309</td>\n",
              "      <td>6.532327e+06</td>\n",
              "      <td>61.887995</td>\n",
              "      <td>1616</td>\n",
              "    </tr>\n",
              "    <tr>\n",
              "      <th>3</th>\n",
              "      <td>0.952986</td>\n",
              "      <td>93498.189406</td>\n",
              "      <td>27.675476</td>\n",
              "      <td>22.668047</td>\n",
              "      <td>0.022631</td>\n",
              "      <td>9.657981e+05</td>\n",
              "      <td>55.487929</td>\n",
              "      <td>3935</td>\n",
              "    </tr>\n",
              "  </tbody>\n",
              "</table>\n",
              "</div>"
            ],
            "text/plain": [
              "                 active_customer  ...  Numero de clientes por creatividad\n",
              "personalizacion                   ...                                    \n",
              "0                       0.998048  ...                                2562\n",
              "1                       0.939587  ...                                1887\n",
              "2                       0.000000  ...                                1616\n",
              "3                       0.952986  ...                                3935\n",
              "\n",
              "[4 rows x 8 columns]"
            ]
          },
          "metadata": {
            "tags": []
          },
          "execution_count": 78
        }
      ]
    },
    {
      "cell_type": "markdown",
      "metadata": {
        "id": "9TTWQZV7D-Vs"
      },
      "source": [
        "Se obtienen un total de 4 cratividades distinitas ( no en el mismo orden que en la tabla anteior).\n",
        "\n",
        "- **Creatividad 1** : se caracteriza por ser los clientes con salario y renta per capita más baja. Además la edad media esta en 27 años. Son clientes de poblaciones no muy comunes en nuestra BDDD ( zonas rurales seguramente). Suele navegar habitualmente por nuestra web. Es la creatividad mayoritaria. \n",
        "\n",
        "- **Creatividad 2**  : con un salario un poco por encima que el anterior grupo,Se diferencia principalmente por le edad ( la media se encuentra en 47 años). Además los clientes que pertenecen a este grupo viven en regiones con más población que la anterior y con una activididad mayor. También suelen navegar por nuestra web. \n",
        "\n",
        "- **Creatividad 3** : Claramente son los clientes con más nivel adquisitivo y con un nivel de vida i actividad más elevado. La edad media esta en 38 años y son los que más consultan nuestra web. Además son clientes que pertenecen a regiones muy pobladas y que aparecen mucho en nuestra BDDD.  \n",
        "\n",
        "- **Creatividad 4**:  La caracteritsica principal es que no muestran ningún tipo de interés por nuestra pagina web. Son clientes más jovenes que en los anteriores grupos , con una edad media de 24 años. Viven en regiones con un índice de actividad grande y con una población elevada. Su nivel adquisitivo es bastante elevado ( aunque inforior que la creatividad 3). \n",
        "\n",
        "A continuación se muestran unas representaciones que ayudan a entender mejor las caracteristicas de cada creatividad. \n"
      ],
      "id": "9TTWQZV7D-Vs"
    },
    {
      "cell_type": "code",
      "metadata": {
        "colab": {
          "base_uri": "https://localhost:8080/",
          "height": 542
        },
        "id": "A6eAMb_bSqz-",
        "outputId": "2fadf553-2eeb-48fd-b67a-50c15055428f"
      },
      "source": [
        "fig_edad = px.box(X_processed, x='personalizacion', y=\"age\",title='Edad por creatividad')\n",
        "fig_edad.show()"
      ],
      "id": "A6eAMb_bSqz-",
      "execution_count": null,
      "outputs": [
        {
          "output_type": "display_data",
          "data": {
            "text/html": [
              "<html>\n",
              "<head><meta charset=\"utf-8\" /></head>\n",
              "<body>\n",
              "    <div>\n",
              "            <script src=\"https://cdnjs.cloudflare.com/ajax/libs/mathjax/2.7.5/MathJax.js?config=TeX-AMS-MML_SVG\"></script><script type=\"text/javascript\">if (window.MathJax) {MathJax.Hub.Config({SVG: {font: \"STIX-Web\"}});}</script>\n",
              "                <script type=\"text/javascript\">window.PlotlyConfig = {MathJaxConfig: 'local'};</script>\n",
              "        <script src=\"https://cdn.plot.ly/plotly-latest.min.js\"></script>    \n",
              "            <div id=\"008de69d-392b-4a02-871d-e9b32bcd6937\" class=\"plotly-graph-div\" style=\"height:525px; width:100%;\"></div>\n",
              "            <script type=\"text/javascript\">\n",
              "                \n",
              "                    window.PLOTLYENV=window.PLOTLYENV || {};\n",
              "                    \n",
              "                if (document.getElementById(\"008de69d-392b-4a02-871d-e9b32bcd6937\")) {\n",
              "                    Plotly.newPlot(\n",
              "                        '008de69d-392b-4a02-871d-e9b32bcd6937',\n",
              "                        [{\"alignmentgroup\": \"True\", \"hoverlabel\": {\"namelength\": 0}, \"hovertemplate\": \"personalizacion=%{x}<br>age=%{y}\", \"legendgroup\": \"\", \"marker\": {\"color\": \"#636efa\"}, \"name\": \"\", \"notched\": false, \"offsetgroup\": \"\", \"orientation\": \"v\", \"showlegend\": false, \"type\": \"box\", \"x\": [3, 3, 3, 3, 3, 3, 1, 3, 2, 2, 2, 2, 1, 2, 3, 3, 3, 3, 0, 2, 2, 2, 2, 2, 2, 2, 2, 2, 2, 2, 2, 2, 2, 2, 2, 2, 2, 2, 2, 2, 2, 2, 2, 2, 3, 2, 2, 2, 2, 3, 3, 3, 3, 3, 2, 1, 2, 2, 2, 2, 2, 2, 2, 2, 2, 2, 2, 2, 2, 2, 2, 2, 2, 2, 2, 2, 2, 2, 2, 2, 2, 2, 2, 2, 2, 2, 2, 2, 2, 2, 2, 2, 2, 2, 2, 2, 2, 3, 2, 2, 2, 2, 3, 2, 2, 2, 2, 2, 2, 2, 2, 2, 2, 2, 2, 2, 2, 2, 2, 2, 2, 2, 3, 2, 2, 2, 2, 2, 2, 2, 2, 2, 2, 2, 2, 2, 2, 2, 2, 2, 2, 2, 2, 2, 2, 2, 2, 2, 2, 2, 2, 2, 2, 2, 2, 2, 2, 2, 2, 2, 2, 2, 2, 2, 2, 2, 2, 2, 2, 2, 2, 2, 2, 2, 2, 2, 1, 2, 2, 2, 2, 2, 2, 2, 2, 2, 2, 2, 2, 2, 2, 2, 2, 2, 2, 2, 2, 2, 2, 2, 2, 2, 2, 2, 2, 2, 2, 2, 2, 2, 2, 2, 2, 2, 2, 2, 2, 2, 2, 2, 2, 2, 1, 2, 2, 2, 2, 2, 2, 2, 2, 2, 2, 2, 2, 2, 2, 2, 2, 2, 2, 2, 2, 0, 2, 2, 2, 2, 2, 2, 2, 2, 2, 2, 2, 2, 2, 2, 2, 2, 2, 3, 2, 2, 2, 2, 2, 2, 2, 2, 2, 2, 2, 2, 2, 2, 2, 2, 2, 2, 2, 2, 2, 2, 2, 2, 2, 2, 2, 2, 2, 2, 2, 2, 2, 2, 2, 2, 2, 2, 2, 0, 2, 2, 2, 2, 2, 2, 2, 2, 2, 2, 2, 2, 2, 2, 2, 2, 2, 2, 2, 2, 2, 2, 2, 2, 2, 2, 2, 2, 2, 2, 2, 1, 3, 2, 2, 2, 2, 2, 2, 2, 2, 2, 2, 2, 2, 2, 2, 2, 2, 2, 3, 3, 2, 2, 2, 2, 2, 2, 2, 2, 2, 2, 2, 2, 2, 2, 2, 2, 2, 2, 2, 2, 2, 2, 2, 2, 2, 2, 2, 2, 2, 2, 2, 2, 2, 2, 2, 2, 2, 2, 2, 2, 2, 2, 2, 2, 2, 2, 2, 2, 2, 2, 2, 2, 2, 2, 2, 2, 2, 2, 2, 2, 2, 2, 2, 2, 2, 2, 2, 2, 2, 2, 2, 2, 2, 2, 2, 2, 2, 2, 2, 2, 2, 2, 2, 2, 2, 2, 2, 2, 2, 2, 2, 2, 2, 2, 2, 2, 2, 2, 2, 2, 2, 2, 2, 2, 2, 2, 2, 2, 2, 2, 2, 2, 2, 2, 2, 2, 0, 2, 2, 2, 2, 2, 2, 2, 2, 2, 2, 2, 2, 2, 2, 3, 1, 1, 2, 2, 2, 2, 2, 2, 2, 2, 2, 3, 2, 2, 2, 2, 2, 2, 2, 2, 2, 2, 2, 2, 2, 2, 2, 2, 2, 2, 2, 2, 2, 2, 2, 2, 2, 2, 2, 2, 2, 2, 2, 2, 2, 2, 2, 2, 2, 2, 2, 2, 2, 2, 2, 2, 2, 2, 2, 2, 2, 1, 2, 2, 3, 1, 1, 2, 2, 2, 2, 2, 2, 2, 2, 2, 2, 2, 2, 2, 2, 2, 2, 2, 3, 2, 2, 3, 3, 3, 3, 3, 3, 3, 3, 3, 3, 3, 3, 3, 3, 3, 3, 3, 3, 3, 3, 3, 3, 3, 3, 3, 3, 3, 3, 3, 1, 3, 3, 3, 3, 3, 3, 3, 3, 3, 3, 3, 3, 2, 2, 2, 2, 2, 2, 2, 2, 3, 2, 2, 2, 2, 1, 3, 2, 2, 2, 2, 2, 2, 2, 2, 2, 2, 2, 2, 2, 2, 2, 2, 2, 2, 2, 2, 2, 2, 2, 2, 2, 2, 2, 3, 1, 2, 2, 2, 2, 2, 2, 2, 2, 2, 2, 2, 2, 2, 2, 2, 2, 2, 2, 2, 2, 2, 2, 2, 2, 2, 2, 2, 2, 2, 2, 2, 2, 2, 2, 2, 2, 2, 3, 2, 2, 2, 2, 2, 2, 2, 2, 2, 2, 2, 2, 2, 3, 2, 2, 2, 2, 2, 2, 2, 2, 2, 2, 2, 2, 2, 2, 2, 1, 2, 2, 2, 2, 2, 2, 2, 2, 2, 2, 3, 3, 2, 2, 2, 2, 2, 2, 2, 2, 2, 2, 2, 2, 2, 2, 1, 2, 2, 2, 2, 1, 3, 2, 2, 2, 2, 2, 2, 2, 2, 0, 2, 2, 2, 2, 2, 2, 2, 2, 2, 3, 2, 3, 3, 2, 2, 2, 2, 1, 2, 2, 1, 2, 2, 2, 2, 2, 3, 2, 2, 2, 2, 2, 2, 2, 2, 2, 2, 2, 2, 2, 2, 2, 2, 2, 2, 2, 2, 2, 2, 2, 2, 2, 2, 2, 2, 2, 2, 2, 2, 2, 2, 2, 0, 3, 2, 2, 2, 2, 2, 2, 2, 2, 2, 2, 2, 2, 2, 2, 2, 2, 2, 2, 2, 2, 2, 2, 2, 2, 2, 2, 2, 2, 2, 3, 3, 3, 3, 3, 3, 2, 3, 3, 2, 2, 2, 2, 2, 2, 2, 2, 2, 2, 2, 2, 2, 2, 2, 3, 3, 3, 3, 3, 0, 3, 3, 2, 2, 2, 1, 2, 2, 3, 2, 2, 2, 3, 3, 3, 3, 2, 2, 1, 3, 2, 2, 2, 2, 2, 3, 2, 2, 3, 1, 3, 3, 3, 3, 3, 2, 2, 2, 2, 2, 2, 2, 2, 2, 2, 2, 2, 3, 1, 3, 2, 2, 2, 2, 2, 2, 2, 2, 2, 2, 2, 2, 2, 2, 2, 2, 2, 2, 2, 2, 2, 2, 2, 2, 2, 2, 2, 2, 2, 2, 2, 2, 2, 2, 2, 0, 3, 1, 2, 3, 3, 1, 3, 3, 0, 2, 2, 2, 2, 2, 2, 2, 2, 2, 2, 2, 2, 2, 2, 2, 2, 2, 2, 2, 2, 2, 2, 2, 2, 2, 2, 2, 2, 2, 2, 2, 2, 2, 2, 2, 2, 2, 2, 2, 2, 2, 2, 2, 2, 2, 0, 0, 2, 2, 2, 2, 2, 2, 2, 2, 2, 2, 2, 2, 2, 2, 2, 2, 2, 2, 2, 2, 2, 2, 2, 2, 2, 2, 2, 2, 2, 2, 2, 2, 2, 2, 2, 2, 2, 2, 2, 2, 2, 2, 2, 2, 3, 3, 1, 3, 3, 2, 3, 2, 2, 2, 2, 2, 2, 2, 2, 2, 2, 2, 2, 2, 2, 2, 2, 3, 3, 2, 3, 2, 3, 1, 2, 2, 2, 2, 2, 2, 2, 2, 2, 2, 2, 2, 2, 2, 2, 1, 2, 3, 2, 2, 2, 2, 2, 2, 2, 2, 3, 2, 2, 2, 2, 0, 3, 2, 2, 2, 2, 2, 2, 2, 2, 2, 2, 2, 2, 2, 2, 2, 2, 2, 2, 2, 2, 2, 2, 2, 2, 2, 2, 2, 2, 2, 2, 2, 2, 2, 2, 2, 2, 2, 3, 3, 3, 1, 2, 2, 2, 3, 3, 2, 2, 2, 2, 2, 2, 2, 2, 2, 2, 2, 2, 2, 2, 2, 2, 2, 2, 2, 2, 2, 2, 2, 2, 2, 2, 2, 2, 2, 2, 2, 2, 2, 2, 1, 2, 2, 2, 2, 2, 2, 2, 2, 2, 2, 2, 2, 2, 2, 2, 2, 2, 2, 2, 2, 2, 2, 2, 2, 2, 2, 2, 3, 3, 3, 3, 1, 3, 1, 3, 2, 2, 2, 2, 2, 2, 1, 2, 2, 2, 2, 2, 2, 2, 2, 2, 2, 2, 2, 2, 2, 2, 2, 2, 2, 2, 2, 2, 2, 2, 2, 2, 2, 2, 2, 2, 2, 2, 2, 2, 2, 2, 2, 2, 2, 2, 3, 2, 0, 0, 0, 2, 2, 2, 2, 2, 2, 2, 2, 2, 0, 2, 1, 1, 1, 1, 1, 2, 2, 1, 3, 1, 2, 2, 2, 2, 2, 2, 2, 2, 2, 2, 2, 2, 2, 2, 2, 2, 2, 2, 2, 2, 2, 2, 2, 2, 2, 2, 2, 2, 2, 2, 2, 2, 2, 2, 2, 2, 2, 2, 2, 2, 2, 2, 2, 2, 2, 2, 1, 1, 1, 2, 2, 2, 2, 2, 2, 2, 2, 2, 2, 2, 2, 2, 2, 2, 2, 2, 2, 2, 2, 2, 2, 2, 2, 2, 2, 2, 2, 2, 2, 2, 2, 2, 2, 2, 2, 2, 2, 2, 2, 1, 1, 1, 2, 2, 2, 2, 2, 2, 2, 2, 2, 0, 2, 2, 3, 1, 1, 1, 3, 2, 2, 2, 2, 2, 2, 2, 2, 2, 2, 3, 3, 1, 1, 2, 2, 2, 2, 2, 2, 2, 2, 3, 3, 3, 3, 3, 2, 1, 1, 1, 1, 3, 3, 3, 3, 2, 2, 2, 2, 2, 2, 2, 2, 2, 2, 2, 2, 2, 2, 2, 2, 2, 2, 2, 2, 2, 2, 2, 2, 2, 2, 2, 2, 2, 2, 2, 2, 2, 2, 2, 2, 2, 2, 2, 2, 2, 1, 1, 1, 3, 1, 3, 2, 0, 1, 1, 1, 2, 2, 2, 2, 2, 2, 2, 2, 2, 2, 2, 2, 2, 2, 2, 2, 2, 2, 2, 2, 2, 2, 2, 2, 2, 2, 2, 0, 1, 2, 3, 2, 3, 2, 2, 1, 2, 2, 2, 2, 2, 3, 3, 2, 2, 2, 2, 3, 1, 2, 1, 3, 2, 2, 2, 2, 2, 2, 2, 2, 2, 1, 3, 2, 2, 2, 2, 2, 2, 1, 2, 2, 1, 2, 2, 2, 2, 2, 2, 2, 2, 2, 2, 2, 2, 2, 2, 2, 2, 2, 2, 2, 2, 2, 1, 3, 2, 2, 3, 1, 2, 2, 2, 2, 2, 2, 2, 2, 2, 2, 2, 2, 2, 2, 2, 2, 2, 2, 2, 2, 2, 2, 2, 2, 2, 2, 2, 2, 2, 2, 2, 2, 2, 2, 1, 1, 0, 1, 2, 2, 2, 2, 2, 1, 3, 2, 1, 2, 2, 2, 2, 2, 2, 1, 2, 2, 2, 2, 2, 2, 2, 2, 2, 2, 2, 1, 1, 1, 1, 1, 1, 1, 2, 3, 3, 3, 2, 2, 2, 2, 2, 2, 2, 2, 2, 2, 2, 2, 2, 2, 1, 0, 3, 3, 2, 2, 3, 1, 1, 3, 2, 2, 2, 2, 2, 2, 2, 0, 2, 2, 1, 1, 1, 3, 1, 3, 1, 3, 1, 3, 3, 0, 0, 0, 3, 2, 2, 2, 2, 1, 1, 3, 2, 0, 1, 2, 2, 2, 2, 2, 2, 2, 2, 2, 2, 2, 2, 2, 3, 3, 3, 2, 2, 2, 2, 2, 2, 2, 2, 2, 2, 2, 2, 0, 3, 3, 1, 1, 1, 2, 1, 3, 3, 2, 2, 2, 2, 2, 2, 2, 2, 2, 2, 3, 1, 2, 2, 2, 2, 2, 1, 1, 1, 1, 1, 1, 2, 0, 3, 3, 2, 1, 1, 0, 2, 2, 2, 3, 3, 2, 2, 2, 2, 2, 2, 1, 2, 2, 2, 2, 2, 2, 2, 2, 2, 2, 2, 2, 2, 2, 2, 2, 2, 2, 2, 2, 2, 2, 2, 2, 2, 2, 2, 2, 2, 2, 1, 3, 2, 2, 2, 2, 1, 1, 1, 2, 2, 1, 2, 0, 0, 2, 2, 2, 2, 2, 2, 2, 2, 2, 2, 2, 0, 0, 2, 2, 2, 2, 2, 2, 2, 2, 2, 2, 2, 2, 1, 3, 2, 1, 1, 1, 3, 2, 2, 2, 2, 2, 2, 2, 2, 3, 3, 3, 3, 1, 3, 2, 2, 2, 0, 2, 2, 2, 2, 2, 2, 3, 1, 1, 3, 2, 1, 0, 3, 2, 2, 2, 2, 2, 1, 1, 3, 1, 3, 3, 1, 3, 2, 2, 2, 1, 1, 3, 2, 2, 3, 1, 3, 2, 1, 2, 2, 2, 2, 2, 1, 1, 3, 2, 3, 2, 2, 2, 2, 2, 1, 1, 1, 2, 2, 2, 2, 2, 3, 3, 3, 3, 3, 3, 3, 3, 3, 3, 3, 3, 3, 3, 3, 3, 3, 3, 3, 3, 3, 3, 3, 3, 3, 3, 3, 1, 3, 3, 3, 3, 3, 3, 3, 3, 3, 3, 3, 1, 3, 3, 3, 3, 3, 3, 3, 3, 3, 3, 3, 3, 3, 3, 3, 3, 3, 3, 3, 3, 3, 3, 3, 3, 3, 3, 3, 3, 3, 3, 3, 3, 3, 3, 3, 3, 3, 3, 3, 3, 3, 3, 3, 3, 3, 3, 3, 3, 3, 3, 3, 3, 3, 3, 3, 3, 3, 3, 3, 3, 3, 3, 3, 3, 3, 3, 3, 3, 3, 3, 3, 3, 3, 3, 3, 3, 3, 3, 3, 3, 3, 3, 3, 3, 3, 3, 3, 3, 3, 3, 3, 3, 3, 3, 3, 3, 3, 3, 3, 3, 3, 3, 3, 0, 3, 3, 3, 3, 3, 3, 3, 3, 3, 3, 3, 3, 3, 3, 3, 3, 3, 3, 3, 3, 3, 3, 3, 3, 3, 3, 3, 3, 3, 3, 3, 3, 3, 3, 3, 3, 3, 3, 3, 3, 3, 3, 3, 3, 3, 3, 3, 3, 3, 3, 3, 3, 3, 3, 3, 3, 3, 3, 3, 3, 3, 3, 3, 3, 3, 3, 3, 3, 3, 3, 3, 3, 3, 3, 3, 3, 3, 3, 3, 3, 3, 3, 3, 3, 3, 3, 3, 3, 3, 3, 3, 3, 3, 3, 3, 3, 3, 3, 3, 3, 3, 3, 3, 3, 3, 3, 3, 3, 3, 3, 3, 3, 3, 3, 3, 1, 3, 3, 3, 3, 3, 3, 3, 3, 3, 3, 3, 3, 3, 3, 3, 3, 3, 3, 3, 3, 3, 3, 3, 3, 0, 3, 3, 3, 3, 1, 3, 3, 3, 3, 3, 3, 3, 3, 3, 3, 3, 3, 3, 3, 3, 3, 3, 3, 3, 3, 3, 3, 3, 3, 3, 3, 3, 3, 3, 3, 3, 3, 3, 3, 3, 3, 3, 3, 3, 3, 3, 3, 3, 3, 3, 3, 3, 3, 3, 3, 3, 3, 3, 3, 3, 3, 3, 3, 3, 3, 3, 3, 3, 3, 3, 3, 3, 3, 3, 3, 3, 3, 3, 3, 3, 3, 3, 3, 0, 3, 3, 3, 3, 3, 3, 3, 3, 3, 3, 3, 3, 3, 3, 3, 3, 3, 3, 3, 3, 3, 3, 3, 3, 3, 3, 3, 3, 3, 3, 3, 3, 3, 3, 3, 3, 3, 3, 3, 3, 3, 3, 3, 3, 3, 3, 3, 3, 3, 3, 3, 3, 3, 3, 3, 3, 3, 3, 3, 3, 3, 3, 3, 3, 3, 3, 3, 3, 3, 3, 3, 3, 1, 3, 3, 3, 3, 3, 3, 3, 3, 3, 3, 3, 3, 3, 3, 3, 3, 3, 3, 3, 3, 3, 3, 3, 3, 3, 3, 3, 3, 3, 3, 3, 3, 3, 3, 3, 3, 3, 3, 3, 3, 3, 3, 3, 3, 3, 3, 3, 3, 3, 3, 3, 3, 3, 3, 3, 3, 3, 3, 3, 3, 3, 3, 3, 3, 3, 3, 3, 3, 3, 3, 3, 3, 3, 3, 3, 3, 3, 3, 3, 3, 3, 3, 3, 3, 3, 3, 3, 3, 3, 3, 3, 3, 3, 3, 3, 3, 3, 3, 3, 3, 3, 3, 3, 3, 3, 3, 3, 3, 3, 3, 3, 3, 3, 3, 3, 3, 3, 3, 3, 3, 3, 3, 3, 3, 3, 3, 3, 3, 3, 3, 3, 3, 3, 3, 3, 3, 3, 3, 3, 3, 3, 3, 3, 3, 3, 3, 3, 3, 3, 3, 3, 3, 3, 3, 3, 3, 3, 3, 3, 3, 3, 3, 3, 3, 3, 3, 3, 3, 3, 3, 3, 3, 3, 3, 3, 3, 3, 3, 3, 3, 3, 3, 3, 3, 3, 3, 3, 3, 3, 3, 3, 3, 3, 3, 3, 3, 3, 3, 3, 3, 3, 3, 3, 3, 3, 3, 3, 3, 3, 3, 3, 3, 3, 3, 3, 3, 3, 3, 3, 3, 3, 3, 3, 3, 3, 3, 3, 3, 3, 3, 3, 3, 3, 3, 3, 3, 3, 3, 3, 3, 3, 3, 3, 3, 3, 3, 3, 3, 3, 3, 3, 3, 3, 3, 3, 3, 3, 3, 3, 3, 3, 3, 3, 3, 3, 3, 3, 3, 3, 3, 3, 3, 3, 3, 3, 3, 3, 3, 3, 3, 3, 3, 3, 3, 3, 3, 3, 3, 3, 3, 3, 3, 3, 3, 3, 3, 3, 3, 3, 3, 3, 3, 3, 3, 3, 3, 3, 3, 3, 3, 3, 3, 3, 3, 3, 3, 3, 3, 3, 3, 3, 3, 3, 3, 3, 3, 3, 3, 3, 3, 3, 3, 3, 3, 3, 3, 3, 3, 3, 3, 3, 3, 3, 3, 3, 3, 3, 3, 3, 3, 3, 3, 3, 3, 3, 3, 3, 3, 3, 3, 3, 3, 3, 3, 3, 3, 3, 3, 3, 3, 3, 3, 3, 3, 3, 3, 3, 3, 3, 3, 3, 3, 3, 3, 3, 3, 3, 3, 3, 3, 3, 3, 3, 3, 3, 3, 3, 3, 3, 3, 3, 3, 3, 3, 3, 3, 3, 3, 3, 3, 3, 3, 3, 3, 3, 3, 3, 3, 3, 3, 3, 3, 3, 3, 3, 3, 3, 3, 3, 3, 3, 3, 3, 3, 3, 3, 3, 3, 3, 3, 3, 3, 3, 3, 3, 3, 3, 3, 3, 3, 3, 3, 3, 3, 3, 3, 3, 3, 3, 3, 3, 3, 3, 3, 3, 3, 3, 3, 3, 3, 3, 3, 3, 3, 3, 3, 3, 3, 3, 3, 3, 3, 3, 3, 3, 3, 3, 3, 3, 3, 3, 3, 3, 3, 3, 3, 3, 3, 1, 3, 3, 3, 3, 3, 3, 3, 3, 3, 3, 3, 3, 3, 3, 3, 3, 3, 3, 3, 3, 3, 3, 3, 3, 3, 3, 3, 3, 3, 3, 3, 3, 3, 3, 3, 3, 3, 3, 3, 3, 3, 3, 3, 3, 3, 3, 3, 3, 3, 3, 3, 3, 3, 3, 3, 3, 3, 3, 3, 3, 3, 3, 3, 3, 3, 3, 3, 3, 3, 3, 3, 3, 3, 3, 3, 3, 3, 3, 3, 3, 3, 3, 3, 3, 3, 3, 3, 3, 3, 3, 3, 3, 3, 3, 3, 3, 3, 3, 3, 3, 3, 3, 3, 3, 3, 3, 3, 3, 3, 3, 3, 3, 3, 3, 3, 3, 3, 3, 3, 3, 3, 3, 3, 3, 3, 3, 3, 3, 3, 3, 3, 3, 3, 3, 3, 3, 3, 3, 3, 3, 3, 3, 3, 3, 3, 3, 3, 3, 3, 3, 3, 3, 3, 3, 3, 3, 3, 3, 3, 3, 3, 3, 3, 3, 3, 3, 3, 3, 3, 3, 3, 3, 3, 3, 3, 3, 3, 3, 3, 3, 3, 3, 3, 3, 3, 3, 3, 3, 3, 3, 3, 3, 3, 3, 3, 3, 3, 3, 3, 3, 3, 3, 3, 3, 3, 3, 3, 3, 3, 3, 3, 3, 3, 3, 3, 3, 3, 3, 3, 3, 3, 3, 3, 3, 3, 3, 3, 3, 3, 3, 3, 3, 3, 3, 3, 3, 3, 3, 3, 3, 3, 3, 3, 3, 3, 3, 3, 3, 3, 3, 3, 3, 3, 3, 3, 3, 3, 3, 3, 3, 3, 3, 3, 3, 3, 3, 3, 3, 3, 3, 3, 3, 3, 3, 3, 3, 3, 3, 3, 3, 3, 3, 3, 3, 3, 3, 0, 3, 3, 3, 3, 3, 3, 3, 3, 3, 3, 3, 3, 3, 3, 3, 3, 3, 3, 3, 3, 3, 3, 3, 3, 3, 3, 3, 3, 3, 3, 3, 3, 3, 3, 3, 3, 3, 3, 3, 3, 3, 3, 3, 3, 3, 3, 3, 3, 3, 3, 3, 3, 3, 3, 3, 3, 3, 3, 3, 3, 3, 3, 3, 3, 3, 3, 3, 3, 3, 3, 3, 3, 3, 3, 3, 3, 3, 3, 3, 3, 3, 3, 3, 3, 3, 3, 3, 3, 3, 3, 3, 3, 3, 3, 3, 3, 3, 3, 3, 3, 3, 3, 3, 3, 3, 3, 3, 3, 3, 3, 3, 3, 3, 3, 3, 3, 3, 3, 3, 3, 3, 3, 3, 3, 3, 3, 3, 3, 3, 3, 3, 3, 3, 3, 3, 3, 3, 3, 3, 3, 3, 3, 3, 0, 3, 3, 3, 3, 0, 3, 0, 3, 3, 3, 3, 3, 3, 3, 3, 3, 3, 3, 3, 0, 3, 3, 3, 3, 3, 3, 3, 3, 3, 3, 3, 3, 3, 3, 3, 3, 3, 3, 3, 3, 3, 3, 3, 3, 3, 3, 3, 3, 3, 3, 3, 3, 3, 3, 3, 3, 3, 3, 3, 3, 3, 3, 3, 3, 3, 3, 3, 3, 3, 3, 3, 3, 3, 3, 3, 3, 3, 3, 3, 3, 3, 3, 3, 3, 3, 3, 3, 3, 3, 3, 3, 3, 3, 3, 3, 3, 3, 3, 3, 3, 3, 3, 3, 3, 3, 3, 3, 3, 3, 3, 3, 3, 3, 3, 3, 3, 3, 3, 3, 3, 3, 3, 3, 3, 3, 3, 3, 3, 3, 3, 3, 3, 3, 3, 3, 3, 3, 3, 3, 3, 3, 3, 3, 3, 3, 3, 3, 3, 3, 3, 3, 3, 3, 3, 3, 3, 3, 3, 3, 3, 3, 3, 3, 3, 3, 3, 3, 3, 3, 3, 3, 3, 3, 3, 3, 3, 3, 3, 3, 3, 3, 3, 3, 3, 3, 3, 3, 3, 3, 3, 3, 3, 3, 3, 3, 3, 3, 3, 3, 3, 3, 3, 3, 3, 3, 3, 3, 3, 3, 3, 3, 3, 3, 3, 3, 3, 3, 3, 3, 3, 3, 3, 3, 3, 3, 3, 3, 3, 3, 3, 3, 3, 3, 3, 3, 3, 3, 3, 3, 1, 3, 3, 3, 3, 3, 3, 3, 3, 3, 3, 3, 3, 3, 3, 3, 3, 3, 3, 3, 3, 3, 3, 3, 3, 3, 3, 3, 3, 3, 3, 3, 3, 3, 3, 3, 3, 3, 3, 3, 3, 3, 3, 3, 3, 3, 3, 3, 3, 3, 3, 3, 3, 3, 3, 3, 3, 3, 3, 3, 3, 3, 3, 3, 3, 3, 3, 3, 3, 3, 3, 3, 3, 3, 3, 3, 3, 3, 3, 3, 3, 3, 3, 3, 3, 3, 3, 3, 3, 3, 3, 3, 3, 3, 3, 3, 3, 3, 3, 3, 3, 3, 3, 3, 3, 3, 3, 3, 3, 3, 3, 3, 3, 3, 3, 3, 3, 3, 3, 3, 3, 3, 3, 3, 3, 3, 3, 3, 3, 3, 3, 3, 3, 3, 3, 3, 3, 3, 3, 3, 3, 3, 3, 3, 3, 3, 3, 3, 3, 3, 3, 3, 3, 3, 3, 3, 3, 3, 3, 3, 3, 3, 3, 3, 3, 3, 3, 3, 3, 3, 3, 3, 3, 3, 3, 3, 3, 3, 3, 3, 3, 3, 3, 3, 3, 3, 3, 3, 3, 3, 3, 3, 3, 3, 3, 3, 3, 3, 3, 3, 3, 3, 3, 3, 3, 3, 3, 3, 3, 3, 3, 3, 3, 3, 3, 3, 3, 3, 3, 3, 3, 3, 3, 3, 3, 3, 3, 3, 3, 3, 3, 3, 3, 3, 3, 3, 3, 3, 3, 3, 3, 3, 3, 3, 3, 3, 3, 3, 3, 3, 3, 3, 3, 3, 3, 3, 3, 3, 3, 3, 3, 3, 3, 3, 3, 3, 3, 3, 0, 3, 3, 3, 3, 3, 3, 3, 3, 3, 3, 3, 3, 3, 3, 3, 3, 3, 3, 3, 3, 3, 3, 3, 3, 3, 3, 3, 3, 3, 3, 3, 3, 3, 3, 3, 3, 3, 3, 3, 3, 3, 3, 3, 3, 3, 3, 3, 3, 3, 3, 3, 3, 3, 3, 3, 3, 3, 3, 0, 3, 3, 3, 3, 3, 3, 3, 3, 3, 3, 3, 3, 3, 3, 3, 3, 3, 3, 3, 3, 0, 3, 3, 3, 3, 3, 3, 3, 3, 3, 3, 3, 3, 3, 3, 3, 3, 3, 3, 3, 3, 3, 3, 3, 3, 3, 3, 3, 3, 3, 3, 3, 3, 3, 3, 3, 3, 3, 3, 3, 3, 3, 3, 0, 1, 1, 3, 1, 0, 3, 0, 1, 1, 0, 3, 1, 1, 1, 3, 0, 0, 0, 0, 0, 1, 1, 3, 0, 0, 1, 1, 0, 3, 0, 0, 0, 3, 3, 1, 1, 1, 1, 1, 0, 0, 3, 1, 0, 0, 3, 1, 0, 3, 1, 1, 3, 3, 3, 1, 3, 1, 1, 0, 0, 1, 3, 3, 1, 1, 1, 0, 3, 3, 0, 1, 3, 3, 0, 1, 1, 3, 0, 3, 0, 3, 3, 3, 1, 0, 0, 3, 3, 1, 0, 3, 0, 0, 1, 3, 1, 1, 1, 3, 1, 3, 3, 1, 0, 0, 1, 3, 3, 1, 1, 3, 0, 3, 3, 0, 1, 1, 0, 0, 1, 3, 1, 0, 0, 1, 0, 3, 3, 1, 3, 3, 1, 0, 1, 0, 0, 0, 3, 0, 0, 0, 3, 0, 3, 1, 1, 3, 1, 3, 1, 0, 0, 3, 0, 3, 1, 1, 0, 0, 3, 3, 3, 1, 3, 0, 0, 1, 0, 0, 0, 0, 0, 0, 3, 3, 0, 0, 0, 0, 1, 0, 3, 0, 1, 0, 0, 1, 0, 0, 1, 1, 1, 0, 3, 0, 1, 0, 1, 3, 1, 0, 0, 3, 1, 0, 3, 1, 1, 0, 1, 0, 0, 3, 0, 1, 3, 0, 3, 0, 3, 0, 1, 1, 1, 0, 3, 0, 1, 0, 1, 0, 0, 1, 3, 0, 1, 0, 0, 0, 3, 0, 1, 3, 1, 1, 0, 0, 0, 3, 0, 3, 3, 1, 1, 0, 0, 0, 0, 1, 3, 3, 1, 3, 1, 0, 0, 3, 3, 3, 1, 0, 1, 0, 0, 0, 0, 0, 0, 0, 0, 3, 1, 1, 1, 3, 1, 0, 1, 1, 3, 3, 0, 0, 0, 3, 3, 1, 1, 3, 3, 3, 0, 0, 0, 1, 0, 0, 0, 0, 0, 1, 0, 0, 0, 3, 0, 1, 0, 1, 0, 1, 0, 3, 0, 0, 0, 0, 1, 0, 0, 1, 3, 0, 0, 1, 0, 3, 1, 0, 0, 3, 1, 0, 0, 0, 1, 1, 0, 1, 0, 3, 0, 3, 0, 3, 3, 0, 0, 0, 0, 1, 0, 3, 0, 0, 0, 0, 1, 3, 1, 1, 1, 1, 3, 0, 0, 3, 3, 1, 1, 1, 1, 3, 3, 1, 1, 1, 1, 1, 0, 0, 1, 3, 0, 3, 3, 1, 3, 1, 0, 0, 1, 3, 1, 0, 0, 0, 3, 3, 0, 1, 0, 1, 3, 1, 0, 0, 0, 1, 1, 1, 0, 3, 3, 1, 1, 0, 1, 1, 0, 3, 0, 0, 3, 1, 1, 1, 0, 1, 3, 0, 3, 3, 3, 0, 3, 3, 1, 0, 1, 0, 1, 3, 3, 3, 1, 0, 0, 3, 3, 1, 1, 1, 3, 0, 3, 0, 0, 0, 0, 3, 0, 1, 0, 1, 1, 3, 3, 0, 3, 0, 0, 1, 1, 1, 1, 0, 1, 3, 0, 3, 1, 0, 0, 3, 0, 1, 0, 1, 0, 0, 1, 1, 0, 1, 0, 3, 0, 0, 3, 0, 0, 1, 0, 1, 1, 0, 0, 1, 0, 1, 0, 3, 1, 3, 3, 3, 1, 1, 1, 3, 3, 3, 3, 1, 0, 0, 1, 3, 1, 1, 3, 1, 3, 0, 1, 3, 3, 0, 0, 3, 3, 0, 1, 0, 1, 1, 1, 3, 3, 0, 1, 3, 0, 1, 0, 1, 3, 0, 3, 0, 1, 0, 1, 0, 0, 1, 0, 0, 1, 0, 3, 3, 0, 1, 1, 0, 3, 0, 1, 0, 0, 0, 1, 1, 1, 0, 1, 0, 3, 0, 1, 1, 0, 3, 0, 1, 0, 1, 1, 1, 0, 0, 0, 3, 0, 3, 0, 0, 0, 0, 0, 1, 0, 3, 1, 3, 0, 0, 1, 0, 0, 1, 1, 3, 3, 0, 3, 3, 1, 1, 0, 1, 3, 0, 1, 0, 3, 3, 0, 3, 1, 1, 1, 1, 1, 0, 3, 0, 1, 0, 0, 0, 1, 1, 3, 0, 3, 0, 1, 1, 1, 1, 0, 0, 1, 0, 1, 3, 3, 0, 3, 0, 0, 1, 1, 1, 3, 1, 3, 0, 3, 3, 3, 0, 1, 3, 3, 1, 0, 0, 0, 0, 1, 3, 0, 0, 1, 1, 0, 0, 3, 3, 0, 1, 3, 0, 0, 3, 0, 3, 3, 3, 0, 1, 3, 3, 0, 0, 1, 3, 1, 0, 1, 0, 0, 3, 1, 3, 3, 1, 1, 0, 1, 3, 3, 1, 3, 0, 0, 1, 3, 1, 1, 0, 0, 1, 3, 3, 3, 1, 3, 0, 0, 0, 3, 1, 1, 1, 1, 0, 0, 3, 1, 0, 0, 0, 1, 3, 1, 3, 3, 1, 1, 1, 0, 3, 0, 3, 3, 0, 0, 1, 1, 3, 0, 1, 3, 0, 3, 0, 3, 3, 0, 1, 1, 1, 0, 0, 0, 1, 1, 1, 0, 0, 1, 3, 1, 1, 3, 1, 1, 0, 0, 0, 0, 0, 3, 1, 3, 0, 3, 0, 0, 1, 3, 1, 1, 1, 1, 3, 1, 0, 3, 3, 1, 0, 1, 3, 3, 3, 0, 1, 3, 0, 0, 0, 1, 1, 1, 3, 1, 1, 1, 1, 0, 0, 1, 0, 3, 1, 3, 0, 0, 1, 3, 1, 3, 0, 0, 0, 1, 3, 0, 3, 1, 3, 3, 1, 0, 0, 1, 1, 0, 0, 1, 0, 3, 0, 0, 0, 3, 0, 3, 1, 0, 0, 0, 1, 1, 0, 3, 1, 1, 3, 3, 0, 1, 3, 1, 3, 3, 0, 3, 3, 1, 3, 1, 3, 1, 0, 0, 1, 1, 0, 1, 0, 3, 1, 1, 3, 0, 3, 3, 3, 0, 0, 3, 1, 1, 3, 1, 3, 3, 1, 0, 0, 1, 1, 1, 1, 3, 3, 3, 0, 0, 1, 0, 0, 0, 3, 3, 1, 0, 3, 0, 3, 1, 3, 1, 0, 3, 3, 0, 3, 0, 1, 0, 1, 3, 1, 0, 3, 1, 3, 1, 0, 0, 3, 1, 1, 1, 1, 3, 3, 0, 0, 1, 1, 0, 1, 0, 0, 1, 0, 0, 1, 0, 1, 0, 0, 0, 0, 0, 3, 0, 0, 1, 3, 3, 1, 0, 1, 1, 0, 0, 1, 3, 0, 3, 1, 0, 0, 0, 1, 3, 0, 3, 3, 3, 0, 1, 3, 0, 1, 3, 3, 3, 1, 3, 0, 3, 1, 1, 0, 3, 1, 1, 1, 1, 1, 1, 3, 0, 0, 3, 0, 1, 1, 1, 1, 3, 1, 3, 0, 3, 1, 1, 1, 3, 1, 3, 3, 3, 1, 3, 0, 0, 0, 3, 0, 0, 3, 0, 1, 1, 1, 1, 1, 1, 3, 0, 3, 1, 0, 3, 3, 0, 0, 0, 3, 0, 1, 1, 3, 0, 3, 0, 1, 3, 3, 1, 1, 3, 3, 0, 1, 1, 1, 1, 3, 1, 0, 0, 1, 3, 0, 3, 3, 3, 1, 0, 3, 0, 3, 1, 0, 3, 0, 3, 0, 1, 0, 0, 3, 3, 1, 1, 1, 0, 3, 1, 1, 3, 1, 1, 0, 0, 0, 1, 1, 0, 0, 0, 3, 1, 3, 3, 0, 3, 0, 1, 0, 0, 3, 3, 1, 0, 0, 0, 1, 0, 3, 1, 1, 0, 3, 0, 0, 0, 0, 3, 0, 0, 0, 3, 1, 0, 1, 0, 0, 3, 3, 0, 0, 0, 0, 1, 3, 1, 3, 1, 0, 3, 0, 0, 3, 0, 0, 1, 3, 0, 3, 1, 0, 0, 1, 3, 1, 0, 0, 0, 3, 3, 0, 0, 1, 3, 1, 0, 1, 1, 0, 1, 0, 0, 0, 1, 1, 0, 1, 3, 1, 1, 1, 3, 1, 3, 1, 1, 3, 0, 3, 1, 0, 1, 1, 0, 1, 0, 3, 0, 0, 0, 3, 1, 1, 1, 1, 1, 0, 1, 1, 3, 0, 3, 3, 1, 3, 1, 3, 1, 3, 3, 0, 1, 1, 3, 1, 0, 0, 1, 1, 0, 3, 0, 0, 3, 0, 0, 3, 1, 0, 3, 0, 3, 3, 0, 3, 3, 0, 0, 0, 0, 1, 1, 1, 3, 0, 3, 3, 1, 1, 0, 1, 1, 0, 1, 3, 0, 3, 0, 3, 1, 3, 1, 0, 1, 0, 0, 0, 1, 0, 0, 1, 0, 3, 0, 0, 3, 3, 0, 3, 0, 1, 3, 1, 0, 3, 1, 0, 1, 3, 1, 1, 3, 3, 1, 1, 1, 3, 1, 3, 3, 3, 0, 3, 1, 0, 3, 0, 3, 3, 0, 1, 1, 3, 1, 3, 0, 0, 3, 3, 1, 3, 0, 1, 0, 1, 3, 3, 1, 0, 0, 0, 0, 0, 1, 1, 0, 0, 3, 0, 1, 0, 3, 0, 1, 3, 1, 1, 1, 1, 0, 0, 0, 3, 0, 0, 0, 3, 1, 1, 1, 1, 3, 0, 3, 1, 3, 1, 1, 3, 3, 3, 3, 1, 3, 0, 0, 3, 0, 3, 0, 0, 1, 0, 3, 0, 3, 1, 0, 3, 3, 1, 0, 1, 3, 3, 3, 0, 1, 0, 0, 3, 1, 1, 0, 1, 3, 1, 0, 3, 1, 0, 1, 0, 0, 1, 3, 3, 1, 1, 0, 1, 0, 1, 1, 3, 3, 0, 3, 3, 3, 1, 3, 3, 0, 3, 3, 3, 3, 0, 1, 0, 0, 0, 3, 3, 1, 1, 3, 0, 3, 0, 3, 1, 1, 1, 1, 1, 0, 0, 3, 3, 1, 0, 0, 1, 0, 3, 1, 3, 1, 1, 1, 0, 1, 1, 3, 0, 1, 3, 3, 0, 3, 0, 1, 3, 3, 3, 0, 0, 1, 0, 0, 0, 1, 0, 0, 1, 0, 0, 1, 3, 0, 0, 3, 3, 0, 3, 1, 0, 1, 0, 0, 0, 3, 3, 3, 0, 0, 0, 3, 3, 0, 1, 0, 0, 1, 3, 3, 3, 1, 0, 1, 3, 3, 0, 1, 0, 0, 1, 0, 1, 0, 3, 1, 3, 1, 1, 3, 3, 0, 3, 0, 1, 0, 1, 0, 0, 1, 1, 3, 3, 0, 3, 0, 0, 3, 0, 3, 1, 0, 3, 0, 1, 0, 3, 3, 3, 0, 0, 0, 1, 0, 3, 0, 1, 3, 3, 1, 1, 0, 3, 3, 3, 1, 0, 1, 0, 1, 3, 0, 3, 3, 1, 0, 3, 0, 3, 3, 1, 1, 1, 1, 0, 0, 3, 3, 3, 1, 3, 1, 3, 1, 3, 3, 1, 1, 1, 3, 3, 1, 3, 3, 0, 1, 0, 0, 0, 0, 0, 1, 1, 0, 1, 1, 1, 3, 0, 0, 0, 1, 1, 1, 1, 3, 0, 3, 3, 3, 0, 0, 0, 0, 0, 1, 3, 0, 0, 3, 3, 1, 0, 0, 3, 3, 3, 0, 0, 1, 1, 1, 1, 0, 0, 3, 0, 3, 1, 0, 0, 0, 3, 3, 1, 3, 0, 0, 3, 1, 3, 3, 1, 3, 1, 3, 0, 0, 3, 1, 3, 3, 3, 1, 1, 3, 3, 3, 3, 3, 0, 3, 3, 0, 0, 0, 3, 0, 1, 0, 1, 1, 0, 3, 1, 3, 0, 0, 1, 3, 0, 1, 0, 3, 0, 0, 1, 0, 0, 1, 3, 3, 0, 0, 1, 1, 1, 1, 1, 0, 3, 0, 1, 3, 0, 3, 3, 1, 3, 1, 1, 3, 0, 1, 0, 0, 3, 0, 3, 3, 1, 3, 0, 3, 3, 1, 3, 0, 1, 1, 0, 0, 0, 0, 0, 1, 0, 1, 3, 3, 1, 3, 1, 0, 3, 3, 1, 1, 0, 1, 1, 1, 0, 1, 1, 1, 1, 0, 0, 3, 3, 1, 1, 3, 3, 0, 3, 1, 1, 0, 0, 1, 0, 0, 3, 3, 0, 0, 3, 3, 3, 0, 1, 3, 3, 1, 3, 1, 1, 0, 0, 3, 3, 1, 0, 1, 3, 1, 1, 0, 3, 1, 1, 0, 1, 0, 0, 0, 1, 0, 3, 0, 1, 1, 3, 1, 1, 0, 0, 3, 3, 3, 0, 1, 1, 0, 0, 0, 0, 0, 3, 3, 1, 3, 3, 0, 0, 0, 0, 0, 0, 0, 0, 0, 0, 0, 0, 0, 3, 0, 0, 0, 0, 0, 3, 3, 3, 3, 0, 1, 0, 0, 3, 0, 3, 0, 3, 3, 3, 3, 3, 0, 3, 0, 3, 3, 0, 0, 0, 0, 0, 0, 0, 1, 3, 3, 0, 0, 0, 0, 0, 1, 0, 0, 3, 3, 3, 3, 0, 0, 0, 0, 3, 0, 0, 0, 3, 0, 0, 3, 0, 0, 3, 0, 0, 0, 3, 0, 0, 0, 0, 0, 0, 3, 0, 0, 0, 1, 3, 3, 0, 3, 3, 3, 0, 0, 3, 3, 0, 3, 3, 3, 0, 3, 3, 0, 3, 0, 0, 0, 3, 3, 0, 0, 1, 3, 1, 1, 3, 0, 0, 0, 3, 3, 3, 0, 3, 0, 3, 3, 0, 3, 3, 0, 0, 3, 3, 0, 3, 0, 0, 3, 0, 3, 3, 0, 0, 3, 3, 3, 0, 3, 0, 3, 3, 3, 3, 0, 3, 0, 3, 3, 0, 0, 3, 3, 3, 3, 3, 3, 3, 1, 3, 0, 3, 3, 3, 3, 3, 3, 3, 3, 3, 3, 3, 0, 1, 0, 3, 0, 0, 3, 3, 3, 3, 0, 3, 3, 1, 0, 0, 0, 0, 1, 0, 0, 3, 3, 0, 0, 3, 0, 3, 0, 3, 1, 0, 0, 3, 3, 3, 3, 3, 3, 3, 3, 0, 0, 0, 3, 3, 3, 0, 3, 3, 0, 3, 3, 1, 0, 3, 0, 0, 0, 3, 3, 1, 3, 3, 3, 0, 0, 0, 3, 3, 0, 0, 0, 3, 3, 3, 3, 3, 0, 3, 0, 3, 3, 0, 0, 3, 3, 3, 0, 0, 3, 0, 3, 0, 0, 0, 3, 3, 3, 3, 0, 0, 3, 0, 0, 0, 0, 3, 0, 3, 0, 0, 3, 3, 0, 0, 3, 0, 0, 0, 3, 3, 3, 0, 0, 0, 0, 3, 0, 3, 0, 3, 0, 0, 0, 3, 3, 0, 0, 0, 3, 0, 3, 1, 0, 3, 3, 3, 3, 0, 0, 0, 0, 3, 0, 3, 3, 3, 0, 0, 1, 0, 3, 3, 3, 3, 0, 0, 0, 3, 3, 0, 0, 0, 3, 3, 0, 0, 0, 3, 0, 0, 3, 0, 0, 1, 3, 0, 3, 3, 0, 3, 3, 0, 1, 0, 3, 0, 3, 0, 3, 0, 0, 0, 0, 3, 3, 3, 3, 0, 0, 0, 0, 0, 0, 3, 0, 3, 3, 1, 3, 3, 3, 0, 0, 3, 0, 0, 3, 0, 0, 0, 0, 3, 0, 3, 0, 1, 3, 3, 0, 0, 0, 0, 3, 0, 3, 0, 0, 3, 3, 3, 3, 0, 1, 3, 0, 3, 0, 3, 3, 0, 3, 0, 3, 3, 0, 3, 3, 3, 3, 3, 3, 3, 0, 3, 3, 0, 3, 0, 0, 3, 0, 0, 3, 3, 0, 0, 3, 0, 1, 0, 0, 3, 3, 3, 3, 0, 0, 0, 3, 3, 0, 0, 3, 0, 3, 0, 0, 3, 0, 3, 3, 0, 0, 0, 0, 0, 3, 3, 3, 3, 3, 3, 3, 0, 3, 0, 0, 3, 0, 3, 0, 0, 3, 3, 3, 3, 3, 3, 3, 3, 0, 3, 0, 0, 3, 3, 0, 0, 0, 0, 0, 3, 0, 3, 0, 0, 3, 3, 3, 3, 3, 0, 3, 3, 3, 3, 3, 0, 0, 3, 0, 3, 3, 0, 3, 0, 0, 0, 3, 0, 3, 0, 0, 3, 3, 0, 3, 3, 3, 3, 3, 0, 0, 3, 0, 3, 3, 0, 0, 3, 0, 0, 3, 0, 3, 3, 3, 0, 0, 3, 0, 0, 0, 0, 3, 0, 3, 0, 0, 3, 0, 3, 3, 0, 3, 0, 3, 3, 0, 0, 3, 0, 0, 3, 0, 0, 0, 0, 3, 0, 0, 0, 0, 0, 0, 0, 3, 3, 3, 0, 0, 0, 0, 3, 3, 0, 0, 3, 0, 0, 0, 3, 3, 3, 1, 3, 3, 0, 3, 0, 3, 3, 0, 3, 0, 3, 0, 3, 1, 3, 0, 0, 0, 3, 0, 0, 0, 0, 0, 3, 3, 0, 3, 3, 3, 3, 0, 3, 3, 0, 0, 3, 0, 3, 0, 0, 0, 3, 0, 3, 3, 0, 3, 0, 3, 3, 0, 3, 3, 0, 3, 3, 3, 3, 3, 0, 0, 0, 0, 0, 0, 3, 3, 0, 0, 0, 3, 3, 1, 0, 3, 1, 3, 3, 0, 0, 0, 1, 0, 3, 0, 3, 0, 3, 3, 0, 3, 0, 3, 0, 3, 0, 3, 3, 0, 3, 0, 0, 0, 0, 0, 0, 0, 0, 0, 0, 0, 0, 0, 0, 0, 0, 0, 0, 0, 0, 0, 0, 0, 0, 0, 0, 0, 0, 0, 0, 0, 0, 0, 0, 0, 0, 0, 0, 0, 0, 0, 0, 0, 0, 0, 0, 0, 0, 0, 0, 3, 0, 3, 0, 3, 3, 3, 3, 0, 0, 3, 3, 3, 3, 3, 0, 3, 0, 3, 3, 3, 0, 3, 3, 1, 0, 3, 3, 3, 0, 3, 3, 3, 3, 3, 3, 0, 0, 3, 3, 3, 3, 0, 3, 0, 3, 3, 3, 3, 3, 0, 3, 0, 3, 3, 0, 3, 3, 3, 3, 0, 3, 3, 3, 3, 3, 3, 3, 3, 0, 3, 3, 3, 0, 1, 0, 3, 3, 3, 0, 3, 3, 3, 3, 0, 3, 0, 3, 3, 0, 0, 3, 3, 0, 3, 0, 1, 3, 0, 0, 3, 0, 3, 3, 3, 0, 0, 3, 3, 0, 0, 3, 3, 3, 0, 3, 3, 1, 3, 3, 3, 3, 3, 3, 3, 3, 3, 3, 3, 3, 0, 3, 0, 0, 3, 3, 0, 0, 0, 3, 1, 3, 0, 3, 3, 3, 3, 3, 3, 3, 3, 3, 3, 0, 3, 3, 0, 0, 0, 3, 3, 0, 0, 0, 0, 3, 3, 3, 0, 3, 3, 0, 0, 3, 3, 0, 3, 0, 3, 3, 0, 3, 3, 0, 3, 0, 0, 1, 3, 3, 3, 0, 3, 0, 3, 3, 0, 3, 3, 0, 0, 0, 3, 3, 0, 3, 3, 0, 3, 0, 3, 3, 0, 3, 3, 3, 3, 3, 3, 3, 3, 0, 0, 3, 3, 3, 0, 0, 0, 3, 3, 3, 3, 3, 3, 0, 0, 3, 3, 3, 3, 3, 3, 0, 0, 3, 0, 3, 0, 3, 0, 3, 3, 3, 0, 1, 0, 3, 0, 3, 3, 0, 0, 3, 0, 0, 1, 3, 3, 0, 3, 3, 3, 3, 3, 0, 3, 0, 3, 3, 3, 3, 3, 0, 3, 0, 3, 0, 0, 0, 3, 0, 3, 3, 3, 0, 3, 3, 3, 3, 3, 3, 3, 3, 3, 3, 0, 3, 0, 3, 3, 3, 3, 0, 0, 1, 0, 0, 3, 3, 1, 3, 0, 0, 3, 3, 0, 0, 3, 3, 0, 0, 0, 0, 0, 0, 3, 3, 3, 0, 3, 1, 3, 3, 3, 3, 0, 3, 3, 0, 0, 0, 3, 1, 0, 3, 0, 3, 3, 3, 1, 3, 3, 0, 3, 0, 3, 0, 3, 3, 3, 0, 3, 1, 3, 3, 3, 0, 3, 3, 0, 3, 3, 0, 3, 0, 0, 3, 3, 3, 3, 1, 3, 3, 0, 0, 0, 3, 3, 3, 3, 3, 3, 0, 0, 0, 0, 0, 3, 3, 0, 3, 3, 3, 0, 3, 0, 3, 3, 3, 3, 3, 0, 3, 3, 0, 0, 3, 3, 3, 3, 3, 3, 3, 3, 3, 3, 3, 3, 3, 0, 0, 3, 0, 3, 3, 3, 3, 3, 3, 0, 3, 3, 3, 3, 3, 3, 3, 3, 0, 1, 3, 0, 0, 3, 3, 3, 3, 3, 0, 3, 3, 3, 3, 0, 3, 3, 3, 0, 0, 0, 3, 3, 0, 0, 3, 3, 0, 1, 3, 3, 3, 3, 0, 3, 0, 3, 1, 3, 0, 0, 3, 0, 3, 0, 3, 0, 3, 3, 3, 3, 0, 3, 3, 3, 3, 0, 3, 0, 0, 3, 1, 0, 0, 0, 3, 3, 3, 0, 3, 0, 3, 0, 0, 3, 3, 0, 3, 3, 0, 3, 3, 0, 0, 3, 3, 0, 3, 3, 1, 0, 3, 3, 3, 3, 3, 3, 3, 3, 3, 3, 3, 1, 0, 3, 3, 3, 3, 1, 3, 3, 3, 3, 3, 3, 3, 3, 3, 3, 3, 3, 3, 0, 3, 0, 3, 3, 3, 3, 3, 3, 3, 3, 1, 3, 3, 3, 0, 3, 3, 3, 3, 3, 0, 3, 3, 0, 3, 3, 3, 3, 3, 0, 1, 3, 0, 3, 0, 0, 0, 3, 3, 0, 3, 3, 3, 3, 3, 3, 3, 3, 3, 0, 3, 3, 3, 3, 3, 3, 3, 0, 0, 0, 0, 0, 3, 3, 0, 3, 3, 3, 0, 3, 0, 3, 3, 3, 3, 3, 3, 1, 3, 3, 0, 0, 3, 0, 3, 3, 3, 3, 3, 3, 0, 3, 3, 0, 3, 0, 3, 3, 3, 3, 3, 3, 3, 0, 3, 3, 0, 3, 3, 3, 3, 3, 1, 0, 0, 1, 0, 3, 0, 0, 0, 3, 3, 3, 3, 3, 3, 0, 3, 3, 0, 3, 3, 0, 0, 0, 3, 3, 3, 3, 0, 3, 3, 3, 3, 0, 3, 3, 3, 0, 3, 3, 0, 0, 0, 3, 3, 3, 3, 0, 3, 3, 3, 0, 3, 3, 3, 3, 3, 3, 0, 3, 3, 3, 3, 0, 3, 3, 3, 3, 1, 3, 3, 3, 3, 3, 3, 3, 3, 3, 3, 3, 0, 3, 0, 3, 3, 0, 1, 0, 0, 3, 3, 3, 3, 3, 3, 3, 3, 0, 3, 0, 3, 3, 3, 3, 3, 0, 0, 0, 0, 3, 3, 0, 3, 3, 3, 3, 3, 3, 3, 3, 3, 3, 3, 3, 0, 3, 0, 0, 0, 0, 0, 0, 3, 0, 0, 3, 3, 3, 3, 3, 3, 3, 3, 3, 3, 1, 0, 3, 3, 3, 0, 3, 0, 0, 3, 0, 0, 0, 3, 3, 0, 3, 3, 3, 1, 3, 0, 3, 0, 3, 3, 3, 3, 3, 0, 3, 3, 3, 3, 3, 3, 0, 3, 3, 0, 0, 0, 3, 0, 3, 3, 3, 3, 3, 3, 3, 3, 3, 3, 3, 3, 3, 3, 3, 0, 3, 3, 3, 3, 3, 3, 3, 3, 3, 3, 3, 3, 3, 3, 3, 3, 0, 0, 0, 3, 3, 3, 3, 3, 3, 3, 3, 3, 3, 3, 3, 3, 3, 3, 3, 3, 0, 0, 3, 3, 0, 0, 3, 3, 0, 3, 3, 3, 3, 3, 0, 3, 3, 0, 3, 3, 3, 3, 3, 3, 0, 3, 3, 1, 0, 1, 3, 3, 3, 3, 1, 3, 3, 0, 3, 3, 0, 0, 3, 3, 3, 3, 0, 3, 3, 3, 3, 3, 3, 3, 3, 3, 3, 3, 0, 3, 3, 3, 3, 3, 3, 1, 3, 0, 0, 1, 3, 0, 3, 3, 3, 3, 0, 0, 0, 0, 0, 0, 0, 0, 0, 0, 0, 0, 0, 0, 0, 0, 0, 0, 0, 0, 0, 0, 0, 0, 0, 0, 0, 0, 0, 0, 0, 0, 0, 0, 0, 0, 0, 0, 0, 0, 0, 0, 0, 0, 0, 0, 0, 0, 0, 0, 0, 0, 0, 0, 0, 0, 0, 0, 0, 0, 0, 0, 0, 0, 0, 0, 0, 0, 0, 0, 0, 0, 0, 0, 0, 0, 0, 0, 0, 0, 0, 0, 0, 0, 0, 0, 0, 0, 0, 0, 0, 0, 0, 0, 0, 0, 0, 0, 0, 0, 0, 0, 0, 0, 0, 0, 0, 0, 0, 0, 0, 0, 0, 0, 0, 0, 0, 0, 0, 0, 0, 0, 0, 0, 0, 0, 0, 0, 0, 0, 0, 0, 0, 0, 0, 0, 0, 0, 0, 0, 0, 0, 0, 0, 0, 0, 0, 0, 0, 0, 0, 0, 0, 0, 0, 0, 0, 0, 0, 0, 0, 0, 0, 0, 0, 0, 0, 0, 0, 0, 0, 0, 0, 0, 0, 0, 0, 0, 0, 0, 1, 1, 0, 0, 0, 0, 1, 1, 1, 1, 1, 0, 0, 0, 0, 1, 1, 3, 3, 1, 0, 0, 1, 1, 1, 1, 0, 1, 0, 0, 1, 1, 3, 0, 0, 1, 0, 0, 1, 0, 0, 1, 1, 1, 0, 1, 1, 1, 1, 0, 0, 1, 0, 1, 1, 1, 1, 1, 1, 1, 0, 0, 0, 0, 0, 0, 0, 1, 3, 0, 0, 1, 0, 1, 3, 0, 0, 0, 0, 1, 3, 3, 3, 0, 1, 1, 0, 1, 1, 1, 1, 0, 3, 1, 1, 1, 1, 1, 1, 3, 1, 3, 1, 1, 1, 1, 1, 1, 0, 1, 0, 0, 1, 0, 1, 1, 1, 0, 0, 1, 1, 1, 0, 1, 0, 1, 1, 0, 0, 1, 1, 1, 1, 1, 0, 0, 0, 1, 1, 0, 1, 1, 0, 1, 1, 1, 1, 0, 1, 0, 1, 0, 0, 0, 1, 3, 0, 1, 0, 1, 1, 1, 0, 1, 0, 0, 1, 1, 3, 3, 1, 1, 1, 0, 1, 0, 0, 0, 1, 0, 1, 3, 0, 0, 0, 1, 1, 1, 1, 0, 0, 1, 1, 1, 1, 1, 0, 1, 1, 3, 0, 0, 0, 3, 0, 1, 1, 1, 1, 0, 0, 1, 0, 0, 0, 1, 1, 1, 0, 1, 0, 1, 1, 0, 1, 0, 1, 1, 0, 0, 0, 1, 0, 1, 1, 0, 0, 1, 1, 1, 0, 0, 1, 1, 0, 1, 1, 1, 1, 1, 0, 0, 0, 0, 1, 1, 0, 1, 1, 1, 0, 0, 1, 1, 1, 1, 0, 0, 0, 1, 0, 1, 0, 0, 1, 1, 1, 0, 1, 1, 0, 1, 0, 1, 1, 1, 0, 1, 0, 1, 1, 0, 1, 0, 1, 3, 1, 0, 0, 1, 0, 0, 0, 0, 1, 1, 1, 1, 0, 0, 1, 0, 0, 0, 0, 1, 3, 0, 0, 0, 0, 1, 0, 1, 0, 1, 0, 1, 0, 1, 0, 0, 1, 1, 0, 0, 1, 1, 1, 0, 1, 0, 1, 3, 1, 0, 1, 1, 1, 0, 1, 1, 1, 1, 0, 0, 1, 1, 3, 1, 0, 1, 1, 0, 0, 0, 3, 1, 1, 1, 0, 0, 1, 0, 0, 0, 1, 0, 0, 0, 1, 1, 1, 0, 1, 0, 1, 1, 0, 0, 0, 1, 1, 1, 1, 0, 1, 1, 1, 1, 1, 0, 0, 0, 0, 0, 1, 1, 0, 0, 1, 1, 0, 0, 1, 0, 1, 1, 1, 1, 0, 1, 1, 1, 0, 1, 1, 1, 0, 0, 0, 0, 0, 0, 1, 1, 0, 1, 0, 0, 1, 0, 0, 1, 1, 1, 1, 0, 0, 0, 1, 0, 1, 1, 1, 1, 0, 1, 0, 1, 0, 1, 0, 0, 1, 0, 1, 1, 1, 1, 0, 1, 0, 0, 1, 1, 0, 1, 0, 1, 0, 1, 1, 1, 0, 1, 1, 0, 1, 0, 1, 1, 0, 0, 0, 1, 3, 3, 1, 0, 1, 1, 0, 0, 0, 0, 0, 0, 1, 0, 1, 0, 1, 3, 1, 1, 0, 1, 1, 0, 3, 1, 1, 0, 0, 1, 0, 1, 1, 0, 1, 1, 0, 0, 0, 0, 1, 0, 1, 1, 0, 0, 1, 0, 0, 0, 1, 0, 1, 0, 0, 1, 3, 1, 1, 1, 0, 0, 1, 1, 0, 1, 1, 1, 1, 0, 1, 1, 1, 0, 0, 0, 1, 1, 1, 0, 0, 1, 0, 0, 0, 0, 0, 1, 3, 0, 0, 1, 0, 1, 1, 0, 0, 1, 1, 1, 1, 1, 0, 0, 0, 0, 1, 1, 1, 1, 0, 0, 1, 1, 1, 1, 0, 1, 1, 0, 1, 0, 0, 1, 1, 0, 0, 1, 1, 0, 0, 0, 1, 1, 3, 0, 1, 1, 0, 0, 1, 1, 0, 1, 1, 0, 1, 0, 1, 0, 0, 1, 0, 1, 1, 1, 1, 3, 1, 1, 1, 0, 0, 1, 0, 0, 1, 1, 0, 0, 1, 1, 0, 0, 1, 0, 0, 0, 1, 1, 1, 1, 1, 1, 1, 0, 1, 1, 1, 1, 1, 0, 0, 0, 0, 0, 0, 1, 1, 1, 1, 0, 1, 1, 1, 1, 1, 1, 0, 0, 0, 1, 0, 1, 0, 1, 1, 0, 0, 1, 0, 0, 0, 1, 0, 3, 1, 0, 0, 0, 0, 1, 1, 1, 1, 1, 0, 0, 1, 0, 0, 1, 1, 1, 1, 1, 1, 0, 1, 1, 1, 1, 0, 1, 1, 3, 0, 1, 1, 1, 0, 0, 0, 0, 0, 0, 1, 0, 1, 1, 0, 1, 0, 0, 1, 1, 1, 0, 0, 1, 1, 0, 0, 1, 1, 0, 1, 0, 0, 0, 1, 0, 0, 0, 1, 0, 0, 1, 1, 1, 0, 1, 1, 1, 0, 3, 1, 0, 1, 1, 0, 0, 0, 0, 1, 1, 0, 1, 0, 1, 0, 1, 1, 0, 1, 1, 1, 0, 0, 0, 1, 0, 1, 1, 0, 1, 0, 1, 0, 1, 0, 3, 1, 3, 0, 1, 0, 1, 3, 1, 0, 1, 1, 0, 3, 0, 1, 0, 0, 0, 1, 1, 1, 1, 1, 3, 1, 0, 0, 1, 1, 0, 0, 0, 0, 1, 0, 1, 1, 3, 0, 1, 1, 1, 0, 0, 1, 0, 0, 1, 0, 1, 1, 0, 0, 0, 1, 1, 1, 1, 1, 0, 0, 1, 1, 1, 0, 1, 0, 1, 1, 0, 1, 0, 1, 1, 1, 0, 1, 0, 1, 0, 0, 1, 1, 0, 1, 0, 0, 3, 1, 0, 1, 1, 0, 1, 0, 0, 1, 0, 0, 0, 0, 0, 1, 0, 0, 0, 1, 0, 1, 1, 1, 1, 0, 1, 0, 0, 0, 0, 0, 1, 1, 0, 1, 1, 0, 1, 0, 0, 1, 1, 1, 1, 1, 0, 3, 0, 1, 0, 0, 0, 1, 0, 0, 1, 1, 0, 0, 0, 0, 0, 1, 1, 1, 0, 3, 0, 1, 0, 1, 1, 0, 0, 0, 0, 0, 1, 1, 1, 0, 1, 1, 1, 1, 1, 1, 1, 1, 0, 1, 1, 1, 1, 1, 1, 1, 0, 1, 1, 1, 1, 1, 0, 0, 0, 1, 0, 0, 1, 0, 1, 1, 1, 1, 0, 1, 0, 1, 1, 1, 1, 0, 1, 1, 1, 1, 1, 1, 0, 1, 1, 1, 0, 0, 1, 3, 0, 0, 0, 0, 0, 1, 1, 0, 1, 1, 0, 1, 0, 0, 1, 1, 0, 1, 0, 1, 1, 1, 1, 1, 1, 1, 1, 0, 0, 1, 1, 1, 1, 1, 0, 0, 1, 0, 0, 1, 0, 1, 0, 1, 0, 1, 1, 1, 0, 0, 0, 1, 1, 0, 1, 0, 1, 3, 0, 0, 0, 1, 3, 0, 1, 0, 1, 1, 1, 1, 1, 1, 0, 1, 3, 0, 1, 1, 0, 1, 1, 1, 0, 1, 1, 1, 0, 0, 0, 1, 0, 1, 1, 0, 0, 0, 1, 0, 1, 3, 1, 0, 1, 0, 0, 1, 1, 1, 1, 0, 1, 1, 1, 1, 1, 1, 1, 3, 1, 0, 0, 0, 1, 0, 0, 0, 0, 1, 0, 1, 0, 1, 0, 1, 1, 0, 1, 1, 1, 1, 0, 1, 0, 0, 1, 0, 1, 3, 0, 0, 0, 1, 0, 0, 0, 1, 0, 1, 1, 0, 0, 1, 1, 0, 0, 1, 0, 0, 1, 0, 0, 0, 1, 1, 0, 1, 0, 1, 1, 0, 1, 1, 0, 0, 0, 1, 0, 0, 1, 3, 3, 1, 0, 0, 0, 1, 1, 0, 0, 1, 0, 0, 1, 3, 0, 0, 0, 0, 0, 0, 3, 0, 1, 1, 0, 0, 1, 3, 1, 1, 0, 1, 0, 0, 0, 1, 0, 0, 0, 1, 0, 0, 0, 3, 1, 1, 1, 0, 1, 1, 0, 0, 0, 0, 0, 1, 1, 1, 0, 1, 1, 1, 3, 1, 0, 3, 1, 0, 0, 1, 1, 0, 1, 1, 1, 1, 0, 1, 0, 0, 0, 0, 1, 0, 0, 0, 0, 1, 1, 0, 1, 3, 1, 0, 1, 0, 0, 1, 1, 0, 1, 0, 0, 1, 0, 1, 0, 0, 1, 0, 1, 1, 0, 1, 0, 1, 3, 1, 1, 0, 0, 1, 1, 1, 1, 1, 3, 1, 0, 1, 1, 3, 1, 0, 0, 0, 1, 0, 1, 0, 1, 1, 1, 0, 0, 1, 1, 1, 1, 0, 0, 0, 0, 1, 3, 1, 1, 1, 1, 1, 1, 0, 1, 1, 1, 0, 0, 1, 0, 1, 1, 1, 0, 0, 1, 1, 3, 1, 1, 1, 1, 1, 1, 0, 1, 3, 1, 0, 1, 1, 0, 1, 1, 1, 1, 0, 0, 0, 1, 1, 0, 0, 1, 0, 1, 0, 0, 1, 1, 0, 0, 1, 0, 1, 1, 0, 1, 1, 1, 1, 0, 1, 1, 0, 1, 1, 0, 0, 0, 1, 0, 0, 0, 0, 1, 0, 1, 1, 1, 0, 0, 1, 0, 0, 0, 1, 0, 1, 1, 1, 3, 0, 1, 0, 0, 0, 0, 1, 0, 1, 0, 1, 0, 0, 0, 1, 1, 1, 1, 0, 0, 1, 1, 1, 0, 0, 1, 0, 0, 1, 1, 1, 1, 0, 0, 1, 0, 1, 0, 0, 0, 0, 0, 0, 1, 0, 1, 1, 1, 1, 0, 0, 1, 0, 1, 1, 0, 1, 0, 1, 0, 3, 0, 0, 1, 1, 1, 0, 0, 3, 1, 1, 0, 0, 1, 0, 0, 0, 0, 1, 0, 0, 0, 1, 1, 1, 0, 1, 3, 3, 0, 1, 0, 1, 3, 1, 0, 0, 1, 0, 1, 0, 1, 0, 3, 0, 0, 1, 0, 1, 1, 0, 1, 1, 3, 1, 1, 1, 1, 1, 1, 1, 0, 0, 1, 0, 1, 1, 0, 0, 1, 0, 0, 0, 1, 1, 1, 0, 1, 1, 1, 0, 0, 0, 0, 1, 0, 0, 0, 1, 0, 1, 1, 1, 1, 1, 1, 0, 1, 1, 0, 1, 1, 1, 0, 0, 0, 1, 0, 0, 0, 1, 1, 0, 0, 0, 0, 1, 0, 0, 1, 3, 1, 1, 0, 0, 1, 1, 3, 0, 1, 0, 0, 0, 0, 1, 1, 1, 0, 0, 0, 1, 3, 1, 3, 1, 0, 1, 0, 0, 0, 1, 1, 0, 0, 1, 0, 0, 0, 1, 3, 1, 0, 1, 1, 1, 1, 3, 0, 1, 0, 0, 1, 0, 1, 1, 1, 0, 0, 1, 1, 0, 3, 1, 0, 1, 3, 1, 1, 1, 0, 1, 0, 1, 3, 0, 1, 1, 0, 1, 1, 1, 1, 1, 1, 0, 0, 0, 0, 1, 0, 1, 1, 3, 0, 1, 1, 0, 1, 0, 0, 1, 1, 3, 1, 3, 0, 0, 0, 1, 1, 0, 3, 1, 1, 0, 1, 0, 1, 0, 0, 1, 0, 1, 1, 0, 1, 0, 0, 1, 0, 0, 0, 1, 1, 1, 0, 0, 1, 1, 0, 3, 0, 1, 0, 0, 1, 1, 0, 1, 1, 0, 0, 0, 1, 1, 0, 1, 1, 3, 1, 1, 1, 1, 0, 1, 0, 0, 1, 1, 0, 0, 1, 1, 0, 0, 0, 1, 1, 0, 1, 0, 1, 3, 0, 1, 0, 0, 3, 1, 0, 0, 1, 0, 1, 0, 0, 0, 1, 0, 0, 0, 0, 1, 1, 1, 1, 1, 1, 1, 0, 1, 1, 3, 1, 0, 1, 1, 1, 0, 1, 1, 1, 0, 1, 1, 0, 1, 1, 0, 0, 0, 0, 3, 0, 1, 0, 0, 0, 1, 1, 0, 0, 1, 0, 1, 0, 0, 1, 0, 1, 0, 0, 1, 1, 0, 0, 0, 3, 0, 1, 1, 1, 1, 1, 0, 0, 0, 1, 0, 0, 1, 0, 0, 1, 1, 1, 1, 0, 1, 0, 0, 0, 1, 1, 1, 0, 0, 0, 1, 1, 0, 1, 1, 0, 1, 1, 1, 1, 0, 0, 0, 1, 0, 0, 3, 0, 1, 0, 0, 1, 1, 0, 0, 1, 1, 1], \"x0\": \" \", \"xaxis\": \"x\", \"y\": [19.0, 23.0, 20.0, 19.0, 21.0, 27.0, 59.0, 20.0, 22.0, 22.0, 22.0, 21.0, 76.0, 20.0, 20.0, 20.0, 20.0, 18.0, 49.0, 22.0, 21.0, 21.0, 22.0, 22.0, 22.0, 22.0, 21.0, 22.0, 22.0, 21.0, 22.0, 22.0, 22.0, 22.0, 22.0, 22.0, 21.0, 21.0, 21.0, 22.0, 21.0, 21.0, 21.0, 20.0, 20.0, 21.0, 21.0, 21.0, 22.0, 20.0, 20.0, 20.0, 20.0, 20.0, 22.0, 65.0, 25.0, 26.0, 24.0, 21.0, 22.0, 21.0, 22.0, 21.0, 22.0, 21.0, 21.0, 22.0, 21.0, 22.0, 21.0, 22.0, 24.0, 22.0, 22.0, 22.0, 22.0, 22.0, 22.0, 22.0, 22.0, 22.0, 22.0, 22.0, 22.0, 22.0, 24.0, 22.0, 22.0, 22.0, 22.0, 22.0, 22.0, 22.0, 22.0, 22.0, 22.0, 20.0, 22.0, 21.0, 21.0, 22.0, 27.0, 21.0, 21.0, 21.0, 22.0, 22.0, 21.0, 21.0, 21.0, 21.0, 22.0, 22.0, 21.0, 22.0, 22.0, 22.0, 22.0, 22.0, 22.0, 22.0, 20.0, 26.0, 26.0, 26.0, 26.0, 26.0, 26.0, 24.0, 23.0, 24.0, 23.0, 24.0, 24.0, 25.0, 25.0, 27.0, 26.0, 22.0, 40.0, 22.0, 24.0, 24.0, 23.0, 23.0, 24.0, 24.0, 24.0, 23.0, 24.0, 23.0, 23.0, 21.0, 21.0, 21.0, 21.0, 21.0, 21.0, 21.0, 21.0, 21.0, 21.0, 21.0, 22.0, 22.0, 22.0, 22.0, 22.0, 21.0, 22.0, 22.0, 22.0, 22.0, 22.0, 27.0, 64.0, 33.0, 21.0, 21.0, 21.0, 21.0, 21.0, 21.0, 21.0, 22.0, 21.0, 22.0, 21.0, 21.0, 22.0, 22.0, 22.0, 22.0, 21.0, 22.0, 22.0, 21.0, 22.0, 22.0, 21.0, 22.0, 22.0, 22.0, 22.0, 21.0, 22.0, 21.0, 22.0, 22.0, 21.0, 22.0, 21.0, 21.0, 21.0, 21.0, 22.0, 21.0, 21.0, 21.0, 26.0, 26.0, 86.0, 26.0, 26.0, 26.0, 26.0, 26.0, 24.0, 24.0, 26.0, 23.0, 26.0, 26.0, 26.0, 26.0, 26.0, 26.0, 26.0, 26.0, 26.0, 26.0, 26.0, 54.0, 25.0, 25.0, 25.0, 25.0, 25.0, 25.0, 25.0, 25.0, 25.0, 25.0, 25.0, 25.0, 25.0, 25.0, 25.0, 25.0, 25.0, 20.0, 24.0, 24.0, 24.0, 24.0, 23.0, 23.0, 24.0, 23.0, 23.0, 24.0, 24.0, 22.0, 22.0, 22.0, 22.0, 22.0, 21.0, 22.0, 21.0, 22.0, 21.0, 22.0, 22.0, 22.0, 22.0, 21.0, 22.0, 22.0, 37.0, 26.0, 26.0, 26.0, 26.0, 26.0, 26.0, 26.0, 26.0, 26.0, 27.0, 69.0, 26.0, 26.0, 26.0, 27.0, 26.0, 22.0, 21.0, 22.0, 22.0, 22.0, 21.0, 22.0, 22.0, 22.0, 22.0, 23.0, 24.0, 23.0, 24.0, 23.0, 23.0, 23.0, 23.0, 23.0, 23.0, 23.0, 23.0, 23.0, 23.0, 23.0, 27.0, 73.0, 29.0, 26.0, 26.0, 26.0, 26.0, 26.0, 26.0, 23.0, 24.0, 26.0, 26.0, 26.0, 26.0, 26.0, 26.0, 26.0, 22.0, 23.0, 29.0, 30.0, 23.0, 24.0, 22.0, 22.0, 22.0, 22.0, 22.0, 22.0, 22.0, 22.0, 22.0, 22.0, 22.0, 22.0, 21.0, 21.0, 21.0, 21.0, 22.0, 21.0, 22.0, 21.0, 21.0, 22.0, 22.0, 21.0, 21.0, 21.0, 22.0, 21.0, 22.0, 21.0, 21.0, 21.0, 21.0, 21.0, 22.0, 21.0, 21.0, 21.0, 21.0, 21.0, 22.0, 22.0, 22.0, 22.0, 21.0, 22.0, 22.0, 22.0, 26.0, 26.0, 26.0, 21.0, 26.0, 26.0, 26.0, 23.0, 23.0, 24.0, 24.0, 24.0, 24.0, 24.0, 24.0, 24.0, 26.0, 27.0, 26.0, 26.0, 26.0, 26.0, 26.0, 26.0, 26.0, 26.0, 26.0, 26.0, 26.0, 26.0, 26.0, 26.0, 26.0, 26.0, 26.0, 26.0, 30.0, 23.0, 22.0, 22.0, 22.0, 22.0, 22.0, 22.0, 22.0, 22.0, 22.0, 22.0, 22.0, 22.0, 22.0, 22.0, 22.0, 22.0, 22.0, 22.0, 22.0, 22.0, 22.0, 22.0, 22.0, 22.0, 22.0, 22.0, 25.0, 23.0, 66.0, 22.0, 22.0, 22.0, 23.0, 24.0, 26.0, 22.0, 24.0, 23.0, 23.0, 24.0, 24.0, 24.0, 24.0, 31.0, 63.0, 46.0, 26.0, 26.0, 26.0, 26.0, 25.0, 25.0, 25.0, 26.0, 26.0, 28.0, 24.0, 26.0, 26.0, 26.0, 26.0, 26.0, 26.0, 26.0, 26.0, 26.0, 26.0, 26.0, 25.0, 25.0, 25.0, 25.0, 25.0, 25.0, 25.0, 25.0, 25.0, 25.0, 22.0, 22.0, 22.0, 22.0, 22.0, 22.0, 22.0, 22.0, 22.0, 22.0, 22.0, 22.0, 22.0, 22.0, 22.0, 22.0, 22.0, 22.0, 22.0, 22.0, 22.0, 22.0, 22.0, 22.0, 22.0, 22.0, 22.0, 44.0, 25.0, 25.0, 30.0, 48.0, 66.0, 22.0, 21.0, 22.0, 22.0, 21.0, 21.0, 22.0, 22.0, 22.0, 22.0, 22.0, 22.0, 22.0, 27.0, 27.0, 27.0, 27.0, 30.0, 39.0, 23.0, 20.0, 20.0, 20.0, 20.0, 20.0, 20.0, 20.0, 20.0, 20.0, 20.0, 20.0, 20.0, 20.0, 20.0, 20.0, 20.0, 20.0, 20.0, 20.0, 20.0, 20.0, 20.0, 20.0, 20.0, 20.0, 20.0, 20.0, 20.0, 20.0, 74.0, 38.0, 28.0, 30.0, 30.0, 29.0, 30.0, 30.0, 29.0, 28.0, 29.0, 29.0, 30.0, 23.0, 21.0, 22.0, 21.0, 22.0, 26.0, 25.0, 25.0, 38.0, 26.0, 26.0, 26.0, 26.0, 39.0, 30.0, 22.0, 21.0, 21.0, 21.0, 22.0, 22.0, 21.0, 22.0, 21.0, 21.0, 21.0, 22.0, 22.0, 21.0, 22.0, 21.0, 22.0, 21.0, 22.0, 22.0, 22.0, 21.0, 22.0, 22.0, 22.0, 21.0, 22.0, 28.0, 60.0, 26.0, 27.0, 27.0, 27.0, 26.0, 27.0, 26.0, 27.0, 27.0, 26.0, 26.0, 26.0, 27.0, 27.0, 26.0, 26.0, 26.0, 27.0, 26.0, 27.0, 26.0, 27.0, 26.0, 26.0, 27.0, 26.0, 26.0, 26.0, 27.0, 26.0, 27.0, 26.0, 26.0, 26.0, 26.0, 26.0, 26.0, 28.0, 22.0, 22.0, 27.0, 27.0, 27.0, 27.0, 23.0, 27.0, 27.0, 27.0, 27.0, 27.0, 20.0, 28.0, 25.0, 25.0, 25.0, 25.0, 25.0, 25.0, 25.0, 25.0, 25.0, 25.0, 25.0, 25.0, 25.0, 25.0, 25.0, 40.0, 25.0, 21.0, 21.0, 22.0, 21.0, 21.0, 22.0, 22.0, 21.0, 22.0, 28.0, 28.0, 24.0, 23.0, 23.0, 23.0, 23.0, 24.0, 23.0, 23.0, 23.0, 23.0, 24.0, 24.0, 24.0, 23.0, 57.0, 22.0, 21.0, 21.0, 21.0, 67.0, 30.0, 26.0, 26.0, 26.0, 26.0, 26.0, 26.0, 26.0, 25.0, 37.0, 21.0, 22.0, 22.0, 22.0, 21.0, 22.0, 26.0, 26.0, 27.0, 20.0, 25.0, 30.0, 29.0, 27.0, 27.0, 27.0, 27.0, 49.0, 27.0, 27.0, 40.0, 27.0, 27.0, 27.0, 27.0, 27.0, 32.0, 24.0, 24.0, 23.0, 24.0, 23.0, 24.0, 24.0, 23.0, 23.0, 23.0, 24.0, 24.0, 23.0, 23.0, 23.0, 23.0, 24.0, 24.0, 24.0, 24.0, 23.0, 24.0, 24.0, 23.0, 23.0, 23.0, 23.0, 25.0, 25.0, 25.0, 25.0, 25.0, 25.0, 25.0, 25.0, 30.0, 29.0, 26.0, 27.0, 27.0, 27.0, 27.0, 27.0, 27.0, 21.0, 21.0, 21.0, 21.0, 21.0, 21.0, 21.0, 21.0, 21.0, 21.0, 21.0, 21.0, 21.0, 21.0, 21.0, 21.0, 21.0, 21.0, 25.0, 25.0, 25.0, 25.0, 30.0, 30.0, 29.0, 30.0, 30.0, 28.0, 25.0, 29.0, 28.0, 21.0, 21.0, 21.0, 21.0, 22.0, 21.0, 22.0, 22.0, 21.0, 25.0, 25.0, 25.0, 25.0, 25.0, 25.0, 28.0, 28.0, 29.0, 30.0, 29.0, 48.0, 28.0, 27.0, 22.0, 21.0, 22.0, 42.0, 27.0, 27.0, 28.0, 27.0, 27.0, 27.0, 28.0, 28.0, 28.0, 29.0, 26.0, 26.0, 45.0, 28.0, 27.0, 27.0, 27.0, 27.0, 27.0, 30.0, 28.0, 22.0, 28.0, 67.0, 29.0, 30.0, 29.0, 29.0, 43.0, 21.0, 21.0, 21.0, 21.0, 21.0, 21.0, 21.0, 21.0, 21.0, 21.0, 21.0, 21.0, 28.0, 38.0, 29.0, 21.0, 22.0, 22.0, 22.0, 21.0, 22.0, 22.0, 22.0, 22.0, 22.0, 21.0, 21.0, 22.0, 22.0, 21.0, 22.0, 22.0, 21.0, 21.0, 21.0, 22.0, 22.0, 22.0, 21.0, 21.0, 21.0, 21.0, 21.0, 21.0, 22.0, 21.0, 22.0, 22.0, 21.0, 21.0, 30.0, 30.0, 58.0, 26.0, 32.0, 33.0, 35.0, 33.0, 32.0, 28.0, 25.0, 22.0, 27.0, 26.0, 26.0, 26.0, 26.0, 27.0, 27.0, 26.0, 26.0, 26.0, 27.0, 27.0, 26.0, 26.0, 26.0, 26.0, 26.0, 27.0, 27.0, 27.0, 26.0, 26.0, 26.0, 26.0, 26.0, 26.0, 27.0, 26.0, 26.0, 26.0, 26.0, 27.0, 27.0, 27.0, 27.0, 27.0, 27.0, 27.0, 27.0, 27.0, 27.0, 27.0, 27.0, 29.0, 29.0, 27.0, 24.0, 23.0, 23.0, 24.0, 24.0, 24.0, 23.0, 23.0, 24.0, 23.0, 23.0, 23.0, 23.0, 24.0, 23.0, 23.0, 24.0, 23.0, 23.0, 24.0, 24.0, 24.0, 23.0, 23.0, 23.0, 23.0, 23.0, 24.0, 24.0, 22.0, 22.0, 21.0, 22.0, 22.0, 21.0, 21.0, 21.0, 21.0, 22.0, 21.0, 22.0, 26.0, 28.0, 30.0, 28.0, 28.0, 28.0, 29.0, 28.0, 30.0, 27.0, 25.0, 25.0, 22.0, 22.0, 22.0, 22.0, 22.0, 22.0, 22.0, 22.0, 22.0, 22.0, 22.0, 22.0, 22.0, 28.0, 29.0, 26.0, 29.0, 28.0, 23.0, 68.0, 23.0, 23.0, 23.0, 24.0, 24.0, 24.0, 24.0, 24.0, 24.0, 24.0, 24.0, 23.0, 23.0, 24.0, 23.0, 39.0, 27.0, 29.0, 25.0, 25.0, 25.0, 25.0, 25.0, 25.0, 25.0, 25.0, 26.0, 28.0, 28.0, 27.0, 27.0, 31.0, 30.0, 25.0, 25.0, 25.0, 25.0, 25.0, 25.0, 25.0, 25.0, 25.0, 25.0, 25.0, 25.0, 25.0, 25.0, 25.0, 25.0, 25.0, 25.0, 25.0, 25.0, 25.0, 25.0, 27.0, 27.0, 26.0, 26.0, 26.0, 26.0, 26.0, 27.0, 26.0, 26.0, 26.0, 26.0, 26.0, 27.0, 26.0, 29.0, 29.0, 30.0, 58.0, 22.0, 24.0, 26.0, 30.0, 29.0, 25.0, 29.0, 27.0, 27.0, 27.0, 27.0, 23.0, 23.0, 24.0, 24.0, 23.0, 23.0, 24.0, 23.0, 24.0, 24.0, 24.0, 24.0, 23.0, 23.0, 23.0, 23.0, 23.0, 23.0, 23.0, 24.0, 23.0, 22.0, 22.0, 22.0, 22.0, 22.0, 22.0, 22.0, 47.0, 23.0, 24.0, 24.0, 24.0, 24.0, 23.0, 23.0, 23.0, 23.0, 24.0, 23.0, 23.0, 23.0, 23.0, 23.0, 23.0, 24.0, 23.0, 24.0, 23.0, 24.0, 23.0, 23.0, 24.0, 23.0, 23.0, 24.0, 29.0, 30.0, 37.0, 37.0, 42.0, 37.0, 38.0, 37.0, 24.0, 25.0, 25.0, 25.0, 25.0, 25.0, 30.0, 27.0, 27.0, 27.0, 27.0, 27.0, 27.0, 27.0, 27.0, 25.0, 25.0, 26.0, 26.0, 26.0, 26.0, 26.0, 27.0, 26.0, 27.0, 26.0, 26.0, 27.0, 26.0, 26.0, 27.0, 27.0, 26.0, 27.0, 26.0, 26.0, 26.0, 26.0, 26.0, 26.0, 26.0, 26.0, 26.0, 27.0, 27.0, 26.0, 30.0, 28.0, 31.0, 28.0, 29.0, 28.0, 25.0, 25.0, 25.0, 25.0, 25.0, 25.0, 25.0, 25.0, 30.0, 29.0, 45.0, 49.0, 47.0, 67.0, 53.0, 27.0, 26.0, 64.0, 29.0, 72.0, 23.0, 24.0, 24.0, 24.0, 24.0, 23.0, 23.0, 24.0, 23.0, 24.0, 24.0, 23.0, 24.0, 24.0, 23.0, 24.0, 23.0, 23.0, 23.0, 23.0, 24.0, 23.0, 24.0, 24.0, 23.0, 23.0, 24.0, 24.0, 23.0, 23.0, 23.0, 23.0, 24.0, 23.0, 23.0, 26.0, 28.0, 28.0, 28.0, 28.0, 28.0, 28.0, 28.0, 27.0, 27.0, 27.0, 45.0, 49.0, 59.0, 37.0, 25.0, 23.0, 24.0, 24.0, 23.0, 23.0, 23.0, 23.0, 23.0, 24.0, 23.0, 23.0, 23.0, 23.0, 24.0, 24.0, 24.0, 23.0, 24.0, 27.0, 22.0, 22.0, 22.0, 22.0, 22.0, 28.0, 25.0, 27.0, 30.0, 26.0, 27.0, 25.0, 25.0, 25.0, 25.0, 25.0, 25.0, 25.0, 22.0, 49.0, 44.0, 71.0, 26.0, 26.0, 26.0, 26.0, 26.0, 27.0, 26.0, 27.0, 27.0, 30.0, 29.0, 30.0, 36.0, 39.0, 40.0, 37.0, 28.0, 27.0, 26.0, 27.0, 26.0, 27.0, 26.0, 27.0, 27.0, 27.0, 27.0, 28.0, 28.0, 85.0, 57.0, 25.0, 25.0, 25.0, 25.0, 25.0, 25.0, 25.0, 24.0, 36.0, 29.0, 33.0, 29.0, 30.0, 26.0, 53.0, 60.0, 51.0, 57.0, 30.0, 29.0, 29.0, 29.0, 27.0, 27.0, 23.0, 24.0, 24.0, 23.0, 24.0, 24.0, 24.0, 23.0, 23.0, 23.0, 23.0, 23.0, 23.0, 24.0, 23.0, 24.0, 23.0, 23.0, 23.0, 27.0, 27.0, 27.0, 27.0, 27.0, 27.0, 27.0, 27.0, 27.0, 27.0, 22.0, 21.0, 22.0, 21.0, 21.0, 21.0, 30.0, 29.0, 29.0, 29.0, 36.0, 56.0, 37.0, 30.0, 53.0, 28.0, 26.0, 60.0, 42.0, 43.0, 42.0, 24.0, 24.0, 23.0, 23.0, 23.0, 23.0, 23.0, 24.0, 24.0, 23.0, 23.0, 23.0, 23.0, 24.0, 23.0, 24.0, 23.0, 23.0, 23.0, 24.0, 23.0, 23.0, 23.0, 23.0, 23.0, 24.0, 24.0, 28.0, 41.0, 25.0, 39.0, 28.0, 29.0, 30.0, 30.0, 51.0, 30.0, 25.0, 25.0, 25.0, 25.0, 29.0, 30.0, 28.0, 26.0, 26.0, 26.0, 29.0, 38.0, 28.0, 55.0, 28.0, 24.0, 23.0, 23.0, 24.0, 24.0, 25.0, 25.0, 25.0, 25.0, 54.0, 35.0, 27.0, 27.0, 21.0, 21.0, 21.0, 24.0, 49.0, 28.0, 28.0, 55.0, 22.0, 23.0, 23.0, 24.0, 23.0, 24.0, 23.0, 24.0, 24.0, 24.0, 24.0, 23.0, 23.0, 24.0, 24.0, 24.0, 23.0, 23.0, 23.0, 27.0, 27.0, 41.0, 29.0, 30.0, 30.0, 30.0, 39.0, 25.0, 25.0, 25.0, 25.0, 25.0, 25.0, 25.0, 25.0, 25.0, 25.0, 25.0, 25.0, 25.0, 25.0, 25.0, 25.0, 25.0, 25.0, 26.0, 26.0, 27.0, 27.0, 27.0, 26.0, 26.0, 26.0, 26.0, 26.0, 26.0, 27.0, 26.0, 26.0, 26.0, 26.0, 60.0, 55.0, 30.0, 38.0, 27.0, 26.0, 22.0, 22.0, 22.0, 65.0, 28.0, 23.0, 42.0, 25.0, 26.0, 27.0, 25.0, 25.0, 25.0, 43.0, 28.0, 28.0, 28.0, 28.0, 28.0, 28.0, 28.0, 28.0, 28.0, 28.0, 28.0, 39.0, 43.0, 36.0, 42.0, 38.0, 37.0, 38.0, 29.0, 35.0, 35.0, 26.0, 29.0, 25.0, 25.0, 25.0, 25.0, 25.0, 25.0, 25.0, 25.0, 28.0, 28.0, 23.0, 23.0, 21.0, 54.0, 30.0, 28.0, 31.0, 26.0, 27.0, 29.0, 54.0, 45.0, 29.0, 24.0, 23.0, 23.0, 23.0, 28.0, 25.0, 21.0, 29.0, 30.0, 30.0, 47.0, 37.0, 39.0, 39.0, 41.0, 38.0, 43.0, 31.0, 35.0, 30.0, 30.0, 44.0, 43.0, 36.0, 29.0, 27.0, 27.0, 27.0, 27.0, 71.0, 42.0, 36.0, 27.0, 29.0, 73.0, 25.0, 25.0, 25.0, 25.0, 25.0, 25.0, 25.0, 25.0, 25.0, 25.0, 25.0, 25.0, 25.0, 29.0, 31.0, 31.0, 22.0, 22.0, 22.0, 22.0, 22.0, 22.0, 22.0, 22.0, 22.0, 22.0, 22.0, 22.0, 30.0, 31.0, 32.0, 72.0, 52.0, 46.0, 25.0, 43.0, 29.0, 30.0, 22.0, 22.0, 22.0, 22.0, 22.0, 21.0, 22.0, 22.0, 21.0, 21.0, 33.0, 35.0, 29.0, 29.0, 30.0, 29.0, 29.0, 37.0, 39.0, 39.0, 43.0, 42.0, 35.0, 38.0, 66.0, 31.0, 31.0, 24.0, 44.0, 53.0, 30.0, 23.0, 24.0, 21.0, 32.0, 28.0, 29.0, 29.0, 28.0, 30.0, 28.0, 28.0, 38.0, 25.0, 25.0, 25.0, 25.0, 25.0, 25.0, 25.0, 25.0, 25.0, 25.0, 25.0, 25.0, 25.0, 25.0, 29.0, 29.0, 26.0, 26.0, 26.0, 27.0, 26.0, 27.0, 27.0, 26.0, 26.0, 27.0, 26.0, 26.0, 27.0, 26.0, 54.0, 29.0, 22.0, 22.0, 22.0, 27.0, 40.0, 40.0, 39.0, 22.0, 22.0, 49.0, 27.0, 30.0, 28.0, 28.0, 22.0, 22.0, 22.0, 21.0, 22.0, 22.0, 26.0, 26.0, 26.0, 22.0, 60.0, 51.0, 23.0, 23.0, 23.0, 24.0, 24.0, 24.0, 23.0, 23.0, 23.0, 28.0, 29.0, 29.0, 47.0, 31.0, 29.0, 42.0, 37.0, 42.0, 29.0, 21.0, 22.0, 22.0, 22.0, 22.0, 22.0, 22.0, 25.0, 30.0, 30.0, 30.0, 37.0, 36.0, 37.0, 27.0, 24.0, 23.0, 28.0, 22.0, 22.0, 22.0, 22.0, 22.0, 25.0, 40.0, 38.0, 40.0, 29.0, 26.0, 38.0, 31.0, 34.0, 26.0, 26.0, 26.0, 26.0, 26.0, 45.0, 61.0, 28.0, 41.0, 32.0, 30.0, 30.0, 30.0, 26.0, 27.0, 27.0, 77.0, 52.0, 35.0, 27.0, 26.0, 28.0, 38.0, 31.0, 24.0, 49.0, 23.0, 21.0, 22.0, 22.0, 22.0, 45.0, 57.0, 33.0, 28.0, 28.0, 26.0, 26.0, 26.0, 27.0, 26.0, 38.0, 55.0, 53.0, 22.0, 22.0, 21.0, 21.0, 21.0, 31.0, 32.0, 35.0, 24.0, 33.0, 30.0, 35.0, 29.0, 25.0, 32.0, 28.0, 24.0, 27.0, 23.0, 25.0, 33.0, 23.0, 26.0, 28.0, 33.0, 23.0, 27.0, 32.0, 33.0, 26.0, 31.0, 33.0, 36.0, 36.0, 33.0, 35.0, 24.0, 24.0, 26.0, 28.0, 23.0, 31.0, 25.0, 23.0, 30.0, 27.0, 27.0, 24.0, 26.0, 25.0, 33.0, 26.0, 23.0, 24.0, 26.0, 24.0, 29.0, 24.0, 25.0, 23.0, 23.0, 29.0, 23.0, 28.0, 26.0, 26.0, 25.0, 25.0, 23.0, 23.0, 26.0, 24.0, 27.0, 23.0, 23.0, 26.0, 23.0, 23.0, 24.0, 25.0, 24.0, 24.0, 29.0, 24.0, 24.0, 24.0, 23.0, 24.0, 24.0, 23.0, 25.0, 26.0, 23.0, 25.0, 24.0, 24.0, 24.0, 24.0, 28.0, 23.0, 25.0, 23.0, 27.0, 25.0, 23.0, 34.0, 24.0, 23.0, 28.0, 24.0, 25.0, 33.0, 24.0, 34.0, 23.0, 23.0, 23.0, 26.0, 24.0, 26.0, 24.0, 24.0, 32.0, 24.0, 24.0, 24.0, 23.0, 23.0, 23.0, 23.0, 24.0, 24.0, 26.0, 27.0, 24.0, 24.0, 26.0, 24.0, 24.0, 34.0, 33.0, 36.0, 26.0, 25.0, 25.0, 24.0, 24.0, 23.0, 23.0, 24.0, 29.0, 23.0, 24.0, 29.0, 24.0, 24.0, 24.0, 24.0, 23.0, 24.0, 24.0, 24.0, 30.0, 25.0, 25.0, 23.0, 24.0, 25.0, 23.0, 31.0, 23.0, 23.0, 24.0, 25.0, 23.0, 24.0, 25.0, 25.0, 24.0, 25.0, 24.0, 24.0, 24.0, 23.0, 23.0, 24.0, 25.0, 29.0, 24.0, 23.0, 23.0, 24.0, 23.0, 24.0, 24.0, 26.0, 23.0, 24.0, 28.0, 27.0, 31.0, 24.0, 24.0, 24.0, 24.0, 24.0, 27.0, 24.0, 23.0, 27.0, 25.0, 24.0, 24.0, 26.0, 27.0, 28.0, 24.0, 23.0, 23.0, 24.0, 26.0, 24.0, 24.0, 23.0, 31.0, 25.0, 24.0, 30.0, 26.0, 30.0, 23.0, 24.0, 26.0, 24.0, 26.0, 28.0, 24.0, 23.0, 29.0, 26.0, 24.0, 24.0, 24.0, 24.0, 25.0, 23.0, 23.0, 23.0, 24.0, 23.0, 24.0, 26.0, 27.0, 30.0, 23.0, 23.0, 30.0, 23.0, 27.0, 23.0, 29.0, 23.0, 23.0, 24.0, 36.0, 28.0, 24.0, 34.0, 25.0, 25.0, 24.0, 23.0, 23.0, 25.0, 25.0, 24.0, 23.0, 25.0, 24.0, 29.0, 27.0, 23.0, 24.0, 23.0, 24.0, 28.0, 25.0, 27.0, 23.0, 23.0, 30.0, 25.0, 25.0, 23.0, 32.0, 26.0, 25.0, 24.0, 31.0, 25.0, 24.0, 25.0, 24.0, 24.0, 33.0, 24.0, 26.0, 27.0, 27.0, 26.0, 24.0, 29.0, 24.0, 33.0, 26.0, 23.0, 25.0, 27.0, 23.0, 23.0, 23.0, 23.0, 23.0, 23.0, 24.0, 23.0, 23.0, 24.0, 23.0, 32.0, 24.0, 23.0, 27.0, 28.0, 24.0, 23.0, 26.0, 25.0, 23.0, 26.0, 23.0, 29.0, 24.0, 25.0, 28.0, 24.0, 26.0, 29.0, 24.0, 24.0, 28.0, 25.0, 24.0, 29.0, 23.0, 24.0, 33.0, 31.0, 29.0, 25.0, 23.0, 32.0, 23.0, 25.0, 30.0, 24.0, 23.0, 23.0, 25.0, 27.0, 23.0, 24.0, 28.0, 24.0, 27.0, 23.0, 23.0, 26.0, 24.0, 23.0, 25.0, 23.0, 24.0, 24.0, 26.0, 24.0, 24.0, 24.0, 23.0, 23.0, 24.0, 23.0, 24.0, 25.0, 25.0, 28.0, 24.0, 24.0, 25.0, 24.0, 26.0, 28.0, 24.0, 23.0, 26.0, 24.0, 24.0, 23.0, 24.0, 23.0, 24.0, 24.0, 24.0, 24.0, 24.0, 24.0, 24.0, 24.0, 24.0, 35.0, 24.0, 24.0, 29.0, 23.0, 33.0, 23.0, 24.0, 26.0, 24.0, 36.0, 24.0, 23.0, 28.0, 26.0, 28.0, 31.0, 29.0, 23.0, 24.0, 23.0, 25.0, 24.0, 32.0, 25.0, 25.0, 24.0, 36.0, 23.0, 27.0, 24.0, 28.0, 23.0, 25.0, 24.0, 24.0, 25.0, 23.0, 24.0, 24.0, 23.0, 26.0, 24.0, 30.0, 35.0, 24.0, 24.0, 24.0, 23.0, 26.0, 23.0, 26.0, 23.0, 24.0, 26.0, 25.0, 24.0, 28.0, 27.0, 23.0, 23.0, 24.0, 29.0, 24.0, 23.0, 24.0, 28.0, 23.0, 23.0, 31.0, 24.0, 24.0, 25.0, 31.0, 25.0, 23.0, 24.0, 24.0, 27.0, 23.0, 24.0, 24.0, 24.0, 27.0, 27.0, 23.0, 23.0, 24.0, 31.0, 33.0, 24.0, 24.0, 23.0, 28.0, 23.0, 23.0, 24.0, 24.0, 23.0, 25.0, 24.0, 23.0, 24.0, 24.0, 24.0, 24.0, 23.0, 24.0, 24.0, 23.0, 26.0, 27.0, 27.0, 24.0, 24.0, 26.0, 27.0, 24.0, 23.0, 24.0, 23.0, 24.0, 23.0, 25.0, 25.0, 24.0, 25.0, 23.0, 23.0, 26.0, 32.0, 24.0, 34.0, 24.0, 26.0, 28.0, 26.0, 32.0, 23.0, 24.0, 23.0, 23.0, 27.0, 25.0, 24.0, 25.0, 27.0, 28.0, 26.0, 23.0, 24.0, 24.0, 27.0, 26.0, 28.0, 23.0, 28.0, 23.0, 25.0, 23.0, 28.0, 23.0, 24.0, 24.0, 23.0, 30.0, 25.0, 23.0, 25.0, 27.0, 25.0, 28.0, 24.0, 28.0, 23.0, 24.0, 24.0, 28.0, 27.0, 30.0, 24.0, 25.0, 27.0, 29.0, 25.0, 23.0, 24.0, 24.0, 27.0, 34.0, 34.0, 24.0, 24.0, 24.0, 23.0, 28.0, 28.0, 35.0, 25.0, 24.0, 25.0, 24.0, 27.0, 33.0, 23.0, 28.0, 23.0, 28.0, 30.0, 36.0, 32.0, 27.0, 31.0, 23.0, 24.0, 24.0, 27.0, 23.0, 25.0, 23.0, 23.0, 23.0, 23.0, 23.0, 23.0, 24.0, 26.0, 24.0, 24.0, 24.0, 23.0, 23.0, 24.0, 24.0, 24.0, 24.0, 26.0, 25.0, 29.0, 23.0, 25.0, 24.0, 24.0, 24.0, 24.0, 28.0, 23.0, 23.0, 29.0, 28.0, 29.0, 23.0, 36.0, 28.0, 24.0, 31.0, 23.0, 27.0, 23.0, 27.0, 28.0, 31.0, 29.0, 24.0, 30.0, 23.0, 33.0, 23.0, 23.0, 27.0, 23.0, 23.0, 23.0, 25.0, 24.0, 24.0, 23.0, 23.0, 23.0, 23.0, 24.0, 23.0, 23.0, 23.0, 23.0, 24.0, 34.0, 26.0, 27.0, 24.0, 24.0, 26.0, 25.0, 24.0, 23.0, 24.0, 26.0, 23.0, 27.0, 25.0, 24.0, 24.0, 26.0, 32.0, 24.0, 24.0, 27.0, 23.0, 24.0, 24.0, 25.0, 24.0, 27.0, 26.0, 27.0, 23.0, 23.0, 24.0, 25.0, 24.0, 25.0, 28.0, 23.0, 23.0, 24.0, 32.0, 25.0, 25.0, 23.0, 27.0, 29.0, 28.0, 24.0, 32.0, 25.0, 27.0, 24.0, 29.0, 26.0, 24.0, 23.0, 24.0, 34.0, 24.0, 25.0, 24.0, 23.0, 24.0, 24.0, 29.0, 24.0, 25.0, 24.0, 24.0, 24.0, 25.0, 26.0, 24.0, 34.0, 23.0, 28.0, 25.0, 24.0, 26.0, 23.0, 33.0, 29.0, 23.0, 23.0, 23.0, 23.0, 23.0, 23.0, 27.0, 24.0, 27.0, 29.0, 24.0, 24.0, 24.0, 29.0, 23.0, 25.0, 24.0, 23.0, 23.0, 24.0, 23.0, 28.0, 24.0, 23.0, 24.0, 24.0, 24.0, 24.0, 25.0, 23.0, 24.0, 21.0, 24.0, 29.0, 24.0, 24.0, 24.0, 24.0, 24.0, 24.0, 24.0, 24.0, 24.0, 25.0, 24.0, 24.0, 24.0, 23.0, 23.0, 27.0, 23.0, 23.0, 23.0, 23.0, 24.0, 23.0, 24.0, 24.0, 24.0, 26.0, 24.0, 24.0, 25.0, 28.0, 24.0, 24.0, 24.0, 25.0, 24.0, 23.0, 24.0, 24.0, 23.0, 24.0, 23.0, 23.0, 24.0, 23.0, 23.0, 24.0, 23.0, 25.0, 24.0, 23.0, 24.0, 27.0, 31.0, 23.0, 26.0, 26.0, 23.0, 24.0, 24.0, 28.0, 27.0, 24.0, 24.0, 24.0, 23.0, 24.0, 27.0, 25.0, 24.0, 24.0, 24.0, 24.0, 24.0, 24.0, 24.0, 23.0, 23.0, 29.0, 29.0, 27.0, 23.0, 27.0, 25.0, 25.0, 23.0, 24.0, 23.0, 24.0, 25.0, 23.0, 24.0, 26.0, 23.0, 31.0, 27.0, 25.0, 24.0, 24.0, 23.0, 23.0, 23.0, 24.0, 23.0, 28.0, 28.0, 25.0, 28.0, 25.0, 26.0, 25.0, 24.0, 24.0, 24.0, 24.0, 23.0, 23.0, 25.0, 24.0, 28.0, 27.0, 28.0, 25.0, 34.0, 26.0, 26.0, 35.0, 25.0, 24.0, 26.0, 28.0, 30.0, 23.0, 24.0, 24.0, 24.0, 24.0, 23.0, 24.0, 24.0, 24.0, 24.0, 24.0, 26.0, 26.0, 24.0, 24.0, 27.0, 24.0, 26.0, 24.0, 24.0, 29.0, 24.0, 23.0, 25.0, 24.0, 24.0, 24.0, 27.0, 23.0, 34.0, 26.0, 26.0, 24.0, 24.0, 24.0, 24.0, 24.0, 24.0, 26.0, 24.0, 24.0, 23.0, 26.0, 23.0, 24.0, 25.0, 25.0, 23.0, 27.0, 24.0, 24.0, 30.0, 23.0, 24.0, 27.0, 25.0, 24.0, 24.0, 24.0, 24.0, 26.0, 24.0, 24.0, 24.0, 24.0, 33.0, 24.0, 24.0, 24.0, 24.0, 25.0, 27.0, 23.0, 25.0, 28.0, 24.0, 28.0, 30.0, 24.0, 24.0, 23.0, 25.0, 25.0, 23.0, 24.0, 23.0, 24.0, 28.0, 27.0, 26.0, 23.0, 23.0, 32.0, 23.0, 31.0, 23.0, 25.0, 23.0, 26.0, 27.0, 23.0, 24.0, 24.0, 23.0, 23.0, 25.0, 24.0, 24.0, 24.0, 24.0, 31.0, 24.0, 24.0, 24.0, 27.0, 28.0, 26.0, 25.0, 26.0, 25.0, 24.0, 30.0, 27.0, 28.0, 30.0, 24.0, 24.0, 24.0, 23.0, 23.0, 24.0, 26.0, 24.0, 23.0, 24.0, 23.0, 25.0, 24.0, 24.0, 24.0, 23.0, 24.0, 23.0, 25.0, 24.0, 25.0, 26.0, 27.0, 24.0, 25.0, 24.0, 24.0, 26.0, 25.0, 25.0, 26.0, 27.0, 27.0, 31.0, 25.0, 25.0, 24.0, 24.0, 24.0, 23.0, 24.0, 23.0, 32.0, 23.0, 23.0, 24.0, 23.0, 23.0, 23.0, 29.0, 23.0, 23.0, 23.0, 23.0, 26.0, 24.0, 32.0, 23.0, 25.0, 23.0, 23.0, 32.0, 29.0, 30.0, 32.0, 24.0, 26.0, 24.0, 24.0, 23.0, 24.0, 24.0, 23.0, 32.0, 24.0, 28.0, 24.0, 24.0, 24.0, 24.0, 24.0, 24.0, 24.0, 24.0, 23.0, 23.0, 24.0, 26.0, 26.0, 24.0, 23.0, 24.0, 24.0, 26.0, 24.0, 34.0, 35.0, 24.0, 26.0, 24.0, 34.0, 24.0, 26.0, 30.0, 23.0, 26.0, 27.0, 24.0, 23.0, 30.0, 25.0, 24.0, 26.0, 25.0, 24.0, 24.0, 23.0, 23.0, 23.0, 23.0, 23.0, 24.0, 24.0, 26.0, 23.0, 24.0, 24.0, 24.0, 25.0, 24.0, 23.0, 24.0, 24.0, 24.0, 24.0, 28.0, 24.0, 23.0, 25.0, 24.0, 28.0, 27.0, 23.0, 24.0, 29.0, 24.0, 24.0, 24.0, 26.0, 23.0, 27.0, 24.0, 24.0, 25.0, 23.0, 23.0, 24.0, 23.0, 23.0, 23.0, 24.0, 24.0, 28.0, 33.0, 23.0, 24.0, 35.0, 24.0, 23.0, 26.0, 24.0, 23.0, 25.0, 23.0, 24.0, 24.0, 23.0, 23.0, 23.0, 25.0, 24.0, 24.0, 25.0, 24.0, 24.0, 24.0, 24.0, 24.0, 24.0, 24.0, 23.0, 32.0, 34.0, 25.0, 24.0, 29.0, 24.0, 24.0, 24.0, 24.0, 24.0, 24.0, 24.0, 25.0, 31.0, 26.0, 25.0, 24.0, 24.0, 25.0, 23.0, 25.0, 24.0, 30.0, 23.0, 24.0, 27.0, 23.0, 23.0, 32.0, 24.0, 25.0, 23.0, 24.0, 23.0, 23.0, 23.0, 23.0, 25.0, 24.0, 30.0, 23.0, 24.0, 25.0, 24.0, 24.0, 24.0, 25.0, 24.0, 23.0, 24.0, 24.0, 24.0, 23.0, 23.0, 24.0, 24.0, 23.0, 23.0, 24.0, 25.0, 24.0, 26.0, 24.0, 28.0, 24.0, 23.0, 23.0, 25.0, 24.0, 24.0, 24.0, 24.0, 28.0, 23.0, 24.0, 24.0, 23.0, 25.0, 24.0, 24.0, 24.0, 24.0, 31.0, 34.0, 24.0, 24.0, 23.0, 23.0, 23.0, 21.0, 24.0, 24.0, 27.0, 23.0, 24.0, 24.0, 23.0, 24.0, 23.0, 23.0, 24.0, 23.0, 23.0, 24.0, 24.0, 25.0, 24.0, 28.0, 26.0, 24.0, 26.0, 28.0, 29.0, 24.0, 24.0, 24.0, 24.0, 29.0, 24.0, 24.0, 28.0, 27.0, 23.0, 24.0, 26.0, 24.0, 24.0, 24.0, 24.0, 24.0, 31.0, 24.0, 24.0, 24.0, 23.0, 25.0, 24.0, 24.0, 30.0, 24.0, 27.0, 23.0, 23.0, 26.0, 31.0, 24.0, 24.0, 23.0, 25.0, 25.0, 24.0, 24.0, 27.0, 23.0, 23.0, 29.0, 23.0, 24.0, 27.0, 23.0, 26.0, 23.0, 23.0, 28.0, 23.0, 23.0, 23.0, 23.0, 23.0, 24.0, 27.0, 23.0, 23.0, 23.0, 27.0, 23.0, 24.0, 24.0, 23.0, 25.0, 23.0, 23.0, 23.0, 23.0, 24.0, 24.0, 23.0, 27.0, 28.0, 23.0, 23.0, 27.0, 24.0, 24.0, 23.0, 23.0, 23.0, 23.0, 24.0, 23.0, 25.0, 30.0, 23.0, 30.0, 24.0, 24.0, 23.0, 28.0, 24.0, 24.0, 29.0, 25.0, 33.0, 27.0, 23.0, 24.0, 27.0, 25.0, 24.0, 25.0, 24.0, 23.0, 24.0, 35.0, 24.0, 24.0, 24.0, 24.0, 24.0, 23.0, 23.0, 24.0, 28.0, 23.0, 30.0, 23.0, 24.0, 26.0, 24.0, 25.0, 27.0, 25.0, 24.0, 23.0, 23.0, 23.0, 23.0, 24.0, 31.0, 23.0, 23.0, 25.0, 34.0, 23.0, 23.0, 24.0, 24.0, 25.0, 24.0, 32.0, 23.0, 23.0, 23.0, 31.0, 23.0, 23.0, 25.0, 23.0, 24.0, 24.0, 26.0, 27.0, 32.0, 25.0, 24.0, 24.0, 23.0, 26.0, 23.0, 24.0, 26.0, 24.0, 25.0, 30.0, 24.0, 24.0, 24.0, 24.0, 29.0, 24.0, 25.0, 24.0, 23.0, 36.0, 24.0, 24.0, 24.0, 29.0, 25.0, 25.0, 25.0, 24.0, 29.0, 23.0, 25.0, 24.0, 25.0, 23.0, 24.0, 24.0, 30.0, 24.0, 30.0, 26.0, 24.0, 30.0, 24.0, 24.0, 23.0, 26.0, 23.0, 24.0, 23.0, 24.0, 24.0, 24.0, 30.0, 25.0, 26.0, 24.0, 24.0, 25.0, 28.0, 24.0, 23.0, 24.0, 24.0, 23.0, 29.0, 26.0, 24.0, 24.0, 25.0, 31.0, 24.0, 29.0, 23.0, 27.0, 26.0, 36.0, 24.0, 24.0, 24.0, 23.0, 24.0, 27.0, 24.0, 24.0, 25.0, 24.0, 25.0, 24.0, 24.0, 24.0, 24.0, 23.0, 24.0, 24.0, 28.0, 23.0, 24.0, 24.0, 26.0, 24.0, 24.0, 24.0, 25.0, 29.0, 23.0, 24.0, 26.0, 24.0, 23.0, 25.0, 23.0, 26.0, 27.0, 24.0, 26.0, 26.0, 24.0, 23.0, 24.0, 34.0, 23.0, 24.0, 25.0, 25.0, 24.0, 24.0, 25.0, 23.0, 24.0, 31.0, 25.0, 24.0, 25.0, 24.0, 24.0, 26.0, 24.0, 25.0, 30.0, 24.0, 24.0, 24.0, 24.0, 26.0, 24.0, 24.0, 24.0, 24.0, 23.0, 23.0, 24.0, 23.0, 23.0, 24.0, 23.0, 24.0, 25.0, 27.0, 23.0, 25.0, 30.0, 26.0, 24.0, 27.0, 23.0, 23.0, 24.0, 23.0, 24.0, 24.0, 23.0, 23.0, 28.0, 25.0, 23.0, 24.0, 24.0, 27.0, 24.0, 24.0, 23.0, 26.0, 23.0, 23.0, 24.0, 23.0, 25.0, 24.0, 24.0, 23.0, 23.0, 25.0, 30.0, 23.0, 29.0, 25.0, 23.0, 26.0, 24.0, 24.0, 24.0, 23.0, 23.0, 26.0, 24.0, 25.0, 24.0, 26.0, 31.0, 27.0, 24.0, 23.0, 24.0, 24.0, 25.0, 23.0, 24.0, 23.0, 24.0, 26.0, 24.0, 23.0, 25.0, 26.0, 23.0, 24.0, 24.0, 23.0, 25.0, 24.0, 24.0, 34.0, 24.0, 23.0, 23.0, 25.0, 24.0, 23.0, 24.0, 24.0, 24.0, 24.0, 24.0, 24.0, 24.0, 24.0, 26.0, 26.0, 28.0, 24.0, 24.0, 27.0, 25.0, 23.0, 30.0, 29.0, 26.0, 29.0, 24.0, 23.0, 23.0, 23.0, 24.0, 23.0, 24.0, 34.0, 24.0, 26.0, 25.0, 26.0, 25.0, 30.0, 29.0, 29.0, 29.0, 29.0, 25.0, 23.0, 24.0, 23.0, 23.0, 24.0, 25.0, 24.0, 23.0, 22.0, 22.0, 22.0, 22.0, 22.0, 23.0, 22.0, 26.0, 23.0, 22.0, 23.0, 23.0, 26.0, 25.0, 26.0, 23.0, 28.0, 29.0, 24.0, 23.0, 25.0, 27.0, 23.0, 23.0, 23.0, 22.0, 26.0, 22.0, 24.0, 35.0, 22.0, 23.0, 25.0, 22.0, 24.0, 22.0, 22.0, 25.0, 26.0, 30.0, 22.0, 24.0, 23.0, 23.0, 23.0, 22.0, 23.0, 24.0, 24.0, 28.0, 26.0, 23.0, 25.0, 24.0, 22.0, 23.0, 22.0, 26.0, 23.0, 24.0, 26.0, 26.0, 24.0, 22.0, 24.0, 23.0, 24.0, 24.0, 25.0, 22.0, 25.0, 22.0, 24.0, 34.0, 23.0, 23.0, 23.0, 33.0, 22.0, 22.0, 25.0, 25.0, 23.0, 24.0, 27.0, 22.0, 22.0, 22.0, 23.0, 23.0, 23.0, 23.0, 22.0, 23.0, 23.0, 27.0, 24.0, 25.0, 23.0, 26.0, 23.0, 23.0, 23.0, 28.0, 26.0, 26.0, 23.0, 24.0, 27.0, 23.0, 23.0, 22.0, 22.0, 23.0, 23.0, 22.0, 23.0, 25.0, 24.0, 24.0, 24.0, 29.0, 22.0, 22.0, 24.0, 26.0, 27.0, 22.0, 25.0, 23.0, 24.0, 23.0, 23.0, 27.0, 23.0, 23.0, 24.0, 22.0, 24.0, 23.0, 29.0, 22.0, 23.0, 23.0, 24.0, 22.0, 22.0, 22.0, 22.0, 28.0, 22.0, 24.0, 23.0, 23.0, 23.0, 23.0, 23.0, 22.0, 22.0, 24.0, 23.0, 22.0, 23.0, 28.0, 24.0, 24.0, 24.0, 27.0, 26.0, 28.0, 29.0, 27.0, 23.0, 23.0, 25.0, 23.0, 34.0, 23.0, 22.0, 26.0, 26.0, 35.0, 46.0, 54.0, 33.0, 67.0, 46.0, 34.0, 40.0, 56.0, 81.0, 35.0, 29.0, 70.0, 35.0, 64.0, 39.0, 38.0, 43.0, 32.0, 40.0, 40.0, 44.0, 28.0, 33.0, 68.0, 40.0, 43.0, 43.0, 32.0, 28.0, 37.0, 56.0, 37.0, 35.0, 30.0, 47.0, 43.0, 60.0, 62.0, 47.0, 27.0, 48.0, 38.0, 65.0, 27.0, 48.0, 26.0, 62.0, 28.0, 29.0, 63.0, 44.0, 34.0, 32.0, 33.0, 47.0, 32.0, 62.0, 54.0, 32.0, 51.0, 62.0, 33.0, 32.0, 40.0, 46.0, 61.0, 50.0, 26.0, 34.0, 28.0, 36.0, 28.0, 28.0, 49.0, 72.0, 39.0, 32.0, 29.0, 32.0, 30.0, 32.0, 32.0, 31.0, 73.0, 45.0, 33.0, 33.0, 29.0, 55.0, 39.0, 27.0, 38.0, 35.0, 45.0, 29.0, 49.0, 52.0, 53.0, 32.0, 35.0, 29.0, 28.0, 50.0, 30.0, 29.0, 54.0, 35.0, 32.0, 49.0, 44.0, 28.0, 34.0, 27.0, 34.0, 42.0, 53.0, 30.0, 36.0, 64.0, 46.0, 33.0, 39.0, 26.0, 71.0, 43.0, 32.0, 39.0, 29.0, 43.0, 33.0, 34.0, 67.0, 44.0, 46.0, 28.0, 34.0, 37.0, 35.0, 33.0, 44.0, 31.0, 34.0, 28.0, 36.0, 38.0, 43.0, 30.0, 82.0, 35.0, 45.0, 50.0, 51.0, 32.0, 40.0, 28.0, 47.0, 44.0, 33.0, 32.0, 30.0, 32.0, 26.0, 37.0, 34.0, 38.0, 40.0, 45.0, 36.0, 34.0, 51.0, 43.0, 54.0, 55.0, 33.0, 32.0, 50.0, 54.0, 40.0, 53.0, 40.0, 43.0, 28.0, 63.0, 38.0, 63.0, 29.0, 57.0, 28.0, 37.0, 47.0, 51.0, 55.0, 37.0, 28.0, 64.0, 44.0, 34.0, 37.0, 27.0, 45.0, 70.0, 32.0, 26.0, 37.0, 26.0, 32.0, 40.0, 82.0, 62.0, 50.0, 41.0, 50.0, 34.0, 45.0, 35.0, 29.0, 35.0, 36.0, 45.0, 32.0, 53.0, 34.0, 61.0, 36.0, 34.0, 33.0, 28.0, 64.0, 38.0, 41.0, 36.0, 61.0, 29.0, 35.0, 29.0, 32.0, 30.0, 45.0, 43.0, 33.0, 37.0, 38.0, 29.0, 41.0, 38.0, 45.0, 33.0, 35.0, 28.0, 30.0, 33.0, 34.0, 44.0, 77.0, 33.0, 49.0, 41.0, 57.0, 48.0, 30.0, 34.0, 41.0, 31.0, 41.0, 32.0, 34.0, 39.0, 26.0, 36.0, 39.0, 32.0, 50.0, 49.0, 68.0, 30.0, 38.0, 30.0, 27.0, 34.0, 39.0, 35.0, 40.0, 57.0, 37.0, 32.0, 47.0, 30.0, 49.0, 50.0, 28.0, 32.0, 31.0, 49.0, 42.0, 27.0, 27.0, 43.0, 57.0, 31.0, 35.0, 32.0, 36.0, 32.0, 35.0, 63.0, 34.0, 40.0, 27.0, 37.0, 33.0, 37.0, 33.0, 31.0, 29.0, 27.0, 54.0, 53.0, 29.0, 39.0, 42.0, 54.0, 33.0, 34.0, 28.0, 66.0, 29.0, 29.0, 31.0, 29.0, 31.0, 43.0, 43.0, 31.0, 46.0, 35.0, 36.0, 27.0, 46.0, 42.0, 34.0, 40.0, 39.0, 41.0, 50.0, 35.0, 64.0, 56.0, 31.0, 48.0, 28.0, 34.0, 45.0, 26.0, 28.0, 30.0, 31.0, 36.0, 48.0, 37.0, 38.0, 47.0, 27.0, 33.0, 63.0, 52.0, 31.0, 30.0, 42.0, 36.0, 47.0, 37.0, 57.0, 43.0, 28.0, 43.0, 43.0, 28.0, 28.0, 53.0, 51.0, 47.0, 56.0, 33.0, 31.0, 38.0, 45.0, 48.0, 46.0, 38.0, 45.0, 46.0, 62.0, 35.0, 42.0, 27.0, 42.0, 49.0, 34.0, 50.0, 39.0, 47.0, 44.0, 28.0, 43.0, 36.0, 37.0, 32.0, 27.0, 31.0, 54.0, 54.0, 42.0, 39.0, 31.0, 39.0, 43.0, 31.0, 27.0, 37.0, 39.0, 44.0, 39.0, 27.0, 36.0, 43.0, 41.0, 43.0, 44.0, 45.0, 82.0, 34.0, 50.0, 50.0, 33.0, 48.0, 36.0, 76.0, 31.0, 45.0, 34.0, 67.0, 34.0, 30.0, 28.0, 50.0, 30.0, 35.0, 35.0, 53.0, 79.0, 46.0, 55.0, 28.0, 37.0, 34.0, 44.0, 52.0, 44.0, 34.0, 32.0, 45.0, 40.0, 59.0, 33.0, 47.0, 29.0, 67.0, 30.0, 28.0, 54.0, 28.0, 56.0, 44.0, 45.0, 40.0, 63.0, 29.0, 28.0, 29.0, 31.0, 46.0, 32.0, 50.0, 65.0, 57.0, 45.0, 46.0, 37.0, 34.0, 45.0, 31.0, 39.0, 39.0, 41.0, 31.0, 31.0, 62.0, 37.0, 70.0, 39.0, 49.0, 39.0, 61.0, 32.0, 50.0, 52.0, 32.0, 31.0, 40.0, 28.0, 41.0, 63.0, 48.0, 40.0, 46.0, 46.0, 30.0, 39.0, 44.0, 85.0, 45.0, 26.0, 29.0, 70.0, 28.0, 30.0, 28.0, 39.0, 38.0, 58.0, 35.0, 30.0, 27.0, 39.0, 38.0, 49.0, 37.0, 61.0, 35.0, 51.0, 43.0, 31.0, 46.0, 29.0, 69.0, 65.0, 35.0, 33.0, 54.0, 53.0, 34.0, 36.0, 43.0, 35.0, 46.0, 46.0, 40.0, 50.0, 29.0, 36.0, 37.0, 59.0, 28.0, 34.0, 43.0, 36.0, 47.0, 36.0, 36.0, 32.0, 32.0, 86.0, 47.0, 44.0, 28.0, 28.0, 58.0, 26.0, 38.0, 41.0, 31.0, 31.0, 33.0, 27.0, 41.0, 37.0, 43.0, 30.0, 45.0, 40.0, 50.0, 36.0, 29.0, 74.0, 68.0, 53.0, 71.0, 40.0, 68.0, 37.0, 32.0, 36.0, 43.0, 45.0, 33.0, 29.0, 57.0, 50.0, 41.0, 46.0, 60.0, 32.0, 36.0, 54.0, 38.0, 32.0, 31.0, 37.0, 30.0, 40.0, 37.0, 55.0, 42.0, 47.0, 29.0, 44.0, 35.0, 26.0, 41.0, 45.0, 34.0, 40.0, 71.0, 44.0, 34.0, 27.0, 31.0, 33.0, 31.0, 29.0, 66.0, 59.0, 50.0, 33.0, 26.0, 39.0, 29.0, 26.0, 34.0, 46.0, 32.0, 69.0, 42.0, 42.0, 51.0, 42.0, 34.0, 32.0, 34.0, 30.0, 41.0, 49.0, 28.0, 54.0, 51.0, 35.0, 38.0, 30.0, 35.0, 56.0, 51.0, 54.0, 36.0, 44.0, 36.0, 44.0, 28.0, 43.0, 33.0, 34.0, 37.0, 33.0, 42.0, 39.0, 43.0, 47.0, 46.0, 26.0, 38.0, 28.0, 28.0, 34.0, 39.0, 34.0, 37.0, 41.0, 35.0, 30.0, 75.0, 35.0, 30.0, 28.0, 57.0, 54.0, 29.0, 26.0, 34.0, 36.0, 48.0, 31.0, 30.0, 31.0, 31.0, 53.0, 47.0, 36.0, 30.0, 34.0, 32.0, 41.0, 29.0, 31.0, 30.0, 38.0, 43.0, 30.0, 36.0, 62.0, 33.0, 37.0, 30.0, 35.0, 42.0, 51.0, 30.0, 40.0, 28.0, 39.0, 29.0, 34.0, 39.0, 49.0, 38.0, 49.0, 29.0, 29.0, 67.0, 27.0, 37.0, 56.0, 52.0, 35.0, 42.0, 44.0, 35.0, 31.0, 38.0, 32.0, 33.0, 30.0, 43.0, 42.0, 45.0, 42.0, 34.0, 27.0, 42.0, 48.0, 45.0, 48.0, 27.0, 53.0, 35.0, 40.0, 34.0, 41.0, 34.0, 69.0, 33.0, 61.0, 28.0, 28.0, 37.0, 40.0, 57.0, 49.0, 32.0, 56.0, 29.0, 32.0, 28.0, 28.0, 71.0, 40.0, 36.0, 44.0, 56.0, 32.0, 52.0, 34.0, 37.0, 28.0, 34.0, 27.0, 45.0, 30.0, 38.0, 38.0, 29.0, 30.0, 47.0, 36.0, 36.0, 64.0, 84.0, 46.0, 34.0, 70.0, 42.0, 29.0, 70.0, 75.0, 55.0, 57.0, 34.0, 39.0, 30.0, 27.0, 42.0, 34.0, 29.0, 35.0, 38.0, 49.0, 43.0, 33.0, 52.0, 43.0, 36.0, 70.0, 30.0, 44.0, 79.0, 29.0, 28.0, 49.0, 34.0, 45.0, 36.0, 29.0, 34.0, 28.0, 52.0, 29.0, 28.0, 44.0, 39.0, 64.0, 38.0, 40.0, 35.0, 48.0, 45.0, 59.0, 66.0, 28.0, 26.0, 49.0, 39.0, 36.0, 46.0, 32.0, 33.0, 42.0, 48.0, 26.0, 38.0, 30.0, 49.0, 59.0, 32.0, 44.0, 32.0, 40.0, 33.0, 73.0, 41.0, 28.0, 48.0, 55.0, 28.0, 55.0, 45.0, 26.0, 56.0, 42.0, 36.0, 32.0, 29.0, 42.0, 43.0, 37.0, 43.0, 40.0, 49.0, 51.0, 58.0, 26.0, 38.0, 68.0, 31.0, 30.0, 40.0, 44.0, 30.0, 35.0, 27.0, 43.0, 33.0, 38.0, 32.0, 37.0, 40.0, 30.0, 37.0, 40.0, 28.0, 36.0, 28.0, 40.0, 50.0, 27.0, 40.0, 37.0, 44.0, 47.0, 40.0, 29.0, 79.0, 43.0, 34.0, 33.0, 27.0, 26.0, 31.0, 52.0, 61.0, 30.0, 37.0, 63.0, 38.0, 37.0, 40.0, 29.0, 41.0, 56.0, 43.0, 40.0, 46.0, 46.0, 60.0, 34.0, 28.0, 33.0, 40.0, 35.0, 74.0, 35.0, 29.0, 42.0, 26.0, 28.0, 71.0, 42.0, 27.0, 28.0, 32.0, 72.0, 27.0, 73.0, 50.0, 35.0, 26.0, 49.0, 30.0, 66.0, 54.0, 39.0, 44.0, 30.0, 38.0, 28.0, 34.0, 49.0, 33.0, 45.0, 35.0, 32.0, 28.0, 50.0, 44.0, 56.0, 75.0, 36.0, 30.0, 33.0, 37.0, 55.0, 46.0, 35.0, 43.0, 56.0, 62.0, 39.0, 50.0, 49.0, 75.0, 52.0, 50.0, 38.0, 27.0, 58.0, 37.0, 47.0, 31.0, 30.0, 30.0, 42.0, 34.0, 34.0, 59.0, 32.0, 37.0, 40.0, 31.0, 33.0, 37.0, 33.0, 38.0, 30.0, 39.0, 36.0, 38.0, 54.0, 37.0, 28.0, 64.0, 32.0, 35.0, 33.0, 60.0, 38.0, 27.0, 43.0, 55.0, 35.0, 28.0, 32.0, 46.0, 35.0, 38.0, 30.0, 86.0, 46.0, 64.0, 27.0, 56.0, 48.0, 49.0, 76.0, 46.0, 38.0, 39.0, 60.0, 28.0, 35.0, 57.0, 56.0, 34.0, 46.0, 35.0, 31.0, 61.0, 31.0, 40.0, 34.0, 36.0, 75.0, 60.0, 32.0, 53.0, 29.0, 27.0, 39.0, 43.0, 37.0, 47.0, 50.0, 36.0, 30.0, 49.0, 36.0, 34.0, 30.0, 41.0, 52.0, 56.0, 35.0, 50.0, 47.0, 27.0, 34.0, 28.0, 52.0, 58.0, 37.0, 28.0, 30.0, 53.0, 44.0, 27.0, 56.0, 65.0, 38.0, 28.0, 41.0, 35.0, 45.0, 50.0, 33.0, 33.0, 39.0, 52.0, 32.0, 34.0, 29.0, 45.0, 39.0, 40.0, 43.0, 31.0, 51.0, 45.0, 28.0, 58.0, 30.0, 33.0, 31.0, 31.0, 35.0, 36.0, 32.0, 28.0, 53.0, 29.0, 35.0, 28.0, 33.0, 45.0, 36.0, 43.0, 37.0, 45.0, 29.0, 35.0, 39.0, 44.0, 53.0, 44.0, 30.0, 27.0, 50.0, 52.0, 34.0, 40.0, 67.0, 28.0, 52.0, 31.0, 43.0, 45.0, 39.0, 33.0, 41.0, 28.0, 34.0, 29.0, 29.0, 43.0, 29.0, 53.0, 36.0, 43.0, 48.0, 26.0, 26.0, 51.0, 35.0, 31.0, 27.0, 39.0, 41.0, 28.0, 49.0, 54.0, 51.0, 32.0, 46.0, 55.0, 32.0, 35.0, 30.0, 31.0, 42.0, 32.0, 35.0, 45.0, 41.0, 63.0, 40.0, 81.0, 33.0, 27.0, 41.0, 28.0, 33.0, 37.0, 39.0, 34.0, 39.0, 31.0, 82.0, 34.0, 30.0, 30.0, 53.0, 31.0, 47.0, 28.0, 45.0, 32.0, 45.0, 31.0, 47.0, 39.0, 45.0, 87.0, 27.0, 38.0, 38.0, 40.0, 28.0, 36.0, 29.0, 33.0, 51.0, 68.0, 28.0, 40.0, 50.0, 57.0, 43.0, 60.0, 47.0, 42.0, 67.0, 34.0, 52.0, 41.0, 36.0, 63.0, 34.0, 44.0, 42.0, 45.0, 27.0, 42.0, 29.0, 40.0, 54.0, 26.0, 39.0, 36.0, 51.0, 42.0, 35.0, 41.0, 37.0, 32.0, 48.0, 36.0, 38.0, 37.0, 38.0, 38.0, 48.0, 38.0, 82.0, 49.0, 50.0, 55.0, 73.0, 39.0, 34.0, 58.0, 31.0, 30.0, 47.0, 29.0, 52.0, 38.0, 78.0, 31.0, 36.0, 34.0, 73.0, 49.0, 26.0, 31.0, 41.0, 32.0, 37.0, 42.0, 34.0, 35.0, 48.0, 41.0, 28.0, 33.0, 44.0, 41.0, 37.0, 34.0, 40.0, 27.0, 35.0, 37.0, 40.0, 33.0, 30.0, 49.0, 32.0, 51.0, 46.0, 68.0, 43.0, 41.0, 30.0, 34.0, 39.0, 34.0, 54.0, 35.0, 39.0, 41.0, 40.0, 52.0, 50.0, 26.0, 26.0, 37.0, 52.0, 32.0, 38.0, 34.0, 38.0, 45.0, 45.0, 46.0, 42.0, 37.0, 57.0, 83.0, 41.0, 46.0, 48.0, 32.0, 61.0, 41.0, 37.0, 29.0, 46.0, 32.0, 35.0, 77.0, 29.0, 44.0, 46.0, 33.0, 42.0, 40.0, 51.0, 28.0, 51.0, 42.0, 30.0, 32.0, 40.0, 74.0, 39.0, 34.0, 39.0, 27.0, 28.0, 32.0, 32.0, 30.0, 45.0, 27.0, 28.0, 29.0, 30.0, 31.0, 38.0, 39.0, 38.0, 30.0, 44.0, 39.0, 54.0, 33.0, 34.0, 38.0, 46.0, 35.0, 42.0, 45.0, 30.0, 75.0, 42.0, 31.0, 52.0, 40.0, 56.0, 42.0, 34.0, 38.0, 46.0, 40.0, 34.0, 39.0, 31.0, 58.0, 55.0, 44.0, 30.0, 37.0, 38.0, 35.0, 42.0, 42.0, 43.0, 45.0, 42.0, 28.0, 32.0, 38.0, 39.0, 31.0, 57.0, 40.0, 47.0, 39.0, 42.0, 52.0, 26.0, 77.0, 37.0, 46.0, 36.0, 53.0, 41.0, 29.0, 33.0, 35.0, 31.0, 44.0, 32.0, 36.0, 30.0, 33.0, 39.0, 27.0, 58.0, 37.0, 54.0, 32.0, 40.0, 30.0, 31.0, 40.0, 26.0, 30.0, 30.0, 55.0, 60.0, 41.0, 30.0, 32.0, 35.0, 30.0, 46.0, 31.0, 62.0, 26.0, 48.0, 72.0, 35.0, 72.0, 39.0, 66.0, 36.0, 35.0, 70.0, 35.0, 48.0, 38.0, 32.0, 47.0, 30.0, 35.0, 49.0, 44.0, 53.0, 38.0, 26.0, 54.0, 39.0, 35.0, 28.0, 34.0, 29.0, 34.0, 30.0, 60.0, 31.0, 32.0, 40.0, 40.0, 40.0, 27.0, 33.0, 45.0, 53.0, 44.0, 83.0, 33.0, 28.0, 32.0, 54.0, 39.0, 29.0, 35.0, 34.0, 35.0, 29.0, 49.0, 42.0, 44.0, 45.0, 57.0, 44.0, 56.0, 34.0, 35.0, 51.0, 35.0, 32.0, 40.0, 52.0, 31.0, 36.0, 32.0, 49.0, 42.0, 43.0, 47.0, 43.0, 42.0, 31.0, 27.0, 54.0, 37.0, 31.0, 86.0, 31.0, 59.0, 36.0, 39.0, 34.0, 33.0, 39.0, 39.0, 37.0, 53.0, 41.0, 36.0, 51.0, 43.0, 43.0, 41.0, 35.0, 46.0, 67.0, 31.0, 42.0, 32.0, 28.0, 29.0, 31.0, 31.0, 35.0, 39.0, 45.0, 43.0, 33.0, 33.0, 28.0, 34.0, 27.0, 48.0, 55.0, 39.0, 29.0, 34.0, 67.0, 66.0, 62.0, 33.0, 39.0, 31.0, 27.0, 31.0, 30.0, 37.0, 45.0, 41.0, 30.0, 35.0, 46.0, 37.0, 41.0, 49.0, 54.0, 36.0, 51.0, 27.0, 38.0, 33.0, 56.0, 44.0, 30.0, 37.0, 39.0, 34.0, 38.0, 32.0, 30.0, 37.0, 48.0, 34.0, 33.0, 44.0, 27.0, 31.0, 62.0, 33.0, 30.0, 43.0, 29.0, 50.0, 28.0, 72.0, 56.0, 32.0, 43.0, 40.0, 37.0, 33.0, 32.0, 30.0, 34.0, 36.0, 29.0, 67.0, 33.0, 26.0, 45.0, 47.0, 30.0, 35.0, 43.0, 38.0, 40.0, 31.0, 29.0, 32.0, 37.0, 30.0, 40.0, 27.0, 42.0, 30.0, 61.0, 29.0, 28.0, 43.0, 41.0, 34.0, 53.0, 41.0, 32.0, 38.0, 57.0, 38.0, 47.0, 40.0, 28.0, 31.0, 32.0, 29.0, 39.0, 35.0, 39.0, 33.0, 42.0, 37.0, 32.0, 63.0, 36.0, 65.0, 32.0, 26.0, 48.0, 32.0, 37.0, 43.0, 35.0, 34.0, 54.0, 38.0, 56.0, 40.0, 46.0, 68.0, 53.0, 55.0, 54.0, 52.0, 32.0, 33.0, 40.0, 45.0, 59.0, 43.0, 81.0, 52.0, 31.0, 51.0, 26.0, 28.0, 32.0, 40.0, 32.0, 35.0, 38.0, 33.0, 50.0, 34.0, 33.0, 28.0, 36.0, 27.0, 62.0, 38.0, 31.0, 33.0, 33.0, 28.0, 86.0, 55.0, 45.0, 42.0, 55.0, 48.0, 37.0, 28.0, 27.0, 46.0, 29.0, 48.0, 29.0, 45.0, 35.0, 30.0, 29.0, 40.0, 29.0, 37.0, 40.0, 35.0, 44.0, 32.0, 31.0, 51.0, 32.0, 76.0, 27.0, 35.0, 28.0, 30.0, 38.0, 31.0, 30.0, 33.0, 41.0, 63.0, 31.0, 37.0, 35.0, 37.0, 34.0, 40.0, 35.0, 28.0, 32.0, 52.0, 38.0, 33.0, 55.0, 46.0, 36.0, 41.0, 46.0, 27.0, 39.0, 48.0, 32.0, 45.0, 27.0, 45.0, 27.0, 57.0, 37.0, 40.0, 31.0, 29.0, 58.0, 46.0, 36.0, 32.0, 44.0, 27.0, 32.0, 30.0, 50.0, 48.0, 34.0, 68.0, 69.0, 38.0, 26.0, 27.0, 26.0, 39.0, 35.0, 37.0, 32.0, 36.0, 39.0, 30.0, 41.0, 51.0, 33.0, 28.0, 36.0, 50.0, 30.0, 32.0, 35.0, 32.0, 32.0, 46.0, 31.0, 42.0, 35.0, 35.0, 42.0, 35.0, 33.0, 69.0, 46.0, 41.0, 34.0, 28.0, 43.0, 40.0, 42.0, 30.0, 43.0, 34.0, 28.0, 53.0, 29.0, 31.0, 29.0, 29.0, 38.0, 32.0, 51.0, 58.0, 37.0, 35.0, 40.0, 28.0, 44.0, 54.0, 55.0, 41.0, 32.0, 46.0, 28.0, 36.0, 32.0, 37.0, 35.0, 37.0, 38.0, 32.0, 36.0, 39.0, 44.0, 33.0, 53.0, 73.0, 49.0, 28.0, 41.0, 52.0, 39.0, 40.0, 32.0, 38.0, 35.0, 47.0, 38.0, 35.0, 41.0, 32.0, 43.0, 71.0, 40.0, 37.0, 28.0, 40.0, 43.0, 31.0, 60.0, 33.0, 61.0, 42.0, 28.0, 40.0, 41.0, 80.0, 43.0, 50.0, 37.0, 32.0, 49.0, 39.0, 36.0, 34.0, 70.0, 44.0, 48.0, 28.0, 58.0, 72.0, 30.0, 40.0, 31.0, 32.0, 29.0, 34.0, 63.0, 57.0, 38.0, 39.0, 37.0, 46.0, 31.0, 34.0, 34.0, 75.0, 28.0, 32.0, 23.0, 23.0, 23.0, 23.0, 23.0, 23.0, 23.0, 23.0, 23.0, 23.0, 23.0, 23.0, 30.0, 33.0, 35.0, 29.0, 33.0, 29.0, 35.0, 31.0, 31.0, 36.0, 30.0, 32.0, 36.0, 27.0, 28.0, 35.0, 27.0, 34.0, 31.0, 32.0, 24.0, 31.0, 30.0, 25.0, 28.0, 32.0, 33.0, 28.0, 34.0, 29.0, 24.0, 25.0, 27.0, 32.0, 29.0, 29.0, 35.0, 34.0, 28.0, 32.0, 33.0, 27.0, 34.0, 33.0, 36.0, 31.0, 26.0, 29.0, 27.0, 31.0, 32.0, 24.0, 28.0, 29.0, 29.0, 33.0, 34.0, 33.0, 32.0, 32.0, 30.0, 27.0, 28.0, 29.0, 31.0, 35.0, 29.0, 28.0, 27.0, 31.0, 27.0, 33.0, 30.0, 26.0, 35.0, 27.0, 33.0, 24.0, 29.0, 34.0, 36.0, 33.0, 34.0, 34.0, 34.0, 25.0, 29.0, 33.0, 34.0, 29.0, 30.0, 25.0, 33.0, 35.0, 32.0, 30.0, 28.0, 26.0, 27.0, 34.0, 34.0, 31.0, 25.0, 36.0, 28.0, 33.0, 29.0, 35.0, 34.0, 36.0, 35.0, 27.0, 33.0, 26.0, 28.0, 34.0, 26.0, 30.0, 30.0, 36.0, 29.0, 32.0, 27.0, 32.0, 31.0, 34.0, 33.0, 25.0, 34.0, 28.0, 33.0, 27.0, 30.0, 24.0, 31.0, 25.0, 29.0, 29.0, 36.0, 31.0, 32.0, 26.0, 34.0, 29.0, 35.0, 29.0, 34.0, 32.0, 29.0, 35.0, 30.0, 33.0, 36.0, 33.0, 31.0, 32.0, 27.0, 34.0, 31.0, 34.0, 32.0, 30.0, 29.0, 27.0, 34.0, 34.0, 28.0, 28.0, 33.0, 26.0, 34.0, 31.0, 32.0, 34.0, 27.0, 29.0, 32.0, 35.0, 32.0, 36.0, 36.0, 33.0, 36.0, 33.0, 29.0, 34.0, 35.0, 35.0, 29.0, 31.0, 30.0, 36.0, 33.0, 33.0, 30.0, 34.0, 35.0, 31.0, 24.0, 33.0, 31.0, 29.0, 33.0, 31.0, 29.0, 36.0, 30.0, 34.0, 31.0, 29.0, 28.0, 36.0, 30.0, 34.0, 28.0, 32.0, 32.0, 36.0, 30.0, 31.0, 28.0, 28.0, 31.0, 28.0, 28.0, 29.0, 27.0, 31.0, 36.0, 25.0, 29.0, 34.0, 35.0, 32.0, 32.0, 33.0, 31.0, 35.0, 32.0, 35.0, 28.0, 28.0, 30.0, 31.0, 35.0, 28.0, 35.0, 25.0, 27.0, 36.0, 30.0, 32.0, 29.0, 30.0, 29.0, 33.0, 26.0, 35.0, 36.0, 30.0, 34.0, 29.0, 32.0, 31.0, 33.0, 28.0, 31.0, 36.0, 32.0, 35.0, 29.0, 33.0, 33.0, 32.0, 33.0, 26.0, 28.0, 26.0, 28.0, 31.0, 29.0, 27.0, 29.0, 32.0, 28.0, 32.0, 25.0, 32.0, 32.0, 31.0, 30.0, 30.0, 26.0, 34.0, 33.0, 35.0, 36.0, 26.0, 24.0, 33.0, 32.0, 32.0, 25.0, 28.0, 29.0, 35.0, 28.0, 36.0, 29.0, 35.0, 29.0, 30.0, 29.0, 32.0, 33.0, 35.0, 33.0, 33.0, 35.0, 32.0, 26.0, 35.0, 36.0, 36.0, 34.0, 28.0, 29.0, 28.0, 36.0, 35.0, 27.0, 30.0, 29.0, 25.0, 26.0, 34.0, 36.0, 34.0, 35.0, 27.0, 33.0, 31.0, 32.0, 31.0, 31.0, 36.0, 30.0, 33.0, 34.0, 33.0, 30.0, 33.0, 35.0, 27.0, 31.0, 35.0, 30.0, 34.0, 28.0, 31.0, 34.0, 25.0, 34.0, 35.0, 29.0, 35.0, 34.0, 33.0, 32.0, 29.0, 26.0, 25.0, 35.0, 36.0, 34.0, 31.0, 34.0, 32.0, 31.0, 27.0, 31.0, 27.0, 31.0, 33.0, 33.0, 31.0, 34.0, 24.0, 26.0, 29.0, 33.0, 28.0, 30.0, 33.0, 29.0, 32.0, 30.0, 35.0, 35.0, 27.0, 27.0, 29.0, 26.0, 35.0, 33.0, 28.0, 34.0, 29.0, 31.0, 29.0, 32.0, 33.0, 32.0, 34.0, 27.0, 36.0, 27.0, 26.0, 29.0, 34.0, 28.0, 36.0, 28.0, 28.0, 29.0, 28.0, 27.0, 30.0, 36.0, 30.0, 32.0, 29.0, 29.0, 33.0, 31.0, 28.0, 25.0, 30.0, 34.0, 31.0, 29.0, 32.0, 29.0, 34.0, 32.0, 29.0, 32.0, 34.0, 35.0, 34.0, 32.0, 32.0, 28.0, 33.0, 33.0, 30.0, 36.0, 36.0, 28.0, 32.0, 32.0, 30.0, 32.0, 34.0, 28.0, 28.0, 31.0, 33.0, 30.0, 33.0, 35.0, 34.0, 36.0, 29.0, 26.0, 32.0, 35.0, 30.0, 24.0, 27.0, 29.0, 33.0, 28.0, 29.0, 35.0, 29.0, 26.0, 31.0, 31.0, 31.0, 25.0, 28.0, 29.0, 29.0, 28.0, 26.0, 35.0, 29.0, 30.0, 26.0, 32.0, 36.0, 27.0, 30.0, 33.0, 34.0, 28.0, 33.0, 28.0, 30.0, 35.0, 33.0, 33.0, 33.0, 33.0, 29.0, 32.0, 28.0, 25.0, 30.0, 29.0, 33.0, 33.0, 28.0, 28.0, 35.0, 29.0, 30.0, 28.0, 29.0, 28.0, 31.0, 33.0, 34.0, 31.0, 36.0, 28.0, 35.0, 32.0, 35.0, 35.0, 28.0, 36.0, 31.0, 28.0, 36.0, 31.0, 26.0, 28.0, 27.0, 25.0, 35.0, 32.0, 36.0, 34.0, 31.0, 27.0, 29.0, 28.0, 33.0, 28.0, 32.0, 27.0, 33.0, 29.0, 30.0, 35.0, 32.0, 34.0, 30.0, 32.0, 29.0, 29.0, 30.0, 33.0, 26.0, 34.0, 34.0, 27.0, 27.0, 33.0, 29.0, 34.0, 33.0, 30.0, 30.0, 32.0, 31.0, 24.0, 31.0, 30.0, 29.0, 35.0, 30.0, 28.0, 31.0, 33.0, 33.0, 35.0, 34.0, 35.0, 25.0, 27.0, 28.0, 35.0, 35.0, 33.0, 31.0, 35.0, 30.0, 28.0, 31.0, 34.0, 29.0, 27.0, 28.0, 34.0, 28.0, 26.0, 31.0, 31.0, 33.0, 31.0, 34.0, 33.0, 28.0, 36.0, 34.0, 28.0, 26.0, 28.0, 24.0, 30.0, 24.0, 34.0, 28.0, 31.0, 34.0, 33.0, 28.0, 27.0, 29.0, 24.0, 32.0, 36.0, 28.0, 24.0, 28.0, 27.0, 29.0, 25.0, 26.0, 29.0, 32.0, 36.0, 35.0, 32.0, 26.0, 35.0, 33.0, 30.0, 35.0, 34.0, 33.0, 33.0, 36.0, 36.0, 26.0, 28.0, 28.0, 30.0, 36.0, 24.0, 29.0, 32.0, 35.0, 32.0, 34.0, 31.0, 34.0, 32.0, 27.0, 29.0, 31.0, 30.0, 32.0, 33.0, 29.0, 33.0, 29.0, 28.0, 25.0, 34.0, 30.0, 33.0, 33.0, 33.0, 29.0, 35.0, 34.0, 34.0, 33.0, 31.0, 32.0, 36.0, 36.0, 30.0, 35.0, 32.0, 31.0, 27.0, 35.0, 26.0, 31.0, 30.0, 33.0, 31.0, 27.0, 34.0, 30.0, 34.0, 36.0, 31.0, 31.0, 24.0, 26.0, 32.0, 36.0, 34.0, 30.0, 24.0, 29.0, 28.0, 36.0, 31.0, 25.0, 35.0, 33.0, 28.0, 36.0, 27.0, 32.0, 27.0, 36.0, 29.0, 27.0, 27.0, 31.0, 23.0, 23.0, 23.0, 23.0, 23.0, 23.0, 23.0, 23.0, 23.0, 23.0, 23.0, 23.0, 23.0, 23.0, 23.0, 23.0, 23.0, 23.0, 23.0, 23.0, 23.0, 23.0, 23.0, 23.0, 23.0, 23.0, 23.0, 23.0, 23.0, 23.0, 23.0, 23.0, 23.0, 23.0, 23.0, 23.0, 23.0, 23.0, 23.0, 23.0, 23.0, 23.0, 23.0, 23.0, 23.0, 23.0, 23.0, 24.0, 30.0, 25.0, 32.0, 34.0, 24.0, 33.0, 25.0, 25.0, 32.0, 34.0, 24.0, 24.0, 36.0, 24.0, 32.0, 29.0, 25.0, 24.0, 27.0, 24.0, 24.0, 24.0, 28.0, 26.0, 33.0, 36.0, 24.0, 24.0, 31.0, 24.0, 28.0, 24.0, 32.0, 29.0, 28.0, 24.0, 24.0, 34.0, 32.0, 24.0, 26.0, 32.0, 25.0, 36.0, 35.0, 24.0, 26.0, 31.0, 28.0, 24.0, 24.0, 26.0, 33.0, 26.0, 34.0, 31.0, 35.0, 26.0, 29.0, 32.0, 28.0, 34.0, 26.0, 33.0, 35.0, 33.0, 24.0, 24.0, 25.0, 32.0, 24.0, 24.0, 32.0, 32.0, 36.0, 33.0, 24.0, 24.0, 24.0, 24.0, 24.0, 24.0, 26.0, 24.0, 24.0, 29.0, 32.0, 24.0, 24.0, 25.0, 24.0, 33.0, 24.0, 30.0, 33.0, 24.0, 36.0, 24.0, 25.0, 24.0, 34.0, 31.0, 26.0, 27.0, 27.0, 31.0, 29.0, 30.0, 24.0, 29.0, 33.0, 32.0, 24.0, 30.0, 34.0, 26.0, 32.0, 36.0, 24.0, 29.0, 24.0, 29.0, 34.0, 36.0, 31.0, 28.0, 26.0, 25.0, 34.0, 24.0, 29.0, 28.0, 35.0, 25.0, 28.0, 28.0, 31.0, 30.0, 32.0, 24.0, 36.0, 24.0, 35.0, 33.0, 25.0, 26.0, 27.0, 29.0, 30.0, 35.0, 25.0, 28.0, 33.0, 28.0, 33.0, 24.0, 34.0, 29.0, 32.0, 35.0, 24.0, 29.0, 35.0, 31.0, 26.0, 34.0, 35.0, 35.0, 30.0, 35.0, 26.0, 29.0, 34.0, 25.0, 29.0, 34.0, 30.0, 24.0, 28.0, 32.0, 24.0, 27.0, 25.0, 28.0, 35.0, 24.0, 33.0, 35.0, 25.0, 29.0, 32.0, 36.0, 25.0, 36.0, 29.0, 25.0, 24.0, 24.0, 25.0, 33.0, 30.0, 29.0, 28.0, 27.0, 24.0, 27.0, 28.0, 25.0, 29.0, 34.0, 24.0, 29.0, 28.0, 34.0, 25.0, 24.0, 27.0, 24.0, 34.0, 25.0, 26.0, 34.0, 30.0, 31.0, 24.0, 28.0, 32.0, 25.0, 30.0, 25.0, 27.0, 26.0, 26.0, 25.0, 29.0, 26.0, 31.0, 29.0, 31.0, 24.0, 34.0, 24.0, 25.0, 25.0, 25.0, 33.0, 36.0, 35.0, 33.0, 33.0, 26.0, 31.0, 29.0, 24.0, 33.0, 34.0, 27.0, 36.0, 36.0, 34.0, 33.0, 35.0, 24.0, 30.0, 35.0, 33.0, 35.0, 32.0, 31.0, 25.0, 30.0, 26.0, 27.0, 24.0, 30.0, 24.0, 33.0, 35.0, 25.0, 29.0, 27.0, 35.0, 27.0, 35.0, 31.0, 33.0, 24.0, 29.0, 31.0, 36.0, 28.0, 36.0, 34.0, 35.0, 35.0, 36.0, 28.0, 29.0, 30.0, 32.0, 31.0, 35.0, 24.0, 26.0, 35.0, 25.0, 26.0, 30.0, 33.0, 33.0, 24.0, 28.0, 34.0, 31.0, 36.0, 35.0, 31.0, 24.0, 34.0, 35.0, 35.0, 35.0, 34.0, 27.0, 33.0, 25.0, 34.0, 35.0, 30.0, 36.0, 32.0, 35.0, 33.0, 30.0, 26.0, 24.0, 32.0, 35.0, 31.0, 33.0, 33.0, 35.0, 30.0, 31.0, 33.0, 35.0, 29.0, 28.0, 27.0, 26.0, 24.0, 26.0, 30.0, 35.0, 30.0, 26.0, 33.0, 35.0, 30.0, 24.0, 36.0, 25.0, 31.0, 33.0, 32.0, 32.0, 27.0, 24.0, 32.0, 29.0, 27.0, 29.0, 33.0, 34.0, 35.0, 33.0, 24.0, 30.0, 25.0, 24.0, 32.0, 24.0, 31.0, 34.0, 24.0, 33.0, 33.0, 29.0, 32.0, 26.0, 33.0, 35.0, 24.0, 25.0, 36.0, 32.0, 33.0, 33.0, 33.0, 24.0, 35.0, 24.0, 34.0, 33.0, 29.0, 26.0, 24.0, 35.0, 26.0, 32.0, 36.0, 34.0, 30.0, 32.0, 24.0, 30.0, 31.0, 24.0, 31.0, 24.0, 25.0, 24.0, 31.0, 29.0, 32.0, 26.0, 24.0, 35.0, 24.0, 32.0, 32.0, 33.0, 34.0, 27.0, 27.0, 32.0, 28.0, 33.0, 25.0, 27.0, 33.0, 25.0, 34.0, 34.0, 34.0, 24.0, 26.0, 28.0, 35.0, 28.0, 24.0, 35.0, 30.0, 24.0, 30.0, 30.0, 24.0, 24.0, 36.0, 35.0, 34.0, 25.0, 30.0, 36.0, 35.0, 24.0, 24.0, 35.0, 32.0, 35.0, 30.0, 32.0, 24.0, 35.0, 25.0, 24.0, 30.0, 30.0, 25.0, 25.0, 26.0, 25.0, 26.0, 34.0, 24.0, 26.0, 26.0, 27.0, 35.0, 32.0, 27.0, 27.0, 29.0, 32.0, 32.0, 25.0, 35.0, 33.0, 34.0, 26.0, 25.0, 34.0, 36.0, 33.0, 33.0, 29.0, 24.0, 30.0, 24.0, 31.0, 35.0, 26.0, 34.0, 26.0, 34.0, 32.0, 36.0, 32.0, 30.0, 35.0, 36.0, 35.0, 35.0, 32.0, 30.0, 30.0, 26.0, 26.0, 30.0, 24.0, 32.0, 29.0, 26.0, 26.0, 31.0, 35.0, 34.0, 31.0, 26.0, 34.0, 26.0, 25.0, 34.0, 31.0, 34.0, 28.0, 28.0, 31.0, 32.0, 36.0, 26.0, 26.0, 28.0, 27.0, 32.0, 30.0, 35.0, 34.0, 28.0, 35.0, 30.0, 24.0, 34.0, 25.0, 26.0, 35.0, 35.0, 25.0, 36.0, 27.0, 30.0, 24.0, 24.0, 25.0, 31.0, 26.0, 32.0, 36.0, 27.0, 24.0, 36.0, 36.0, 25.0, 26.0, 32.0, 26.0, 24.0, 24.0, 24.0, 33.0, 25.0, 25.0, 25.0, 36.0, 29.0, 31.0, 29.0, 24.0, 24.0, 24.0, 29.0, 24.0, 24.0, 35.0, 24.0, 28.0, 30.0, 35.0, 33.0, 24.0, 24.0, 24.0, 35.0, 36.0, 26.0, 31.0, 33.0, 31.0, 35.0, 31.0, 31.0, 35.0, 25.0, 25.0, 25.0, 35.0, 24.0, 24.0, 25.0, 24.0, 29.0, 28.0, 24.0, 24.0, 26.0, 33.0, 27.0, 25.0, 26.0, 30.0, 30.0, 25.0, 28.0, 26.0, 24.0, 33.0, 26.0, 26.0, 33.0, 31.0, 25.0, 36.0, 24.0, 27.0, 31.0, 34.0, 25.0, 26.0, 27.0, 26.0, 34.0, 24.0, 26.0, 24.0, 29.0, 24.0, 30.0, 35.0, 25.0, 31.0, 35.0, 35.0, 31.0, 24.0, 24.0, 24.0, 33.0, 24.0, 31.0, 32.0, 24.0, 25.0, 31.0, 26.0, 28.0, 27.0, 25.0, 28.0, 26.0, 32.0, 34.0, 25.0, 29.0, 31.0, 29.0, 36.0, 35.0, 33.0, 35.0, 30.0, 25.0, 31.0, 33.0, 32.0, 25.0, 24.0, 24.0, 24.0, 31.0, 24.0, 33.0, 35.0, 32.0, 24.0, 24.0, 25.0, 35.0, 31.0, 29.0, 32.0, 27.0, 26.0, 32.0, 26.0, 24.0, 25.0, 27.0, 33.0, 27.0, 25.0, 30.0, 24.0, 30.0, 29.0, 34.0, 24.0, 28.0, 24.0, 27.0, 25.0, 32.0, 26.0, 26.0, 27.0, 24.0, 24.0, 29.0, 34.0, 24.0, 26.0, 28.0, 25.0, 28.0, 32.0, 28.0, 34.0, 24.0, 24.0, 33.0, 27.0, 30.0, 33.0, 29.0, 31.0, 24.0, 27.0, 25.0, 35.0, 27.0, 27.0, 25.0, 31.0, 26.0, 34.0, 27.0, 30.0, 27.0, 32.0, 25.0, 36.0, 30.0, 35.0, 35.0, 35.0, 36.0, 26.0, 33.0, 28.0, 24.0, 28.0, 33.0, 30.0, 25.0, 25.0, 31.0, 34.0, 34.0, 33.0, 24.0, 33.0, 30.0, 30.0, 34.0, 32.0, 31.0, 25.0, 24.0, 24.0, 34.0, 25.0, 26.0, 27.0, 24.0, 30.0, 24.0, 24.0, 25.0, 24.0, 35.0, 27.0, 28.0, 33.0, 30.0, 31.0, 32.0, 27.0, 29.0, 34.0, 31.0, 36.0, 28.0, 32.0, 25.0, 36.0, 24.0, 24.0, 24.0, 24.0, 28.0, 30.0, 34.0, 28.0, 25.0, 26.0, 24.0, 26.0, 26.0, 25.0, 32.0, 31.0, 24.0, 27.0, 25.0, 26.0, 24.0, 27.0, 29.0, 36.0, 24.0, 36.0, 28.0, 24.0, 24.0, 27.0, 30.0, 25.0, 27.0, 24.0, 33.0, 24.0, 32.0, 27.0, 25.0, 24.0, 24.0, 24.0, 29.0, 27.0, 25.0, 33.0, 33.0, 24.0, 30.0, 25.0, 24.0, 32.0, 29.0, 26.0, 26.0, 29.0, 25.0, 26.0, 33.0, 26.0, 25.0, 35.0, 26.0, 30.0, 24.0, 29.0, 25.0, 24.0, 32.0, 25.0, 30.0, 24.0, 26.0, 24.0, 24.0, 28.0, 26.0, 32.0, 27.0, 25.0, 25.0, 24.0, 27.0, 25.0, 24.0, 25.0, 24.0, 25.0, 24.0, 25.0, 31.0, 27.0, 24.0, 25.0, 25.0, 24.0, 31.0, 35.0, 28.0, 29.0, 26.0, 33.0, 24.0, 28.0, 25.0, 30.0, 28.0, 34.0, 24.0, 25.0, 30.0, 25.0, 30.0, 24.0, 24.0, 31.0, 31.0, 32.0, 25.0, 24.0, 26.0, 34.0, 35.0, 29.0, 27.0, 26.0, 35.0, 25.0, 25.0, 31.0, 31.0, 33.0, 28.0, 27.0, 27.0, 33.0, 35.0, 24.0, 25.0, 27.0, 26.0, 34.0, 24.0, 28.0, 25.0, 25.0, 24.0, 33.0, 30.0, 25.0, 24.0, 27.0, 33.0, 34.0, 26.0, 26.0, 25.0, 24.0, 26.0, 27.0, 35.0, 27.0, 25.0, 26.0, 27.0, 25.0, 24.0, 34.0, 25.0, 27.0, 28.0, 35.0, 25.0, 36.0, 28.0, 31.0, 27.0, 33.0, 23.0, 23.0, 23.0, 23.0, 23.0, 23.0, 23.0, 23.0, 23.0, 23.0, 23.0, 23.0, 23.0, 23.0, 23.0, 23.0, 23.0, 23.0, 23.0, 23.0, 23.0, 23.0, 23.0, 23.0, 23.0, 23.0, 23.0, 23.0, 23.0, 23.0, 23.0, 23.0, 23.0, 23.0, 23.0, 23.0, 23.0, 23.0, 23.0, 23.0, 23.0, 23.0, 23.0, 23.0, 23.0, 23.0, 23.0, 23.0, 23.0, 23.0, 23.0, 23.0, 23.0, 23.0, 23.0, 23.0, 23.0, 23.0, 23.0, 23.0, 23.0, 23.0, 23.0, 23.0, 23.0, 23.0, 23.0, 23.0, 23.0, 23.0, 23.0, 23.0, 23.0, 23.0, 23.0, 23.0, 23.0, 23.0, 23.0, 23.0, 23.0, 23.0, 23.0, 23.0, 23.0, 23.0, 23.0, 23.0, 23.0, 23.0, 23.0, 23.0, 23.0, 23.0, 23.0, 23.0, 23.0, 23.0, 23.0, 23.0, 23.0, 23.0, 23.0, 23.0, 23.0, 23.0, 23.0, 23.0, 23.0, 23.0, 23.0, 23.0, 23.0, 23.0, 23.0, 23.0, 23.0, 23.0, 23.0, 23.0, 23.0, 23.0, 23.0, 23.0, 23.0, 23.0, 23.0, 23.0, 23.0, 23.0, 23.0, 23.0, 23.0, 23.0, 23.0, 23.0, 23.0, 23.0, 23.0, 23.0, 23.0, 23.0, 23.0, 23.0, 23.0, 23.0, 23.0, 23.0, 23.0, 23.0, 23.0, 23.0, 23.0, 23.0, 23.0, 23.0, 23.0, 23.0, 23.0, 23.0, 23.0, 23.0, 23.0, 23.0, 23.0, 23.0, 23.0, 23.0, 23.0, 23.0, 23.0, 23.0, 23.0, 23.0, 23.0, 23.0, 23.0, 23.0, 23.0, 23.0, 50.0, 40.0, 43.0, 55.0, 63.0, 41.0, 44.0, 42.0, 43.0, 71.0, 52.0, 40.0, 43.0, 49.0, 41.0, 38.0, 38.0, 39.0, 37.0, 57.0, 50.0, 43.0, 61.0, 45.0, 39.0, 50.0, 67.0, 45.0, 56.0, 53.0, 46.0, 38.0, 39.0, 41.0, 40.0, 41.0, 47.0, 41.0, 52.0, 37.0, 45.0, 40.0, 51.0, 53.0, 41.0, 49.0, 47.0, 42.0, 43.0, 45.0, 37.0, 39.0, 46.0, 52.0, 43.0, 67.0, 57.0, 57.0, 46.0, 50.0, 42.0, 40.0, 47.0, 55.0, 51.0, 45.0, 52.0, 56.0, 39.0, 48.0, 37.0, 38.0, 61.0, 47.0, 37.0, 44.0, 42.0, 47.0, 54.0, 42.0, 38.0, 37.0, 42.0, 46.0, 48.0, 43.0, 42.0, 48.0, 50.0, 40.0, 40.0, 39.0, 37.0, 41.0, 65.0, 41.0, 48.0, 52.0, 43.0, 39.0, 44.0, 41.0, 51.0, 56.0, 44.0, 37.0, 47.0, 40.0, 58.0, 60.0, 43.0, 45.0, 64.0, 40.0, 40.0, 38.0, 40.0, 67.0, 43.0, 39.0, 58.0, 42.0, 52.0, 42.0, 71.0, 68.0, 44.0, 53.0, 44.0, 49.0, 41.0, 38.0, 38.0, 38.0, 43.0, 45.0, 65.0, 37.0, 60.0, 50.0, 59.0, 54.0, 43.0, 51.0, 55.0, 48.0, 41.0, 52.0, 63.0, 42.0, 41.0, 41.0, 40.0, 52.0, 57.0, 37.0, 42.0, 37.0, 43.0, 50.0, 44.0, 39.0, 55.0, 56.0, 40.0, 39.0, 44.0, 53.0, 38.0, 37.0, 38.0, 40.0, 54.0, 39.0, 41.0, 48.0, 61.0, 41.0, 41.0, 40.0, 42.0, 42.0, 42.0, 53.0, 54.0, 55.0, 43.0, 63.0, 45.0, 42.0, 39.0, 37.0, 40.0, 48.0, 40.0, 40.0, 53.0, 58.0, 62.0, 39.0, 39.0, 70.0, 52.0, 37.0, 55.0, 42.0, 43.0, 50.0, 55.0, 58.0, 41.0, 39.0, 41.0, 48.0, 46.0, 56.0, 71.0, 46.0, 44.0, 55.0, 70.0, 60.0, 37.0, 58.0, 45.0, 47.0, 53.0, 60.0, 63.0, 48.0, 38.0, 37.0, 45.0, 45.0, 43.0, 37.0, 45.0, 54.0, 50.0, 42.0, 37.0, 65.0, 41.0, 57.0, 49.0, 41.0, 38.0, 53.0, 56.0, 40.0, 57.0, 46.0, 38.0, 40.0, 51.0, 40.0, 39.0, 55.0, 50.0, 48.0, 65.0, 38.0, 42.0, 39.0, 55.0, 37.0, 39.0, 45.0, 42.0, 53.0, 41.0, 47.0, 39.0, 37.0, 40.0, 53.0, 58.0, 37.0, 66.0, 49.0, 48.0, 45.0, 40.0, 47.0, 40.0, 41.0, 64.0, 38.0, 47.0, 40.0, 53.0, 44.0, 62.0, 49.0, 38.0, 40.0, 40.0, 55.0, 37.0, 53.0, 54.0, 41.0, 41.0, 53.0, 48.0, 58.0, 54.0, 54.0, 51.0, 39.0, 54.0, 37.0, 48.0, 46.0, 44.0, 51.0, 39.0, 55.0, 49.0, 49.0, 43.0, 38.0, 46.0, 38.0, 56.0, 37.0, 41.0, 58.0, 45.0, 53.0, 40.0, 52.0, 59.0, 40.0, 37.0, 37.0, 42.0, 63.0, 44.0, 38.0, 39.0, 42.0, 41.0, 40.0, 49.0, 55.0, 47.0, 65.0, 47.0, 54.0, 58.0, 37.0, 43.0, 62.0, 56.0, 70.0, 60.0, 47.0, 39.0, 47.0, 37.0, 46.0, 49.0, 52.0, 53.0, 50.0, 39.0, 43.0, 58.0, 39.0, 45.0, 64.0, 49.0, 61.0, 39.0, 44.0, 39.0, 39.0, 51.0, 37.0, 61.0, 47.0, 37.0, 43.0, 47.0, 40.0, 40.0, 43.0, 51.0, 47.0, 43.0, 40.0, 50.0, 43.0, 48.0, 57.0, 38.0, 62.0, 41.0, 38.0, 37.0, 40.0, 47.0, 41.0, 47.0, 39.0, 38.0, 48.0, 43.0, 52.0, 41.0, 39.0, 60.0, 46.0, 40.0, 65.0, 39.0, 42.0, 50.0, 42.0, 57.0, 43.0, 47.0, 43.0, 38.0, 65.0, 56.0, 49.0, 39.0, 42.0, 56.0, 39.0, 39.0, 46.0, 60.0, 49.0, 43.0, 39.0, 44.0, 46.0, 48.0, 63.0, 41.0, 45.0, 39.0, 43.0, 44.0, 47.0, 55.0, 47.0, 41.0, 53.0, 47.0, 45.0, 62.0, 39.0, 37.0, 55.0, 42.0, 42.0, 61.0, 39.0, 60.0, 46.0, 48.0, 44.0, 45.0, 40.0, 46.0, 57.0, 38.0, 55.0, 37.0, 68.0, 49.0, 55.0, 45.0, 41.0, 39.0, 38.0, 40.0, 47.0, 54.0, 44.0, 50.0, 39.0, 39.0, 37.0, 41.0, 42.0, 44.0, 37.0, 54.0, 60.0, 43.0, 54.0, 39.0, 37.0, 62.0, 44.0, 41.0, 52.0, 43.0, 45.0, 43.0, 37.0, 65.0, 46.0, 43.0, 41.0, 45.0, 44.0, 55.0, 38.0, 38.0, 58.0, 39.0, 50.0, 58.0, 53.0, 38.0, 37.0, 46.0, 59.0, 44.0, 40.0, 50.0, 50.0, 59.0, 48.0, 57.0, 48.0, 42.0, 66.0, 38.0, 37.0, 48.0, 51.0, 42.0, 62.0, 45.0, 40.0, 47.0, 45.0, 42.0, 71.0, 55.0, 38.0, 57.0, 37.0, 42.0, 59.0, 37.0, 39.0, 39.0, 50.0, 39.0, 60.0, 40.0, 49.0, 44.0, 41.0, 58.0, 61.0, 43.0, 42.0, 50.0, 42.0, 43.0, 64.0, 71.0, 41.0, 43.0, 45.0, 46.0, 39.0, 40.0, 59.0, 51.0, 38.0, 41.0, 49.0, 46.0, 42.0, 37.0, 39.0, 50.0, 39.0, 47.0, 41.0, 44.0, 37.0, 50.0, 43.0, 45.0, 51.0, 63.0, 44.0, 66.0, 40.0, 37.0, 39.0, 51.0, 44.0, 45.0, 48.0, 67.0, 45.0, 39.0, 52.0, 49.0, 44.0, 45.0, 46.0, 47.0, 43.0, 43.0, 53.0, 46.0, 44.0, 56.0, 67.0, 45.0, 50.0, 48.0, 39.0, 38.0, 41.0, 59.0, 49.0, 38.0, 46.0, 40.0, 40.0, 49.0, 50.0, 61.0, 46.0, 52.0, 45.0, 47.0, 43.0, 38.0, 64.0, 42.0, 59.0, 38.0, 70.0, 46.0, 48.0, 40.0, 42.0, 45.0, 37.0, 45.0, 38.0, 64.0, 64.0, 57.0, 47.0, 64.0, 45.0, 40.0, 40.0, 68.0, 44.0, 61.0, 57.0, 42.0, 41.0, 62.0, 56.0, 57.0, 39.0, 54.0, 48.0, 48.0, 46.0, 54.0, 47.0, 46.0, 45.0, 45.0, 56.0, 43.0, 37.0, 40.0, 49.0, 52.0, 67.0, 38.0, 53.0, 41.0, 45.0, 45.0, 42.0, 68.0, 51.0, 70.0, 58.0, 46.0, 53.0, 54.0, 40.0, 37.0, 37.0, 48.0, 41.0, 53.0, 45.0, 38.0, 41.0, 52.0, 37.0, 44.0, 49.0, 39.0, 39.0, 67.0, 50.0, 37.0, 43.0, 44.0, 66.0, 51.0, 49.0, 49.0, 59.0, 54.0, 42.0, 46.0, 47.0, 39.0, 42.0, 37.0, 47.0, 39.0, 56.0, 45.0, 56.0, 50.0, 46.0, 41.0, 45.0, 70.0, 40.0, 47.0, 66.0, 49.0, 46.0, 38.0, 41.0, 45.0, 48.0, 50.0, 49.0, 40.0, 40.0, 48.0, 44.0, 50.0, 43.0, 49.0, 41.0, 46.0, 39.0, 67.0, 53.0, 47.0, 65.0, 60.0, 57.0, 59.0, 44.0, 57.0, 42.0, 48.0, 44.0, 37.0, 48.0, 42.0, 46.0, 42.0, 62.0, 52.0, 51.0, 39.0, 46.0, 56.0, 59.0, 41.0, 48.0, 57.0, 48.0, 48.0, 52.0, 47.0, 64.0, 37.0, 49.0, 40.0, 37.0, 40.0, 48.0, 39.0, 50.0, 37.0, 51.0, 45.0, 42.0, 38.0, 45.0, 62.0, 42.0, 40.0, 55.0, 38.0, 39.0, 42.0, 38.0, 43.0, 39.0, 40.0, 37.0, 42.0, 38.0, 47.0, 60.0, 59.0, 42.0, 47.0, 67.0, 46.0, 47.0, 57.0, 44.0, 39.0, 37.0, 50.0, 40.0, 47.0, 39.0, 46.0, 68.0, 37.0, 43.0, 61.0, 44.0, 56.0, 44.0, 41.0, 40.0, 40.0, 50.0, 56.0, 70.0, 42.0, 44.0, 54.0, 66.0, 44.0, 37.0, 71.0, 61.0, 38.0, 54.0, 68.0, 40.0, 45.0, 39.0, 42.0, 51.0, 50.0, 50.0, 42.0, 38.0, 59.0, 51.0, 58.0, 44.0, 47.0, 37.0, 38.0, 53.0, 41.0, 46.0, 46.0, 58.0, 50.0, 39.0, 45.0, 49.0, 42.0, 45.0, 41.0, 61.0, 47.0, 39.0, 50.0, 42.0, 43.0, 41.0, 43.0, 37.0, 71.0, 53.0, 51.0, 53.0, 62.0, 39.0, 42.0, 41.0, 68.0, 45.0, 40.0, 51.0, 38.0, 38.0, 39.0, 39.0, 69.0, 49.0, 40.0, 40.0, 43.0, 38.0, 63.0, 61.0, 42.0, 57.0, 40.0, 60.0, 41.0, 38.0, 38.0, 42.0, 47.0, 49.0, 50.0, 49.0, 66.0, 43.0, 46.0, 48.0, 52.0, 71.0, 52.0, 39.0, 57.0, 51.0, 45.0, 50.0, 37.0, 64.0, 61.0, 41.0, 55.0, 47.0, 37.0, 37.0, 69.0, 59.0, 46.0, 41.0, 71.0, 42.0, 39.0, 42.0, 39.0, 39.0, 60.0, 50.0, 38.0, 54.0, 48.0, 38.0, 58.0, 60.0, 43.0, 61.0, 42.0, 38.0, 47.0, 40.0, 47.0, 38.0, 46.0, 47.0, 45.0, 50.0, 48.0, 37.0, 37.0, 47.0, 39.0, 41.0, 38.0, 45.0, 42.0, 41.0, 41.0, 43.0, 47.0, 59.0, 50.0, 54.0, 40.0, 55.0, 40.0, 43.0, 52.0, 42.0, 37.0, 48.0, 40.0, 50.0, 60.0, 46.0, 52.0, 64.0, 43.0, 51.0, 49.0, 47.0, 40.0, 69.0, 57.0, 39.0, 39.0, 52.0, 53.0, 40.0, 53.0, 38.0, 39.0, 44.0, 44.0, 42.0, 57.0, 39.0, 42.0, 44.0, 45.0, 46.0, 41.0, 70.0, 61.0, 39.0, 42.0, 42.0, 63.0, 51.0, 51.0, 46.0, 45.0, 43.0, 41.0, 37.0, 39.0, 48.0, 41.0, 41.0, 37.0, 56.0, 42.0, 43.0, 50.0, 47.0, 37.0, 46.0, 47.0, 41.0, 67.0, 37.0, 57.0, 59.0, 44.0, 55.0, 43.0, 52.0, 49.0, 54.0, 62.0, 38.0, 50.0, 41.0, 41.0, 50.0, 55.0, 44.0, 46.0, 71.0, 43.0, 40.0, 40.0, 62.0, 38.0, 54.0, 57.0, 40.0, 67.0, 46.0, 59.0, 45.0, 48.0, 50.0, 37.0, 40.0, 53.0, 38.0, 46.0, 69.0, 40.0, 40.0, 49.0, 48.0, 42.0, 69.0, 37.0, 42.0, 39.0, 41.0, 38.0, 58.0, 45.0, 39.0, 39.0, 40.0, 41.0, 47.0, 50.0, 52.0, 51.0, 49.0, 37.0, 37.0, 60.0, 37.0, 40.0, 44.0, 60.0, 41.0, 47.0, 60.0, 52.0, 41.0, 51.0, 45.0, 44.0, 53.0, 38.0, 71.0, 49.0, 53.0, 47.0, 44.0, 37.0, 43.0, 53.0, 60.0, 40.0, 61.0, 37.0, 47.0, 38.0, 43.0, 39.0, 44.0, 41.0, 44.0, 47.0, 52.0, 48.0, 60.0, 52.0, 63.0, 50.0, 39.0, 65.0, 42.0, 37.0, 44.0, 46.0, 41.0, 50.0, 39.0, 56.0, 52.0, 38.0, 46.0, 46.0, 56.0, 45.0, 48.0, 40.0, 39.0, 39.0, 41.0, 40.0, 41.0, 42.0, 51.0, 43.0, 40.0, 44.0, 38.0, 54.0, 46.0, 43.0, 55.0, 40.0, 39.0, 71.0, 56.0, 45.0, 38.0, 65.0, 45.0, 47.0, 65.0, 69.0, 71.0, 38.0, 37.0, 51.0, 41.0, 45.0, 40.0, 63.0, 66.0, 37.0, 39.0, 47.0, 57.0, 38.0, 50.0, 45.0, 44.0, 41.0, 70.0, 39.0, 64.0, 45.0, 43.0, 44.0, 37.0, 49.0, 41.0, 60.0, 49.0, 49.0, 44.0, 41.0, 40.0, 42.0, 60.0, 43.0, 62.0, 44.0, 66.0, 58.0, 49.0, 40.0, 48.0, 53.0, 47.0, 39.0, 38.0, 45.0, 54.0, 43.0, 52.0, 54.0, 38.0, 52.0, 42.0, 58.0, 57.0, 45.0, 40.0, 37.0, 39.0, 66.0, 52.0, 63.0, 40.0, 56.0, 55.0, 56.0, 63.0, 50.0, 42.0, 37.0, 52.0, 47.0, 45.0, 40.0, 53.0, 40.0, 44.0, 42.0, 51.0, 48.0, 45.0, 40.0, 37.0, 44.0, 47.0, 40.0, 45.0, 49.0, 48.0, 39.0, 39.0, 53.0, 39.0, 37.0, 43.0, 37.0, 42.0, 43.0, 44.0, 62.0, 40.0, 42.0, 43.0, 55.0, 43.0, 48.0, 62.0, 71.0, 46.0, 69.0, 47.0, 43.0, 41.0, 41.0, 41.0, 65.0, 43.0, 47.0, 41.0, 57.0, 43.0, 38.0, 43.0, 64.0, 40.0, 43.0, 37.0, 48.0, 48.0, 49.0, 45.0, 41.0, 49.0, 46.0, 58.0, 49.0, 39.0, 38.0, 42.0, 48.0, 45.0, 47.0, 43.0, 49.0, 42.0, 43.0, 38.0, 47.0, 42.0, 52.0, 54.0, 43.0, 62.0, 46.0, 55.0, 38.0, 39.0, 41.0, 37.0, 41.0, 46.0, 37.0, 43.0, 39.0, 54.0, 53.0, 45.0, 40.0, 47.0, 46.0, 44.0, 40.0, 45.0, 38.0, 39.0, 40.0, 37.0, 37.0, 47.0, 45.0, 48.0, 48.0, 52.0, 50.0, 38.0, 48.0, 54.0, 42.0, 58.0, 39.0, 52.0, 47.0, 41.0, 47.0, 44.0, 40.0, 63.0, 44.0, 37.0, 42.0, 50.0, 44.0, 46.0, 43.0, 51.0, 42.0, 39.0, 37.0, 59.0, 40.0, 46.0, 49.0, 51.0, 42.0, 40.0, 37.0, 45.0, 42.0, 39.0, 47.0, 54.0, 45.0, 54.0, 47.0, 43.0, 53.0, 61.0, 58.0, 41.0, 44.0, 41.0, 40.0, 40.0, 48.0, 53.0, 40.0, 51.0, 39.0, 38.0, 52.0, 47.0, 69.0, 65.0, 56.0, 40.0, 64.0, 50.0, 44.0, 47.0, 49.0, 37.0, 58.0, 41.0, 39.0, 50.0, 41.0, 47.0, 37.0, 47.0, 43.0, 49.0, 45.0, 52.0, 40.0, 42.0, 44.0, 48.0, 50.0, 52.0, 44.0, 37.0, 50.0, 56.0, 39.0, 51.0, 43.0, 58.0, 37.0, 67.0, 54.0, 38.0, 37.0, 44.0, 42.0, 55.0, 42.0, 60.0, 50.0, 65.0, 49.0, 63.0, 59.0, 42.0, 51.0, 47.0, 38.0, 38.0, 40.0, 51.0, 42.0, 51.0, 40.0, 55.0, 40.0, 40.0, 52.0, 41.0, 45.0, 46.0, 41.0, 55.0, 63.0, 58.0, 69.0, 54.0, 51.0, 44.0, 39.0, 52.0, 39.0, 64.0, 57.0, 66.0, 62.0, 43.0, 46.0, 53.0, 47.0, 49.0, 38.0, 38.0, 42.0, 43.0, 50.0, 44.0, 47.0, 56.0, 46.0, 53.0, 47.0, 63.0, 37.0, 45.0, 46.0, 40.0, 38.0, 55.0, 43.0, 42.0, 42.0, 41.0, 43.0, 57.0, 54.0, 64.0, 57.0, 38.0, 56.0, 63.0, 60.0, 51.0, 50.0, 45.0, 42.0, 52.0, 40.0, 63.0, 41.0, 39.0, 38.0, 56.0, 59.0, 37.0, 44.0, 38.0, 42.0, 42.0, 51.0, 57.0, 46.0, 59.0, 40.0, 45.0, 43.0, 40.0, 44.0, 52.0, 63.0, 56.0, 47.0, 62.0, 40.0, 44.0, 37.0, 38.0, 54.0, 41.0, 56.0, 46.0, 47.0, 46.0, 39.0, 44.0, 45.0, 38.0, 39.0, 51.0, 42.0, 55.0, 44.0, 49.0, 41.0, 37.0, 54.0, 38.0, 54.0, 48.0, 52.0, 38.0, 41.0, 55.0, 43.0, 42.0, 43.0, 61.0, 41.0, 45.0, 53.0, 42.0, 58.0, 50.0, 45.0, 45.0, 51.0, 46.0, 48.0, 43.0, 42.0, 57.0, 42.0, 46.0, 44.0, 48.0, 47.0, 44.0, 45.0, 47.0, 37.0, 40.0, 46.0, 47.0, 52.0, 41.0, 47.0, 65.0, 44.0, 41.0, 38.0, 44.0, 54.0, 51.0, 38.0, 70.0, 42.0, 38.0, 48.0, 48.0, 43.0, 38.0, 37.0, 38.0, 44.0, 55.0, 54.0, 63.0, 48.0, 40.0, 52.0, 65.0, 46.0, 51.0, 38.0, 39.0, 45.0, 41.0, 52.0, 39.0, 48.0, 49.0, 53.0, 47.0, 39.0, 59.0, 39.0, 40.0, 41.0, 48.0, 40.0, 39.0, 51.0, 38.0, 44.0, 59.0, 40.0, 43.0, 44.0, 40.0, 38.0, 37.0, 45.0, 38.0, 49.0, 44.0, 37.0, 50.0, 40.0, 48.0, 37.0, 42.0, 40.0, 61.0, 60.0, 37.0, 37.0, 40.0, 39.0, 39.0, 48.0, 60.0, 42.0, 54.0, 53.0, 48.0, 49.0, 39.0, 39.0, 62.0, 48.0, 50.0, 39.0, 43.0, 38.0, 53.0, 39.0, 54.0, 44.0, 64.0, 44.0, 40.0, 45.0, 48.0, 41.0, 55.0, 40.0, 44.0, 41.0, 53.0, 55.0, 51.0, 49.0, 44.0, 41.0, 52.0, 41.0, 46.0, 38.0, 37.0, 45.0, 47.0, 64.0, 65.0, 44.0, 39.0, 54.0, 41.0, 40.0, 44.0, 46.0, 59.0, 53.0, 50.0, 53.0, 40.0, 57.0, 52.0, 40.0, 41.0, 56.0, 39.0, 37.0, 53.0, 49.0, 45.0, 40.0, 53.0, 44.0, 48.0, 39.0, 46.0, 51.0, 40.0, 39.0, 54.0, 67.0, 55.0, 71.0, 51.0, 42.0, 67.0, 51.0, 52.0, 43.0, 54.0, 40.0, 44.0, 54.0, 41.0, 47.0, 47.0, 38.0, 41.0, 42.0, 42.0, 41.0, 54.0, 42.0, 44.0, 44.0, 40.0, 46.0, 52.0, 46.0, 48.0, 43.0, 68.0, 52.0, 53.0, 39.0, 40.0, 42.0, 41.0, 70.0, 39.0, 37.0, 40.0, 66.0, 54.0, 49.0, 38.0, 66.0, 50.0, 43.0, 41.0, 49.0, 46.0, 47.0, 46.0, 37.0, 44.0, 48.0, 52.0, 52.0, 43.0, 44.0, 50.0, 39.0, 41.0, 53.0, 48.0, 48.0, 42.0, 42.0, 57.0, 37.0, 61.0, 61.0, 41.0, 52.0, 41.0, 51.0, 47.0, 49.0, 40.0, 45.0, 48.0, 61.0, 51.0, 65.0, 42.0, 56.0, 57.0, 43.0, 38.0, 39.0, 51.0, 44.0, 53.0, 40.0, 58.0, 52.0, 43.0, 58.0, 46.0, 38.0, 64.0, 71.0, 45.0, 51.0, 41.0, 44.0, 42.0, 38.0, 43.0, 37.0, 38.0, 43.0, 48.0, 41.0, 37.0, 54.0, 58.0, 68.0, 39.0, 65.0, 38.0, 45.0, 39.0, 39.0, 64.0, 48.0, 47.0, 40.0, 54.0, 51.0, 62.0, 48.0, 61.0, 40.0, 56.0, 48.0, 53.0, 47.0, 38.0, 48.0, 44.0, 45.0, 53.0, 44.0, 48.0, 48.0, 45.0, 44.0, 57.0, 69.0, 62.0, 37.0, 46.0, 38.0, 60.0, 49.0, 51.0, 53.0, 42.0, 40.0, 41.0, 37.0, 58.0, 42.0, 46.0, 53.0, 42.0, 45.0, 44.0, 49.0, 41.0, 45.0, 54.0], \"y0\": \" \", \"yaxis\": \"y\"}],\n",
              "                        {\"boxmode\": \"group\", \"legend\": {\"tracegroupgap\": 0}, \"template\": {\"data\": {\"bar\": [{\"error_x\": {\"color\": \"#2a3f5f\"}, \"error_y\": {\"color\": \"#2a3f5f\"}, \"marker\": {\"line\": {\"color\": \"#E5ECF6\", \"width\": 0.5}}, \"type\": \"bar\"}], \"barpolar\": [{\"marker\": {\"line\": {\"color\": \"#E5ECF6\", \"width\": 0.5}}, \"type\": \"barpolar\"}], \"carpet\": [{\"aaxis\": {\"endlinecolor\": \"#2a3f5f\", \"gridcolor\": \"white\", \"linecolor\": \"white\", \"minorgridcolor\": \"white\", \"startlinecolor\": \"#2a3f5f\"}, \"baxis\": {\"endlinecolor\": \"#2a3f5f\", \"gridcolor\": \"white\", \"linecolor\": \"white\", \"minorgridcolor\": \"white\", \"startlinecolor\": \"#2a3f5f\"}, \"type\": \"carpet\"}], \"choropleth\": [{\"colorbar\": {\"outlinewidth\": 0, \"ticks\": \"\"}, \"type\": \"choropleth\"}], \"contour\": [{\"colorbar\": {\"outlinewidth\": 0, \"ticks\": \"\"}, \"colorscale\": [[0.0, \"#0d0887\"], [0.1111111111111111, \"#46039f\"], [0.2222222222222222, \"#7201a8\"], [0.3333333333333333, \"#9c179e\"], [0.4444444444444444, \"#bd3786\"], [0.5555555555555556, \"#d8576b\"], [0.6666666666666666, \"#ed7953\"], [0.7777777777777778, \"#fb9f3a\"], [0.8888888888888888, \"#fdca26\"], [1.0, \"#f0f921\"]], \"type\": \"contour\"}], \"contourcarpet\": [{\"colorbar\": {\"outlinewidth\": 0, \"ticks\": \"\"}, \"type\": \"contourcarpet\"}], \"heatmap\": [{\"colorbar\": {\"outlinewidth\": 0, \"ticks\": \"\"}, \"colorscale\": [[0.0, \"#0d0887\"], [0.1111111111111111, \"#46039f\"], [0.2222222222222222, \"#7201a8\"], [0.3333333333333333, \"#9c179e\"], [0.4444444444444444, \"#bd3786\"], [0.5555555555555556, \"#d8576b\"], [0.6666666666666666, \"#ed7953\"], [0.7777777777777778, \"#fb9f3a\"], [0.8888888888888888, \"#fdca26\"], [1.0, \"#f0f921\"]], \"type\": \"heatmap\"}], \"heatmapgl\": [{\"colorbar\": {\"outlinewidth\": 0, \"ticks\": \"\"}, \"colorscale\": [[0.0, \"#0d0887\"], [0.1111111111111111, \"#46039f\"], [0.2222222222222222, \"#7201a8\"], [0.3333333333333333, \"#9c179e\"], [0.4444444444444444, \"#bd3786\"], [0.5555555555555556, \"#d8576b\"], [0.6666666666666666, \"#ed7953\"], [0.7777777777777778, \"#fb9f3a\"], [0.8888888888888888, \"#fdca26\"], [1.0, \"#f0f921\"]], \"type\": \"heatmapgl\"}], \"histogram\": [{\"marker\": {\"colorbar\": {\"outlinewidth\": 0, \"ticks\": \"\"}}, \"type\": \"histogram\"}], \"histogram2d\": [{\"colorbar\": {\"outlinewidth\": 0, \"ticks\": \"\"}, \"colorscale\": [[0.0, \"#0d0887\"], [0.1111111111111111, \"#46039f\"], [0.2222222222222222, \"#7201a8\"], [0.3333333333333333, \"#9c179e\"], [0.4444444444444444, \"#bd3786\"], [0.5555555555555556, \"#d8576b\"], [0.6666666666666666, \"#ed7953\"], [0.7777777777777778, \"#fb9f3a\"], [0.8888888888888888, \"#fdca26\"], [1.0, \"#f0f921\"]], \"type\": \"histogram2d\"}], \"histogram2dcontour\": [{\"colorbar\": {\"outlinewidth\": 0, \"ticks\": \"\"}, \"colorscale\": [[0.0, \"#0d0887\"], [0.1111111111111111, \"#46039f\"], [0.2222222222222222, \"#7201a8\"], [0.3333333333333333, \"#9c179e\"], [0.4444444444444444, \"#bd3786\"], [0.5555555555555556, \"#d8576b\"], [0.6666666666666666, \"#ed7953\"], [0.7777777777777778, \"#fb9f3a\"], [0.8888888888888888, \"#fdca26\"], [1.0, \"#f0f921\"]], \"type\": \"histogram2dcontour\"}], \"mesh3d\": [{\"colorbar\": {\"outlinewidth\": 0, \"ticks\": \"\"}, \"type\": \"mesh3d\"}], \"parcoords\": [{\"line\": {\"colorbar\": {\"outlinewidth\": 0, \"ticks\": \"\"}}, \"type\": \"parcoords\"}], \"pie\": [{\"automargin\": true, \"type\": \"pie\"}], \"scatter\": [{\"marker\": {\"colorbar\": {\"outlinewidth\": 0, \"ticks\": \"\"}}, \"type\": \"scatter\"}], \"scatter3d\": [{\"line\": {\"colorbar\": {\"outlinewidth\": 0, \"ticks\": \"\"}}, \"marker\": {\"colorbar\": {\"outlinewidth\": 0, \"ticks\": \"\"}}, \"type\": \"scatter3d\"}], \"scattercarpet\": [{\"marker\": {\"colorbar\": {\"outlinewidth\": 0, \"ticks\": \"\"}}, \"type\": \"scattercarpet\"}], \"scattergeo\": [{\"marker\": {\"colorbar\": {\"outlinewidth\": 0, \"ticks\": \"\"}}, \"type\": \"scattergeo\"}], \"scattergl\": [{\"marker\": {\"colorbar\": {\"outlinewidth\": 0, \"ticks\": \"\"}}, \"type\": \"scattergl\"}], \"scattermapbox\": [{\"marker\": {\"colorbar\": {\"outlinewidth\": 0, \"ticks\": \"\"}}, \"type\": \"scattermapbox\"}], \"scatterpolar\": [{\"marker\": {\"colorbar\": {\"outlinewidth\": 0, \"ticks\": \"\"}}, \"type\": \"scatterpolar\"}], \"scatterpolargl\": [{\"marker\": {\"colorbar\": {\"outlinewidth\": 0, \"ticks\": \"\"}}, \"type\": \"scatterpolargl\"}], \"scatterternary\": [{\"marker\": {\"colorbar\": {\"outlinewidth\": 0, \"ticks\": \"\"}}, \"type\": \"scatterternary\"}], \"surface\": [{\"colorbar\": {\"outlinewidth\": 0, \"ticks\": \"\"}, \"colorscale\": [[0.0, \"#0d0887\"], [0.1111111111111111, \"#46039f\"], [0.2222222222222222, \"#7201a8\"], [0.3333333333333333, \"#9c179e\"], [0.4444444444444444, \"#bd3786\"], [0.5555555555555556, \"#d8576b\"], [0.6666666666666666, \"#ed7953\"], [0.7777777777777778, \"#fb9f3a\"], [0.8888888888888888, \"#fdca26\"], [1.0, \"#f0f921\"]], \"type\": \"surface\"}], \"table\": [{\"cells\": {\"fill\": {\"color\": \"#EBF0F8\"}, \"line\": {\"color\": \"white\"}}, \"header\": {\"fill\": {\"color\": \"#C8D4E3\"}, \"line\": {\"color\": \"white\"}}, \"type\": \"table\"}]}, \"layout\": {\"annotationdefaults\": {\"arrowcolor\": \"#2a3f5f\", \"arrowhead\": 0, \"arrowwidth\": 1}, \"coloraxis\": {\"colorbar\": {\"outlinewidth\": 0, \"ticks\": \"\"}}, \"colorscale\": {\"diverging\": [[0, \"#8e0152\"], [0.1, \"#c51b7d\"], [0.2, \"#de77ae\"], [0.3, \"#f1b6da\"], [0.4, \"#fde0ef\"], [0.5, \"#f7f7f7\"], [0.6, \"#e6f5d0\"], [0.7, \"#b8e186\"], [0.8, \"#7fbc41\"], [0.9, \"#4d9221\"], [1, \"#276419\"]], \"sequential\": [[0.0, \"#0d0887\"], [0.1111111111111111, \"#46039f\"], [0.2222222222222222, \"#7201a8\"], [0.3333333333333333, \"#9c179e\"], [0.4444444444444444, \"#bd3786\"], [0.5555555555555556, \"#d8576b\"], [0.6666666666666666, \"#ed7953\"], [0.7777777777777778, \"#fb9f3a\"], [0.8888888888888888, \"#fdca26\"], [1.0, \"#f0f921\"]], \"sequentialminus\": [[0.0, \"#0d0887\"], [0.1111111111111111, \"#46039f\"], [0.2222222222222222, \"#7201a8\"], [0.3333333333333333, \"#9c179e\"], [0.4444444444444444, \"#bd3786\"], [0.5555555555555556, \"#d8576b\"], [0.6666666666666666, \"#ed7953\"], [0.7777777777777778, \"#fb9f3a\"], [0.8888888888888888, \"#fdca26\"], [1.0, \"#f0f921\"]]}, \"colorway\": [\"#636efa\", \"#EF553B\", \"#00cc96\", \"#ab63fa\", \"#FFA15A\", \"#19d3f3\", \"#FF6692\", \"#B6E880\", \"#FF97FF\", \"#FECB52\"], \"font\": {\"color\": \"#2a3f5f\"}, \"geo\": {\"bgcolor\": \"white\", \"lakecolor\": \"white\", \"landcolor\": \"#E5ECF6\", \"showlakes\": true, \"showland\": true, \"subunitcolor\": \"white\"}, \"hoverlabel\": {\"align\": \"left\"}, \"hovermode\": \"closest\", \"mapbox\": {\"style\": \"light\"}, \"paper_bgcolor\": \"white\", \"plot_bgcolor\": \"#E5ECF6\", \"polar\": {\"angularaxis\": {\"gridcolor\": \"white\", \"linecolor\": \"white\", \"ticks\": \"\"}, \"bgcolor\": \"#E5ECF6\", \"radialaxis\": {\"gridcolor\": \"white\", \"linecolor\": \"white\", \"ticks\": \"\"}}, \"scene\": {\"xaxis\": {\"backgroundcolor\": \"#E5ECF6\", \"gridcolor\": \"white\", \"gridwidth\": 2, \"linecolor\": \"white\", \"showbackground\": true, \"ticks\": \"\", \"zerolinecolor\": \"white\"}, \"yaxis\": {\"backgroundcolor\": \"#E5ECF6\", \"gridcolor\": \"white\", \"gridwidth\": 2, \"linecolor\": \"white\", \"showbackground\": true, \"ticks\": \"\", \"zerolinecolor\": \"white\"}, \"zaxis\": {\"backgroundcolor\": \"#E5ECF6\", \"gridcolor\": \"white\", \"gridwidth\": 2, \"linecolor\": \"white\", \"showbackground\": true, \"ticks\": \"\", \"zerolinecolor\": \"white\"}}, \"shapedefaults\": {\"line\": {\"color\": \"#2a3f5f\"}}, \"ternary\": {\"aaxis\": {\"gridcolor\": \"white\", \"linecolor\": \"white\", \"ticks\": \"\"}, \"baxis\": {\"gridcolor\": \"white\", \"linecolor\": \"white\", \"ticks\": \"\"}, \"bgcolor\": \"#E5ECF6\", \"caxis\": {\"gridcolor\": \"white\", \"linecolor\": \"white\", \"ticks\": \"\"}}, \"title\": {\"x\": 0.05}, \"xaxis\": {\"automargin\": true, \"gridcolor\": \"white\", \"linecolor\": \"white\", \"ticks\": \"\", \"title\": {\"standoff\": 15}, \"zerolinecolor\": \"white\", \"zerolinewidth\": 2}, \"yaxis\": {\"automargin\": true, \"gridcolor\": \"white\", \"linecolor\": \"white\", \"ticks\": \"\", \"title\": {\"standoff\": 15}, \"zerolinecolor\": \"white\", \"zerolinewidth\": 2}}}, \"title\": {\"text\": \"Edad por creatividad\"}, \"xaxis\": {\"anchor\": \"y\", \"domain\": [0.0, 1.0], \"title\": {\"text\": \"personalizacion\"}}, \"yaxis\": {\"anchor\": \"x\", \"domain\": [0.0, 1.0], \"title\": {\"text\": \"age\"}}},\n",
              "                        {\"responsive\": true}\n",
              "                    ).then(function(){\n",
              "                            \n",
              "var gd = document.getElementById('008de69d-392b-4a02-871d-e9b32bcd6937');\n",
              "var x = new MutationObserver(function (mutations, observer) {{\n",
              "        var display = window.getComputedStyle(gd).display;\n",
              "        if (!display || display === 'none') {{\n",
              "            console.log([gd, 'removed!']);\n",
              "            Plotly.purge(gd);\n",
              "            observer.disconnect();\n",
              "        }}\n",
              "}});\n",
              "\n",
              "// Listen for the removal of the full notebook cells\n",
              "var notebookContainer = gd.closest('#notebook-container');\n",
              "if (notebookContainer) {{\n",
              "    x.observe(notebookContainer, {childList: true});\n",
              "}}\n",
              "\n",
              "// Listen for the clearing of the current output cell\n",
              "var outputEl = gd.closest('.output');\n",
              "if (outputEl) {{\n",
              "    x.observe(outputEl, {childList: true});\n",
              "}}\n",
              "\n",
              "                        })\n",
              "                };\n",
              "                \n",
              "            </script>\n",
              "        </div>\n",
              "</body>\n",
              "</html>"
            ]
          },
          "metadata": {
            "tags": []
          }
        }
      ]
    },
    {
      "cell_type": "code",
      "metadata": {
        "colab": {
          "base_uri": "https://localhost:8080/",
          "height": 542
        },
        "id": "9n56N00oTYio",
        "outputId": "f52eeb33-161e-4ffe-924a-95888670124d"
      },
      "source": [
        "fig_sal= px.box(X_processed[X_processed['salary']<np.quantile(X_processed['salary'],q=0.95)], x='personalizacion', y=\"salary\",title='Salario por creatividad')\n",
        "fig_sal.show()"
      ],
      "id": "9n56N00oTYio",
      "execution_count": null,
      "outputs": [
        {
          "output_type": "display_data",
          "data": {
            "text/html": [
              "<html>\n",
              "<head><meta charset=\"utf-8\" /></head>\n",
              "<body>\n",
              "    <div>\n",
              "            <script src=\"https://cdnjs.cloudflare.com/ajax/libs/mathjax/2.7.5/MathJax.js?config=TeX-AMS-MML_SVG\"></script><script type=\"text/javascript\">if (window.MathJax) {MathJax.Hub.Config({SVG: {font: \"STIX-Web\"}});}</script>\n",
              "                <script type=\"text/javascript\">window.PlotlyConfig = {MathJaxConfig: 'local'};</script>\n",
              "        <script src=\"https://cdn.plot.ly/plotly-latest.min.js\"></script>    \n",
              "            <div id=\"fd948d2c-0904-4970-a9a2-5507c9bc9d5d\" class=\"plotly-graph-div\" style=\"height:525px; width:100%;\"></div>\n",
              "            <script type=\"text/javascript\">\n",
              "                \n",
              "                    window.PLOTLYENV=window.PLOTLYENV || {};\n",
              "                    \n",
              "                if (document.getElementById(\"fd948d2c-0904-4970-a9a2-5507c9bc9d5d\")) {\n",
              "                    Plotly.newPlot(\n",
              "                        'fd948d2c-0904-4970-a9a2-5507c9bc9d5d',\n",
              "                        [{\"alignmentgroup\": \"True\", \"hoverlabel\": {\"namelength\": 0}, \"hovertemplate\": \"personalizacion=%{x}<br>salary=%{y}\", \"legendgroup\": \"\", \"marker\": {\"color\": \"#636efa\"}, \"name\": \"\", \"notched\": false, \"offsetgroup\": \"\", \"orientation\": \"v\", \"showlegend\": false, \"type\": \"box\", \"x\": [3, 3, 3, 3, 3, 3, 3, 2, 2, 2, 2, 2, 3, 3, 3, 3, 2, 2, 2, 2, 2, 2, 2, 2, 2, 2, 2, 2, 2, 2, 2, 2, 2, 2, 2, 2, 2, 2, 2, 2, 2, 3, 2, 2, 2, 2, 3, 3, 3, 3, 3, 2, 2, 2, 2, 2, 2, 2, 2, 2, 2, 2, 2, 2, 2, 2, 2, 2, 2, 2, 2, 2, 2, 2, 2, 2, 2, 2, 2, 2, 2, 2, 2, 3, 2, 2, 2, 2, 3, 2, 2, 2, 2, 2, 2, 2, 2, 2, 2, 2, 2, 2, 2, 2, 2, 2, 2, 2, 3, 2, 2, 2, 2, 2, 2, 2, 2, 2, 2, 2, 2, 2, 2, 2, 2, 2, 2, 2, 2, 2, 2, 2, 2, 2, 2, 2, 2, 2, 2, 2, 2, 2, 2, 2, 2, 2, 2, 2, 2, 2, 2, 2, 2, 2, 2, 2, 2, 2, 2, 2, 1, 2, 2, 2, 2, 2, 2, 2, 2, 2, 2, 2, 2, 2, 2, 2, 2, 2, 2, 2, 2, 2, 2, 2, 2, 2, 2, 2, 2, 2, 2, 2, 2, 2, 2, 2, 2, 2, 2, 2, 2, 2, 2, 2, 2, 2, 2, 2, 2, 2, 2, 2, 2, 2, 2, 2, 2, 2, 2, 2, 2, 2, 2, 2, 2, 2, 2, 2, 2, 2, 2, 2, 2, 2, 3, 2, 2, 2, 2, 2, 2, 2, 2, 2, 2, 2, 2, 2, 2, 2, 2, 2, 2, 2, 2, 2, 2, 2, 2, 2, 2, 2, 2, 2, 2, 2, 2, 2, 2, 2, 2, 2, 2, 2, 2, 2, 2, 2, 2, 2, 2, 2, 2, 2, 2, 2, 2, 2, 2, 2, 2, 2, 2, 2, 2, 2, 2, 2, 2, 2, 2, 2, 2, 2, 1, 3, 2, 2, 2, 2, 2, 2, 2, 2, 2, 2, 2, 2, 2, 2, 2, 2, 3, 3, 2, 2, 2, 2, 2, 2, 2, 2, 2, 2, 2, 2, 2, 2, 2, 2, 2, 2, 2, 2, 2, 2, 2, 2, 2, 2, 2, 2, 2, 2, 2, 2, 2, 2, 2, 2, 2, 2, 2, 2, 2, 2, 2, 2, 2, 2, 2, 2, 2, 2, 2, 2, 2, 2, 2, 2, 2, 2, 2, 2, 2, 2, 2, 2, 2, 2, 2, 2, 2, 2, 2, 2, 2, 2, 2, 2, 2, 2, 2, 2, 2, 2, 2, 2, 2, 2, 2, 2, 2, 2, 2, 2, 2, 2, 2, 2, 2, 2, 2, 2, 2, 2, 2, 2, 2, 2, 2, 2, 2, 2, 2, 3, 1, 1, 2, 2, 2, 2, 2, 2, 2, 3, 2, 2, 2, 2, 2, 2, 2, 2, 2, 2, 2, 2, 2, 2, 2, 2, 2, 2, 2, 2, 2, 2, 1, 2, 2, 3, 1, 1, 2, 2, 2, 2, 2, 2, 2, 2, 2, 2, 2, 2, 2, 2, 2, 2, 2, 3, 2, 3, 3, 3, 3, 3, 3, 3, 3, 3, 3, 3, 3, 3, 3, 3, 3, 3, 3, 3, 3, 3, 3, 3, 3, 3, 3, 3, 3, 3, 1, 3, 3, 3, 3, 3, 3, 3, 3, 3, 3, 3, 3, 2, 2, 2, 2, 2, 2, 2, 2, 3, 2, 2, 2, 1, 3, 2, 2, 2, 2, 2, 2, 2, 2, 2, 2, 2, 2, 2, 2, 2, 2, 2, 2, 2, 2, 2, 2, 2, 2, 2, 2, 2, 3, 1, 2, 2, 2, 2, 2, 2, 2, 2, 2, 2, 2, 2, 2, 2, 2, 2, 2, 2, 2, 2, 2, 2, 2, 2, 2, 2, 2, 2, 2, 2, 2, 2, 2, 2, 2, 2, 2, 3, 2, 2, 2, 2, 2, 2, 2, 2, 2, 2, 2, 2, 3, 2, 2, 2, 2, 2, 2, 2, 2, 2, 2, 2, 2, 2, 2, 2, 1, 2, 2, 2, 2, 2, 2, 2, 2, 2, 2, 3, 3, 2, 2, 2, 2, 2, 2, 2, 2, 2, 2, 2, 2, 2, 2, 1, 2, 2, 2, 2, 1, 2, 2, 2, 2, 2, 2, 2, 2, 2, 2, 2, 2, 2, 2, 2, 2, 3, 2, 3, 3, 2, 2, 2, 2, 1, 2, 2, 1, 3, 2, 2, 2, 2, 2, 2, 2, 2, 2, 2, 2, 2, 2, 2, 2, 2, 2, 2, 2, 2, 2, 2, 2, 2, 2, 2, 2, 2, 0, 3, 2, 2, 2, 2, 2, 2, 2, 2, 2, 2, 2, 2, 2, 2, 2, 2, 2, 2, 2, 2, 2, 2, 2, 2, 2, 2, 2, 2, 2, 3, 3, 3, 3, 3, 3, 3, 2, 2, 2, 2, 2, 2, 2, 2, 2, 2, 2, 2, 3, 3, 3, 3, 3, 3, 3, 2, 2, 2, 1, 2, 2, 3, 3, 3, 3, 3, 1, 3, 2, 2, 2, 2, 2, 3, 2, 3, 3, 3, 3, 3, 3, 3, 1, 3, 2, 2, 2, 2, 2, 2, 2, 2, 2, 2, 2, 2, 2, 2, 2, 2, 2, 2, 2, 2, 2, 2, 2, 2, 2, 2, 2, 2, 2, 2, 2, 2, 2, 2, 2, 0, 3, 1, 2, 3, 3, 1, 3, 3, 0, 2, 2, 2, 2, 2, 2, 2, 2, 2, 2, 2, 2, 2, 2, 2, 2, 2, 2, 2, 2, 2, 2, 2, 2, 2, 2, 2, 2, 2, 2, 2, 2, 2, 2, 2, 2, 2, 2, 2, 2, 2, 2, 2, 2, 2, 0, 0, 2, 2, 2, 2, 2, 2, 2, 2, 2, 2, 2, 2, 2, 2, 2, 2, 2, 2, 2, 2, 2, 2, 2, 2, 2, 2, 2, 2, 2, 2, 2, 2, 2, 2, 2, 2, 2, 2, 2, 2, 2, 2, 3, 3, 1, 3, 3, 2, 3, 2, 2, 2, 2, 2, 2, 2, 2, 2, 2, 2, 2, 2, 2, 2, 2, 3, 3, 2, 3, 2, 3, 1, 2, 2, 2, 2, 2, 2, 2, 2, 2, 2, 2, 2, 2, 2, 2, 1, 2, 3, 2, 2, 2, 2, 2, 2, 2, 2, 3, 2, 2, 2, 2, 0, 3, 2, 2, 2, 2, 2, 2, 2, 2, 2, 2, 2, 2, 2, 2, 2, 2, 2, 2, 2, 2, 2, 2, 2, 2, 2, 2, 2, 2, 2, 2, 2, 2, 2, 2, 2, 2, 2, 3, 3, 3, 1, 2, 2, 2, 3, 3, 2, 2, 2, 2, 2, 2, 2, 2, 2, 2, 2, 2, 2, 2, 2, 2, 2, 2, 2, 2, 2, 2, 2, 2, 2, 2, 2, 1, 2, 2, 2, 2, 2, 2, 2, 2, 2, 2, 2, 2, 2, 2, 2, 2, 2, 2, 2, 2, 2, 2, 2, 2, 2, 2, 2, 3, 3, 3, 3, 1, 3, 1, 3, 2, 2, 2, 2, 2, 2, 1, 2, 2, 2, 2, 2, 2, 2, 2, 2, 2, 2, 2, 2, 2, 2, 2, 2, 2, 2, 2, 2, 2, 2, 2, 2, 2, 2, 2, 2, 2, 2, 2, 2, 2, 2, 2, 2, 2, 2, 3, 2, 0, 2, 2, 2, 2, 2, 2, 2, 2, 2, 0, 2, 1, 1, 1, 1, 1, 2, 2, 1, 3, 1, 2, 2, 2, 2, 2, 2, 2, 2, 2, 2, 2, 2, 2, 2, 2, 2, 2, 2, 2, 2, 2, 2, 2, 2, 2, 2, 2, 2, 2, 2, 2, 2, 2, 2, 2, 2, 2, 2, 2, 2, 2, 2, 2, 2, 2, 2, 1, 1, 1, 2, 2, 2, 2, 2, 2, 2, 2, 2, 2, 2, 2, 2, 2, 2, 2, 2, 2, 2, 2, 2, 1, 1, 1, 2, 0, 2, 2, 3, 1, 1, 1, 3, 2, 2, 2, 2, 2, 2, 2, 2, 2, 2, 3, 3, 1, 1, 2, 3, 3, 3, 3, 3, 1, 1, 1, 1, 3, 3, 3, 3, 2, 2, 2, 2, 2, 2, 2, 2, 2, 2, 2, 2, 2, 2, 2, 2, 2, 2, 2, 2, 2, 2, 2, 1, 1, 1, 3, 1, 2, 1, 1, 1, 2, 2, 2, 2, 2, 2, 2, 2, 2, 2, 2, 2, 2, 2, 2, 2, 2, 2, 2, 2, 2, 2, 2, 2, 2, 2, 2, 0, 1, 2, 3, 2, 3, 2, 2, 1, 2, 3, 3, 2, 2, 2, 2, 3, 1, 2, 1, 3, 2, 2, 2, 2, 2, 2, 2, 2, 2, 1, 3, 2, 2, 2, 2, 2, 2, 1, 2, 2, 1, 2, 2, 2, 2, 2, 2, 2, 2, 2, 2, 2, 2, 2, 2, 2, 2, 2, 2, 2, 3, 2, 2, 3, 1, 2, 2, 2, 2, 2, 2, 2, 2, 2, 2, 2, 2, 2, 2, 2, 2, 2, 2, 2, 2, 2, 2, 2, 2, 2, 2, 2, 2, 2, 2, 2, 2, 2, 2, 1, 1, 1, 2, 2, 2, 2, 1, 3, 2, 1, 2, 2, 2, 2, 2, 2, 1, 2, 2, 2, 2, 2, 2, 2, 2, 2, 2, 2, 1, 1, 1, 1, 1, 1, 1, 2, 3, 3, 3, 2, 2, 2, 2, 2, 2, 2, 2, 2, 2, 2, 2, 2, 2, 1, 0, 3, 2, 2, 3, 1, 1, 3, 2, 2, 2, 2, 2, 2, 2, 1, 1, 1, 3, 1, 3, 1, 3, 1, 3, 3, 0, 0, 0, 3, 2, 2, 2, 2, 1, 1, 3, 2, 0, 2, 2, 2, 2, 2, 2, 2, 2, 2, 2, 2, 2, 2, 3, 3, 3, 2, 2, 2, 2, 2, 2, 2, 2, 2, 2, 2, 2, 0, 3, 3, 1, 1, 1, 2, 1, 3, 3, 2, 2, 2, 2, 2, 2, 2, 2, 2, 2, 3, 1, 2, 2, 2, 2, 2, 1, 1, 1, 1, 1, 1, 2, 0, 3, 3, 2, 1, 1, 0, 2, 2, 2, 3, 3, 2, 2, 2, 2, 2, 2, 1, 2, 2, 2, 2, 2, 2, 2, 2, 2, 2, 2, 2, 2, 2, 2, 2, 2, 2, 2, 2, 2, 2, 2, 2, 2, 2, 2, 2, 2, 2, 1, 3, 2, 2, 2, 1, 1, 1, 2, 2, 1, 0, 0, 2, 2, 2, 2, 2, 2, 2, 2, 2, 2, 2, 0, 0, 2, 2, 2, 2, 2, 2, 2, 2, 2, 2, 2, 2, 1, 3, 2, 1, 1, 1, 3, 2, 2, 2, 2, 2, 2, 2, 2, 3, 3, 3, 3, 1, 3, 2, 2, 2, 0, 2, 3, 1, 1, 3, 2, 1, 3, 2, 2, 2, 2, 2, 1, 1, 3, 1, 3, 3, 1, 3, 2, 2, 2, 1, 1, 3, 2, 2, 3, 1, 3, 2, 1, 2, 2, 2, 2, 1, 1, 3, 2, 3, 2, 2, 2, 2, 2, 1, 1, 1, 2, 2, 2, 2, 2, 3, 3, 3, 3, 3, 3, 3, 3, 3, 3, 3, 3, 3, 3, 3, 3, 3, 3, 3, 3, 3, 3, 3, 3, 3, 3, 3, 1, 3, 3, 3, 3, 3, 3, 3, 3, 3, 3, 3, 1, 3, 3, 3, 3, 3, 3, 3, 3, 3, 3, 3, 3, 3, 3, 3, 3, 3, 3, 3, 3, 3, 3, 3, 3, 3, 3, 3, 3, 3, 3, 3, 3, 3, 3, 3, 3, 3, 3, 3, 3, 3, 3, 3, 3, 3, 3, 3, 3, 3, 3, 3, 3, 3, 3, 3, 3, 3, 3, 3, 3, 3, 3, 3, 3, 3, 3, 3, 3, 3, 3, 3, 3, 3, 3, 3, 3, 3, 3, 3, 3, 3, 3, 3, 3, 3, 3, 3, 3, 3, 3, 3, 3, 3, 3, 3, 3, 3, 3, 3, 3, 3, 3, 3, 3, 3, 3, 3, 3, 3, 3, 3, 3, 3, 3, 3, 3, 3, 3, 3, 3, 3, 3, 3, 3, 3, 3, 3, 3, 3, 3, 3, 3, 3, 3, 3, 3, 3, 3, 3, 3, 3, 3, 3, 3, 3, 3, 3, 3, 3, 3, 3, 3, 3, 3, 3, 3, 3, 3, 3, 3, 3, 3, 3, 3, 3, 3, 3, 3, 3, 3, 3, 3, 3, 3, 3, 3, 3, 3, 3, 3, 3, 3, 3, 3, 3, 3, 3, 3, 3, 3, 3, 3, 3, 3, 3, 3, 3, 3, 3, 3, 3, 3, 3, 3, 3, 3, 3, 3, 3, 3, 3, 3, 3, 3, 3, 3, 3, 1, 3, 3, 3, 3, 3, 3, 3, 3, 3, 3, 3, 3, 3, 3, 3, 3, 3, 3, 3, 3, 3, 3, 3, 3, 3, 3, 1, 3, 3, 3, 3, 3, 3, 3, 3, 3, 3, 3, 3, 3, 3, 3, 3, 3, 3, 3, 3, 3, 3, 3, 3, 3, 3, 3, 3, 3, 3, 3, 3, 3, 3, 3, 3, 3, 3, 3, 3, 3, 3, 3, 3, 3, 3, 3, 3, 3, 3, 3, 3, 3, 3, 3, 3, 3, 3, 3, 3, 3, 3, 3, 3, 3, 3, 3, 3, 3, 3, 3, 3, 3, 3, 3, 3, 3, 3, 3, 3, 3, 3, 3, 3, 3, 3, 3, 3, 3, 3, 3, 3, 3, 3, 3, 3, 3, 3, 3, 3, 3, 3, 3, 3, 3, 3, 3, 3, 3, 3, 3, 3, 3, 3, 3, 3, 3, 3, 3, 3, 3, 3, 3, 3, 3, 3, 3, 3, 3, 3, 3, 3, 3, 3, 3, 3, 3, 3, 3, 3, 3, 3, 3, 3, 3, 1, 3, 3, 3, 3, 3, 3, 3, 3, 3, 3, 3, 3, 3, 3, 3, 3, 3, 3, 3, 3, 3, 3, 3, 3, 3, 3, 3, 3, 3, 3, 3, 3, 3, 3, 3, 3, 3, 3, 3, 3, 3, 3, 3, 3, 3, 3, 3, 3, 3, 3, 3, 3, 3, 3, 3, 3, 3, 3, 3, 3, 3, 3, 3, 3, 3, 3, 3, 3, 3, 3, 3, 3, 3, 3, 3, 3, 3, 3, 3, 3, 3, 3, 3, 3, 3, 3, 3, 3, 3, 3, 3, 3, 3, 3, 3, 3, 3, 3, 3, 3, 3, 3, 3, 3, 3, 3, 3, 3, 3, 3, 3, 3, 3, 3, 3, 3, 3, 3, 3, 3, 3, 3, 3, 3, 3, 3, 3, 3, 3, 3, 3, 3, 3, 3, 3, 3, 3, 3, 3, 3, 3, 3, 3, 3, 3, 3, 3, 3, 3, 3, 3, 3, 3, 3, 3, 3, 3, 3, 3, 3, 3, 3, 3, 3, 3, 3, 3, 3, 3, 3, 3, 3, 3, 3, 3, 3, 3, 3, 3, 3, 3, 3, 3, 3, 3, 3, 3, 3, 3, 3, 3, 3, 3, 3, 3, 3, 3, 3, 3, 3, 3, 3, 3, 3, 3, 3, 3, 3, 3, 3, 3, 3, 3, 3, 3, 3, 3, 3, 3, 3, 3, 3, 3, 3, 3, 3, 3, 3, 3, 3, 3, 3, 3, 3, 3, 3, 3, 3, 3, 3, 3, 3, 3, 3, 3, 3, 3, 3, 3, 3, 3, 3, 3, 3, 3, 3, 3, 3, 3, 3, 3, 3, 3, 3, 3, 3, 3, 3, 3, 3, 3, 3, 3, 3, 3, 3, 3, 3, 3, 3, 3, 3, 3, 3, 3, 3, 3, 3, 3, 3, 3, 3, 3, 3, 3, 3, 3, 3, 3, 3, 3, 3, 3, 3, 3, 3, 3, 3, 3, 3, 3, 3, 3, 3, 3, 3, 3, 3, 3, 3, 3, 3, 3, 3, 3, 3, 3, 3, 3, 3, 3, 3, 3, 3, 3, 3, 3, 3, 3, 3, 3, 3, 3, 3, 3, 3, 3, 3, 3, 3, 3, 3, 3, 3, 3, 3, 3, 3, 3, 3, 3, 3, 3, 3, 3, 3, 3, 3, 3, 3, 3, 3, 3, 3, 3, 3, 3, 3, 3, 3, 3, 3, 3, 3, 3, 3, 3, 3, 3, 3, 3, 3, 3, 3, 3, 3, 3, 3, 3, 3, 3, 3, 3, 3, 3, 3, 3, 3, 3, 3, 3, 3, 3, 3, 3, 3, 3, 3, 3, 3, 3, 3, 3, 3, 3, 3, 3, 3, 3, 3, 3, 3, 3, 3, 3, 3, 3, 3, 3, 3, 3, 3, 3, 3, 3, 3, 3, 3, 3, 3, 3, 3, 3, 3, 3, 3, 3, 3, 3, 3, 3, 3, 3, 3, 3, 3, 3, 3, 3, 3, 3, 3, 3, 3, 3, 3, 3, 3, 3, 3, 3, 3, 3, 3, 3, 3, 3, 3, 3, 3, 3, 3, 3, 3, 3, 3, 3, 3, 1, 3, 3, 3, 3, 3, 3, 3, 3, 3, 3, 3, 3, 3, 3, 3, 3, 3, 3, 3, 3, 3, 3, 3, 3, 3, 3, 3, 3, 3, 3, 3, 3, 3, 3, 3, 3, 3, 3, 3, 3, 3, 3, 3, 3, 3, 3, 3, 3, 3, 3, 3, 3, 3, 3, 3, 3, 3, 3, 3, 3, 3, 3, 3, 3, 3, 3, 3, 3, 3, 3, 3, 3, 3, 3, 3, 3, 3, 3, 3, 3, 3, 3, 3, 3, 3, 3, 3, 3, 3, 3, 3, 3, 3, 3, 3, 3, 3, 3, 3, 3, 3, 3, 3, 3, 3, 3, 3, 3, 3, 3, 3, 3, 3, 3, 3, 3, 3, 3, 3, 3, 3, 3, 3, 3, 3, 3, 3, 3, 3, 3, 3, 3, 3, 3, 3, 3, 3, 3, 3, 3, 3, 3, 3, 3, 3, 3, 3, 3, 3, 3, 3, 3, 3, 3, 3, 3, 3, 3, 3, 3, 3, 3, 3, 3, 3, 3, 3, 3, 3, 3, 3, 3, 3, 3, 3, 3, 3, 3, 3, 3, 3, 3, 3, 3, 3, 3, 3, 3, 3, 3, 3, 3, 3, 3, 3, 3, 3, 3, 3, 3, 3, 3, 3, 3, 3, 3, 3, 3, 3, 3, 3, 3, 3, 3, 3, 3, 3, 3, 3, 3, 3, 3, 3, 3, 3, 3, 3, 3, 3, 3, 3, 3, 3, 3, 3, 3, 3, 3, 3, 3, 3, 3, 3, 3, 3, 3, 3, 3, 3, 3, 3, 3, 3, 3, 3, 3, 3, 3, 3, 3, 3, 3, 3, 3, 3, 3, 3, 3, 3, 3, 3, 3, 3, 3, 3, 3, 3, 3, 3, 3, 3, 3, 3, 3, 3, 3, 3, 3, 3, 3, 3, 3, 3, 3, 3, 3, 3, 3, 3, 3, 3, 3, 3, 3, 3, 3, 3, 3, 3, 3, 3, 3, 3, 3, 3, 3, 3, 3, 3, 3, 3, 3, 3, 3, 3, 3, 3, 3, 3, 3, 3, 3, 3, 3, 3, 3, 3, 3, 3, 3, 3, 3, 3, 3, 3, 3, 3, 3, 3, 3, 3, 3, 3, 3, 3, 3, 3, 3, 3, 3, 3, 3, 3, 3, 3, 3, 3, 3, 3, 3, 3, 3, 3, 3, 3, 3, 3, 3, 3, 3, 3, 3, 3, 3, 3, 3, 3, 3, 3, 3, 3, 3, 3, 3, 3, 3, 3, 3, 3, 3, 3, 3, 3, 3, 3, 3, 3, 3, 3, 3, 3, 3, 3, 3, 3, 3, 3, 3, 3, 3, 3, 3, 3, 3, 3, 3, 3, 3, 3, 3, 3, 3, 3, 3, 3, 3, 3, 3, 3, 3, 3, 3, 3, 3, 3, 3, 3, 3, 3, 3, 3, 3, 3, 3, 3, 3, 3, 3, 3, 3, 3, 3, 3, 3, 3, 3, 3, 3, 3, 3, 3, 3, 3, 3, 3, 3, 3, 3, 3, 3, 3, 3, 3, 3, 3, 3, 3, 3, 3, 3, 3, 3, 3, 3, 3, 3, 3, 3, 3, 3, 3, 3, 3, 3, 3, 3, 3, 3, 3, 3, 3, 3, 3, 3, 3, 3, 3, 3, 3, 3, 3, 3, 3, 3, 3, 3, 3, 3, 3, 3, 3, 3, 3, 3, 3, 3, 3, 3, 3, 3, 3, 3, 3, 3, 3, 3, 3, 3, 3, 3, 3, 3, 3, 3, 3, 3, 3, 3, 3, 3, 3, 3, 3, 3, 3, 3, 3, 3, 3, 3, 3, 3, 3, 3, 3, 3, 3, 3, 3, 3, 3, 3, 3, 3, 3, 3, 3, 3, 3, 3, 3, 3, 3, 3, 3, 3, 3, 3, 3, 3, 3, 3, 3, 3, 3, 3, 3, 3, 3, 3, 3, 3, 3, 3, 3, 3, 3, 3, 3, 3, 3, 3, 3, 3, 3, 3, 3, 3, 3, 3, 3, 3, 3, 3, 3, 3, 3, 3, 3, 3, 3, 3, 3, 3, 3, 3, 3, 3, 3, 3, 3, 3, 3, 3, 3, 1, 3, 3, 3, 3, 3, 3, 3, 3, 3, 3, 3, 3, 3, 3, 3, 3, 3, 3, 3, 3, 3, 3, 3, 3, 3, 3, 3, 3, 3, 3, 3, 3, 3, 3, 3, 3, 3, 3, 3, 3, 3, 3, 3, 3, 3, 3, 3, 3, 3, 3, 3, 3, 3, 3, 3, 3, 3, 3, 3, 3, 3, 3, 3, 3, 3, 3, 3, 3, 3, 3, 3, 3, 3, 3, 3, 3, 3, 3, 3, 3, 3, 3, 3, 3, 3, 3, 3, 3, 3, 3, 3, 3, 3, 3, 3, 3, 3, 3, 3, 3, 3, 3, 3, 3, 3, 3, 3, 3, 3, 3, 3, 3, 3, 3, 3, 3, 3, 3, 3, 3, 3, 3, 3, 3, 3, 3, 3, 3, 3, 3, 3, 3, 3, 3, 3, 3, 3, 3, 3, 3, 3, 3, 3, 3, 3, 3, 3, 3, 3, 3, 3, 3, 3, 3, 3, 3, 3, 3, 3, 3, 3, 3, 3, 3, 3, 3, 3, 3, 3, 3, 3, 3, 3, 3, 3, 3, 3, 3, 3, 3, 3, 3, 3, 3, 3, 3, 3, 3, 3, 3, 3, 3, 3, 3, 3, 3, 3, 3, 3, 3, 3, 3, 3, 3, 3, 3, 3, 3, 3, 3, 3, 3, 3, 3, 3, 3, 3, 3, 3, 3, 3, 3, 3, 3, 3, 3, 3, 3, 3, 3, 3, 3, 3, 3, 3, 3, 3, 3, 3, 3, 3, 3, 3, 3, 3, 3, 3, 3, 3, 3, 3, 3, 3, 3, 3, 3, 3, 3, 3, 3, 3, 3, 3, 3, 3, 3, 3, 3, 3, 3, 3, 3, 3, 3, 3, 3, 3, 3, 3, 3, 3, 3, 3, 3, 3, 3, 3, 3, 3, 3, 3, 3, 3, 3, 3, 3, 3, 3, 3, 3, 3, 3, 3, 3, 3, 3, 3, 3, 3, 3, 3, 3, 3, 3, 3, 3, 3, 3, 3, 3, 3, 3, 3, 3, 3, 3, 3, 3, 3, 3, 3, 3, 3, 3, 3, 3, 3, 3, 3, 3, 3, 3, 3, 3, 3, 3, 3, 3, 3, 3, 3, 3, 3, 3, 3, 3, 3, 3, 3, 3, 3, 3, 3, 3, 3, 3, 3, 3, 3, 3, 3, 3, 3, 3, 3, 3, 3, 3, 3, 0, 1, 1, 3, 1, 0, 3, 0, 1, 1, 0, 3, 1, 1, 1, 3, 0, 0, 0, 0, 0, 1, 1, 3, 0, 0, 1, 1, 0, 3, 0, 0, 0, 3, 3, 1, 1, 1, 1, 1, 0, 0, 3, 1, 0, 0, 3, 1, 0, 3, 1, 1, 3, 3, 3, 1, 3, 1, 1, 0, 0, 1, 3, 3, 1, 1, 1, 0, 3, 3, 0, 1, 3, 3, 0, 1, 1, 3, 0, 3, 0, 3, 3, 3, 1, 0, 0, 3, 3, 1, 0, 3, 0, 0, 1, 3, 1, 1, 1, 3, 1, 3, 3, 1, 0, 0, 1, 3, 3, 1, 1, 3, 0, 3, 3, 0, 1, 1, 0, 0, 1, 3, 1, 0, 0, 1, 0, 3, 3, 1, 3, 3, 0, 1, 0, 0, 0, 3, 0, 0, 0, 3, 0, 3, 1, 1, 3, 1, 3, 1, 0, 3, 0, 3, 1, 1, 0, 0, 3, 3, 3, 1, 3, 0, 0, 1, 0, 0, 0, 0, 0, 0, 3, 3, 0, 0, 0, 1, 0, 3, 0, 1, 0, 0, 1, 0, 0, 1, 1, 1, 0, 3, 0, 1, 0, 1, 3, 1, 0, 0, 3, 1, 0, 3, 1, 1, 0, 1, 0, 0, 3, 0, 1, 3, 0, 3, 0, 3, 0, 1, 1, 1, 0, 3, 0, 1, 0, 1, 0, 0, 1, 3, 0, 1, 0, 0, 0, 3, 0, 1, 3, 1, 1, 0, 0, 0, 3, 0, 3, 3, 1, 1, 0, 0, 0, 0, 1, 3, 3, 1, 3, 1, 0, 0, 3, 3, 1, 0, 1, 0, 0, 0, 0, 0, 0, 0, 3, 1, 1, 1, 3, 1, 0, 1, 1, 3, 3, 0, 0, 0, 3, 3, 1, 1, 3, 3, 3, 0, 0, 0, 1, 0, 0, 0, 0, 0, 1, 0, 0, 3, 0, 1, 0, 1, 0, 1, 0, 3, 0, 0, 0, 1, 0, 0, 1, 3, 0, 0, 1, 0, 3, 1, 0, 0, 3, 1, 0, 0, 0, 1, 1, 0, 1, 0, 3, 0, 3, 0, 3, 3, 0, 0, 0, 0, 1, 0, 3, 0, 0, 0, 1, 3, 1, 1, 1, 1, 3, 0, 0, 3, 3, 1, 1, 1, 1, 3, 3, 1, 1, 1, 1, 1, 0, 0, 1, 3, 3, 3, 1, 3, 1, 0, 0, 1, 3, 1, 0, 0, 0, 3, 3, 0, 1, 0, 1, 3, 1, 0, 0, 0, 1, 1, 1, 0, 3, 3, 1, 1, 0, 1, 1, 0, 3, 0, 0, 3, 1, 1, 1, 0, 1, 3, 3, 3, 3, 0, 3, 3, 1, 0, 1, 0, 1, 3, 3, 3, 1, 0, 0, 3, 3, 1, 1, 1, 3, 0, 3, 0, 0, 0, 0, 3, 0, 1, 0, 1, 1, 3, 3, 0, 3, 0, 0, 1, 1, 1, 1, 0, 1, 3, 0, 3, 1, 0, 0, 3, 0, 1, 0, 1, 0, 0, 1, 1, 0, 1, 3, 0, 0, 3, 0, 0, 1, 0, 1, 1, 0, 0, 1, 0, 1, 0, 3, 1, 3, 3, 3, 1, 1, 1, 3, 3, 3, 3, 1, 0, 1, 3, 1, 1, 3, 1, 3, 0, 1, 3, 3, 0, 0, 3, 3, 0, 1, 0, 1, 1, 1, 3, 3, 0, 1, 3, 0, 1, 0, 1, 3, 0, 3, 0, 1, 0, 1, 0, 0, 1, 0, 0, 1, 0, 3, 3, 0, 1, 1, 0, 3, 0, 1, 0, 0, 0, 1, 1, 1, 0, 1, 0, 3, 0, 1, 1, 0, 3, 0, 1, 0, 1, 1, 1, 0, 0, 0, 3, 0, 3, 0, 0, 0, 0, 0, 1, 0, 3, 1, 3, 0, 0, 1, 0, 0, 1, 3, 3, 0, 3, 3, 1, 1, 1, 3, 0, 1, 3, 3, 0, 3, 1, 1, 1, 1, 1, 0, 3, 0, 1, 0, 0, 0, 1, 1, 3, 0, 3, 0, 1, 1, 1, 1, 0, 0, 1, 0, 1, 3, 3, 0, 3, 0, 0, 1, 1, 1, 3, 1, 3, 0, 3, 3, 3, 0, 1, 3, 3, 1, 0, 0, 0, 0, 1, 3, 0, 1, 1, 0, 0, 3, 3, 0, 1, 3, 0, 0, 3, 0, 3, 3, 3, 0, 1, 3, 3, 0, 0, 1, 3, 1, 0, 1, 0, 0, 3, 1, 3, 3, 1, 1, 0, 1, 3, 3, 1, 3, 0, 0, 1, 3, 1, 1, 0, 0, 1, 3, 3, 3, 1, 3, 0, 0, 0, 3, 1, 1, 1, 1, 0, 0, 3, 1, 0, 1, 3, 1, 3, 3, 1, 1, 1, 0, 3, 0, 3, 3, 0, 0, 1, 1, 3, 0, 1, 3, 0, 3, 0, 3, 3, 0, 1, 1, 1, 0, 0, 0, 1, 1, 1, 0, 1, 1, 1, 3, 1, 1, 0, 0, 0, 3, 1, 3, 0, 3, 0, 0, 1, 3, 1, 1, 1, 1, 3, 1, 0, 3, 3, 1, 0, 1, 3, 3, 3, 0, 1, 3, 0, 0, 0, 1, 1, 1, 3, 1, 1, 1, 1, 0, 0, 1, 0, 3, 1, 3, 0, 0, 1, 1, 3, 0, 0, 0, 1, 3, 0, 3, 1, 3, 3, 1, 0, 0, 1, 1, 0, 0, 1, 0, 3, 0, 0, 0, 3, 0, 1, 0, 0, 0, 1, 1, 0, 3, 1, 1, 3, 3, 0, 1, 3, 1, 3, 3, 0, 3, 3, 1, 3, 1, 3, 1, 0, 0, 1, 1, 0, 1, 0, 3, 1, 1, 3, 0, 3, 3, 3, 0, 0, 3, 1, 1, 3, 1, 3, 1, 0, 0, 1, 1, 1, 1, 3, 3, 3, 0, 0, 1, 0, 0, 3, 3, 1, 0, 3, 0, 3, 1, 1, 0, 3, 3, 0, 3, 0, 1, 0, 1, 3, 1, 0, 3, 1, 3, 1, 0, 0, 3, 1, 1, 1, 1, 3, 0, 0, 1, 1, 0, 1, 0, 0, 1, 0, 0, 1, 1, 0, 0, 0, 0, 0, 3, 0, 0, 1, 3, 3, 1, 0, 1, 1, 0, 0, 1, 3, 0, 3, 1, 0, 0, 0, 1, 3, 0, 3, 3, 3, 0, 1, 3, 0, 1, 3, 3, 3, 1, 3, 0, 3, 1, 1, 0, 3, 1, 1, 1, 1, 1, 1, 3, 0, 0, 3, 0, 1, 1, 1, 1, 3, 1, 3, 0, 3, 1, 1, 1, 3, 1, 3, 3, 3, 1, 3, 0, 0, 0, 3, 0, 0, 3, 0, 1, 1, 1, 1, 1, 1, 3, 0, 3, 1, 0, 3, 3, 0, 0, 0, 3, 0, 1, 1, 3, 0, 3, 0, 1, 3, 3, 1, 1, 3, 3, 0, 1, 1, 1, 1, 3, 1, 0, 0, 1, 3, 0, 3, 3, 3, 1, 0, 3, 0, 3, 1, 0, 3, 0, 3, 0, 1, 0, 0, 3, 3, 1, 1, 0, 3, 1, 1, 3, 1, 1, 0, 0, 0, 1, 1, 0, 0, 0, 3, 1, 3, 3, 0, 3, 0, 1, 0, 0, 3, 3, 1, 0, 0, 0, 1, 0, 3, 1, 1, 0, 3, 0, 0, 0, 0, 3, 0, 0, 0, 3, 1, 0, 1, 0, 0, 3, 3, 0, 0, 0, 0, 1, 3, 1, 3, 1, 0, 3, 0, 0, 3, 0, 0, 1, 3, 0, 3, 1, 0, 0, 1, 3, 1, 0, 0, 0, 3, 3, 0, 0, 1, 3, 1, 0, 1, 1, 0, 1, 0, 0, 0, 1, 1, 0, 1, 3, 1, 1, 1, 3, 1, 3, 1, 1, 3, 0, 3, 1, 0, 1, 1, 0, 1, 0, 3, 0, 0, 0, 3, 1, 1, 1, 1, 1, 0, 1, 1, 3, 0, 3, 3, 1, 3, 1, 3, 1, 3, 3, 0, 1, 1, 3, 1, 0, 0, 1, 1, 0, 3, 0, 0, 3, 0, 0, 3, 1, 0, 3, 0, 3, 3, 0, 3, 3, 0, 0, 0, 0, 1, 1, 1, 3, 0, 3, 3, 1, 1, 0, 1, 1, 0, 1, 3, 0, 3, 3, 1, 3, 1, 0, 1, 0, 0, 0, 1, 0, 0, 1, 0, 3, 0, 0, 3, 3, 0, 3, 0, 3, 1, 0, 3, 1, 0, 1, 3, 1, 1, 3, 1, 1, 1, 3, 1, 3, 3, 3, 0, 3, 1, 0, 3, 0, 3, 3, 0, 1, 1, 3, 1, 3, 0, 0, 3, 3, 1, 3, 0, 1, 0, 1, 3, 3, 1, 0, 0, 0, 0, 1, 1, 0, 0, 3, 0, 1, 0, 3, 0, 1, 3, 1, 1, 1, 1, 0, 0, 0, 0, 0, 0, 3, 1, 1, 1, 1, 3, 0, 3, 1, 3, 1, 1, 3, 3, 3, 3, 1, 3, 0, 0, 3, 0, 3, 0, 0, 1, 0, 0, 3, 1, 0, 3, 3, 1, 0, 1, 3, 3, 3, 0, 1, 0, 0, 1, 1, 0, 1, 3, 1, 0, 3, 1, 0, 1, 0, 0, 1, 3, 3, 1, 1, 0, 1, 0, 1, 1, 3, 3, 0, 3, 3, 1, 3, 3, 0, 3, 3, 3, 3, 0, 1, 0, 0, 0, 3, 3, 1, 1, 3, 0, 3, 0, 3, 1, 1, 1, 1, 1, 0, 0, 3, 3, 1, 0, 0, 1, 3, 1, 3, 1, 1, 1, 0, 1, 3, 0, 1, 3, 3, 0, 3, 0, 1, 3, 3, 3, 0, 0, 1, 0, 0, 0, 1, 0, 0, 1, 0, 0, 1, 3, 0, 0, 3, 3, 0, 3, 1, 0, 1, 0, 0, 0, 3, 3, 3, 0, 0, 0, 3, 3, 1, 0, 0, 1, 3, 3, 3, 1, 0, 1, 3, 3, 0, 1, 0, 0, 1, 0, 1, 0, 3, 1, 3, 1, 1, 3, 3, 0, 3, 0, 1, 0, 1, 0, 0, 1, 1, 3, 3, 0, 3, 0, 0, 3, 0, 3, 1, 0, 3, 0, 1, 0, 3, 3, 3, 0, 0, 0, 1, 0, 3, 0, 1, 3, 3, 1, 1, 0, 3, 3, 3, 1, 0, 1, 0, 1, 3, 0, 3, 3, 1, 0, 3, 0, 3, 3, 1, 1, 1, 1, 0, 0, 3, 3, 3, 1, 3, 1, 3, 1, 3, 3, 1, 1, 1, 3, 3, 1, 3, 3, 0, 1, 0, 0, 0, 0, 0, 1, 1, 0, 1, 1, 1, 3, 0, 0, 0, 1, 1, 1, 1, 3, 0, 3, 3, 3, 0, 0, 0, 0, 0, 1, 3, 0, 0, 3, 3, 1, 0, 0, 3, 3, 3, 0, 0, 1, 1, 1, 1, 0, 3, 0, 3, 1, 0, 0, 3, 3, 1, 3, 0, 0, 3, 1, 3, 3, 1, 3, 1, 3, 0, 0, 3, 1, 3, 3, 3, 1, 1, 3, 3, 3, 3, 3, 0, 3, 3, 0, 0, 3, 0, 1, 0, 1, 1, 0, 3, 1, 3, 0, 0, 1, 0, 1, 0, 3, 0, 0, 1, 0, 0, 1, 3, 3, 0, 0, 1, 1, 1, 1, 1, 0, 3, 0, 1, 3, 0, 3, 3, 1, 3, 1, 1, 3, 0, 1, 0, 0, 3, 0, 3, 3, 1, 3, 0, 3, 3, 1, 3, 0, 1, 1, 0, 0, 0, 0, 0, 1, 0, 1, 3, 3, 1, 3, 1, 0, 3, 3, 1, 1, 0, 1, 1, 1, 0, 1, 1, 1, 1, 0, 0, 3, 3, 1, 1, 3, 3, 0, 3, 1, 1, 0, 0, 1, 0, 0, 3, 3, 0, 3, 3, 3, 0, 1, 3, 3, 1, 3, 1, 1, 0, 0, 3, 3, 1, 0, 1, 3, 1, 1, 0, 3, 1, 1, 0, 1, 0, 0, 0, 1, 0, 3, 0, 1, 1, 3, 1, 1, 0, 0, 3, 3, 3, 0, 1, 1, 0, 0, 0, 0, 0, 3, 3, 1, 3, 3, 0, 3, 0, 0, 0, 0, 0, 3, 3, 3, 3, 0, 1, 0, 0, 3, 0, 3, 0, 3, 3, 3, 3, 3, 0, 3, 0, 3, 3, 0, 0, 0, 0, 0, 0, 1, 3, 3, 0, 0, 0, 0, 0, 1, 0, 0, 3, 3, 3, 3, 0, 0, 0, 3, 0, 0, 0, 3, 0, 0, 3, 0, 0, 3, 0, 0, 0, 3, 0, 0, 0, 0, 0, 0, 3, 0, 0, 1, 3, 3, 0, 3, 3, 3, 0, 0, 3, 3, 0, 3, 3, 3, 0, 3, 3, 0, 3, 0, 0, 0, 3, 3, 0, 0, 1, 3, 1, 1, 3, 0, 0, 0, 3, 3, 3, 0, 3, 0, 3, 3, 0, 3, 3, 0, 0, 3, 3, 0, 3, 0, 3, 0, 3, 3, 0, 0, 3, 3, 3, 0, 3, 0, 3, 3, 3, 3, 0, 3, 0, 3, 3, 0, 0, 3, 3, 3, 3, 3, 3, 3, 1, 3, 0, 3, 3, 3, 3, 3, 3, 3, 3, 3, 3, 3, 0, 1, 0, 3, 0, 0, 3, 3, 3, 3, 0, 3, 3, 1, 0, 0, 0, 0, 1, 0, 0, 3, 3, 0, 0, 3, 0, 3, 0, 3, 1, 0, 0, 3, 3, 3, 3, 3, 3, 3, 3, 0, 0, 0, 3, 3, 3, 0, 3, 3, 0, 3, 3, 1, 0, 3, 0, 0, 0, 3, 3, 1, 3, 3, 3, 0, 0, 0, 3, 3, 0, 0, 0, 3, 3, 3, 3, 3, 0, 3, 0, 3, 3, 0, 0, 3, 3, 3, 0, 0, 3, 0, 3, 0, 0, 0, 3, 3, 3, 3, 0, 0, 3, 0, 0, 0, 0, 3, 0, 3, 0, 0, 3, 3, 0, 0, 3, 0, 0, 0, 3, 3, 3, 0, 0, 0, 0, 3, 0, 3, 0, 3, 0, 0, 0, 3, 3, 0, 0, 0, 3, 0, 3, 1, 0, 3, 3, 3, 3, 0, 0, 0, 0, 3, 0, 3, 3, 3, 0, 0, 1, 0, 3, 3, 3, 3, 0, 0, 0, 3, 3, 0, 0, 0, 3, 3, 0, 0, 0, 3, 0, 0, 3, 0, 0, 1, 3, 0, 3, 3, 0, 3, 0, 1, 0, 3, 0, 3, 0, 3, 0, 0, 0, 0, 3, 3, 3, 3, 0, 0, 0, 0, 0, 3, 0, 3, 3, 1, 3, 3, 3, 0, 0, 3, 0, 0, 3, 0, 0, 0, 0, 3, 0, 3, 0, 1, 3, 3, 0, 0, 0, 0, 3, 0, 3, 0, 0, 3, 3, 3, 3, 0, 1, 3, 0, 3, 0, 3, 3, 0, 3, 0, 3, 3, 0, 3, 3, 3, 3, 3, 3, 3, 0, 3, 3, 0, 3, 0, 0, 3, 0, 0, 3, 3, 0, 0, 3, 0, 1, 0, 0, 3, 3, 3, 3, 0, 0, 0, 3, 3, 0, 0, 3, 0, 3, 0, 0, 3, 0, 3, 3, 0, 0, 0, 0, 0, 3, 3, 3, 3, 3, 3, 0, 3, 0, 0, 3, 0, 3, 0, 0, 3, 3, 3, 3, 3, 3, 3, 3, 0, 3, 0, 0, 3, 3, 0, 0, 0, 0, 0, 3, 0, 3, 0, 0, 3, 3, 3, 3, 3, 0, 3, 3, 3, 3, 3, 0, 0, 3, 0, 3, 3, 0, 3, 0, 0, 0, 3, 0, 3, 0, 0, 3, 3, 0, 3, 3, 3, 3, 3, 0, 0, 3, 0, 3, 3, 0, 0, 3, 0, 0, 3, 0, 3, 3, 3, 0, 3, 0, 0, 0, 0, 3, 0, 3, 0, 0, 3, 0, 3, 3, 0, 3, 0, 3, 3, 0, 0, 3, 0, 0, 3, 0, 0, 0, 0, 3, 0, 0, 0, 0, 0, 0, 0, 3, 3, 3, 0, 0, 0, 3, 3, 0, 0, 3, 0, 0, 0, 3, 3, 3, 1, 3, 3, 0, 0, 3, 3, 0, 3, 0, 3, 0, 3, 1, 3, 0, 0, 0, 3, 0, 0, 0, 0, 0, 3, 3, 0, 3, 3, 3, 3, 0, 3, 3, 0, 0, 3, 0, 3, 0, 0, 0, 3, 0, 3, 3, 0, 3, 0, 3, 3, 0, 3, 3, 0, 3, 3, 3, 3, 3, 0, 0, 0, 0, 0, 0, 3, 3, 0, 0, 0, 3, 3, 1, 0, 3, 1, 3, 3, 0, 0, 1, 0, 3, 3, 0, 3, 3, 0, 3, 0, 3, 0, 3, 0, 3, 0, 3, 0, 0, 0, 0, 0, 0, 0, 0, 0, 0, 0, 0, 0, 0, 0, 0, 0, 0, 0, 0, 0, 0, 0, 0, 0, 0, 0, 0, 0, 0, 0, 0, 0, 0, 0, 0, 0, 0, 0, 0, 0, 3, 0, 3, 0, 3, 3, 3, 0, 0, 3, 3, 3, 3, 3, 0, 3, 3, 3, 3, 0, 3, 3, 1, 0, 3, 3, 3, 0, 3, 3, 3, 3, 3, 3, 0, 0, 3, 3, 3, 3, 3, 0, 3, 3, 3, 3, 3, 0, 3, 0, 3, 3, 0, 3, 3, 3, 3, 0, 3, 3, 3, 3, 3, 3, 3, 3, 0, 3, 3, 3, 1, 0, 3, 3, 3, 0, 3, 3, 3, 3, 3, 0, 3, 0, 0, 3, 3, 0, 3, 0, 1, 3, 0, 0, 3, 0, 3, 3, 3, 0, 0, 3, 3, 0, 0, 3, 3, 3, 0, 3, 1, 3, 3, 3, 3, 3, 3, 3, 3, 3, 3, 3, 3, 0, 3, 0, 0, 3, 3, 0, 0, 0, 3, 1, 3, 0, 3, 3, 3, 3, 3, 3, 3, 3, 0, 3, 3, 0, 0, 0, 3, 3, 0, 0, 0, 0, 3, 3, 3, 3, 3, 0, 0, 3, 3, 0, 3, 0, 3, 3, 0, 3, 3, 0, 3, 0, 0, 1, 3, 3, 3, 0, 3, 0, 3, 3, 0, 3, 3, 0, 0, 0, 3, 3, 3, 3, 0, 3, 0, 3, 3, 3, 3, 3, 3, 3, 3, 3, 0, 0, 3, 3, 3, 0, 0, 0, 3, 3, 3, 3, 3, 0, 0, 3, 3, 3, 3, 3, 3, 0, 3, 0, 3, 0, 3, 0, 3, 3, 3, 0, 1, 0, 3, 0, 3, 3, 0, 3, 0, 0, 1, 3, 3, 0, 3, 3, 3, 3, 3, 0, 3, 0, 3, 3, 3, 3, 3, 0, 3, 3, 0, 0, 0, 3, 0, 3, 3, 3, 0, 3, 3, 3, 3, 3, 3, 3, 3, 3, 3, 0, 3, 0, 3, 3, 3, 3, 0, 0, 1, 0, 0, 3, 3, 1, 3, 0, 0, 3, 3, 0, 0, 3, 3, 0, 0, 0, 0, 3, 3, 3, 0, 3, 1, 3, 3, 3, 3, 0, 3, 3, 0, 0, 0, 3, 1, 0, 3, 0, 3, 3, 3, 1, 3, 3, 0, 3, 0, 3, 0, 3, 3, 3, 0, 3, 1, 3, 3, 3, 3, 3, 0, 3, 3, 0, 3, 0, 0, 3, 3, 3, 3, 1, 3, 3, 0, 0, 0, 3, 3, 3, 3, 3, 3, 0, 0, 0, 0, 3, 3, 0, 3, 3, 3, 0, 3, 0, 3, 3, 3, 3, 3, 0, 3, 3, 0, 0, 3, 3, 3, 3, 3, 3, 3, 3, 3, 3, 3, 3, 3, 0, 0, 3, 0, 3, 3, 3, 3, 3, 3, 0, 3, 3, 3, 3, 3, 3, 3, 3, 0, 1, 3, 0, 0, 3, 3, 3, 3, 3, 0, 3, 3, 3, 3, 3, 3, 3, 0, 0, 3, 3, 0, 0, 3, 3, 0, 1, 3, 3, 3, 3, 0, 3, 0, 3, 1, 3, 0, 3, 0, 3, 0, 3, 3, 3, 3, 3, 0, 3, 3, 3, 3, 0, 3, 0, 0, 3, 1, 0, 0, 0, 3, 3, 3, 0, 3, 0, 3, 0, 3, 3, 0, 3, 3, 0, 3, 3, 0, 0, 3, 0, 3, 3, 1, 0, 3, 3, 3, 3, 3, 3, 3, 3, 3, 3, 1, 0, 3, 3, 3, 3, 1, 3, 3, 3, 3, 3, 3, 3, 3, 3, 3, 3, 3, 3, 0, 3, 0, 3, 3, 3, 3, 3, 3, 3, 3, 1, 3, 3, 3, 0, 3, 3, 3, 3, 3, 0, 3, 3, 0, 3, 3, 3, 3, 3, 0, 1, 3, 0, 3, 0, 0, 3, 3, 3, 3, 3, 3, 3, 3, 3, 3, 3, 0, 3, 3, 3, 3, 3, 3, 3, 0, 0, 0, 0, 0, 3, 3, 0, 3, 3, 3, 3, 0, 3, 3, 3, 3, 3, 3, 1, 3, 3, 0, 0, 3, 0, 3, 3, 3, 3, 3, 3, 3, 3, 0, 3, 0, 3, 3, 3, 3, 3, 3, 3, 0, 3, 3, 3, 3, 3, 3, 3, 1, 0, 0, 1, 0, 3, 0, 0, 0, 3, 3, 3, 3, 3, 3, 0, 3, 3, 0, 3, 3, 0, 0, 0, 3, 3, 3, 3, 0, 3, 3, 3, 3, 0, 3, 3, 3, 0, 3, 3, 0, 0, 0, 3, 3, 3, 3, 0, 3, 3, 3, 0, 3, 3, 3, 3, 3, 3, 0, 3, 3, 3, 3, 0, 3, 3, 3, 3, 1, 3, 3, 3, 3, 3, 3, 3, 3, 3, 3, 3, 0, 3, 0, 3, 3, 0, 1, 0, 0, 3, 3, 3, 3, 3, 3, 3, 3, 3, 0, 3, 3, 3, 3, 3, 0, 0, 0, 0, 3, 0, 3, 3, 3, 3, 3, 3, 3, 3, 3, 3, 3, 3, 0, 3, 0, 0, 0, 0, 0, 3, 0, 0, 3, 3, 3, 3, 3, 3, 3, 3, 3, 3, 1, 0, 3, 3, 3, 0, 3, 0, 0, 3, 0, 0, 3, 3, 0, 3, 3, 3, 1, 3, 0, 0, 3, 3, 3, 3, 3, 3, 3, 3, 3, 3, 3, 0, 3, 3, 0, 0, 3, 0, 3, 3, 3, 3, 3, 3, 3, 3, 3, 3, 3, 3, 3, 3, 3, 3, 3, 3, 3, 3, 3, 3, 3, 3, 3, 3, 3, 3, 3, 3, 3, 0, 0, 0, 3, 3, 3, 3, 3, 3, 3, 3, 3, 3, 3, 3, 3, 3, 3, 3, 0, 0, 3, 3, 0, 0, 3, 3, 0, 3, 3, 3, 3, 3, 0, 3, 3, 0, 3, 3, 3, 3, 3, 0, 3, 3, 1, 0, 1, 3, 3, 3, 3, 1, 3, 3, 0, 3, 3, 0, 0, 3, 3, 3, 3, 0, 3, 3, 3, 3, 3, 3, 3, 3, 3, 3, 3, 0, 3, 3, 3, 3, 3, 3, 1, 3, 0, 1, 3, 0, 3, 3, 3, 3, 0, 0, 0, 0, 0, 0, 0, 0, 0, 0, 0, 0, 0, 0, 0, 0, 0, 0, 0, 0, 0, 0, 0, 0, 0, 0, 0, 0, 0, 0, 0, 0, 0, 0, 0, 0, 0, 0, 0, 0, 0, 0, 0, 0, 0, 0, 0, 0, 0, 0, 0, 0, 0, 0, 0, 0, 0, 0, 0, 0, 0, 0, 0, 0, 0, 0, 0, 0, 0, 0, 0, 0, 0, 0, 0, 0, 0, 0, 0, 0, 0, 0, 0, 0, 0, 0, 0, 0, 0, 0, 0, 0, 0, 0, 0, 0, 0, 0, 0, 0, 0, 0, 0, 0, 0, 0, 0, 0, 0, 0, 0, 0, 0, 0, 0, 0, 0, 0, 0, 0, 0, 0, 0, 0, 0, 0, 0, 0, 0, 0, 0, 0, 0, 0, 0, 0, 0, 0, 0, 0, 0, 0, 0, 0, 0, 0, 0, 0, 0, 0, 0, 0, 0, 1, 1, 0, 0, 0, 1, 1, 1, 1, 1, 0, 0, 0, 0, 1, 1, 3, 3, 1, 0, 1, 1, 1, 1, 1, 0, 0, 1, 1, 3, 0, 0, 1, 0, 0, 1, 0, 0, 1, 1, 1, 0, 1, 1, 1, 1, 0, 1, 0, 1, 1, 1, 1, 1, 1, 1, 0, 0, 0, 0, 0, 0, 1, 3, 0, 0, 1, 0, 1, 3, 0, 0, 0, 0, 1, 3, 3, 3, 0, 1, 1, 0, 1, 1, 1, 1, 0, 3, 1, 1, 1, 1, 1, 1, 3, 1, 3, 1, 1, 1, 1, 1, 0, 1, 0, 0, 1, 0, 1, 1, 1, 0, 1, 1, 1, 0, 1, 1, 0, 0, 1, 1, 1, 1, 1, 0, 0, 1, 1, 1, 1, 0, 1, 1, 1, 1, 0, 1, 0, 1, 0, 0, 0, 1, 3, 0, 1, 0, 1, 1, 1, 0, 1, 0, 1, 1, 3, 3, 1, 1, 1, 0, 1, 0, 0, 0, 1, 1, 3, 0, 0, 1, 1, 0, 0, 1, 1, 1, 1, 1, 0, 1, 1, 3, 0, 0, 0, 3, 0, 1, 1, 1, 1, 0, 0, 1, 0, 0, 0, 1, 1, 1, 0, 1, 0, 1, 1, 0, 1, 0, 1, 1, 0, 0, 0, 1, 0, 1, 1, 0, 0, 1, 1, 1, 0, 0, 1, 1, 0, 1, 1, 1, 1, 1, 0, 0, 1, 1, 0, 1, 0, 1, 1, 1, 1, 0, 0, 0, 1, 0, 1, 0, 0, 1, 1, 1, 0, 1, 1, 0, 1, 0, 1, 1, 1, 0, 1, 0, 1, 1, 0, 1, 0, 1, 3, 1, 0, 0, 1, 0, 0, 0, 1, 1, 1, 1, 0, 0, 1, 0, 0, 0, 0, 1, 3, 0, 0, 0, 0, 1, 0, 1, 0, 1, 0, 1, 0, 1, 0, 0, 1, 1, 0, 0, 1, 1, 1, 0, 1, 0, 1, 3, 1, 0, 1, 1, 1, 0, 1, 1, 1, 1, 0, 0, 1, 1, 3, 1, 0, 1, 1, 0, 0, 3, 1, 1, 1, 0, 0, 1, 0, 0, 0, 1, 0, 0, 1, 1, 1, 0, 1, 0, 1, 1, 0, 0, 0, 1, 1, 1, 1, 0, 1, 1, 1, 1, 1, 0, 0, 0, 0, 1, 1, 0, 1, 1, 0, 1, 0, 1, 1, 1, 1, 0, 1, 1, 1, 0, 1, 1, 1, 0, 0, 0, 0, 0, 0, 1, 1, 0, 1, 0, 0, 1, 0, 0, 1, 1, 1, 1, 0, 0, 1, 0, 1, 1, 1, 1, 0, 1, 0, 1, 0, 1, 0, 0, 1, 0, 1, 1, 1, 1, 0, 1, 0, 1, 1, 0, 1, 0, 1, 0, 1, 1, 1, 1, 1, 0, 1, 0, 1, 1, 0, 0, 0, 1, 3, 3, 1, 0, 1, 1, 0, 0, 0, 0, 0, 1, 0, 1, 0, 1, 3, 1, 1, 0, 1, 1, 0, 3, 1, 1, 0, 0, 1, 0, 1, 1, 0, 1, 1, 0, 0, 0, 0, 1, 0, 1, 1, 0, 0, 1, 0, 0, 0, 1, 0, 1, 0, 0, 1, 3, 1, 1, 1, 0, 0, 1, 1, 0, 1, 1, 1, 1, 0, 1, 1, 1, 0, 0, 0, 1, 1, 1, 0, 0, 1, 0, 0, 0, 0, 0, 1, 3, 0, 0, 1, 0, 1, 1, 0, 1, 1, 1, 1, 1, 0, 0, 0, 0, 1, 1, 1, 1, 0, 0, 1, 1, 1, 1, 0, 1, 1, 0, 1, 0, 0, 1, 1, 0, 0, 1, 1, 0, 0, 0, 1, 1, 3, 0, 1, 1, 0, 1, 1, 0, 1, 1, 0, 1, 0, 1, 0, 0, 1, 0, 1, 1, 1, 1, 3, 1, 1, 1, 0, 0, 1, 0, 0, 1, 1, 0, 1, 1, 0, 0, 0, 0, 1, 1, 1, 1, 1, 1, 1, 0, 1, 1, 1, 1, 1, 0, 0, 0, 0, 1, 1, 1, 1, 0, 1, 1, 1, 1, 1, 1, 0, 0, 0, 0, 1, 0, 1, 1, 0, 0, 1, 0, 0, 0, 1, 0, 3, 1, 0, 0, 0, 1, 1, 1, 1, 1, 0, 0, 1, 0, 0, 1, 1, 1, 1, 1, 1, 0, 1, 1, 1, 1, 0, 1, 1, 3, 0, 1, 1, 1, 0, 0, 0, 0, 0, 0, 1, 1, 1, 1, 0, 0, 1, 1, 1, 0, 0, 1, 1, 0, 0, 1, 1, 0, 1, 0, 0, 0, 1, 0, 0, 0, 1, 0, 0, 1, 1, 1, 0, 1, 1, 1, 0, 3, 1, 0, 1, 1, 0, 0, 0, 0, 1, 1, 0, 1, 0, 1, 0, 1, 1, 0, 1, 1, 1, 0, 0, 0, 1, 0, 1, 1, 0, 1, 0, 1, 0, 1, 0, 3, 1, 3, 0, 1, 0, 1, 3, 1, 0, 1, 1, 3, 0, 1, 0, 0, 0, 1, 1, 1, 1, 1, 3, 1, 0, 0, 1, 1, 0, 0, 0, 0, 1, 0, 1, 1, 3, 1, 1, 1, 0, 0, 1, 0, 0, 1, 0, 1, 1, 0, 0, 0, 1, 1, 1, 1, 1, 0, 0, 1, 1, 1, 0, 1, 0, 1, 1, 0, 1, 0, 1, 1, 1, 0, 1, 0, 1, 0, 0, 1, 1, 0, 1, 0, 3, 1, 0, 1, 1, 0, 1, 0, 0, 1, 0, 0, 0, 0, 0, 1, 0, 0, 0, 1, 0, 1, 1, 1, 1, 0, 1, 0, 0, 0, 0, 0, 1, 1, 0, 1, 1, 0, 1, 0, 1, 1, 1, 1, 1, 0, 3, 0, 1, 0, 0, 0, 1, 0, 0, 1, 1, 0, 0, 0, 0, 0, 1, 1, 1, 3, 0, 1, 0, 1, 1, 0, 0, 0, 0, 0, 1, 1, 1, 0, 1, 1, 1, 1, 1, 1, 0, 1, 1, 1, 1, 1, 1, 1, 1, 1, 1, 1, 1, 0, 0, 1, 0, 0, 1, 0, 1, 1, 1, 1, 0, 1, 0, 1, 1, 1, 1, 0, 1, 1, 1, 1, 1, 1, 0, 1, 1, 1, 0, 1, 3, 0, 0, 0, 1, 1, 0, 1, 1, 1, 0, 0, 1, 1, 1, 0, 1, 1, 1, 1, 1, 1, 1, 1, 0, 0, 1, 1, 1, 1, 1, 0, 0, 1, 0, 0, 1, 0, 1, 0, 1, 0, 1, 1, 1, 0, 0, 0, 1, 1, 0, 1, 0, 1, 3, 0, 0, 0, 1, 3, 1, 0, 1, 1, 1, 1, 1, 1, 0, 1, 3, 0, 1, 1, 0, 1, 1, 1, 0, 1, 1, 0, 0, 0, 1, 0, 1, 1, 0, 0, 0, 1, 0, 1, 3, 1, 0, 1, 0, 0, 1, 1, 1, 1, 0, 1, 1, 1, 1, 1, 1, 1, 3, 1, 0, 0, 0, 1, 0, 0, 0, 0, 1, 0, 1, 0, 1, 0, 1, 1, 0, 1, 1, 1, 1, 0, 1, 0, 0, 1, 0, 1, 3, 0, 0, 1, 0, 0, 0, 1, 0, 1, 1, 0, 0, 1, 0, 1, 0, 1, 0, 0, 0, 1, 1, 0, 1, 0, 1, 1, 0, 1, 1, 0, 0, 0, 1, 0, 0, 1, 3, 3, 1, 0, 0, 1, 1, 0, 0, 1, 0, 0, 1, 3, 0, 0, 0, 0, 0, 3, 0, 1, 1, 0, 0, 1, 3, 1, 0, 1, 0, 0, 1, 0, 0, 0, 1, 0, 0, 0, 3, 1, 1, 1, 0, 1, 1, 0, 0, 0, 0, 0, 1, 1, 1, 0, 1, 1, 1, 3, 1, 0, 3, 1, 0, 0, 1, 1, 0, 1, 1, 1, 1, 0, 1, 0, 0, 0, 0, 1, 0, 0, 0, 0, 1, 1, 1, 3, 1, 1, 0, 1, 1, 0, 1, 0, 1, 0, 1, 0, 0, 1, 0, 1, 1, 0, 1, 0, 1, 3, 1, 1, 0, 0, 1, 1, 1, 1, 1, 3, 1, 0, 1, 1, 3, 1, 0, 0, 0, 1, 1, 0, 1, 1, 1, 1, 1, 1, 1, 0, 0, 0, 0, 1, 3, 1, 1, 1, 1, 1, 1, 0, 1, 1, 1, 0, 0, 1, 0, 1, 1, 1, 0, 0, 1, 1, 3, 1, 1, 1, 1, 1, 1, 0, 1, 3, 1, 0, 1, 1, 0, 1, 1, 1, 0, 0, 1, 1, 0, 0, 1, 0, 1, 0, 0, 1, 1, 0, 0, 1, 0, 1, 1, 1, 1, 1, 1, 0, 1, 1, 0, 1, 1, 0, 0, 0, 1, 0, 0, 0, 0, 1, 0, 1, 1, 1, 0, 0, 1, 0, 0, 0, 1, 0, 1, 1, 1, 3, 0, 1, 0, 0, 0, 1, 0, 1, 0, 1, 0, 0, 0, 1, 1, 1, 1, 0, 1, 1, 1, 0, 0, 1, 0, 0, 1, 1, 1, 1, 0, 0, 1, 0, 1, 0, 0, 0, 0, 0, 1, 0, 1, 1, 1, 1, 0, 0, 1, 0, 1, 1, 0, 1, 0, 1, 0, 0, 1, 1, 1, 0, 0, 3, 1, 1, 0, 0, 1, 0, 0, 0, 1, 0, 0, 1, 1, 1, 0, 1, 3, 3, 0, 1, 0, 1, 3, 1, 0, 0, 1, 0, 1, 0, 1, 0, 3, 0, 0, 1, 0, 1, 1, 0, 1, 1, 3, 1, 1, 1, 1, 1, 1, 1, 0, 0, 1, 0, 1, 1, 0, 0, 1, 0, 0, 0, 1, 1, 1, 1, 1, 1, 0, 0, 0, 1, 0, 0, 0, 1, 0, 1, 1, 1, 1, 1, 1, 0, 1, 1, 0, 1, 1, 1, 0, 0, 0, 1, 0, 0, 0, 1, 1, 0, 0, 0, 0, 1, 0, 0, 1, 3, 1, 0, 0, 1, 1, 3, 0, 1, 0, 0, 0, 1, 1, 1, 0, 0, 0, 1, 3, 1, 3, 1, 0, 1, 0, 0, 0, 1, 1, 0, 0, 1, 0, 0, 0, 1, 3, 1, 0, 1, 1, 1, 1, 3, 0, 1, 0, 1, 0, 1, 1, 1, 0, 1, 1, 0, 3, 1, 0, 1, 3, 1, 1, 1, 0, 0, 1, 3, 0, 1, 1, 0, 1, 1, 1, 1, 1, 1, 0, 0, 0, 0, 1, 0, 1, 1, 3, 0, 1, 1, 0, 1, 0, 0, 1, 1, 3, 1, 0, 0, 1, 1, 0, 3, 1, 1, 0, 1, 0, 1, 0, 0, 1, 0, 1, 1, 0, 1, 0, 0, 1, 0, 0, 0, 1, 1, 1, 0, 0, 1, 1, 0, 3, 0, 1, 0, 0, 1, 1, 0, 1, 1, 0, 0, 0, 1, 1, 0, 1, 1, 3, 1, 1, 1, 1, 0, 1, 0, 0, 1, 1, 0, 0, 1, 1, 0, 0, 0, 1, 1, 0, 1, 0, 1, 3, 0, 1, 0, 1, 0, 0, 1, 1, 0, 0, 0, 1, 0, 0, 0, 1, 1, 1, 1, 1, 1, 1, 0, 1, 1, 3, 1, 0, 1, 1, 1, 0, 1, 1, 1, 0, 1, 1, 0, 1, 1, 0, 0, 0, 0, 3, 1, 0, 0, 1, 1, 0, 0, 1, 0, 1, 0, 0, 1, 0, 1, 0, 0, 1, 1, 0, 0, 0, 3, 0, 1, 1, 1, 1, 1, 0, 0, 0, 1, 0, 0, 1, 0, 0, 1, 1, 1, 1, 0, 1, 0, 0, 1, 1, 1, 0, 0, 1, 1, 0, 1, 1, 1, 1, 1, 1, 0, 0, 0, 1, 0, 0, 3, 0, 1, 0, 0, 1, 1, 0, 0, 1, 1, 1], \"x0\": \" \", \"xaxis\": \"x\", \"y\": [116939.03400000001, 57535.23, 176021.29200000002, 65775.67199999999, 34419.45, 48084.36, 95187.93, 141062.58000000002, 137427.69, 141732.41999999998, 139794.90000000002, 167654.69400000002, 89986.56, 67112.47799999999, 76820.184, 93279.63600000001, 100534.11000000002, 89897.58, 116334.81, 134540.37, 106182.6, 102750.18, 126133.95, 95496.93, 114220.8, 108623.88, 88783.59, 91825.17, 99132.54, 135249.38999999998, 127278.63, 99469.13999999998, 89685.81, 123229.44, 105260.88, 107880.96, 88034.73, 128550.0, 110840.58, 135941.88, 102978.75, 76009.85999999999, 136016.63999999998, 136532.25, 136317.09, 137033.63999999998, 52939.842000000004, 118255.416, 58023.558000000005, 52939.842000000004, 118255.416, 85950.12, 136315.08000000002, 141268.77, 140873.19, 59751.09, 69351.72, 55904.01, 53334.24000000001, 42495.66, 69570.95999999999, 42353.49, 62093.31, 70507.29000000001, 54190.83, 61097.04, 78560.85, 74201.31, 142440.06, 161577.18, 239028.66, 174039.45, 219743.04, 168802.2, 155123.7, 205931.97000000003, 143694.57, 187008.6, 212957.04, 150044.07, 213997.29, 214850.19, 138985.16999999998, 103007.346, 139781.04, 138303.72, 139840.62, 138086.22, 66236.28, 126674.15400000001, 126674.15400000001, 30194.46, 29977.620000000014, 116769.58200000001, 126674.15400000001, 126674.15400000001, 126674.15400000001, 126674.15400000001, 116769.58200000001, 116769.58200000001, 126674.15400000001, 116769.58200000001, 116769.58200000001, 116769.58200000001, 116769.58200000001, 116769.58200000001, 116769.58200000001, 116769.58200000001, 85882.31399999998, 132843.69, 119468.46, 90098.85, 130285.65, 124616.67, 91541.25, 93758.16, 90327.33, 97348.62, 107603.16, 87015.66, 100785.15, 138941.19, 140721.45, 136892.58000000002, 142928.94, 143408.97, 104547.93, 108215.7, 116136.33, 102979.38, 86893.89, 124397.97, 121054.47, 113317.32, 94063.47, 89769.81, 110760.12, 220563.15, 164184.0, 203414.19, 227523.0, 184815.84, 184316.01, 229551.87, 171498.72, 147634.77, 116283.75, 100051.35, 112638.45, 130667.43, 108345.33, 114799.56, 88796.73, 93775.44, 129220.2, 90577.95, 133813.86000000002, 130740.03, 96030.66, 136892.58000000002, 235038.402, 134024.31, 123085.05, 100999.05, 105041.88, 112284.27, 117641.63999999998, 122063.7, 117365.19, 125522.97, 97259.79, 88008.12, 120718.11000000002, 112708.13999999998, 124645.47, 130423.44, 94169.82, 92852.19, 102361.26, 94028.58, 131928.81, 131665.86000000002, 92126.85, 134273.13, 121923.54, 94805.52, 90868.23, 90871.11, 126082.68, 125675.04, 131201.76, 97664.22, 96611.67, 128061.48, 131266.71, 138045.57, 128904.57, 39303.93, 75763.79999999999, 73836.63, 67935.03, 45247.77, 68829.20999999999, 85608.87, 138020.82, 188349.84, 88146.54000000002, 100500.27, 94923.66, 98319.27, 124667.37, 117461.49, 95393.1, 98033.19, 100619.52, 101790.72, 91358.58, 121191.69, 103924.44, 121506.66, 87772.11, 127404.18, 101928.0, 130410.45, 96303.72, 100876.11000000002, 131909.28, 99522.72, 106954.05, 92547.6, 93806.31, 119656.74, 122415.27, 119448.9, 76009.85999999999, 78446.67, 67809.93000000001, 63054.27, 70834.89, 54636.03, 40159.23, 58870.17, 49471.02, 63727.53, 71875.31999999999, 79982.52, 101778.75, 126626.94, 93118.38, 106247.4, 111323.34, 118534.74, 100735.59, 109038.33, 132865.08000000002, 106316.07, 135679.77, 93713.82, 98142.63, 113712.33, 105810.96, 119223.38999999998, 112172.43, 168141.12, 203146.2, 147736.05, 146873.52, 207282.57, 200770.89, 179924.31, 159716.76, 178389.66, 137202.3, 141784.56, 142408.13999999998, 139076.97, 141840.81, 139643.7, 68055.27, 36805.62, 59993.7, 57827.37, 54606.78, 43062.0, 60262.31999999999, 69228.09, 35363.97, 70882.68000000001, 155905.71, 235878.21, 146109.57, 171839.40000000002, 153744.63, 156908.84999999998, 235853.49, 200635.8, 215065.11, 203152.26, 177080.88, 225540.15, 149354.66999999998, 159489.0, 153273.12, 139143.06, 102832.98, 82375.164, 90454.2, 99655.59, 110136.06, 90099.03, 130282.35, 111232.02, 244959.09, 158366.84999999998, 198172.08, 170385.03, 148434.78, 144759.51, 212378.37, 159396.15000000002, 136487.66999999998, 80732.52, 78695.61, 49466.67, 142489.44, 141620.76, 178726.23, 151572.54, 177034.68, 150277.88999999998, 190002.42, 150309.78, 230949.24, 187751.7, 164943.90000000002, 166484.79, 177542.76, 194004.48, 78987.93000000001, 68880.54000000001, 43755.36, 59163.0, 70032.29999999999, 66810.18000000001, 40636.86, 66831.69, 71393.25, 70134.45000000001, 79854.48, 58640.19, 79431.84, 65794.59, 74800.35, 45708.93, 45549.33, 85491.09, 41176.98, 75292.86, 75155.37, 72389.85, 59446.05, 73150.74, 48339.75, 83891.91, 55372.44, 74477.4, 66507.15, 70838.13, 84638.81999999999, 50144.58, 73387.35, 67930.92, 70759.5, 49910.85000000001, 143539.91400000002, 143539.91400000002, 143539.91400000002, 144720.66, 145156.13999999998, 64713.66, 141837.24, 180071.31, 144911.40000000002, 155365.05, 194328.21, 236612.94, 155252.09999999998, 178639.59, 210628.92, 160491.36000000002, 155199.78, 91902.51, 100630.95, 101466.38999999998, 91716.15, 116351.94, 138717.63, 229879.08, 163799.04, 229885.17, 150753.59999999998, 188569.17, 153899.82, 210977.46, 187829.58, 186812.61, 214231.56, 182354.73, 192300.87, 197516.79, 167709.72, 213407.34, 158960.73, 217938.03, 171196.38, 143422.34999999998, 182711.85, 212176.11, 192910.23, 214922.88, 178769.19, 154254.3, 211181.58, 94858.86, 86420.91, 165968.66999999998, 174417.408, 104943.6, 174417.408, 165968.66999999998, 165968.66999999998, 174417.408, 174417.408, 174417.408, 174417.408, 67322.178, 170417.94, 62696.76, 92312.94, 119315.25, 106977.21, 93224.55, 134796.90000000002, 114623.16, 124371.78, 60273.75, 141784.56, 150258.48, 200555.07, 68575.31999999999, 85788.45000000001, 73765.86, 46859.01, 42312.27, 56033.7, 70983.84, 47203.44, 81598.20000000001, 59750.10000000001, 73348.17, 66121.95000000001, 58406.94, 59179.35000000001, 66942.87, 43055.49, 76277.49, 44702.7, 45629.28, 231191.04, 182738.55, 155903.84999999998, 51555.39, 68815.08, 119461.08, 43231.26, 82340.01, 53012.73, 61886.04, 72388.47, 43637.85000000001, 57147.93000000001, 39939.18, 62212.26, 52016.46, 60745.65, 53729.81999999999, 57694.14, 117335.52, 96496.65, 104688.93, 106066.86000000002, 241619.31, 165968.66999999998, 176021.29200000002, 103007.346, 103007.346, 76009.85999999999, 176021.29200000002, 103007.346, 76009.85999999999, 103007.346, 76009.85999999999, 103007.346, 103007.346, 76009.85999999999, 103007.346, 103007.346, 176021.29200000002, 76009.85999999999, 76009.85999999999, 103007.346, 103007.346, 103007.346, 76009.85999999999, 103007.346, 176021.29200000002, 76009.85999999999, 103007.346, 103007.346, 103007.346, 76009.85999999999, 103007.346, 60352.8, 68893.11, 60441.3, 70167.99, 35917.08, 74927.49, 66538.47, 48636.27, 62615.01, 78716.04000000001, 59820.9, 40791.39, 39625.83, 138618.81, 32417.52, 116769.58200000001, 126674.15400000001, 116769.58200000001, 146843.31, 191043.21, 157665.41999999998, 60263.808000000005, 59318.06999999999, 47500.98, 60364.41, 75243.63, 72578.67, 116769.58200000001, 126674.15400000001, 126674.15400000001, 126674.15400000001, 116769.58200000001, 116769.58200000001, 126674.15400000001, 116769.58200000001, 126674.15400000001, 126674.15400000001, 126674.15400000001, 116769.58200000001, 116769.58200000001, 126674.15400000001, 116769.58200000001, 126674.15400000001, 116769.58200000001, 126674.15400000001, 116769.58200000001, 116769.58200000001, 116769.58200000001, 126674.15400000001, 116769.58200000001, 116769.58200000001, 116769.58200000001, 126674.15400000001, 116769.58200000001, 40568.28, 37197.84, 122419.8, 87068.91, 119110.83, 92287.59, 96450.48, 89630.73, 123689.85, 114098.37, 108615.72, 97890.69, 90189.42, 134559.12, 128799.09, 130067.49, 110195.04, 95030.7, 127569.99, 114029.43, 121076.61000000002, 126316.71, 109735.23, 119821.95, 134256.33000000002, 87733.65, 106752.27, 122939.37, 90539.37, 123085.05, 131640.66, 108064.26, 111450.42, 135115.86000000002, 95658.15, 93579.18, 99458.37, 134128.11000000002, 105131.22, 96117.69, 116769.58200000001, 32997.3, 88828.56, 128020.35, 133991.97, 111519.6, 202623.87, 176862.12, 187591.11, 161514.51, 168068.43, 191316.42, 50720.16, 168441.06, 177863.07, 197551.26, 194358.84, 226330.11, 177881.28, 178888.77, 146840.76, 155121.0, 179785.68, 188224.08, 183165.39, 171693.09, 168311.63999999998, 166858.8, 49046.58, 140596.11000000002, 80719.02, 61167.78, 37152.78, 58653.21, 70074.84, 72916.79999999999, 81964.41, 86094.27, 78039.24, 53041.56, 64216.47, 122469.66, 134171.55, 122614.32, 102612.48, 128318.52, 120935.22, 98554.83, 106094.1, 99540.48, 132479.04, 92039.34, 105656.1, 96622.35, 107678.04, 62798.25600000001, 138910.08000000002, 161478.99, 148421.01, 168303.38999999998, 76526.37, 85676.28, 71095.95000000001, 84833.28, 81879.54000000001, 40563.03, 71673.54000000001, 84654.95999999999, 137967.21, 140297.19, 141851.88, 138805.38, 137392.38, 142768.34999999998, 92312.94, 97158.54, 123430.68, 33876.93, 75900.56999999999, 74816.04000000001, 45127.11, 163347.27, 152784.21, 154295.46, 148444.16999999998, 59456.58, 120936.63, 103516.13999999998, 101544.12, 83620.17, 86644.86, 118934.49, 103072.38, 132282.41999999998, 101728.47, 113853.09, 97402.95, 128013.75, 103926.51, 106839.6, 89597.58, 94848.51, 111095.16, 106310.61000000002, 133970.34, 125409.38999999998, 112005.84, 117170.67, 89711.49, 123573.51, 98548.62, 129544.29, 111498.33, 128738.76, 87602.85, 109491.51, 120970.38, 245334.21, 56506.47, 94053.15, 139485.54, 103334.55, 92476.5, 133395.90000000002, 121372.83, 111937.77, 98459.91, 158644.98, 194806.83, 194745.0, 144006.03, 185789.19, 164802.59999999998, 195670.17, 174831.66, 201975.09, 161274.63, 204193.47000000003, 204205.68, 151859.52, 222719.76, 152825.66999999998, 188346.54, 155463.38999999998, 148399.02, 89256.23999999999, 89256.23999999999, 89256.23999999999, 89256.23999999999, 74232.63, 96874.11, 90572.43, 79498.53, 93347.97, 80599.23, 77784.12, 126674.15400000001, 116769.58200000001, 126674.15400000001, 116769.58200000001, 116769.58200000001, 126674.15400000001, 69186.75, 85733.67, 68377.77, 74246.97, 83147.76, 44446.29, 129300.42, 106476.75, 98539.62, 96914.43, 89843.45999999998, 101374.572, 88375.446, 136381.83000000002, 136224.21, 106649.49, 83258.31, 96233.67, 98845.05, 76684.74, 62752.74000000001, 35732.7, 28029.12000000001, 54001.53, 76026.33, 69351.75, 83143.23, 49511.79, 58841.25, 55124.10000000001, 67456.20000000001, 54102.0, 186549.93, 135902.7, 194924.01, 143794.5, 198949.5, 146907.87, 89674.62, 108620.43, 55865.73, 54365.67, 124551.96, 125160.66, 121300.38, 121991.46, 86608.83, 111333.72, 93980.1, 113839.2, 90657.09, 100176.54, 100692.75, 129501.27, 103304.85, 118167.84, 130405.13999999998, 99633.09, 129296.28, 88843.79999999997, 88055.81999999998, 107275.95, 116770.88999999998, 110750.31, 94608.42, 128331.78, 91113.75, 130123.65, 105125.13, 129365.7, 107829.75, 117313.8, 128818.47, 119965.38, 121605.93, 99885.06, 110356.02, 165144.21, 70158.66, 83065.35, 137146.16999999998, 71190.84, 38314.5, 46785.42, 40867.47, 85575.24, 211432.05, 89256.23999999999, 143409.48, 73252.53, 49158.93000000001, 50590.35000000001, 56280.87, 57220.23, 74317.35, 58729.11, 78536.1, 75711.69, 76277.49, 50874.03, 70185.39, 69949.86, 40807.59, 63980.79, 81779.43000000001, 85119.27, 52662.72, 47422.02, 39094.98, 56589.48, 70887.78, 85444.08, 68641.38, 73279.31999999999, 42087.45, 40883.67, 82391.64, 53933.91, 75109.79999999999, 85642.62, 57320.13, 45264.78, 52827.03, 143846.46, 160514.34, 190107.21, 79895.22, 61926.45, 61095.15, 84151.31999999999, 60501.15, 55583.97, 155140.2, 151066.41, 107905.44, 119031.42, 98286.27, 96352.89, 135889.44, 96497.01, 90529.62, 125095.2, 105297.12, 102061.56, 96340.83, 91621.65, 123718.41, 133286.46, 90731.43, 120246.63, 134729.94, 119072.55, 124319.63999999998, 134635.86000000002, 119802.84, 93348.21, 93910.47, 129608.85, 105514.83, 98314.13999999998, 133636.77, 116652.9, 127889.43, 120838.536, 120838.536, 118469.844, 120838.536, 120838.536, 118469.844, 118469.844, 118469.844, 118469.844, 120838.536, 118469.844, 120838.536, 110658.38999999998, 87353.1, 84187.53, 96520.8, 114261.51, 126515.63999999998, 64499.55, 85762.56, 66418.41, 110017.68, 134767.29, 173446.59, 159295.71, 226888.89, 158037.96, 222677.13, 146031.90000000002, 160276.34999999998, 187948.11, 168846.96, 194319.78, 169340.94, 217104.03, 237193.8, 122115.27, 62665.17, 143539.91400000002, 46168.62, 136781.13, 190108.836, 66996.75, 69863.97, 69791.19, 76308.75, 56863.92, 46810.05, 47679.51, 67342.79999999999, 65127.42, 60045.48, 64047.21, 40417.8, 69404.31, 58083.93000000001, 63937.35000000001, 84535.59, 115637.124, 118320.48, 67217.43000000001, 105573.42, 131891.07, 118466.73, 96327.12, 129424.92, 87132.36, 103247.07, 100768.88999999998, 60424.062, 138282.3, 141822.51, 136063.74, 47818.62, 73639.77, 71616.51, 124556.07, 101825.79, 103122.18, 108442.17, 92004.36, 102081.72, 117710.07, 86879.25, 86670.06, 114714.0, 129575.67, 94803.09, 109222.11000000002, 126718.32, 127141.5, 89281.31999999998, 131039.63999999998, 106329.06, 127452.87, 93025.38, 89685.81, 122659.74, 88942.83, 88233.51, 99761.97, 98149.74, 124922.61000000002, 109022.31, 109498.83, 122787.18, 128454.38999999998, 111842.4, 91089.42, 88233.51, 88900.44, 124847.25, 118403.97, 65934.56999999999, 58833.84, 76296.06, 77276.52, 96249.12, 134554.71, 53484.24000000001, 61207.98, 68132.4, 91329.6, 58185.99000000001, 71945.73, 50073.66, 57119.13, 62616.0, 239680.68, 155905.71, 154751.43, 171147.66, 216996.21, 212664.9, 214498.26, 159478.95, 203009.88, 204285.06, 151398.09, 165604.11000000002, 206438.46, 217372.56, 152022.45, 172838.46, 161355.84, 161144.49, 238326.9, 197153.22000000003, 149146.38, 71859.29999999999, 72006.6, 77874.66, 62277.48, 73060.35, 47679.51, 55573.26, 78614.28, 53009.06999999999, 66372.24, 75726.27, 79116.09, 64990.98, 80197.17, 37928.52, 62671.29, 35936.31, 65041.26, 53687.64, 67663.59, 75455.52, 65848.02, 61114.95, 39024.03, 35415.33, 40058.4, 73186.35, 49313.28, 78523.44, 121930.95, 41670.84, 65346.66, 85181.34, 78952.14, 79147.41, 67088.31, 94232.4, 111626.19, 128699.91, 88848.06, 87312.99, 134057.19, 97745.16, 43963.17, 77912.34, 77550.03, 51150.33, 64812.54, 69631.14, 53357.73, 78709.44, 140192.09999999998, 138783.93, 146764.41, 208156.8, 220138.95, 187991.64, 154019.07, 189560.7, 169221.66, 210201.87, 151029.51, 205390.32, 202822.11, 149673.57, 207436.38, 160550.09999999998, 158160.63, 156721.88999999998, 147951.18, 183166.35, 226203.66, 238889.25, 148720.29, 227298.33, 180273.18, 239481.39, 166286.07, 209446.35, 153864.63, 192489.78, 152601.99, 91128.936, 65463.56999999999, 67011.15, 64563.60000000001, 229255.26, 205547.79, 180180.66, 160751.22, 199557.36, 200532.27, 195278.07, 190656.84, 176845.13999999996, 140912.7, 129390.3, 135825.0, 138263.16, 128737.44, 116125.53, 70164.63, 124589.67, 45373.38, 47393.61, 240965.76, 150653.22, 182578.71, 150900.3, 191881.35, 178913.7, 226681.53, 177817.98, 168959.84999999998, 192046.35, 150023.76, 231231.45, 188453.97, 161277.27, 230379.12, 177768.48, 213718.62, 228889.95, 227267.49, 220131.42, 152531.66999999998, 144083.7, 183100.23, 174831.66, 240659.4, 202764.0, 205753.32, 151674.51, 236456.64, 215110.68, 153342.87, 160071.78, 200807.07, 209250.72000000003, 197325.15, 210840.72000000003, 61673.4, 59053.65, 57032.46, 81493.5, 55192.41, 85329.84, 67179.72, 48365.13, 56299.2, 73151.81999999999, 75900.56999999999, 142276.62, 108552.66, 108781.13999999998, 89256.23999999999, 244438.8, 86550.18000000001, 136584.36000000002, 135947.16, 138161.52, 76122.95999999999, 67923.54000000001, 106203.93, 109377.66, 39243.96, 144813.66, 230309.1, 180548.19, 150589.62, 177133.47, 149563.38, 148792.26, 158306.43, 222522.15, 137201.34, 61540.08, 29385.48, 105208.02, 241969.44, 155515.2, 57719.25, 46164.75, 107298.99, 181524.21, 202083.9, 117493.86000000002, 42229.71, 188147.83200000002, 143539.91400000002, 31383.45, 143539.91400000002, 188147.83200000002, 143539.91400000002, 188147.83200000002, 188147.83200000002, 188147.83200000002, 188147.83200000002, 60613.47, 51334.92, 95517.15, 55160.06999999999, 245079.93, 71801.04000000001, 38875.8, 32400.03, 71312.13, 41616.33, 37921.5, 53454.09, 44688.63, 55440.66, 60395.37, 49625.88, 55454.79, 67879.31999999999, 116700.87, 138919.74, 242791.35, 223762.53, 159636.21, 155683.83000000002, 157373.49, 161833.83000000002, 161591.49, 169688.13, 161639.28, 198866.37, 156136.86000000002, 141363.24, 137881.38, 141492.69, 139180.2, 142136.94, 138817.02, 63266.01, 52368.63, 54664.83, 72490.04999999999, 50304.45, 58536.99000000001, 19071.81, 135932.31, 76792.65, 143292.06, 38529.96, 30044.04, 59973.09, 66367.04999999999, 79188.24, 69305.94, 81504.24, 74980.59, 52496.34, 64661.31, 76419.78, 58686.75, 59468.16, 76590.20999999999, 75610.92, 62790.12, 65232.33, 76875.51, 81005.34, 74278.70999999999, 68960.1, 80130.54000000001, 56239.59, 68756.16, 71043.09, 55985.16, 71535.72, 69637.95000000001, 83345.64, 53207.37, 68299.89, 121535.46, 77008.38, 139451.40000000002, 61018.14, 88735.77, 110330.7, 110854.29, 80586.18000000001, 70830.6, 238719.27, 193817.37, 60243.54, 81162.33, 60856.14, 63273.06, 69700.31999999999, 90239.31, 47841.54, 69660.516, 37593.72, 174417.408, 165968.66999999998, 165968.66999999998, 174417.408, 174417.408, 42107.76, 56739.03, 83386.70999999999, 71591.58, 105309.84, 80292.99, 188147.83200000002, 188147.83200000002, 164366.07, 191468.7, 148013.22, 59577.06, 44083.47, 105123.24, 100349.1, 83578.62, 136556.22, 165968.66999999998, 165968.66999999998, 174417.408, 165968.66999999998, 174417.408, 165968.66999999998, 174417.408, 174417.408, 174417.408, 174417.408, 165968.66999999998, 165968.66999999998, 174417.408, 174417.408, 174417.408, 165968.66999999998, 165968.66999999998, 165968.66999999998, 142922.28, 173383.41, 111071.91, 90723.06, 65527.71, 79164.6, 48881.19, 76142.06999999999, 71568.0, 60140.28, 71721.75, 49002.51, 74112.45000000001, 85446.75, 76427.45999999999, 78271.79999999999, 80212.47, 70747.23, 53190.21, 53696.81999999999, 52956.51, 65870.28, 60555.42, 51124.38, 62855.7, 81499.20000000001, 65182.95, 74930.61, 51918.56999999999, 75125.04000000001, 47818.62, 77303.37, 64826.85000000001, 77785.89, 66165.24, 77459.76, 61356.06, 47848.65, 75701.64, 41477.16, 85544.31, 106816.11000000002, 188147.83200000002, 45813.84, 76169.28, 41383.62, 107116.62, 168320.07, 141346.34999999998, 85929.81, 76379.1, 78586.35, 45154.74, 135104.7, 135004.71, 135140.28, 74929.53, 99820.68, 118962.72, 118074.75, 96041.07, 102147.09, 107254.68, 128119.77, 90999.87, 102300.42, 124189.53, 93787.89, 157405.11000000002, 109838.07, 134214.0, 104599.2, 70268.88, 66923.04000000001, 74822.91, 99991.17, 97124.34, 90586.95, 43678.23, 40909.89, 61752.48, 75214.23, 50282.49000000001, 79217.88, 77635.31999999999, 77870.04000000001, 70723.92, 74472.33, 74555.73, 77867.13, 54858.63, 72370.59, 234502.5, 80774.022, 113446.02, 160733.16, 207468.27, 67447.35, 55961.31, 75773.4, 68620.59, 57358.74000000001, 174417.408, 165968.66999999998, 165968.66999999998, 165968.66999999998, 92684.79, 177946.86000000004, 120796.88999999998, 94800.24, 56324.49000000001, 56236.05, 73387.31999999999, 48581.58, 80142.99, 67887.93000000001, 30715.47, 79595.61, 93112.59, 94937.19, 153643.62, 80074.68000000001, 80937.24, 94868.61, 140990.97, 141317.82, 142046.28, 140496.18, 246719.06999999998, 70485.39, 117926.97, 60053.13, 179574.78, 125063.85, 97337.4, 97131.09, 125651.61000000002, 117019.74, 127858.53, 103583.46, 124116.0, 128006.61000000002, 93808.41, 116372.91, 105142.44, 115872.81, 59592.63, 58488.33, 54903.51, 155764.23, 165950.07, 146162.40000000002, 184324.95, 185367.03, 215717.91, 175334.84999999998, 227017.98, 220163.25, 196316.01, 227789.52, 226710.9, 80213.81999999999, 44957.4, 70336.79999999999, 29239.56, 32179.98, 60908.31, 102464.7, 71251.89, 69201.78, 240459.54, 53253.93000000001, 47827.59, 80084.25, 51097.92, 49358.28, 48536.01, 36984.15, 68800.29000000001, 86159.91, 46940.25, 56043.03, 56805.42, 131280.21, 113369.07, 96334.5, 100764.45, 127252.29, 88580.61, 91374.36, 25200.66, 44949.24, 57877.44, 55839.0, 109253.34, 64157.58, 83650.17, 78597.66, 86408.94, 30310.02, 54785.61, 39010.02, 165968.66999999998, 174417.408, 126674.15400000001, 59336.79, 82971.99, 82397.76, 64832.34, 72230.94, 68153.91, 72775.70999999999, 78646.41, 31989.6, 149122.83000000002, 162015.90000000002, 207052.95, 205368.54, 235978.02, 207781.77, 154791.69, 227200.83, 206718.06, 209814.75, 209227.14, 226650.0, 183460.83, 191967.72, 57326.76, 73463.97, 173755.08000000002, 175896.15000000002, 156712.74, 173393.49, 178232.84999999995, 159474.66, 178308.09, 147290.79, 153190.16999999998, 227752.65, 227010.09, 162090.72, 192469.8, 197325.15, 87010.92, 42460.26, 141860.97, 140886.06, 140006.04, 55472.73, 57338.31, 57338.31, 136978.56, 136117.08000000002, 51785.97, 110746.68, 143352.27, 117893.43, 114573.09, 126996.21, 91126.23, 97063.23, 93688.14, 102628.08, 112926.0, 128475.45, 128811.78, 141378.45, 142889.19, 167732.84999999998, 165968.66999999998, 165968.66999999998, 165968.66999999998, 174417.408, 174417.408, 174417.408, 165968.66999999998, 165968.66999999998, 165968.66999999998, 44005.32, 104943.6, 106833.66, 65129.85000000001, 53431.5, 110434.23, 78164.16, 86835.54000000001, 69338.06999999999, 57455.79, 64298.81999999999, 68351.22, 73610.19, 85822.77, 46135.68, 38205.66, 64598.19, 103189.71, 75021.48, 59988.06, 81692.58, 32311.14, 34010.85000000001, 32916.66, 44380.05, 136973.88, 136211.66999999998, 60000.93000000001, 243536.88, 68542.77, 76953.66, 170860.11000000002, 68510.52, 46740.87, 173239.77, 31965.51, 102446.34, 102446.34, 102446.34, 102446.34, 102446.34, 66710.85, 102734.13, 60333.09, 61778.73, 69461.1, 59144.34, 28534.2, 25762.2, 143539.91400000002, 188147.83200000002, 29944.74, 108197.46, 108141.21599999999, 76411.47, 86274.75, 114947.94, 71372.31, 77737.02, 120496.08, 143307.48, 135210.27, 142013.94, 142200.81, 140948.73, 142483.95, 65816.06999999999, 81196.77, 54369.69, 143151.06, 80515.83, 225524.31, 226815.03, 241606.68, 166541.82, 174467.40000000002, 52822.26, 59456.58, 27359.67, 133004.97, 119756.46, 128870.58, 105422.28, 127454.43, 84435.81599999999, 108005.71800000002, 55694.88, 100938.93599999999, 59742.72, 58743.75600000001, 44652.0, 85321.72799999999, 55537.38, 106120.88999999998, 49979.37, 51190.08, 59775.906, 62349.132, 79994.79000000001, 84555.27, 59096.754, 60858.06000000001, 53971.302, 64642.43999999999, 156508.76400000002, 130949.46599999999, 69082.074, 82235.54400000002, 81027.63, 66277.92, 88190.71800000001, 81613.146, 81412.164, 123339.97200000002, 60102.018000000004, 157606.44, 72594.99, 164326.34999999998, 151359.27, 58099.278000000006, 55231.23, 73590.68999999999, 109441.42199999999, 88603.14, 58047.51, 65964.0, 72740.67, 70929.38999999998, 69009.3, 66658.188, 86568.20999999999, 109441.42199999999, 45205.71, 34500.96, 48342.33, 171334.302, 204460.83, 122190.96, 156508.76400000002, 109441.42199999999, 46742.49, 81869.52, 120716.91, 58187.04, 126780.67799999999, 143544.54, 67273.49399999999, 170965.392, 126833.88, 65433.69, 104429.82, 82053.084, 76528.98, 31926.81, 212255.43, 63629.91, 46668.51, 167040.41999999998, 197137.23, 107377.11000000002, 26600.04, 137646.06, 114711.36000000002, 176847.12, 64892.19, 109441.42199999999, 84304.83, 56838.69, 156508.76400000002, 33640.14, 56395.86, 156508.76400000002, 103931.01, 62720.16, 124915.01400000001, 24983.37000000001, 62720.16, 145525.8, 78327.54000000001, 110278.68, 68637.87, 32055.45, 23851.35, 54433.31999999999, 75899.604, 60513.45, 223088.34, 54111.81, 40270.08, 65431.5, 57460.59, 112479.876, 117681.63, 117680.19, 124303.77, 77613.75, 61324.38, 134816.964, 56199.87, 67546.776, 91820.43, 93854.46, 131906.40000000002, 94957.77, 135760.668, 109441.42199999999, 59031.84, 109441.42199999999, 134106.27, 115524.81, 118743.96, 38627.88, 71665.83, 98736.09, 58426.992000000006, 110580.21, 99290.37, 53724.51, 105575.16, 65194.62, 132221.76, 84449.76, 136049.03399999999, 113087.61000000002, 87579.09, 57431.43000000001, 41621.88, 81711.63, 98638.74, 162576.27, 158069.46, 80920.59599999999, 112579.65, 72649.188, 99499.05, 101157.21, 110716.32, 100938.93599999999, 135760.668, 124030.56, 55733.28, 58271.06999999999, 49046.82, 39640.14, 143794.5, 36261.51, 131777.37, 147454.59, 121508.22, 204206.85, 58720.95, 137095.29, 67556.79000000001, 135760.668, 140334.426, 36699.21, 114714.06, 117254.01, 134816.964, 136891.91999999998, 112479.876, 156508.76400000002, 109441.42199999999, 26025.30000000001, 124499.20800000001, 43929.18, 98074.86, 39395.64, 96514.59, 117177.24, 45554.04, 57177.56999999999, 163653.24, 133637.874, 156508.76400000002, 58426.992000000006, 132576.408, 144910.77, 73384.35, 65296.44, 135760.668, 161719.65000000002, 99272.76, 132320.94, 102315.27, 134816.964, 58099.278000000006, 84032.64600000001, 63181.89, 147032.52, 103299.078, 95399.79, 65242.68000000001, 132576.408, 109216.47, 52690.2, 33841.68, 50524.83, 60413.238, 28175.64, 63416.61, 71437.04999999999, 62313.93000000001, 30292.800000000014, 107287.44, 89138.97, 63520.05, 46140.21, 74765.37, 156333.81, 135760.668, 61917.63, 58104.24000000001, 96961.38, 156508.76400000002, 95100.18, 150161.07, 96530.61, 68254.89, 134816.964, 30857.43, 124499.20800000001, 109441.42199999999, 161702.04, 107229.42, 82756.89, 66422.81999999999, 89265.03, 103364.4, 49524.99000000001, 62266.524, 76848.03, 100784.97, 46372.5, 127525.11000000002, 103176.57, 86138.45999999999, 70062.20999999999, 68051.88, 85109.61, 94973.94, 124658.85, 134816.964, 51326.7, 140334.426, 35269.95, 32066.19, 56788.23, 98722.95, 59847.57000000001, 42171.78, 73629.99, 113140.08, 117948.87, 33083.82, 184786.08, 44378.04, 99108.54, 107119.95, 65193.0, 47228.94, 36956.25, 99860.43, 89098.386, 188800.83, 74751.33, 113898.54, 53720.22, 80547.65400000001, 70643.61, 110380.554, 58426.992000000006, 107573.31, 81848.22, 44576.31, 52191.81, 61331.52, 67546.776, 94282.314, 35922.48, 102635.952, 59474.52, 98225.52, 227453.25, 90337.8, 123810.924, 77351.85, 60181.59, 128697.78, 165826.77, 150783.75, 120187.29, 220397.67, 136137.45, 156508.76400000002, 78466.77, 166430.90400000004, 156508.76400000002, 43334.97, 109441.42199999999, 173985.41999999998, 124901.28, 123869.1, 74531.34, 89098.386, 30197.64, 69700.31999999999, 118755.51, 62115.27, 101694.03, 52915.98, 49485.45, 67796.202, 58871.022, 80203.29000000001, 110380.554, 125370.96, 87731.45999999999, 66956.51999999999, 220345.26, 71947.31999999999, 64449.822, 132576.408, 52191.81, 54206.61, 63680.10000000001, 156508.76400000002, 46038.69, 99748.65, 60467.7, 121426.8, 117737.4, 233454.15, 50993.4, 58023.558000000005, 48411.39, 46995.3, 122118.81, 109441.42199999999, 156508.76400000002, 136733.52, 112821.24, 125123.85, 134816.964, 145525.8, 59718.75, 99374.67, 30863.31, 126780.67799999999, 30125.76, 142680.87, 64434.03, 85857.15, 58426.992000000006, 99362.01, 180054.99, 52155.45, 97767.75, 116009.01, 76230.0, 93687.84, 47646.12, 135760.668, 31669.68, 140334.426, 145525.8, 195005.34, 224923.38, 84060.82200000001, 32088.99, 51238.17, 46542.69, 52328.04, 65645.22, 53402.81999999999, 204172.8, 224639.97000000003, 67796.202, 135760.668, 80633.45999999999, 120227.52, 71354.06999999999, 65483.25, 87331.26, 134816.964, 134816.964, 67428.24, 135760.668, 92092.23, 39335.16, 20245.44, 158921.43, 119512.2, 76820.184, 66658.188, 61932.18000000001, 93711.18, 35579.67, 96792.96, 119816.046, 94840.11, 105523.02, 82922.90400000001, 91678.77, 94310.64, 127049.31, 84834.72, 135760.668, 61951.2, 70952.4, 80770.35, 206137.65, 24354.84, 134816.964, 79938.20999999999, 45787.68, 88206.6, 43922.85000000001, 83569.56, 84844.56, 133402.47, 128263.71, 135760.668, 106467.99, 121448.79, 60299.4, 106952.00999999998, 245685.18, 51649.56, 130068.93, 63341.058000000005, 83356.53, 219533.34, 134816.964, 135760.668, 95343.63, 123076.65, 156508.76400000002, 126780.67799999999, 156508.76400000002, 76853.37, 97469.79, 55351.35000000001, 134816.964, 158628.81, 89098.386, 57682.89, 64212.3, 135760.668, 80451.63, 113084.43, 166597.806, 73683.72, 79150.23, 67119.66, 36006.0, 88083.36, 68215.04999999999, 135760.668, 110478.45, 95227.83, 101469.33, 46090.41, 61496.286, 230813.19, 26494.53, 112029.87, 184631.73, 78985.95000000001, 75385.98, 115460.04, 66489.18000000001, 59615.64599999999, 139908.81, 69422.76, 92785.92, 74524.14, 81803.97, 156072.66, 166597.806, 148677.18, 98920.5, 47744.4, 85857.72, 112479.876, 67119.66, 78457.70999999999, 143483.46, 72107.01, 180738.69, 63665.61, 85751.784, 225904.89, 68927.45999999999, 106816.98, 119332.13999999998, 219878.01, 158838.33000000002, 82053.084, 106876.23, 80387.43000000001, 135760.668, 85648.26, 82053.084, 86891.34599999999, 172744.29, 184195.89, 233032.35, 134816.964, 41849.61, 21834.51, 70775.58, 60792.69, 147331.08000000002, 81605.25, 176109.84, 168726.03, 134364.90000000002, 66106.5, 59300.37, 105470.85, 75169.20000000001, 53571.774, 119907.78, 108005.71800000002, 108084.12, 86891.34599999999, 104179.59, 49870.74000000001, 95619.54, 79485.56999999999, 58426.992000000006, 65533.2, 89018.58, 53571.774, 125408.43, 91591.23, 133960.34999999998, 63115.77, 137630.49, 95399.79, 122039.94, 156508.76400000002, 111828.93, 109441.42199999999, 65677.176, 38800.44, 132576.408, 156508.76400000002, 71305.31999999999, 116597.13, 141785.34, 91867.14, 124499.20800000001, 81514.23, 76046.37, 155188.59, 65677.176, 88196.61, 85390.89, 61863.36, 161930.31, 72649.188, 72815.25, 53571.774, 108527.58, 62266.524, 85515.15, 140363.49, 71311.86, 61899.9, 67730.45999999999, 64473.45, 42080.97, 94358.31, 105372.12, 69229.206, 69229.206, 70018.70999999999, 34711.17, 80270.94, 125806.29, 47183.10000000001, 42616.32, 86264.52, 54475.655999999995, 45643.746, 51403.17, 63754.98, 68034.03, 130893.75, 156508.76400000002, 54211.26, 87731.01, 108821.81400000001, 18622.92, 77339.49, 102369.69, 47586.87, 75295.79999999999, 46542.3, 35461.8, 43733.34, 156810.78, 28033.41, 52191.81, 49468.35000000001, 110153.82, 115096.62, 115473.24, 156508.76400000002, 85217.76, 124895.01, 95399.79, 58426.992000000006, 135760.668, 134816.964, 156508.76400000002, 109441.42199999999, 156924.66, 52766.19, 90510.21, 57774.03, 120461.85, 117964.53, 137646.06, 156508.76400000002, 91781.7, 134816.964, 61767.9, 118654.65, 62856.0, 115992.87, 73364.43000000001, 68319.48, 99213.03, 32822.31, 67803.56400000001, 206441.1, 149980.47, 138568.05, 77223.72, 71016.33, 160898.49, 89098.386, 59952.21, 19305.0, 54977.34, 246031.53, 89733.6, 47872.26, 54062.49000000001, 156508.76400000002, 88366.20000000003, 141196.71, 81556.11, 87029.45999999999, 119053.65, 61946.85000000001, 89083.86, 79984.59, 49828.338, 181789.02, 83423.25, 109441.42199999999, 84521.91, 235790.91, 86658.66, 43461.48, 66795.39, 156416.82, 52247.52, 87631.70999999999, 61173.78, 37452.42, 63344.76, 112479.876, 58927.8, 118835.1, 140334.426, 119493.45, 103079.076, 48600.0, 54651.36, 68453.91, 72488.47799999999, 109240.71, 243985.17, 74087.64, 40404.93, 72053.73, 88963.29000000002, 10455.84, 53394.99000000001, 100204.17, 134816.964, 185401.35, 140334.426, 134816.964, 70127.37, 95399.79, 172787.01, 63822.99000000001, 101307.03, 109712.91, 61608.63, 106112.73, 140334.426, 53971.302, 62329.59, 43078.89, 46180.74, 99571.53, 67264.17, 67264.17, 230065.83, 69239.31, 67264.17, 58678.77, 106973.76, 60902.7, 79380.0, 59596.08, 67546.776, 146629.71, 82918.17, 55928.58, 102803.63999999998, 64449.822, 72887.85, 168942.81, 110380.554, 185229.06, 59615.64599999999, 95613.96, 138548.28, 48967.74, 169735.32, 58927.05, 94119.57, 85103.25, 97202.85, 56729.4, 71845.83, 28255.29, 84847.476, 66703.98, 116436.33, 151563.54, 69204.54000000001, 126780.67799999999, 34764.93, 53401.38, 60559.38, 47008.95, 30814.68, 72010.86, 100796.13, 83703.0, 102481.47, 82053.084, 35922.48, 84032.64600000001, 98242.08, 58426.992000000006, 134816.964, 134816.964, 143338.458, 65115.18000000001, 52191.81, 135904.47, 53448.87, 108056.13, 58426.992000000006, 104198.16, 132576.408, 187222.32, 78379.08, 72873.74399999999, 30293.07, 72073.02, 134816.964, 69009.3, 152043.63, 79953.33, 108188.43, 72649.188, 63987.45, 43566.03, 63588.18000000001, 100938.93599999999, 41603.10000000001, 125841.99, 50787.21, 138620.43, 134816.964, 114107.61000000002, 93286.5, 74237.06999999999, 134816.964, 113189.52, 67119.66, 124670.88, 36470.55, 92547.63, 59161.38, 156508.76400000002, 112919.76, 135760.668, 105501.3, 124895.01, 44853.21, 135760.668, 146071.86000000002, 94832.94, 134816.964, 56888.10000000001, 145525.8, 118117.05, 158726.28, 104639.13, 124499.20800000001, 38431.71, 84698.1, 49959.03, 106952.00999999998, 47592.57, 122362.62, 42331.98, 53622.21, 37089.18, 206651.22000000003, 58023.558000000005, 70149.12, 188668.41, 99017.63999999998, 135760.668, 125587.26, 68912.91, 31586.31, 93380.724, 94652.34, 107238.99, 133637.874, 158044.47, 135760.668, 120246.66, 50632.59, 70929.06, 45583.92, 73617.75, 85863.95999999999, 122749.38, 58426.992000000006, 56975.64, 140334.426, 107166.24, 78042.29999999999, 134714.55, 63372.3, 20344.08, 16647.510000000002, 198801.3, 79825.11, 130172.04, 171334.302, 52773.87, 54230.04, 148502.43, 89098.386, 92890.23, 124499.20800000001, 99719.49, 135760.668, 69730.62, 97755.27, 90190.44, 92625.99, 134816.964, 84719.53199999999, 109441.42199999999, 78159.774, 60693.42, 54475.655999999995, 135760.668, 43852.83, 134959.8, 71781.87, 82106.49, 69700.31999999999, 90636.39, 74478.13200000001, 54971.22, 107645.82, 66474.29999999999, 103928.16, 216039.66, 76854.04800000001, 174366.99, 135536.28, 194750.25, 135760.668, 52777.5, 49059.39, 69411.9, 65459.37, 82232.91, 40015.23, 61054.83, 34083.0, 52752.69, 141877.13999999998, 44098.59, 60851.61, 87745.47, 73852.74, 124534.13999999998, 33263.19, 88245.88200000001, 41038.8, 71781.27, 66292.92, 56562.276, 36431.73, 59088.45, 49828.338, 51541.5, 135760.668, 123535.05, 51541.5, 112682.13, 135760.668, 44958.9, 82209.36, 143596.13999999998, 84987.20999999999, 138762.72, 101290.26, 53563.23, 58927.8, 60998.97, 52191.81, 18603.45, 68653.92, 39088.17, 69380.91, 39557.25, 67589.28, 64265.514, 34983.06, 63048.99000000001, 36745.35000000001, 129780.12, 55723.62, 55281.492000000006, 52766.04, 117751.38, 91335.348, 93891.72, 86451.78, 106180.47, 66578.58, 76088.94, 140334.426, 28563.300000000014, 118562.7, 176514.93, 73197.51, 84524.148, 43658.49, 78505.47, 101984.85, 136839.59999999998, 52191.81, 73723.47, 117134.16, 135760.668, 135760.668, 59250.522, 154261.98, 135760.668, 84524.148, 58533.93000000001, 37896.0, 89161.04999999997, 49838.94, 51473.79, 124499.20800000001, 113580.78, 59096.754, 77713.95000000001, 93241.92, 134816.964, 55331.31, 49859.13, 40418.10000000001, 84524.148, 72196.68000000001, 52191.81, 37547.07, 24073.92, 58826.88, 124915.01400000001, 146534.97, 38775.57, 91064.19, 92341.29, 74442.99, 41155.8, 49689.18000000001, 41155.8, 38839.44, 144758.09999999998, 68061.99, 40806.27, 144062.19, 64417.121999999996, 124684.74, 72540.93000000001, 83869.11, 73607.28, 140334.426, 85677.0, 70010.76, 59144.94, 202778.88, 73660.08, 56195.91, 52995.0, 62027.94, 62224.2, 217983.06, 127596.68400000001, 134646.99000000002, 134137.98, 102594.0, 197781.36, 122342.79, 71562.15, 80801.01, 51584.85000000001, 48927.75, 48770.25, 125877.03, 28185.99, 90713.1, 69700.31999999999, 58910.58, 84391.08, 66197.298, 69700.31999999999, 82610.4, 51242.81999999999, 134816.964, 109592.97, 58426.992000000006, 156508.76400000002, 98507.25, 101077.38, 74299.41, 68451.94200000001, 55735.92, 70929.38999999998, 39916.8, 142512.21, 45812.58, 134415.3, 99770.22, 77719.86, 69700.31999999999, 133104.27, 65920.79999999999, 87609.33, 149230.59, 86060.4, 136049.03399999999, 72272.81999999999, 134816.964, 86659.62, 56781.0, 135760.668, 65732.85, 59150.406, 122558.82, 164752.71, 115096.62, 91436.25, 110334.96, 30506.16, 80920.59599999999, 152288.76, 103365.54, 105636.87, 30525.45, 102635.952, 88950.36000000002, 59150.406, 72963.21, 51163.38, 144581.28, 132976.806, 80227.92, 81541.79999999999, 58743.75600000001, 190668.78, 79240.31999999999, 110159.25, 35103.39, 34901.82, 64180.193999999996, 100938.93599999999, 128396.19, 102242.25, 84510.09, 38074.32, 65012.64, 142219.8, 50577.66, 68472.63, 170195.55, 159177.69, 46300.59, 113658.9, 110521.98, 106704.24, 69700.31999999999, 65323.31999999999, 76831.70999999999, 59945.79, 78599.70000000001, 147583.32, 99235.88999999998, 86050.56, 37835.16, 72873.74399999999, 63647.10000000001, 80555.64, 46126.83, 97303.08, 79567.47, 86568.54000000001, 61782.48, 81027.63, 50229.09, 72013.38, 81027.63, 84719.95800000001, 75235.35, 105633.42, 93709.68, 85670.88, 56709.78, 129751.02, 105114.81, 90872.37, 97533.84, 88349.85, 156508.76400000002, 90092.43, 99813.3, 100792.08, 107045.79, 56271.09, 73848.06, 61558.56, 69921.06, 113786.94, 102208.11000000002, 70047.48, 131368.26, 91701.84, 47304.72, 80923.04999999999, 49604.04, 91335.348, 126211.16400000002, 133815.38999999998, 121866.09, 73506.93000000001, 66491.28, 84599.022, 150709.5, 113071.59, 148604.82, 65979.558, 136323.51, 68454.15, 91335.348, 107774.7, 66067.41, 82933.17, 35438.91, 108276.57, 88036.77, 74782.77, 128979.0, 104464.29, 67796.202, 74848.29000000001, 102968.16, 92932.89, 120936.75, 94282.314, 59023.05, 108667.2, 96429.69, 85179.18000000001, 82405.35, 110137.75200000001, 85600.83, 91679.64, 142741.62, 130331.82, 82349.58, 164311.29, 123185.67, 90278.91, 82536.48, 134816.964, 120988.692, 71962.56, 71272.38, 123999.69, 43495.92, 41190.69, 197010.72000000003, 84524.148, 84524.148, 101194.95, 68163.47399999999, 198627.57, 77480.34, 51736.5, 54166.62, 93045.624, 61496.286, 61390.71, 169207.02, 92542.98, 72207.78, 140732.01, 36338.79, 107634.66, 35274.48, 61041.08999999999, 85410.81, 135760.668, 184288.32, 124895.01, 106373.76, 98586.36000000002, 61520.49000000001, 223487.61, 84842.424, 156508.76400000002, 166133.7, 114326.796, 63990.06, 194371.47, 132976.806, 58182.78, 100653.0, 89089.59, 109441.42199999999, 62787.21, 76854.04800000001, 50463.63, 100236.98400000003, 156508.76400000002, 64374.0, 70642.62, 58426.992000000006, 116575.65, 76544.73, 78176.22, 148677.18, 74708.49, 66540.48, 58426.992000000006, 135760.668, 214309.14, 79998.72, 88950.36000000002, 91335.348, 113316.66, 34406.58, 77346.51, 68318.45999999999, 64347.36, 86863.38, 77320.92, 64620.56999999999, 64194.99000000001, 103079.076, 58728.39, 68421.36, 90408.75, 91282.71, 131351.94, 99717.06, 59930.22, 170965.392, 111933.0, 45086.37, 103007.346, 52255.968, 102729.24, 125167.88999999998, 100938.93599999999, 94603.68, 70087.98, 84061.95000000001, 44938.2, 85073.61, 42273.99, 140953.86000000002, 46145.94, 82661.76, 25694.58, 69700.31999999999, 84719.95800000001, 13093.26, 50457.06, 85568.97, 82756.11, 134770.2, 59537.49000000001, 165098.22, 163525.91999999998, 156508.76400000002, 144434.43, 63323.724, 241026.66, 81074.97, 50472.81, 109645.13999999998, 97064.98199999999, 66710.1, 71963.088, 124206.9, 31130.370000000014, 109664.37, 155902.11000000002, 228682.53, 124952.62200000002, 63750.93000000001, 128272.13999999998, 160448.52, 44816.13, 91094.85, 135760.668, 98443.35, 184900.392, 130619.08799999999, 76909.62, 125605.5, 135760.668, 121046.7, 40078.14, 130865.37, 75725.64, 100236.98400000003, 99788.19, 84032.64600000001, 30287.82, 148708.05, 160133.97, 38413.77, 62154.72, 114560.49, 93250.86, 140334.426, 73590.68999999999, 124915.01400000001, 58426.992000000006, 64393.17, 84683.64, 49616.46, 74152.65, 72165.27, 103312.47, 132958.74, 67796.202, 78313.56, 107844.96, 59319.09, 49027.56, 132976.806, 68550.03, 79817.88, 158044.47, 74182.56, 41203.71, 81678.18000000001, 172046.79, 50941.83, 49722.78, 144761.43, 129294.3, 135760.668, 156508.76400000002, 29164.590000000004, 75886.17, 94085.01, 244185.66, 147249.36000000002, 138929.58000000002, 45643.746, 41975.19, 64726.92, 64042.547999999995, 109441.42199999999, 104906.01, 40972.02, 109840.59, 107634.66, 186598.11, 156508.76400000002, 156508.76400000002, 105081.09, 91711.65, 124690.68, 95351.31, 80263.65, 40769.25, 72453.492, 105727.38, 45783.57, 49775.55, 102863.13, 58745.61, 117138.63, 69051.84599999999, 98518.08, 117036.87, 82053.084, 58953.06, 58710.012, 84719.95800000001, 61041.08999999999, 135760.668, 52858.02, 124533.15, 197275.71, 72795.99, 97175.856, 132696.96, 98187.3, 69964.65, 135760.668, 100938.93599999999, 159862.62, 38641.32, 49259.22, 82978.56, 65010.54, 97785.33, 185893.86, 41959.74, 102878.22, 122642.63999999998, 53871.24000000001, 83493.87, 134816.964, 76411.77, 56563.62, 132976.806, 72847.41, 75511.29000000001, 54522.87, 50700.18000000001, 125688.72, 184662.99, 155976.234, 60242.25, 135757.16999999998, 47492.46, 57932.25, 124024.26, 159031.34999999998, 75061.14, 109441.42199999999, 99169.11000000002, 122720.52, 55861.53, 65376.654, 61685.22, 64154.43000000001, 66197.298, 88640.778, 104550.45, 57039.69, 182501.79, 49177.83, 143183.79, 115480.26, 68161.14, 53256.51, 72292.42199999999, 97866.0, 79456.77, 53223.51, 49727.64, 35375.85000000001, 105872.472, 117507.0, 84524.148, 117809.59199999999, 107173.95, 66704.49, 84524.148, 104242.5, 134816.964, 201083.28, 90205.29, 115051.13999999998, 83457.78, 135760.668, 141414.81, 55453.23, 37046.07, 80710.302, 37439.67, 108590.04, 85094.34, 115268.49, 81746.4, 92769.84, 115026.84, 35411.07, 44026.02, 103862.37, 84423.29999999999, 98977.41, 39694.41, 121119.27, 134260.8, 58426.992000000006, 156471.63, 181857.96, 103287.81, 142610.52, 102393.72, 91839.75, 100265.25, 50143.8, 60665.04, 51515.4, 44100.0, 100938.93599999999, 108659.58, 160242.03, 74760.15, 50403.21, 143417.88, 35339.46, 51372.03, 110874.96, 66005.64, 86494.17, 126522.6, 104659.05, 119676.51, 215338.5, 93828.87, 137646.06, 29122.89, 112649.34, 95399.79, 145244.79, 110235.09, 81678.18000000001, 56780.13, 35741.61, 134816.964, 74684.97, 117491.52, 61496.286, 48865.896, 73417.374, 90850.26, 124276.88999999998, 58049.31, 123307.17, 138082.34999999998, 103079.076, 55785.03, 83783.22, 153821.66999999998, 68566.14, 71428.62, 130097.1, 38186.46, 69749.91, 44962.92, 50974.31999999999, 60313.95, 77893.86, 90993.33, 100938.93600000002, 126780.67799999999, 46596.24, 50777.34, 52184.10000000001, 87816.15, 37068.63, 97832.97, 40431.78, 111546.56999999999, 36219.51, 42400.32, 72550.68000000001, 60224.97, 22528.47, 54454.56, 223633.71, 123957.492, 111500.58, 88950.36000000002, 96721.71, 83703.0, 118255.41600000001, 92542.14, 110380.554, 37636.44, 113262.24, 73477.08, 143293.74, 93579.39, 86347.5, 169107.33000000002, 167988.99, 83233.41, 27336.6, 96255.93, 79378.926, 22332.6, 71953.20000000001, 174787.88400000002, 100311.45, 105081.09, 160585.44, 82017.29999999999, 71087.37, 87377.742, 112978.26, 168609.3, 78233.16, 82193.34, 217046.94, 99654.84, 77214.29999999999, 62266.524, 138815.61000000002, 65952.69, 80787.75, 77907.39, 131428.83000000002, 72376.17, 63771.45, 117809.59199999999, 25677.66, 65376.654, 62102.79, 68466.75600000001, 63040.68000000001, 91759.29, 69700.31999999999, 44803.53, 51199.47, 61496.286, 78006.29999999999, 189116.55, 79114.11, 58099.278000000006, 75022.41, 10652.82, 46502.67, 87210.87, 103364.4, 100938.93599999999, 168150.75, 68217.06, 52255.968, 58710.012, 51584.19, 64960.35000000001, 65677.176, 64122.06, 68366.04000000001, 184900.392, 84815.13, 57005.43000000001, 74845.35, 80474.85, 136234.29, 34173.36, 62207.37, 64515.42, 75494.166, 94710.09, 78966.66, 115008.06, 85366.86, 116939.03400000001, 43208.49, 60665.04, 91787.16, 170965.392, 92409.48, 39321.39, 48007.98, 65314.29, 105100.77, 57329.91, 50483.7, 91335.348, 116939.03400000001, 39773.55, 80710.302, 123522.78, 51283.68000000001, 79466.85, 57482.88, 74870.45999999999, 72273.29999999999, 91335.348, 208463.94, 106952.00999999998, 84891.33, 109698.9, 40792.92, 100337.25, 61496.286, 189040.62, 62597.7, 81231.12, 92966.34, 31559.19, 85751.784, 108835.41, 61793.04, 136049.03399999999, 54554.79, 144143.40000000002, 78477.12, 62011.464, 83994.33, 75301.5, 61494.21, 39539.79, 156250.32, 97468.65, 68451.94200000001, 81179.37, 51096.87, 35491.62, 90383.58, 48812.61, 106393.32, 154127.7, 143195.07, 60202.41, 161697.51, 66409.95000000001, 84099.78, 77211.09, 41700.93, 229656.81, 33855.48, 135760.668, 148857.36000000002, 99774.3, 109441.42199999999, 158395.95, 127363.13999999998, 91911.00600000001, 102760.26, 88595.04000000002, 246847.47000000003, 15312.57, 95399.79, 50774.13, 89396.85, 103389.9, 82931.06999999999, 51376.31999999999, 147073.02, 90858.12, 51221.7, 87870.95999999999, 56064.33, 88404.84, 57350.76, 143848.48200000002, 70645.344, 51289.74000000001, 124247.49, 156508.76400000002, 48798.54, 69917.52, 58950.21, 76733.85, 135989.58000000002, 123862.62, 97821.6, 140334.426, 65996.76, 134291.88, 56640.0, 150463.65000000002, 171999.38999999998, 83204.1, 72735.24, 70042.70999999999, 41152.71, 102280.88999999998, 47744.94000000001, 55090.92, 91911.00600000001, 104548.26, 83740.11, 119155.11000000002, 77450.49, 76256.856, 58099.278000000006, 20068.71, 135760.668, 91911.00600000001, 80485.04999999999, 97820.7, 18496.89, 66551.19, 90217.8, 61998.0, 135760.668, 165353.19, 98749.59, 158044.47, 58499.94, 58426.992000000006, 36444.18, 162233.04, 77101.35, 42769.23, 93102.96, 34010.58, 64905.06, 156508.76400000002, 69768.99, 94282.314, 132795.9, 91911.00600000001, 85836.27, 38146.89, 61170.33, 82240.41, 133690.34999999998, 58123.89, 157997.07, 84280.74, 57167.55, 156508.76400000002, 135522.15000000002, 66219.24, 69270.45000000001, 109441.42199999999, 88679.22, 63826.53, 91413.69, 103339.02, 67227.36, 87746.19, 39957.69, 91588.5, 45021.93, 117682.17, 95399.79, 114075.48, 166500.38999999998, 109441.42199999999, 148283.37, 38539.02, 159460.5, 132260.66999999998, 58605.39, 65334.15, 164737.77, 74807.01, 82430.22, 134816.964, 137646.06, 38666.97, 112252.56, 74010.39, 69297.45000000001, 132795.9, 98155.98, 107203.77, 70351.95000000001, 83047.02, 82317.33, 104156.67, 70062.39, 89543.64, 54185.7, 116409.75, 94318.53, 74430.06, 91911.00600000001, 29463.06, 57581.91, 155982.45, 184256.91, 42058.95, 91911.00600000001, 58018.422, 53571.774, 79316.06999999999, 79539.54000000001, 156508.76400000002, 132572.76, 111912.54, 109441.42199999999, 33135.0, 37315.65, 97675.53, 32235.42, 61902.918000000005, 53685.87, 76820.184, 112659.91799999999, 67620.66, 146561.13, 82261.26, 55380.60000000001, 60322.83, 46741.344000000005, 12520.62, 56209.59, 87630.27, 56367.3, 45412.23, 65270.49000000001, 154449.09, 109441.42199999999, 89986.56, 122276.23800000001, 76831.70999999999, 73539.888, 70054.572, 79820.13, 115717.638, 105410.598, 157954.452, 96368.682, 144938.37000000002, 95440.44, 105792.384, 110246.56800000001, 64329.91799999999, 100089.48, 48795.708, 88264.278, 70593.80399999999, 122900.55, 145460.4, 167556.33599999998, 51414.06, 144938.37000000002, 81330.62999999999, 71446.35, 75766.68000000001, 132038.55, 144938.37000000002, 80091.948, 85003.188, 123365.03399999999, 70267.86, 85327.812, 144093.408, 85327.812, 40132.47, 84794.4, 39899.28, 80158.15800000001, 105835.206, 86856.18599999999, 109521.91799999999, 165735.294, 133283.286, 72598.098, 104005.68, 143343.72, 115515.054, 106445.724, 130647.88200000001, 121979.79599999997, 101046.9, 235038.402, 56561.873999999996, 99625.512, 60068.286, 67840.776, 83024.29199999999, 80770.35, 227175.75, 99563.65800000001, 167556.33599999998, 165385.476, 130647.88200000001, 96368.682, 68535.92400000001, 112600.776, 70054.572, 152924.72999999998, 187504.11, 63323.724, 93088.554, 121979.79599999997, 61657.14599999999, 99229.11, 104223.516, 208372.686, 168564.0, 48970.878, 103755.492, 243312.13199999998, 67899.678, 76787.21399999999, 67899.678, 69082.074, 71408.352, 121444.52999999998, 53008.26, 84244.26, 68947.65, 80920.59599999999, 61842.126000000004, 79747.41, 56172.75, 122900.55, 73539.888, 97867.78800000002, 69051.84599999999, 137158.272, 54217.308, 116904.49799999999, 96770.082, 103429.96199999998, 105922.884, 74478.13200000001, 113042.66399999999, 114070.28400000001, 243312.13199999998, 99876.12599999999, 60102.018000000004, 72561.396, 104091.84599999999, 95547.852, 48019.27200000001, 122360.96399999999, 109002.68400000001, 190417.332, 140360.946, 105835.206, 135035.49, 98110.36200000001, 166893.234, 77232.462, 76335.90000000001, 85936.05, 215545.35, 135878.68199999997, 85394.32200000001, 154154.66999999998, 186911.16, 80604.91200000001, 94155.28799999999, 76335.90000000001, 134805.12, 110594.688, 86139.474, 121979.79599999997, 88959.348, 85327.812, 74286.462, 104137.19399999999, 175810.58399999997, 143826.162, 190417.332, 121979.79599999997, 71144.976, 111493.008, 75205.992, 201502.62, 162555.402, 97175.856, 66140.97, 126956.08200000001, 72561.396, 112809.52799999998, 84599.022, 53150.35799999999, 214387.32599999997, 156314.346, 167556.33599999998, 127479.09599999999, 62059.80000000001, 82922.904, 114566.58599999998, 78238.41, 122900.55, 144938.37000000002, 108931.93199999999, 98110.36200000001, 48509.52, 126956.08200000001, 79769.16, 226967.67600000004, 130126.098, 82912.392, 118173.44399999999, 165919.71, 226967.67600000004, 62188.2, 55678.338, 88730.43000000002, 64104.27, 175771.26, 81842.088, 175771.26, 243312.13199999998, 94705.40400000001, 121979.79599999997, 85327.812, 179167.95599999998, 52636.88999999999, 123959.74799999999, 85327.812, 112015.21200000001, 166893.234, 73616.064, 55302.96, 77574.726, 109002.68400000001, 33380.64, 113958.68399999998, 167556.33599999998, 60900.56999999999, 72922.242, 164579.66400000002, 59150.406, 80317.296, 162555.402, 181977.648, 72395.598, 124623.06, 100887.11399999999, 84166.824, 121331.92199999999, 60819.6, 83125.11600000001, 110246.56800000001, 133750.52400000003, 121331.92199999999, 88190.718, 114315.258, 100463.99999999999, 97790.736, 80195.04000000001, 79741.38, 67840.776, 121979.79599999997, 235038.402, 122900.55, 74687.61000000002, 131907.28199999998, 131018.352, 98231.01, 66839.664, 140189.97599999997, 89780.98799999998, 76787.21399999999, 121331.92199999999, 145460.4, 76335.90000000001, 117389.63999999998, 81842.088, 69051.84599999999, 77535.75, 76984.07999999999, 121331.92199999999, 104137.19399999999, 110246.56800000001, 93277.704, 76787.21399999999, 68535.924, 190417.332, 117637.068, 94987.42199999999, 104137.19399999999, 208372.686, 193212.816, 132888.342, 78212.562, 81549.312, 65656.656, 102233.436, 80641.428, 87117.288, 123365.03399999999, 88959.348, 81027.63, 167517.70800000004, 173087.802, 66538.77, 75196.75200000001, 208372.686, 245780.46, 122900.55, 114070.28400000001, 169512.96, 122360.96399999999, 126033.822, 101377.00200000001, 54794.376000000004, 88580.23199999999, 62091.618, 50692.638, 70577.238, 114070.28400000001, 91120.33800000002, 72395.598, 108821.81400000001, 94569.08399999999, 158308.128, 113027.232, 95998.29, 72509.442, 89364.27, 55021.83, 77588.04000000001, 111871.21800000002, 78717.036, 58585.788, 131907.28199999998, 167556.33599999998, 110246.56800000001, 83580.00600000001, 88959.348, 144938.37000000002, 128115.09, 85327.812, 96258.75, 62091.618, 104137.19399999999, 143826.162, 72363.966, 226967.67600000004, 153372.66, 140189.97599999997, 96970.51800000001, 140360.946, 42989.37, 104137.19399999999, 155976.234, 121979.79599999997, 243312.13199999998, 140189.97599999997, 97610.478, 135861.90000000002, 143826.162, 63383.958, 100172.328, 158308.128, 234422.592, 48795.708, 98110.36200000001, 93220.452, 138686.214, 211171.34399999998, 88959.348, 67095.144, 79937.604, 193212.816, 110749.26, 110246.56800000001, 106350.552, 46680.252, 126086.73, 96298.90800000001, 90606.63, 36124.44, 121331.92199999999, 71639.85, 121979.79599999997, 62572.907999999996, 84590.64, 131907.28199999998, 115515.054, 105118.59000000001, 241752.63, 100853.712, 165735.294, 64642.43999999999, 175771.26, 143826.162, 114070.28400000001, 184809.57, 84166.824, 84381.67199999999, 69796.94399999999, 89673.972, 81330.62999999999, 74478.13200000001, 145460.4, 145460.4, 74478.13200000001, 112015.21200000001, 99563.65800000001, 54217.308, 64159.70399999999, 98967.74399999999, 123339.97200000002, 200955.69, 81842.088, 107935.80599999998, 127806.16200000001, 55082.19, 89195.262, 175322.94, 234422.592, 57273.89400000001, 84166.824, 61793.04, 78633.07800000001, 58078.596, 53942.08200000001, 71057.76, 126033.822, 146007.0, 57892.56, 89435.094, 80091.948, 131907.28199999998, 85327.812, 167556.33599999998, 119320.794, 64460.724, 146844.24000000002, 148882.758, 211171.34399999998, 82352.088, 53340.990000000005, 96901.47000000002, 100415.124, 143826.162, 165735.294, 77574.726, 69253.02, 57892.56, 79747.41, 72363.966, 93341.538, 78198.3, 97726.17, 100415.124, 81663.01800000001, 85780.57800000001, 130710.21599999999, 134805.12, 182798.80199999997, 100887.11399999999, 76335.90000000001, 77124.834, 65333.898, 111590.7, 143826.162, 63474.738, 99087.9, 81280.11600000001, 81549.312, 108821.81400000001, 100887.11399999999, 68864.86799999999, 133750.524, 80646.17400000001, 106885.956, 168564.0, 157954.452, 91068.74399999999, 126211.16400000002, 119511.69, 155976.234, 98778.054, 200690.16, 110594.688, 81280.11600000001, 81779.01599999999, 169754.904, 99624.324, 90042.12000000001, 94282.314, 146007.0, 100560.73199999999, 197541.88199999998, 76787.21399999999, 121979.79599999997, 146844.24000000002, 93277.704, 117726.63600000001, 95547.852, 121331.92199999999, 52655.376000000004, 108744.91800000002, 102793.554, 54004.656, 243312.13199999998, 71255.508, 234422.592, 167556.33599999998, 75196.75200000001, 112773.96600000001, 69660.516, 91595.01599999999, 157954.452, 75568.776, 81280.11600000001, 97048.31400000001, 78748.08, 85936.05, 79747.41, 114888.024, 67322.178, 143826.162, 76921.494, 85327.812, 168564.0, 126033.822, 208372.686, 96970.51800000001, 117671.98799999998, 123365.03399999999, 58523.406, 76990.086, 67272.72, 144938.37000000002, 105224.028, 193212.816, 175771.26, 153078.678, 144938.37000000002, 94978.674, 94978.674, 76787.21399999999, 126033.822, 56561.873999999996, 130710.21599999999, 98393.454, 164579.66400000002, 61435.674, 76921.494, 89435.094, 83447.064, 79761.78, 75712.188, 93503.88, 107312.52000000002, 133750.524, 81549.312, 78748.08, 110788.254, 93373.332, 208372.686, 106838.376, 92501.37, 102139.986, 74103.24, 59678.88, 94978.674, 101046.9, 124510.008, 101888.766, 133750.524, 94282.314, 90909.3, 114315.258, 93088.554, 88378.95, 145460.4, 103429.96199999998, 234422.592, 111318.12, 85780.41, 86139.474, 71963.088, 93025.326, 85327.812, 116188.254, 46741.344000000005, 88959.348, 91464.918, 98110.36200000001, 86139.474, 133750.52400000003, 131907.28199999998, 81779.01599999999, 236540.85, 94987.42199999999, 146007.0, 172591.23, 121979.79599999997, 171727.88999999998, 64435.116, 164579.66400000002, 148090.16400000002, 212952.3, 143826.162, 49674.12, 58233.63600000001, 102004.29, 94208.712, 84827.682, 145460.4, 59735.01, 97048.31400000001, 71223.528, 100887.11399999999, 131907.28199999998, 140189.97599999997, 114205.78799999999, 111330.72, 55424.83200000001, 135878.68199999997, 79866.912, 132038.55, 94363.206, 123365.03399999999, 60463.128000000004, 101838.76199999999, 121331.92199999999, 44360.664000000004, 243312.13199999998, 77588.04000000001, 182798.80199999997, 38934.75, 83382.3, 117671.98799999998, 167556.33599999998, 131907.28199999998, 146844.24000000002, 76237.74, 167556.33599999998, 74919.27, 85327.812, 110898.06, 112293.21, 184183.53, 130126.098, 111662.37, 146007.0, 65979.558, 86813.34, 65881.56, 164579.66400000002, 51294.54, 169754.904, 88959.348, 139480.71, 88032.24, 93088.554, 126098.496, 79028.28, 66658.188, 55231.23, 98231.01, 88032.24, 54765.99000000001, 76799.45999999999, 208263.42, 79202.73000000001, 53045.406, 85827.48, 157954.452, 62059.80000000001, 101888.766, 100804.932, 52752.0, 46128.18, 76649.16, 101366.7, 67899.678, 88959.348, 98231.01, 48204.69, 74597.01, 121979.79599999997, 61359.56999999999, 52636.88999999999, 75633.6, 104702.73, 76026.29999999999, 110246.56800000001, 70943.31, 54217.308, 35426.49, 87340.35, 110594.688, 131907.28199999998, 71604.99, 147025.32599999997, 78198.3, 76335.90000000001, 53523.60000000001, 71859.93000000001, 59704.89, 140360.946, 171236.46, 81330.62999999999, 164410.65000000002, 118107.93, 214924.02, 73507.21800000001, 134753.37, 154049.46, 190417.332, 61997.28, 32005.32, 105118.59000000001, 105100.59599999999, 73167.384, 101396.586, 108219.894, 135589.47, 114070.28400000001, 147025.32599999997, 149033.31, 52636.89, 69051.84599999999, 88959.348, 82164.222, 96298.90800000001, 87060.27, 76787.21399999999, 111044.49, 78748.08, 106885.956, 44436.234000000004, 190397.1, 100379.37, 220029.39, 120156.96, 114888.024, 60261.99000000001, 52117.056, 81549.312, 67422.06, 64289.08200000001, 164577.59999999998, 167517.70800000004, 181977.648, 104137.19399999999, 62091.618, 72971.76, 99211.37400000001, 189629.01, 101068.65, 77290.56, 103640.85, 83889.63, 61475.97, 79993.59, 44187.42, 55905.132, 100689.16799999999, 148090.16400000002, 76686.27, 80604.91200000001, 96632.01, 97539.48, 69313.83, 85327.812, 188235.33, 113042.66400000002, 96496.59, 53305.44, 187605.198, 73539.888, 65443.92, 48320.19, 72128.34, 83738.55, 80353.26, 37727.22, 73640.43000000001, 57697.44, 211171.34399999998, 156630.06, 90239.664, 93114.99, 94705.40400000001, 88069.31999999998, 94559.7, 96898.5, 106885.956, 49570.367999999995, 92550.384, 50084.61, 102272.13, 83738.55, 73998.64199999999, 89641.26, 59253.96, 77575.86, 40040.07, 88580.23199999999, 57345.51, 61488.81, 144093.408, 31471.83, 80393.76, 152594.07, 147025.32599999997, 71283.6, 88999.14, 38673.3, 110594.688, 98967.74399999999, 65173.35000000001, 80098.5, 72576.58800000002, 158955.57, 70834.962, 105125.07, 65775.66, 73414.56, 92958.11400000002, 89680.08, 77138.43000000001, 102897.99, 111934.32, 127538.82, 39306.57, 65333.898, 83433.51, 94978.674, 117067.26, 36828.9, 69169.11, 105410.598, 144808.44, 111281.01, 54849.09, 83660.88, 153735.18, 52015.41, 76486.62, 152183.40000000002, 48542.94, 169267.32, 168228.36000000002, 105375.99, 83927.01, 101068.65, 113730.96, 99164.90400000001, 103210.59, 133328.72400000002, 94889.91, 73901.61, 30415.89, 61915.83, 89471.84400000001, 164064.36000000002, 172852.11000000002, 81412.164, 83422.79999999999, 81780.27, 68990.81999999999, 79783.602, 51627.39, 124505.31, 110594.688, 133823.37, 181695.75, 66231.63, 106658.46, 112375.44, 52022.73, 40330.53, 72556.04999999999, 91932.828, 43880.10000000001, 164579.66400000002, 115602.546, 126033.822, 89583.87, 187635.06600000005, 69799.79999999999, 64862.22, 140360.946, 176961.402, 56571.33, 189846.48, 208372.686, 67698.63, 148085.04, 56710.77, 58010.64, 121545.93, 76335.90000000001, 107117.34, 94389.732, 55100.61, 98243.67, 127192.77, 121979.79599999997, 45171.60000000001, 134555.016, 68780.34, 144093.408, 76663.95000000001, 90731.46, 125557.32, 140887.8, 82016.79000000001, 185742.54, 86652.07800000001, 65603.85, 80126.81999999999, 72299.76, 139128.354, 164579.66400000002, 67575.95999999999, 70028.61, 80822.49, 48521.43, 80317.296, 26480.64, 76067.36400000002, 56116.77, 122650.29, 88580.232, 69229.206, 130127.91, 118173.44399999999, 71615.364, 144938.37000000002, 64677.42, 86652.07800000001, 65779.03800000002, 70134.63, 75832.536, 126211.16400000002, 79866.912, 100887.11399999999, 165735.294, 79866.912, 77567.08200000001, 110594.688, 82328.094, 112809.52799999998, 78748.08, 162555.402, 91464.918, 75571.68600000002, 104137.19399999999, 71560.65, 111546.56999999999, 89761.74600000001, 135181.758, 131018.352, 127479.09599999999, 93949.73400000001, 132910.758, 66232.506, 96379.392, 69051.84599999999, 121734.9, 144093.408, 145460.4, 62246.004, 152856.804, 100853.712, 67974.27, 69229.206, 108821.81400000001, 82910.29199999999, 144938.37000000002, 110246.56800000001, 105410.598, 108814.41, 211171.34399999998, 106445.724, 132373.71, 86374.44, 147001.56, 93220.452, 91359.48, 66611.37, 240689.29800000004, 62421.66, 100887.11399999999, 35334.12, 69700.31999999999, 93039.69, 129969.456, 71546.01, 68952.87, 168878.66999999998, 50055.87, 135834.09, 188474.01, 121979.79599999997, 81280.11600000001, 86894.73599999999, 85326.18000000001, 108931.93199999999, 45767.58, 123365.03399999999, 161246.07, 86894.736, 95547.852, 98348.08799999999, 99293.406, 81412.164, 104137.19399999999, 85327.812, 69716.73000000001, 103463.05799999999, 110246.56800000001, 151830.45, 117726.63600000001, 181977.648, 85936.05, 100887.11399999999, 113027.232, 114205.78799999999, 223315.536, 122900.55, 102004.29, 137895.984, 85327.812, 133699.13999999998, 167944.662, 76787.21399999999, 158095.13999999998, 72247.75200000001, 65994.432, 82235.952, 116177.48399999998, 167556.33599999998, 77567.08200000001, 79866.912, 158308.128, 104137.19399999999, 75568.776, 66716.904, 148090.16400000002, 110041.71, 173087.802, 131907.28199999998, 148090.16400000002, 146844.24000000002, 77574.726, 41064.45, 166893.234, 67899.678, 73167.384, 55594.074, 156551.91600000003, 93373.332, 100178.784, 168542.58000000002, 61842.126000000004, 47533.56, 119320.794, 58585.788, 94978.674, 66839.664, 148090.16400000002, 131636.49, 162555.40199999997, 152856.804, 120187.59, 211888.56, 98348.08799999999, 40179.39, 66140.97, 86810.28, 70054.572, 61265.862, 72123.36600000001, 69349.83, 207057.36, 133750.524, 80872.86, 69660.516, 82164.222, 103506.51, 121274.79, 79977.21, 48851.4, 84435.81599999999, 144938.37000000002, 53325.63, 43988.676, 105792.384, 85561.54200000002, 32717.22, 144707.418, 171334.302, 109002.68400000001, 132842.658, 91781.88, 97586.79, 194447.79, 182798.80199999997, 238959.12, 58743.75600000001, 113027.232, 220611.81, 81280.11600000001, 76787.21399999999, 91659.888, 154385.38199999998, 96859.914, 103429.96199999998, 58523.406, 82328.094, 72363.966, 88959.348, 63964.05, 108141.21599999999, 137895.984, 105510.648, 112015.21200000001, 114070.28400000001, 91397.94, 110594.688, 72363.966, 144093.408, 114260.74799999999, 91216.92000000001, 112015.21200000001, 114888.024, 85021.008, 121331.92199999999, 115536.83399999999, 82912.392, 68535.924, 85936.05, 154385.38199999998, 68163.47399999999, 69671.13, 105387.66, 51511.62, 89437.536, 76629.66, 96489.9, 80641.428, 31740.0, 121331.92199999999, 147025.32599999997, 87570.168, 83738.55, 104137.19399999999, 111871.21800000002, 64460.724, 65994.432, 40907.31, 167556.33599999998, 125806.71, 106885.956, 93510.27, 103429.96199999998, 121979.79599999997, 92623.41, 121331.92199999999, 133750.52400000003, 111308.61000000002, 69796.94399999999, 97048.31400000001, 140189.97599999997, 59272.23, 110788.254, 110220.09, 63986.202000000005, 92027.37, 53373.66, 75139.968, 104937.54, 99625.512, 40594.92, 85151.25, 143701.91999999998, 160282.34999999998, 143826.162, 85003.188, 45507.21, 126033.822, 104137.19399999999, 114888.024, 107241.702, 82164.222, 189283.08, 115940.08799999999, 100415.124, 74559.0, 106885.956, 81613.146, 145460.4, 115515.054, 76831.70999999999, 71312.54999999999, 52636.88999999999, 36060.99, 143826.162, 102004.29, 89437.536, 193212.816, 39207.09, 77076.834, 63857.63999999999, 126956.08200000001, 75199.70999999999, 157954.452, 139375.41, 62764.23, 73539.888, 81549.312, 143826.162, 211171.34399999998, 167556.33599999998, 96496.59, 74733.6, 114888.024, 162738.492, 122075.07, 130710.21600000001, 36530.97, 81721.14, 193212.816, 98314.62, 104137.19399999999, 105118.59000000001, 57054.03, 93088.554, 96970.51800000001, 80641.428, 66168.9, 88959.348, 74152.65, 114070.28400000001, 106885.956, 85777.96800000002, 146007.0, 147025.32599999997, 65402.502, 68163.47399999999, 121331.92199999999, 55231.23, 100853.712, 126033.822, 121331.92199999999, 66168.9, 126098.496, 91216.92000000001, 122900.55, 144938.37000000002, 121979.79599999997, 119816.046, 60655.90199999999, 104137.19399999999, 165385.476, 133750.98599999998, 58315.668000000005, 177153.51, 100887.11399999999, 78795.984, 153078.678, 156551.91600000003, 119057.58, 211171.34399999998, 197541.88199999998, 122360.96399999999, 54831.041999999994, 88093.27800000002, 131907.28199999998, 108219.894, 155976.234, 153078.678, 184809.57, 169754.904, 61713.594, 78653.838, 69051.84599999999, 87371.38200000001, 82923.57600000002, 115096.62, 126033.822, 109959.65399999998, 119793.084, 211171.34399999998, 108843.38999999998, 52655.376000000004, 105118.59000000001, 89780.98799999998, 133283.286, 88378.95, 148090.16400000002, 105118.59000000001, 122900.55, 79327.812, 67629.744, 108916.33200000001, 114205.78799999999, 102249.498, 72395.598, 130126.098, 112773.96599999999, 59300.994000000006, 65588.21399999999, 137895.984, 78748.08, 84537.39, 70577.238, 171334.302, 105361.146, 79683.924, 98596.626, 233412.894, 93025.326, 88959.348, 105792.384, 81867.46199999998, 133637.874, 97610.478, 114888.024, 167556.33599999998, 77574.726, 153844.758, 88959.348, 78717.036, 133283.286, 114888.024, 107241.702, 104137.19399999999, 175810.58399999997, 60875.58, 172539.46800000002, 88959.348, 60263.808000000005, 165735.294, 84166.824, 89900.62800000001, 144938.37000000002, 76335.90000000001, 83738.55, 208372.686, 167556.33599999998, 126956.08200000001, 157954.452, 108219.894, 104260.902, 98485.362, 75837.94200000001, 88959.348, 58746.486, 93088.554, 99563.65800000001, 103429.96199999998, 126033.822, 159505.63799999998, 171723.324, 135181.758, 98873.838, 95399.79, 164579.66400000002, 83479.626, 72561.396, 68456.32800000001, 155976.234, 73507.21800000001, 123907.66200000001, 97867.78800000002, 157954.452, 140360.946, 85327.812, 73998.642, 130710.21600000001, 114888.024, 138686.214, 193058.79, 136445.04, 110273.37, 114888.024, 89900.62800000001, 83125.11600000001, 234422.592, 81779.01599999999, 110246.56800000001, 46741.344000000005, 57892.56, 157954.452, 76335.90000000001, 78653.838, 144938.37000000002, 57273.89400000001, 108821.81400000001, 69899.754, 52208.598000000005, 52471.83, 59678.85, 66168.9, 180003.87600000002, 75571.68600000002, 75712.188, 84924.198, 71007.54000000001, 61948.674, 167556.33599999998, 83738.55, 121191.09, 102004.29, 68466.75600000001, 243312.13199999998, 64677.42, 167944.662, 148090.16400000002, 68754.894, 89195.262, 71428.74, 82911.66, 110788.254, 146844.24000000002, 104137.19399999999, 70271.23799999998, 146134.74599999998, 86139.474, 60102.018000000004, 51870.21, 44247.33, 76787.21399999999, 101888.766, 82999.11, 71408.352, 77173.34400000001, 112809.52799999998, 211171.34399999998, 122360.96399999999, 122900.55, 187635.06600000005, 90879.324, 135305.58000000002, 126033.822, 72453.492, 137895.984, 95582.79000000001, 175810.58399999997, 92407.35, 85327.812, 172485.78000000003, 76426.122, 78653.838, 78653.838, 101178.828, 81499.66799999999, 211171.34399999998, 121979.79599999997, 167556.33599999998, 126033.822, 143826.162, 132888.342, 214634.436, 84381.67199999999, 180003.87600000002, 157267.13999999998, 79783.602, 110888.046, 130710.21600000001, 75187.77, 94978.674, 78273.24, 91613.08800000002, 100963.296, 71963.088, 66658.188, 163062.06, 167944.662, 214387.32599999997, 83738.55, 131907.28199999998, 76787.21399999999, 66658.188, 126033.822, 171720.0, 137895.984, 105118.59000000001, 69579.09, 123365.03399999999, 76787.21399999999, 78159.774, 59138.67, 203348.56800000003, 58522.524, 97610.478, 105835.206, 156551.91600000003, 100635.87599999999, 83332.44, 60068.286, 77958.924, 76787.21399999999, 117878.4, 158308.128, 181977.648, 104091.84599999999, 87900.468, 110246.56800000001, 72715.446, 132842.658, 88264.278, 131907.28199999998, 84166.824, 105792.384, 110246.56800000001, 81837.912, 148090.16400000002, 167556.33599999998, 192887.46, 100973.118, 60102.018000000004, 88580.232, 82911.66, 106885.956, 72922.242, 164579.66400000002, 146245.854, 89437.536, 63136.85400000001, 53571.774, 88959.348, 47357.03400000001, 85326.18000000001, 72556.05, 85777.96800000002, 136445.04, 112809.52799999998, 67095.144, 214634.436, 82922.904, 66740.514, 121331.92199999999, 93620.046, 110594.688, 130710.21600000001, 104137.19399999999, 48019.27200000001, 59150.406, 99563.65800000001, 96970.51800000001, 69051.84599999999, 73539.888, 81280.11600000001, 110246.56800000001, 69051.84599999999, 153078.67799999999, 81499.608, 57892.56, 56746.18199999999, 121345.63200000001, 175810.58399999997, 117726.63600000001, 96368.682, 80991.522, 105752.67, 110246.56800000001, 167556.33599999998, 54794.376000000004, 68864.86799999999, 74839.566, 72561.396, 148671.13199999998, 100964.868, 101178.828, 146007.0, 75205.992, 52117.056, 102004.29, 100898.394, 47455.81199999999, 89761.74600000001, 130710.21599999999, 80641.428, 132774.096, 61657.14599999999, 60263.808000000005, 81280.11600000001, 67840.776, 126033.822, 126033.822, 114566.58599999998, 106885.956, 193212.816, 131907.28199999998, 115213.008, 100415.124, 100415.124, 100963.296, 73539.888, 234422.592, 88110.318, 130073.772, 211171.34399999998, 167556.33599999998, 94469.66399999999, 80920.59599999999, 143826.162, 80641.428, 48795.708, 126033.822, 108931.93199999999, 145460.4, 156314.346, 104137.19399999999, 58315.668000000005, 79538.46599999999, 119320.794, 133283.286, 127860.91799999999, 126033.822, 54481.398, 108537.9, 91932.828, 181977.648, 104137.19399999999, 75712.188, 65914.28400000001, 63878.543999999994, 71408.352, 92958.11400000002, 85327.812, 146990.19, 73533.00000000001, 61661.25, 110246.56800000001, 103463.05799999999, 105118.59000000001, 193212.816, 105238.36799999999, 146844.24000000002, 82164.222, 126956.08200000001, 89098.386, 72922.242, 94282.314, 98967.74399999999, 214387.32599999997, 100973.118, 86652.07800000001, 79747.41, 96368.682, 122900.55, 91676.40000000001, 114070.28400000001, 69796.94399999999, 115515.054, 88959.348, 80547.65400000001, 214387.32599999997, 73415.352, 97611.55799999999, 181977.648, 66658.188, 76787.21399999999, 100415.124, 69051.84599999999, 100887.11399999999, 75266.4, 68079.096, 144093.408, 60068.286, 145460.4, 92550.384, 105118.59000000001, 82235.54400000002, 56597.454000000005, 62871.58800000001, 88959.348, 131907.28199999998, 243312.13199999998, 246719.06999999998, 156314.346, 57745.776, 121331.92199999999, 83760.56400000001, 58743.75600000001, 87980.574, 80158.15800000001, 61265.862, 144938.37000000002, 167944.662, 137646.06, 59150.406, 66117.58200000001, 114070.28400000001, 99624.324, 102004.29, 70086.93000000001, 62700.168000000005, 152685.534, 122993.71200000001, 105224.028, 101838.76199999999, 114888.024, 75571.68600000002, 114315.258, 73533.00000000001, 72561.396, 79327.812, 121345.63200000001, 173087.802, 83760.56400000001, 144938.37000000002, 121979.79599999997, 167944.662, 81779.01599999999, 82922.90400000001, 89437.536, 95037.80399999999, 180003.87600000002, 66658.188, 95882.376, 83479.626, 133383.006, 108197.46, 108916.33200000001, 106810.206, 81779.01599999999, 81027.63, 127806.16200000001, 67899.678, 86652.07800000001, 145460.4, 103429.96199999998, 88959.348, 146844.24000000002, 148090.16400000002, 117726.63600000001, 112809.52799999998, 86139.474, 106838.376, 106885.956, 70583.232, 107628.91200000001, 100382.43600000002, 59150.406, 104137.19399999999, 144938.37000000002, 97048.31400000001, 116188.254, 104260.902, 162555.402, 154385.38199999998, 79977.21, 126956.08200000001, 60424.062, 45457.74, 96770.082, 144938.37000000002, 167556.33599999998, 110246.56800000001, 122900.55, 104137.19399999999, 86894.736, 75571.68600000002, 156314.346, 121979.79599999997, 109959.65399999998, 72363.966, 108744.91800000002, 122900.55, 143826.162, 82235.54400000002, 82235.54400000002, 139232.814, 130710.21599999999, 130126.098, 153078.678, 74276.358, 80416.95, 178610.172, 119763.51, 128828.61000000002, 157954.452, 80604.91200000001, 69849.234, 85514.43000000001, 73539.888, 58743.75600000001, 171334.302, 80317.296, 67803.56400000001, 85327.812, 81014.16, 74286.462, 80158.15800000001, 96770.082, 130619.08799999999, 52636.88999999999, 50692.638, 105835.206, 63878.543999999994, 110246.56800000001, 121979.79599999997, 58743.75600000001, 73507.21800000001, 67322.178, 81549.312, 66716.904, 55739.490000000005, 108197.46, 80641.428, 116098.13999999998, 95037.80399999999, 83404.728, 219332.88, 144938.37000000002, 78717.036, 53327.67, 167556.33599999998, 122900.55, 69671.13, 129972.24, 38249.25, 49900.05, 98485.362, 81837.912, 165735.294, 132842.658, 153078.678, 78748.08, 121331.92199999999, 102004.29, 86139.474, 200789.076, 62091.618, 144938.37000000002, 69901.596, 243312.13199999998, 137895.984, 49178.892, 98110.36200000001, 167556.33599999998, 72897.102, 72363.966, 60068.286, 76787.21399999999, 182798.80199999997, 192887.46, 87734.73599999999, 168564.0, 61649.166000000005, 75409.854, 164579.66400000002, 128412.09, 164579.66400000002, 92550.384, 96496.59, 85327.812, 65448.984, 79538.46599999999, 92699.562, 81549.312, 63540.371999999996, 5925.54, 76335.90000000001, 121979.79599999997, 60463.128000000004, 100887.11399999999, 114070.28400000001, 60068.286, 73539.888, 80770.35, 62059.80000000001, 70007.526, 233412.894, 82830.39, 97175.856, 133750.524, 116335.98, 74286.462, 104137.19399999999, 86810.28, 111318.12, 114888.024, 88959.348, 121979.79599999997, 145460.4, 144938.37000000002, 90750.21, 76787.21399999999, 78198.3, 82235.952, 84599.022, 146245.854, 117311.85, 72617.1, 140338.5, 115940.08799999999, 146134.74599999998, 91676.40000000001, 69849.35399999999, 137895.984, 77574.726, 160531.224, 66385.68600000002, 121979.79599999997, 103949.262, 80774.022, 70583.232, 74687.61000000002, 167556.33599999998, 157954.452, 120044.4, 73167.384, 91676.40000000001, 77574.726, 60102.018000000004, 84166.824, 148090.16400000002, 60068.286, 99164.90400000001, 85936.05, 175810.58399999997, 104137.19399999999, 52636.89, 135878.68199999997, 208372.686, 94469.66399999999, 78633.07800000001, 126033.822, 92887.74, 50692.638, 120533.574, 110246.56800000001, 124366.26000000001, 120533.574, 101377.00200000001, 74687.61000000002, 60068.286, 100137.09599999999, 87900.468, 144938.37000000002, 85327.812, 104223.516, 214634.436, 78198.3, 143826.162, 106290.82200000001, 67840.776, 72556.05, 79448.38200000001, 121979.79599999997, 67095.144, 88093.27800000002, 114260.74799999999, 145460.4, 86894.736, 85327.812, 167556.33599999998, 208372.686, 96901.47000000002, 98110.36200000001, 190417.332, 113958.68399999998, 63986.202000000005, 82705.188, 81210.39, 116177.48399999998, 106838.376, 76787.21399999999, 77862.75, 126118.626, 68535.92400000001, 80604.91200000001, 88959.348, 76921.494, 69660.516, 148090.16400000002, 79747.41, 85327.812, 234422.592, 143826.162, 108537.9, 70271.23799999998, 105792.384, 108821.81400000001, 72561.396, 76787.21399999999, 94282.314, 110246.56800000001, 243312.13199999998, 156314.346, 140189.97599999997, 110246.56800000001, 233412.894, 167944.662, 109959.65399999998, 133328.72400000002, 167556.33599999998, 69888.00600000001, 102004.29, 121979.79599999997, 84166.824, 102004.29, 65656.656, 143826.162, 43183.95, 63323.724, 80641.428, 129969.456, 54475.655999999995, 121979.79599999997, 68163.47399999999, 104137.19399999999, 124809.11400000002, 134805.12, 243312.13199999998, 139725.798, 102004.29, 167556.33599999998, 243312.13199999998, 243312.13199999998, 103429.96199999998, 67795.644, 126211.16400000002, 167556.33599999998, 104137.19399999999, 165735.294, 88959.348, 104137.19399999999, 43988.676, 158308.128, 164579.66400000002, 71963.088, 62161.098, 52117.056, 65448.984, 121979.79599999997, 243312.13199999998, 243312.13199999998, 66658.188, 122360.96399999999, 104137.19399999999, 167556.33599999998, 68163.47399999999, 76787.21399999999, 102004.29, 78748.08, 243312.13199999998, 143826.162, 95037.80399999999, 243312.13199999998, 121979.79599999997, 102004.29, 111871.21800000002, 102004.29, 156314.346, 76787.21399999999, 164579.66400000002, 110246.56800000001, 102004.29, 67840.776, 243312.13199999998, 88959.348, 82164.222, 115717.638, 75571.68600000002, 88959.348, 81280.11600000001, 140334.426, 115940.08799999999, 104137.19399999999, 88959.348, 143338.458, 75837.94200000001, 139725.798, 66716.904, 77958.924, 96770.082, 114070.28400000001, 84599.022, 72428.46599999999, 102004.29, 84847.476, 88959.348, 143826.162, 168221.358, 109959.65399999998, 69700.31999999999, 104137.19399999999, 243312.13199999998, 103429.96199999998, 55594.07400000001, 69888.00600000001, 69671.712, 61713.594, 156314.346, 203348.56800000003, 121979.79599999997, 155976.234, 70052.63999999998, 88245.88200000001, 76787.21399999999, 119816.046, 243312.13199999998, 65448.984, 109002.68400000001, 167556.33599999998, 88245.882, 57613.488, 104137.19399999999, 139725.798, 66131.118, 62113.656, 104137.19399999999, 59775.906, 76787.21399999999, 53340.990000000005, 139725.798, 71987.304, 80920.59599999999, 131907.28199999998, 158308.128, 108005.71800000002, 81027.63, 65994.432, 243312.13199999998, 69671.13, 140189.97599999997, 190417.332, 81576.378, 58871.022, 76426.122, 114070.28400000001, 94282.314, 131907.28199999998, 76335.90000000001, 233412.894, 167556.33599999998, 102004.29, 70271.23799999998, 167944.662, 72576.58800000002, 60068.286, 81549.312, 69051.84599999999, 59775.906, 100463.99999999999, 99087.9, 121979.79599999997, 104223.516, 82235.54400000002, 72503.862, 82235.952, 67322.178, 65448.984, 134805.12, 88682.262, 171334.302, 114326.796, 65994.432, 123365.03399999999, 81613.146, 131907.28199999998, 64642.43999999999, 131907.28199999998, 104137.19399999999, 115940.08799999999, 155976.234, 84707.02200000001, 84166.824, 243312.13199999998, 88245.882, 127479.09599999999, 43988.676, 104137.19399999999, 104137.19399999999, 76787.21399999999, 88959.348, 103429.96199999998, 158308.128, 156361.68, 78170.76000000001, 167944.662, 243312.13199999998, 104137.19399999999, 88245.882, 243312.13199999998, 167517.70800000004, 76787.21399999999, 72576.58800000002, 106832.724, 243312.13199999998, 121979.79599999997, 78273.24, 81549.312, 190417.332, 119320.794, 72561.396, 62059.80000000001, 109959.65399999998, 81549.312, 143826.162, 121979.79599999997, 147025.32599999997, 55231.23, 75266.4, 94469.66399999999, 243312.13199999998, 90239.664, 111871.21800000002, 98110.36200000001, 140334.426, 52305.06, 143717.34600000002, 110246.56800000001, 60068.286, 123365.03399999999, 104137.19399999999, 143826.162, 78717.036, 50692.638, 104075.454, 58710.012, 74118.63600000001, 97610.478, 158308.128, 110246.56800000001, 121979.79599999997, 103303.94399999999, 80710.302, 165735.294, 131907.28199999998, 76787.21399999999, 67899.678, 80604.91200000001, 58743.75600000001, 122993.71200000001, 76990.086, 164579.66400000002, 81007.908, 131907.28199999998, 83738.55, 67795.644, 140189.97599999997, 123365.03399999999, 78159.774, 76587.156, 119320.794, 143826.162, 131907.28199999998, 43183.95, 73539.888, 61435.674, 104137.19399999999, 156314.346, 123365.03399999999, 68947.65, 133637.874, 74478.13200000001, 72428.46599999999, 121979.79599999997, 143826.162, 80920.59599999999, 102004.29, 243312.13199999998, 167556.33599999998, 121979.79599999997, 81779.01599999999, 139725.798, 96770.082, 167556.33599999998, 143826.162, 62700.168000000005, 81549.312, 203348.56800000003, 88959.348, 68535.924, 110246.56800000001, 131907.28199999998, 164579.66400000002, 49828.338, 64642.43999999999, 118173.44399999999, 167556.33599999998, 139725.798, 147025.32599999997, 243312.13199999998, 103303.94399999999, 147025.32599999997, 78273.24, 243312.13199999998, 85021.008, 243312.13199999998, 76787.21399999999, 243312.13199999998, 65448.984, 82235.54400000002, 110246.56800000001, 104137.19399999999, 104137.19399999999, 69043.572, 123365.03399999999, 110888.046, 48795.708, 98110.36200000001, 61881.528000000006, 65656.656, 53971.302, 96793.638, 121979.79599999997, 131907.28199999998, 110246.56800000001, 165735.294, 129969.456, 243312.13199999998, 150289.896, 81027.63, 75571.68600000002, 131907.28199999998, 88959.348, 69671.712, 102004.29, 66740.514, 89761.74600000001, 133383.006, 136445.04, 143826.162, 131907.28199999998, 114070.28400000001, 85220.24399999999, 63834.03600000001, 104137.19399999999, 76787.21399999999, 104137.19399999999, 95037.80399999999, 109002.68400000001, 143826.162, 110246.56800000001, 76787.21399999999, 65656.656, 121979.79599999997, 143826.162, 70271.23799999998, 168221.358, 88959.348, 103429.96199999998, 71963.088, 110246.56800000001, 53942.08200000001, 44360.664000000004, 167556.33599999998, 71987.304, 168221.358, 103429.96199999998, 131907.28199999998, 121849.242, 158308.128, 93088.554, 167556.33599999998, 79977.21, 102004.29, 143826.162, 102004.29, 143826.162, 44360.664000000004, 66658.188, 78159.774, 190417.332, 164579.66400000002, 243312.13199999998, 104137.19399999999, 121979.79599999997, 76787.21399999999, 68535.924, 243312.13199999998, 69082.074, 133328.72400000002, 108843.38999999998, 60102.018000000004, 100178.784, 59775.906, 243312.13199999998, 203348.56800000003, 79202.73, 104137.19399999999, 121979.79599999997, 53942.08200000001, 243312.13199999998, 143826.162, 243312.13199999998, 167556.33599999998, 69229.206, 167556.33599999998, 121849.242, 102004.29, 81613.146, 96604.86, 72503.862, 243312.13199999998, 88959.348, 121979.79599999997, 131907.28199999998, 74118.63600000001, 121979.79599999997, 71963.088, 121979.79599999997, 102004.29, 58522.524, 79538.46599999999, 68584.338, 72561.396, 243312.13199999998, 119012.736, 121849.242, 143826.162, 108821.81400000001, 168221.358, 56603.424, 155976.234, 143826.162, 115940.08799999999, 167556.33599999998, 85321.72799999999, 93088.554, 167556.33599999998, 71963.088, 67899.678, 93088.554, 84707.02200000001, 93088.554, 88190.718, 65448.984, 121979.79599999997, 123339.97200000002, 76335.90000000001, 76787.21399999999, 61868.898, 131907.28199999998, 121979.79599999997, 78748.08, 167556.33599999998, 76787.21399999999, 96770.082, 81280.11600000001, 121979.79599999997, 121979.79599999997, 79977.21, 104137.19399999999, 98231.01, 104137.19399999999, 110246.56800000001, 53942.08200000001, 61868.898, 67781.64, 58710.012, 167556.33599999998, 110246.56800000001, 76787.21399999999, 67546.776, 90239.664, 243312.13199999998, 104137.19399999999, 84599.022, 243312.13199999998, 95037.80399999999, 243312.13199999998, 164579.66400000002, 89761.74600000001, 158308.128, 53340.990000000005, 67273.49399999999, 121979.79599999997, 140189.97599999997, 140189.97599999997, 121979.79599999997, 164579.66400000002, 84707.02200000001, 122486.53800000002, 101396.586, 81027.63, 108005.71800000002, 167517.70800000004, 76787.21399999999, 78170.76000000001, 88959.348, 121979.79599999997, 75091.01999999999, 121979.79599999997, 81549.312, 110246.56800000001, 104137.19399999999, 96368.682, 76335.90000000001, 76335.90000000001, 80920.59599999999, 67899.678, 99229.11, 79994.79000000001, 63341.058000000005, 243312.13199999998, 66658.188, 104137.19399999999, 121979.79599999997, 99229.11, 84707.02200000001, 243312.13199999998, 76787.21399999999, 121979.79599999997, 243312.13199999998, 121979.79599999997, 85777.96800000002, 104137.19399999999, 93088.554, 143826.162, 131907.28199999998, 53571.774, 85021.008, 62059.80000000001, 52931.280000000006, 82235.952, 121979.79599999997, 167517.70800000004, 76736.292, 46741.344000000005, 79683.924, 80641.428, 164579.66400000002, 147025.32599999997, 77988.6, 139725.798, 64888.871999999996, 67899.678, 131907.28199999998, 57613.488, 143826.162, 102004.29, 243312.13199999998, 84599.022, 104137.19399999999, 126211.16400000002, 167556.33599999998, 165735.294, 76335.90000000001, 71963.088, 76787.21399999999, 84707.02200000001, 68163.47399999999, 99625.512, 129969.456, 83738.55, 243312.13199999998, 243312.13199999998, 58743.75600000001, 104137.19399999999, 57745.776, 75899.604, 88959.348, 102004.29, 100178.784, 104137.19399999999, 243312.13199999998, 190417.332, 104137.19399999999, 88245.88200000001, 62572.907999999996, 80770.35, 143826.162, 80641.428, 76787.21399999999, 243312.13199999998, 110246.56800000001, 76787.21399999999, 64393.314, 143826.162, 66658.188, 104137.19399999999, 110246.56800000001, 121849.242, 110246.56800000001, 79461.666, 93362.53199999999, 121979.79599999997, 69671.13, 110246.56800000001, 85326.18000000001, 50113.314, 73539.888, 76787.21399999999, 84599.022, 143826.162, 88959.348, 71963.088, 102004.29, 121979.79599999997, 88959.348, 147025.32599999997, 107180.63999999998, 143826.162, 158308.128, 156314.346, 158308.128, 88959.348, 104137.19399999999, 121979.79599999997, 79522.176, 70271.23799999998, 93277.704, 203348.56800000003, 121979.79599999997, 76787.21399999999, 88640.778, 190417.332, 121979.79599999997, 143826.162, 81280.11600000001, 104137.19399999999, 121979.79599999997, 102004.29, 80920.59599999999, 49828.338, 75577.07400000001, 61657.14599999999, 58315.668000000005, 68451.94200000001, 121979.79599999997, 243312.13199999998, 54475.655999999995, 72292.42199999999, 243312.13199999998, 62059.80000000001, 131907.28199999998, 84707.02200000001, 167556.33599999998, 81027.63, 103429.96199999998, 94282.314, 76787.21399999999, 73539.888, 88959.348, 67840.776, 156314.346, 131907.28199999998, 131907.28199999998, 164579.66400000002, 121979.79599999997, 53571.774, 81549.312, 131907.28199999998, 72649.188, 80920.59599999999, 60068.286, 103303.94399999999, 167556.33599999998, 99625.512, 71408.352, 88959.348, 167556.33599999998, 78748.08, 140189.97599999997, 65914.28400000001, 76787.21399999999, 167556.33599999998, 104137.19399999999, 122486.53800000002, 104137.19399999999, 80512.434, 99229.11, 168221.358, 65656.656, 76787.21399999999, 82235.54400000002, 58233.63600000001, 104137.19399999999, 71963.088, 85021.008, 88959.348, 99625.512, 66740.514, 67322.178, 43183.95, 71144.976, 131907.28199999998, 76787.21399999999, 110246.56800000001, 167556.33599999998, 143826.162, 102004.29, 103303.94399999999, 56395.86, 143826.162, 76787.21399999999, 104137.19399999999, 52117.056, 72363.966, 100463.99999999999, 76787.21399999999, 65656.656, 59438.766, 80641.428, 126118.626, 164579.66400000002, 167556.33599999998, 69888.00600000001, 88959.348, 83738.55, 71963.088, 121979.79599999997, 119816.046, 83941.524, 139725.798, 84707.02200000001, 104137.19399999999, 84599.022, 98110.36200000001, 62161.098, 167556.33599999998, 71144.976, 243312.13199999998, 77988.6, 102004.29, 158308.128, 52574.79, 74546.1, 89103.06, 151566.57, 136287.38999999998, 146101.74, 186006.45, 57245.13, 106460.13, 111606.93, 117142.2, 172920.3, 124082.61000000002, 227187.78, 129944.7, 159565.026, 78174.6, 243926.07, 159565.026, 55896.27, 226909.98, 171996.75, 225079.29, 117832.65, 83714.16, 222218.16, 49067.88, 88140.0, 40618.65, 119090.61000000002, 147049.88999999998, 213584.52, 160922.40000000002, 159565.026, 40758.09, 108281.07, 132915.54, 103645.77, 130710.42, 193830.51, 168221.358, 77743.62, 49539.69, 54791.46, 107114.76, 36039.09, 76447.77, 97848.36, 134816.964, 135760.668, 133750.52400000003, 36664.62, 58585.788, 89411.01, 68180.4, 85435.02, 49235.94, 100938.93599999999, 169507.77, 53001.12, 72292.42199999999, 115107.384, 152405.28, 46014.72, 192333.15, 190943.97, 206367.12, 72163.14, 72649.188, 58014.96, 137646.06, 53965.5, 165902.34, 164723.52, 144190.74, 81832.392, 50697.0, 116662.68, 148568.82, 53285.46, 107000.22, 84318.6, 104269.83, 83738.55, 119320.794, 100938.93599999999, 65915.37, 95399.79, 130199.07, 126780.67799999999, 67486.74, 159281.7, 169559.16, 113105.16, 107447.52, 246768.54, 147025.32599999997, 85007.43000000001, 120055.71, 81462.24, 41051.94, 50424.75, 94614.57, 126265.65, 53825.55, 96563.85, 20271.87, 91826.22, 48633.42, 75871.38, 155039.94, 134003.49, 99513.27, 125999.16, 165478.11000000002, 134816.964, 60683.37, 115096.62, 77975.45999999999, 96612.42, 121383.87, 80325.0, 244811.22000000003, 130816.98, 61440.09, 44340.93, 51477.84, 33313.71, 203231.58, 65102.76, 77708.13, 139791.45, 164442.57, 77343.63, 143826.162, 117008.19, 91936.56, 73812.75, 225957.66, 141342.38999999998, 93396.0, 63721.17, 160428.96, 209092.68, 77234.34, 63794.46, 62340.42, 165685.88999999998, 80770.35, 86862.48, 124626.38999999998, 31752.54, 66269.94, 69000.99, 46412.94, 61868.898, 126118.626, 99773.31, 72967.02, 124296.57, 46821.45, 156966.36000000002, 243312.13199999998, 53591.91, 124049.58, 146784.90000000002, 105224.028, 72954.24, 105423.72, 213964.89, 197933.37, 96528.09, 81949.70999999999, 156104.84999999998, 51576.27, 93364.38, 104594.25, 145403.40000000002, 97436.4, 95714.46, 51874.71, 178375.88999999996, 64642.43999999999, 57788.81999999999, 92908.65, 149863.34999999998, 89567.04000000002, 87780.95999999999, 175331.82, 45544.2, 134816.964, 243312.13199999998, 227877.51, 143826.162, 81226.86, 79030.95000000001, 38457.69, 133750.524, 91746.33, 30501.21, 66444.09, 88959.348, 86254.31999999999, 103957.13999999998, 53563.26, 93708.54, 94798.05, 57280.68000000001, 50111.81999999999, 87095.70000000001, 84719.95800000001, 77878.38, 79555.31999999999, 66755.43000000001, 195041.25, 170210.55, 60819.6, 74147.43000000001, 112309.98, 94114.83, 91677.06, 25271.04, 126264.24, 76848.36, 77479.08, 133331.94, 133170.06, 90873.09, 43175.16, 83133.42, 140189.97599999997, 43384.11, 94572.78, 69284.28, 102983.63999999998, 110952.93, 22660.65, 134605.91999999998, 120451.71, 55953.78, 214249.95, 50719.59, 234481.44, 56562.276, 103227.96, 68523.93000000001, 70929.38999999998, 160280.07, 164864.7, 67369.31999999999, 25054.2, 52351.47, 152460.27, 169220.01, 92684.79, 51358.59, 89098.386, 57488.88, 75825.66, 45155.67, 184300.86, 54854.22, 93485.4, 184702.35, 50814.36, 73006.41, 43747.11, 71128.11, 69588.36, 38298.09, 74068.98, 113929.65, 203710.8, 47072.4, 166928.01, 71086.04999999999, 54481.398, 131763.93, 109074.09, 152640.0, 50472.42, 76743.29999999999, 148648.5, 110405.34, 195325.02, 132324.66, 67626.39, 221711.97000000003, 170075.82, 243572.76, 40595.64, 97611.55799999999, 82257.06, 90565.59, 33998.46, 44590.17, 232190.55, 49054.92, 146090.88, 61327.65, 110543.49, 83490.27, 49366.35000000001, 83085.29999999999, 81196.56, 77988.6, 90978.57, 78131.25, 65664.69, 82381.20000000001, 75154.83, 126125.76, 92172.75, 134278.74, 44712.36, 135982.41, 79905.78, 67137.36, 52741.29, 115539.81, 58522.524, 22445.58, 53447.28, 71676.18000000001, 185570.85, 131397.09, 74442.6, 49701.75, 189563.13, 71665.44, 104137.19399999999, 65604.03, 134816.964, 88010.22, 96062.67, 184243.02, 131907.28199999998, 88113.09, 60603.99000000001, 188413.92, 99625.512, 96918.69, 122251.47, 95853.06, 164969.31, 110669.07, 50657.22, 110380.554, 109640.55, 75004.17, 74518.89, 101286.9, 242756.46, 104137.19399999999, 72534.51, 184006.74, 61525.62, 40042.11, 131168.58000000002, 105125.22, 88117.83, 52901.37, 91467.72, 80641.428, 59598.42, 67608.56999999999, 151793.97, 132576.408, 63340.38, 190238.16, 216153.21, 92573.28, 24535.56, 53883.75, 76787.21399999999, 65221.11, 187737.15, 55946.97, 72453.492, 93794.25, 51561.12, 92729.64, 64460.724, 181205.37, 46058.52, 84654.95999999999, 114121.88999999998, 85993.65, 95758.8, 82053.12, 65038.71, 76801.47, 116416.47, 175511.73, 50330.76, 93428.58, 134816.964, 82958.25, 90819.84, 96686.46, 75551.412, 77107.74, 132564.51, 51603.75, 180757.71, 104137.19399999999, 122486.53800000002, 109049.46, 179494.68, 38114.13, 103429.96199999998, 56710.92, 24806.19, 131907.28199999998, 154128.99, 104137.19399999999, 115717.638, 115717.638, 144466.23, 34518.48, 88747.188, 155976.234, 234295.08, 162544.53, 66674.19, 82010.25, 81027.63, 67608.48, 131484.57, 70686.48, 69973.79999999999, 31688.52, 69707.4, 123752.79, 95560.56, 108796.38, 57818.37, 160778.82, 81074.22, 157477.02, 143826.162, 75559.74, 72729.99, 203348.56800000003, 186797.31, 127181.16, 95267.82, 43526.28, 41906.55, 121849.242, 86553.95999999999, 66047.54999999999, 46937.31, 158013.63, 63774.66, 186609.6, 105352.11000000002, 73415.352, 190274.13, 77784.20999999999, 134805.12, 90716.58, 83516.31, 134816.964, 35539.47, 80662.56, 106022.61000000002, 70643.73, 156361.68, 84707.02200000001, 66885.36, 47514.09, 39666.96, 105872.472, 171947.43, 55281.492000000006, 83026.74, 60074.19, 210712.74, 52414.668, 60817.14, 142907.25, 45729.24, 96976.95, 61286.85000000001, 153558.27, 91457.4, 91110.9, 60144.15, 62084.52, 44464.71, 60961.08, 163075.23, 149853.72, 75837.94200000001, 211638.78, 190142.28, 89336.91, 55318.92, 232147.23, 150686.07, 95399.79, 125637.38999999998, 125941.41, 73842.63, 103755.492, 119320.794, 69700.31999999999, 109240.5, 167556.33599999998, 79520.76, 56998.5, 36742.05, 59253.87, 53771.81999999999, 171855.45, 34804.05, 70675.95000000001, 181899.6, 84654.95999999999, 106872.51, 76067.36400000002, 46880.67, 109690.08, 54995.25, 79557.0, 48169.8, 133637.874, 47153.61, 34933.32, 38407.02, 65448.984, 71706.6, 189064.38, 105146.532, 70971.66, 78986.79000000001, 167556.33599999998, 163033.62, 81549.312, 91076.34, 66956.51999999999, 47117.25, 72649.188, 102330.84, 37288.5, 164579.66400000002, 58421.91, 80991.522, 35883.42, 71218.08, 124162.68, 84099.06, 144010.62, 140334.426, 111979.65, 244964.37, 96368.682, 99959.4, 36039.27, 27340.11, 53574.42, 194064.06, 71035.29000000001, 156273.87, 66535.74, 66342.27, 148561.65000000002, 14553.12, 97882.05, 41452.26, 121481.13, 184232.43, 71924.45999999999, 139725.798, 116274.504, 40086.81, 66839.664, 106676.28, 17286.21, 57780.03, 129388.02, 137752.34999999998, 115766.04, 140334.426, 123840.03, 95399.79, 56597.454000000005, 105146.532, 84719.95800000001, 53653.62, 78273.24, 87011.22, 126217.29, 91298.37, 104667.36000000002, 54554.37, 73499.19, 108836.73, 88747.188, 56771.73, 42480.87, 70188.9, 66708.45000000001, 72818.58, 35557.649999999994, 52031.37, 111887.73, 74496.78, 61375.92, 63227.31, 34944.36, 143601.36000000002, 84342.84, 134575.68, 38671.44, 47844.84, 79356.39, 66636.39, 42326.10000000001, 113369.37, 134617.71, 72549.81, 107600.25, 59903.52, 95399.79, 38429.4, 109260.09, 46027.38, 164402.66999999998, 60818.22, 111510.0, 52045.5, 47164.95, 50674.05, 75551.412, 43258.14, 71242.68000000001, 42016.95, 95435.91, 109322.58, 224361.36, 36946.89, 111428.28, 55618.8, 65674.56, 134646.99000000002, 48974.64, 62871.58800000001, 59197.5, 85484.31, 77961.66, 128381.85, 127401.93, 61612.74000000001, 45913.47, 218410.77, 121849.242, 71255.508, 39614.28, 73180.89, 88983.03, 77476.79999999999, 61656.18000000001, 38350.77, 50426.16, 55618.31999999999, 102607.17, 115107.384, 71148.24, 31547.82, 131904.51, 228781.05, 29214.300000000014, 81309.15, 134117.49, 109645.08, 111871.21800000002, 117008.19, 61546.5, 57153.66, 142889.49, 84179.19, 95811.24, 93617.7, 244202.19, 182199.78, 119409.93, 69009.3, 108742.47, 69690.48, 62619.96, 106203.99, 51173.91, 62302.71, 75556.17, 59566.14, 89661.15, 49367.06999999999, 58503.45, 98262.57, 46686.72, 46235.94, 55799.88, 48795.708, 71266.35, 40368.06, 82966.31999999999, 78016.23, 74848.59, 94321.17, 91335.348, 41391.06, 83601.39, 78410.70000000001, 61028.46, 194258.07, 72241.79999999999, 118173.44399999999, 62823.56999999999, 37618.83, 140334.426, 111563.61000000002, 143826.162, 177471.12, 75301.23, 84179.19, 59250.522, 45956.19, 116552.16, 68451.94200000001, 112172.73, 91368.0, 96654.15, 80055.45000000001, 62186.16, 41981.91, 91335.348, 41391.09, 71688.63, 77186.54999999999, 95173.32, 201521.64, 55293.87, 53876.01, 50401.26, 121434.78, 89829.99, 113747.31, 21327.27, 80980.26, 75613.29000000001, 144806.7, 34639.590000000004, 59703.09, 73006.11, 112818.45, 65677.176, 74118.63600000001, 196923.54, 154372.65000000002, 37482.57, 91335.348, 49828.338, 108603.09, 97786.95, 25246.05000000001, 227167.32, 69444.95999999999, 112397.1, 48160.14, 40395.69, 214462.68, 86375.4, 48705.9, 70818.20999999999, 59847.57000000001, 69285.18000000001, 126780.67799999999, 173049.84, 36121.29, 106438.02, 57777.36, 130586.31, 84947.52, 115747.65, 127427.22, 92042.25, 112565.79, 104306.43, 127418.37, 71928.6, 67840.776, 229147.05, 85298.54999999999, 99780.87, 76997.79000000001, 131731.65000000002, 48739.17, 64912.83, 92834.61, 61712.10000000001, 84067.11, 135760.668, 104927.49, 103825.65, 93581.85, 129837.9, 199053.42, 83585.91, 182732.07, 35281.68, 121849.242, 65677.176, 39479.73, 78574.83, 135760.668, 50090.79, 58426.992000000006, 131226.54, 68031.06, 57205.56, 81888.0, 84881.13, 124952.62200000002, 104834.22, 41260.77, 56401.44, 101677.62, 75125.04000000001, 70303.53, 101132.52, 58480.23, 64007.25, 103612.23000000001, 79994.79000000001, 92926.83, 106753.88999999998, 135760.668, 75551.412, 121060.68, 91886.19, 127479.09599999999, 93097.41, 175804.02, 136049.03399999999, 71849.54999999999, 68436.9, 86377.77, 85100.97, 168221.358, 96877.56, 62266.524, 220723.92, 244402.74, 75039.6, 61157.34, 52877.34, 110945.79, 58695.93000000001, 91768.26, 43988.676, 112015.21200000001, 235858.62, 135204.75, 58743.75600000001, 117816.63, 56179.71, 70617.66, 94282.314, 136349.40000000002, 53971.8, 124499.20800000001, 138979.86000000002, 85179.18000000001, 64724.85000000001, 109173.21, 89429.76, 75395.1, 62342.94, 81986.94, 39160.83, 121805.16, 215078.82, 48839.22, 60173.81999999999, 95399.79, 56395.86, 104997.87, 124499.20800000001, 44917.86, 67478.52, 55899.75, 130472.01, 119932.17, 129163.35, 48135.63, 15989.4, 93114.21, 82784.37, 37997.58, 134646.99000000002, 65707.79999999999, 183329.91, 110888.046, 44581.68, 105216.27, 81772.89, 30392.58, 52274.81999999999, 102702.36000000002, 135607.05, 159715.88999999998, 21159.27, 102004.29, 87877.62, 45904.2, 150289.896, 44807.46, 73590.68999999999, 23683.74, 86790.54000000001, 65914.28400000001, 40035.75, 55281.492000000006, 99433.74, 75716.19, 105940.2, 111540.9, 98281.47, 137646.06, 33135.06, 52444.83, 42116.85000000001, 100839.38999999998, 86925.95999999999, 64677.42, 103527.93, 109154.73, 58426.992000000006, 106650.72, 91380.18, 144688.44, 58743.75600000001, 100938.93599999999, 111585.18, 80641.428, 130221.09, 69298.41, 95133.78, 40814.37, 57571.59, 49484.49000000001, 60049.14, 124064.55, 110137.75200000001, 107020.74, 143386.98, 95925.39, 55220.37, 83336.06999999999, 115107.384, 50058.51, 106531.02, 82053.084, 75091.01999999999, 75009.03, 219178.32, 61571.471999999994, 65370.45, 59515.35000000001, 82065.20999999999, 145795.2, 198815.97000000003, 100509.66, 134646.99000000002, 188857.29, 77074.02, 154320.06, 46357.32, 85446.78, 37921.17, 38138.88, 92095.14, 60424.062, 122176.21800000002, 81484.08, 106639.62, 104993.16, 77159.88, 79836.18000000001, 77204.19, 47918.88, 84099.36, 53419.26, 18684.75, 48175.68, 115107.384, 26442.51, 222310.08, 125208.81, 84423.51, 62523.81, 57478.05, 85777.96800000002, 45262.26, 108083.4, 111445.86000000002, 177935.07, 86287.98, 73195.68000000001, 179899.38, 187607.52, 191838.39, 146330.13, 147651.41999999998, 182202.21, 148223.28, 81044.28, 146236.38, 105200.52, 159565.026, 212212.59, 90347.85, 165619.95, 244128.24, 175118.55, 71470.65, 128318.52, 127966.86000000002, 174140.01, 147307.86000000002, 151829.76, 159565.026, 91545.12, 235589.04, 180141.0, 99036.3, 93240.72, 127806.38999999998, 75751.14, 36483.51, 104086.65, 167720.76, 188126.79, 66089.97, 128867.82, 200938.38, 182201.7, 157008.87, 96274.29, 96549.81, 178757.58000000005, 124069.2, 191778.39, 103238.13, 228683.34, 74277.36, 134961.48, 94450.11, 102986.37, 46596.3, 159565.026, 123861.54, 150933.84, 107450.55, 172517.01, 69146.28, 141679.59, 121587.72, 104221.65, 170167.62, 181793.04, 159565.026, 114054.42, 144353.40000000002, 86832.27, 124945.77, 49626.75, 184474.05, 77926.44, 54137.28, 198911.79, 142983.03, 36075.75, 133672.59, 159565.026, 90886.35, 63922.31999999999, 180548.19, 140966.79, 200671.98, 162395.73, 89086.11, 243067.02, 73075.53, 210333.15, 189880.17, 135762.90000000002, 159565.026, 183362.34, 108485.25, 199408.74, 123671.49, 246742.92, 60276.12, 224399.82, 159565.026, 120590.31, 86118.78, 96892.62, 143024.37, 93217.8, 157480.88999999998, 48229.98, 179518.91999999995, 218993.79, 246865.08, 163297.98, 112953.3, 120469.77, 101475.03, 128562.33, 59900.10000000001, 54583.68000000001, 197313.81, 70897.31999999999, 159565.026, 107903.76, 148048.34999999998, 84289.08, 143962.05, 119081.58, 182778.63, 178072.26, 209747.16, 159565.026, 74156.43000000001, 170272.88999999998, 237093.84, 122116.71, 90677.07, 107615.37, 107470.56, 57458.81999999999, 62018.79, 161681.22, 211867.05, 76681.83, 175373.13, 73148.67, 84458.70000000001, 97325.04, 103489.65, 169234.5, 240121.65, 159565.026, 181501.62, 240381.15, 142994.13, 60520.74000000001, 59476.83, 69949.70999999999, 121562.04, 120850.5, 140413.29, 118013.4, 114118.95, 91210.47, 104937.54, 176336.40000000005, 174581.37, 180605.49, 193212.816, 62722.68000000001, 90552.69, 59227.02, 91734.402, 87581.76, 182798.80199999997, 82884.99, 52167.54, 40196.01, 72771.12, 80596.506, 76033.35, 113216.85, 56787.21, 93503.88, 110788.254, 180643.8, 114016.8, 212952.3, 157260.72, 114060.15, 94117.05, 95201.94, 64128.09, 73621.04999999999, 155283.78, 65980.62, 222922.17, 97052.31, 87170.06999999999, 72119.484, 73706.81999999999, 105118.59000000001, 84788.94, 67330.77, 142804.518, 76848.6, 94185.84, 54440.25, 196801.17, 68007.03, 37702.86, 108124.11000000002, 118893.33, 167027.09999999998, 148389.06, 121331.92199999999, 69408.20999999999, 107974.73400000001, 157332.66, 139474.34999999998, 118535.58, 100289.97, 176560.83000000005, 55400.61, 59619.792, 81780.12, 211171.34399999998, 79122.84, 117295.02, 52208.598000000005, 124232.16, 63729.84, 77254.14, 220768.53, 109230.0, 150798.99, 124564.23, 83580.006, 116510.79, 102082.05, 166434.666, 135432.84, 84339.66, 143184.18, 80687.81999999999, 92550.38399999999, 165530.43, 85429.44, 68782.83, 77443.23, 163363.74, 60875.58, 93213.6, 98381.31, 96550.26, 61229.46, 119321.76, 158005.47, 97790.736, 116744.04, 122479.44, 78304.04999999999, 82702.41, 51489.21, 129993.21, 12902.46, 175752.96, 173087.802, 75106.04999999999, 63525.45, 52557.81, 42685.89, 63986.202000000005, 74970.48, 193655.73, 31049.16, 71079.33, 40391.01, 69791.4, 173087.802, 105403.41, 64823.52, 71386.74, 75583.08, 72556.04999999999, 78628.95000000001, 105044.46, 102139.986, 34584.21, 46758.15, 104191.08600000001, 203159.43, 64026.45, 73965.15, 148300.16999999998, 52948.5, 56897.67, 155982.3, 48497.16, 61881.528000000006, 75237.15, 166370.04, 141967.86000000002, 96438.0, 81532.62, 173087.802, 128424.84, 97427.64, 78714.75, 67652.94, 107446.88999999998, 139510.62, 94363.206, 84211.41, 80544.03, 125656.95, 98323.11000000002, 129666.45, 117542.73, 156353.22, 140114.09999999998, 104191.08600000001, 89390.79000000002, 83222.25, 83801.64, 157330.53, 86845.56, 93156.03, 79386.93000000001, 144151.47, 62091.618, 64775.634, 68413.44, 93229.47, 73096.11, 54094.5, 94588.08, 106571.12399999998, 72123.36600000001, 123867.38999999998, 113560.88999999998, 73981.56, 106823.43, 137694.06, 36389.97, 66654.69, 78706.65, 95582.79000000001, 166266.06, 235413.3, 54116.16, 126098.58, 109922.55, 130732.83, 51993.33, 103440.24, 88464.69, 68497.74, 29164.92, 235177.59, 96739.11, 97297.95, 89068.92, 63490.92, 113161.88999999998, 64014.33, 90042.12000000002, 123293.67, 170720.07, 112891.95, 78240.29999999999, 85967.31, 112457.91, 83834.49, 102584.61000000002, 176221.95, 67478.97, 76148.64, 66120.95999999999, 55343.46, 144346.98, 82379.81999999999, 109411.704, 144183.84, 32163.72, 87798.56999999999, 104937.54, 101553.438, 49723.17, 158119.91999999998, 130573.8, 52636.88999999999, 177153.51, 126033.822, 153529.32, 50779.95, 83155.53, 51543.12, 119606.25, 77567.08200000001, 158395.95, 83096.67, 95927.58, 92552.7, 215856.72000000003, 51428.97, 105648.42, 33083.85000000001, 61952.94, 79174.35, 134081.94, 85327.812, 80896.44, 104091.84599999999, 166182.90000000002, 122026.88999999998, 30731.76, 65732.61, 54163.11, 26286.06, 185320.74, 67116.18000000001, 168726.18, 27370.23, 44478.12, 93031.08, 60447.06, 179382.51, 111101.28, 81331.35, 77538.12, 171642.54, 85327.812, 115660.05, 66655.68000000001, 177840.45, 120625.8, 80406.18000000001, 210640.92, 55677.93000000001, 67755.78, 225840.51, 113623.32, 126052.05, 101036.94, 174870.99, 206079.39, 116339.16, 39354.15, 118081.2, 168679.05, 207613.98, 208372.686, 152910.84, 75636.27, 212609.31, 24328.59, 124003.44, 51838.17, 159855.18, 62174.97, 171369.66, 98690.22, 97989.27, 83354.28, 75457.5, 129399.99, 132037.02, 85327.812, 19456.53, 117646.52999999998, 76015.17, 96864.18, 66385.68600000002, 211171.34399999998, 48893.85000000001, 102018.084, 72934.326, 90889.29, 102356.85, 122943.27, 52786.482, 226967.67600000004, 145333.62, 24160.32, 98291.43, 132469.614, 166927.05, 110538.03, 119154.38999999998, 70442.73, 41893.38, 62350.05, 118621.11000000002, 40609.8, 122492.67, 80459.58, 97573.32, 131518.26, 60579.87, 77353.08, 38109.78, 145065.24, 186685.68, 90333.75, 155069.97, 228859.43400000004, 89548.17, 59717.31, 66970.31999999999, 117045.0, 215339.25, 138176.34, 79620.78, 100716.18, 122431.29, 216580.98, 79662.12, 54116.13, 102371.49, 163401.93, 145460.4, 108314.82, 91863.84, 115283.49, 69880.47, 118633.77, 93373.332, 196172.01, 163510.77, 44622.57, 35079.149999999994, 103961.31, 106826.34, 107264.46, 217622.61, 101046.75, 48915.33, 227569.62, 98485.362, 142788.84, 72239.28, 70887.09, 158173.45200000002, 54110.304000000004, 114333.6, 86530.86, 82264.20000000001, 77968.98, 56929.68000000001, 53885.43000000001, 92246.73, 166155.38999999998, 91193.16, 101553.438, 163091.09999999998, 89823.33, 81777.9, 183424.92, 126033.822, 126033.822, 116809.2, 115545.0, 137158.272, 106777.44, 38736.42, 110594.688, 127183.5, 105966.78, 133262.91, 98161.47, 49178.892, 173087.802, 61844.76, 76343.73, 71827.86, 129437.28, 128988.6, 119454.38999999998, 51889.44, 64177.71, 208099.53, 180003.87600000002, 140901.45, 74638.29000000001, 54978.3, 92219.58, 129752.61000000002, 66204.48, 74114.37, 173416.13999999998, 41359.41, 98992.77, 193204.77, 70111.02, 91303.59, 101553.43800000001, 88176.36, 98337.09, 79362.48, 105688.47, 133786.68, 88548.51, 51685.83, 120905.28, 88651.35, 185527.26, 48850.26, 136063.29, 151515.75, 68323.74, 96901.47000000002, 47636.04, 104191.08600000001, 149034.78, 66036.84, 131405.22, 108536.37, 66604.56, 139183.71, 126331.53, 82574.94, 115010.37, 97246.5, 196334.46, 135600.3, 126275.43, 154630.16999999998, 150898.41, 84433.02, 85327.812, 122993.04, 112774.92, 149069.46, 130263.33, 136743.12, 105623.16, 51688.53, 109934.34, 80216.79000000001, 97108.53, 83580.00600000001, 39225.78, 163557.75, 107661.324, 72922.242, 145239.57, 164490.69, 132830.04, 86435.45999999999, 47987.91, 99177.99, 104555.01, 153436.41, 29857.620000000014, 83242.536, 84018.99, 106862.67, 63505.8, 156573.15000000002, 138507.36000000002, 152785.32, 105778.86000000002, 49085.07, 86912.88, 144938.37000000002, 104726.16, 111003.6, 116644.77, 200232.33, 87730.2, 143729.31, 110511.63, 65121.27, 202187.34, 61429.77, 65599.04999999999, 73281.29999999999, 76245.24, 103002.48, 216863.16, 179638.29, 113835.33, 124083.96, 81620.64, 64173.48, 33890.19, 97790.736, 106125.24, 116612.07, 38643.81, 124880.91, 71199.42, 155043.63, 169334.88, 72255.69, 34485.51, 77538.12, 54435.27, 163649.01, 78334.62, 34171.29, 48595.35000000001, 100789.2, 49430.79, 208372.686, 71405.67, 139129.848, 82207.08, 153137.94, 100887.11399999999, 104547.57, 82682.52, 55615.86, 57892.56, 57322.62, 64289.08200000001, 72176.58, 72076.56, 97323.378, 49107.72, 136889.76, 150748.56, 118544.58, 98978.97, 93921.93, 90650.43, 109230.0, 48240.78, 193265.91, 87619.89, 55905.132, 75071.04000000001, 46586.22, 96764.61, 97048.31400000001, 103463.05799999999, 104746.35, 98334.03, 102774.21, 144145.47, 165867.48, 86490.42, 91858.56, 197541.88199999998, 55043.43000000001, 48240.39, 90418.13999999998, 123749.1, 137945.31, 34375.68, 79016.37, 108493.08, 35653.83, 165560.82, 78179.67, 69062.1, 70316.13, 109804.17, 51507.45, 114106.65, 55838.25, 107264.19, 146866.2, 173087.802, 160853.202, 43405.83, 81144.12, 122900.55, 106571.12399999998, 134029.47, 153078.678, 45935.61, 97607.55, 91718.58, 61735.2, 85432.70999999999, 68466.81, 126698.04, 221125.29, 97411.08, 68625.93000000001, 187228.53, 133424.58000000002, 79202.73000000001, 66385.68600000002, 90714.63, 111590.7, 90404.43, 124564.29, 185588.25, 155877.99, 210512.58, 122178.45, 74430.36, 176198.58000000005, 41453.04, 94705.40400000001, 54619.47, 94671.15, 147732.09, 240811.83, 36041.46, 116920.2, 71965.20000000001, 59142.27, 72068.37, 117633.36000000002, 64955.91, 158642.46, 63474.738, 92629.41, 58825.68000000001, 108219.894, 188001.72, 139678.05, 106290.822, 99377.13, 85585.95000000001, 61577.79, 42735.24, 117497.76, 156513.24, 63436.56, 70898.31, 106822.59, 125662.62, 53190.03, 74716.56, 85327.812, 79212.03, 77361.84, 238271.52, 112877.04, 174356.25, 89711.64, 105343.83, 116046.51, 46469.94, 175383.738, 105834.75, 95042.64, 85153.79999999999, 17546.19, 51845.58, 191962.59, 179167.95599999998, 116007.24, 121293.21, 56951.94, 108939.87, 169732.41, 93521.52, 121249.56, 47418.15, 109926.12, 59871.50399999999, 38530.02, 147910.88999999998, 161687.58000000002, 166434.666, 104512.8, 97546.59, 208372.686, 109661.34, 52445.76, 69193.38, 86406.51, 32358.27, 142804.51799999998, 78254.61, 146851.68, 121877.22, 98520.84, 161075.09999999998, 95733.93, 127156.38, 130548.45, 86220.84, 42803.76, 54216.63, 75694.31999999999, 149212.41, 85832.214, 87730.2, 162024.3, 170021.09999999998, 163566.45, 58781.340000000004, 143043.45, 122093.4, 155795.52, 50840.4, 83786.13, 200655.75, 118562.7, 223148.88, 140187.78, 101709.99, 66385.68600000002, 157954.452, 144093.408, 77684.61, 52131.3, 89644.11, 62768.79, 91733.97, 62115.87, 137388.51, 201383.49, 53794.65, 77567.08200000001, 159000.21, 53412.12, 76111.59, 102179.82, 133283.286, 65081.34, 69565.5, 145620.69, 133471.53, 145320.15000000002, 209792.58, 44958.9, 61506.63, 133171.05, 53779.02, 100061.49, 48533.79, 122900.55, 207284.28, 199193.49, 79572.0, 94867.11, 98593.59, 102895.95, 43209.3, 106569.57, 49400.25, 117219.78, 207411.72000000003, 154007.91, 69257.76, 131422.5, 95542.62, 133712.09999999998, 39646.74, 78217.86, 145507.11000000002, 70939.20000000001, 48606.60000000001, 94766.28, 79480.68000000001, 153488.49, 173087.802, 98011.5, 104760.96, 38277.36, 101838.76199999999, 128505.48, 70326.12, 101553.438, 60875.58, 73250.34, 94327.08, 110444.58, 89938.44, 121963.17, 38047.41, 88212.93000000002, 84548.91, 113021.91, 103318.98, 143280.45, 45817.23, 196354.83, 146406.57, 39375.72, 149324.73, 51308.97, 121331.92199999999, 217599.96, 232344.93, 80685.81, 212180.07, 148671.13199999998, 85964.64, 108856.74, 78001.89, 97500.03, 95648.28, 127054.68, 116651.19, 84115.14, 99680.63999999998, 206015.91, 157742.34, 157954.452, 106459.29, 37692.75, 128710.95, 94685.13, 113027.232, 58916.43000000001, 146990.19, 86437.14, 88866.54000000002, 66898.29000000001, 92009.16, 83630.88, 169755.87, 59849.06999999999, 82190.67, 90044.22, 95438.76, 99743.94, 101553.43800000001, 45177.84, 99308.4, 123938.01, 138473.16, 91456.83, 87151.23, 111590.70000000003, 134812.13999999998, 71638.98, 158225.28, 79327.812, 120202.53, 162256.95, 35068.5, 59766.48, 236484.24, 90879.324, 150134.25, 120533.574, 72775.56, 200057.85, 139129.848, 90201.36, 176844.21, 72556.05, 131535.18, 177980.7, 50493.12, 211171.34399999998, 184387.77, 83308.95000000001, 52698.39, 144188.52, 198961.41, 223285.32, 167685.93, 219535.47000000003, 131061.03, 52477.44, 63774.56999999999, 92699.562, 98444.16, 102139.986, 99856.02, 108013.59, 176064.90000000005, 94526.64, 169841.31, 66773.81999999999, 82309.65, 52786.482, 62075.88, 61720.08, 94209.78, 198993.96, 199334.01, 92170.08, 211171.34399999998, 92568.21, 70086.93000000001, 65498.79, 76994.31, 39758.79, 232842.15, 57006.3, 131453.16, 53150.35800000001, 65143.38, 181510.14, 100362.15, 80798.61, 131018.352, 91597.53, 58024.17, 86941.626, 144938.37000000002, 58599.18000000001, 77830.14, 93994.47, 162943.95, 112246.88999999998, 103234.02, 67629.744, 83404.728, 119904.87, 180003.87600000002, 124833.6, 55937.01, 88929.66, 152784.81, 143300.31, 72837.42, 183393.27, 152406.24, 67759.96200000001, 56705.06999999999, 111853.728, 97247.268, 120849.45, 142804.518, 45557.85000000001, 77567.08200000001, 129023.43, 121116.36000000002, 197438.7, 63473.34, 82623.9, 58635.56999999999, 177287.7, 133458.36000000002, 71578.92, 72934.326, 99487.53, 59191.5, 73801.08, 126613.8, 99913.13999999998, 89198.37, 62321.94, 95112.18, 116742.0, 37862.16, 105108.96, 190184.31, 83146.476, 98666.4, 46500.3, 51836.43000000001, 185738.43, 53513.19, 88731.9, 152905.77, 73753.29000000001, 90042.12000000002, 58778.91, 96711.03, 56157.39, 106085.07, 44040.03, 86605.05600000001, 50187.24000000001, 169754.904, 211936.59, 218068.02, 97157.91, 102948.06, 81316.29000000001, 59048.04, 198557.13, 159158.46, 151682.79, 176935.41, 44374.32, 31629.21, 194561.1, 104191.08600000001, 41804.61, 91623.6, 187677.21, 124574.55, 42162.9, 33150.03, 111073.88999999998, 62955.06, 49329.9, 150029.97, 67588.29000000001, 176107.47, 91789.92, 71031.66, 70518.81, 81044.45999999999, 87135.81, 111786.45, 73107.0, 53946.75, 70584.84599999999, 126433.47, 98700.36000000002, 44677.65, 149222.49, 80317.296, 203302.95, 157954.452, 122037.69, 180259.95, 45445.08, 45583.86, 128442.12, 144938.37000000002, 37622.85000000001, 81842.088, 76113.54000000001, 183215.01, 103396.56, 193578.9, 22273.83, 168053.43, 55325.55, 127009.41, 142209.09, 54623.79, 90240.6, 79102.08, 231108.78, 151690.29, 40823.97, 45489.03, 85919.54999999999, 48900.21, 69330.45000000001, 95567.79, 44072.31, 161301.90000000002, 92079.36, 87681.402, 83571.75, 108219.894, 77340.6, 86806.17, 179601.12, 61472.73, 100319.01, 114618.05999999998, 116177.48400000001, 90035.25, 57935.25, 88799.49, 60592.2, 106885.956, 118243.41, 92863.53, 52362.39, 129237.48, 42161.43, 37428.18, 51605.88, 104243.13, 119242.11000000002, 84916.536, 190966.08, 213697.47000000003, 47043.54, 44436.234000000004, 69233.49, 67248.63, 95424.54, 227942.01, 57229.77, 38370.81, 88368.99, 100382.43600000002, 52226.25, 129933.96, 67204.17, 103374.85200000001, 223315.536, 118098.33, 104164.17, 35884.92, 67241.31, 124013.82, 79278.81, 77341.77, 52392.51, 37469.4, 95997.48, 166348.74, 148639.95, 150893.94, 136013.976, 96556.11, 140347.08000000002, 94621.44, 79866.912, 120450.27, 78238.65, 58505.22, 161916.24, 70640.61, 59678.85, 142804.518, 64289.08200000001, 194516.97, 104090.25, 122900.55, 145350.33000000002, 116147.01, 72022.04999999999, 81628.29000000001, 205507.89, 208518.75, 72047.19, 146990.19, 236286.69, 205254.42, 27052.23, 178610.172, 161217.36000000002, 119219.08200000001, 24611.16, 59343.78, 156127.47, 61929.85799999999, 195856.2, 58090.44, 109366.32, 97622.46, 165782.76, 145877.91, 118391.1, 75139.968, 125085.87, 78814.08, 123721.23, 95895.27, 61455.66, 84508.95000000001, 176193.96, 43464.96, 77289.6, 85327.812, 46066.53, 72930.9, 70940.64, 208372.686, 145027.77, 95878.26, 115427.4, 77594.34, 153844.758, 94521.69, 152685.53399999999, 97778.91, 139511.73, 137895.984, 187107.99, 112807.53, 150559.34999999998, 94105.65, 85958.34, 72123.36600000001, 105339.48, 100053.75, 148720.65000000002, 122808.54, 62553.3, 107661.324, 149604.78, 223866.66, 78948.48000000001, 100765.62, 68814.48, 171723.324, 36546.63, 173087.802, 117387.66, 66157.95000000001, 77466.72, 130126.098, 101553.438, 175771.26, 58148.16, 63878.22, 41132.88, 206838.48, 135967.47, 165868.08000000002, 68542.77, 44677.86, 127950.48, 169999.2, 48394.65, 82056.15, 239038.83, 113086.86000000002, 92218.5, 70088.85, 233396.73, 84960.15, 40607.04, 53485.74000000001, 138863.58000000002, 133283.286, 73002.84, 51678.99000000001, 65615.70000000001, 93428.58, 180343.63199999998, 32681.04, 39012.15, 68922.69, 45285.99, 70001.01, 166458.3, 63780.48, 122247.66, 104260.902, 61794.738, 199934.862, 63591.21, 59893.83, 220357.89, 127648.11000000002, 190172.04, 88900.38, 71886.27, 54593.76000000001, 97104.51, 235765.74, 52178.01, 76892.73, 83942.45999999999, 61498.47, 84436.20000000001, 68652.95999999999, 114995.37, 177153.51, 173648.73, 49255.8, 96298.90800000001, 109613.07, 142605.03, 57592.92, 86139.474, 177971.43, 85713.20999999999, 95167.29, 101615.7, 108183.93, 68842.59, 134555.016, 57391.71, 96002.82, 165288.06, 140360.946, 86428.23, 147858.93, 133974.63, 52208.598000000005, 135181.758, 107876.25, 82140.66, 131403.18, 51188.97, 83058.27, 57973.44, 68753.25, 58781.340000000004, 85327.812, 31980.06, 49178.892, 79266.15, 64289.08200000001, 122528.76, 85669.26, 106885.956, 105069.81, 70577.238, 87499.89, 98044.44, 46823.82, 173143.8, 57021.60000000001, 91587.33, 37486.05, 92108.7, 119985.96, 52004.10000000001, 106457.67, 60478.08, 66247.53, 61525.17, 119225.63999999998, 30180.06, 60875.58, 64232.46, 42987.75, 34915.71, 105145.11000000002, 99594.12, 150548.76, 49178.892, 209469.72000000003, 168228.48, 187605.198, 163000.44, 42518.10000000001, 150429.59999999998, 73871.01, 64283.7, 169015.08000000002, 104937.54, 74225.106, 66232.50600000001, 114566.58599999998, 43318.32, 113590.74, 133053.59999999998, 84873.20999999999, 80586.18000000001, 226631.52, 38797.83, 28078.74, 80589.69, 118117.23, 172485.78000000003, 59168.67, 178371.36000000004, 41784.39, 53270.46, 137874.96, 110580.15, 121655.4, 117867.12, 59319.66, 145903.2, 133562.01, 28579.02, 133283.286, 101362.88999999998, 137912.84999999998, 196677.15, 41270.61, 118937.4, 63733.35000000001, 106702.5, 50764.53, 169250.22, 41919.54, 88398.09, 66579.81, 38259.93, 81361.98, 65808.81, 126385.13999999998, 57485.64, 132732.84, 201683.82, 56398.77, 59923.079999999994, 89863.83, 113747.49, 135502.5, 54638.67, 206887.59, 173327.79, 185921.46, 113302.47, 152951.97, 120361.68, 119758.62, 67711.5, 146493.96, 150650.76, 127221.42, 100442.76, 107052.33, 114085.77, 51979.23, 90809.34, 109205.1, 116148.24, 74957.01, 66724.33200000001, 66909.39, 79556.49, 98198.64, 111936.54, 154617.59999999998, 136351.29, 78579.84, 94832.37, 187796.82, 137722.02, 67983.81, 211171.34399999998, 118009.86000000002, 168943.2, 102437.07, 68037.06, 55678.338, 44481.84, 195337.32, 69474.15, 85544.31, 74947.11, 91570.08, 111421.38, 104191.08600000001, 36567.24, 92595.75, 43123.05, 109485.27, 73102.65, 64435.116, 59262.48, 178477.88999999996, 86785.74, 129911.16, 58927.56, 114791.19, 226250.46, 134387.16, 233606.49, 230912.88, 64289.08200000001, 95964.6, 100451.76, 192887.46, 87847.674, 73507.21800000001, 111117.38999999998, 65265.84, 114461.85, 132966.38999999998, 93403.02, 91734.402, 85128.36, 211389.3, 125930.97, 40373.25, 44850.81, 84860.76, 69944.49, 74103.93000000001, 99876.12599999999, 150842.46, 140360.946, 92920.13999999998, 104191.08600000001, 95729.85, 149222.49, 163809.41999999998, 153322.83000000002, 242099.52, 122900.55, 111482.61000000002, 94451.55, 55321.98, 123074.22, 141614.31, 78951.29999999999, 53906.85000000001, 121221.21, 68758.59, 136585.38, 120533.574, 159619.98, 73649.94, 112734.84, 46069.74, 92361.75, 98896.68, 114339.6, 139830.66, 158973.75, 170003.25, 105515.1, 168228.48, 117615.57, 74398.77, 70326.20999999999, 172623.24, 109084.23, 103374.85200000001, 96751.38, 70577.238, 148453.2, 78585.81, 125970.93, 127815.27, 44596.35000000001, 197335.92, 46543.53, 96034.86, 81798.0, 129023.19, 47960.46, 105854.7, 47006.97, 134665.74, 125909.46, 66452.16, 118676.49, 40424.58, 210950.61, 128683.5, 52636.89, 132569.31, 192852.27, 70968.39, 112958.1, 68442.0, 162243.24, 173087.802, 59923.079999999994, 68863.20000000001, 91588.44, 137071.23, 71782.59, 212952.3, 62763.9, 40387.68, 58977.18000000001, 78948.48000000001, 100887.11399999999, 137488.83000000002, 152856.804, 86139.474, 108876.36000000002, 128590.77, 169558.428, 140360.946, 107312.52000000002, 79354.08, 168336.54, 90608.01, 81639.20999999999, 96798.81, 175810.58399999997, 183566.64, 87771.69, 86130.0, 70817.28, 140001.93, 133699.13999999998, 53350.2, 212952.3, 120392.88, 148003.74, 95628.51, 99226.68, 109789.44, 112885.13999999998, 135559.86000000002, 109712.91, 62958.39, 57877.44, 169733.66999999998, 148812.03, 112772.55, 64012.38, 103464.84, 47619.0, 100202.85, 183566.64, 126682.98, 186417.33, 30087.33, 71744.61, 94966.47, 89358.42, 194348.7, 159128.58000000002, 76953.66, 62574.96, 162927.27, 34682.85000000001, 149618.73, 43470.99, 161666.31, 111906.54, 197445.21, 176878.38, 82703.01, 129522.78, 102057.69, 64607.04, 59011.47, 163664.31, 59045.19, 92831.61, 78744.51, 134620.53, 100991.622, 156769.81199999998, 45590.16, 78652.62, 187605.198, 98606.61000000002, 106988.82, 105118.59000000001, 98393.454, 99383.07, 82722.06, 86173.23, 79222.26, 90879.324, 41480.58, 96986.85, 69783.54000000001, 119621.82, 58967.19, 54228.69, 86907.20999999999, 132870.99, 66385.68600000002, 76549.31999999999, 72795.56999999999, 59901.15, 69938.97, 139122.57, 66511.59, 80059.31999999999, 165312.69, 85640.54999999999, 72556.05, 85638.56999999999, 107573.1, 152846.13, 58872.60000000001, 85002.56999999999, 237884.79, 131417.40000000002, 54513.21, 106064.7, 62609.19, 122312.01, 159000.84, 67912.65, 148357.34999999998, 42280.14, 68079.096, 94679.01, 63048.56999999999, 52776.99000000001, 79374.93000000001, 96850.38, 69899.754, 83373.18000000001, 174239.76, 51702.42, 60909.84, 71048.76, 19294.83, 222700.59, 91276.56, 106350.552, 111590.70000000003, 73695.75, 60579.99000000001, 164190.12, 138455.37, 42029.37, 72720.56999999999, 172929.0, 67759.96200000001, 111949.98, 100887.11399999999, 101553.43800000001, 65259.75, 132236.31, 90316.2, 106909.35, 136081.74, 142235.37, 199661.07, 55011.81, 161880.45, 237329.61, 133868.79, 56282.442, 67242.03, 68761.02, 155761.11000000002, 211959.18, 72429.93000000001, 33692.340000000004, 29861.82, 127539.33, 200766.12, 93753.51, 155570.13, 29861.82, 69849.35399999999, 72595.68000000001, 118891.17, 120725.34, 62683.14, 61333.08, 145104.18, 129818.67, 93510.384, 71899.83, 70611.12, 46680.252, 125217.3, 104079.63, 98577.0, 82620.06, 89343.39, 94904.25, 124145.37, 93216.45, 74785.26, 236134.98, 91633.89, 94978.674, 89425.59, 55479.33, 131967.99, 63940.71, 144573.78, 135181.758, 118336.23, 96584.97, 61412.19, 133948.2, 40494.15, 127836.06, 168523.23, 75941.06999999999, 136990.13999999998, 110480.52, 96444.0, 81686.64, 100887.11399999999, 145460.4, 82189.20000000001, 118262.73, 85283.88, 76240.74, 103545.72, 31472.25, 133283.286, 72632.34, 196037.34, 98883.03, 130331.82, 95433.63, 176987.84999999995, 81009.99, 133373.43, 46023.12, 109083.48, 31363.98, 64388.67, 22964.37, 32063.16, 50431.53, 74906.25, 121175.61000000002, 177817.05, 86822.25, 58388.76, 63473.10000000001, 52851.24000000001, 144829.68, 52786.482, 148040.84999999998, 105290.63999999998, 163617.93, 58763.61, 144093.408, 240738.63, 60171.45, 134728.41, 132842.658, 160601.88, 200530.83, 109257.42, 94172.25, 137119.2, 107266.86000000002, 153011.55, 70307.45999999999, 101877.9, 140099.07, 87775.53, 151848.0, 21183.39, 134604.0, 97244.13, 135878.19, 79492.74, 66117.58200000001, 58378.98, 96588.57, 87286.23, 69628.31999999999, 124151.58, 99206.13, 86205.75, 162274.34999999998, 59292.51, 52646.81999999999, 112192.38, 93325.2, 91704.57, 79747.41, 108219.894, 185732.43, 67075.59, 144021.93, 80931.33, 72752.31, 45036.9, 174712.74, 106838.376, 121016.79, 133371.90000000002, 93147.78, 93789.42, 127724.07, 53506.56, 42128.34, 63474.738, 111641.7, 198159.69, 178610.172, 42323.22, 162014.16, 87730.2, 29010.51, 51233.76, 102658.95, 55116.87, 76318.92, 118384.62, 80815.38, 156581.88, 110678.43, 118630.29, 203847.6, 100301.76, 137895.984, 94076.61, 60331.56, 69103.44, 59876.49000000001, 113564.76, 219869.7, 112760.7, 72700.56, 86311.19399999999, 40576.89], \"y0\": \" \", \"yaxis\": \"y\"}],\n",
              "                        {\"boxmode\": \"group\", \"legend\": {\"tracegroupgap\": 0}, \"template\": {\"data\": {\"bar\": [{\"error_x\": {\"color\": \"#2a3f5f\"}, \"error_y\": {\"color\": \"#2a3f5f\"}, \"marker\": {\"line\": {\"color\": \"#E5ECF6\", \"width\": 0.5}}, \"type\": \"bar\"}], \"barpolar\": [{\"marker\": {\"line\": {\"color\": \"#E5ECF6\", \"width\": 0.5}}, \"type\": \"barpolar\"}], \"carpet\": [{\"aaxis\": {\"endlinecolor\": \"#2a3f5f\", \"gridcolor\": \"white\", \"linecolor\": \"white\", \"minorgridcolor\": \"white\", \"startlinecolor\": \"#2a3f5f\"}, \"baxis\": {\"endlinecolor\": \"#2a3f5f\", \"gridcolor\": \"white\", \"linecolor\": \"white\", \"minorgridcolor\": \"white\", \"startlinecolor\": \"#2a3f5f\"}, \"type\": \"carpet\"}], \"choropleth\": [{\"colorbar\": {\"outlinewidth\": 0, \"ticks\": \"\"}, \"type\": \"choropleth\"}], \"contour\": [{\"colorbar\": {\"outlinewidth\": 0, \"ticks\": \"\"}, \"colorscale\": [[0.0, \"#0d0887\"], [0.1111111111111111, \"#46039f\"], [0.2222222222222222, \"#7201a8\"], [0.3333333333333333, \"#9c179e\"], [0.4444444444444444, \"#bd3786\"], [0.5555555555555556, \"#d8576b\"], [0.6666666666666666, \"#ed7953\"], [0.7777777777777778, \"#fb9f3a\"], [0.8888888888888888, \"#fdca26\"], [1.0, \"#f0f921\"]], \"type\": \"contour\"}], \"contourcarpet\": [{\"colorbar\": {\"outlinewidth\": 0, \"ticks\": \"\"}, \"type\": \"contourcarpet\"}], \"heatmap\": [{\"colorbar\": {\"outlinewidth\": 0, \"ticks\": \"\"}, \"colorscale\": [[0.0, \"#0d0887\"], [0.1111111111111111, \"#46039f\"], [0.2222222222222222, \"#7201a8\"], [0.3333333333333333, \"#9c179e\"], [0.4444444444444444, \"#bd3786\"], [0.5555555555555556, \"#d8576b\"], [0.6666666666666666, \"#ed7953\"], [0.7777777777777778, \"#fb9f3a\"], [0.8888888888888888, \"#fdca26\"], [1.0, \"#f0f921\"]], \"type\": \"heatmap\"}], \"heatmapgl\": [{\"colorbar\": {\"outlinewidth\": 0, \"ticks\": \"\"}, \"colorscale\": [[0.0, \"#0d0887\"], [0.1111111111111111, \"#46039f\"], [0.2222222222222222, \"#7201a8\"], [0.3333333333333333, \"#9c179e\"], [0.4444444444444444, \"#bd3786\"], [0.5555555555555556, \"#d8576b\"], [0.6666666666666666, \"#ed7953\"], [0.7777777777777778, \"#fb9f3a\"], [0.8888888888888888, \"#fdca26\"], [1.0, \"#f0f921\"]], \"type\": \"heatmapgl\"}], \"histogram\": [{\"marker\": {\"colorbar\": {\"outlinewidth\": 0, \"ticks\": \"\"}}, \"type\": \"histogram\"}], \"histogram2d\": [{\"colorbar\": {\"outlinewidth\": 0, \"ticks\": \"\"}, \"colorscale\": [[0.0, \"#0d0887\"], [0.1111111111111111, \"#46039f\"], [0.2222222222222222, \"#7201a8\"], [0.3333333333333333, \"#9c179e\"], [0.4444444444444444, \"#bd3786\"], [0.5555555555555556, \"#d8576b\"], [0.6666666666666666, \"#ed7953\"], [0.7777777777777778, \"#fb9f3a\"], [0.8888888888888888, \"#fdca26\"], [1.0, \"#f0f921\"]], \"type\": \"histogram2d\"}], \"histogram2dcontour\": [{\"colorbar\": {\"outlinewidth\": 0, \"ticks\": \"\"}, \"colorscale\": [[0.0, \"#0d0887\"], [0.1111111111111111, \"#46039f\"], [0.2222222222222222, \"#7201a8\"], [0.3333333333333333, \"#9c179e\"], [0.4444444444444444, \"#bd3786\"], [0.5555555555555556, \"#d8576b\"], [0.6666666666666666, \"#ed7953\"], [0.7777777777777778, \"#fb9f3a\"], [0.8888888888888888, \"#fdca26\"], [1.0, \"#f0f921\"]], \"type\": \"histogram2dcontour\"}], \"mesh3d\": [{\"colorbar\": {\"outlinewidth\": 0, \"ticks\": \"\"}, \"type\": \"mesh3d\"}], \"parcoords\": [{\"line\": {\"colorbar\": {\"outlinewidth\": 0, \"ticks\": \"\"}}, \"type\": \"parcoords\"}], \"pie\": [{\"automargin\": true, \"type\": \"pie\"}], \"scatter\": [{\"marker\": {\"colorbar\": {\"outlinewidth\": 0, \"ticks\": \"\"}}, \"type\": \"scatter\"}], \"scatter3d\": [{\"line\": {\"colorbar\": {\"outlinewidth\": 0, \"ticks\": \"\"}}, \"marker\": {\"colorbar\": {\"outlinewidth\": 0, \"ticks\": \"\"}}, \"type\": \"scatter3d\"}], \"scattercarpet\": [{\"marker\": {\"colorbar\": {\"outlinewidth\": 0, \"ticks\": \"\"}}, \"type\": \"scattercarpet\"}], \"scattergeo\": [{\"marker\": {\"colorbar\": {\"outlinewidth\": 0, \"ticks\": \"\"}}, \"type\": \"scattergeo\"}], \"scattergl\": [{\"marker\": {\"colorbar\": {\"outlinewidth\": 0, \"ticks\": \"\"}}, \"type\": \"scattergl\"}], \"scattermapbox\": [{\"marker\": {\"colorbar\": {\"outlinewidth\": 0, \"ticks\": \"\"}}, \"type\": \"scattermapbox\"}], \"scatterpolar\": [{\"marker\": {\"colorbar\": {\"outlinewidth\": 0, \"ticks\": \"\"}}, \"type\": \"scatterpolar\"}], \"scatterpolargl\": [{\"marker\": {\"colorbar\": {\"outlinewidth\": 0, \"ticks\": \"\"}}, \"type\": \"scatterpolargl\"}], \"scatterternary\": [{\"marker\": {\"colorbar\": {\"outlinewidth\": 0, \"ticks\": \"\"}}, \"type\": \"scatterternary\"}], \"surface\": [{\"colorbar\": {\"outlinewidth\": 0, \"ticks\": \"\"}, \"colorscale\": [[0.0, \"#0d0887\"], [0.1111111111111111, \"#46039f\"], [0.2222222222222222, \"#7201a8\"], [0.3333333333333333, \"#9c179e\"], [0.4444444444444444, \"#bd3786\"], [0.5555555555555556, \"#d8576b\"], [0.6666666666666666, \"#ed7953\"], [0.7777777777777778, \"#fb9f3a\"], [0.8888888888888888, \"#fdca26\"], [1.0, \"#f0f921\"]], \"type\": \"surface\"}], \"table\": [{\"cells\": {\"fill\": {\"color\": \"#EBF0F8\"}, \"line\": {\"color\": \"white\"}}, \"header\": {\"fill\": {\"color\": \"#C8D4E3\"}, \"line\": {\"color\": \"white\"}}, \"type\": \"table\"}]}, \"layout\": {\"annotationdefaults\": {\"arrowcolor\": \"#2a3f5f\", \"arrowhead\": 0, \"arrowwidth\": 1}, \"coloraxis\": {\"colorbar\": {\"outlinewidth\": 0, \"ticks\": \"\"}}, \"colorscale\": {\"diverging\": [[0, \"#8e0152\"], [0.1, \"#c51b7d\"], [0.2, \"#de77ae\"], [0.3, \"#f1b6da\"], [0.4, \"#fde0ef\"], [0.5, \"#f7f7f7\"], [0.6, \"#e6f5d0\"], [0.7, \"#b8e186\"], [0.8, \"#7fbc41\"], [0.9, \"#4d9221\"], [1, \"#276419\"]], \"sequential\": [[0.0, \"#0d0887\"], [0.1111111111111111, \"#46039f\"], [0.2222222222222222, \"#7201a8\"], [0.3333333333333333, \"#9c179e\"], [0.4444444444444444, \"#bd3786\"], [0.5555555555555556, \"#d8576b\"], [0.6666666666666666, \"#ed7953\"], [0.7777777777777778, \"#fb9f3a\"], [0.8888888888888888, \"#fdca26\"], [1.0, \"#f0f921\"]], \"sequentialminus\": [[0.0, \"#0d0887\"], [0.1111111111111111, \"#46039f\"], [0.2222222222222222, \"#7201a8\"], [0.3333333333333333, \"#9c179e\"], [0.4444444444444444, \"#bd3786\"], [0.5555555555555556, \"#d8576b\"], [0.6666666666666666, \"#ed7953\"], [0.7777777777777778, \"#fb9f3a\"], [0.8888888888888888, \"#fdca26\"], [1.0, \"#f0f921\"]]}, \"colorway\": [\"#636efa\", \"#EF553B\", \"#00cc96\", \"#ab63fa\", \"#FFA15A\", \"#19d3f3\", \"#FF6692\", \"#B6E880\", \"#FF97FF\", \"#FECB52\"], \"font\": {\"color\": \"#2a3f5f\"}, \"geo\": {\"bgcolor\": \"white\", \"lakecolor\": \"white\", \"landcolor\": \"#E5ECF6\", \"showlakes\": true, \"showland\": true, \"subunitcolor\": \"white\"}, \"hoverlabel\": {\"align\": \"left\"}, \"hovermode\": \"closest\", \"mapbox\": {\"style\": \"light\"}, \"paper_bgcolor\": \"white\", \"plot_bgcolor\": \"#E5ECF6\", \"polar\": {\"angularaxis\": {\"gridcolor\": \"white\", \"linecolor\": \"white\", \"ticks\": \"\"}, \"bgcolor\": \"#E5ECF6\", \"radialaxis\": {\"gridcolor\": \"white\", \"linecolor\": \"white\", \"ticks\": \"\"}}, \"scene\": {\"xaxis\": {\"backgroundcolor\": \"#E5ECF6\", \"gridcolor\": \"white\", \"gridwidth\": 2, \"linecolor\": \"white\", \"showbackground\": true, \"ticks\": \"\", \"zerolinecolor\": \"white\"}, \"yaxis\": {\"backgroundcolor\": \"#E5ECF6\", \"gridcolor\": \"white\", \"gridwidth\": 2, \"linecolor\": \"white\", \"showbackground\": true, \"ticks\": \"\", \"zerolinecolor\": \"white\"}, \"zaxis\": {\"backgroundcolor\": \"#E5ECF6\", \"gridcolor\": \"white\", \"gridwidth\": 2, \"linecolor\": \"white\", \"showbackground\": true, \"ticks\": \"\", \"zerolinecolor\": \"white\"}}, \"shapedefaults\": {\"line\": {\"color\": \"#2a3f5f\"}}, \"ternary\": {\"aaxis\": {\"gridcolor\": \"white\", \"linecolor\": \"white\", \"ticks\": \"\"}, \"baxis\": {\"gridcolor\": \"white\", \"linecolor\": \"white\", \"ticks\": \"\"}, \"bgcolor\": \"#E5ECF6\", \"caxis\": {\"gridcolor\": \"white\", \"linecolor\": \"white\", \"ticks\": \"\"}}, \"title\": {\"x\": 0.05}, \"xaxis\": {\"automargin\": true, \"gridcolor\": \"white\", \"linecolor\": \"white\", \"ticks\": \"\", \"title\": {\"standoff\": 15}, \"zerolinecolor\": \"white\", \"zerolinewidth\": 2}, \"yaxis\": {\"automargin\": true, \"gridcolor\": \"white\", \"linecolor\": \"white\", \"ticks\": \"\", \"title\": {\"standoff\": 15}, \"zerolinecolor\": \"white\", \"zerolinewidth\": 2}}}, \"title\": {\"text\": \"Salario por creatividad\"}, \"xaxis\": {\"anchor\": \"y\", \"domain\": [0.0, 1.0], \"title\": {\"text\": \"personalizacion\"}}, \"yaxis\": {\"anchor\": \"x\", \"domain\": [0.0, 1.0], \"title\": {\"text\": \"salary\"}}},\n",
              "                        {\"responsive\": true}\n",
              "                    ).then(function(){\n",
              "                            \n",
              "var gd = document.getElementById('fd948d2c-0904-4970-a9a2-5507c9bc9d5d');\n",
              "var x = new MutationObserver(function (mutations, observer) {{\n",
              "        var display = window.getComputedStyle(gd).display;\n",
              "        if (!display || display === 'none') {{\n",
              "            console.log([gd, 'removed!']);\n",
              "            Plotly.purge(gd);\n",
              "            observer.disconnect();\n",
              "        }}\n",
              "}});\n",
              "\n",
              "// Listen for the removal of the full notebook cells\n",
              "var notebookContainer = gd.closest('#notebook-container');\n",
              "if (notebookContainer) {{\n",
              "    x.observe(notebookContainer, {childList: true});\n",
              "}}\n",
              "\n",
              "// Listen for the clearing of the current output cell\n",
              "var outputEl = gd.closest('.output');\n",
              "if (outputEl) {{\n",
              "    x.observe(outputEl, {childList: true});\n",
              "}}\n",
              "\n",
              "                        })\n",
              "                };\n",
              "                \n",
              "            </script>\n",
              "        </div>\n",
              "</body>\n",
              "</html>"
            ]
          },
          "metadata": {
            "tags": []
          }
        }
      ]
    },
    {
      "cell_type": "code",
      "metadata": {
        "colab": {
          "base_uri": "https://localhost:8080/",
          "height": 542
        },
        "id": "7WX6Jf0BV2Qd",
        "outputId": "c17afdce-e256-4f4c-f18c-7d09a013dcd4"
      },
      "source": [
        "fig_web=px.histogram(X_processed, x='personalizacion', color=\"active_customer\", barmode='group')\n",
        "fig_web.show()"
      ],
      "id": "7WX6Jf0BV2Qd",
      "execution_count": null,
      "outputs": [
        {
          "output_type": "display_data",
          "data": {
            "text/html": [
              "<html>\n",
              "<head><meta charset=\"utf-8\" /></head>\n",
              "<body>\n",
              "    <div>\n",
              "            <script src=\"https://cdnjs.cloudflare.com/ajax/libs/mathjax/2.7.5/MathJax.js?config=TeX-AMS-MML_SVG\"></script><script type=\"text/javascript\">if (window.MathJax) {MathJax.Hub.Config({SVG: {font: \"STIX-Web\"}});}</script>\n",
              "                <script type=\"text/javascript\">window.PlotlyConfig = {MathJaxConfig: 'local'};</script>\n",
              "        <script src=\"https://cdn.plot.ly/plotly-latest.min.js\"></script>    \n",
              "            <div id=\"f44a1a33-e5a9-4e91-805b-65177e93b8fd\" class=\"plotly-graph-div\" style=\"height:525px; width:100%;\"></div>\n",
              "            <script type=\"text/javascript\">\n",
              "                \n",
              "                    window.PLOTLYENV=window.PLOTLYENV || {};\n",
              "                    \n",
              "                if (document.getElementById(\"f44a1a33-e5a9-4e91-805b-65177e93b8fd\")) {\n",
              "                    Plotly.newPlot(\n",
              "                        'f44a1a33-e5a9-4e91-805b-65177e93b8fd',\n",
              "                        [{\"alignmentgroup\": \"True\", \"bingroup\": \"x\", \"hoverlabel\": {\"namelength\": 0}, \"hovertemplate\": \"active_customer=0.0<br>personalizacion=%{x}<br>count=%{y}\", \"legendgroup\": \"active_customer=0.0\", \"marker\": {\"color\": \"#636efa\"}, \"name\": \"active_customer=0.0\", \"offsetgroup\": \"active_customer=0.0\", \"orientation\": \"v\", \"showlegend\": true, \"type\": \"histogram\", \"x\": [3, 3, 3, 3, 3, 3, 1, 3, 2, 2, 2, 2, 1, 2, 3, 3, 3, 3, 2, 2, 2, 2, 2, 2, 2, 2, 2, 2, 2, 2, 2, 2, 2, 2, 2, 2, 2, 2, 2, 2, 2, 2, 2, 3, 2, 2, 2, 2, 3, 3, 3, 3, 3, 2, 1, 2, 2, 2, 2, 2, 2, 2, 2, 2, 2, 2, 2, 2, 2, 2, 2, 2, 2, 2, 2, 2, 2, 2, 2, 2, 2, 2, 2, 2, 2, 2, 2, 2, 2, 2, 2, 2, 2, 2, 2, 2, 3, 2, 2, 2, 2, 3, 2, 2, 2, 2, 2, 2, 2, 2, 2, 2, 2, 2, 2, 2, 2, 2, 2, 2, 2, 3, 2, 2, 2, 2, 2, 2, 2, 2, 2, 2, 2, 2, 2, 2, 2, 2, 2, 2, 2, 2, 2, 2, 2, 2, 2, 2, 2, 2, 2, 2, 2, 2, 2, 2, 2, 2, 2, 2, 2, 2, 2, 2, 2, 2, 2, 2, 2, 2, 2, 2, 2, 2, 2, 1, 2, 2, 2, 2, 2, 2, 2, 2, 2, 2, 2, 2, 2, 2, 2, 2, 2, 2, 2, 2, 2, 2, 2, 2, 2, 2, 2, 2, 2, 2, 2, 2, 2, 2, 2, 2, 2, 2, 2, 2, 2, 2, 2, 2, 2, 1, 2, 2, 2, 2, 2, 2, 2, 2, 2, 2, 2, 2, 2, 2, 2, 2, 2, 2, 2, 2, 0, 2, 2, 2, 2, 2, 2, 2, 2, 2, 2, 2, 2, 2, 2, 2, 2, 2, 3, 2, 2, 2, 2, 2, 2, 2, 2, 2, 2, 2, 2, 2, 2, 2, 2, 2, 2, 2, 2, 2, 2, 2, 2, 2, 2, 2, 2, 2, 2, 2, 2, 2, 2, 2, 2, 2, 2, 2, 0, 2, 2, 2, 2, 2, 2, 2, 2, 2, 2, 2, 2, 2, 2, 2, 2, 2, 2, 2, 2, 2, 2, 2, 2, 2, 2, 2, 2, 2, 2, 2, 1, 3, 2, 2, 2, 2, 2, 2, 2, 2, 2, 2, 2, 2, 2, 2, 2, 2, 2, 3, 3, 2, 2, 2, 2, 2, 2, 2, 2, 2, 2, 2, 2, 2, 2, 2, 2, 2, 2, 2, 2, 2, 2, 2, 2, 2, 2, 2, 2, 2, 2, 2, 2, 2, 2, 2, 2, 2, 2, 2, 2, 2, 2, 2, 2, 2, 2, 2, 2, 2, 2, 2, 2, 2, 2, 2, 2, 2, 2, 2, 2, 2, 2, 2, 2, 2, 2, 2, 2, 2, 2, 2, 2, 2, 2, 2, 2, 2, 2, 2, 2, 2, 2, 2, 2, 2, 2, 2, 2, 2, 2, 2, 2, 2, 2, 2, 2, 2, 2, 2, 2, 2, 2, 2, 2, 2, 2, 2, 2, 2, 2, 2, 2, 2, 2, 2, 2, 0, 2, 2, 2, 2, 2, 2, 2, 2, 2, 2, 2, 2, 2, 2, 3, 1, 1, 2, 2, 2, 2, 2, 2, 2, 2, 2, 3, 2, 2, 2, 2, 2, 2, 2, 2, 2, 2, 2, 2, 2, 2, 2, 2, 2, 2, 2, 2, 2, 2, 2, 2, 2, 2, 2, 2, 2, 2, 2, 2, 2, 2, 2, 2, 2, 2, 2, 2, 2, 2, 2, 2, 2, 2, 2, 2, 2, 1, 2, 2, 1, 1, 2, 2, 2, 2, 2, 2, 2, 2, 2, 2, 2, 2, 2, 2, 2, 2, 2, 3, 2, 2, 3, 3, 3, 3, 3, 3, 3, 3, 3, 3, 3, 3, 3, 3, 3, 3, 3, 3, 3, 3, 3, 3, 3, 3, 3, 3, 3, 3, 3, 1, 3, 3, 3, 3, 3, 3, 3, 3, 3, 3, 3, 3, 2, 2, 2, 2, 2, 2, 2, 2, 3, 2, 2, 2, 2, 1, 3, 2, 2, 2, 2, 2, 2, 2, 2, 2, 2, 2, 2, 2, 2, 2, 2, 2, 2, 2, 2, 2, 2, 2, 2, 2, 2, 2, 3, 1, 2, 2, 2, 2, 2, 2, 2, 2, 2, 2, 2, 2, 2, 2, 2, 2, 2, 2, 2, 2, 2, 2, 2, 2, 2, 2, 2, 2, 2, 2, 2, 2, 2, 2, 2, 2, 2, 3, 2, 2, 2, 2, 2, 2, 2, 2, 2, 2, 2, 2, 2, 3, 2, 2, 2, 2, 2, 2, 2, 2, 2, 2, 2, 2, 2, 2, 2, 1, 2, 2, 2, 2, 2, 2, 2, 2, 2, 2, 3, 3, 2, 2, 2, 2, 2, 2, 2, 2, 2, 2, 2, 2, 2, 2, 1, 2, 2, 2, 2, 1, 3, 2, 2, 2, 2, 2, 2, 2, 2, 2, 2, 2, 2, 2, 2, 2, 2, 2, 3, 2, 2, 2, 2, 2, 1, 2, 2, 1, 2, 2, 2, 2, 2, 3, 2, 2, 2, 2, 2, 2, 2, 2, 2, 2, 2, 2, 2, 2, 2, 2, 2, 2, 2, 2, 2, 2, 2, 2, 2, 2, 2, 2, 2, 2, 2, 2, 2, 2, 2, 3, 2, 2, 2, 2, 2, 2, 2, 2, 2, 2, 2, 2, 2, 2, 2, 2, 2, 2, 2, 2, 2, 2, 2, 2, 2, 2, 2, 2, 2, 3, 3, 3, 3, 3, 3, 2, 3, 3, 2, 2, 2, 2, 2, 2, 2, 2, 2, 2, 2, 2, 2, 2, 2, 3, 3, 3, 3, 3, 0, 3, 3, 2, 2, 2, 1, 2, 2, 3, 2, 2, 2, 3, 3, 3, 3, 2, 2, 1, 3, 2, 2, 2, 2, 2, 3, 2, 2, 1, 3, 3, 3, 3, 3, 2, 2, 2, 2, 2, 2, 2, 2, 2, 2, 2, 2, 3, 2, 2, 2, 2, 2, 2, 2, 2, 2, 2, 2, 2, 2, 2, 2, 2, 2, 2, 2, 2, 2, 2, 2, 2, 2, 2, 2, 2, 2, 2, 2, 2, 2, 2, 2, 3, 1, 2, 3, 3, 1, 3, 3, 2, 2, 2, 2, 2, 2, 2, 2, 2, 2, 2, 2, 2, 2, 2, 2, 2, 2, 2, 2, 2, 2, 2, 2, 2, 2, 2, 2, 2, 2, 2, 2, 2, 2, 2, 2, 2, 2, 2, 2, 2, 2, 2, 2, 2, 2, 2, 2, 2, 2, 2, 2, 2, 2, 2, 2, 2, 2, 2, 2, 2, 2, 2, 2, 2, 2, 2, 2, 2, 2, 2, 2, 2, 2, 2, 2, 2, 2, 2, 2, 2, 2, 2, 2, 2, 2, 2, 2, 2, 3, 3, 1, 3, 3, 2, 2, 2, 2, 2, 2, 2, 2, 2, 2, 2, 2, 2, 2, 2, 2, 2, 3, 3, 2, 3, 2, 3, 1, 2, 2, 2, 2, 2, 2, 2, 2, 2, 2, 2, 2, 2, 2, 2, 1, 2, 2, 2, 2, 2, 2, 2, 2, 2, 3, 2, 2, 2, 2, 3, 2, 2, 2, 2, 2, 2, 2, 2, 2, 2, 2, 2, 2, 2, 2, 2, 2, 2, 2, 2, 2, 2, 2, 2, 2, 2, 2, 2, 2, 2, 2, 2, 2, 2, 2, 2, 2, 3, 3, 3, 2, 2, 2, 3, 3, 2, 2, 2, 2, 2, 2, 2, 2, 2, 2, 2, 2, 2, 2, 2, 2, 2, 2, 2, 2, 2, 2, 2, 2, 2, 2, 2, 2, 2, 2, 2, 2, 2, 2, 1, 2, 2, 2, 2, 2, 2, 2, 2, 2, 2, 2, 2, 2, 2, 2, 2, 2, 2, 2, 2, 2, 2, 2, 2, 2, 2, 2, 3, 3, 3, 1, 3, 1, 3, 2, 2, 2, 2, 2, 2, 1, 2, 2, 2, 2, 2, 2, 2, 2, 2, 2, 2, 2, 2, 2, 2, 2, 2, 2, 2, 2, 2, 2, 2, 2, 2, 2, 2, 2, 2, 2, 2, 2, 2, 2, 2, 2, 2, 2, 2, 3, 2, 2, 2, 2, 2, 2, 2, 2, 2, 2, 2, 1, 1, 1, 1, 1, 2, 2, 1, 3, 1, 2, 2, 2, 2, 2, 2, 2, 2, 2, 2, 2, 2, 2, 2, 2, 2, 2, 2, 2, 2, 2, 2, 2, 2, 2, 2, 2, 2, 2, 2, 2, 2, 2, 2, 2, 2, 2, 2, 2, 2, 2, 2, 2, 2, 2, 2, 1, 1, 1, 2, 2, 2, 2, 2, 2, 2, 2, 2, 2, 2, 2, 2, 2, 2, 2, 2, 2, 2, 2, 2, 2, 2, 2, 2, 2, 2, 2, 2, 2, 2, 2, 2, 2, 2, 2, 2, 2, 2, 2, 1, 1, 1, 2, 2, 2, 2, 2, 2, 2, 2, 2, 2, 2, 3, 1, 1, 1, 3, 2, 2, 2, 2, 2, 2, 2, 2, 2, 2, 3, 3, 1, 1, 2, 2, 2, 2, 2, 2, 2, 2, 3, 3, 3, 3, 3, 2, 1, 1, 1, 1, 3, 3, 3, 3, 2, 2, 2, 2, 2, 2, 2, 2, 2, 2, 2, 2, 2, 2, 2, 2, 2, 2, 2, 2, 2, 2, 2, 2, 2, 2, 2, 2, 2, 2, 2, 2, 2, 2, 2, 2, 2, 2, 2, 2, 2, 1, 1, 1, 1, 3, 2, 1, 1, 1, 2, 2, 2, 2, 2, 2, 2, 2, 2, 2, 2, 2, 2, 2, 2, 2, 2, 2, 2, 2, 2, 2, 2, 2, 2, 2, 2, 1, 2, 3, 2, 3, 2, 2, 2, 2, 2, 2, 2, 2, 2, 2, 2, 3, 1, 2, 1, 3, 2, 2, 2, 2, 2, 2, 2, 2, 2, 1, 2, 2, 2, 2, 2, 2, 1, 2, 2, 2, 2, 2, 2, 2, 2, 2, 2, 2, 2, 2, 2, 2, 2, 2, 2, 2, 2, 2, 2, 2, 3, 2, 2, 3, 2, 2, 2, 2, 2, 2, 2, 2, 2, 2, 2, 2, 2, 2, 2, 2, 2, 2, 2, 2, 2, 2, 2, 2, 2, 2, 2, 2, 2, 2, 2, 2, 2, 2, 1, 2, 2, 2, 2, 2, 1, 3, 2, 2, 2, 2, 2, 2, 2, 1, 2, 2, 2, 2, 2, 2, 2, 2, 2, 2, 2, 1, 1, 1, 1, 1, 1, 1, 2, 3, 3, 2, 2, 2, 2, 2, 2, 2, 2, 2, 2, 2, 2, 2, 2, 1, 3, 2, 2, 3, 1, 1, 3, 2, 2, 2, 2, 2, 2, 2, 2, 2, 1, 1, 1, 3, 1, 3, 1, 3, 3, 2, 2, 2, 2, 1, 1, 3, 2, 1, 2, 2, 2, 2, 2, 2, 2, 2, 2, 2, 2, 2, 2, 3, 3, 3, 2, 2, 2, 2, 2, 2, 2, 2, 2, 2, 2, 2, 3, 3, 1, 1, 1, 2, 2, 2, 2, 2, 2, 2, 2, 2, 2, 2, 3, 1, 2, 2, 2, 2, 2, 1, 1, 1, 1, 2, 0, 3, 3, 2, 1, 1, 2, 2, 2, 3, 3, 2, 2, 2, 2, 2, 2, 1, 2, 2, 2, 2, 2, 2, 2, 2, 2, 2, 2, 2, 2, 2, 2, 2, 2, 2, 2, 2, 2, 2, 2, 2, 2, 2, 2, 2, 2, 2, 2, 2, 2, 2, 2, 2, 1, 2, 2, 2, 2, 2, 2, 2, 2, 2, 2, 2, 2, 2, 2, 2, 2, 2, 2, 2, 2, 2, 2, 2, 2, 1, 2, 1, 1, 1, 3, 2, 2, 2, 2, 2, 2, 2, 2, 3, 1, 3, 2, 2, 2, 2, 2, 2, 2, 2, 2, 1, 3, 2, 1, 3, 2, 2, 2, 2, 2, 1, 3, 2, 2, 2, 1, 1, 3, 2, 2, 3, 1, 3, 2, 2, 2, 2, 2, 2, 1, 1, 2, 3, 2, 2, 2, 2, 2, 1, 1, 1, 2, 2, 2, 2, 2], \"xaxis\": \"x\", \"yaxis\": \"y\"}, {\"alignmentgroup\": \"True\", \"bingroup\": \"x\", \"hoverlabel\": {\"namelength\": 0}, \"hovertemplate\": \"active_customer=1.0<br>personalizacion=%{x}<br>count=%{y}\", \"legendgroup\": \"active_customer=1.0\", \"marker\": {\"color\": \"#EF553B\"}, \"name\": \"active_customer=1.0\", \"offsetgroup\": \"active_customer=1.0\", \"orientation\": \"v\", \"showlegend\": true, \"type\": \"histogram\", \"x\": [0, 3, 0, 3, 3, 0, 3, 1, 3, 0, 0, 0, 0, 3, 3, 0, 1, 3, 0, 0, 0, 0, 0, 3, 0, 0, 1, 3, 3, 3, 1, 1, 1, 1, 0, 1, 1, 3, 0, 3, 0, 1, 3, 3, 0, 0, 0, 0, 0, 1, 3, 3, 1, 1, 0, 1, 3, 1, 1, 1, 0, 0, 0, 0, 3, 3, 3, 3, 0, 3, 1, 0, 1, 1, 3, 3, 1, 3, 1, 3, 3, 3, 3, 3, 3, 3, 3, 3, 3, 3, 3, 3, 3, 3, 3, 3, 3, 3, 3, 3, 3, 3, 3, 3, 3, 3, 3, 1, 3, 3, 3, 3, 3, 3, 3, 3, 3, 3, 3, 1, 3, 3, 3, 3, 3, 3, 3, 3, 3, 3, 3, 3, 3, 3, 3, 3, 3, 3, 3, 3, 3, 3, 3, 3, 3, 3, 3, 3, 3, 3, 3, 3, 3, 3, 3, 3, 3, 3, 3, 3, 3, 3, 3, 3, 3, 3, 3, 3, 3, 3, 3, 3, 3, 3, 3, 3, 3, 3, 3, 3, 3, 3, 3, 3, 3, 3, 3, 3, 3, 3, 3, 3, 3, 3, 3, 3, 3, 3, 3, 3, 3, 3, 3, 3, 3, 3, 3, 3, 3, 3, 3, 3, 3, 3, 3, 3, 3, 3, 3, 3, 3, 3, 3, 0, 3, 3, 3, 3, 3, 3, 3, 3, 3, 3, 3, 3, 3, 3, 3, 3, 3, 3, 3, 3, 3, 3, 3, 3, 3, 3, 3, 3, 3, 3, 3, 3, 3, 3, 3, 3, 3, 3, 3, 3, 3, 3, 3, 3, 3, 3, 3, 3, 3, 3, 3, 3, 3, 3, 3, 3, 3, 3, 3, 3, 3, 3, 3, 3, 3, 3, 3, 3, 3, 3, 3, 3, 3, 3, 3, 3, 3, 3, 3, 3, 3, 3, 3, 3, 3, 3, 3, 3, 3, 3, 3, 3, 3, 3, 3, 3, 3, 3, 3, 3, 3, 3, 3, 3, 3, 3, 3, 3, 3, 3, 3, 3, 3, 3, 3, 1, 3, 3, 3, 3, 3, 3, 3, 3, 3, 3, 3, 3, 3, 3, 3, 3, 3, 3, 3, 3, 3, 3, 3, 3, 0, 3, 3, 3, 3, 1, 3, 3, 3, 3, 3, 3, 3, 3, 3, 3, 3, 3, 3, 3, 3, 3, 3, 3, 3, 3, 3, 3, 3, 3, 3, 3, 3, 3, 3, 3, 3, 3, 3, 3, 3, 3, 3, 3, 3, 3, 3, 3, 3, 3, 3, 3, 3, 3, 3, 3, 3, 3, 3, 3, 3, 3, 3, 3, 3, 3, 3, 3, 3, 3, 3, 3, 3, 3, 3, 3, 3, 3, 3, 3, 3, 3, 3, 3, 0, 3, 3, 3, 3, 3, 3, 3, 3, 3, 3, 3, 3, 3, 3, 3, 3, 3, 3, 3, 3, 3, 3, 3, 3, 3, 3, 3, 3, 3, 3, 3, 3, 3, 3, 3, 3, 3, 3, 3, 3, 3, 3, 3, 3, 3, 3, 3, 3, 3, 3, 3, 3, 3, 3, 3, 3, 3, 3, 3, 3, 3, 3, 3, 3, 3, 3, 3, 3, 3, 3, 3, 3, 1, 3, 3, 3, 3, 3, 3, 3, 3, 3, 3, 3, 3, 3, 3, 3, 3, 3, 3, 3, 3, 3, 3, 3, 3, 3, 3, 3, 3, 3, 3, 3, 3, 3, 3, 3, 3, 3, 3, 3, 3, 3, 3, 3, 3, 3, 3, 3, 3, 3, 3, 3, 3, 3, 3, 3, 3, 3, 3, 3, 3, 3, 3, 3, 3, 3, 3, 3, 3, 3, 3, 3, 3, 3, 3, 3, 3, 3, 3, 3, 3, 3, 3, 3, 3, 3, 3, 3, 3, 3, 3, 3, 3, 3, 3, 3, 3, 3, 3, 3, 3, 3, 3, 3, 3, 3, 3, 3, 3, 3, 3, 3, 3, 3, 3, 3, 3, 3, 3, 3, 3, 3, 3, 3, 3, 3, 3, 3, 3, 3, 3, 3, 3, 3, 3, 3, 3, 3, 3, 3, 3, 3, 3, 3, 3, 3, 3, 3, 3, 3, 3, 3, 3, 3, 3, 3, 3, 3, 3, 3, 3, 3, 3, 3, 3, 3, 3, 3, 3, 3, 3, 3, 3, 3, 3, 3, 3, 3, 3, 3, 3, 3, 3, 3, 3, 3, 3, 3, 3, 3, 3, 3, 3, 3, 3, 3, 3, 3, 3, 3, 3, 3, 3, 3, 3, 3, 3, 3, 3, 3, 3, 3, 3, 3, 3, 3, 3, 3, 3, 3, 3, 3, 3, 3, 3, 3, 3, 3, 3, 3, 3, 3, 3, 3, 3, 3, 3, 3, 3, 3, 3, 3, 3, 3, 3, 3, 3, 3, 3, 3, 3, 3, 3, 3, 3, 3, 3, 3, 3, 3, 3, 3, 3, 3, 3, 3, 3, 3, 3, 3, 3, 3, 3, 3, 3, 3, 3, 3, 3, 3, 3, 3, 3, 3, 3, 3, 3, 3, 3, 3, 3, 3, 3, 3, 3, 3, 3, 3, 3, 3, 3, 3, 3, 3, 3, 3, 3, 3, 3, 3, 3, 3, 3, 3, 3, 3, 3, 3, 3, 3, 3, 3, 3, 3, 3, 3, 3, 3, 3, 3, 3, 3, 3, 3, 3, 3, 3, 3, 3, 3, 3, 3, 3, 3, 3, 3, 3, 3, 3, 3, 3, 3, 3, 3, 3, 3, 3, 3, 3, 3, 3, 3, 3, 3, 3, 3, 3, 3, 3, 3, 3, 3, 3, 3, 3, 3, 3, 3, 3, 3, 3, 3, 3, 3, 3, 3, 3, 3, 3, 3, 3, 3, 3, 3, 3, 3, 3, 3, 3, 3, 3, 3, 3, 3, 3, 3, 3, 3, 3, 3, 3, 3, 3, 3, 3, 3, 3, 3, 3, 3, 3, 3, 3, 3, 3, 3, 3, 3, 3, 3, 3, 3, 3, 3, 3, 3, 3, 3, 3, 3, 3, 3, 3, 3, 3, 3, 3, 3, 3, 3, 3, 3, 3, 3, 3, 3, 3, 3, 3, 3, 3, 3, 3, 3, 3, 3, 3, 3, 3, 3, 3, 3, 3, 3, 3, 3, 3, 3, 3, 3, 3, 3, 3, 3, 3, 3, 3, 3, 3, 3, 3, 3, 3, 3, 3, 3, 3, 3, 3, 1, 3, 3, 3, 3, 3, 3, 3, 3, 3, 3, 3, 3, 3, 3, 3, 3, 3, 3, 3, 3, 3, 3, 3, 3, 3, 3, 3, 3, 3, 3, 3, 3, 3, 3, 3, 3, 3, 3, 3, 3, 3, 3, 3, 3, 3, 3, 3, 3, 3, 3, 3, 3, 3, 3, 3, 3, 3, 3, 3, 3, 3, 3, 3, 3, 3, 3, 3, 3, 3, 3, 3, 3, 3, 3, 3, 3, 3, 3, 3, 3, 3, 3, 3, 3, 3, 3, 3, 3, 3, 3, 3, 3, 3, 3, 3, 3, 3, 3, 3, 3, 3, 3, 3, 3, 3, 3, 3, 3, 3, 3, 3, 3, 3, 3, 3, 3, 3, 3, 3, 3, 3, 3, 3, 3, 3, 3, 3, 3, 3, 3, 3, 3, 3, 3, 3, 3, 3, 3, 3, 3, 3, 3, 3, 3, 3, 3, 3, 3, 3, 3, 3, 3, 3, 3, 3, 3, 3, 3, 3, 3, 3, 3, 3, 3, 3, 3, 3, 3, 3, 3, 3, 3, 3, 3, 3, 3, 3, 3, 3, 3, 3, 3, 3, 3, 3, 3, 3, 3, 3, 3, 3, 3, 3, 3, 3, 3, 3, 3, 3, 3, 3, 3, 3, 3, 3, 3, 3, 3, 3, 3, 3, 3, 3, 3, 3, 3, 3, 3, 3, 3, 3, 3, 3, 3, 3, 3, 3, 3, 3, 3, 3, 3, 3, 3, 3, 3, 3, 3, 3, 3, 3, 3, 3, 3, 3, 3, 3, 3, 3, 3, 3, 3, 3, 3, 3, 3, 3, 3, 3, 3, 3, 3, 3, 3, 3, 3, 3, 3, 3, 3, 3, 3, 3, 3, 3, 3, 3, 3, 3, 3, 3, 3, 3, 3, 3, 3, 0, 3, 3, 3, 3, 3, 3, 3, 3, 3, 3, 3, 3, 3, 3, 3, 3, 3, 3, 3, 3, 3, 3, 3, 3, 3, 3, 3, 3, 3, 3, 3, 3, 3, 3, 3, 3, 3, 3, 3, 3, 3, 3, 3, 3, 3, 3, 3, 3, 3, 3, 3, 3, 3, 3, 3, 3, 3, 3, 3, 3, 3, 3, 3, 3, 3, 3, 3, 3, 3, 3, 3, 3, 3, 3, 3, 3, 3, 3, 3, 3, 3, 3, 3, 3, 3, 3, 3, 3, 3, 3, 3, 3, 3, 3, 3, 3, 3, 3, 3, 3, 3, 3, 3, 3, 3, 3, 3, 3, 3, 3, 3, 3, 3, 3, 3, 3, 3, 3, 3, 3, 3, 3, 3, 3, 3, 3, 3, 3, 3, 3, 3, 3, 3, 3, 3, 3, 3, 3, 3, 3, 3, 3, 3, 0, 3, 3, 3, 3, 0, 3, 0, 3, 3, 3, 3, 3, 3, 3, 3, 3, 3, 3, 3, 0, 3, 3, 3, 3, 3, 3, 3, 3, 3, 3, 3, 3, 3, 3, 3, 3, 3, 3, 3, 3, 3, 3, 3, 3, 3, 3, 3, 3, 3, 3, 3, 3, 3, 3, 3, 3, 3, 3, 3, 3, 3, 3, 3, 3, 3, 3, 3, 3, 3, 3, 3, 3, 3, 3, 3, 3, 3, 3, 3, 3, 3, 3, 3, 3, 3, 3, 3, 3, 3, 3, 3, 3, 3, 3, 3, 3, 3, 3, 3, 3, 3, 3, 3, 3, 3, 3, 3, 3, 3, 3, 3, 3, 3, 3, 3, 3, 3, 3, 3, 3, 3, 3, 3, 3, 3, 3, 3, 3, 3, 3, 3, 3, 3, 3, 3, 3, 3, 3, 3, 3, 3, 3, 3, 3, 3, 3, 3, 3, 3, 3, 3, 3, 3, 3, 3, 3, 3, 3, 3, 3, 3, 3, 3, 3, 3, 3, 3, 3, 3, 3, 3, 3, 3, 3, 3, 3, 3, 3, 3, 3, 3, 3, 3, 3, 3, 3, 3, 3, 3, 3, 3, 3, 3, 3, 3, 3, 3, 3, 3, 3, 3, 3, 3, 3, 3, 3, 3, 3, 3, 3, 3, 3, 3, 3, 3, 3, 3, 3, 3, 3, 3, 3, 3, 3, 3, 3, 3, 3, 3, 3, 3, 3, 3, 3, 3, 3, 3, 3, 3, 1, 3, 3, 3, 3, 3, 3, 3, 3, 3, 3, 3, 3, 3, 3, 3, 3, 3, 3, 3, 3, 3, 3, 3, 3, 3, 3, 3, 3, 3, 3, 3, 3, 3, 3, 3, 3, 3, 3, 3, 3, 3, 3, 3, 3, 3, 3, 3, 3, 3, 3, 3, 3, 3, 3, 3, 3, 3, 3, 3, 3, 3, 3, 3, 3, 3, 3, 3, 3, 3, 3, 3, 3, 3, 3, 3, 3, 3, 3, 3, 3, 3, 3, 3, 3, 3, 3, 3, 3, 3, 3, 3, 3, 3, 3, 3, 3, 3, 3, 3, 3, 3, 3, 3, 3, 3, 3, 3, 3, 3, 3, 3, 3, 3, 3, 3, 3, 3, 3, 3, 3, 3, 3, 3, 3, 3, 3, 3, 3, 3, 3, 3, 3, 3, 3, 3, 3, 3, 3, 3, 3, 3, 3, 3, 3, 3, 3, 3, 3, 3, 3, 3, 3, 3, 3, 3, 3, 3, 3, 3, 3, 3, 3, 3, 3, 3, 3, 3, 3, 3, 3, 3, 3, 3, 3, 3, 3, 3, 3, 3, 3, 3, 3, 3, 3, 3, 3, 3, 3, 3, 3, 3, 3, 3, 3, 3, 3, 3, 3, 3, 3, 3, 3, 3, 3, 3, 3, 3, 3, 3, 3, 3, 3, 3, 3, 3, 3, 3, 3, 3, 3, 3, 3, 3, 3, 3, 3, 3, 3, 3, 3, 3, 3, 3, 3, 3, 3, 3, 3, 3, 3, 3, 3, 3, 3, 3, 3, 3, 3, 3, 3, 3, 3, 3, 3, 3, 3, 3, 3, 3, 3, 3, 3, 3, 3, 3, 3, 3, 0, 3, 3, 3, 3, 3, 3, 3, 3, 3, 3, 3, 3, 3, 3, 3, 3, 3, 3, 3, 3, 3, 3, 3, 3, 3, 3, 3, 3, 3, 3, 3, 3, 3, 3, 3, 3, 3, 3, 3, 3, 3, 3, 3, 3, 3, 3, 3, 3, 3, 3, 3, 3, 3, 3, 3, 3, 3, 3, 0, 3, 3, 3, 3, 3, 3, 3, 3, 3, 3, 3, 3, 3, 3, 3, 3, 3, 3, 3, 3, 0, 3, 3, 3, 3, 3, 3, 3, 3, 3, 3, 3, 3, 3, 3, 3, 3, 3, 3, 3, 3, 3, 3, 3, 3, 3, 3, 3, 3, 3, 3, 3, 3, 3, 3, 3, 3, 3, 3, 3, 3, 3, 3, 0, 1, 1, 3, 1, 0, 3, 0, 1, 1, 0, 3, 1, 1, 1, 3, 0, 0, 0, 0, 0, 1, 1, 3, 0, 0, 1, 1, 0, 3, 0, 0, 0, 3, 3, 1, 1, 1, 1, 1, 0, 0, 3, 1, 0, 0, 3, 1, 0, 3, 1, 1, 3, 3, 3, 1, 3, 1, 1, 0, 0, 1, 3, 3, 1, 1, 1, 0, 3, 3, 0, 1, 3, 3, 0, 1, 1, 3, 0, 3, 0, 3, 3, 3, 1, 0, 0, 3, 3, 1, 0, 3, 0, 0, 1, 3, 1, 1, 1, 3, 1, 3, 3, 1, 0, 0, 1, 3, 3, 1, 1, 3, 0, 3, 3, 0, 1, 1, 0, 0, 1, 3, 1, 0, 0, 1, 0, 3, 3, 1, 3, 3, 1, 0, 1, 0, 0, 0, 3, 0, 0, 0, 3, 0, 3, 1, 1, 3, 1, 3, 1, 0, 0, 3, 0, 3, 1, 1, 0, 0, 3, 3, 3, 1, 3, 0, 0, 1, 0, 0, 0, 0, 0, 0, 3, 3, 0, 0, 0, 0, 1, 0, 3, 0, 1, 0, 0, 1, 0, 0, 1, 1, 1, 0, 3, 0, 1, 0, 1, 3, 1, 0, 0, 3, 1, 0, 3, 1, 1, 0, 1, 0, 0, 3, 0, 1, 3, 0, 3, 0, 3, 0, 1, 1, 1, 0, 3, 0, 1, 0, 1, 0, 0, 1, 3, 0, 1, 0, 0, 0, 3, 0, 1, 3, 1, 1, 0, 0, 0, 3, 0, 3, 3, 1, 1, 0, 0, 0, 0, 1, 3, 3, 1, 3, 1, 0, 0, 3, 3, 3, 1, 0, 1, 0, 0, 0, 0, 0, 0, 0, 0, 3, 1, 1, 1, 3, 1, 0, 1, 1, 3, 3, 0, 0, 0, 3, 3, 1, 1, 3, 3, 3, 0, 0, 0, 1, 0, 0, 0, 0, 0, 1, 0, 0, 0, 3, 0, 1, 0, 1, 0, 1, 0, 3, 0, 0, 0, 0, 1, 0, 0, 1, 3, 0, 0, 1, 0, 3, 1, 0, 0, 3, 1, 0, 0, 0, 1, 1, 0, 1, 0, 3, 0, 3, 0, 3, 3, 0, 0, 0, 0, 1, 0, 3, 0, 0, 0, 0, 1, 3, 1, 1, 1, 1, 3, 0, 0, 3, 3, 1, 1, 1, 1, 3, 3, 1, 1, 1, 1, 1, 0, 0, 1, 3, 0, 3, 3, 1, 3, 1, 0, 0, 1, 3, 1, 0, 0, 0, 3, 3, 0, 1, 0, 1, 3, 1, 0, 0, 0, 1, 1, 1, 0, 3, 3, 1, 1, 0, 1, 1, 0, 3, 0, 0, 3, 1, 1, 1, 0, 1, 3, 0, 3, 3, 3, 0, 3, 3, 1, 0, 1, 0, 1, 3, 3, 3, 1, 0, 0, 3, 3, 1, 1, 1, 3, 0, 3, 0, 0, 0, 0, 3, 0, 1, 0, 1, 1, 3, 3, 0, 3, 0, 0, 1, 1, 1, 1, 0, 1, 3, 0, 3, 1, 0, 0, 3, 0, 1, 0, 1, 0, 0, 1, 1, 0, 1, 0, 3, 0, 0, 3, 0, 0, 1, 0, 1, 1, 0, 0, 1, 0, 1, 0, 3, 1, 3, 3, 3, 1, 1, 1, 3, 3, 3, 3, 1, 0, 0, 1, 3, 1, 1, 3, 1, 3, 0, 1, 3, 3, 0, 0, 3, 3, 0, 1, 0, 1, 1, 1, 3, 3, 0, 1, 3, 0, 1, 0, 1, 3, 0, 3, 0, 1, 0, 1, 0, 0, 1, 0, 0, 1, 0, 3, 3, 0, 1, 1, 0, 3, 0, 1, 0, 0, 0, 1, 1, 1, 0, 1, 0, 3, 0, 1, 1, 0, 3, 0, 1, 0, 1, 1, 1, 0, 0, 0, 3, 0, 3, 0, 0, 0, 0, 0, 1, 0, 3, 1, 3, 0, 0, 1, 0, 0, 1, 1, 3, 3, 0, 3, 3, 1, 1, 0, 1, 3, 0, 1, 0, 3, 3, 0, 3, 1, 1, 1, 1, 1, 0, 3, 0, 1, 0, 0, 0, 1, 1, 3, 0, 3, 0, 1, 1, 1, 1, 0, 0, 1, 0, 1, 3, 3, 0, 3, 0, 0, 1, 1, 1, 3, 1, 3, 0, 3, 3, 3, 0, 1, 3, 3, 1, 0, 0, 0, 0, 1, 3, 0, 0, 1, 1, 0, 0, 3, 3, 0, 1, 3, 0, 0, 3, 0, 3, 3, 3, 0, 1, 3, 3, 0, 0, 1, 3, 1, 0, 1, 0, 0, 3, 1, 3, 3, 1, 1, 0, 1, 3, 3, 1, 3, 0, 0, 1, 3, 1, 1, 0, 0, 1, 3, 3, 3, 1, 3, 0, 0, 0, 3, 1, 1, 1, 1, 0, 0, 3, 1, 0, 0, 0, 1, 3, 1, 3, 3, 1, 1, 1, 0, 3, 0, 3, 3, 0, 0, 1, 1, 3, 0, 1, 3, 0, 3, 0, 3, 3, 0, 1, 1, 1, 0, 0, 0, 1, 1, 1, 0, 0, 1, 3, 1, 1, 3, 1, 1, 0, 0, 0, 0, 0, 3, 1, 3, 0, 3, 0, 0, 1, 3, 1, 1, 1, 1, 3, 1, 0, 3, 3, 1, 0, 1, 3, 3, 3, 0, 1, 3, 0, 0, 0, 1, 1, 1, 3, 1, 1, 1, 1, 0, 0, 1, 0, 3, 1, 3, 0, 0, 1, 3, 1, 3, 0, 0, 0, 1, 3, 0, 3, 1, 3, 3, 1, 0, 0, 1, 1, 0, 0, 1, 0, 3, 0, 0, 0, 3, 0, 3, 1, 0, 0, 0, 1, 1, 0, 3, 1, 1, 3, 3, 0, 1, 3, 1, 3, 3, 0, 3, 3, 1, 3, 1, 3, 1, 0, 0, 1, 1, 0, 1, 0, 3, 1, 1, 3, 0, 3, 3, 3, 0, 0, 3, 1, 1, 3, 1, 3, 3, 1, 0, 0, 1, 1, 1, 1, 3, 3, 3, 0, 0, 1, 0, 0, 0, 3, 3, 1, 0, 3, 0, 3, 1, 3, 1, 0, 3, 3, 0, 3, 0, 1, 0, 1, 3, 1, 0, 3, 1, 3, 1, 0, 0, 3, 1, 1, 1, 1, 3, 3, 0, 0, 1, 1, 0, 1, 0, 0, 1, 0, 0, 1, 0, 1, 0, 0, 0, 0, 0, 3, 0, 0, 1, 3, 3, 1, 0, 1, 1, 0, 0, 1, 3, 0, 3, 1, 0, 0, 0, 1, 3, 0, 3, 3, 3, 0, 1, 3, 0, 1, 3, 3, 3, 1, 3, 0, 3, 1, 1, 0, 3, 1, 1, 1, 1, 1, 1, 3, 0, 0, 3, 0, 1, 1, 1, 1, 3, 1, 3, 0, 3, 1, 1, 1, 3, 1, 3, 3, 3, 1, 3, 0, 0, 0, 3, 0, 0, 3, 0, 1, 1, 1, 1, 1, 1, 3, 0, 3, 1, 0, 3, 3, 0, 0, 0, 3, 0, 1, 1, 3, 0, 3, 0, 1, 3, 3, 1, 1, 3, 3, 0, 1, 1, 1, 1, 3, 1, 0, 0, 1, 3, 0, 3, 3, 3, 1, 0, 3, 0, 3, 1, 0, 3, 0, 3, 0, 1, 0, 0, 3, 3, 1, 1, 1, 0, 3, 1, 1, 3, 1, 1, 0, 0, 0, 1, 1, 0, 0, 0, 3, 1, 3, 3, 0, 3, 0, 1, 0, 0, 3, 3, 1, 0, 0, 0, 1, 0, 3, 1, 1, 0, 3, 0, 0, 0, 0, 3, 0, 0, 0, 3, 1, 0, 1, 0, 0, 3, 3, 0, 0, 0, 0, 1, 3, 1, 3, 1, 0, 3, 0, 0, 3, 0, 0, 1, 3, 0, 3, 1, 0, 0, 1, 3, 1, 0, 0, 0, 3, 3, 0, 0, 1, 3, 1, 0, 1, 1, 0, 1, 0, 0, 0, 1, 1, 0, 1, 3, 1, 1, 1, 3, 1, 3, 1, 1, 3, 0, 3, 1, 0, 1, 1, 0, 1, 0, 3, 0, 0, 0, 3, 1, 1, 1, 1, 1, 0, 1, 1, 3, 0, 3, 3, 1, 3, 1, 3, 1, 3, 3, 0, 1, 1, 3, 1, 0, 0, 1, 1, 0, 3, 0, 0, 3, 0, 0, 3, 1, 0, 3, 0, 3, 3, 0, 3, 3, 0, 0, 0, 0, 1, 1, 1, 3, 0, 3, 3, 1, 1, 0, 1, 1, 0, 1, 3, 0, 3, 0, 3, 1, 3, 1, 0, 1, 0, 0, 0, 1, 0, 0, 1, 0, 3, 0, 0, 3, 3, 0, 3, 0, 1, 3, 1, 0, 3, 1, 0, 1, 3, 1, 1, 3, 3, 1, 1, 1, 3, 1, 3, 3, 3, 0, 3, 1, 0, 3, 0, 3, 3, 0, 1, 1, 3, 1, 3, 0, 0, 3, 3, 1, 3, 0, 1, 0, 1, 3, 3, 1, 0, 0, 0, 0, 0, 1, 1, 0, 0, 3, 0, 1, 0, 3, 0, 1, 3, 1, 1, 1, 1, 0, 0, 0, 3, 0, 0, 0, 3, 1, 1, 1, 1, 3, 0, 3, 1, 3, 1, 1, 3, 3, 3, 3, 1, 3, 0, 0, 3, 0, 3, 0, 0, 1, 0, 3, 0, 3, 1, 0, 3, 3, 1, 0, 1, 3, 3, 3, 0, 1, 0, 0, 3, 1, 1, 0, 1, 3, 1, 0, 3, 1, 0, 1, 0, 0, 1, 3, 3, 1, 1, 0, 1, 0, 1, 1, 3, 3, 0, 3, 3, 3, 1, 3, 3, 0, 3, 3, 3, 3, 0, 1, 0, 0, 0, 3, 3, 1, 1, 3, 0, 3, 0, 3, 1, 1, 1, 1, 1, 0, 0, 3, 3, 1, 0, 0, 1, 0, 3, 1, 3, 1, 1, 1, 0, 1, 1, 3, 0, 1, 3, 3, 0, 3, 0, 1, 3, 3, 3, 0, 0, 1, 0, 0, 0, 1, 0, 0, 1, 0, 0, 1, 3, 0, 0, 3, 3, 0, 3, 1, 0, 1, 0, 0, 0, 3, 3, 3, 0, 0, 0, 3, 3, 0, 1, 0, 0, 1, 3, 3, 3, 1, 0, 1, 3, 3, 0, 1, 0, 0, 1, 0, 1, 0, 3, 1, 3, 1, 1, 3, 3, 0, 3, 0, 1, 0, 1, 0, 0, 1, 1, 3, 3, 0, 3, 0, 0, 3, 0, 3, 1, 0, 3, 0, 1, 0, 3, 3, 3, 0, 0, 0, 1, 0, 3, 0, 1, 3, 3, 1, 1, 0, 3, 3, 3, 1, 0, 1, 0, 1, 3, 0, 3, 3, 1, 0, 3, 0, 3, 3, 1, 1, 1, 1, 0, 0, 3, 3, 3, 1, 3, 1, 3, 1, 3, 3, 1, 1, 1, 3, 3, 1, 3, 3, 0, 1, 0, 0, 0, 0, 0, 1, 1, 0, 1, 1, 1, 3, 0, 0, 0, 1, 1, 1, 1, 3, 0, 3, 3, 3, 0, 0, 0, 0, 0, 1, 3, 0, 0, 3, 3, 1, 0, 0, 3, 3, 3, 0, 0, 1, 1, 1, 1, 0, 0, 3, 0, 3, 1, 0, 0, 0, 3, 3, 1, 3, 0, 0, 3, 1, 3, 3, 1, 3, 1, 3, 0, 0, 3, 1, 3, 3, 3, 1, 1, 3, 3, 3, 3, 3, 0, 3, 3, 0, 0, 0, 3, 0, 1, 0, 1, 1, 0, 3, 1, 3, 0, 0, 1, 3, 0, 1, 0, 3, 0, 0, 1, 0, 0, 1, 3, 3, 0, 0, 1, 1, 1, 1, 1, 0, 3, 0, 1, 3, 0, 3, 3, 1, 3, 1, 1, 3, 0, 1, 0, 0, 3, 0, 3, 3, 1, 3, 0, 3, 3, 1, 3, 0, 1, 1, 0, 0, 0, 0, 0, 1, 0, 1, 3, 3, 1, 3, 1, 0, 3, 3, 1, 1, 0, 1, 1, 1, 0, 1, 1, 1, 1, 0, 0, 3, 3, 1, 1, 3, 3, 0, 3, 1, 1, 0, 0, 1, 0, 0, 3, 3, 0, 0, 3, 3, 3, 0, 1, 3, 3, 1, 3, 1, 1, 0, 0, 3, 3, 1, 0, 1, 3, 1, 1, 0, 3, 1, 1, 0, 1, 0, 0, 0, 1, 0, 3, 0, 1, 1, 3, 1, 1, 0, 0, 3, 3, 3, 0, 1, 1, 0, 0, 0, 0, 0, 3, 3, 1, 3, 3, 0, 0, 0, 0, 0, 0, 0, 0, 0, 0, 0, 0, 0, 3, 0, 0, 0, 0, 0, 3, 3, 3, 3, 0, 1, 0, 0, 3, 0, 3, 0, 3, 3, 3, 3, 3, 0, 3, 0, 3, 3, 0, 0, 0, 0, 0, 0, 0, 1, 3, 3, 0, 0, 0, 0, 0, 1, 0, 0, 3, 3, 3, 3, 0, 0, 0, 0, 3, 0, 0, 0, 3, 0, 0, 3, 0, 0, 3, 0, 0, 0, 3, 0, 0, 0, 0, 0, 0, 3, 0, 0, 0, 1, 3, 3, 0, 3, 3, 3, 0, 0, 3, 3, 0, 3, 3, 3, 0, 3, 3, 0, 3, 0, 0, 0, 3, 3, 0, 0, 1, 3, 1, 1, 3, 0, 0, 0, 3, 3, 3, 0, 3, 0, 3, 3, 0, 3, 3, 0, 0, 3, 3, 0, 3, 0, 0, 3, 0, 3, 3, 0, 0, 3, 3, 3, 0, 3, 0, 3, 3, 3, 3, 0, 3, 0, 3, 3, 0, 0, 3, 3, 3, 3, 3, 3, 3, 1, 3, 0, 3, 3, 3, 3, 3, 3, 3, 3, 3, 3, 3, 0, 1, 0, 3, 0, 0, 3, 3, 3, 3, 0, 3, 3, 1, 0, 0, 0, 0, 1, 0, 0, 3, 3, 0, 0, 3, 0, 3, 0, 3, 1, 0, 0, 3, 3, 3, 3, 3, 3, 3, 3, 0, 0, 0, 3, 3, 3, 0, 3, 3, 0, 3, 3, 1, 0, 3, 0, 0, 0, 3, 3, 1, 3, 3, 3, 0, 0, 0, 3, 3, 0, 0, 0, 3, 3, 3, 3, 3, 0, 3, 0, 3, 3, 0, 0, 3, 3, 3, 0, 0, 3, 0, 3, 0, 0, 0, 3, 3, 3, 3, 0, 0, 3, 0, 0, 0, 0, 3, 0, 3, 0, 0, 3, 3, 0, 0, 3, 0, 0, 0, 3, 3, 3, 0, 0, 0, 0, 3, 0, 3, 0, 3, 0, 0, 0, 3, 3, 0, 0, 0, 3, 0, 3, 1, 0, 3, 3, 3, 3, 0, 0, 0, 0, 3, 0, 3, 3, 3, 0, 0, 1, 0, 3, 3, 3, 3, 0, 0, 0, 3, 3, 0, 0, 0, 3, 3, 0, 0, 0, 3, 0, 0, 3, 0, 0, 1, 3, 0, 3, 3, 0, 3, 3, 0, 1, 0, 3, 0, 3, 0, 3, 0, 0, 0, 0, 3, 3, 3, 3, 0, 0, 0, 0, 0, 0, 3, 0, 3, 3, 1, 3, 3, 3, 0, 0, 3, 0, 0, 3, 0, 0, 0, 0, 3, 0, 3, 0, 1, 3, 3, 0, 0, 0, 0, 3, 0, 3, 0, 0, 3, 3, 3, 3, 0, 1, 3, 0, 3, 0, 3, 3, 0, 3, 0, 3, 3, 0, 3, 3, 3, 3, 3, 3, 3, 0, 3, 3, 0, 3, 0, 0, 3, 0, 0, 3, 3, 0, 0, 3, 0, 1, 0, 0, 3, 3, 3, 3, 0, 0, 0, 3, 3, 0, 0, 3, 0, 3, 0, 0, 3, 0, 3, 3, 0, 0, 0, 0, 0, 3, 3, 3, 3, 3, 3, 3, 0, 3, 0, 0, 3, 0, 3, 0, 0, 3, 3, 3, 3, 3, 3, 3, 3, 0, 3, 0, 0, 3, 3, 0, 0, 0, 0, 0, 3, 0, 3, 0, 0, 3, 3, 3, 3, 3, 0, 3, 3, 3, 3, 3, 0, 0, 3, 0, 3, 3, 0, 3, 0, 0, 0, 3, 0, 3, 0, 0, 3, 3, 0, 3, 3, 3, 3, 3, 0, 0, 3, 0, 3, 3, 0, 0, 3, 0, 0, 3, 0, 3, 3, 3, 0, 0, 3, 0, 0, 0, 0, 3, 0, 3, 0, 0, 3, 0, 3, 3, 0, 3, 0, 3, 3, 0, 0, 3, 0, 0, 3, 0, 0, 0, 0, 3, 0, 0, 0, 0, 0, 0, 0, 3, 3, 3, 0, 0, 0, 0, 3, 3, 0, 0, 3, 0, 0, 0, 3, 3, 3, 1, 3, 3, 0, 3, 0, 3, 3, 0, 3, 0, 3, 0, 3, 1, 3, 0, 0, 0, 3, 0, 0, 0, 0, 0, 3, 3, 0, 3, 3, 3, 3, 0, 3, 3, 0, 0, 3, 0, 3, 0, 0, 0, 3, 0, 3, 3, 0, 3, 0, 3, 3, 0, 3, 3, 0, 3, 3, 3, 3, 3, 0, 0, 0, 0, 0, 0, 3, 3, 0, 0, 0, 3, 3, 1, 0, 3, 1, 3, 3, 0, 0, 0, 1, 0, 3, 0, 3, 0, 3, 3, 0, 3, 0, 3, 0, 3, 0, 3, 3, 0, 3, 0, 0, 0, 0, 0, 0, 0, 0, 0, 0, 0, 0, 0, 0, 0, 0, 0, 0, 0, 0, 0, 0, 0, 0, 0, 0, 0, 0, 0, 0, 0, 0, 0, 0, 0, 0, 0, 0, 0, 0, 0, 0, 0, 0, 0, 0, 0, 0, 0, 0, 3, 0, 3, 0, 3, 3, 3, 3, 0, 0, 3, 3, 3, 3, 3, 0, 3, 0, 3, 3, 3, 0, 3, 3, 1, 0, 3, 3, 3, 0, 3, 3, 3, 3, 3, 3, 0, 0, 3, 3, 3, 3, 0, 3, 0, 3, 3, 3, 3, 3, 0, 3, 0, 3, 3, 0, 3, 3, 3, 3, 0, 3, 3, 3, 3, 3, 3, 3, 3, 0, 3, 3, 3, 0, 1, 0, 3, 3, 3, 0, 3, 3, 3, 3, 0, 3, 0, 3, 3, 0, 0, 3, 3, 0, 3, 0, 1, 3, 0, 0, 3, 0, 3, 3, 3, 0, 0, 3, 3, 0, 0, 3, 3, 3, 0, 3, 3, 1, 3, 3, 3, 3, 3, 3, 3, 3, 3, 3, 3, 3, 0, 3, 0, 0, 3, 3, 0, 0, 0, 3, 1, 3, 0, 3, 3, 3, 3, 3, 3, 3, 3, 3, 3, 0, 3, 3, 0, 0, 0, 3, 3, 0, 0, 0, 0, 3, 3, 3, 0, 3, 3, 0, 0, 3, 3, 0, 3, 0, 3, 3, 0, 3, 3, 0, 3, 0, 0, 1, 3, 3, 3, 0, 3, 0, 3, 3, 0, 3, 3, 0, 0, 0, 3, 3, 0, 3, 3, 0, 3, 0, 3, 3, 0, 3, 3, 3, 3, 3, 3, 3, 3, 0, 0, 3, 3, 3, 0, 0, 0, 3, 3, 3, 3, 3, 3, 0, 0, 3, 3, 3, 3, 3, 3, 0, 0, 3, 0, 3, 0, 3, 0, 3, 3, 3, 0, 1, 0, 3, 0, 3, 3, 0, 0, 3, 0, 0, 1, 3, 3, 0, 3, 3, 3, 3, 3, 0, 3, 0, 3, 3, 3, 3, 3, 0, 3, 0, 3, 0, 0, 0, 3, 0, 3, 3, 3, 0, 3, 3, 3, 3, 3, 3, 3, 3, 3, 3, 0, 3, 0, 3, 3, 3, 3, 0, 0, 1, 0, 0, 3, 3, 1, 3, 0, 0, 3, 3, 0, 0, 3, 3, 0, 0, 0, 0, 0, 0, 3, 3, 3, 0, 3, 1, 3, 3, 3, 3, 0, 3, 3, 0, 0, 0, 3, 1, 0, 3, 0, 3, 3, 3, 1, 3, 3, 0, 3, 0, 3, 0, 3, 3, 3, 0, 3, 1, 3, 3, 3, 0, 3, 3, 0, 3, 3, 0, 3, 0, 0, 3, 3, 3, 3, 1, 3, 3, 0, 0, 0, 3, 3, 3, 3, 3, 3, 0, 0, 0, 0, 0, 3, 3, 0, 3, 3, 3, 0, 3, 0, 3, 3, 3, 3, 3, 0, 3, 3, 0, 0, 3, 3, 3, 3, 3, 3, 3, 3, 3, 3, 3, 3, 3, 0, 0, 3, 0, 3, 3, 3, 3, 3, 3, 0, 3, 3, 3, 3, 3, 3, 3, 3, 0, 1, 3, 0, 0, 3, 3, 3, 3, 3, 0, 3, 3, 3, 3, 0, 3, 3, 3, 0, 0, 0, 3, 3, 0, 0, 3, 3, 0, 1, 3, 3, 3, 3, 0, 3, 0, 3, 1, 3, 0, 0, 3, 0, 3, 0, 3, 0, 3, 3, 3, 3, 0, 3, 3, 3, 3, 0, 3, 0, 0, 3, 1, 0, 0, 0, 3, 3, 3, 0, 3, 0, 3, 0, 0, 3, 3, 0, 3, 3, 0, 3, 3, 0, 0, 3, 3, 0, 3, 3, 1, 0, 3, 3, 3, 3, 3, 3, 3, 3, 3, 3, 3, 1, 0, 3, 3, 3, 3, 1, 3, 3, 3, 3, 3, 3, 3, 3, 3, 3, 3, 3, 3, 0, 3, 0, 3, 3, 3, 3, 3, 3, 3, 3, 1, 3, 3, 3, 0, 3, 3, 3, 3, 3, 0, 3, 3, 0, 3, 3, 3, 3, 3, 0, 1, 3, 0, 3, 0, 0, 0, 3, 3, 0, 3, 3, 3, 3, 3, 3, 3, 3, 3, 0, 3, 3, 3, 3, 3, 3, 3, 0, 0, 0, 0, 0, 3, 3, 0, 3, 3, 3, 0, 3, 0, 3, 3, 3, 3, 3, 3, 1, 3, 3, 0, 0, 3, 0, 3, 3, 3, 3, 3, 3, 0, 3, 3, 0, 3, 0, 3, 3, 3, 3, 3, 3, 3, 0, 3, 3, 0, 3, 3, 3, 3, 3, 1, 0, 0, 1, 0, 3, 0, 0, 0, 3, 3, 3, 3, 3, 3, 0, 3, 3, 0, 3, 3, 0, 0, 0, 3, 3, 3, 3, 0, 3, 3, 3, 3, 0, 3, 3, 3, 0, 3, 3, 0, 0, 0, 3, 3, 3, 3, 0, 3, 3, 3, 0, 3, 3, 3, 3, 3, 3, 0, 3, 3, 3, 3, 0, 3, 3, 3, 3, 1, 3, 3, 3, 3, 3, 3, 3, 3, 3, 3, 3, 0, 3, 0, 3, 3, 0, 1, 0, 0, 3, 3, 3, 3, 3, 3, 3, 3, 0, 3, 0, 3, 3, 3, 3, 3, 0, 0, 0, 0, 3, 3, 0, 3, 3, 3, 3, 3, 3, 3, 3, 3, 3, 3, 3, 0, 3, 0, 0, 0, 0, 0, 0, 3, 0, 0, 3, 3, 3, 3, 3, 3, 3, 3, 3, 3, 1, 0, 3, 3, 3, 0, 3, 0, 0, 3, 0, 0, 0, 3, 3, 0, 3, 3, 3, 1, 3, 0, 3, 0, 3, 3, 3, 3, 3, 0, 3, 3, 3, 3, 3, 3, 0, 3, 3, 0, 0, 0, 3, 0, 3, 3, 3, 3, 3, 3, 3, 3, 3, 3, 3, 3, 3, 3, 3, 0, 3, 3, 3, 3, 3, 3, 3, 3, 3, 3, 3, 3, 3, 3, 3, 3, 0, 0, 0, 3, 3, 3, 3, 3, 3, 3, 3, 3, 3, 3, 3, 3, 3, 3, 3, 3, 0, 0, 3, 3, 0, 0, 3, 3, 0, 3, 3, 3, 3, 3, 0, 3, 3, 0, 3, 3, 3, 3, 3, 3, 0, 3, 3, 1, 0, 1, 3, 3, 3, 3, 1, 3, 3, 0, 3, 3, 0, 0, 3, 3, 3, 3, 0, 3, 3, 3, 3, 3, 3, 3, 3, 3, 3, 3, 0, 3, 3, 3, 3, 3, 3, 1, 3, 0, 0, 1, 3, 0, 3, 3, 3, 3, 0, 0, 0, 0, 0, 0, 0, 0, 0, 0, 0, 0, 0, 0, 0, 0, 0, 0, 0, 0, 0, 0, 0, 0, 0, 0, 0, 0, 0, 0, 0, 0, 0, 0, 0, 0, 0, 0, 0, 0, 0, 0, 0, 0, 0, 0, 0, 0, 0, 0, 0, 0, 0, 0, 0, 0, 0, 0, 0, 0, 0, 0, 0, 0, 0, 0, 0, 0, 0, 0, 0, 0, 0, 0, 0, 0, 0, 0, 0, 0, 0, 0, 0, 0, 0, 0, 0, 0, 0, 0, 0, 0, 0, 0, 0, 0, 0, 0, 0, 0, 0, 0, 0, 0, 0, 0, 0, 0, 0, 0, 0, 0, 0, 0, 0, 0, 0, 0, 0, 0, 0, 0, 0, 0, 0, 0, 0, 0, 0, 0, 0, 0, 0, 0, 0, 0, 0, 0, 0, 0, 0, 0, 0, 0, 0, 0, 0, 0, 0, 0, 0, 0, 0, 0, 0, 0, 0, 0, 0, 0, 0, 0, 0, 0, 0, 0, 0, 0, 0, 0, 0, 0, 0, 0, 0, 0, 0, 0, 0, 0, 1, 1, 0, 0, 0, 0, 1, 1, 1, 1, 1, 0, 0, 0, 0, 1, 1, 3, 3, 1, 0, 0, 1, 1, 1, 1, 0, 1, 0, 0, 1, 1, 3, 0, 0, 1, 0, 0, 1, 0, 0, 1, 1, 1, 0, 1, 1, 1, 1, 0, 0, 1, 0, 1, 1, 1, 1, 1, 1, 1, 0, 0, 0, 0, 0, 0, 0, 1, 3, 0, 0, 1, 0, 1, 3, 0, 0, 0, 0, 1, 3, 3, 3, 0, 1, 1, 0, 1, 1, 1, 1, 0, 3, 1, 1, 1, 1, 1, 1, 3, 1, 3, 1, 1, 1, 1, 1, 1, 0, 1, 0, 0, 1, 0, 1, 1, 1, 0, 0, 1, 1, 1, 0, 1, 0, 1, 1, 0, 0, 1, 1, 1, 1, 1, 0, 0, 0, 1, 1, 0, 1, 1, 0, 1, 1, 1, 1, 0, 1, 0, 1, 0, 0, 0, 1, 3, 0, 1, 0, 1, 1, 1, 0, 1, 0, 0, 1, 1, 3, 3, 1, 1, 1, 0, 1, 0, 0, 0, 1, 0, 1, 3, 0, 0, 0, 1, 1, 1, 1, 0, 0, 1, 1, 1, 1, 1, 0, 1, 1, 3, 0, 0, 0, 3, 0, 1, 1, 1, 1, 0, 0, 1, 0, 0, 0, 1, 1, 1, 0, 1, 0, 1, 1, 0, 1, 0, 1, 1, 0, 0, 0, 1, 0, 1, 1, 0, 0, 1, 1, 1, 0, 0, 1, 1, 0, 1, 1, 1, 1, 1, 0, 0, 0, 0, 1, 1, 0, 1, 1, 1, 0, 0, 1, 1, 1, 1, 0, 0, 0, 1, 0, 1, 0, 0, 1, 1, 1, 0, 1, 1, 0, 1, 0, 1, 1, 1, 0, 1, 0, 1, 1, 0, 1, 0, 1, 3, 1, 0, 0, 1, 0, 0, 0, 0, 1, 1, 1, 1, 0, 0, 1, 0, 0, 0, 0, 1, 3, 0, 0, 0, 0, 1, 0, 1, 0, 1, 0, 1, 0, 1, 0, 0, 1, 1, 0, 0, 1, 1, 1, 0, 1, 0, 1, 3, 1, 0, 1, 1, 1, 0, 1, 1, 1, 1, 0, 0, 1, 1, 3, 1, 0, 1, 1, 0, 0, 0, 3, 1, 1, 1, 0, 0, 1, 0, 0, 0, 1, 0, 0, 0, 1, 1, 1, 0, 1, 0, 1, 1, 0, 0, 0, 1, 1, 1, 1, 0, 1, 1, 1, 1, 1, 0, 0, 0, 0, 0, 1, 1, 0, 0, 1, 1, 0, 0, 1, 0, 1, 1, 1, 1, 0, 1, 1, 1, 0, 1, 1, 1, 0, 0, 0, 0, 0, 0, 1, 1, 0, 1, 0, 0, 1, 0, 0, 1, 1, 1, 1, 0, 0, 0, 1, 0, 1, 1, 1, 1, 0, 1, 0, 1, 0, 1, 0, 0, 1, 0, 1, 1, 1, 1, 0, 1, 0, 0, 1, 1, 0, 1, 0, 1, 0, 1, 1, 1, 0, 1, 1, 0, 1, 0, 1, 1, 0, 0, 0, 1, 3, 3, 1, 0, 1, 1, 0, 0, 0, 0, 0, 0, 1, 0, 1, 0, 1, 3, 1, 1, 0, 1, 1, 0, 3, 1, 1, 0, 0, 1, 0, 1, 1, 0, 1, 1, 0, 0, 0, 0, 1, 0, 1, 1, 0, 0, 1, 0, 0, 0, 1, 0, 1, 0, 0, 1, 3, 1, 1, 1, 0, 0, 1, 1, 0, 1, 1, 1, 1, 0, 1, 1, 1, 0, 0, 0, 1, 1, 1, 0, 0, 1, 0, 0, 0, 0, 0, 1, 3, 0, 0, 1, 0, 1, 1, 0, 0, 1, 1, 1, 1, 1, 0, 0, 0, 0, 1, 1, 1, 1, 0, 0, 1, 1, 1, 1, 0, 1, 1, 0, 1, 0, 0, 1, 1, 0, 0, 1, 1, 0, 0, 0, 1, 1, 3, 0, 1, 1, 0, 0, 1, 1, 0, 1, 1, 0, 1, 0, 1, 0, 0, 1, 0, 1, 1, 1, 1, 3, 1, 1, 1, 0, 0, 1, 0, 0, 1, 1, 0, 0, 1, 1, 0, 0, 1, 0, 0, 0, 1, 1, 1, 1, 1, 1, 1, 0, 1, 1, 1, 1, 1, 0, 0, 0, 0, 0, 0, 1, 1, 1, 1, 0, 1, 1, 1, 1, 1, 1, 0, 0, 0, 1, 0, 1, 0, 1, 1, 0, 0, 1, 0, 0, 0, 1, 0, 3, 1, 0, 0, 0, 0, 1, 1, 1, 1, 1, 0, 0, 1, 0, 0, 1, 1, 1, 1, 1, 1, 0, 1, 1, 1, 1, 0, 1, 1, 3, 0, 1, 1, 1, 0, 0, 0, 0, 0, 0, 1, 0, 1, 1, 0, 1, 0, 0, 1, 1, 1, 0, 0, 1, 1, 0, 0, 1, 1, 0, 1, 0, 0, 0, 1, 0, 0, 0, 1, 0, 0, 1, 1, 1, 0, 1, 1, 1, 0, 3, 1, 0, 1, 1, 0, 0, 0, 0, 1, 1, 0, 1, 0, 1, 0, 1, 1, 0, 1, 1, 1, 0, 0, 0, 1, 0, 1, 1, 0, 1, 0, 1, 0, 1, 0, 3, 1, 3, 0, 1, 0, 1, 3, 1, 0, 1, 1, 0, 3, 0, 1, 0, 0, 0, 1, 1, 1, 1, 1, 3, 1, 0, 0, 1, 1, 0, 0, 0, 0, 1, 0, 1, 1, 3, 0, 1, 1, 1, 0, 0, 1, 0, 0, 1, 0, 1, 1, 0, 0, 0, 1, 1, 1, 1, 1, 0, 0, 1, 1, 1, 0, 1, 0, 1, 1, 0, 1, 0, 1, 1, 1, 0, 1, 0, 1, 0, 0, 1, 1, 0, 1, 0, 0, 3, 1, 0, 1, 1, 0, 1, 0, 0, 1, 0, 0, 0, 0, 0, 1, 0, 0, 0, 1, 0, 1, 1, 1, 1, 0, 1, 0, 0, 0, 0, 0, 1, 1, 0, 1, 1, 0, 1, 0, 0, 1, 1, 1, 1, 1, 0, 3, 0, 1, 0, 0, 0, 1, 0, 0, 1, 1, 0, 0, 0, 0, 0, 1, 1, 1, 0, 3, 0, 1, 0, 1, 1, 0, 0, 0, 0, 0, 1, 1, 1, 0, 1, 1, 1, 1, 1, 1, 1, 1, 0, 1, 1, 1, 1, 1, 1, 1, 0, 1, 1, 1, 1, 1, 0, 0, 0, 1, 0, 0, 1, 0, 1, 1, 1, 1, 0, 1, 0, 1, 1, 1, 1, 0, 1, 1, 1, 1, 1, 1, 0, 1, 1, 1, 0, 0, 1, 3, 0, 0, 0, 0, 0, 1, 1, 0, 1, 1, 0, 1, 0, 0, 1, 1, 0, 1, 0, 1, 1, 1, 1, 1, 1, 1, 1, 0, 0, 1, 1, 1, 1, 1, 0, 0, 1, 0, 0, 1, 0, 1, 0, 1, 0, 1, 1, 1, 0, 0, 0, 1, 1, 0, 1, 0, 1, 3, 0, 0, 0, 1, 3, 0, 1, 0, 1, 1, 1, 1, 1, 1, 0, 1, 3, 0, 1, 1, 0, 1, 1, 1, 0, 1, 1, 1, 0, 0, 0, 1, 0, 1, 1, 0, 0, 0, 1, 0, 1, 3, 1, 0, 1, 0, 0, 1, 1, 1, 1, 0, 1, 1, 1, 1, 1, 1, 1, 3, 1, 0, 0, 0, 1, 0, 0, 0, 0, 1, 0, 1, 0, 1, 0, 1, 1, 0, 1, 1, 1, 1, 0, 1, 0, 0, 1, 0, 1, 3, 0, 0, 0, 1, 0, 0, 0, 1, 0, 1, 1, 0, 0, 1, 1, 0, 0, 1, 0, 0, 1, 0, 0, 0, 1, 1, 0, 1, 0, 1, 1, 0, 1, 1, 0, 0, 0, 1, 0, 0, 1, 3, 3, 1, 0, 0, 0, 1, 1, 0, 0, 1, 0, 0, 1, 3, 0, 0, 0, 0, 0, 0, 3, 0, 1, 1, 0, 0, 1, 3, 1, 1, 0, 1, 0, 0, 0, 1, 0, 0, 0, 1, 0, 0, 0, 3, 1, 1, 1, 0, 1, 1, 0, 0, 0, 0, 0, 1, 1, 1, 0, 1, 1, 1, 3, 1, 0, 3, 1, 0, 0, 1, 1, 0, 1, 1, 1, 1, 0, 1, 0, 0, 0, 0, 1, 0, 0, 0, 0, 1, 1, 0, 1, 3, 1, 0, 1, 0, 0, 1, 1, 0, 1, 0, 0, 1, 0, 1, 0, 0, 1, 0, 1, 1, 0, 1, 0, 1, 3, 1, 1, 0, 0, 1, 1, 1, 1, 1, 3, 1, 0, 1, 1, 3, 1, 0, 0, 0, 1, 0, 1, 0, 1, 1, 1, 0, 0, 1, 1, 1, 1, 0, 0, 0, 0, 1, 3, 1, 1, 1, 1, 1, 1, 0, 1, 1, 1, 0, 0, 1, 0, 1, 1, 1, 0, 0, 1, 1, 3, 1, 1, 1, 1, 1, 1, 0, 1, 3, 1, 0, 1, 1, 0, 1, 1, 1, 1, 0, 0, 0, 1, 1, 0, 0, 1, 0, 1, 0, 0, 1, 1, 0, 0, 1, 0, 1, 1, 0, 1, 1, 1, 1, 0, 1, 1, 0, 1, 1, 0, 0, 0, 1, 0, 0, 0, 0, 1, 0, 1, 1, 1, 0, 0, 1, 0, 0, 0, 1, 0, 1, 1, 1, 3, 0, 1, 0, 0, 0, 0, 1, 0, 1, 0, 1, 0, 0, 0, 1, 1, 1, 1, 0, 0, 1, 1, 1, 0, 0, 1, 0, 0, 1, 1, 1, 1, 0, 0, 1, 0, 1, 0, 0, 0, 0, 0, 0, 1, 0, 1, 1, 1, 1, 0, 0, 1, 0, 1, 1, 0, 1, 0, 1, 0, 3, 0, 0, 1, 1, 1, 0, 0, 3, 1, 1, 0, 0, 1, 0, 0, 0, 0, 1, 0, 0, 0, 1, 1, 1, 0, 1, 3, 3, 0, 1, 0, 1, 3, 1, 0, 0, 1, 0, 1, 0, 1, 0, 3, 0, 0, 1, 0, 1, 1, 0, 1, 1, 3, 1, 1, 1, 1, 1, 1, 1, 0, 0, 1, 0, 1, 1, 0, 0, 1, 0, 0, 0, 1, 1, 1, 0, 1, 1, 1, 0, 0, 0, 0, 1, 0, 0, 0, 1, 0, 1, 1, 1, 1, 1, 1, 0, 1, 1, 0, 1, 1, 1, 0, 0, 0, 1, 0, 0, 0, 1, 1, 0, 0, 0, 0, 1, 0, 0, 1, 3, 1, 1, 0, 0, 1, 1, 3, 0, 1, 0, 0, 0, 0, 1, 1, 1, 0, 0, 0, 1, 3, 1, 3, 1, 0, 1, 0, 0, 0, 1, 1, 0, 0, 1, 0, 0, 0, 1, 3, 1, 0, 1, 1, 1, 1, 3, 0, 1, 0, 0, 1, 0, 1, 1, 1, 0, 0, 1, 1, 0, 3, 1, 0, 1, 3, 1, 1, 1, 0, 1, 0, 1, 3, 0, 1, 1, 0, 1, 1, 1, 1, 1, 1, 0, 0, 0, 0, 1, 0, 1, 1, 3, 0, 1, 1, 0, 1, 0, 0, 1, 1, 3, 1, 3, 0, 0, 0, 1, 1, 0, 3, 1, 1, 0, 1, 0, 1, 0, 0, 1, 0, 1, 1, 0, 1, 0, 0, 1, 0, 0, 0, 1, 1, 1, 0, 0, 1, 1, 0, 3, 0, 1, 0, 0, 1, 1, 0, 1, 1, 0, 0, 0, 1, 1, 0, 1, 1, 3, 1, 1, 1, 1, 0, 1, 0, 0, 1, 1, 0, 0, 1, 1, 0, 0, 0, 1, 1, 0, 1, 0, 1, 3, 0, 1, 0, 0, 3, 1, 0, 0, 1, 0, 1, 0, 0, 0, 1, 0, 0, 0, 0, 1, 1, 1, 1, 1, 1, 1, 0, 1, 1, 3, 1, 0, 1, 1, 1, 0, 1, 1, 1, 0, 1, 1, 0, 1, 1, 0, 0, 0, 0, 3, 0, 1, 0, 0, 0, 1, 1, 0, 0, 1, 0, 1, 0, 0, 1, 0, 1, 0, 0, 1, 1, 0, 0, 0, 3, 0, 1, 1, 1, 1, 1, 0, 0, 0, 1, 0, 0, 1, 0, 0, 1, 1, 1, 1, 0, 1, 0, 0, 0, 1, 1, 1, 0, 0, 0, 1, 1, 0, 1, 1, 0, 1, 1, 1, 1, 0, 0, 0, 1, 0, 0, 3, 0, 1, 0, 0, 1, 1, 0, 0, 1, 1, 1], \"xaxis\": \"x\", \"yaxis\": \"y\"}],\n",
              "                        {\"barmode\": \"group\", \"legend\": {\"tracegroupgap\": 0}, \"margin\": {\"t\": 60}, \"template\": {\"data\": {\"bar\": [{\"error_x\": {\"color\": \"#2a3f5f\"}, \"error_y\": {\"color\": \"#2a3f5f\"}, \"marker\": {\"line\": {\"color\": \"#E5ECF6\", \"width\": 0.5}}, \"type\": \"bar\"}], \"barpolar\": [{\"marker\": {\"line\": {\"color\": \"#E5ECF6\", \"width\": 0.5}}, \"type\": \"barpolar\"}], \"carpet\": [{\"aaxis\": {\"endlinecolor\": \"#2a3f5f\", \"gridcolor\": \"white\", \"linecolor\": \"white\", \"minorgridcolor\": \"white\", \"startlinecolor\": \"#2a3f5f\"}, \"baxis\": {\"endlinecolor\": \"#2a3f5f\", \"gridcolor\": \"white\", \"linecolor\": \"white\", \"minorgridcolor\": \"white\", \"startlinecolor\": \"#2a3f5f\"}, \"type\": \"carpet\"}], \"choropleth\": [{\"colorbar\": {\"outlinewidth\": 0, \"ticks\": \"\"}, \"type\": \"choropleth\"}], \"contour\": [{\"colorbar\": {\"outlinewidth\": 0, \"ticks\": \"\"}, \"colorscale\": [[0.0, \"#0d0887\"], [0.1111111111111111, \"#46039f\"], [0.2222222222222222, \"#7201a8\"], [0.3333333333333333, \"#9c179e\"], [0.4444444444444444, \"#bd3786\"], [0.5555555555555556, \"#d8576b\"], [0.6666666666666666, \"#ed7953\"], [0.7777777777777778, \"#fb9f3a\"], [0.8888888888888888, \"#fdca26\"], [1.0, \"#f0f921\"]], \"type\": \"contour\"}], \"contourcarpet\": [{\"colorbar\": {\"outlinewidth\": 0, \"ticks\": \"\"}, \"type\": \"contourcarpet\"}], \"heatmap\": [{\"colorbar\": {\"outlinewidth\": 0, \"ticks\": \"\"}, \"colorscale\": [[0.0, \"#0d0887\"], [0.1111111111111111, \"#46039f\"], [0.2222222222222222, \"#7201a8\"], [0.3333333333333333, \"#9c179e\"], [0.4444444444444444, \"#bd3786\"], [0.5555555555555556, \"#d8576b\"], [0.6666666666666666, \"#ed7953\"], [0.7777777777777778, \"#fb9f3a\"], [0.8888888888888888, \"#fdca26\"], [1.0, \"#f0f921\"]], \"type\": \"heatmap\"}], \"heatmapgl\": [{\"colorbar\": {\"outlinewidth\": 0, \"ticks\": \"\"}, \"colorscale\": [[0.0, \"#0d0887\"], [0.1111111111111111, \"#46039f\"], [0.2222222222222222, \"#7201a8\"], [0.3333333333333333, \"#9c179e\"], [0.4444444444444444, \"#bd3786\"], [0.5555555555555556, \"#d8576b\"], [0.6666666666666666, \"#ed7953\"], [0.7777777777777778, \"#fb9f3a\"], [0.8888888888888888, \"#fdca26\"], [1.0, \"#f0f921\"]], \"type\": \"heatmapgl\"}], \"histogram\": [{\"marker\": {\"colorbar\": {\"outlinewidth\": 0, \"ticks\": \"\"}}, \"type\": \"histogram\"}], \"histogram2d\": [{\"colorbar\": {\"outlinewidth\": 0, \"ticks\": \"\"}, \"colorscale\": [[0.0, \"#0d0887\"], [0.1111111111111111, \"#46039f\"], [0.2222222222222222, \"#7201a8\"], [0.3333333333333333, \"#9c179e\"], [0.4444444444444444, \"#bd3786\"], [0.5555555555555556, \"#d8576b\"], [0.6666666666666666, \"#ed7953\"], [0.7777777777777778, \"#fb9f3a\"], [0.8888888888888888, \"#fdca26\"], [1.0, \"#f0f921\"]], \"type\": \"histogram2d\"}], \"histogram2dcontour\": [{\"colorbar\": {\"outlinewidth\": 0, \"ticks\": \"\"}, \"colorscale\": [[0.0, \"#0d0887\"], [0.1111111111111111, \"#46039f\"], [0.2222222222222222, \"#7201a8\"], [0.3333333333333333, \"#9c179e\"], [0.4444444444444444, \"#bd3786\"], [0.5555555555555556, \"#d8576b\"], [0.6666666666666666, \"#ed7953\"], [0.7777777777777778, \"#fb9f3a\"], [0.8888888888888888, \"#fdca26\"], [1.0, \"#f0f921\"]], \"type\": \"histogram2dcontour\"}], \"mesh3d\": [{\"colorbar\": {\"outlinewidth\": 0, \"ticks\": \"\"}, \"type\": \"mesh3d\"}], \"parcoords\": [{\"line\": {\"colorbar\": {\"outlinewidth\": 0, \"ticks\": \"\"}}, \"type\": \"parcoords\"}], \"pie\": [{\"automargin\": true, \"type\": \"pie\"}], \"scatter\": [{\"marker\": {\"colorbar\": {\"outlinewidth\": 0, \"ticks\": \"\"}}, \"type\": \"scatter\"}], \"scatter3d\": [{\"line\": {\"colorbar\": {\"outlinewidth\": 0, \"ticks\": \"\"}}, \"marker\": {\"colorbar\": {\"outlinewidth\": 0, \"ticks\": \"\"}}, \"type\": \"scatter3d\"}], \"scattercarpet\": [{\"marker\": {\"colorbar\": {\"outlinewidth\": 0, \"ticks\": \"\"}}, \"type\": \"scattercarpet\"}], \"scattergeo\": [{\"marker\": {\"colorbar\": {\"outlinewidth\": 0, \"ticks\": \"\"}}, \"type\": \"scattergeo\"}], \"scattergl\": [{\"marker\": {\"colorbar\": {\"outlinewidth\": 0, \"ticks\": \"\"}}, \"type\": \"scattergl\"}], \"scattermapbox\": [{\"marker\": {\"colorbar\": {\"outlinewidth\": 0, \"ticks\": \"\"}}, \"type\": \"scattermapbox\"}], \"scatterpolar\": [{\"marker\": {\"colorbar\": {\"outlinewidth\": 0, \"ticks\": \"\"}}, \"type\": \"scatterpolar\"}], \"scatterpolargl\": [{\"marker\": {\"colorbar\": {\"outlinewidth\": 0, \"ticks\": \"\"}}, \"type\": \"scatterpolargl\"}], \"scatterternary\": [{\"marker\": {\"colorbar\": {\"outlinewidth\": 0, \"ticks\": \"\"}}, \"type\": \"scatterternary\"}], \"surface\": [{\"colorbar\": {\"outlinewidth\": 0, \"ticks\": \"\"}, \"colorscale\": [[0.0, \"#0d0887\"], [0.1111111111111111, \"#46039f\"], [0.2222222222222222, \"#7201a8\"], [0.3333333333333333, \"#9c179e\"], [0.4444444444444444, \"#bd3786\"], [0.5555555555555556, \"#d8576b\"], [0.6666666666666666, \"#ed7953\"], [0.7777777777777778, \"#fb9f3a\"], [0.8888888888888888, \"#fdca26\"], [1.0, \"#f0f921\"]], \"type\": \"surface\"}], \"table\": [{\"cells\": {\"fill\": {\"color\": \"#EBF0F8\"}, \"line\": {\"color\": \"white\"}}, \"header\": {\"fill\": {\"color\": \"#C8D4E3\"}, \"line\": {\"color\": \"white\"}}, \"type\": \"table\"}]}, \"layout\": {\"annotationdefaults\": {\"arrowcolor\": \"#2a3f5f\", \"arrowhead\": 0, \"arrowwidth\": 1}, \"coloraxis\": {\"colorbar\": {\"outlinewidth\": 0, \"ticks\": \"\"}}, \"colorscale\": {\"diverging\": [[0, \"#8e0152\"], [0.1, \"#c51b7d\"], [0.2, \"#de77ae\"], [0.3, \"#f1b6da\"], [0.4, \"#fde0ef\"], [0.5, \"#f7f7f7\"], [0.6, \"#e6f5d0\"], [0.7, \"#b8e186\"], [0.8, \"#7fbc41\"], [0.9, \"#4d9221\"], [1, \"#276419\"]], \"sequential\": [[0.0, \"#0d0887\"], [0.1111111111111111, \"#46039f\"], [0.2222222222222222, \"#7201a8\"], [0.3333333333333333, \"#9c179e\"], [0.4444444444444444, \"#bd3786\"], [0.5555555555555556, \"#d8576b\"], [0.6666666666666666, \"#ed7953\"], [0.7777777777777778, \"#fb9f3a\"], [0.8888888888888888, \"#fdca26\"], [1.0, \"#f0f921\"]], \"sequentialminus\": [[0.0, \"#0d0887\"], [0.1111111111111111, \"#46039f\"], [0.2222222222222222, \"#7201a8\"], [0.3333333333333333, \"#9c179e\"], [0.4444444444444444, \"#bd3786\"], [0.5555555555555556, \"#d8576b\"], [0.6666666666666666, \"#ed7953\"], [0.7777777777777778, \"#fb9f3a\"], [0.8888888888888888, \"#fdca26\"], [1.0, \"#f0f921\"]]}, \"colorway\": [\"#636efa\", \"#EF553B\", \"#00cc96\", \"#ab63fa\", \"#FFA15A\", \"#19d3f3\", \"#FF6692\", \"#B6E880\", \"#FF97FF\", \"#FECB52\"], \"font\": {\"color\": \"#2a3f5f\"}, \"geo\": {\"bgcolor\": \"white\", \"lakecolor\": \"white\", \"landcolor\": \"#E5ECF6\", \"showlakes\": true, \"showland\": true, \"subunitcolor\": \"white\"}, \"hoverlabel\": {\"align\": \"left\"}, \"hovermode\": \"closest\", \"mapbox\": {\"style\": \"light\"}, \"paper_bgcolor\": \"white\", \"plot_bgcolor\": \"#E5ECF6\", \"polar\": {\"angularaxis\": {\"gridcolor\": \"white\", \"linecolor\": \"white\", \"ticks\": \"\"}, \"bgcolor\": \"#E5ECF6\", \"radialaxis\": {\"gridcolor\": \"white\", \"linecolor\": \"white\", \"ticks\": \"\"}}, \"scene\": {\"xaxis\": {\"backgroundcolor\": \"#E5ECF6\", \"gridcolor\": \"white\", \"gridwidth\": 2, \"linecolor\": \"white\", \"showbackground\": true, \"ticks\": \"\", \"zerolinecolor\": \"white\"}, \"yaxis\": {\"backgroundcolor\": \"#E5ECF6\", \"gridcolor\": \"white\", \"gridwidth\": 2, \"linecolor\": \"white\", \"showbackground\": true, \"ticks\": \"\", \"zerolinecolor\": \"white\"}, \"zaxis\": {\"backgroundcolor\": \"#E5ECF6\", \"gridcolor\": \"white\", \"gridwidth\": 2, \"linecolor\": \"white\", \"showbackground\": true, \"ticks\": \"\", \"zerolinecolor\": \"white\"}}, \"shapedefaults\": {\"line\": {\"color\": \"#2a3f5f\"}}, \"ternary\": {\"aaxis\": {\"gridcolor\": \"white\", \"linecolor\": \"white\", \"ticks\": \"\"}, \"baxis\": {\"gridcolor\": \"white\", \"linecolor\": \"white\", \"ticks\": \"\"}, \"bgcolor\": \"#E5ECF6\", \"caxis\": {\"gridcolor\": \"white\", \"linecolor\": \"white\", \"ticks\": \"\"}}, \"title\": {\"x\": 0.05}, \"xaxis\": {\"automargin\": true, \"gridcolor\": \"white\", \"linecolor\": \"white\", \"ticks\": \"\", \"title\": {\"standoff\": 15}, \"zerolinecolor\": \"white\", \"zerolinewidth\": 2}, \"yaxis\": {\"automargin\": true, \"gridcolor\": \"white\", \"linecolor\": \"white\", \"ticks\": \"\", \"title\": {\"standoff\": 15}, \"zerolinecolor\": \"white\", \"zerolinewidth\": 2}}}, \"xaxis\": {\"anchor\": \"y\", \"domain\": [0.0, 1.0], \"title\": {\"text\": \"personalizacion\"}}, \"yaxis\": {\"anchor\": \"x\", \"domain\": [0.0, 1.0], \"title\": {\"text\": \"count\"}}},\n",
              "                        {\"responsive\": true}\n",
              "                    ).then(function(){\n",
              "                            \n",
              "var gd = document.getElementById('f44a1a33-e5a9-4e91-805b-65177e93b8fd');\n",
              "var x = new MutationObserver(function (mutations, observer) {{\n",
              "        var display = window.getComputedStyle(gd).display;\n",
              "        if (!display || display === 'none') {{\n",
              "            console.log([gd, 'removed!']);\n",
              "            Plotly.purge(gd);\n",
              "            observer.disconnect();\n",
              "        }}\n",
              "}});\n",
              "\n",
              "// Listen for the removal of the full notebook cells\n",
              "var notebookContainer = gd.closest('#notebook-container');\n",
              "if (notebookContainer) {{\n",
              "    x.observe(notebookContainer, {childList: true});\n",
              "}}\n",
              "\n",
              "// Listen for the clearing of the current output cell\n",
              "var outputEl = gd.closest('.output');\n",
              "if (outputEl) {{\n",
              "    x.observe(outputEl, {childList: true});\n",
              "}}\n",
              "\n",
              "                        })\n",
              "                };\n",
              "                \n",
              "            </script>\n",
              "        </div>\n",
              "</body>\n",
              "</html>"
            ]
          },
          "metadata": {
            "tags": []
          }
        }
      ]
    },
    {
      "cell_type": "code",
      "metadata": {
        "colab": {
          "base_uri": "https://localhost:8080/",
          "height": 542
        },
        "id": "GBRNiO0MRAMN",
        "outputId": "960a62b1-229c-4061-9221-69ee77e47347"
      },
      "source": [
        "fig_len_pers=px.pie(df_resumen,names=df_resumen.index,values='Numero de clientes por creatividad',title='Clientes por creatividad')\n",
        "fig_len_pers.show()"
      ],
      "id": "GBRNiO0MRAMN",
      "execution_count": null,
      "outputs": [
        {
          "output_type": "display_data",
          "data": {
            "text/html": [
              "<html>\n",
              "<head><meta charset=\"utf-8\" /></head>\n",
              "<body>\n",
              "    <div>\n",
              "            <script src=\"https://cdnjs.cloudflare.com/ajax/libs/mathjax/2.7.5/MathJax.js?config=TeX-AMS-MML_SVG\"></script><script type=\"text/javascript\">if (window.MathJax) {MathJax.Hub.Config({SVG: {font: \"STIX-Web\"}});}</script>\n",
              "                <script type=\"text/javascript\">window.PlotlyConfig = {MathJaxConfig: 'local'};</script>\n",
              "        <script src=\"https://cdn.plot.ly/plotly-latest.min.js\"></script>    \n",
              "            <div id=\"c3768051-444f-4106-96fe-7bf4dad1fab3\" class=\"plotly-graph-div\" style=\"height:525px; width:100%;\"></div>\n",
              "            <script type=\"text/javascript\">\n",
              "                \n",
              "                    window.PLOTLYENV=window.PLOTLYENV || {};\n",
              "                    \n",
              "                if (document.getElementById(\"c3768051-444f-4106-96fe-7bf4dad1fab3\")) {\n",
              "                    Plotly.newPlot(\n",
              "                        'c3768051-444f-4106-96fe-7bf4dad1fab3',\n",
              "                        [{\"domain\": {\"x\": [0.0, 1.0], \"y\": [0.0, 1.0]}, \"hoverlabel\": {\"namelength\": 0}, \"hovertemplate\": \"label=%{label}<br>Numero de clientes por creatividad=%{value}\", \"labels\": [0, 1, 2, 3], \"legendgroup\": \"\", \"name\": \"\", \"showlegend\": true, \"type\": \"pie\", \"values\": [2562, 1887, 1616, 3935]}],\n",
              "                        {\"legend\": {\"tracegroupgap\": 0}, \"template\": {\"data\": {\"bar\": [{\"error_x\": {\"color\": \"#2a3f5f\"}, \"error_y\": {\"color\": \"#2a3f5f\"}, \"marker\": {\"line\": {\"color\": \"#E5ECF6\", \"width\": 0.5}}, \"type\": \"bar\"}], \"barpolar\": [{\"marker\": {\"line\": {\"color\": \"#E5ECF6\", \"width\": 0.5}}, \"type\": \"barpolar\"}], \"carpet\": [{\"aaxis\": {\"endlinecolor\": \"#2a3f5f\", \"gridcolor\": \"white\", \"linecolor\": \"white\", \"minorgridcolor\": \"white\", \"startlinecolor\": \"#2a3f5f\"}, \"baxis\": {\"endlinecolor\": \"#2a3f5f\", \"gridcolor\": \"white\", \"linecolor\": \"white\", \"minorgridcolor\": \"white\", \"startlinecolor\": \"#2a3f5f\"}, \"type\": \"carpet\"}], \"choropleth\": [{\"colorbar\": {\"outlinewidth\": 0, \"ticks\": \"\"}, \"type\": \"choropleth\"}], \"contour\": [{\"colorbar\": {\"outlinewidth\": 0, \"ticks\": \"\"}, \"colorscale\": [[0.0, \"#0d0887\"], [0.1111111111111111, \"#46039f\"], [0.2222222222222222, \"#7201a8\"], [0.3333333333333333, \"#9c179e\"], [0.4444444444444444, \"#bd3786\"], [0.5555555555555556, \"#d8576b\"], [0.6666666666666666, \"#ed7953\"], [0.7777777777777778, \"#fb9f3a\"], [0.8888888888888888, \"#fdca26\"], [1.0, \"#f0f921\"]], \"type\": \"contour\"}], \"contourcarpet\": [{\"colorbar\": {\"outlinewidth\": 0, \"ticks\": \"\"}, \"type\": \"contourcarpet\"}], \"heatmap\": [{\"colorbar\": {\"outlinewidth\": 0, \"ticks\": \"\"}, \"colorscale\": [[0.0, \"#0d0887\"], [0.1111111111111111, \"#46039f\"], [0.2222222222222222, \"#7201a8\"], [0.3333333333333333, \"#9c179e\"], [0.4444444444444444, \"#bd3786\"], [0.5555555555555556, \"#d8576b\"], [0.6666666666666666, \"#ed7953\"], [0.7777777777777778, \"#fb9f3a\"], [0.8888888888888888, \"#fdca26\"], [1.0, \"#f0f921\"]], \"type\": \"heatmap\"}], \"heatmapgl\": [{\"colorbar\": {\"outlinewidth\": 0, \"ticks\": \"\"}, \"colorscale\": [[0.0, \"#0d0887\"], [0.1111111111111111, \"#46039f\"], [0.2222222222222222, \"#7201a8\"], [0.3333333333333333, \"#9c179e\"], [0.4444444444444444, \"#bd3786\"], [0.5555555555555556, \"#d8576b\"], [0.6666666666666666, \"#ed7953\"], [0.7777777777777778, \"#fb9f3a\"], [0.8888888888888888, \"#fdca26\"], [1.0, \"#f0f921\"]], \"type\": \"heatmapgl\"}], \"histogram\": [{\"marker\": {\"colorbar\": {\"outlinewidth\": 0, \"ticks\": \"\"}}, \"type\": \"histogram\"}], \"histogram2d\": [{\"colorbar\": {\"outlinewidth\": 0, \"ticks\": \"\"}, \"colorscale\": [[0.0, \"#0d0887\"], [0.1111111111111111, \"#46039f\"], [0.2222222222222222, \"#7201a8\"], [0.3333333333333333, \"#9c179e\"], [0.4444444444444444, \"#bd3786\"], [0.5555555555555556, \"#d8576b\"], [0.6666666666666666, \"#ed7953\"], [0.7777777777777778, \"#fb9f3a\"], [0.8888888888888888, \"#fdca26\"], [1.0, \"#f0f921\"]], \"type\": \"histogram2d\"}], \"histogram2dcontour\": [{\"colorbar\": {\"outlinewidth\": 0, \"ticks\": \"\"}, \"colorscale\": [[0.0, \"#0d0887\"], [0.1111111111111111, \"#46039f\"], [0.2222222222222222, \"#7201a8\"], [0.3333333333333333, \"#9c179e\"], [0.4444444444444444, \"#bd3786\"], [0.5555555555555556, \"#d8576b\"], [0.6666666666666666, \"#ed7953\"], [0.7777777777777778, \"#fb9f3a\"], [0.8888888888888888, \"#fdca26\"], [1.0, \"#f0f921\"]], \"type\": \"histogram2dcontour\"}], \"mesh3d\": [{\"colorbar\": {\"outlinewidth\": 0, \"ticks\": \"\"}, \"type\": \"mesh3d\"}], \"parcoords\": [{\"line\": {\"colorbar\": {\"outlinewidth\": 0, \"ticks\": \"\"}}, \"type\": \"parcoords\"}], \"pie\": [{\"automargin\": true, \"type\": \"pie\"}], \"scatter\": [{\"marker\": {\"colorbar\": {\"outlinewidth\": 0, \"ticks\": \"\"}}, \"type\": \"scatter\"}], \"scatter3d\": [{\"line\": {\"colorbar\": {\"outlinewidth\": 0, \"ticks\": \"\"}}, \"marker\": {\"colorbar\": {\"outlinewidth\": 0, \"ticks\": \"\"}}, \"type\": \"scatter3d\"}], \"scattercarpet\": [{\"marker\": {\"colorbar\": {\"outlinewidth\": 0, \"ticks\": \"\"}}, \"type\": \"scattercarpet\"}], \"scattergeo\": [{\"marker\": {\"colorbar\": {\"outlinewidth\": 0, \"ticks\": \"\"}}, \"type\": \"scattergeo\"}], \"scattergl\": [{\"marker\": {\"colorbar\": {\"outlinewidth\": 0, \"ticks\": \"\"}}, \"type\": \"scattergl\"}], \"scattermapbox\": [{\"marker\": {\"colorbar\": {\"outlinewidth\": 0, \"ticks\": \"\"}}, \"type\": \"scattermapbox\"}], \"scatterpolar\": [{\"marker\": {\"colorbar\": {\"outlinewidth\": 0, \"ticks\": \"\"}}, \"type\": \"scatterpolar\"}], \"scatterpolargl\": [{\"marker\": {\"colorbar\": {\"outlinewidth\": 0, \"ticks\": \"\"}}, \"type\": \"scatterpolargl\"}], \"scatterternary\": [{\"marker\": {\"colorbar\": {\"outlinewidth\": 0, \"ticks\": \"\"}}, \"type\": \"scatterternary\"}], \"surface\": [{\"colorbar\": {\"outlinewidth\": 0, \"ticks\": \"\"}, \"colorscale\": [[0.0, \"#0d0887\"], [0.1111111111111111, \"#46039f\"], [0.2222222222222222, \"#7201a8\"], [0.3333333333333333, \"#9c179e\"], [0.4444444444444444, \"#bd3786\"], [0.5555555555555556, \"#d8576b\"], [0.6666666666666666, \"#ed7953\"], [0.7777777777777778, \"#fb9f3a\"], [0.8888888888888888, \"#fdca26\"], [1.0, \"#f0f921\"]], \"type\": \"surface\"}], \"table\": [{\"cells\": {\"fill\": {\"color\": \"#EBF0F8\"}, \"line\": {\"color\": \"white\"}}, \"header\": {\"fill\": {\"color\": \"#C8D4E3\"}, \"line\": {\"color\": \"white\"}}, \"type\": \"table\"}]}, \"layout\": {\"annotationdefaults\": {\"arrowcolor\": \"#2a3f5f\", \"arrowhead\": 0, \"arrowwidth\": 1}, \"coloraxis\": {\"colorbar\": {\"outlinewidth\": 0, \"ticks\": \"\"}}, \"colorscale\": {\"diverging\": [[0, \"#8e0152\"], [0.1, \"#c51b7d\"], [0.2, \"#de77ae\"], [0.3, \"#f1b6da\"], [0.4, \"#fde0ef\"], [0.5, \"#f7f7f7\"], [0.6, \"#e6f5d0\"], [0.7, \"#b8e186\"], [0.8, \"#7fbc41\"], [0.9, \"#4d9221\"], [1, \"#276419\"]], \"sequential\": [[0.0, \"#0d0887\"], [0.1111111111111111, \"#46039f\"], [0.2222222222222222, \"#7201a8\"], [0.3333333333333333, \"#9c179e\"], [0.4444444444444444, \"#bd3786\"], [0.5555555555555556, \"#d8576b\"], [0.6666666666666666, \"#ed7953\"], [0.7777777777777778, \"#fb9f3a\"], [0.8888888888888888, \"#fdca26\"], [1.0, \"#f0f921\"]], \"sequentialminus\": [[0.0, \"#0d0887\"], [0.1111111111111111, \"#46039f\"], [0.2222222222222222, \"#7201a8\"], [0.3333333333333333, \"#9c179e\"], [0.4444444444444444, \"#bd3786\"], [0.5555555555555556, \"#d8576b\"], [0.6666666666666666, \"#ed7953\"], [0.7777777777777778, \"#fb9f3a\"], [0.8888888888888888, \"#fdca26\"], [1.0, \"#f0f921\"]]}, \"colorway\": [\"#636efa\", \"#EF553B\", \"#00cc96\", \"#ab63fa\", \"#FFA15A\", \"#19d3f3\", \"#FF6692\", \"#B6E880\", \"#FF97FF\", \"#FECB52\"], \"font\": {\"color\": \"#2a3f5f\"}, \"geo\": {\"bgcolor\": \"white\", \"lakecolor\": \"white\", \"landcolor\": \"#E5ECF6\", \"showlakes\": true, \"showland\": true, \"subunitcolor\": \"white\"}, \"hoverlabel\": {\"align\": \"left\"}, \"hovermode\": \"closest\", \"mapbox\": {\"style\": \"light\"}, \"paper_bgcolor\": \"white\", \"plot_bgcolor\": \"#E5ECF6\", \"polar\": {\"angularaxis\": {\"gridcolor\": \"white\", \"linecolor\": \"white\", \"ticks\": \"\"}, \"bgcolor\": \"#E5ECF6\", \"radialaxis\": {\"gridcolor\": \"white\", \"linecolor\": \"white\", \"ticks\": \"\"}}, \"scene\": {\"xaxis\": {\"backgroundcolor\": \"#E5ECF6\", \"gridcolor\": \"white\", \"gridwidth\": 2, \"linecolor\": \"white\", \"showbackground\": true, \"ticks\": \"\", \"zerolinecolor\": \"white\"}, \"yaxis\": {\"backgroundcolor\": \"#E5ECF6\", \"gridcolor\": \"white\", \"gridwidth\": 2, \"linecolor\": \"white\", \"showbackground\": true, \"ticks\": \"\", \"zerolinecolor\": \"white\"}, \"zaxis\": {\"backgroundcolor\": \"#E5ECF6\", \"gridcolor\": \"white\", \"gridwidth\": 2, \"linecolor\": \"white\", \"showbackground\": true, \"ticks\": \"\", \"zerolinecolor\": \"white\"}}, \"shapedefaults\": {\"line\": {\"color\": \"#2a3f5f\"}}, \"ternary\": {\"aaxis\": {\"gridcolor\": \"white\", \"linecolor\": \"white\", \"ticks\": \"\"}, \"baxis\": {\"gridcolor\": \"white\", \"linecolor\": \"white\", \"ticks\": \"\"}, \"bgcolor\": \"#E5ECF6\", \"caxis\": {\"gridcolor\": \"white\", \"linecolor\": \"white\", \"ticks\": \"\"}}, \"title\": {\"x\": 0.05}, \"xaxis\": {\"automargin\": true, \"gridcolor\": \"white\", \"linecolor\": \"white\", \"ticks\": \"\", \"title\": {\"standoff\": 15}, \"zerolinecolor\": \"white\", \"zerolinewidth\": 2}, \"yaxis\": {\"automargin\": true, \"gridcolor\": \"white\", \"linecolor\": \"white\", \"ticks\": \"\", \"title\": {\"standoff\": 15}, \"zerolinecolor\": \"white\", \"zerolinewidth\": 2}}}, \"title\": {\"text\": \"Clientes por creatividad\"}},\n",
              "                        {\"responsive\": true}\n",
              "                    ).then(function(){\n",
              "                            \n",
              "var gd = document.getElementById('c3768051-444f-4106-96fe-7bf4dad1fab3');\n",
              "var x = new MutationObserver(function (mutations, observer) {{\n",
              "        var display = window.getComputedStyle(gd).display;\n",
              "        if (!display || display === 'none') {{\n",
              "            console.log([gd, 'removed!']);\n",
              "            Plotly.purge(gd);\n",
              "            observer.disconnect();\n",
              "        }}\n",
              "}});\n",
              "\n",
              "// Listen for the removal of the full notebook cells\n",
              "var notebookContainer = gd.closest('#notebook-container');\n",
              "if (notebookContainer) {{\n",
              "    x.observe(notebookContainer, {childList: true});\n",
              "}}\n",
              "\n",
              "// Listen for the clearing of the current output cell\n",
              "var outputEl = gd.closest('.output');\n",
              "if (outputEl) {{\n",
              "    x.observe(outputEl, {childList: true});\n",
              "}}\n",
              "\n",
              "                        })\n",
              "                };\n",
              "                \n",
              "            </script>\n",
              "        </div>\n",
              "</body>\n",
              "</html>"
            ]
          },
          "metadata": {
            "tags": []
          }
        }
      ]
    },
    {
      "cell_type": "code",
      "metadata": {
        "colab": {
          "base_uri": "https://localhost:8080/",
          "height": 542
        },
        "id": "Lw73KpgsqrlK",
        "outputId": "84ef1ac2-98ad-4635-e53e-8e4399762320"
      },
      "source": [
        "fig_pob = px.box(X_processed, x='personalizacion', y=\"poblacion\",title='Poblacion por creatividad')\n",
        "fig_pob.show()"
      ],
      "id": "Lw73KpgsqrlK",
      "execution_count": null,
      "outputs": [
        {
          "output_type": "display_data",
          "data": {
            "text/html": [
              "<html>\n",
              "<head><meta charset=\"utf-8\" /></head>\n",
              "<body>\n",
              "    <div>\n",
              "            <script src=\"https://cdnjs.cloudflare.com/ajax/libs/mathjax/2.7.5/MathJax.js?config=TeX-AMS-MML_SVG\"></script><script type=\"text/javascript\">if (window.MathJax) {MathJax.Hub.Config({SVG: {font: \"STIX-Web\"}});}</script>\n",
              "                <script type=\"text/javascript\">window.PlotlyConfig = {MathJaxConfig: 'local'};</script>\n",
              "        <script src=\"https://cdn.plot.ly/plotly-latest.min.js\"></script>    \n",
              "            <div id=\"9e00fca7-78df-439d-88eb-e33c413b6ef4\" class=\"plotly-graph-div\" style=\"height:525px; width:100%;\"></div>\n",
              "            <script type=\"text/javascript\">\n",
              "                \n",
              "                    window.PLOTLYENV=window.PLOTLYENV || {};\n",
              "                    \n",
              "                if (document.getElementById(\"9e00fca7-78df-439d-88eb-e33c413b6ef4\")) {\n",
              "                    Plotly.newPlot(\n",
              "                        '9e00fca7-78df-439d-88eb-e33c413b6ef4',\n",
              "                        [{\"alignmentgroup\": \"True\", \"hoverlabel\": {\"namelength\": 0}, \"hovertemplate\": \"personalizacion=%{x}<br>poblacion=%{y}\", \"legendgroup\": \"\", \"marker\": {\"color\": \"#636efa\"}, \"name\": \"\", \"notched\": false, \"offsetgroup\": \"\", \"orientation\": \"v\", \"showlegend\": false, \"type\": \"box\", \"x\": [3, 3, 3, 3, 3, 3, 1, 3, 2, 2, 2, 2, 1, 2, 3, 3, 3, 3, 0, 2, 2, 2, 2, 2, 2, 2, 2, 2, 2, 2, 2, 2, 2, 2, 2, 2, 2, 2, 2, 2, 2, 2, 2, 2, 3, 2, 2, 2, 2, 3, 3, 3, 3, 3, 2, 1, 2, 2, 2, 2, 2, 2, 2, 2, 2, 2, 2, 2, 2, 2, 2, 2, 2, 2, 2, 2, 2, 2, 2, 2, 2, 2, 2, 2, 2, 2, 2, 2, 2, 2, 2, 2, 2, 2, 2, 2, 2, 3, 2, 2, 2, 2, 3, 2, 2, 2, 2, 2, 2, 2, 2, 2, 2, 2, 2, 2, 2, 2, 2, 2, 2, 2, 3, 2, 2, 2, 2, 2, 2, 2, 2, 2, 2, 2, 2, 2, 2, 2, 2, 2, 2, 2, 2, 2, 2, 2, 2, 2, 2, 2, 2, 2, 2, 2, 2, 2, 2, 2, 2, 2, 2, 2, 2, 2, 2, 2, 2, 2, 2, 2, 2, 2, 2, 2, 2, 2, 1, 2, 2, 2, 2, 2, 2, 2, 2, 2, 2, 2, 2, 2, 2, 2, 2, 2, 2, 2, 2, 2, 2, 2, 2, 2, 2, 2, 2, 2, 2, 2, 2, 2, 2, 2, 2, 2, 2, 2, 2, 2, 2, 2, 2, 2, 1, 2, 2, 2, 2, 2, 2, 2, 2, 2, 2, 2, 2, 2, 2, 2, 2, 2, 2, 2, 2, 0, 2, 2, 2, 2, 2, 2, 2, 2, 2, 2, 2, 2, 2, 2, 2, 2, 2, 3, 2, 2, 2, 2, 2, 2, 2, 2, 2, 2, 2, 2, 2, 2, 2, 2, 2, 2, 2, 2, 2, 2, 2, 2, 2, 2, 2, 2, 2, 2, 2, 2, 2, 2, 2, 2, 2, 2, 2, 0, 2, 2, 2, 2, 2, 2, 2, 2, 2, 2, 2, 2, 2, 2, 2, 2, 2, 2, 2, 2, 2, 2, 2, 2, 2, 2, 2, 2, 2, 2, 2, 1, 3, 2, 2, 2, 2, 2, 2, 2, 2, 2, 2, 2, 2, 2, 2, 2, 2, 2, 3, 3, 2, 2, 2, 2, 2, 2, 2, 2, 2, 2, 2, 2, 2, 2, 2, 2, 2, 2, 2, 2, 2, 2, 2, 2, 2, 2, 2, 2, 2, 2, 2, 2, 2, 2, 2, 2, 2, 2, 2, 2, 2, 2, 2, 2, 2, 2, 2, 2, 2, 2, 2, 2, 2, 2, 2, 2, 2, 2, 2, 2, 2, 2, 2, 2, 2, 2, 2, 2, 2, 2, 2, 2, 2, 2, 2, 2, 2, 2, 2, 2, 2, 2, 2, 2, 2, 2, 2, 2, 2, 2, 2, 2, 2, 2, 2, 2, 2, 2, 2, 2, 2, 2, 2, 2, 2, 2, 2, 2, 2, 2, 2, 2, 2, 2, 2, 2, 0, 2, 2, 2, 2, 2, 2, 2, 2, 2, 2, 2, 2, 2, 2, 3, 1, 1, 2, 2, 2, 2, 2, 2, 2, 2, 2, 3, 2, 2, 2, 2, 2, 2, 2, 2, 2, 2, 2, 2, 2, 2, 2, 2, 2, 2, 2, 2, 2, 2, 2, 2, 2, 2, 2, 2, 2, 2, 2, 2, 2, 2, 2, 2, 2, 2, 2, 2, 2, 2, 2, 2, 2, 2, 2, 2, 2, 1, 2, 2, 3, 1, 1, 2, 2, 2, 2, 2, 2, 2, 2, 2, 2, 2, 2, 2, 2, 2, 2, 2, 3, 2, 2, 3, 3, 3, 3, 3, 3, 3, 3, 3, 3, 3, 3, 3, 3, 3, 3, 3, 3, 3, 3, 3, 3, 3, 3, 3, 3, 3, 3, 3, 1, 3, 3, 3, 3, 3, 3, 3, 3, 3, 3, 3, 3, 2, 2, 2, 2, 2, 2, 2, 2, 3, 2, 2, 2, 2, 1, 3, 2, 2, 2, 2, 2, 2, 2, 2, 2, 2, 2, 2, 2, 2, 2, 2, 2, 2, 2, 2, 2, 2, 2, 2, 2, 2, 2, 3, 1, 2, 2, 2, 2, 2, 2, 2, 2, 2, 2, 2, 2, 2, 2, 2, 2, 2, 2, 2, 2, 2, 2, 2, 2, 2, 2, 2, 2, 2, 2, 2, 2, 2, 2, 2, 2, 2, 3, 2, 2, 2, 2, 2, 2, 2, 2, 2, 2, 2, 2, 2, 3, 2, 2, 2, 2, 2, 2, 2, 2, 2, 2, 2, 2, 2, 2, 2, 1, 2, 2, 2, 2, 2, 2, 2, 2, 2, 2, 3, 3, 2, 2, 2, 2, 2, 2, 2, 2, 2, 2, 2, 2, 2, 2, 1, 2, 2, 2, 2, 1, 3, 2, 2, 2, 2, 2, 2, 2, 2, 0, 2, 2, 2, 2, 2, 2, 2, 2, 2, 3, 2, 3, 3, 2, 2, 2, 2, 1, 2, 2, 1, 2, 2, 2, 2, 2, 3, 2, 2, 2, 2, 2, 2, 2, 2, 2, 2, 2, 2, 2, 2, 2, 2, 2, 2, 2, 2, 2, 2, 2, 2, 2, 2, 2, 2, 2, 2, 2, 2, 2, 2, 2, 0, 3, 2, 2, 2, 2, 2, 2, 2, 2, 2, 2, 2, 2, 2, 2, 2, 2, 2, 2, 2, 2, 2, 2, 2, 2, 2, 2, 2, 2, 2, 3, 3, 3, 3, 3, 3, 2, 3, 3, 2, 2, 2, 2, 2, 2, 2, 2, 2, 2, 2, 2, 2, 2, 2, 3, 3, 3, 3, 3, 0, 3, 3, 2, 2, 2, 1, 2, 2, 3, 2, 2, 2, 3, 3, 3, 3, 2, 2, 1, 3, 2, 2, 2, 2, 2, 3, 2, 2, 3, 1, 3, 3, 3, 3, 3, 2, 2, 2, 2, 2, 2, 2, 2, 2, 2, 2, 2, 3, 1, 3, 2, 2, 2, 2, 2, 2, 2, 2, 2, 2, 2, 2, 2, 2, 2, 2, 2, 2, 2, 2, 2, 2, 2, 2, 2, 2, 2, 2, 2, 2, 2, 2, 2, 2, 2, 0, 3, 1, 2, 3, 3, 1, 3, 3, 0, 2, 2, 2, 2, 2, 2, 2, 2, 2, 2, 2, 2, 2, 2, 2, 2, 2, 2, 2, 2, 2, 2, 2, 2, 2, 2, 2, 2, 2, 2, 2, 2, 2, 2, 2, 2, 2, 2, 2, 2, 2, 2, 2, 2, 2, 0, 0, 2, 2, 2, 2, 2, 2, 2, 2, 2, 2, 2, 2, 2, 2, 2, 2, 2, 2, 2, 2, 2, 2, 2, 2, 2, 2, 2, 2, 2, 2, 2, 2, 2, 2, 2, 2, 2, 2, 2, 2, 2, 2, 2, 2, 3, 3, 1, 3, 3, 2, 3, 2, 2, 2, 2, 2, 2, 2, 2, 2, 2, 2, 2, 2, 2, 2, 2, 3, 3, 2, 3, 2, 3, 1, 2, 2, 2, 2, 2, 2, 2, 2, 2, 2, 2, 2, 2, 2, 2, 1, 2, 3, 2, 2, 2, 2, 2, 2, 2, 2, 3, 2, 2, 2, 2, 0, 3, 2, 2, 2, 2, 2, 2, 2, 2, 2, 2, 2, 2, 2, 2, 2, 2, 2, 2, 2, 2, 2, 2, 2, 2, 2, 2, 2, 2, 2, 2, 2, 2, 2, 2, 2, 2, 2, 3, 3, 3, 1, 2, 2, 2, 3, 3, 2, 2, 2, 2, 2, 2, 2, 2, 2, 2, 2, 2, 2, 2, 2, 2, 2, 2, 2, 2, 2, 2, 2, 2, 2, 2, 2, 2, 2, 2, 2, 2, 2, 2, 1, 2, 2, 2, 2, 2, 2, 2, 2, 2, 2, 2, 2, 2, 2, 2, 2, 2, 2, 2, 2, 2, 2, 2, 2, 2, 2, 2, 3, 3, 3, 3, 1, 3, 1, 3, 2, 2, 2, 2, 2, 2, 1, 2, 2, 2, 2, 2, 2, 2, 2, 2, 2, 2, 2, 2, 2, 2, 2, 2, 2, 2, 2, 2, 2, 2, 2, 2, 2, 2, 2, 2, 2, 2, 2, 2, 2, 2, 2, 2, 2, 2, 3, 2, 0, 0, 0, 2, 2, 2, 2, 2, 2, 2, 2, 2, 0, 2, 1, 1, 1, 1, 1, 2, 2, 1, 3, 1, 2, 2, 2, 2, 2, 2, 2, 2, 2, 2, 2, 2, 2, 2, 2, 2, 2, 2, 2, 2, 2, 2, 2, 2, 2, 2, 2, 2, 2, 2, 2, 2, 2, 2, 2, 2, 2, 2, 2, 2, 2, 2, 2, 2, 2, 2, 1, 1, 1, 2, 2, 2, 2, 2, 2, 2, 2, 2, 2, 2, 2, 2, 2, 2, 2, 2, 2, 2, 2, 2, 2, 2, 2, 2, 2, 2, 2, 2, 2, 2, 2, 2, 2, 2, 2, 2, 2, 2, 2, 1, 1, 1, 2, 2, 2, 2, 2, 2, 2, 2, 2, 0, 2, 2, 3, 1, 1, 1, 3, 2, 2, 2, 2, 2, 2, 2, 2, 2, 2, 3, 3, 1, 1, 2, 2, 2, 2, 2, 2, 2, 2, 3, 3, 3, 3, 3, 2, 1, 1, 1, 1, 3, 3, 3, 3, 2, 2, 2, 2, 2, 2, 2, 2, 2, 2, 2, 2, 2, 2, 2, 2, 2, 2, 2, 2, 2, 2, 2, 2, 2, 2, 2, 2, 2, 2, 2, 2, 2, 2, 2, 2, 2, 2, 2, 2, 2, 1, 1, 1, 3, 1, 3, 2, 0, 1, 1, 1, 2, 2, 2, 2, 2, 2, 2, 2, 2, 2, 2, 2, 2, 2, 2, 2, 2, 2, 2, 2, 2, 2, 2, 2, 2, 2, 2, 0, 1, 2, 3, 2, 3, 2, 2, 1, 2, 2, 2, 2, 2, 3, 3, 2, 2, 2, 2, 3, 1, 2, 1, 3, 2, 2, 2, 2, 2, 2, 2, 2, 2, 1, 3, 2, 2, 2, 2, 2, 2, 1, 2, 2, 1, 2, 2, 2, 2, 2, 2, 2, 2, 2, 2, 2, 2, 2, 2, 2, 2, 2, 2, 2, 2, 2, 1, 3, 2, 2, 3, 1, 2, 2, 2, 2, 2, 2, 2, 2, 2, 2, 2, 2, 2, 2, 2, 2, 2, 2, 2, 2, 2, 2, 2, 2, 2, 2, 2, 2, 2, 2, 2, 2, 2, 2, 1, 1, 0, 1, 2, 2, 2, 2, 2, 1, 3, 2, 1, 2, 2, 2, 2, 2, 2, 1, 2, 2, 2, 2, 2, 2, 2, 2, 2, 2, 2, 1, 1, 1, 1, 1, 1, 1, 2, 3, 3, 3, 2, 2, 2, 2, 2, 2, 2, 2, 2, 2, 2, 2, 2, 2, 1, 0, 3, 3, 2, 2, 3, 1, 1, 3, 2, 2, 2, 2, 2, 2, 2, 0, 2, 2, 1, 1, 1, 3, 1, 3, 1, 3, 1, 3, 3, 0, 0, 0, 3, 2, 2, 2, 2, 1, 1, 3, 2, 0, 1, 2, 2, 2, 2, 2, 2, 2, 2, 2, 2, 2, 2, 2, 3, 3, 3, 2, 2, 2, 2, 2, 2, 2, 2, 2, 2, 2, 2, 0, 3, 3, 1, 1, 1, 2, 1, 3, 3, 2, 2, 2, 2, 2, 2, 2, 2, 2, 2, 3, 1, 2, 2, 2, 2, 2, 1, 1, 1, 1, 1, 1, 2, 0, 3, 3, 2, 1, 1, 0, 2, 2, 2, 3, 3, 2, 2, 2, 2, 2, 2, 1, 2, 2, 2, 2, 2, 2, 2, 2, 2, 2, 2, 2, 2, 2, 2, 2, 2, 2, 2, 2, 2, 2, 2, 2, 2, 2, 2, 2, 2, 2, 1, 3, 2, 2, 2, 2, 1, 1, 1, 2, 2, 1, 2, 0, 0, 2, 2, 2, 2, 2, 2, 2, 2, 2, 2, 2, 0, 0, 2, 2, 2, 2, 2, 2, 2, 2, 2, 2, 2, 2, 1, 3, 2, 1, 1, 1, 3, 2, 2, 2, 2, 2, 2, 2, 2, 3, 3, 3, 3, 1, 3, 2, 2, 2, 0, 2, 2, 2, 2, 2, 2, 3, 1, 1, 3, 2, 1, 0, 3, 2, 2, 2, 2, 2, 1, 1, 3, 1, 3, 3, 1, 3, 2, 2, 2, 1, 1, 3, 2, 2, 3, 1, 3, 2, 1, 2, 2, 2, 2, 2, 1, 1, 3, 2, 3, 2, 2, 2, 2, 2, 1, 1, 1, 2, 2, 2, 2, 2, 3, 3, 3, 3, 3, 3, 3, 3, 3, 3, 3, 3, 3, 3, 3, 3, 3, 3, 3, 3, 3, 3, 3, 3, 3, 3, 3, 1, 3, 3, 3, 3, 3, 3, 3, 3, 3, 3, 3, 1, 3, 3, 3, 3, 3, 3, 3, 3, 3, 3, 3, 3, 3, 3, 3, 3, 3, 3, 3, 3, 3, 3, 3, 3, 3, 3, 3, 3, 3, 3, 3, 3, 3, 3, 3, 3, 3, 3, 3, 3, 3, 3, 3, 3, 3, 3, 3, 3, 3, 3, 3, 3, 3, 3, 3, 3, 3, 3, 3, 3, 3, 3, 3, 3, 3, 3, 3, 3, 3, 3, 3, 3, 3, 3, 3, 3, 3, 3, 3, 3, 3, 3, 3, 3, 3, 3, 3, 3, 3, 3, 3, 3, 3, 3, 3, 3, 3, 3, 3, 3, 3, 3, 3, 0, 3, 3, 3, 3, 3, 3, 3, 3, 3, 3, 3, 3, 3, 3, 3, 3, 3, 3, 3, 3, 3, 3, 3, 3, 3, 3, 3, 3, 3, 3, 3, 3, 3, 3, 3, 3, 3, 3, 3, 3, 3, 3, 3, 3, 3, 3, 3, 3, 3, 3, 3, 3, 3, 3, 3, 3, 3, 3, 3, 3, 3, 3, 3, 3, 3, 3, 3, 3, 3, 3, 3, 3, 3, 3, 3, 3, 3, 3, 3, 3, 3, 3, 3, 3, 3, 3, 3, 3, 3, 3, 3, 3, 3, 3, 3, 3, 3, 3, 3, 3, 3, 3, 3, 3, 3, 3, 3, 3, 3, 3, 3, 3, 3, 3, 3, 1, 3, 3, 3, 3, 3, 3, 3, 3, 3, 3, 3, 3, 3, 3, 3, 3, 3, 3, 3, 3, 3, 3, 3, 3, 0, 3, 3, 3, 3, 1, 3, 3, 3, 3, 3, 3, 3, 3, 3, 3, 3, 3, 3, 3, 3, 3, 3, 3, 3, 3, 3, 3, 3, 3, 3, 3, 3, 3, 3, 3, 3, 3, 3, 3, 3, 3, 3, 3, 3, 3, 3, 3, 3, 3, 3, 3, 3, 3, 3, 3, 3, 3, 3, 3, 3, 3, 3, 3, 3, 3, 3, 3, 3, 3, 3, 3, 3, 3, 3, 3, 3, 3, 3, 3, 3, 3, 3, 3, 0, 3, 3, 3, 3, 3, 3, 3, 3, 3, 3, 3, 3, 3, 3, 3, 3, 3, 3, 3, 3, 3, 3, 3, 3, 3, 3, 3, 3, 3, 3, 3, 3, 3, 3, 3, 3, 3, 3, 3, 3, 3, 3, 3, 3, 3, 3, 3, 3, 3, 3, 3, 3, 3, 3, 3, 3, 3, 3, 3, 3, 3, 3, 3, 3, 3, 3, 3, 3, 3, 3, 3, 3, 1, 3, 3, 3, 3, 3, 3, 3, 3, 3, 3, 3, 3, 3, 3, 3, 3, 3, 3, 3, 3, 3, 3, 3, 3, 3, 3, 3, 3, 3, 3, 3, 3, 3, 3, 3, 3, 3, 3, 3, 3, 3, 3, 3, 3, 3, 3, 3, 3, 3, 3, 3, 3, 3, 3, 3, 3, 3, 3, 3, 3, 3, 3, 3, 3, 3, 3, 3, 3, 3, 3, 3, 3, 3, 3, 3, 3, 3, 3, 3, 3, 3, 3, 3, 3, 3, 3, 3, 3, 3, 3, 3, 3, 3, 3, 3, 3, 3, 3, 3, 3, 3, 3, 3, 3, 3, 3, 3, 3, 3, 3, 3, 3, 3, 3, 3, 3, 3, 3, 3, 3, 3, 3, 3, 3, 3, 3, 3, 3, 3, 3, 3, 3, 3, 3, 3, 3, 3, 3, 3, 3, 3, 3, 3, 3, 3, 3, 3, 3, 3, 3, 3, 3, 3, 3, 3, 3, 3, 3, 3, 3, 3, 3, 3, 3, 3, 3, 3, 3, 3, 3, 3, 3, 3, 3, 3, 3, 3, 3, 3, 3, 3, 3, 3, 3, 3, 3, 3, 3, 3, 3, 3, 3, 3, 3, 3, 3, 3, 3, 3, 3, 3, 3, 3, 3, 3, 3, 3, 3, 3, 3, 3, 3, 3, 3, 3, 3, 3, 3, 3, 3, 3, 3, 3, 3, 3, 3, 3, 3, 3, 3, 3, 3, 3, 3, 3, 3, 3, 3, 3, 3, 3, 3, 3, 3, 3, 3, 3, 3, 3, 3, 3, 3, 3, 3, 3, 3, 3, 3, 3, 3, 3, 3, 3, 3, 3, 3, 3, 3, 3, 3, 3, 3, 3, 3, 3, 3, 3, 3, 3, 3, 3, 3, 3, 3, 3, 3, 3, 3, 3, 3, 3, 3, 3, 3, 3, 3, 3, 3, 3, 3, 3, 3, 3, 3, 3, 3, 3, 3, 3, 3, 3, 3, 3, 3, 3, 3, 3, 3, 3, 3, 3, 3, 3, 3, 3, 3, 3, 3, 3, 3, 3, 3, 3, 3, 3, 3, 3, 3, 3, 3, 3, 3, 3, 3, 3, 3, 3, 3, 3, 3, 3, 3, 3, 3, 3, 3, 3, 3, 3, 3, 3, 3, 3, 3, 3, 3, 3, 3, 3, 3, 3, 3, 3, 3, 3, 3, 3, 3, 3, 3, 3, 3, 3, 3, 3, 3, 3, 3, 3, 3, 3, 3, 3, 3, 3, 3, 3, 3, 3, 3, 3, 3, 3, 3, 3, 3, 3, 3, 3, 3, 3, 3, 3, 3, 3, 3, 3, 3, 3, 3, 3, 3, 3, 3, 3, 3, 3, 3, 3, 3, 3, 3, 3, 3, 3, 3, 3, 3, 3, 3, 3, 3, 3, 3, 3, 3, 3, 3, 3, 3, 3, 3, 3, 3, 3, 3, 3, 3, 3, 3, 3, 3, 3, 3, 3, 3, 3, 3, 3, 3, 3, 3, 3, 3, 3, 3, 3, 3, 3, 3, 3, 3, 3, 3, 3, 3, 3, 3, 3, 3, 3, 3, 3, 3, 3, 3, 3, 3, 1, 3, 3, 3, 3, 3, 3, 3, 3, 3, 3, 3, 3, 3, 3, 3, 3, 3, 3, 3, 3, 3, 3, 3, 3, 3, 3, 3, 3, 3, 3, 3, 3, 3, 3, 3, 3, 3, 3, 3, 3, 3, 3, 3, 3, 3, 3, 3, 3, 3, 3, 3, 3, 3, 3, 3, 3, 3, 3, 3, 3, 3, 3, 3, 3, 3, 3, 3, 3, 3, 3, 3, 3, 3, 3, 3, 3, 3, 3, 3, 3, 3, 3, 3, 3, 3, 3, 3, 3, 3, 3, 3, 3, 3, 3, 3, 3, 3, 3, 3, 3, 3, 3, 3, 3, 3, 3, 3, 3, 3, 3, 3, 3, 3, 3, 3, 3, 3, 3, 3, 3, 3, 3, 3, 3, 3, 3, 3, 3, 3, 3, 3, 3, 3, 3, 3, 3, 3, 3, 3, 3, 3, 3, 3, 3, 3, 3, 3, 3, 3, 3, 3, 3, 3, 3, 3, 3, 3, 3, 3, 3, 3, 3, 3, 3, 3, 3, 3, 3, 3, 3, 3, 3, 3, 3, 3, 3, 3, 3, 3, 3, 3, 3, 3, 3, 3, 3, 3, 3, 3, 3, 3, 3, 3, 3, 3, 3, 3, 3, 3, 3, 3, 3, 3, 3, 3, 3, 3, 3, 3, 3, 3, 3, 3, 3, 3, 3, 3, 3, 3, 3, 3, 3, 3, 3, 3, 3, 3, 3, 3, 3, 3, 3, 3, 3, 3, 3, 3, 3, 3, 3, 3, 3, 3, 3, 3, 3, 3, 3, 3, 3, 3, 3, 3, 3, 3, 3, 3, 3, 3, 3, 3, 3, 3, 3, 3, 3, 3, 3, 3, 3, 3, 3, 3, 3, 3, 3, 3, 3, 3, 3, 3, 3, 3, 3, 3, 3, 0, 3, 3, 3, 3, 3, 3, 3, 3, 3, 3, 3, 3, 3, 3, 3, 3, 3, 3, 3, 3, 3, 3, 3, 3, 3, 3, 3, 3, 3, 3, 3, 3, 3, 3, 3, 3, 3, 3, 3, 3, 3, 3, 3, 3, 3, 3, 3, 3, 3, 3, 3, 3, 3, 3, 3, 3, 3, 3, 3, 3, 3, 3, 3, 3, 3, 3, 3, 3, 3, 3, 3, 3, 3, 3, 3, 3, 3, 3, 3, 3, 3, 3, 3, 3, 3, 3, 3, 3, 3, 3, 3, 3, 3, 3, 3, 3, 3, 3, 3, 3, 3, 3, 3, 3, 3, 3, 3, 3, 3, 3, 3, 3, 3, 3, 3, 3, 3, 3, 3, 3, 3, 3, 3, 3, 3, 3, 3, 3, 3, 3, 3, 3, 3, 3, 3, 3, 3, 3, 3, 3, 3, 3, 3, 0, 3, 3, 3, 3, 0, 3, 0, 3, 3, 3, 3, 3, 3, 3, 3, 3, 3, 3, 3, 0, 3, 3, 3, 3, 3, 3, 3, 3, 3, 3, 3, 3, 3, 3, 3, 3, 3, 3, 3, 3, 3, 3, 3, 3, 3, 3, 3, 3, 3, 3, 3, 3, 3, 3, 3, 3, 3, 3, 3, 3, 3, 3, 3, 3, 3, 3, 3, 3, 3, 3, 3, 3, 3, 3, 3, 3, 3, 3, 3, 3, 3, 3, 3, 3, 3, 3, 3, 3, 3, 3, 3, 3, 3, 3, 3, 3, 3, 3, 3, 3, 3, 3, 3, 3, 3, 3, 3, 3, 3, 3, 3, 3, 3, 3, 3, 3, 3, 3, 3, 3, 3, 3, 3, 3, 3, 3, 3, 3, 3, 3, 3, 3, 3, 3, 3, 3, 3, 3, 3, 3, 3, 3, 3, 3, 3, 3, 3, 3, 3, 3, 3, 3, 3, 3, 3, 3, 3, 3, 3, 3, 3, 3, 3, 3, 3, 3, 3, 3, 3, 3, 3, 3, 3, 3, 3, 3, 3, 3, 3, 3, 3, 3, 3, 3, 3, 3, 3, 3, 3, 3, 3, 3, 3, 3, 3, 3, 3, 3, 3, 3, 3, 3, 3, 3, 3, 3, 3, 3, 3, 3, 3, 3, 3, 3, 3, 3, 3, 3, 3, 3, 3, 3, 3, 3, 3, 3, 3, 3, 3, 3, 3, 3, 3, 3, 3, 3, 3, 3, 3, 1, 3, 3, 3, 3, 3, 3, 3, 3, 3, 3, 3, 3, 3, 3, 3, 3, 3, 3, 3, 3, 3, 3, 3, 3, 3, 3, 3, 3, 3, 3, 3, 3, 3, 3, 3, 3, 3, 3, 3, 3, 3, 3, 3, 3, 3, 3, 3, 3, 3, 3, 3, 3, 3, 3, 3, 3, 3, 3, 3, 3, 3, 3, 3, 3, 3, 3, 3, 3, 3, 3, 3, 3, 3, 3, 3, 3, 3, 3, 3, 3, 3, 3, 3, 3, 3, 3, 3, 3, 3, 3, 3, 3, 3, 3, 3, 3, 3, 3, 3, 3, 3, 3, 3, 3, 3, 3, 3, 3, 3, 3, 3, 3, 3, 3, 3, 3, 3, 3, 3, 3, 3, 3, 3, 3, 3, 3, 3, 3, 3, 3, 3, 3, 3, 3, 3, 3, 3, 3, 3, 3, 3, 3, 3, 3, 3, 3, 3, 3, 3, 3, 3, 3, 3, 3, 3, 3, 3, 3, 3, 3, 3, 3, 3, 3, 3, 3, 3, 3, 3, 3, 3, 3, 3, 3, 3, 3, 3, 3, 3, 3, 3, 3, 3, 3, 3, 3, 3, 3, 3, 3, 3, 3, 3, 3, 3, 3, 3, 3, 3, 3, 3, 3, 3, 3, 3, 3, 3, 3, 3, 3, 3, 3, 3, 3, 3, 3, 3, 3, 3, 3, 3, 3, 3, 3, 3, 3, 3, 3, 3, 3, 3, 3, 3, 3, 3, 3, 3, 3, 3, 3, 3, 3, 3, 3, 3, 3, 3, 3, 3, 3, 3, 3, 3, 3, 3, 3, 3, 3, 3, 3, 3, 3, 3, 3, 3, 3, 3, 0, 3, 3, 3, 3, 3, 3, 3, 3, 3, 3, 3, 3, 3, 3, 3, 3, 3, 3, 3, 3, 3, 3, 3, 3, 3, 3, 3, 3, 3, 3, 3, 3, 3, 3, 3, 3, 3, 3, 3, 3, 3, 3, 3, 3, 3, 3, 3, 3, 3, 3, 3, 3, 3, 3, 3, 3, 3, 3, 0, 3, 3, 3, 3, 3, 3, 3, 3, 3, 3, 3, 3, 3, 3, 3, 3, 3, 3, 3, 3, 0, 3, 3, 3, 3, 3, 3, 3, 3, 3, 3, 3, 3, 3, 3, 3, 3, 3, 3, 3, 3, 3, 3, 3, 3, 3, 3, 3, 3, 3, 3, 3, 3, 3, 3, 3, 3, 3, 3, 3, 3, 3, 3, 0, 1, 1, 3, 1, 0, 3, 0, 1, 1, 0, 3, 1, 1, 1, 3, 0, 0, 0, 0, 0, 1, 1, 3, 0, 0, 1, 1, 0, 3, 0, 0, 0, 3, 3, 1, 1, 1, 1, 1, 0, 0, 3, 1, 0, 0, 3, 1, 0, 3, 1, 1, 3, 3, 3, 1, 3, 1, 1, 0, 0, 1, 3, 3, 1, 1, 1, 0, 3, 3, 0, 1, 3, 3, 0, 1, 1, 3, 0, 3, 0, 3, 3, 3, 1, 0, 0, 3, 3, 1, 0, 3, 0, 0, 1, 3, 1, 1, 1, 3, 1, 3, 3, 1, 0, 0, 1, 3, 3, 1, 1, 3, 0, 3, 3, 0, 1, 1, 0, 0, 1, 3, 1, 0, 0, 1, 0, 3, 3, 1, 3, 3, 1, 0, 1, 0, 0, 0, 3, 0, 0, 0, 3, 0, 3, 1, 1, 3, 1, 3, 1, 0, 0, 3, 0, 3, 1, 1, 0, 0, 3, 3, 3, 1, 3, 0, 0, 1, 0, 0, 0, 0, 0, 0, 3, 3, 0, 0, 0, 0, 1, 0, 3, 0, 1, 0, 0, 1, 0, 0, 1, 1, 1, 0, 3, 0, 1, 0, 1, 3, 1, 0, 0, 3, 1, 0, 3, 1, 1, 0, 1, 0, 0, 3, 0, 1, 3, 0, 3, 0, 3, 0, 1, 1, 1, 0, 3, 0, 1, 0, 1, 0, 0, 1, 3, 0, 1, 0, 0, 0, 3, 0, 1, 3, 1, 1, 0, 0, 0, 3, 0, 3, 3, 1, 1, 0, 0, 0, 0, 1, 3, 3, 1, 3, 1, 0, 0, 3, 3, 3, 1, 0, 1, 0, 0, 0, 0, 0, 0, 0, 0, 3, 1, 1, 1, 3, 1, 0, 1, 1, 3, 3, 0, 0, 0, 3, 3, 1, 1, 3, 3, 3, 0, 0, 0, 1, 0, 0, 0, 0, 0, 1, 0, 0, 0, 3, 0, 1, 0, 1, 0, 1, 0, 3, 0, 0, 0, 0, 1, 0, 0, 1, 3, 0, 0, 1, 0, 3, 1, 0, 0, 3, 1, 0, 0, 0, 1, 1, 0, 1, 0, 3, 0, 3, 0, 3, 3, 0, 0, 0, 0, 1, 0, 3, 0, 0, 0, 0, 1, 3, 1, 1, 1, 1, 3, 0, 0, 3, 3, 1, 1, 1, 1, 3, 3, 1, 1, 1, 1, 1, 0, 0, 1, 3, 0, 3, 3, 1, 3, 1, 0, 0, 1, 3, 1, 0, 0, 0, 3, 3, 0, 1, 0, 1, 3, 1, 0, 0, 0, 1, 1, 1, 0, 3, 3, 1, 1, 0, 1, 1, 0, 3, 0, 0, 3, 1, 1, 1, 0, 1, 3, 0, 3, 3, 3, 0, 3, 3, 1, 0, 1, 0, 1, 3, 3, 3, 1, 0, 0, 3, 3, 1, 1, 1, 3, 0, 3, 0, 0, 0, 0, 3, 0, 1, 0, 1, 1, 3, 3, 0, 3, 0, 0, 1, 1, 1, 1, 0, 1, 3, 0, 3, 1, 0, 0, 3, 0, 1, 0, 1, 0, 0, 1, 1, 0, 1, 0, 3, 0, 0, 3, 0, 0, 1, 0, 1, 1, 0, 0, 1, 0, 1, 0, 3, 1, 3, 3, 3, 1, 1, 1, 3, 3, 3, 3, 1, 0, 0, 1, 3, 1, 1, 3, 1, 3, 0, 1, 3, 3, 0, 0, 3, 3, 0, 1, 0, 1, 1, 1, 3, 3, 0, 1, 3, 0, 1, 0, 1, 3, 0, 3, 0, 1, 0, 1, 0, 0, 1, 0, 0, 1, 0, 3, 3, 0, 1, 1, 0, 3, 0, 1, 0, 0, 0, 1, 1, 1, 0, 1, 0, 3, 0, 1, 1, 0, 3, 0, 1, 0, 1, 1, 1, 0, 0, 0, 3, 0, 3, 0, 0, 0, 0, 0, 1, 0, 3, 1, 3, 0, 0, 1, 0, 0, 1, 1, 3, 3, 0, 3, 3, 1, 1, 0, 1, 3, 0, 1, 0, 3, 3, 0, 3, 1, 1, 1, 1, 1, 0, 3, 0, 1, 0, 0, 0, 1, 1, 3, 0, 3, 0, 1, 1, 1, 1, 0, 0, 1, 0, 1, 3, 3, 0, 3, 0, 0, 1, 1, 1, 3, 1, 3, 0, 3, 3, 3, 0, 1, 3, 3, 1, 0, 0, 0, 0, 1, 3, 0, 0, 1, 1, 0, 0, 3, 3, 0, 1, 3, 0, 0, 3, 0, 3, 3, 3, 0, 1, 3, 3, 0, 0, 1, 3, 1, 0, 1, 0, 0, 3, 1, 3, 3, 1, 1, 0, 1, 3, 3, 1, 3, 0, 0, 1, 3, 1, 1, 0, 0, 1, 3, 3, 3, 1, 3, 0, 0, 0, 3, 1, 1, 1, 1, 0, 0, 3, 1, 0, 0, 0, 1, 3, 1, 3, 3, 1, 1, 1, 0, 3, 0, 3, 3, 0, 0, 1, 1, 3, 0, 1, 3, 0, 3, 0, 3, 3, 0, 1, 1, 1, 0, 0, 0, 1, 1, 1, 0, 0, 1, 3, 1, 1, 3, 1, 1, 0, 0, 0, 0, 0, 3, 1, 3, 0, 3, 0, 0, 1, 3, 1, 1, 1, 1, 3, 1, 0, 3, 3, 1, 0, 1, 3, 3, 3, 0, 1, 3, 0, 0, 0, 1, 1, 1, 3, 1, 1, 1, 1, 0, 0, 1, 0, 3, 1, 3, 0, 0, 1, 3, 1, 3, 0, 0, 0, 1, 3, 0, 3, 1, 3, 3, 1, 0, 0, 1, 1, 0, 0, 1, 0, 3, 0, 0, 0, 3, 0, 3, 1, 0, 0, 0, 1, 1, 0, 3, 1, 1, 3, 3, 0, 1, 3, 1, 3, 3, 0, 3, 3, 1, 3, 1, 3, 1, 0, 0, 1, 1, 0, 1, 0, 3, 1, 1, 3, 0, 3, 3, 3, 0, 0, 3, 1, 1, 3, 1, 3, 3, 1, 0, 0, 1, 1, 1, 1, 3, 3, 3, 0, 0, 1, 0, 0, 0, 3, 3, 1, 0, 3, 0, 3, 1, 3, 1, 0, 3, 3, 0, 3, 0, 1, 0, 1, 3, 1, 0, 3, 1, 3, 1, 0, 0, 3, 1, 1, 1, 1, 3, 3, 0, 0, 1, 1, 0, 1, 0, 0, 1, 0, 0, 1, 0, 1, 0, 0, 0, 0, 0, 3, 0, 0, 1, 3, 3, 1, 0, 1, 1, 0, 0, 1, 3, 0, 3, 1, 0, 0, 0, 1, 3, 0, 3, 3, 3, 0, 1, 3, 0, 1, 3, 3, 3, 1, 3, 0, 3, 1, 1, 0, 3, 1, 1, 1, 1, 1, 1, 3, 0, 0, 3, 0, 1, 1, 1, 1, 3, 1, 3, 0, 3, 1, 1, 1, 3, 1, 3, 3, 3, 1, 3, 0, 0, 0, 3, 0, 0, 3, 0, 1, 1, 1, 1, 1, 1, 3, 0, 3, 1, 0, 3, 3, 0, 0, 0, 3, 0, 1, 1, 3, 0, 3, 0, 1, 3, 3, 1, 1, 3, 3, 0, 1, 1, 1, 1, 3, 1, 0, 0, 1, 3, 0, 3, 3, 3, 1, 0, 3, 0, 3, 1, 0, 3, 0, 3, 0, 1, 0, 0, 3, 3, 1, 1, 1, 0, 3, 1, 1, 3, 1, 1, 0, 0, 0, 1, 1, 0, 0, 0, 3, 1, 3, 3, 0, 3, 0, 1, 0, 0, 3, 3, 1, 0, 0, 0, 1, 0, 3, 1, 1, 0, 3, 0, 0, 0, 0, 3, 0, 0, 0, 3, 1, 0, 1, 0, 0, 3, 3, 0, 0, 0, 0, 1, 3, 1, 3, 1, 0, 3, 0, 0, 3, 0, 0, 1, 3, 0, 3, 1, 0, 0, 1, 3, 1, 0, 0, 0, 3, 3, 0, 0, 1, 3, 1, 0, 1, 1, 0, 1, 0, 0, 0, 1, 1, 0, 1, 3, 1, 1, 1, 3, 1, 3, 1, 1, 3, 0, 3, 1, 0, 1, 1, 0, 1, 0, 3, 0, 0, 0, 3, 1, 1, 1, 1, 1, 0, 1, 1, 3, 0, 3, 3, 1, 3, 1, 3, 1, 3, 3, 0, 1, 1, 3, 1, 0, 0, 1, 1, 0, 3, 0, 0, 3, 0, 0, 3, 1, 0, 3, 0, 3, 3, 0, 3, 3, 0, 0, 0, 0, 1, 1, 1, 3, 0, 3, 3, 1, 1, 0, 1, 1, 0, 1, 3, 0, 3, 0, 3, 1, 3, 1, 0, 1, 0, 0, 0, 1, 0, 0, 1, 0, 3, 0, 0, 3, 3, 0, 3, 0, 1, 3, 1, 0, 3, 1, 0, 1, 3, 1, 1, 3, 3, 1, 1, 1, 3, 1, 3, 3, 3, 0, 3, 1, 0, 3, 0, 3, 3, 0, 1, 1, 3, 1, 3, 0, 0, 3, 3, 1, 3, 0, 1, 0, 1, 3, 3, 1, 0, 0, 0, 0, 0, 1, 1, 0, 0, 3, 0, 1, 0, 3, 0, 1, 3, 1, 1, 1, 1, 0, 0, 0, 3, 0, 0, 0, 3, 1, 1, 1, 1, 3, 0, 3, 1, 3, 1, 1, 3, 3, 3, 3, 1, 3, 0, 0, 3, 0, 3, 0, 0, 1, 0, 3, 0, 3, 1, 0, 3, 3, 1, 0, 1, 3, 3, 3, 0, 1, 0, 0, 3, 1, 1, 0, 1, 3, 1, 0, 3, 1, 0, 1, 0, 0, 1, 3, 3, 1, 1, 0, 1, 0, 1, 1, 3, 3, 0, 3, 3, 3, 1, 3, 3, 0, 3, 3, 3, 3, 0, 1, 0, 0, 0, 3, 3, 1, 1, 3, 0, 3, 0, 3, 1, 1, 1, 1, 1, 0, 0, 3, 3, 1, 0, 0, 1, 0, 3, 1, 3, 1, 1, 1, 0, 1, 1, 3, 0, 1, 3, 3, 0, 3, 0, 1, 3, 3, 3, 0, 0, 1, 0, 0, 0, 1, 0, 0, 1, 0, 0, 1, 3, 0, 0, 3, 3, 0, 3, 1, 0, 1, 0, 0, 0, 3, 3, 3, 0, 0, 0, 3, 3, 0, 1, 0, 0, 1, 3, 3, 3, 1, 0, 1, 3, 3, 0, 1, 0, 0, 1, 0, 1, 0, 3, 1, 3, 1, 1, 3, 3, 0, 3, 0, 1, 0, 1, 0, 0, 1, 1, 3, 3, 0, 3, 0, 0, 3, 0, 3, 1, 0, 3, 0, 1, 0, 3, 3, 3, 0, 0, 0, 1, 0, 3, 0, 1, 3, 3, 1, 1, 0, 3, 3, 3, 1, 0, 1, 0, 1, 3, 0, 3, 3, 1, 0, 3, 0, 3, 3, 1, 1, 1, 1, 0, 0, 3, 3, 3, 1, 3, 1, 3, 1, 3, 3, 1, 1, 1, 3, 3, 1, 3, 3, 0, 1, 0, 0, 0, 0, 0, 1, 1, 0, 1, 1, 1, 3, 0, 0, 0, 1, 1, 1, 1, 3, 0, 3, 3, 3, 0, 0, 0, 0, 0, 1, 3, 0, 0, 3, 3, 1, 0, 0, 3, 3, 3, 0, 0, 1, 1, 1, 1, 0, 0, 3, 0, 3, 1, 0, 0, 0, 3, 3, 1, 3, 0, 0, 3, 1, 3, 3, 1, 3, 1, 3, 0, 0, 3, 1, 3, 3, 3, 1, 1, 3, 3, 3, 3, 3, 0, 3, 3, 0, 0, 0, 3, 0, 1, 0, 1, 1, 0, 3, 1, 3, 0, 0, 1, 3, 0, 1, 0, 3, 0, 0, 1, 0, 0, 1, 3, 3, 0, 0, 1, 1, 1, 1, 1, 0, 3, 0, 1, 3, 0, 3, 3, 1, 3, 1, 1, 3, 0, 1, 0, 0, 3, 0, 3, 3, 1, 3, 0, 3, 3, 1, 3, 0, 1, 1, 0, 0, 0, 0, 0, 1, 0, 1, 3, 3, 1, 3, 1, 0, 3, 3, 1, 1, 0, 1, 1, 1, 0, 1, 1, 1, 1, 0, 0, 3, 3, 1, 1, 3, 3, 0, 3, 1, 1, 0, 0, 1, 0, 0, 3, 3, 0, 0, 3, 3, 3, 0, 1, 3, 3, 1, 3, 1, 1, 0, 0, 3, 3, 1, 0, 1, 3, 1, 1, 0, 3, 1, 1, 0, 1, 0, 0, 0, 1, 0, 3, 0, 1, 1, 3, 1, 1, 0, 0, 3, 3, 3, 0, 1, 1, 0, 0, 0, 0, 0, 3, 3, 1, 3, 3, 0, 0, 0, 0, 0, 0, 0, 0, 0, 0, 0, 0, 0, 3, 0, 0, 0, 0, 0, 3, 3, 3, 3, 0, 1, 0, 0, 3, 0, 3, 0, 3, 3, 3, 3, 3, 0, 3, 0, 3, 3, 0, 0, 0, 0, 0, 0, 0, 1, 3, 3, 0, 0, 0, 0, 0, 1, 0, 0, 3, 3, 3, 3, 0, 0, 0, 0, 3, 0, 0, 0, 3, 0, 0, 3, 0, 0, 3, 0, 0, 0, 3, 0, 0, 0, 0, 0, 0, 3, 0, 0, 0, 1, 3, 3, 0, 3, 3, 3, 0, 0, 3, 3, 0, 3, 3, 3, 0, 3, 3, 0, 3, 0, 0, 0, 3, 3, 0, 0, 1, 3, 1, 1, 3, 0, 0, 0, 3, 3, 3, 0, 3, 0, 3, 3, 0, 3, 3, 0, 0, 3, 3, 0, 3, 0, 0, 3, 0, 3, 3, 0, 0, 3, 3, 3, 0, 3, 0, 3, 3, 3, 3, 0, 3, 0, 3, 3, 0, 0, 3, 3, 3, 3, 3, 3, 3, 1, 3, 0, 3, 3, 3, 3, 3, 3, 3, 3, 3, 3, 3, 0, 1, 0, 3, 0, 0, 3, 3, 3, 3, 0, 3, 3, 1, 0, 0, 0, 0, 1, 0, 0, 3, 3, 0, 0, 3, 0, 3, 0, 3, 1, 0, 0, 3, 3, 3, 3, 3, 3, 3, 3, 0, 0, 0, 3, 3, 3, 0, 3, 3, 0, 3, 3, 1, 0, 3, 0, 0, 0, 3, 3, 1, 3, 3, 3, 0, 0, 0, 3, 3, 0, 0, 0, 3, 3, 3, 3, 3, 0, 3, 0, 3, 3, 0, 0, 3, 3, 3, 0, 0, 3, 0, 3, 0, 0, 0, 3, 3, 3, 3, 0, 0, 3, 0, 0, 0, 0, 3, 0, 3, 0, 0, 3, 3, 0, 0, 3, 0, 0, 0, 3, 3, 3, 0, 0, 0, 0, 3, 0, 3, 0, 3, 0, 0, 0, 3, 3, 0, 0, 0, 3, 0, 3, 1, 0, 3, 3, 3, 3, 0, 0, 0, 0, 3, 0, 3, 3, 3, 0, 0, 1, 0, 3, 3, 3, 3, 0, 0, 0, 3, 3, 0, 0, 0, 3, 3, 0, 0, 0, 3, 0, 0, 3, 0, 0, 1, 3, 0, 3, 3, 0, 3, 3, 0, 1, 0, 3, 0, 3, 0, 3, 0, 0, 0, 0, 3, 3, 3, 3, 0, 0, 0, 0, 0, 0, 3, 0, 3, 3, 1, 3, 3, 3, 0, 0, 3, 0, 0, 3, 0, 0, 0, 0, 3, 0, 3, 0, 1, 3, 3, 0, 0, 0, 0, 3, 0, 3, 0, 0, 3, 3, 3, 3, 0, 1, 3, 0, 3, 0, 3, 3, 0, 3, 0, 3, 3, 0, 3, 3, 3, 3, 3, 3, 3, 0, 3, 3, 0, 3, 0, 0, 3, 0, 0, 3, 3, 0, 0, 3, 0, 1, 0, 0, 3, 3, 3, 3, 0, 0, 0, 3, 3, 0, 0, 3, 0, 3, 0, 0, 3, 0, 3, 3, 0, 0, 0, 0, 0, 3, 3, 3, 3, 3, 3, 3, 0, 3, 0, 0, 3, 0, 3, 0, 0, 3, 3, 3, 3, 3, 3, 3, 3, 0, 3, 0, 0, 3, 3, 0, 0, 0, 0, 0, 3, 0, 3, 0, 0, 3, 3, 3, 3, 3, 0, 3, 3, 3, 3, 3, 0, 0, 3, 0, 3, 3, 0, 3, 0, 0, 0, 3, 0, 3, 0, 0, 3, 3, 0, 3, 3, 3, 3, 3, 0, 0, 3, 0, 3, 3, 0, 0, 3, 0, 0, 3, 0, 3, 3, 3, 0, 0, 3, 0, 0, 0, 0, 3, 0, 3, 0, 0, 3, 0, 3, 3, 0, 3, 0, 3, 3, 0, 0, 3, 0, 0, 3, 0, 0, 0, 0, 3, 0, 0, 0, 0, 0, 0, 0, 3, 3, 3, 0, 0, 0, 0, 3, 3, 0, 0, 3, 0, 0, 0, 3, 3, 3, 1, 3, 3, 0, 3, 0, 3, 3, 0, 3, 0, 3, 0, 3, 1, 3, 0, 0, 0, 3, 0, 0, 0, 0, 0, 3, 3, 0, 3, 3, 3, 3, 0, 3, 3, 0, 0, 3, 0, 3, 0, 0, 0, 3, 0, 3, 3, 0, 3, 0, 3, 3, 0, 3, 3, 0, 3, 3, 3, 3, 3, 0, 0, 0, 0, 0, 0, 3, 3, 0, 0, 0, 3, 3, 1, 0, 3, 1, 3, 3, 0, 0, 0, 1, 0, 3, 0, 3, 0, 3, 3, 0, 3, 0, 3, 0, 3, 0, 3, 3, 0, 3, 0, 0, 0, 0, 0, 0, 0, 0, 0, 0, 0, 0, 0, 0, 0, 0, 0, 0, 0, 0, 0, 0, 0, 0, 0, 0, 0, 0, 0, 0, 0, 0, 0, 0, 0, 0, 0, 0, 0, 0, 0, 0, 0, 0, 0, 0, 0, 0, 0, 0, 3, 0, 3, 0, 3, 3, 3, 3, 0, 0, 3, 3, 3, 3, 3, 0, 3, 0, 3, 3, 3, 0, 3, 3, 1, 0, 3, 3, 3, 0, 3, 3, 3, 3, 3, 3, 0, 0, 3, 3, 3, 3, 0, 3, 0, 3, 3, 3, 3, 3, 0, 3, 0, 3, 3, 0, 3, 3, 3, 3, 0, 3, 3, 3, 3, 3, 3, 3, 3, 0, 3, 3, 3, 0, 1, 0, 3, 3, 3, 0, 3, 3, 3, 3, 0, 3, 0, 3, 3, 0, 0, 3, 3, 0, 3, 0, 1, 3, 0, 0, 3, 0, 3, 3, 3, 0, 0, 3, 3, 0, 0, 3, 3, 3, 0, 3, 3, 1, 3, 3, 3, 3, 3, 3, 3, 3, 3, 3, 3, 3, 0, 3, 0, 0, 3, 3, 0, 0, 0, 3, 1, 3, 0, 3, 3, 3, 3, 3, 3, 3, 3, 3, 3, 0, 3, 3, 0, 0, 0, 3, 3, 0, 0, 0, 0, 3, 3, 3, 0, 3, 3, 0, 0, 3, 3, 0, 3, 0, 3, 3, 0, 3, 3, 0, 3, 0, 0, 1, 3, 3, 3, 0, 3, 0, 3, 3, 0, 3, 3, 0, 0, 0, 3, 3, 0, 3, 3, 0, 3, 0, 3, 3, 0, 3, 3, 3, 3, 3, 3, 3, 3, 0, 0, 3, 3, 3, 0, 0, 0, 3, 3, 3, 3, 3, 3, 0, 0, 3, 3, 3, 3, 3, 3, 0, 0, 3, 0, 3, 0, 3, 0, 3, 3, 3, 0, 1, 0, 3, 0, 3, 3, 0, 0, 3, 0, 0, 1, 3, 3, 0, 3, 3, 3, 3, 3, 0, 3, 0, 3, 3, 3, 3, 3, 0, 3, 0, 3, 0, 0, 0, 3, 0, 3, 3, 3, 0, 3, 3, 3, 3, 3, 3, 3, 3, 3, 3, 0, 3, 0, 3, 3, 3, 3, 0, 0, 1, 0, 0, 3, 3, 1, 3, 0, 0, 3, 3, 0, 0, 3, 3, 0, 0, 0, 0, 0, 0, 3, 3, 3, 0, 3, 1, 3, 3, 3, 3, 0, 3, 3, 0, 0, 0, 3, 1, 0, 3, 0, 3, 3, 3, 1, 3, 3, 0, 3, 0, 3, 0, 3, 3, 3, 0, 3, 1, 3, 3, 3, 0, 3, 3, 0, 3, 3, 0, 3, 0, 0, 3, 3, 3, 3, 1, 3, 3, 0, 0, 0, 3, 3, 3, 3, 3, 3, 0, 0, 0, 0, 0, 3, 3, 0, 3, 3, 3, 0, 3, 0, 3, 3, 3, 3, 3, 0, 3, 3, 0, 0, 3, 3, 3, 3, 3, 3, 3, 3, 3, 3, 3, 3, 3, 0, 0, 3, 0, 3, 3, 3, 3, 3, 3, 0, 3, 3, 3, 3, 3, 3, 3, 3, 0, 1, 3, 0, 0, 3, 3, 3, 3, 3, 0, 3, 3, 3, 3, 0, 3, 3, 3, 0, 0, 0, 3, 3, 0, 0, 3, 3, 0, 1, 3, 3, 3, 3, 0, 3, 0, 3, 1, 3, 0, 0, 3, 0, 3, 0, 3, 0, 3, 3, 3, 3, 0, 3, 3, 3, 3, 0, 3, 0, 0, 3, 1, 0, 0, 0, 3, 3, 3, 0, 3, 0, 3, 0, 0, 3, 3, 0, 3, 3, 0, 3, 3, 0, 0, 3, 3, 0, 3, 3, 1, 0, 3, 3, 3, 3, 3, 3, 3, 3, 3, 3, 3, 1, 0, 3, 3, 3, 3, 1, 3, 3, 3, 3, 3, 3, 3, 3, 3, 3, 3, 3, 3, 0, 3, 0, 3, 3, 3, 3, 3, 3, 3, 3, 1, 3, 3, 3, 0, 3, 3, 3, 3, 3, 0, 3, 3, 0, 3, 3, 3, 3, 3, 0, 1, 3, 0, 3, 0, 0, 0, 3, 3, 0, 3, 3, 3, 3, 3, 3, 3, 3, 3, 0, 3, 3, 3, 3, 3, 3, 3, 0, 0, 0, 0, 0, 3, 3, 0, 3, 3, 3, 0, 3, 0, 3, 3, 3, 3, 3, 3, 1, 3, 3, 0, 0, 3, 0, 3, 3, 3, 3, 3, 3, 0, 3, 3, 0, 3, 0, 3, 3, 3, 3, 3, 3, 3, 0, 3, 3, 0, 3, 3, 3, 3, 3, 1, 0, 0, 1, 0, 3, 0, 0, 0, 3, 3, 3, 3, 3, 3, 0, 3, 3, 0, 3, 3, 0, 0, 0, 3, 3, 3, 3, 0, 3, 3, 3, 3, 0, 3, 3, 3, 0, 3, 3, 0, 0, 0, 3, 3, 3, 3, 0, 3, 3, 3, 0, 3, 3, 3, 3, 3, 3, 0, 3, 3, 3, 3, 0, 3, 3, 3, 3, 1, 3, 3, 3, 3, 3, 3, 3, 3, 3, 3, 3, 0, 3, 0, 3, 3, 0, 1, 0, 0, 3, 3, 3, 3, 3, 3, 3, 3, 0, 3, 0, 3, 3, 3, 3, 3, 0, 0, 0, 0, 3, 3, 0, 3, 3, 3, 3, 3, 3, 3, 3, 3, 3, 3, 3, 0, 3, 0, 0, 0, 0, 0, 0, 3, 0, 0, 3, 3, 3, 3, 3, 3, 3, 3, 3, 3, 1, 0, 3, 3, 3, 0, 3, 0, 0, 3, 0, 0, 0, 3, 3, 0, 3, 3, 3, 1, 3, 0, 3, 0, 3, 3, 3, 3, 3, 0, 3, 3, 3, 3, 3, 3, 0, 3, 3, 0, 0, 0, 3, 0, 3, 3, 3, 3, 3, 3, 3, 3, 3, 3, 3, 3, 3, 3, 3, 0, 3, 3, 3, 3, 3, 3, 3, 3, 3, 3, 3, 3, 3, 3, 3, 3, 0, 0, 0, 3, 3, 3, 3, 3, 3, 3, 3, 3, 3, 3, 3, 3, 3, 3, 3, 3, 0, 0, 3, 3, 0, 0, 3, 3, 0, 3, 3, 3, 3, 3, 0, 3, 3, 0, 3, 3, 3, 3, 3, 3, 0, 3, 3, 1, 0, 1, 3, 3, 3, 3, 1, 3, 3, 0, 3, 3, 0, 0, 3, 3, 3, 3, 0, 3, 3, 3, 3, 3, 3, 3, 3, 3, 3, 3, 0, 3, 3, 3, 3, 3, 3, 1, 3, 0, 0, 1, 3, 0, 3, 3, 3, 3, 0, 0, 0, 0, 0, 0, 0, 0, 0, 0, 0, 0, 0, 0, 0, 0, 0, 0, 0, 0, 0, 0, 0, 0, 0, 0, 0, 0, 0, 0, 0, 0, 0, 0, 0, 0, 0, 0, 0, 0, 0, 0, 0, 0, 0, 0, 0, 0, 0, 0, 0, 0, 0, 0, 0, 0, 0, 0, 0, 0, 0, 0, 0, 0, 0, 0, 0, 0, 0, 0, 0, 0, 0, 0, 0, 0, 0, 0, 0, 0, 0, 0, 0, 0, 0, 0, 0, 0, 0, 0, 0, 0, 0, 0, 0, 0, 0, 0, 0, 0, 0, 0, 0, 0, 0, 0, 0, 0, 0, 0, 0, 0, 0, 0, 0, 0, 0, 0, 0, 0, 0, 0, 0, 0, 0, 0, 0, 0, 0, 0, 0, 0, 0, 0, 0, 0, 0, 0, 0, 0, 0, 0, 0, 0, 0, 0, 0, 0, 0, 0, 0, 0, 0, 0, 0, 0, 0, 0, 0, 0, 0, 0, 0, 0, 0, 0, 0, 0, 0, 0, 0, 0, 0, 0, 0, 0, 0, 0, 0, 0, 1, 1, 0, 0, 0, 0, 1, 1, 1, 1, 1, 0, 0, 0, 0, 1, 1, 3, 3, 1, 0, 0, 1, 1, 1, 1, 0, 1, 0, 0, 1, 1, 3, 0, 0, 1, 0, 0, 1, 0, 0, 1, 1, 1, 0, 1, 1, 1, 1, 0, 0, 1, 0, 1, 1, 1, 1, 1, 1, 1, 0, 0, 0, 0, 0, 0, 0, 1, 3, 0, 0, 1, 0, 1, 3, 0, 0, 0, 0, 1, 3, 3, 3, 0, 1, 1, 0, 1, 1, 1, 1, 0, 3, 1, 1, 1, 1, 1, 1, 3, 1, 3, 1, 1, 1, 1, 1, 1, 0, 1, 0, 0, 1, 0, 1, 1, 1, 0, 0, 1, 1, 1, 0, 1, 0, 1, 1, 0, 0, 1, 1, 1, 1, 1, 0, 0, 0, 1, 1, 0, 1, 1, 0, 1, 1, 1, 1, 0, 1, 0, 1, 0, 0, 0, 1, 3, 0, 1, 0, 1, 1, 1, 0, 1, 0, 0, 1, 1, 3, 3, 1, 1, 1, 0, 1, 0, 0, 0, 1, 0, 1, 3, 0, 0, 0, 1, 1, 1, 1, 0, 0, 1, 1, 1, 1, 1, 0, 1, 1, 3, 0, 0, 0, 3, 0, 1, 1, 1, 1, 0, 0, 1, 0, 0, 0, 1, 1, 1, 0, 1, 0, 1, 1, 0, 1, 0, 1, 1, 0, 0, 0, 1, 0, 1, 1, 0, 0, 1, 1, 1, 0, 0, 1, 1, 0, 1, 1, 1, 1, 1, 0, 0, 0, 0, 1, 1, 0, 1, 1, 1, 0, 0, 1, 1, 1, 1, 0, 0, 0, 1, 0, 1, 0, 0, 1, 1, 1, 0, 1, 1, 0, 1, 0, 1, 1, 1, 0, 1, 0, 1, 1, 0, 1, 0, 1, 3, 1, 0, 0, 1, 0, 0, 0, 0, 1, 1, 1, 1, 0, 0, 1, 0, 0, 0, 0, 1, 3, 0, 0, 0, 0, 1, 0, 1, 0, 1, 0, 1, 0, 1, 0, 0, 1, 1, 0, 0, 1, 1, 1, 0, 1, 0, 1, 3, 1, 0, 1, 1, 1, 0, 1, 1, 1, 1, 0, 0, 1, 1, 3, 1, 0, 1, 1, 0, 0, 0, 3, 1, 1, 1, 0, 0, 1, 0, 0, 0, 1, 0, 0, 0, 1, 1, 1, 0, 1, 0, 1, 1, 0, 0, 0, 1, 1, 1, 1, 0, 1, 1, 1, 1, 1, 0, 0, 0, 0, 0, 1, 1, 0, 0, 1, 1, 0, 0, 1, 0, 1, 1, 1, 1, 0, 1, 1, 1, 0, 1, 1, 1, 0, 0, 0, 0, 0, 0, 1, 1, 0, 1, 0, 0, 1, 0, 0, 1, 1, 1, 1, 0, 0, 0, 1, 0, 1, 1, 1, 1, 0, 1, 0, 1, 0, 1, 0, 0, 1, 0, 1, 1, 1, 1, 0, 1, 0, 0, 1, 1, 0, 1, 0, 1, 0, 1, 1, 1, 0, 1, 1, 0, 1, 0, 1, 1, 0, 0, 0, 1, 3, 3, 1, 0, 1, 1, 0, 0, 0, 0, 0, 0, 1, 0, 1, 0, 1, 3, 1, 1, 0, 1, 1, 0, 3, 1, 1, 0, 0, 1, 0, 1, 1, 0, 1, 1, 0, 0, 0, 0, 1, 0, 1, 1, 0, 0, 1, 0, 0, 0, 1, 0, 1, 0, 0, 1, 3, 1, 1, 1, 0, 0, 1, 1, 0, 1, 1, 1, 1, 0, 1, 1, 1, 0, 0, 0, 1, 1, 1, 0, 0, 1, 0, 0, 0, 0, 0, 1, 3, 0, 0, 1, 0, 1, 1, 0, 0, 1, 1, 1, 1, 1, 0, 0, 0, 0, 1, 1, 1, 1, 0, 0, 1, 1, 1, 1, 0, 1, 1, 0, 1, 0, 0, 1, 1, 0, 0, 1, 1, 0, 0, 0, 1, 1, 3, 0, 1, 1, 0, 0, 1, 1, 0, 1, 1, 0, 1, 0, 1, 0, 0, 1, 0, 1, 1, 1, 1, 3, 1, 1, 1, 0, 0, 1, 0, 0, 1, 1, 0, 0, 1, 1, 0, 0, 1, 0, 0, 0, 1, 1, 1, 1, 1, 1, 1, 0, 1, 1, 1, 1, 1, 0, 0, 0, 0, 0, 0, 1, 1, 1, 1, 0, 1, 1, 1, 1, 1, 1, 0, 0, 0, 1, 0, 1, 0, 1, 1, 0, 0, 1, 0, 0, 0, 1, 0, 3, 1, 0, 0, 0, 0, 1, 1, 1, 1, 1, 0, 0, 1, 0, 0, 1, 1, 1, 1, 1, 1, 0, 1, 1, 1, 1, 0, 1, 1, 3, 0, 1, 1, 1, 0, 0, 0, 0, 0, 0, 1, 0, 1, 1, 0, 1, 0, 0, 1, 1, 1, 0, 0, 1, 1, 0, 0, 1, 1, 0, 1, 0, 0, 0, 1, 0, 0, 0, 1, 0, 0, 1, 1, 1, 0, 1, 1, 1, 0, 3, 1, 0, 1, 1, 0, 0, 0, 0, 1, 1, 0, 1, 0, 1, 0, 1, 1, 0, 1, 1, 1, 0, 0, 0, 1, 0, 1, 1, 0, 1, 0, 1, 0, 1, 0, 3, 1, 3, 0, 1, 0, 1, 3, 1, 0, 1, 1, 0, 3, 0, 1, 0, 0, 0, 1, 1, 1, 1, 1, 3, 1, 0, 0, 1, 1, 0, 0, 0, 0, 1, 0, 1, 1, 3, 0, 1, 1, 1, 0, 0, 1, 0, 0, 1, 0, 1, 1, 0, 0, 0, 1, 1, 1, 1, 1, 0, 0, 1, 1, 1, 0, 1, 0, 1, 1, 0, 1, 0, 1, 1, 1, 0, 1, 0, 1, 0, 0, 1, 1, 0, 1, 0, 0, 3, 1, 0, 1, 1, 0, 1, 0, 0, 1, 0, 0, 0, 0, 0, 1, 0, 0, 0, 1, 0, 1, 1, 1, 1, 0, 1, 0, 0, 0, 0, 0, 1, 1, 0, 1, 1, 0, 1, 0, 0, 1, 1, 1, 1, 1, 0, 3, 0, 1, 0, 0, 0, 1, 0, 0, 1, 1, 0, 0, 0, 0, 0, 1, 1, 1, 0, 3, 0, 1, 0, 1, 1, 0, 0, 0, 0, 0, 1, 1, 1, 0, 1, 1, 1, 1, 1, 1, 1, 1, 0, 1, 1, 1, 1, 1, 1, 1, 0, 1, 1, 1, 1, 1, 0, 0, 0, 1, 0, 0, 1, 0, 1, 1, 1, 1, 0, 1, 0, 1, 1, 1, 1, 0, 1, 1, 1, 1, 1, 1, 0, 1, 1, 1, 0, 0, 1, 3, 0, 0, 0, 0, 0, 1, 1, 0, 1, 1, 0, 1, 0, 0, 1, 1, 0, 1, 0, 1, 1, 1, 1, 1, 1, 1, 1, 0, 0, 1, 1, 1, 1, 1, 0, 0, 1, 0, 0, 1, 0, 1, 0, 1, 0, 1, 1, 1, 0, 0, 0, 1, 1, 0, 1, 0, 1, 3, 0, 0, 0, 1, 3, 0, 1, 0, 1, 1, 1, 1, 1, 1, 0, 1, 3, 0, 1, 1, 0, 1, 1, 1, 0, 1, 1, 1, 0, 0, 0, 1, 0, 1, 1, 0, 0, 0, 1, 0, 1, 3, 1, 0, 1, 0, 0, 1, 1, 1, 1, 0, 1, 1, 1, 1, 1, 1, 1, 3, 1, 0, 0, 0, 1, 0, 0, 0, 0, 1, 0, 1, 0, 1, 0, 1, 1, 0, 1, 1, 1, 1, 0, 1, 0, 0, 1, 0, 1, 3, 0, 0, 0, 1, 0, 0, 0, 1, 0, 1, 1, 0, 0, 1, 1, 0, 0, 1, 0, 0, 1, 0, 0, 0, 1, 1, 0, 1, 0, 1, 1, 0, 1, 1, 0, 0, 0, 1, 0, 0, 1, 3, 3, 1, 0, 0, 0, 1, 1, 0, 0, 1, 0, 0, 1, 3, 0, 0, 0, 0, 0, 0, 3, 0, 1, 1, 0, 0, 1, 3, 1, 1, 0, 1, 0, 0, 0, 1, 0, 0, 0, 1, 0, 0, 0, 3, 1, 1, 1, 0, 1, 1, 0, 0, 0, 0, 0, 1, 1, 1, 0, 1, 1, 1, 3, 1, 0, 3, 1, 0, 0, 1, 1, 0, 1, 1, 1, 1, 0, 1, 0, 0, 0, 0, 1, 0, 0, 0, 0, 1, 1, 0, 1, 3, 1, 0, 1, 0, 0, 1, 1, 0, 1, 0, 0, 1, 0, 1, 0, 0, 1, 0, 1, 1, 0, 1, 0, 1, 3, 1, 1, 0, 0, 1, 1, 1, 1, 1, 3, 1, 0, 1, 1, 3, 1, 0, 0, 0, 1, 0, 1, 0, 1, 1, 1, 0, 0, 1, 1, 1, 1, 0, 0, 0, 0, 1, 3, 1, 1, 1, 1, 1, 1, 0, 1, 1, 1, 0, 0, 1, 0, 1, 1, 1, 0, 0, 1, 1, 3, 1, 1, 1, 1, 1, 1, 0, 1, 3, 1, 0, 1, 1, 0, 1, 1, 1, 1, 0, 0, 0, 1, 1, 0, 0, 1, 0, 1, 0, 0, 1, 1, 0, 0, 1, 0, 1, 1, 0, 1, 1, 1, 1, 0, 1, 1, 0, 1, 1, 0, 0, 0, 1, 0, 0, 0, 0, 1, 0, 1, 1, 1, 0, 0, 1, 0, 0, 0, 1, 0, 1, 1, 1, 3, 0, 1, 0, 0, 0, 0, 1, 0, 1, 0, 1, 0, 0, 0, 1, 1, 1, 1, 0, 0, 1, 1, 1, 0, 0, 1, 0, 0, 1, 1, 1, 1, 0, 0, 1, 0, 1, 0, 0, 0, 0, 0, 0, 1, 0, 1, 1, 1, 1, 0, 0, 1, 0, 1, 1, 0, 1, 0, 1, 0, 3, 0, 0, 1, 1, 1, 0, 0, 3, 1, 1, 0, 0, 1, 0, 0, 0, 0, 1, 0, 0, 0, 1, 1, 1, 0, 1, 3, 3, 0, 1, 0, 1, 3, 1, 0, 0, 1, 0, 1, 0, 1, 0, 3, 0, 0, 1, 0, 1, 1, 0, 1, 1, 3, 1, 1, 1, 1, 1, 1, 1, 0, 0, 1, 0, 1, 1, 0, 0, 1, 0, 0, 0, 1, 1, 1, 0, 1, 1, 1, 0, 0, 0, 0, 1, 0, 0, 0, 1, 0, 1, 1, 1, 1, 1, 1, 0, 1, 1, 0, 1, 1, 1, 0, 0, 0, 1, 0, 0, 0, 1, 1, 0, 0, 0, 0, 1, 0, 0, 1, 3, 1, 1, 0, 0, 1, 1, 3, 0, 1, 0, 0, 0, 0, 1, 1, 1, 0, 0, 0, 1, 3, 1, 3, 1, 0, 1, 0, 0, 0, 1, 1, 0, 0, 1, 0, 0, 0, 1, 3, 1, 0, 1, 1, 1, 1, 3, 0, 1, 0, 0, 1, 0, 1, 1, 1, 0, 0, 1, 1, 0, 3, 1, 0, 1, 3, 1, 1, 1, 0, 1, 0, 1, 3, 0, 1, 1, 0, 1, 1, 1, 1, 1, 1, 0, 0, 0, 0, 1, 0, 1, 1, 3, 0, 1, 1, 0, 1, 0, 0, 1, 1, 3, 1, 3, 0, 0, 0, 1, 1, 0, 3, 1, 1, 0, 1, 0, 1, 0, 0, 1, 0, 1, 1, 0, 1, 0, 0, 1, 0, 0, 0, 1, 1, 1, 0, 0, 1, 1, 0, 3, 0, 1, 0, 0, 1, 1, 0, 1, 1, 0, 0, 0, 1, 1, 0, 1, 1, 3, 1, 1, 1, 1, 0, 1, 0, 0, 1, 1, 0, 0, 1, 1, 0, 0, 0, 1, 1, 0, 1, 0, 1, 3, 0, 1, 0, 0, 3, 1, 0, 0, 1, 0, 1, 0, 0, 0, 1, 0, 0, 0, 0, 1, 1, 1, 1, 1, 1, 1, 0, 1, 1, 3, 1, 0, 1, 1, 1, 0, 1, 1, 1, 0, 1, 1, 0, 1, 1, 0, 0, 0, 0, 3, 0, 1, 0, 0, 0, 1, 1, 0, 0, 1, 0, 1, 0, 0, 1, 0, 1, 0, 0, 1, 1, 0, 0, 0, 3, 0, 1, 1, 1, 1, 1, 0, 0, 0, 1, 0, 0, 1, 0, 0, 1, 1, 1, 1, 0, 1, 0, 0, 0, 1, 1, 1, 0, 0, 0, 1, 1, 0, 1, 1, 0, 1, 1, 1, 1, 0, 0, 0, 1, 0, 0, 3, 0, 1, 0, 0, 1, 1, 0, 0, 1, 1, 1], \"x0\": \" \", \"xaxis\": \"x\", \"y\": [1120406.0, 521870.0, 1942389.0, 633564.0, 1240155.0, 1493898.0, 495761.0, 964693.0, 6663394.0, 6663394.0, 6663394.0, 6663394.0, 782979.0, 1149460.0, 307651.0, 394151.0, 782979.0, 1119596.0, 579962.0, 6663394.0, 6663394.0, 6663394.0, 6663394.0, 6663394.0, 6663394.0, 6663394.0, 6663394.0, 6663394.0, 6663394.0, 6663394.0, 6663394.0, 6663394.0, 6663394.0, 6663394.0, 6663394.0, 6663394.0, 6663394.0, 6663394.0, 6663394.0, 6663394.0, 6663394.0, 6663394.0, 6663394.0, 5664579.0, 1493898.0, 6663394.0, 6663394.0, 6663394.0, 6663394.0, 673559.0, 1022800.0, 1858683.0, 673559.0, 1022800.0, 6663394.0, 1661785.0, 6663394.0, 6663394.0, 6663394.0, 6663394.0, 6663394.0, 6663394.0, 6663394.0, 6663394.0, 6663394.0, 6663394.0, 6663394.0, 6663394.0, 6663394.0, 6663394.0, 6663394.0, 6663394.0, 6663394.0, 6663394.0, 6663394.0, 6663394.0, 6663394.0, 6663394.0, 6663394.0, 6663394.0, 6663394.0, 6663394.0, 6663394.0, 6663394.0, 6663394.0, 6663394.0, 6663394.0, 6663394.0, 6663394.0, 6663394.0, 6663394.0, 6663394.0, 6663394.0, 6663394.0, 6663394.0, 6663394.0, 6663394.0, 2565124.0, 6663394.0, 6663394.0, 6663394.0, 6663394.0, 2565124.0, 6663394.0, 6663394.0, 6663394.0, 6663394.0, 6663394.0, 6663394.0, 6663394.0, 6663394.0, 6663394.0, 6663394.0, 6663394.0, 6663394.0, 6663394.0, 6663394.0, 6663394.0, 6663394.0, 6663394.0, 6663394.0, 6663394.0, 84777.0, 6663394.0, 6663394.0, 6663394.0, 6663394.0, 6663394.0, 6663394.0, 6663394.0, 6663394.0, 6663394.0, 6663394.0, 6663394.0, 6663394.0, 6663394.0, 6663394.0, 6663394.0, 6663394.0, 6663394.0, 460001.0, 6663394.0, 6663394.0, 6663394.0, 6663394.0, 6663394.0, 6663394.0, 6663394.0, 6663394.0, 6663394.0, 6663394.0, 6663394.0, 6663394.0, 6663394.0, 6663394.0, 6663394.0, 6663394.0, 6663394.0, 6663394.0, 6663394.0, 6663394.0, 6663394.0, 6663394.0, 6663394.0, 6663394.0, 6663394.0, 6663394.0, 6663394.0, 6663394.0, 6663394.0, 6663394.0, 6663394.0, 6663394.0, 6663394.0, 6663394.0, 6663394.0, 1661785.0, 1661785.0, 6663394.0, 6663394.0, 6663394.0, 6663394.0, 6663394.0, 6663394.0, 6663394.0, 6663394.0, 6663394.0, 6663394.0, 6663394.0, 6663394.0, 6663394.0, 6663394.0, 6663394.0, 6663394.0, 6663394.0, 6663394.0, 6663394.0, 6663394.0, 6663394.0, 6663394.0, 6663394.0, 6663394.0, 6663394.0, 6663394.0, 6663394.0, 6663394.0, 6663394.0, 6663394.0, 6663394.0, 6663394.0, 6663394.0, 6663394.0, 6663394.0, 6663394.0, 6663394.0, 6663394.0, 6663394.0, 6663394.0, 6663394.0, 6663394.0, 6663394.0, 6663394.0, 1240155.0, 6663394.0, 6663394.0, 6663394.0, 6663394.0, 6663394.0, 6663394.0, 6663394.0, 6663394.0, 6663394.0, 6663394.0, 6663394.0, 6663394.0, 6663394.0, 6663394.0, 6663394.0, 6663394.0, 6663394.0, 6663394.0, 6663394.0, 6663394.0, 5664579.0, 6663394.0, 6663394.0, 6663394.0, 6663394.0, 6663394.0, 6663394.0, 6663394.0, 6663394.0, 6663394.0, 6663394.0, 6663394.0, 6663394.0, 6663394.0, 6663394.0, 6663394.0, 6663394.0, 6663394.0, 1493898.0, 6663394.0, 6663394.0, 6663394.0, 6663394.0, 6663394.0, 6663394.0, 6663394.0, 6663394.0, 6663394.0, 6663394.0, 6663394.0, 6663394.0, 6663394.0, 6663394.0, 6663394.0, 6663394.0, 6663394.0, 6663394.0, 6663394.0, 6663394.0, 6663394.0, 6663394.0, 6663394.0, 6663394.0, 6663394.0, 6663394.0, 6663394.0, 6663394.0, 1942389.0, 6663394.0, 6663394.0, 6663394.0, 6663394.0, 6663394.0, 6663394.0, 6663394.0, 6663394.0, 6663394.0, 6663394.0, 782979.0, 6663394.0, 6663394.0, 6663394.0, 6663394.0, 6663394.0, 6663394.0, 6663394.0, 6663394.0, 6663394.0, 6663394.0, 6663394.0, 6663394.0, 6663394.0, 6663394.0, 6663394.0, 6663394.0, 6663394.0, 6663394.0, 6663394.0, 6663394.0, 6663394.0, 6663394.0, 6663394.0, 6663394.0, 6663394.0, 6663394.0, 6663394.0, 6663394.0, 6663394.0, 6663394.0, 6663394.0, 2565124.0, 2565124.0, 6663394.0, 6663394.0, 6663394.0, 6663394.0, 6663394.0, 6663394.0, 6663394.0, 6663394.0, 6663394.0, 6663394.0, 6663394.0, 6663394.0, 6663394.0, 6663394.0, 6663394.0, 5664579.0, 6663394.0, 1120406.0, 2565124.0, 6663394.0, 6663394.0, 6663394.0, 6663394.0, 6663394.0, 6663394.0, 6663394.0, 6663394.0, 6663394.0, 6663394.0, 6663394.0, 6663394.0, 6663394.0, 6663394.0, 6663394.0, 6663394.0, 6663394.0, 6663394.0, 6663394.0, 6663394.0, 6663394.0, 6663394.0, 6663394.0, 6663394.0, 6663394.0, 6663394.0, 6663394.0, 6663394.0, 6663394.0, 6663394.0, 6663394.0, 6663394.0, 6663394.0, 6663394.0, 6663394.0, 6663394.0, 6663394.0, 6663394.0, 6663394.0, 6663394.0, 6663394.0, 6663394.0, 6663394.0, 6663394.0, 6663394.0, 6663394.0, 6663394.0, 6663394.0, 6663394.0, 6663394.0, 6663394.0, 6663394.0, 6663394.0, 6663394.0, 6663394.0, 6663394.0, 6663394.0, 6663394.0, 6663394.0, 6663394.0, 6663394.0, 6663394.0, 6663394.0, 6663394.0, 6663394.0, 6663394.0, 6663394.0, 6663394.0, 6663394.0, 6663394.0, 6663394.0, 6663394.0, 6663394.0, 6663394.0, 6663394.0, 6663394.0, 6663394.0, 6663394.0, 6663394.0, 6663394.0, 6663394.0, 6663394.0, 6663394.0, 6663394.0, 6663394.0, 6663394.0, 1119596.0, 6663394.0, 6663394.0, 6663394.0, 6663394.0, 6663394.0, 6663394.0, 6663394.0, 6663394.0, 6663394.0, 6663394.0, 6663394.0, 6663394.0, 6663394.0, 6663394.0, 6663394.0, 6663394.0, 6663394.0, 6663394.0, 6663394.0, 6663394.0, 6663394.0, 6663394.0, 6663394.0, 6663394.0, 6663394.0, 6663394.0, 6663394.0, 6663394.0, 6663394.0, 771044.0, 6663394.0, 6663394.0, 6663394.0, 6663394.0, 6663394.0, 6663394.0, 6663394.0, 6663394.0, 6663394.0, 6663394.0, 6663394.0, 6663394.0, 6663394.0, 6663394.0, 581078.0, 1661785.0, 2565124.0, 6663394.0, 6663394.0, 6663394.0, 6663394.0, 6663394.0, 6663394.0, 6663394.0, 6663394.0, 6663394.0, 521870.0, 6663394.0, 6663394.0, 6663394.0, 6663394.0, 6663394.0, 6663394.0, 6663394.0, 6663394.0, 6663394.0, 6663394.0, 6663394.0, 6663394.0, 6663394.0, 6663394.0, 6663394.0, 6663394.0, 6663394.0, 6663394.0, 6663394.0, 6663394.0, 6663394.0, 6663394.0, 6663394.0, 6663394.0, 6663394.0, 6663394.0, 6663394.0, 6663394.0, 6663394.0, 6663394.0, 6663394.0, 6663394.0, 6663394.0, 6663394.0, 6663394.0, 6663394.0, 6663394.0, 6663394.0, 6663394.0, 6663394.0, 6663394.0, 6663394.0, 6663394.0, 6663394.0, 6663394.0, 6663394.0, 6663394.0, 6663394.0, 6663394.0, 2565124.0, 6663394.0, 6663394.0, 2565124.0, 1661785.0, 1942389.0, 6663394.0, 6663394.0, 6663394.0, 6663394.0, 6663394.0, 6663394.0, 6663394.0, 6663394.0, 6663394.0, 6663394.0, 6663394.0, 6663394.0, 6663394.0, 6663394.0, 6663394.0, 6663394.0, 6663394.0, 2565124.0, 1661785.0, 6663394.0, 1942389.0, 2565124.0, 2565124.0, 1493898.0, 1942389.0, 2565124.0, 1493898.0, 2565124.0, 1493898.0, 2565124.0, 2565124.0, 1493898.0, 2565124.0, 2565124.0, 1942389.0, 1493898.0, 1493898.0, 2565124.0, 2565124.0, 2565124.0, 1493898.0, 2565124.0, 1942389.0, 1493898.0, 2565124.0, 2565124.0, 2565124.0, 1493898.0, 2565124.0, 5664579.0, 1119596.0, 1119596.0, 1119596.0, 1942389.0, 1493898.0, 1942389.0, 673559.0, 1022800.0, 1858683.0, 1858683.0, 2565124.0, 1119596.0, 6663394.0, 6663394.0, 6663394.0, 6663394.0, 6663394.0, 6663394.0, 6663394.0, 6663394.0, 633564.0, 6663394.0, 6663394.0, 6663394.0, 6663394.0, 1493898.0, 804664.0, 6663394.0, 6663394.0, 6663394.0, 6663394.0, 6663394.0, 6663394.0, 6663394.0, 6663394.0, 6663394.0, 6663394.0, 6663394.0, 6663394.0, 6663394.0, 6663394.0, 6663394.0, 6663394.0, 6663394.0, 6663394.0, 6663394.0, 6663394.0, 6663394.0, 6663394.0, 6663394.0, 6663394.0, 6663394.0, 6663394.0, 6663394.0, 579962.0, 2565124.0, 6663394.0, 6663394.0, 6663394.0, 6663394.0, 6663394.0, 6663394.0, 6663394.0, 6663394.0, 6663394.0, 6663394.0, 6663394.0, 6663394.0, 6663394.0, 6663394.0, 6663394.0, 6663394.0, 6663394.0, 6663394.0, 6663394.0, 6663394.0, 6663394.0, 6663394.0, 6663394.0, 6663394.0, 6663394.0, 6663394.0, 6663394.0, 6663394.0, 6663394.0, 6663394.0, 6663394.0, 6663394.0, 6663394.0, 6663394.0, 6663394.0, 6663394.0, 6663394.0, 2565124.0, 6663394.0, 6663394.0, 6663394.0, 6663394.0, 6663394.0, 6663394.0, 6663394.0, 6663394.0, 6663394.0, 6663394.0, 6663394.0, 6663394.0, 5664579.0, 1119596.0, 6663394.0, 6663394.0, 6663394.0, 6663394.0, 6663394.0, 6663394.0, 6663394.0, 6663394.0, 6663394.0, 6663394.0, 6663394.0, 6663394.0, 6663394.0, 6663394.0, 6663394.0, 1858683.0, 6663394.0, 5664579.0, 5664579.0, 5664579.0, 5664579.0, 5664579.0, 5664579.0, 5664579.0, 5664579.0, 5664579.0, 394151.0, 307651.0, 6663394.0, 6663394.0, 6663394.0, 6663394.0, 6663394.0, 6663394.0, 6663394.0, 6663394.0, 6663394.0, 6663394.0, 6663394.0, 6663394.0, 6663394.0, 6663394.0, 1661785.0, 6663394.0, 6663394.0, 6663394.0, 6663394.0, 1858683.0, 1240155.0, 6663394.0, 6663394.0, 6663394.0, 6663394.0, 6663394.0, 6663394.0, 6663394.0, 6663394.0, 581078.0, 5664579.0, 5664579.0, 5664579.0, 5664579.0, 5664579.0, 5664579.0, 6663394.0, 6663394.0, 6663394.0, 964693.0, 6663394.0, 1858683.0, 1661785.0, 6663394.0, 6663394.0, 6663394.0, 6663394.0, 914678.0, 6663394.0, 6663394.0, 782979.0, 6663394.0, 6663394.0, 6663394.0, 6663394.0, 6663394.0, 1942389.0, 6663394.0, 6663394.0, 6663394.0, 6663394.0, 6663394.0, 6663394.0, 6663394.0, 6663394.0, 6663394.0, 6663394.0, 6663394.0, 6663394.0, 6663394.0, 6663394.0, 6663394.0, 6663394.0, 6663394.0, 6663394.0, 6663394.0, 6663394.0, 6663394.0, 6663394.0, 6663394.0, 6663394.0, 6663394.0, 6663394.0, 6663394.0, 6663394.0, 6663394.0, 6663394.0, 6663394.0, 6663394.0, 6663394.0, 6663394.0, 6663394.0, 5664579.0, 2565124.0, 6663394.0, 6663394.0, 6663394.0, 6663394.0, 6663394.0, 6663394.0, 6663394.0, 6663394.0, 6663394.0, 6663394.0, 6663394.0, 6663394.0, 6663394.0, 6663394.0, 6663394.0, 6663394.0, 6663394.0, 6663394.0, 6663394.0, 6663394.0, 6663394.0, 6663394.0, 6663394.0, 6663394.0, 6663394.0, 6663394.0, 6663394.0, 6663394.0, 6663394.0, 495761.0, 307651.0, 694844.0, 330119.0, 804664.0, 694844.0, 6663394.0, 782979.0, 388167.0, 6663394.0, 6663394.0, 6663394.0, 6663394.0, 6663394.0, 6663394.0, 6663394.0, 6663394.0, 6663394.0, 6663394.0, 6663394.0, 6663394.0, 6663394.0, 6663394.0, 6663394.0, 1942389.0, 1119596.0, 942665.0, 519546.0, 942665.0, 1858683.0, 1119596.0, 1942389.0, 6663394.0, 6663394.0, 5664579.0, 1120406.0, 6663394.0, 6663394.0, 1942389.0, 6663394.0, 6663394.0, 6663394.0, 1120406.0, 157640.0, 153129.0, 460001.0, 6663394.0, 6663394.0, 2565124.0, 1493898.0, 6663394.0, 6663394.0, 6663394.0, 6663394.0, 6663394.0, 329587.0, 1149460.0, 6663394.0, 2565124.0, 716820.0, 1119596.0, 1119596.0, 2565124.0, 1661785.0, 172539.0, 6663394.0, 6663394.0, 6663394.0, 6663394.0, 6663394.0, 6663394.0, 6663394.0, 6663394.0, 6663394.0, 6663394.0, 6663394.0, 6663394.0, 1942389.0, 1858683.0, 1493898.0, 5664579.0, 5664579.0, 5664579.0, 5664579.0, 5664579.0, 5664579.0, 5664579.0, 5664579.0, 5664579.0, 5664579.0, 5664579.0, 5664579.0, 5664579.0, 5664579.0, 5664579.0, 5664579.0, 5664579.0, 5664579.0, 5664579.0, 5664579.0, 5664579.0, 5664579.0, 5664579.0, 5664579.0, 5664579.0, 5664579.0, 5664579.0, 5664579.0, 5664579.0, 5664579.0, 5664579.0, 5664579.0, 5664579.0, 5664579.0, 5664579.0, 6663394.0, 134137.0, 1493898.0, 5664579.0, 1240155.0, 1661785.0, 1120406.0, 1022800.0, 2565124.0, 6663394.0, 6663394.0, 5664579.0, 6663394.0, 6663394.0, 6663394.0, 6663394.0, 6663394.0, 6663394.0, 6663394.0, 6663394.0, 6663394.0, 6663394.0, 6663394.0, 6663394.0, 6663394.0, 6663394.0, 6663394.0, 6663394.0, 6663394.0, 6663394.0, 6663394.0, 6663394.0, 6663394.0, 6663394.0, 6663394.0, 6663394.0, 6663394.0, 6663394.0, 6663394.0, 6663394.0, 6663394.0, 6663394.0, 6663394.0, 6663394.0, 6663394.0, 6663394.0, 6663394.0, 6663394.0, 6663394.0, 6663394.0, 6663394.0, 6663394.0, 6663394.0, 6663394.0, 6663394.0, 6663394.0, 6663394.0, 6663394.0, 6663394.0, 6663394.0, 6663394.0, 6663394.0, 6663394.0, 6663394.0, 6663394.0, 6663394.0, 6663394.0, 6663394.0, 6663394.0, 6663394.0, 6663394.0, 6663394.0, 6663394.0, 6663394.0, 6663394.0, 6663394.0, 6663394.0, 6663394.0, 6663394.0, 6663394.0, 6663394.0, 6663394.0, 6663394.0, 6663394.0, 6663394.0, 6663394.0, 6663394.0, 5664579.0, 5664579.0, 5664579.0, 5664579.0, 5664579.0, 5664579.0, 5664579.0, 5664579.0, 5664579.0, 5664579.0, 5664579.0, 5664579.0, 6663394.0, 771044.0, 771044.0, 356958.0, 257762.0, 356958.0, 153129.0, 5664579.0, 771044.0, 6663394.0, 6663394.0, 6663394.0, 6663394.0, 6663394.0, 6663394.0, 6663394.0, 6663394.0, 6663394.0, 6663394.0, 6663394.0, 6663394.0, 6663394.0, 6663394.0, 6663394.0, 6663394.0, 782979.0, 196329.0, 6663394.0, 2565124.0, 6663394.0, 1942389.0, 1942389.0, 6663394.0, 6663394.0, 6663394.0, 6663394.0, 6663394.0, 6663394.0, 6663394.0, 6663394.0, 6663394.0, 6663394.0, 6663394.0, 6663394.0, 6663394.0, 6663394.0, 6663394.0, 2565124.0, 6663394.0, 1120406.0, 6663394.0, 6663394.0, 6663394.0, 6663394.0, 6663394.0, 6663394.0, 6663394.0, 6663394.0, 495761.0, 6663394.0, 6663394.0, 6663394.0, 6663394.0, 6663394.0, 1942389.0, 6663394.0, 6663394.0, 6663394.0, 6663394.0, 6663394.0, 6663394.0, 6663394.0, 6663394.0, 6663394.0, 6663394.0, 6663394.0, 6663394.0, 6663394.0, 6663394.0, 6663394.0, 6663394.0, 6663394.0, 6663394.0, 6663394.0, 6663394.0, 6663394.0, 6663394.0, 6663394.0, 6663394.0, 6663394.0, 6663394.0, 6663394.0, 6663394.0, 6663394.0, 6663394.0, 6663394.0, 6663394.0, 6663394.0, 6663394.0, 6663394.0, 6663394.0, 6663394.0, 1240155.0, 942665.0, 1858683.0, 1493898.0, 6663394.0, 6663394.0, 6663394.0, 1858683.0, 673559.0, 6663394.0, 5664579.0, 6663394.0, 6663394.0, 6663394.0, 6663394.0, 6663394.0, 6663394.0, 6663394.0, 6663394.0, 6663394.0, 6663394.0, 6663394.0, 6663394.0, 6663394.0, 6663394.0, 6663394.0, 6663394.0, 6663394.0, 6663394.0, 6663394.0, 6663394.0, 6663394.0, 6663394.0, 6663394.0, 6663394.0, 6663394.0, 6663394.0, 6663394.0, 6663394.0, 6663394.0, 6663394.0, 6663394.0, 6663394.0, 1493898.0, 6663394.0, 6663394.0, 6663394.0, 6663394.0, 6663394.0, 6663394.0, 6663394.0, 6663394.0, 6663394.0, 6663394.0, 6663394.0, 6663394.0, 6663394.0, 6663394.0, 6663394.0, 6663394.0, 6663394.0, 6663394.0, 6663394.0, 6663394.0, 6663394.0, 6663394.0, 6663394.0, 6663394.0, 6663394.0, 6663394.0, 6663394.0, 1942389.0, 1942389.0, 1240155.0, 942665.0, 1493898.0, 1022800.0, 519546.0, 1119596.0, 6663394.0, 6663394.0, 6663394.0, 6663394.0, 6663394.0, 6663394.0, 257762.0, 6663394.0, 6663394.0, 6663394.0, 6663394.0, 6663394.0, 6663394.0, 6663394.0, 6663394.0, 6663394.0, 6663394.0, 6663394.0, 6663394.0, 6663394.0, 6663394.0, 6663394.0, 6663394.0, 6663394.0, 6663394.0, 6663394.0, 6663394.0, 6663394.0, 6663394.0, 6663394.0, 6663394.0, 6663394.0, 6663394.0, 6663394.0, 6663394.0, 6663394.0, 6663394.0, 6663394.0, 6663394.0, 6663394.0, 6663394.0, 6663394.0, 6663394.0, 6663394.0, 6663394.0, 6663394.0, 331549.0, 5664579.0, 6663394.0, 6663394.0, 6663394.0, 5664579.0, 6663394.0, 6663394.0, 6663394.0, 6663394.0, 6663394.0, 6663394.0, 6663394.0, 6663394.0, 6663394.0, 6663394.0, 1119596.0, 1858683.0, 1119596.0, 1022800.0, 1119596.0, 6663394.0, 6663394.0, 172539.0, 521870.0, 1022800.0, 6663394.0, 6663394.0, 6663394.0, 6663394.0, 6663394.0, 6663394.0, 6663394.0, 6663394.0, 6663394.0, 6663394.0, 6663394.0, 6663394.0, 6663394.0, 6663394.0, 6663394.0, 6663394.0, 6663394.0, 6663394.0, 6663394.0, 6663394.0, 6663394.0, 6663394.0, 6663394.0, 6663394.0, 6663394.0, 6663394.0, 6663394.0, 6663394.0, 6663394.0, 6663394.0, 6663394.0, 6663394.0, 6663394.0, 6663394.0, 6663394.0, 6663394.0, 6663394.0, 6663394.0, 6663394.0, 6663394.0, 6663394.0, 6663394.0, 6663394.0, 6663394.0, 6663394.0, 6663394.0, 316798.0, 804664.0, 460001.0, 2565124.0, 6663394.0, 6663394.0, 6663394.0, 6663394.0, 6663394.0, 6663394.0, 6663394.0, 6663394.0, 6663394.0, 6663394.0, 6663394.0, 6663394.0, 6663394.0, 6663394.0, 6663394.0, 6663394.0, 6663394.0, 6663394.0, 6663394.0, 6663394.0, 5664579.0, 5664579.0, 6663394.0, 6663394.0, 6663394.0, 5664579.0, 6663394.0, 6663394.0, 6663394.0, 6663394.0, 6663394.0, 6663394.0, 6663394.0, 6663394.0, 6663394.0, 6663394.0, 6663394.0, 6663394.0, 6663394.0, 329587.0, 329587.0, 942665.0, 6663394.0, 6663394.0, 6663394.0, 6663394.0, 6663394.0, 6663394.0, 6663394.0, 6663394.0, 6663394.0, 6663394.0, 5664579.0, 5664579.0, 1661785.0, 1119596.0, 1942389.0, 1493898.0, 964693.0, 6663394.0, 6663394.0, 6663394.0, 6663394.0, 6663394.0, 6663394.0, 6663394.0, 6663394.0, 6663394.0, 6663394.0, 2565124.0, 2565124.0, 1032983.0, 771044.0, 6663394.0, 6663394.0, 6663394.0, 6663394.0, 6663394.0, 6663394.0, 6663394.0, 6663394.0, 581078.0, 1032983.0, 1493898.0, 942665.0, 1240155.0, 6663394.0, 1120406.0, 1119596.0, 1942389.0, 1661785.0, 633564.0, 633564.0, 160980.0, 1022800.0, 6663394.0, 6663394.0, 6663394.0, 6663394.0, 6663394.0, 6663394.0, 6663394.0, 6663394.0, 6663394.0, 6663394.0, 6663394.0, 6663394.0, 6663394.0, 6663394.0, 6663394.0, 6663394.0, 6663394.0, 6663394.0, 6663394.0, 6663394.0, 6663394.0, 6663394.0, 6663394.0, 6663394.0, 6663394.0, 6663394.0, 6663394.0, 6663394.0, 6663394.0, 6663394.0, 6663394.0, 6663394.0, 6663394.0, 6663394.0, 6663394.0, 6663394.0, 6663394.0, 6663394.0, 6663394.0, 6663394.0, 6663394.0, 1858683.0, 579962.0, 2565124.0, 2565124.0, 460001.0, 1022800.0, 6663394.0, 6663394.0, 782979.0, 694844.0, 694844.0, 6663394.0, 6663394.0, 6663394.0, 6663394.0, 6663394.0, 6663394.0, 6663394.0, 6663394.0, 6663394.0, 6663394.0, 6663394.0, 6663394.0, 6663394.0, 6663394.0, 6663394.0, 6663394.0, 6663394.0, 6663394.0, 6663394.0, 6663394.0, 6663394.0, 6663394.0, 6663394.0, 6663394.0, 6663394.0, 6663394.0, 6663394.0, 6663394.0, 771044.0, 6663394.0, 160980.0, 5664579.0, 1022800.0, 5664579.0, 5664579.0, 1858683.0, 6663394.0, 6663394.0, 6663394.0, 6663394.0, 6663394.0, 1942389.0, 1942389.0, 6663394.0, 5664579.0, 5664579.0, 5664579.0, 723576.0, 1661785.0, 5664579.0, 1493898.0, 1942389.0, 6663394.0, 6663394.0, 6663394.0, 6663394.0, 6663394.0, 6663394.0, 6663394.0, 6663394.0, 6663394.0, 771044.0, 942665.0, 6663394.0, 6663394.0, 6663394.0, 6663394.0, 6663394.0, 5664579.0, 2565124.0, 5664579.0, 5664579.0, 782979.0, 6663394.0, 6663394.0, 6663394.0, 6663394.0, 6663394.0, 6663394.0, 6663394.0, 6663394.0, 6663394.0, 6663394.0, 6663394.0, 6663394.0, 6663394.0, 6663394.0, 6663394.0, 6663394.0, 6663394.0, 6663394.0, 6663394.0, 6663394.0, 6663394.0, 942665.0, 694844.0, 1149460.0, 771044.0, 134137.0, 914678.0, 6663394.0, 6663394.0, 6663394.0, 6663394.0, 6663394.0, 6663394.0, 6663394.0, 6663394.0, 6663394.0, 6663394.0, 6663394.0, 6663394.0, 6663394.0, 6663394.0, 6663394.0, 6663394.0, 6663394.0, 6663394.0, 6663394.0, 6663394.0, 6663394.0, 6663394.0, 6663394.0, 6663394.0, 6663394.0, 6663394.0, 6663394.0, 6663394.0, 6663394.0, 6663394.0, 6663394.0, 6663394.0, 6663394.0, 6663394.0, 1032983.0, 964693.0, 1661785.0, 1661785.0, 6663394.0, 581078.0, 6663394.0, 6663394.0, 6663394.0, 1493898.0, 2565124.0, 5664579.0, 1858683.0, 6663394.0, 6663394.0, 6663394.0, 6663394.0, 6663394.0, 6663394.0, 1032983.0, 6663394.0, 6663394.0, 6663394.0, 6663394.0, 6663394.0, 6663394.0, 6663394.0, 6663394.0, 6663394.0, 6663394.0, 6663394.0, 1858683.0, 1493898.0, 1942389.0, 1942389.0, 804664.0, 914678.0, 694844.0, 6663394.0, 633564.0, 633564.0, 694844.0, 6663394.0, 6663394.0, 6663394.0, 6663394.0, 6663394.0, 6663394.0, 6663394.0, 6663394.0, 6663394.0, 6663394.0, 6663394.0, 5664579.0, 5664579.0, 5664579.0, 1942389.0, 5664579.0, 307651.0, 1022800.0, 6663394.0, 6663394.0, 914678.0, 1858683.0, 1120406.0, 519546.0, 6663394.0, 6663394.0, 6663394.0, 6663394.0, 5664579.0, 6663394.0, 6663394.0, 6663394.0, 5664579.0, 6663394.0, 581078.0, 964693.0, 1661785.0, 942665.0, 1661785.0, 1240155.0, 1240155.0, 1661785.0, 964693.0, 1858683.0, 1120406.0, 6663394.0, 6663394.0, 6663394.0, 1942389.0, 6663394.0, 6663394.0, 6663394.0, 6663394.0, 1661785.0, 2565124.0, 356958.0, 6663394.0, 6663394.0, 1032983.0, 6663394.0, 6663394.0, 6663394.0, 6663394.0, 6663394.0, 6663394.0, 6663394.0, 6663394.0, 6663394.0, 6663394.0, 6663394.0, 6663394.0, 6663394.0, 521870.0, 1942389.0, 1942389.0, 5664579.0, 5664579.0, 5664579.0, 5664579.0, 5664579.0, 5664579.0, 5664579.0, 5664579.0, 5664579.0, 5664579.0, 5664579.0, 5664579.0, 6663394.0, 1493898.0, 1119596.0, 1858683.0, 694844.0, 914678.0, 6663394.0, 257762.0, 1493898.0, 1858683.0, 5664579.0, 5664579.0, 5664579.0, 5664579.0, 5664579.0, 5664579.0, 5664579.0, 5664579.0, 5664579.0, 5664579.0, 1942389.0, 1493898.0, 6663394.0, 6663394.0, 6663394.0, 6663394.0, 6663394.0, 1120406.0, 1661785.0, 771044.0, 434930.0, 942665.0, 1493898.0, 6663394.0, 6663394.0, 914678.0, 460001.0, 6663394.0, 716820.0, 196329.0, 6663394.0, 6663394.0, 6663394.0, 6663394.0, 521870.0, 1942389.0, 6663394.0, 6663394.0, 6663394.0, 6663394.0, 6663394.0, 6663394.0, 2565124.0, 6663394.0, 6663394.0, 6663394.0, 6663394.0, 6663394.0, 6663394.0, 6663394.0, 6663394.0, 6663394.0, 6663394.0, 6663394.0, 6663394.0, 6663394.0, 6663394.0, 6663394.0, 6663394.0, 6663394.0, 6663394.0, 6663394.0, 6663394.0, 6663394.0, 6663394.0, 6663394.0, 6663394.0, 6663394.0, 6663394.0, 6663394.0, 6663394.0, 6663394.0, 6663394.0, 160980.0, 1661785.0, 5664579.0, 5664579.0, 5664579.0, 6663394.0, 1858683.0, 1942389.0, 1942389.0, 6663394.0, 6663394.0, 1022800.0, 6663394.0, 6663394.0, 6663394.0, 6663394.0, 6663394.0, 6663394.0, 6663394.0, 6663394.0, 6663394.0, 6663394.0, 5664579.0, 5664579.0, 5664579.0, 6663394.0, 6663394.0, 6663394.0, 6663394.0, 6663394.0, 6663394.0, 6663394.0, 6663394.0, 6663394.0, 6663394.0, 6663394.0, 6663394.0, 5664579.0, 5664579.0, 5664579.0, 804664.0, 633564.0, 5664579.0, 716820.0, 579962.0, 521870.0, 2565124.0, 5664579.0, 5664579.0, 5664579.0, 5664579.0, 5664579.0, 5664579.0, 5664579.0, 6663394.0, 1661785.0, 2565124.0, 1120406.0, 1661785.0, 964693.0, 1240155.0, 6663394.0, 6663394.0, 6663394.0, 6663394.0, 5664579.0, 5664579.0, 5664579.0, 5664579.0, 5664579.0, 6663394.0, 1022800.0, 964693.0, 1661785.0, 2565124.0, 6663394.0, 257762.0, 6663394.0, 1661785.0, 5664579.0, 5664579.0, 5664579.0, 5664579.0, 5664579.0, 2565124.0, 1032983.0, 1493898.0, 1149460.0, 1022800.0, 356958.0, 1149460.0, 914678.0, 6663394.0, 6663394.0, 6663394.0, 519546.0, 1240155.0, 694844.0, 6663394.0, 6663394.0, 1942389.0, 2565124.0, 942665.0, 5664579.0, 1119596.0, 6663394.0, 5664579.0, 5664579.0, 5664579.0, 5664579.0, 1661785.0, 1493898.0, 521870.0, 6663394.0, 1942389.0, 6663394.0, 6663394.0, 6663394.0, 6663394.0, 6663394.0, 1942389.0, 914678.0, 579962.0, 6663394.0, 6663394.0, 6663394.0, 6663394.0, 6663394.0, 1022800.0, 942665.0, 1661785.0, 330119.0, 964693.0, 1493898.0, 394151.0, 519546.0, 1120406.0, 519546.0, 1942389.0, 1858683.0, 914678.0, 694844.0, 2565124.0, 804664.0, 495761.0, 914678.0, 394151.0, 1022800.0, 1119596.0, 1149460.0, 1120406.0, 1942389.0, 2565124.0, 942665.0, 356958.0, 519546.0, 1022800.0, 581078.0, 1858683.0, 1119596.0, 942665.0, 942665.0, 196329.0, 329587.0, 782979.0, 388167.0, 942665.0, 257762.0, 1493898.0, 1493898.0, 1240155.0, 196329.0, 394151.0, 2565124.0, 460001.0, 942665.0, 2565124.0, 196329.0, 782979.0, 1858683.0, 942665.0, 942665.0, 1119596.0, 942665.0, 942665.0, 942665.0, 153129.0, 519546.0, 942665.0, 942665.0, 1493898.0, 1152651.0, 1119596.0, 157640.0, 307651.0, 1119596.0, 1119596.0, 196329.0, 1942389.0, 316798.0, 356958.0, 942665.0, 519546.0, 914678.0, 388167.0, 1119596.0, 307651.0, 942665.0, 1942389.0, 942665.0, 771044.0, 307651.0, 1119596.0, 307651.0, 1858683.0, 1119596.0, 307651.0, 307651.0, 316798.0, 1119596.0, 307651.0, 329587.0, 521870.0, 2565124.0, 316798.0, 633564.0, 2565124.0, 673559.0, 942665.0, 1119596.0, 1119596.0, 1858683.0, 329587.0, 196329.0, 356958.0, 1942389.0, 673559.0, 1942389.0, 1119596.0, 1942389.0, 329587.0, 942665.0, 782979.0, 307651.0, 942665.0, 519546.0, 942665.0, 942665.0, 1119596.0, 942665.0, 329587.0, 942665.0, 942665.0, 942665.0, 1119596.0, 329587.0, 654214.0, 329587.0, 329587.0, 329587.0, 1119596.0, 673559.0, 1119596.0, 942665.0, 942665.0, 330119.0, 1152651.0, 1022800.0, 330119.0, 329587.0, 307651.0, 330119.0, 356958.0, 330119.0, 942665.0, 330119.0, 1493898.0, 330119.0, 1493898.0, 330119.0, 172539.0, 2565124.0, 330119.0, 1119596.0, 673559.0, 1119596.0, 1942389.0, 329587.0, 942665.0, 1119596.0, 1240155.0, 1119596.0, 1119596.0, 1119596.0, 942665.0, 329587.0, 1942389.0, 1119596.0, 1119596.0, 1119596.0, 521870.0, 1119596.0, 1240155.0, 942665.0, 1942389.0, 1942389.0, 1119596.0, 942665.0, 394151.0, 942665.0, 804664.0, 330119.0, 673559.0, 330119.0, 1119596.0, 356958.0, 329587.0, 1119596.0, 1942389.0, 1119596.0, 329587.0, 1119596.0, 329587.0, 1119596.0, 1119596.0, 1119596.0, 1119596.0, 942665.0, 1119596.0, 1942389.0, 942665.0, 329587.0, 329587.0, 460001.0, 1119596.0, 1661785.0, 1119596.0, 460001.0, 1119596.0, 942665.0, 329587.0, 157640.0, 330119.0, 172539.0, 1942389.0, 460001.0, 157640.0, 1240155.0, 330119.0, 1661785.0, 1942389.0, 330119.0, 157640.0, 157640.0, 942665.0, 942665.0, 1119596.0, 307651.0, 942665.0, 942665.0, 1119596.0, 1942389.0, 329587.0, 1119596.0, 942665.0, 942665.0, 1119596.0, 942665.0, 942665.0, 1119596.0, 1119596.0, 1942389.0, 519546.0, 964693.0, 519546.0, 307651.0, 654214.0, 519546.0, 160980.0, 942665.0, 519546.0, 579962.0, 519546.0, 356958.0, 519546.0, 519546.0, 394151.0, 1942389.0, 1942389.0, 942665.0, 673559.0, 1119596.0, 2565124.0, 519546.0, 519546.0, 519546.0, 579962.0, 694844.0, 307651.0, 942665.0, 1942389.0, 782979.0, 1119596.0, 1119596.0, 1119596.0, 782979.0, 329587.0, 782979.0, 1942389.0, 942665.0, 942665.0, 307651.0, 1942389.0, 1661785.0, 1942389.0, 1942389.0, 1858683.0, 257762.0, 942665.0, 1942389.0, 329587.0, 1661785.0, 521870.0, 329587.0, 329587.0, 942665.0, 307651.0, 1119596.0, 329587.0, 579962.0, 1119596.0, 1942389.0, 942665.0, 1119596.0, 942665.0, 1661785.0, 1240155.0, 1119596.0, 1119596.0, 1942389.0, 942665.0, 1149460.0, 1858683.0, 1119596.0, 519546.0, 804664.0, 1119596.0, 172539.0, 804664.0, 942665.0, 330119.0, 330119.0, 1119596.0, 1240155.0, 942665.0, 942665.0, 579962.0, 723576.0, 942665.0, 1858683.0, 86487.0, 1119596.0, 307651.0, 307651.0, 914678.0, 519546.0, 1942389.0, 942665.0, 942665.0, 1240155.0, 942665.0, 942665.0, 1240155.0, 1119596.0, 329587.0, 1119596.0, 1119596.0, 1119596.0, 329587.0, 521870.0, 1119596.0, 1022800.0, 1119596.0, 1119596.0, 329587.0, 1858683.0, 1942389.0, 1858683.0, 964693.0, 942665.0, 1119596.0, 942665.0, 942665.0, 942665.0, 942665.0, 329587.0, 1149460.0, 942665.0, 307651.0, 673559.0, 942665.0, 673559.0, 942665.0, 942665.0, 1119596.0, 329587.0, 1119596.0, 942665.0, 329587.0, 942665.0, 1942389.0, 1119596.0, 307651.0, 1119596.0, 316798.0, 1119596.0, 521870.0, 1119596.0, 329587.0, 1119596.0, 1119596.0, 307651.0, 1119596.0, 1119596.0, 329587.0, 329587.0, 307651.0, 495761.0, 1119596.0, 1119596.0, 307651.0, 1119596.0, 307651.0, 521870.0, 942665.0, 1119596.0, 1942389.0, 942665.0, 942665.0, 942665.0, 1119596.0, 1942389.0, 782979.0, 172539.0, 1119596.0, 1119596.0, 782979.0, 2565124.0, 1942389.0, 1942389.0, 521870.0, 782979.0, 942665.0, 1942389.0, 942665.0, 716820.0, 356958.0, 1119596.0, 716820.0, 329587.0, 521870.0, 1119596.0, 782979.0, 1942389.0, 942665.0, 1119596.0, 942665.0, 460001.0, 942665.0, 771044.0, 329587.0, 307651.0, 307651.0, 579962.0, 1119596.0, 1119596.0, 1119596.0, 1119596.0, 1119596.0, 1119596.0, 307651.0, 1022800.0, 942665.0, 134137.0, 942665.0, 914678.0, 942665.0, 1119596.0, 942665.0, 1119596.0, 1119596.0, 942665.0, 1119596.0, 942665.0, 1119596.0, 914678.0, 942665.0, 1119596.0, 942665.0, 521870.0, 942665.0, 329587.0, 316798.0, 1119596.0, 1942389.0, 1119596.0, 964693.0, 521870.0, 1942389.0, 654214.0, 1119596.0, 1942389.0, 1942389.0, 1119596.0, 782979.0, 521870.0, 257762.0, 307651.0, 654214.0, 1119596.0, 521870.0, 307651.0, 1661785.0, 329587.0, 914678.0, 964693.0, 942665.0, 673559.0, 804664.0, 316798.0, 316798.0, 316798.0, 316798.0, 316798.0, 964693.0, 964693.0, 88636.0, 316798.0, 521870.0, 1942389.0, 654214.0, 964693.0, 964693.0, 964693.0, 1942389.0, 88636.0, 220461.0, 329587.0, 1493898.0, 964693.0, 1942389.0, 1942389.0, 942665.0, 1119596.0, 1119596.0, 942665.0, 1119596.0, 942665.0, 1119596.0, 521870.0, 1119596.0, 316798.0, 316798.0, 942665.0, 1661785.0, 316798.0, 1119596.0, 942665.0, 1119596.0, 519546.0, 581078.0, 942665.0, 1942389.0, 942665.0, 1119596.0, 942665.0, 1119596.0, 654214.0, 316798.0, 942665.0, 2565124.0, 521870.0, 316798.0, 1120406.0, 2565124.0, 2565124.0, 329587.0, 2565124.0, 942665.0, 654214.0, 2565124.0, 1240155.0, 1942389.0, 1119596.0, 942665.0, 1119596.0, 942665.0, 1119596.0, 1119596.0, 942665.0, 654214.0, 942665.0, 1119596.0, 1119596.0, 1119596.0, 942665.0, 942665.0, 942665.0, 942665.0, 495761.0, 914678.0, 1858683.0, 654214.0, 1942389.0, 1858683.0, 1942389.0, 521870.0, 1493898.0, 1240155.0, 654214.0, 1493898.0, 654214.0, 307651.0, 1942389.0, 1022800.0, 1942389.0, 1022800.0, 1240155.0, 673559.0, 160980.0, 160980.0, 654214.0, 654214.0, 519546.0, 394151.0, 307651.0, 316798.0, 196329.0, 1493898.0, 1858683.0, 1858683.0, 394151.0, 394151.0, 942665.0, 2565124.0, 942665.0, 1119596.0, 1858683.0, 220461.0, 1493898.0, 521870.0, 1240155.0, 1858683.0, 394151.0, 964693.0, 1493898.0, 307651.0, 694844.0, 1240155.0, 388167.0, 329587.0, 356958.0, 519546.0, 257762.0, 519546.0, 1119596.0, 1119596.0, 1119596.0, 1119596.0, 329587.0, 1119596.0, 942665.0, 1119596.0, 942665.0, 329587.0, 329587.0, 329587.0, 1119596.0, 1942389.0, 1119596.0, 1119596.0, 1119596.0, 942665.0, 942665.0, 329587.0, 964693.0, 307651.0, 942665.0, 964693.0, 434930.0, 1119596.0, 579962.0, 579962.0, 1942389.0, 942665.0, 942665.0, 519546.0, 942665.0, 316798.0, 942665.0, 316798.0, 307651.0, 1119596.0, 1119596.0, 579962.0, 579962.0, 1858683.0, 1119596.0, 2565124.0, 1493898.0, 1661785.0, 579962.0, 1119596.0, 160980.0, 1240155.0, 2565124.0, 2565124.0, 1858683.0, 329587.0, 942665.0, 1119596.0, 1942389.0, 942665.0, 1858683.0, 356958.0, 1942389.0, 434930.0, 521870.0, 329587.0, 1119596.0, 1942389.0, 1942389.0, 673559.0, 782979.0, 1119596.0, 356958.0, 356958.0, 914678.0, 1119596.0, 519546.0, 220461.0, 356958.0, 1119596.0, 495761.0, 356958.0, 495761.0, 1942389.0, 307651.0, 673559.0, 1942389.0, 942665.0, 1942389.0, 1119596.0, 942665.0, 942665.0, 1119596.0, 804664.0, 329587.0, 942665.0, 942665.0, 673559.0, 1119596.0, 1119596.0, 394151.0, 356958.0, 316798.0, 1240155.0, 1119596.0, 1858683.0, 1858683.0, 1119596.0, 1942389.0, 1858683.0, 356958.0, 495761.0, 1119596.0, 329587.0, 2565124.0, 307651.0, 1119596.0, 942665.0, 1942389.0, 1942389.0, 1240155.0, 356958.0, 316798.0, 1942389.0, 1661785.0, 673559.0, 1119596.0, 1942389.0, 914678.0, 1119596.0, 220461.0, 673559.0, 942665.0, 1661785.0, 1119596.0, 1119596.0, 1942389.0, 307651.0, 329587.0, 1942389.0, 307651.0, 460001.0, 942665.0, 495761.0, 356958.0, 220461.0, 673559.0, 782979.0, 1119596.0, 1661785.0, 519546.0, 1022800.0, 1119596.0, 329587.0, 329587.0, 942665.0, 329587.0, 942665.0, 942665.0, 329587.0, 1119596.0, 329587.0, 1119596.0, 329587.0, 942665.0, 329587.0, 356958.0, 1119596.0, 942665.0, 942665.0, 460001.0, 196329.0, 157640.0, 942665.0, 394151.0, 330119.0, 172539.0, 519546.0, 1493898.0, 1493898.0, 330119.0, 157640.0, 330119.0, 356958.0, 330119.0, 330119.0, 330119.0, 942665.0, 942665.0, 942665.0, 942665.0, 942665.0, 1119596.0, 654214.0, 519546.0, 694844.0, 172539.0, 1858683.0, 1119596.0, 1119596.0, 1119596.0, 942665.0, 1119596.0, 307651.0, 1119596.0, 1119596.0, 1119596.0, 942665.0, 316798.0, 329587.0, 1119596.0, 330119.0, 942665.0, 942665.0, 1119596.0, 307651.0, 1119596.0, 1022800.0, 172539.0, 942665.0, 330119.0, 330119.0, 460001.0, 330119.0, 1858683.0, 329587.0, 1240155.0, 942665.0, 1119596.0, 1119596.0, 1119596.0, 1858683.0, 942665.0, 356958.0, 521870.0, 1942389.0, 1942389.0, 1119596.0, 1119596.0, 1942389.0, 1858683.0, 307651.0, 1119596.0, 942665.0, 356958.0, 329587.0, 942665.0, 1119596.0, 942665.0, 329587.0, 1119596.0, 1119596.0, 1858683.0, 394151.0, 942665.0, 434930.0, 1942389.0, 1858683.0, 2565124.0, 1858683.0, 1119596.0, 942665.0, 942665.0, 942665.0, 942665.0, 1119596.0, 942665.0, 307651.0, 942665.0, 942665.0, 942665.0, 307651.0, 942665.0, 914678.0, 1858683.0, 1858683.0, 1119596.0, 1240155.0, 329587.0, 1119596.0, 1119596.0, 723576.0, 1119596.0, 694844.0, 694844.0, 694844.0, 2565124.0, 694844.0, 519546.0, 316798.0, 160980.0, 356958.0, 1119596.0, 1119596.0, 388167.0, 964693.0, 495761.0, 694844.0, 196329.0, 460001.0, 694844.0, 694844.0, 160980.0, 694844.0, 694844.0, 1942389.0, 153129.0, 942665.0, 495761.0, 196329.0, 388167.0, 579962.0, 388167.0, 2565124.0, 388167.0, 579962.0, 388167.0, 2565124.0, 1858683.0, 521870.0, 1119596.0, 329587.0, 521870.0, 388167.0, 1119596.0, 521870.0, 1119596.0, 964693.0, 1119596.0, 434930.0, 388167.0, 1493898.0, 673559.0, 329587.0, 329587.0, 694844.0, 495761.0, 329587.0, 329587.0, 694844.0, 673559.0, 329587.0, 694844.0, 694844.0, 694844.0, 1119596.0, 157640.0, 196329.0, 329587.0, 196329.0, 964693.0, 134137.0, 329587.0, 964693.0, 196329.0, 964693.0, 1119596.0, 495761.0, 1119596.0, 581078.0, 388167.0, 694844.0, 196329.0, 1119596.0, 1119596.0, 257762.0, 329587.0, 329587.0, 134137.0, 1119596.0, 1119596.0, 654214.0, 1119596.0, 1119596.0, 694844.0, 329587.0, 694844.0, 673559.0, 1119596.0, 495761.0, 694844.0, 942665.0, 220461.0, 495761.0, 694844.0, 964693.0, 942665.0, 2565124.0, 157640.0, 1119596.0, 694844.0, 942665.0, 329587.0, 196329.0, 196329.0, 157640.0, 330119.0, 316798.0, 160980.0, 1493898.0, 579962.0, 804664.0, 694844.0, 1493898.0, 942665.0, 1493898.0, 434930.0, 316798.0, 196329.0, 1493898.0, 673559.0, 579962.0, 388167.0, 388167.0, 330119.0, 1493898.0, 1119596.0, 1119596.0, 329587.0, 495761.0, 694844.0, 914678.0, 394151.0, 673559.0, 160980.0, 160980.0, 330119.0, 1661785.0, 519546.0, 330119.0, 330119.0, 1022800.0, 1942389.0, 330119.0, 519546.0, 160980.0, 1119596.0, 495761.0, 160980.0, 330119.0, 1942389.0, 723576.0, 172539.0, 172539.0, 172539.0, 723576.0, 495761.0, 1119596.0, 942665.0, 330119.0, 329587.0, 1119596.0, 942665.0, 388167.0, 329587.0, 579962.0, 782979.0, 196329.0, 394151.0, 329587.0, 329587.0, 1119596.0, 330119.0, 1858683.0, 723576.0, 1119596.0, 694844.0, 329587.0, 1119596.0, 172539.0, 1152651.0, 1240155.0, 942665.0, 1240155.0, 1119596.0, 330119.0, 1119596.0, 519546.0, 1493898.0, 673559.0, 771044.0, 257762.0, 1119596.0, 519546.0, 153129.0, 1493898.0, 1119596.0, 519546.0, 1119596.0, 394151.0, 579962.0, 172539.0, 1493898.0, 160980.0, 1493898.0, 1119596.0, 519546.0, 1493898.0, 1493898.0, 1493898.0, 942665.0, 942665.0, 388167.0, 388167.0, 495761.0, 157640.0, 330119.0, 157640.0, 330119.0, 2565124.0, 394151.0, 157640.0, 330119.0, 330119.0, 581078.0, 220461.0, 964693.0, 964693.0, 964693.0, 356958.0, 964693.0, 723576.0, 964693.0, 964693.0, 330119.0, 942665.0, 964693.0, 964693.0, 330119.0, 157640.0, 460001.0, 330119.0, 172539.0, 356958.0, 942665.0, 942665.0, 942665.0, 942665.0, 2565124.0, 2565124.0, 157640.0, 2565124.0, 330119.0, 460001.0, 942665.0, 942665.0, 330119.0, 394151.0, 330119.0, 330119.0, 330119.0, 330119.0, 330119.0, 1119596.0, 1119596.0, 1119596.0, 330119.0, 330119.0, 394151.0, 172539.0, 388167.0, 942665.0, 964693.0, 160980.0, 964693.0, 307651.0, 153129.0, 134137.0, 460001.0, 330119.0, 964693.0, 964693.0, 964693.0, 964693.0, 579962.0, 673559.0, 2565124.0, 134137.0, 2565124.0, 964693.0, 654214.0, 964693.0, 964693.0, 964693.0, 394151.0, 330119.0, 316798.0, 964693.0, 394151.0, 1119596.0, 388167.0, 2565124.0, 1149460.0, 1119596.0, 307651.0, 388167.0, 1119596.0, 1119596.0, 1119596.0, 1119596.0, 356958.0, 942665.0, 942665.0, 581078.0, 388167.0, 330119.0, 964693.0, 519546.0, 964693.0, 964693.0, 1661785.0, 330119.0, 964693.0, 356958.0, 160980.0, 942665.0, 942665.0, 356958.0, 694844.0, 153129.0, 1942389.0, 694844.0, 694844.0, 1240155.0, 694844.0, 694844.0, 330119.0, 1858683.0, 694844.0, 160980.0, 519546.0, 329587.0, 434930.0, 654214.0, 434930.0, 257762.0, 160980.0, 519546.0, 316798.0, 495761.0, 694844.0, 694844.0, 495761.0, 942665.0, 1119596.0, 394151.0, 1119596.0, 2565124.0, 1022800.0, 519546.0, 1119596.0, 434930.0, 160980.0, 1119596.0, 519546.0, 331549.0, 434930.0, 1661785.0, 519546.0, 942665.0, 220461.0, 1119596.0, 942665.0, 316798.0, 316798.0, 1858683.0, 1119596.0, 1119596.0, 1119596.0, 1119596.0, 329587.0, 694844.0, 329587.0, 942665.0, 964693.0, 307651.0, 316798.0, 329587.0, 1119596.0, 964693.0, 220461.0, 172539.0, 964693.0, 964693.0, 694844.0, 330119.0, 330119.0, 495761.0, 157640.0, 329587.0, 495761.0, 495761.0, 356958.0, 495761.0, 964693.0, 694844.0, 330119.0, 964693.0, 942665.0, 220461.0, 1152651.0, 1119596.0, 673559.0, 2565124.0, 172539.0, 581078.0, 356958.0, 330119.0, 330119.0, 519546.0, 330119.0, 330119.0, 330119.0, 330119.0, 330119.0, 694844.0, 1119596.0, 330119.0, 723576.0, 330119.0, 495761.0, 394151.0, 330119.0, 330119.0, 2565124.0, 172539.0, 495761.0, 964693.0, 316798.0, 1119596.0, 434930.0, 633564.0, 1942389.0, 1942389.0, 804664.0, 1119596.0, 804664.0, 804664.0, 172539.0, 1942389.0, 1149460.0, 1149460.0, 330119.0, 1149460.0, 804664.0, 329587.0, 1149460.0, 771044.0, 172539.0, 782979.0, 1119596.0, 495761.0, 495761.0, 1119596.0, 804664.0, 804664.0, 1149460.0, 330119.0, 329587.0, 771044.0, 1119596.0, 1119596.0, 134137.0, 316798.0, 1119596.0, 1119596.0, 964693.0, 329587.0, 329587.0, 771044.0, 1149460.0, 2565124.0, 220461.0, 964693.0, 521870.0, 1119596.0, 388167.0, 316798.0, 329587.0, 1119596.0, 1119596.0, 579962.0, 172539.0, 1119596.0, 694844.0, 1119596.0, 307651.0, 1240155.0, 220461.0, 329587.0, 394151.0, 519546.0, 579962.0, 1942389.0, 521870.0, 1942389.0, 519546.0, 330119.0, 330119.0, 330119.0, 329587.0, 394151.0, 804664.0, 1119596.0, 1119596.0, 1119596.0, 172539.0, 1119596.0, 694844.0, 1942389.0, 316798.0, 160980.0, 394151.0, 694844.0, 2565124.0, 579962.0, 942665.0, 1942389.0, 1240155.0, 771044.0, 694844.0, 356958.0, 1119596.0, 1119596.0, 1240155.0, 1493898.0, 1119596.0, 157640.0, 1119596.0, 914678.0, 579962.0, 495761.0, 2565124.0, 1493898.0, 804664.0, 495761.0, 2565124.0, 2565124.0, 519546.0, 1661785.0, 1119596.0, 1119596.0, 88636.0, 330119.0, 495761.0, 1119596.0, 172539.0, 1119596.0, 771044.0, 172539.0, 942665.0, 153129.0, 330119.0, 1119596.0, 1119596.0, 330119.0, 519546.0, 153129.0, 694844.0, 153129.0, 172539.0, 153129.0, 519546.0, 330119.0, 157640.0, 771044.0, 316798.0, 160980.0, 694844.0, 942665.0, 1119596.0, 1858683.0, 519546.0, 356958.0, 394151.0, 673559.0, 172539.0, 1149460.0, 394151.0, 694844.0, 1661785.0, 1661785.0, 196329.0, 1119596.0, 1119596.0, 964693.0, 330119.0, 942665.0, 1119596.0, 942665.0, 694844.0, 434930.0, 694844.0, 394151.0, 172539.0, 1858683.0, 356958.0, 694844.0, 771044.0, 1119596.0, 1149460.0, 307651.0, 673559.0, 329587.0, 1022800.0, 942665.0, 1119596.0, 329587.0, 782979.0, 673559.0, 307651.0, 771044.0, 694844.0, 771044.0, 942665.0, 782979.0, 694844.0, 1119596.0, 942665.0, 964693.0, 394151.0, 460001.0, 307651.0, 1119596.0, 942665.0, 307651.0, 694844.0, 460001.0, 1119596.0, 694844.0, 356958.0, 804664.0, 316798.0, 153129.0, 694844.0, 519546.0, 330119.0, 153129.0, 460001.0, 1661785.0, 1119596.0, 329587.0, 1661785.0, 434930.0, 329587.0, 1149460.0, 1119596.0, 307651.0, 1119596.0, 1119596.0, 673559.0, 330119.0, 330119.0, 160980.0, 964693.0, 394151.0, 330119.0, 172539.0, 460001.0, 356958.0, 519546.0, 330119.0, 964693.0, 694844.0, 330119.0, 316798.0, 330119.0, 964693.0, 964693.0, 330119.0, 1858683.0, 942665.0, 1119596.0, 329587.0, 1119596.0, 1119596.0, 1858683.0, 460001.0, 330119.0, 330119.0, 153129.0, 942665.0, 521870.0, 316798.0, 654214.0, 694844.0, 157640.0, 964693.0, 1858683.0, 964693.0, 356958.0, 964693.0, 356958.0, 157640.0, 694844.0, 694844.0, 1119596.0, 394151.0, 521870.0, 1240155.0, 1858683.0, 394151.0, 694844.0, 356958.0, 521870.0, 330119.0, 331549.0, 942665.0, 942665.0, 356958.0, 1942389.0, 1119596.0, 316798.0, 316798.0, 157640.0, 356958.0, 673559.0, 394151.0, 316798.0, 519546.0, 519546.0, 160980.0, 330119.0, 330119.0, 519546.0, 172539.0, 157640.0, 519546.0, 1022800.0, 1661785.0, 1661785.0, 1942389.0, 330119.0, 964693.0, 172539.0, 307651.0, 330119.0, 1119596.0, 330119.0, 1942389.0, 330119.0, 694844.0, 1240155.0, 330119.0, 153129.0, 964693.0, 1942389.0, 1152651.0, 330119.0, 1240155.0, 1119596.0, 330119.0, 330119.0, 316798.0, 330119.0, 1942389.0, 581078.0, 330119.0, 356958.0, 330119.0, 330119.0, 654214.0, 330119.0, 521870.0, 782979.0, 330119.0, 172539.0, 1149460.0, 1119596.0, 771044.0, 388167.0, 434930.0, 388167.0, 172539.0, 434930.0, 356958.0, 723576.0, 581078.0, 330119.0, 654214.0, 356958.0, 1119596.0, 172539.0, 329587.0, 460001.0, 394151.0, 356958.0, 804664.0, 519546.0, 330119.0, 964693.0, 1119596.0, 172539.0, 88636.0, 330119.0, 330119.0, 654214.0, 519546.0, 330119.0, 581078.0, 804664.0, 942665.0, 394151.0, 519546.0, 330119.0, 160980.0, 673559.0, 460001.0, 519546.0, 172539.0, 330119.0, 172539.0, 579962.0, 771044.0, 1120406.0, 394151.0, 160980.0, 2565124.0, 1152651.0, 172539.0, 134137.0, 88636.0, 519546.0, 388167.0, 160980.0, 394151.0, 964693.0, 1120406.0, 964693.0, 460001.0, 160980.0, 394151.0, 1661785.0, 964693.0, 220461.0, 1661785.0, 330119.0, 964693.0, 460001.0, 1022800.0, 153129.0, 388167.0, 579962.0, 356958.0, 654214.0, 356958.0, 157640.0, 330119.0, 134137.0, 394151.0, 220461.0, 330119.0, 394151.0, 1152651.0, 581078.0, 330119.0, 356958.0, 394151.0, 356958.0, 964693.0, 330119.0, 356958.0, 394151.0, 519546.0, 157640.0, 579962.0, 964693.0, 964693.0, 673559.0, 356958.0, 694844.0, 519546.0, 964693.0, 694844.0, 153129.0, 160980.0, 1942389.0, 356958.0, 1858683.0, 196329.0, 942665.0, 673559.0, 1119596.0, 1119596.0, 1661785.0, 942665.0, 942665.0, 394151.0, 1119596.0, 1119596.0, 942665.0, 1119596.0, 673559.0, 1119596.0, 1119596.0, 1119596.0, 1119596.0, 1119596.0, 434930.0, 1149460.0, 673559.0, 394151.0, 519546.0, 942665.0, 434930.0, 160980.0, 1661785.0, 1022800.0, 1119596.0, 1022800.0, 1119596.0, 1119596.0, 1119596.0, 942665.0, 1119596.0, 1119596.0, 1119596.0, 196329.0, 1119596.0, 495761.0, 1661785.0, 942665.0, 1120406.0, 1119596.0, 1022800.0, 1240155.0, 1119596.0, 329587.0, 942665.0, 394151.0, 330119.0, 1119596.0, 1119596.0, 196329.0, 1119596.0, 330119.0, 460001.0, 329587.0, 329587.0, 1119596.0, 1119596.0, 1119596.0, 330119.0, 434930.0, 1149460.0, 1661785.0, 942665.0, 394151.0, 1119596.0, 1942389.0, 942665.0, 1942389.0, 1942389.0, 329587.0, 330119.0, 964693.0, 196329.0, 964693.0, 942665.0, 329587.0, 1119596.0, 1119596.0, 394151.0, 1119596.0, 942665.0, 1119596.0, 394151.0, 316798.0, 394151.0, 942665.0, 316798.0, 942665.0, 1119596.0, 1119596.0, 172539.0, 1119596.0, 1119596.0, 1119596.0, 1119596.0, 942665.0, 1119596.0, 460001.0, 942665.0, 1119596.0, 329587.0, 196329.0, 1240155.0, 1240155.0, 942665.0, 1119596.0, 1119596.0, 1119596.0, 1119596.0, 942665.0, 1119596.0, 942665.0, 329587.0, 673559.0, 1119596.0, 694844.0, 307651.0, 942665.0, 942665.0, 771044.0, 804664.0, 307651.0, 942665.0, 1119596.0, 1119596.0, 942665.0, 771044.0, 942665.0, 1119596.0, 942665.0, 1942389.0, 942665.0, 1119596.0, 307651.0, 434930.0, 1119596.0, 1119596.0, 1119596.0, 2565124.0, 942665.0, 1149460.0, 1942389.0, 1120406.0, 1119596.0, 1119596.0, 434930.0, 771044.0, 307651.0, 330119.0, 1119596.0, 329587.0, 654214.0, 694844.0, 434930.0, 1119596.0, 1119596.0, 771044.0, 942665.0, 1119596.0, 307651.0, 1119596.0, 434930.0, 196329.0, 1240155.0, 782979.0, 160980.0, 330119.0, 519546.0, 356958.0, 434930.0, 579962.0, 434930.0, 196329.0, 160980.0, 196329.0, 673559.0, 434930.0, 942665.0, 1119596.0, 942665.0, 307651.0, 1149460.0, 964693.0, 5664579.0, 1119596.0, 1858683.0, 330119.0, 914678.0, 6663394.0, 519546.0, 6663394.0, 914678.0, 1858683.0, 6663394.0, 388167.0, 519546.0, 964693.0, 1120406.0, 172539.0, 6663394.0, 6663394.0, 6663394.0, 5664579.0, 6663394.0, 331549.0, 257762.0, 694844.0, 6663394.0, 6663394.0, 1942389.0, 914678.0, 5664579.0, 914678.0, 6663394.0, 6663394.0, 6663394.0, 1119596.0, 804664.0, 1119596.0, 654214.0, 356958.0, 673559.0, 694844.0, 5664579.0, 6663394.0, 307651.0, 2565124.0, 6663394.0, 5664579.0, 316798.0, 1942389.0, 6663394.0, 1022800.0, 1661785.0, 394151.0, 1493898.0, 2565124.0, 1858683.0, 1119596.0, 1119596.0, 1661785.0, 964693.0, 6663394.0, 5664579.0, 1942389.0, 519546.0, 495761.0, 1119596.0, 1119596.0, 581078.0, 5664579.0, 633564.0, 1942389.0, 6663394.0, 2565124.0, 1942389.0, 581078.0, 6663394.0, 1942389.0, 1240155.0, 1152651.0, 6663394.0, 1022800.0, 6663394.0, 1022800.0, 1120406.0, 521870.0, 5664579.0, 5664579.0, 6663394.0, 782979.0, 1493898.0, 394151.0, 5664579.0, 1032983.0, 6663394.0, 5664579.0, 1493898.0, 2565124.0, 1152651.0, 1858683.0, 1240155.0, 1661785.0, 1942389.0, 771044.0, 694844.0, 388167.0, 5664579.0, 6663394.0, 330119.0, 1858683.0, 1942389.0, 331549.0, 1942389.0, 1120406.0, 5664579.0, 1942389.0, 1661785.0, 5664579.0, 356958.0, 1149460.0, 5664579.0, 6663394.0, 914678.0, 1661785.0, 2565124.0, 6663394.0, 6663394.0, 1493898.0, 6663394.0, 581078.0, 581078.0, 673559.0, 1661785.0, 581078.0, 782979.0, 6663394.0, 804664.0, 6663394.0, 6663394.0, 6663394.0, 914678.0, 6663394.0, 5664579.0, 6663394.0, 1661785.0, 6663394.0, 673559.0, 316798.0, 1858683.0, 964693.0, 5664579.0, 942665.0, 633564.0, 5664579.0, 6663394.0, 1942389.0, 5664579.0, 2565124.0, 1120406.0, 1661785.0, 5664579.0, 6663394.0, 1858683.0, 1240155.0, 716820.0, 1942389.0, 633564.0, 6663394.0, 6663394.0, 1942389.0, 5664579.0, 6663394.0, 6663394.0, 6663394.0, 5664579.0, 6663394.0, 1032983.0, 581078.0, 6663394.0, 5664579.0, 6663394.0, 6663394.0, 521870.0, 6663394.0, 1942389.0, 6663394.0, 2565124.0, 6663394.0, 6663394.0, 157640.0, 6663394.0, 6663394.0, 1149460.0, 723576.0, 2565124.0, 6663394.0, 942665.0, 6663394.0, 804664.0, 5664579.0, 1493898.0, 1942389.0, 2565124.0, 6663394.0, 6663394.0, 964693.0, 804664.0, 6663394.0, 1493898.0, 694844.0, 5664579.0, 6663394.0, 914678.0, 5664579.0, 6663394.0, 388167.0, 6663394.0, 654214.0, 521870.0, 6663394.0, 581078.0, 6663394.0, 356958.0, 5664579.0, 1120406.0, 1661785.0, 1120406.0, 6663394.0, 1858683.0, 6663394.0, 1661785.0, 6663394.0, 1120406.0, 6663394.0, 6663394.0, 257762.0, 331549.0, 5664579.0, 771044.0, 6663394.0, 6663394.0, 6663394.0, 1661785.0, 5664579.0, 2565124.0, 2565124.0, 1942389.0, 84777.0, 6663394.0, 6663394.0, 6663394.0, 519546.0, 6663394.0, 495761.0, 1661785.0, 519546.0, 1119596.0, 6663394.0, 6663394.0, 6663394.0, 5664579.0, 914678.0, 2565124.0, 1858683.0, 2565124.0, 2565124.0, 1493898.0, 5664579.0, 6663394.0, 460001.0, 2565124.0, 1240155.0, 1152651.0, 6663394.0, 1942389.0, 6663394.0, 5664579.0, 6663394.0, 6663394.0, 5664579.0, 6663394.0, 5664579.0, 6663394.0, 694844.0, 1493898.0, 220461.0, 2565124.0, 633564.0, 2565124.0, 5664579.0, 771044.0, 914678.0, 1493898.0, 388167.0, 5664579.0, 5664579.0, 6663394.0, 782979.0, 2565124.0, 964693.0, 1858683.0, 964693.0, 1240155.0, 394151.0, 6663394.0, 6663394.0, 6663394.0, 153129.0, 6663394.0, 6663394.0, 6663394.0, 6663394.0, 6663394.0, 2565124.0, 6663394.0, 6663394.0, 6663394.0, 2565124.0, 5664579.0, 942665.0, 5664579.0, 1942389.0, 5664579.0, 1493898.0, 6663394.0, 694844.0, 6663394.0, 5664579.0, 6663394.0, 5664579.0, 771044.0, 5664579.0, 6663394.0, 633564.0, 1022800.0, 5664579.0, 5664579.0, 964693.0, 5664579.0, 1661785.0, 1661785.0, 6663394.0, 6663394.0, 1022800.0, 782979.0, 6663394.0, 6663394.0, 6663394.0, 2565124.0, 88636.0, 5664579.0, 1942389.0, 6663394.0, 673559.0, 6663394.0, 1493898.0, 6663394.0, 581078.0, 1942389.0, 6663394.0, 5664579.0, 5664579.0, 5664579.0, 1493898.0, 5664579.0, 1022800.0, 6663394.0, 6663394.0, 6663394.0, 5664579.0, 942665.0, 388167.0, 519546.0, 716820.0, 914678.0, 330119.0, 694844.0, 6663394.0, 6663394.0, 694844.0, 942665.0, 964693.0, 1858683.0, 716820.0, 1119596.0, 581078.0, 1942389.0, 2565124.0, 316798.0, 1661785.0, 257762.0, 694844.0, 6663394.0, 5664579.0, 434930.0, 388167.0, 6663394.0, 394151.0, 307651.0, 1120406.0, 964693.0, 519546.0, 6663394.0, 6663394.0, 2565124.0, 1661785.0, 1942389.0, 6663394.0, 6663394.0, 6663394.0, 1152651.0, 673559.0, 6663394.0, 2565124.0, 6663394.0, 694844.0, 633564.0, 519546.0, 5664579.0, 6663394.0, 5664579.0, 1493898.0, 519546.0, 2565124.0, 5664579.0, 2565124.0, 157640.0, 1120406.0, 331549.0, 5664579.0, 964693.0, 1661785.0, 6663394.0, 581078.0, 5664579.0, 6663394.0, 1661785.0, 519546.0, 654214.0, 723576.0, 6663394.0, 1120406.0, 1119596.0, 5664579.0, 2565124.0, 2565124.0, 1493898.0, 6663394.0, 804664.0, 581078.0, 804664.0, 6663394.0, 1942389.0, 6663394.0, 1119596.0, 964693.0, 1661785.0, 694844.0, 1022800.0, 6663394.0, 6663394.0, 2565124.0, 521870.0, 942665.0, 519546.0, 1032983.0, 1119596.0, 6663394.0, 316798.0, 6663394.0, 6663394.0, 6663394.0, 6663394.0, 519546.0, 5664579.0, 1942389.0, 6663394.0, 1240155.0, 1493898.0, 160980.0, 460001.0, 6663394.0, 495761.0, 5664579.0, 6663394.0, 1942389.0, 1493898.0, 1493898.0, 964693.0, 6663394.0, 1032983.0, 2565124.0, 5664579.0, 1032983.0, 2565124.0, 5664579.0, 5664579.0, 581078.0, 6663394.0, 633564.0, 6663394.0, 1942389.0, 6663394.0, 6663394.0, 1942389.0, 1942389.0, 5664579.0, 1858683.0, 6663394.0, 804664.0, 6663394.0, 6663394.0, 330119.0, 6663394.0, 6663394.0, 356958.0, 6663394.0, 2565124.0, 2565124.0, 6663394.0, 6663394.0, 394151.0, 6663394.0, 1119596.0, 6663394.0, 673559.0, 633564.0, 1661785.0, 356958.0, 1942389.0, 1120406.0, 964693.0, 723576.0, 581078.0, 2565124.0, 1032983.0, 942665.0, 1661785.0, 6663394.0, 6663394.0, 964693.0, 914678.0, 1119596.0, 1858683.0, 2565124.0, 2565124.0, 1022800.0, 6663394.0, 942665.0, 581078.0, 1119596.0, 6663394.0, 5664579.0, 1942389.0, 782979.0, 6663394.0, 1942389.0, 5664579.0, 1942389.0, 2565124.0, 804664.0, 1942389.0, 356958.0, 6663394.0, 1942389.0, 434930.0, 6663394.0, 1119596.0, 5664579.0, 804664.0, 581078.0, 6663394.0, 521870.0, 6663394.0, 1119596.0, 6663394.0, 519546.0, 6663394.0, 6663394.0, 2565124.0, 6663394.0, 5664579.0, 942665.0, 6663394.0, 804664.0, 633564.0, 6663394.0, 1119596.0, 1120406.0, 6663394.0, 2565124.0, 5664579.0, 579962.0, 6663394.0, 6663394.0, 5664579.0, 2565124.0, 316798.0, 694844.0, 6663394.0, 1661785.0, 6663394.0, 1022800.0, 5664579.0, 521870.0, 2565124.0, 6663394.0, 964693.0, 6663394.0, 1858683.0, 5664579.0, 1858683.0, 388167.0, 1942389.0, 6663394.0, 6663394.0, 6663394.0, 1240155.0, 6663394.0, 914678.0, 6663394.0, 6663394.0, 6663394.0, 6663394.0, 6663394.0, 1661785.0, 6663394.0, 654214.0, 1240155.0, 914678.0, 6663394.0, 6663394.0, 942665.0, 6663394.0, 6663394.0, 782979.0, 581078.0, 1942389.0, 356958.0, 6663394.0, 2565124.0, 782979.0, 257762.0, 581078.0, 5664579.0, 1858683.0, 942665.0, 6663394.0, 220461.0, 6663394.0, 157640.0, 1022800.0, 6663394.0, 1240155.0, 942665.0, 694844.0, 716820.0, 2565124.0, 581078.0, 6663394.0, 1022800.0, 6663394.0, 257762.0, 6663394.0, 6663394.0, 6663394.0, 942665.0, 723576.0, 673559.0, 6663394.0, 330119.0, 6663394.0, 1240155.0, 1858683.0, 694844.0, 1942389.0, 6663394.0, 6663394.0, 1120406.0, 5664579.0, 1120406.0, 1661785.0, 460001.0, 6663394.0, 1942389.0, 5664579.0, 6663394.0, 330119.0, 1942389.0, 1022800.0, 579962.0, 1858683.0, 1942389.0, 6663394.0, 1661785.0, 633564.0, 1858683.0, 5664579.0, 694844.0, 160980.0, 316798.0, 1152651.0, 6663394.0, 5664579.0, 5664579.0, 5664579.0, 723576.0, 2565124.0, 5664579.0, 6663394.0, 1032983.0, 1942389.0, 6663394.0, 6663394.0, 1661785.0, 1032983.0, 6663394.0, 1858683.0, 1661785.0, 6663394.0, 6663394.0, 1119596.0, 5664579.0, 330119.0, 1493898.0, 2565124.0, 6663394.0, 723576.0, 1022800.0, 1240155.0, 6663394.0, 6663394.0, 2565124.0, 1022800.0, 1149460.0, 6663394.0, 257762.0, 6663394.0, 6663394.0, 579962.0, 914678.0, 2565124.0, 2565124.0, 1493898.0, 694844.0, 5664579.0, 1120406.0, 581078.0, 694844.0, 964693.0, 1493898.0, 6663394.0, 6663394.0, 388167.0, 519546.0, 1493898.0, 1152651.0, 5664579.0, 6663394.0, 1942389.0, 2565124.0, 716820.0, 1240155.0, 2565124.0, 329587.0, 5664579.0, 6663394.0, 6663394.0, 1493898.0, 495761.0, 157640.0, 134137.0, 1661785.0, 6663394.0, 6663394.0, 329587.0, 316798.0, 6663394.0, 6663394.0, 5664579.0, 2565124.0, 716820.0, 694844.0, 1493898.0, 1493898.0, 519546.0, 579962.0, 220461.0, 5664579.0, 716820.0, 6663394.0, 1858683.0, 172539.0, 6663394.0, 5664579.0, 1120406.0, 84777.0, 633564.0, 6663394.0, 1119596.0, 914678.0, 5664579.0, 804664.0, 6663394.0, 86487.0, 716820.0, 6663394.0, 1119596.0, 1149460.0, 1661785.0, 6663394.0, 6663394.0, 5664579.0, 1493898.0, 1858683.0, 654214.0, 6663394.0, 5664579.0, 2565124.0, 1661785.0, 1942389.0, 2565124.0, 2565124.0, 914678.0, 5664579.0, 6663394.0, 6663394.0, 5664579.0, 6663394.0, 6663394.0, 1661785.0, 1858683.0, 716820.0, 6663394.0, 716820.0, 6663394.0, 6663394.0, 581078.0, 1858683.0, 257762.0, 1119596.0, 434930.0, 1493898.0, 964693.0, 942665.0, 6663394.0, 1120406.0, 1858683.0, 1661785.0, 6663394.0, 2565124.0, 1022800.0, 673559.0, 1858683.0, 6663394.0, 1661785.0, 579962.0, 6663394.0, 6663394.0, 6663394.0, 579962.0, 1120406.0, 1942389.0, 460001.0, 2565124.0, 196329.0, 1858683.0, 2565124.0, 6663394.0, 6663394.0, 782979.0, 6663394.0, 1661785.0, 942665.0, 329587.0, 6663394.0, 5664579.0, 1149460.0, 581078.0, 782979.0, 1858683.0, 6663394.0, 6663394.0, 6663394.0, 1120406.0, 1661785.0, 5664579.0, 1661785.0, 5664579.0, 157640.0, 1022800.0, 1240155.0, 5664579.0, 6663394.0, 2565124.0, 581078.0, 5664579.0, 6663394.0, 157640.0, 5664579.0, 356958.0, 6663394.0, 5664579.0, 6663394.0, 1661785.0, 6663394.0, 460001.0, 1119596.0, 6663394.0, 5664579.0, 6663394.0, 1120406.0, 1120406.0, 6663394.0, 782979.0, 694844.0, 1120406.0, 1152651.0, 330119.0, 6663394.0, 220461.0, 654214.0, 316798.0, 581078.0, 330119.0, 6663394.0, 495761.0, 1661785.0, 1858683.0, 1240155.0, 716820.0, 964693.0, 1661785.0, 6663394.0, 5664579.0, 1661785.0, 964693.0, 6663394.0, 1022800.0, 5664579.0, 1032983.0, 5664579.0, 1119596.0, 1240155.0, 6663394.0, 1149460.0, 356958.0, 1120406.0, 5664579.0, 6663394.0, 1858683.0, 519546.0, 2565124.0, 329587.0, 434930.0, 460001.0, 2565124.0, 1942389.0, 6663394.0, 6663394.0, 388167.0, 1149460.0, 1493898.0, 2565124.0, 654214.0, 1493898.0, 942665.0, 6663394.0, 6663394.0, 914678.0, 6663394.0, 6663394.0, 6663394.0, 316798.0, 1493898.0, 2565124.0, 6663394.0, 1661785.0, 6663394.0, 1942389.0, 1240155.0, 581078.0, 1119596.0, 6663394.0, 329587.0, 723576.0, 5664579.0, 1942389.0, 6663394.0, 1032983.0, 6663394.0, 356958.0, 1942389.0, 1942389.0, 6663394.0, 2565124.0, 1119596.0, 460001.0, 1942389.0, 6663394.0, 5664579.0, 581078.0, 1119596.0, 1942389.0, 1942389.0, 460001.0, 1022800.0, 1661785.0, 6663394.0, 6663394.0, 1032983.0, 519546.0, 6663394.0, 1493898.0, 5664579.0, 6663394.0, 2565124.0, 6663394.0, 5664579.0, 2565124.0, 6663394.0, 1032983.0, 6663394.0, 6663394.0, 6663394.0, 6663394.0, 5664579.0, 1942389.0, 6663394.0, 5664579.0, 723576.0, 495761.0, 1022800.0, 331549.0, 6663394.0, 964693.0, 1661785.0, 5664579.0, 6663394.0, 1032983.0, 914678.0, 5664579.0, 2565124.0, 1152651.0, 6663394.0, 5664579.0, 6663394.0, 1493898.0, 1942389.0, 6663394.0, 1022800.0, 160980.0, 160980.0, 6663394.0, 1661785.0, 964693.0, 6663394.0, 394151.0, 329587.0, 1152651.0, 394151.0, 2565124.0, 331549.0, 5664579.0, 942665.0, 5664579.0, 1149460.0, 6663394.0, 1942389.0, 1942389.0, 1858683.0, 633564.0, 521870.0, 1119596.0, 1493898.0, 1022800.0, 6663394.0, 6663394.0, 581078.0, 6663394.0, 1493898.0, 1032983.0, 1858683.0, 1942389.0, 1661785.0, 1942389.0, 1022800.0, 6663394.0, 1858683.0, 1858683.0, 1858683.0, 804664.0, 782979.0, 1149460.0, 1858683.0, 1942389.0, 1119596.0, 1119596.0, 196329.0, 5664579.0, 5664579.0, 5664579.0, 1493898.0, 5664579.0, 6663394.0, 2565124.0, 6663394.0, 519546.0, 2565124.0, 1858683.0, 1942389.0, 1858683.0, 1022800.0, 2565124.0, 6663394.0, 394151.0, 1240155.0, 6663394.0, 942665.0, 942665.0, 5664579.0, 6663394.0, 6663394.0, 2565124.0, 6663394.0, 716820.0, 1942389.0, 942665.0, 5664579.0, 1661785.0, 6663394.0, 1022800.0, 1032983.0, 495761.0, 2565124.0, 2565124.0, 1858683.0, 673559.0, 6663394.0, 964693.0, 964693.0, 782979.0, 1032983.0, 2565124.0, 1858683.0, 6663394.0, 5664579.0, 1493898.0, 716820.0, 6663394.0, 964693.0, 673559.0, 495761.0, 1493898.0, 6663394.0, 1032983.0, 6663394.0, 1858683.0, 1942389.0, 6663394.0, 1120406.0, 6663394.0, 581078.0, 6663394.0, 716820.0, 5664579.0, 5664579.0, 88636.0, 942665.0, 1661785.0, 1858683.0, 633564.0, 6663394.0, 914678.0, 2565124.0, 331549.0, 1493898.0, 1120406.0, 1120406.0, 6663394.0, 6663394.0, 6663394.0, 914678.0, 579962.0, 6663394.0, 6663394.0, 5664579.0, 1149460.0, 1032983.0, 1119596.0, 1661785.0, 5664579.0, 495761.0, 6663394.0, 519546.0, 6663394.0, 5664579.0, 964693.0, 579962.0, 723576.0, 6663394.0, 6663394.0, 6663394.0, 964693.0, 6663394.0, 1493898.0, 521870.0, 694844.0, 6663394.0, 1942389.0, 6663394.0, 5664579.0, 6663394.0, 5664579.0, 2565124.0, 6663394.0, 6663394.0, 6663394.0, 519546.0, 2565124.0, 5664579.0, 1942389.0, 6663394.0, 6663394.0, 694844.0, 1661785.0, 6663394.0, 6663394.0, 6663394.0, 5664579.0, 914678.0, 1942389.0, 1942389.0, 2565124.0, 654214.0, 6663394.0, 172539.0, 5664579.0, 6663394.0, 1240155.0, 6663394.0, 5664579.0, 394151.0, 1858683.0, 6663394.0, 782979.0, 1493898.0, 6663394.0, 6663394.0, 654214.0, 356958.0, 1942389.0, 6663394.0, 6663394.0, 6663394.0, 942665.0, 782979.0, 6663394.0, 5664579.0, 1022800.0, 1240155.0, 1152651.0, 6663394.0, 1120406.0, 356958.0, 6663394.0, 1942389.0, 6663394.0, 6663394.0, 5664579.0, 1942389.0, 914678.0, 6663394.0, 1152651.0, 694844.0, 356958.0, 942665.0, 942665.0, 1858683.0, 1942389.0, 2565124.0, 964693.0, 914678.0, 257762.0, 6663394.0, 1661785.0, 1240155.0, 6663394.0, 1120406.0, 1240155.0, 5664579.0, 771044.0, 6663394.0, 782979.0, 5664579.0, 5664579.0, 6663394.0, 330119.0, 1858683.0, 257762.0, 2565124.0, 519546.0, 914678.0, 6663394.0, 1493898.0, 495761.0, 196329.0, 6663394.0, 1032983.0, 519546.0, 2565124.0, 1858683.0, 782979.0, 172539.0, 257762.0, 1119596.0, 356958.0, 6663394.0, 1858683.0, 495761.0, 1942389.0, 771044.0, 5664579.0, 6663394.0, 1493898.0, 1152651.0, 6663394.0, 1240155.0, 6663394.0, 5664579.0, 1149460.0, 6663394.0, 5664579.0, 633564.0, 1152651.0, 6663394.0, 633564.0, 5664579.0, 388167.0, 782979.0, 6663394.0, 1661785.0, 716820.0, 6663394.0, 6663394.0, 6663394.0, 6663394.0, 1152651.0, 1661785.0, 1032983.0, 1240155.0, 6663394.0, 394151.0, 1942389.0, 964693.0, 1942389.0, 6663394.0, 356958.0, 1149460.0, 5664579.0, 1661785.0, 1119596.0, 6663394.0, 460001.0, 6663394.0, 1942389.0, 716820.0, 694844.0, 1858683.0, 6663394.0, 1493898.0, 6663394.0, 5664579.0, 6663394.0, 694844.0, 6663394.0, 5664579.0, 1661785.0, 6663394.0, 694844.0, 5664579.0, 5664579.0, 782979.0, 521870.0, 5664579.0, 521870.0, 6663394.0, 782979.0, 434930.0, 2565124.0, 6663394.0, 1661785.0, 1942389.0, 6663394.0, 434930.0, 1493898.0, 1942389.0, 2565124.0, 1661785.0, 2565124.0, 394151.0, 654214.0, 1661785.0, 1240155.0, 1120406.0, 196329.0, 495761.0, 782979.0, 6663394.0, 716820.0, 519546.0, 6663394.0, 172539.0, 6663394.0, 495761.0, 1942389.0, 5664579.0, 914678.0, 694844.0, 633564.0, 1120406.0, 942665.0, 6663394.0, 6663394.0, 782979.0, 1240155.0, 804664.0, 1858683.0, 6663394.0, 964693.0, 6663394.0, 942665.0, 1022800.0, 521870.0, 1493898.0, 5664579.0, 6663394.0, 6663394.0, 5664579.0, 6663394.0, 942665.0, 2565124.0, 6663394.0, 6663394.0, 579962.0, 6663394.0, 1858683.0, 5664579.0, 1493898.0, 6663394.0, 1149460.0, 782979.0, 1942389.0, 1942389.0, 581078.0, 460001.0, 6663394.0, 6663394.0, 6663394.0, 460001.0, 6663394.0, 6663394.0, 5664579.0, 942665.0, 519546.0, 1661785.0, 804664.0, 1661785.0, 519546.0, 6663394.0, 579962.0, 2565124.0, 1119596.0, 804664.0, 964693.0, 1942389.0, 2565124.0, 157640.0, 1942389.0, 1661785.0, 716820.0, 6663394.0, 6663394.0, 2565124.0, 6663394.0, 356958.0, 6663394.0, 5664579.0, 460001.0, 5664579.0, 460001.0, 6663394.0, 914678.0, 1942389.0, 5664579.0, 782979.0, 771044.0, 356958.0, 6663394.0, 1661785.0, 519546.0, 2565124.0, 356958.0, 6663394.0, 2565124.0, 5664579.0, 6663394.0, 581078.0, 330119.0, 1120406.0, 6663394.0, 694844.0, 1119596.0, 1120406.0, 6663394.0, 388167.0, 1858683.0, 6663394.0, 495761.0, 5664579.0, 6663394.0, 942665.0, 1022800.0, 1858683.0, 220461.0, 1120406.0, 6663394.0, 804664.0, 6663394.0, 942665.0, 964693.0, 153129.0, 654214.0, 6663394.0, 157640.0, 460001.0, 1661785.0, 1858683.0, 1240155.0, 694844.0, 5664579.0, 1022800.0, 942665.0, 716820.0, 1240155.0, 6663394.0, 519546.0, 6663394.0, 6663394.0, 6663394.0, 1120406.0, 1493898.0, 964693.0, 1942389.0, 2565124.0, 5664579.0, 2565124.0, 6663394.0, 2565124.0, 356958.0, 804664.0, 2565124.0, 716820.0, 1942389.0, 5664579.0, 5664579.0, 519546.0, 307651.0, 519546.0, 6663394.0, 6663394.0, 1493898.0, 6663394.0, 804664.0, 1120406.0, 1942389.0, 1149460.0, 519546.0, 581078.0, 6663394.0, 1858683.0, 460001.0, 1493898.0, 6663394.0, 1858683.0, 329587.0, 1120406.0, 6663394.0, 2565124.0, 6663394.0, 2565124.0, 633564.0, 2565124.0, 1858683.0, 6663394.0, 6663394.0, 1942389.0, 6663394.0, 6663394.0, 6663394.0, 1022800.0, 5664579.0, 5664579.0, 964693.0, 5664579.0, 5664579.0, 2565124.0, 329587.0, 6663394.0, 6663394.0, 316798.0, 1493898.0, 6663394.0, 2565124.0, 964693.0, 6663394.0, 1942389.0, 6663394.0, 5664579.0, 6663394.0, 1240155.0, 84777.0, 1152651.0, 6663394.0, 5664579.0, 6663394.0, 460001.0, 331549.0, 771044.0, 2565124.0, 6663394.0, 6663394.0, 1120406.0, 394151.0, 521870.0, 521870.0, 1149460.0, 6663394.0, 1152651.0, 1022800.0, 673559.0, 6663394.0, 519546.0, 5664579.0, 6663394.0, 581078.0, 6663394.0, 1032983.0, 6663394.0, 942665.0, 804664.0, 1119596.0, 1119596.0, 1661785.0, 1022800.0, 1661785.0, 5664579.0, 519546.0, 6663394.0, 1149460.0, 5664579.0, 716820.0, 5664579.0, 6663394.0, 257762.0, 1661785.0, 1120406.0, 1152651.0, 6663394.0, 2565124.0, 6663394.0, 5664579.0, 2565124.0, 6663394.0, 782979.0, 172539.0, 6663394.0, 2565124.0, 6663394.0, 316798.0, 5664579.0, 1942389.0, 654214.0, 1120406.0, 6663394.0, 6663394.0, 6663394.0, 1661785.0, 5664579.0, 1493898.0, 6663394.0, 1240155.0, 1493898.0, 157640.0, 654214.0, 1493898.0, 6663394.0, 1942389.0, 1119596.0, 1493898.0, 153129.0, 5664579.0, 519546.0, 6663394.0, 1120406.0, 521870.0, 5664579.0, 964693.0, 330119.0, 2565124.0, 5664579.0, 1240155.0, 5664579.0, 1022800.0, 1942389.0, 331549.0, 1942389.0, 1152651.0, 1240155.0, 6663394.0, 6663394.0, 1942389.0, 521870.0, 716820.0, 964693.0, 1119596.0, 1661785.0, 2565124.0, 1858683.0, 460001.0, 316798.0, 519546.0, 257762.0, 581078.0, 521870.0, 2565124.0, 1661785.0, 1022800.0, 1661785.0, 6663394.0, 1942389.0, 6663394.0, 6663394.0, 5664579.0, 5664579.0, 5664579.0, 804664.0, 964693.0, 6663394.0, 579962.0, 673559.0, 964693.0, 1493898.0, 6663394.0, 6663394.0, 5664579.0, 1942389.0, 1661785.0, 5664579.0, 2565124.0, 1661785.0, 6663394.0, 495761.0, 157640.0, 1661785.0, 6663394.0, 6663394.0, 6663394.0, 6663394.0, 6663394.0, 1119596.0, 1240155.0, 5664579.0, 6663394.0, 1661785.0, 2565124.0, 1493898.0, 6663394.0, 6663394.0, 1942389.0, 1942389.0, 153129.0, 6663394.0, 6663394.0, 356958.0, 782979.0, 1942389.0, 1152651.0, 6663394.0, 6663394.0, 1942389.0, 6663394.0, 581078.0, 2565124.0, 6663394.0, 6663394.0, 5664579.0, 1493898.0, 1858683.0, 694844.0, 579962.0, 6663394.0, 6663394.0, 914678.0, 654214.0, 1661785.0, 330119.0, 723576.0, 633564.0, 356958.0, 521870.0, 6663394.0, 6663394.0, 1493898.0, 1858683.0, 581078.0, 2565124.0, 914678.0, 434930.0, 519546.0, 2565124.0, 942665.0, 1119596.0, 1119596.0, 1493898.0, 6663394.0, 1240155.0, 581078.0, 6663394.0, 6663394.0, 6663394.0, 673559.0, 6663394.0, 804664.0, 6663394.0, 1032983.0, 495761.0, 5664579.0, 1119596.0, 356958.0, 1032983.0, 6663394.0, 6663394.0, 804664.0, 581078.0, 6663394.0, 2565124.0, 6663394.0, 460001.0, 6663394.0, 6663394.0, 723576.0, 5664579.0, 6663394.0, 694844.0, 2565124.0, 2565124.0, 6663394.0, 5664579.0, 942665.0, 771044.0, 1942389.0, 160980.0, 1120406.0, 6663394.0, 519546.0, 6663394.0, 316798.0, 519546.0, 6663394.0, 673559.0, 84777.0, 1858683.0, 2565124.0, 495761.0, 1942389.0, 1661785.0, 6663394.0, 521870.0, 6663394.0, 5664579.0, 2565124.0, 5664579.0, 1119596.0, 1240155.0, 579962.0, 1119596.0, 6663394.0, 942665.0, 581078.0, 1661785.0, 914678.0, 6663394.0, 521870.0, 1942389.0, 5664579.0, 6663394.0, 6663394.0, 6663394.0, 6663394.0, 1119596.0, 6663394.0, 1120406.0, 1022800.0, 2565124.0, 942665.0, 1240155.0, 1149460.0, 6663394.0, 1661785.0, 1240155.0, 1149460.0, 2565124.0, 6663394.0, 1493898.0, 316798.0, 723576.0, 6663394.0, 257762.0, 1942389.0, 579962.0, 1120406.0, 6663394.0, 6663394.0, 964693.0, 160980.0, 1149460.0, 1493898.0, 1858683.0, 388167.0, 5664579.0, 2565124.0, 434930.0, 2565124.0, 5664579.0, 6663394.0, 723576.0, 6663394.0, 6663394.0, 316798.0, 307651.0, 6663394.0, 6663394.0, 460001.0, 633564.0, 1119596.0, 6663394.0, 257762.0, 1119596.0, 694844.0, 1120406.0, 2565124.0, 942665.0, 1120406.0, 6663394.0, 6663394.0, 581078.0, 942665.0, 1120406.0, 6663394.0, 1240155.0, 1858683.0, 1858683.0, 330119.0, 6663394.0, 1022800.0, 914678.0, 716820.0, 6663394.0, 1119596.0, 6663394.0, 6663394.0, 6663394.0, 519546.0, 5664579.0, 1661785.0, 6663394.0, 633564.0, 160980.0, 1942389.0, 331549.0, 964693.0, 6663394.0, 5664579.0, 1858683.0, 495761.0, 581078.0, 6663394.0, 633564.0, 1493898.0, 5664579.0, 5664579.0, 6663394.0, 5664579.0, 6663394.0, 330119.0, 782979.0, 1858683.0, 1493898.0, 1942389.0, 6663394.0, 6663394.0, 6663394.0, 6663394.0, 6663394.0, 6663394.0, 6663394.0, 6663394.0, 6663394.0, 6663394.0, 6663394.0, 6663394.0, 6663394.0, 1119596.0, 6663394.0, 6663394.0, 5664579.0, 5664579.0, 6663394.0, 1119596.0, 1942389.0, 1661785.0, 964693.0, 6663394.0, 1493898.0, 6663394.0, 6663394.0, 388167.0, 6663394.0, 1858683.0, 6663394.0, 964693.0, 633564.0, 2565124.0, 1942389.0, 1858683.0, 6663394.0, 1858683.0, 6663394.0, 388167.0, 581078.0, 6663394.0, 6663394.0, 6663394.0, 6663394.0, 6663394.0, 6663394.0, 6663394.0, 1942389.0, 914678.0, 964693.0, 6663394.0, 6663394.0, 5664579.0, 6663394.0, 6663394.0, 1858683.0, 5664579.0, 6663394.0, 1942389.0, 673559.0, 1493898.0, 673559.0, 6663394.0, 6663394.0, 6663394.0, 6663394.0, 2565124.0, 5664579.0, 6663394.0, 6663394.0, 1858683.0, 6663394.0, 6663394.0, 1032983.0, 6663394.0, 6663394.0, 1119596.0, 6663394.0, 6663394.0, 6663394.0, 964693.0, 6663394.0, 5664579.0, 6663394.0, 6663394.0, 6663394.0, 6663394.0, 1858683.0, 6663394.0, 6663394.0, 6663394.0, 1032983.0, 330119.0, 1240155.0, 6663394.0, 2565124.0, 1119596.0, 1661785.0, 6663394.0, 6663394.0, 329587.0, 1240155.0, 6663394.0, 914678.0, 356958.0, 1661785.0, 5664579.0, 2565124.0, 782979.0, 6663394.0, 307651.0, 6663394.0, 6663394.0, 5664579.0, 1661785.0, 723576.0, 6663394.0, 6663394.0, 1942389.0, 160980.0, 1493898.0, 1493898.0, 1858683.0, 5664579.0, 5664579.0, 6663394.0, 694844.0, 160980.0, 388167.0, 6663394.0, 942665.0, 6663394.0, 673559.0, 1942389.0, 6663394.0, 388167.0, 633564.0, 6663394.0, 6663394.0, 723576.0, 633564.0, 6663394.0, 914678.0, 6663394.0, 6663394.0, 633564.0, 6663394.0, 330119.0, 1493898.0, 6663394.0, 5664579.0, 942665.0, 2565124.0, 495761.0, 6663394.0, 673559.0, 5664579.0, 1661785.0, 460001.0, 914678.0, 782979.0, 5664579.0, 1119596.0, 6663394.0, 1661785.0, 1119596.0, 6663394.0, 6663394.0, 782979.0, 1942389.0, 804664.0, 2565124.0, 2565124.0, 2565124.0, 914678.0, 1120406.0, 1119596.0, 6663394.0, 581078.0, 1942389.0, 694844.0, 1022800.0, 581078.0, 673559.0, 581078.0, 316798.0, 1858683.0, 330119.0, 495761.0, 5664579.0, 519546.0, 6663394.0, 1022800.0, 6663394.0, 6663394.0, 1661785.0, 694844.0, 2565124.0, 388167.0, 6663394.0, 388167.0, 1858683.0, 1858683.0, 6663394.0, 6663394.0, 6663394.0, 6663394.0, 1942389.0, 5664579.0, 5664579.0, 521870.0, 1942389.0, 6663394.0, 6663394.0, 388167.0, 6663394.0, 1240155.0, 6663394.0, 804664.0, 1149460.0, 6663394.0, 6663394.0, 1119596.0, 2565124.0, 1661785.0, 1152651.0, 1942389.0, 1240155.0, 1661785.0, 2565124.0, 6663394.0, 6663394.0, 5664579.0, 782979.0, 782979.0, 316798.0, 6663394.0, 1493898.0, 964693.0, 5664579.0, 1119596.0, 1120406.0, 316798.0, 6663394.0, 2565124.0, 5664579.0, 6663394.0, 6663394.0, 1240155.0, 633564.0, 257762.0, 88636.0, 673559.0, 771044.0, 5664579.0, 6663394.0, 6663394.0, 1152651.0, 460001.0, 5664579.0, 6663394.0, 6663394.0, 1022800.0, 581078.0, 1493898.0, 964693.0, 804664.0, 6663394.0, 460001.0, 6663394.0, 716820.0, 914678.0, 5664579.0, 5664579.0, 914678.0, 153129.0, 1152651.0, 6663394.0, 6663394.0, 964693.0, 5664579.0, 673559.0, 6663394.0, 5664579.0, 5664579.0, 782979.0, 1942389.0, 694844.0, 782979.0, 6663394.0, 6663394.0, 1493898.0, 6663394.0, 6663394.0, 6663394.0, 6663394.0, 521870.0, 6663394.0, 1661785.0, 6663394.0, 6663394.0, 521870.0, 2565124.0, 5664579.0, 6663394.0, 495761.0, 6663394.0, 6663394.0, 6663394.0, 2565124.0, 1022800.0, 581078.0, 6663394.0, 6663394.0, 5664579.0, 6663394.0, 1152651.0, 5664579.0, 1119596.0, 6663394.0, 1661785.0, 6663394.0, 6663394.0, 6663394.0, 673559.0, 1942389.0, 6663394.0, 6663394.0, 6663394.0, 716820.0, 5664579.0, 519546.0, 964693.0, 5664579.0, 495761.0, 1858683.0, 394151.0, 694844.0, 6663394.0, 6663394.0, 6663394.0, 5664579.0, 1942389.0, 6663394.0, 1149460.0, 2565124.0, 1240155.0, 6663394.0, 6663394.0, 1493898.0, 6663394.0, 1240155.0, 1120406.0, 316798.0, 694844.0, 6663394.0, 6663394.0, 5664579.0, 1493898.0, 394151.0, 6663394.0, 6663394.0, 6663394.0, 1119596.0, 1942389.0, 6663394.0, 6663394.0, 6663394.0, 1858683.0, 6663394.0, 6663394.0, 782979.0, 5664579.0, 6663394.0, 1942389.0, 1942389.0, 6663394.0, 964693.0, 964693.0, 6663394.0, 330119.0, 581078.0, 5664579.0, 1942389.0, 6663394.0, 1152651.0, 5664579.0, 1942389.0, 6663394.0, 1661785.0, 6663394.0, 6663394.0, 6663394.0, 6663394.0, 964693.0, 2565124.0, 914678.0, 1661785.0, 6663394.0, 6663394.0, 6663394.0, 6663394.0, 6663394.0, 6663394.0, 495761.0, 6663394.0, 1120406.0, 964693.0, 1120406.0, 1858683.0, 964693.0, 914678.0, 6663394.0, 5664579.0, 220461.0, 6663394.0, 6663394.0, 964693.0, 6663394.0, 6663394.0, 6663394.0, 6663394.0, 654214.0, 6663394.0, 1152651.0, 6663394.0, 519546.0, 804664.0, 694844.0, 6663394.0, 6663394.0, 6663394.0, 6663394.0, 673559.0, 6663394.0, 1942389.0, 6663394.0, 6663394.0, 782979.0, 84777.0, 460001.0, 1942389.0, 6663394.0, 1149460.0, 1152651.0, 6663394.0, 1493898.0, 5664579.0, 633564.0, 694844.0, 6663394.0, 1661785.0, 6663394.0, 519546.0, 1942389.0, 6663394.0, 1942389.0, 1022800.0, 1942389.0, 2565124.0, 1942389.0, 356958.0, 673559.0, 6663394.0, 581078.0, 1661785.0, 6663394.0, 330119.0, 6663394.0, 6663394.0, 1032983.0, 6663394.0, 6663394.0, 1661785.0, 2565124.0, 6663394.0, 6663394.0, 1661785.0, 6663394.0, 257762.0, 6663394.0, 6663394.0, 964693.0, 330119.0, 633564.0, 88636.0, 6663394.0, 6663394.0, 6663394.0, 307651.0, 1493898.0, 6663394.0, 6663394.0, 2565124.0, 6663394.0, 1119596.0, 6663394.0, 6663394.0, 1120406.0, 5664579.0, 633564.0, 1493898.0, 6663394.0, 5664579.0, 5664579.0, 6663394.0, 6663394.0, 2565124.0, 1152651.0, 316798.0, 2565124.0, 942665.0, 1240155.0, 581078.0, 6663394.0, 521870.0, 6663394.0, 6663394.0, 172539.0, 6663394.0, 2565124.0, 6663394.0, 6663394.0, 519546.0, 1661785.0, 1661785.0, 1493898.0, 1022800.0, 1942389.0, 2565124.0, 914678.0, 6663394.0, 2565124.0, 6663394.0, 6663394.0, 1942389.0, 2565124.0, 6663394.0, 6663394.0, 6663394.0, 6663394.0, 6663394.0, 1240155.0, 6663394.0, 1942389.0, 6663394.0, 6663394.0, 654214.0, 1661785.0, 1240155.0, 394151.0, 1022800.0, 6663394.0, 1240155.0, 356958.0, 434930.0, 172539.0, 2565124.0, 6663394.0, 5664579.0, 1240155.0, 6663394.0, 579962.0, 1022800.0, 6663394.0, 633564.0, 6663394.0, 6663394.0, 6663394.0, 2565124.0, 6663394.0, 964693.0, 6663394.0, 5664579.0, 1661785.0, 1942389.0, 6663394.0, 2565124.0, 1858683.0, 1493898.0, 1942389.0, 716820.0, 6663394.0, 6663394.0, 1493898.0, 6663394.0, 1493898.0, 942665.0, 6663394.0, 6663394.0, 964693.0, 6663394.0, 6663394.0, 1661785.0, 6663394.0, 388167.0, 581078.0, 1119596.0, 6663394.0, 6663394.0, 2565124.0, 6663394.0, 6663394.0, 6663394.0, 6663394.0, 914678.0, 6663394.0, 2565124.0, 6663394.0, 6663394.0, 1152651.0, 6663394.0, 782979.0, 519546.0, 6663394.0, 673559.0, 6663394.0, 460001.0, 88636.0, 5664579.0, 6663394.0, 2565124.0, 6663394.0, 6663394.0, 1942389.0, 6663394.0, 6663394.0, 6663394.0, 5664579.0, 388167.0, 6663394.0, 5664579.0, 5664579.0, 5664579.0, 6663394.0, 6663394.0, 6663394.0, 579962.0, 782979.0, 519546.0, 5664579.0, 6663394.0, 6663394.0, 6663394.0, 1858683.0, 1661785.0, 6663394.0, 6663394.0, 2565124.0, 6663394.0, 6663394.0, 6663394.0, 1493898.0, 2565124.0, 914678.0, 2565124.0, 1240155.0, 579962.0, 6663394.0, 581078.0, 6663394.0, 1858683.0, 1022800.0, 6663394.0, 1240155.0, 6663394.0, 2565124.0, 6663394.0, 2565124.0, 1942389.0, 1119596.0, 6663394.0, 5664579.0, 6663394.0, 1858683.0, 5664579.0, 6663394.0, 6663394.0, 6663394.0, 6663394.0, 654214.0, 2565124.0, 6663394.0, 1493898.0, 1493898.0, 2565124.0, 1152651.0, 6663394.0, 1493898.0, 521870.0, 6663394.0, 6663394.0, 1032983.0, 5664579.0, 394151.0, 6663394.0, 6663394.0, 6663394.0, 1152651.0, 6663394.0, 134137.0, 1942389.0, 5664579.0, 1858683.0, 6663394.0, 1942389.0, 633564.0, 6663394.0, 1942389.0, 1661785.0, 6663394.0, 1493898.0, 1240155.0, 581078.0, 964693.0, 673559.0, 6663394.0, 6663394.0, 6663394.0, 6663394.0, 6663394.0, 6663394.0, 1152651.0, 1858683.0, 6663394.0, 6663394.0, 6663394.0, 1493898.0, 2565124.0, 1120406.0, 6663394.0, 1858683.0, 964693.0, 2565124.0, 1858683.0, 6663394.0, 6663394.0, 6663394.0, 1493898.0, 6663394.0, 716820.0, 6663394.0, 1942389.0, 6663394.0, 942665.0, 160980.0, 6663394.0, 2565124.0, 6663394.0, 2565124.0, 5664579.0, 673559.0, 6663394.0, 581078.0, 673559.0, 6663394.0, 1240155.0, 6663394.0, 5664579.0, 5664579.0, 6663394.0, 5664579.0, 6663394.0, 5664579.0, 5664579.0, 5664579.0, 5664579.0, 6663394.0, 5664579.0, 5664579.0, 6663394.0, 5664579.0, 6663394.0, 6663394.0, 5664579.0, 5664579.0, 6663394.0, 6663394.0, 5664579.0, 5664579.0, 6663394.0, 6663394.0, 5664579.0, 5664579.0, 6663394.0, 5664579.0, 6663394.0, 6663394.0, 6663394.0, 6663394.0, 5664579.0, 6663394.0, 5664579.0, 6663394.0, 6663394.0, 5664579.0, 6663394.0, 5664579.0, 5664579.0, 6663394.0, 6663394.0, 6663394.0, 5664579.0, 6663394.0, 6663394.0, 6663394.0, 5664579.0, 1119596.0, 5664579.0, 1858683.0, 6663394.0, 157640.0, 1661785.0, 1942389.0, 694844.0, 6663394.0, 6663394.0, 942665.0, 1119596.0, 581078.0, 1119596.0, 394151.0, 6663394.0, 1022800.0, 5664579.0, 521870.0, 1661785.0, 330119.0, 5664579.0, 1120406.0, 1022800.0, 1149460.0, 5664579.0, 153129.0, 1119596.0, 2565124.0, 5664579.0, 1942389.0, 1493898.0, 1022800.0, 1119596.0, 388167.0, 153129.0, 5664579.0, 6663394.0, 723576.0, 329587.0, 388167.0, 1120406.0, 5664579.0, 388167.0, 6663394.0, 1119596.0, 519546.0, 716820.0, 1152651.0, 330119.0, 6663394.0, 1119596.0, 6663394.0, 942665.0, 1493898.0, 6663394.0, 2565124.0, 1119596.0, 153129.0, 330119.0, 5664579.0, 495761.0, 1119596.0, 1119596.0, 394151.0, 495761.0, 388167.0, 804664.0, 153129.0, 6663394.0, 694844.0, 519546.0, 1942389.0, 6663394.0, 1942389.0, 5664579.0, 330119.0, 942665.0, 495761.0, 5664579.0, 942665.0, 1858683.0, 257762.0, 1942389.0, 6663394.0, 1661785.0, 6663394.0, 172539.0, 771044.0, 5664579.0, 6663394.0, 1022800.0, 1661785.0, 6663394.0, 633564.0, 6663394.0, 1858683.0, 388167.0, 5664579.0, 6663394.0, 1022800.0, 6663394.0, 1661785.0, 330119.0, 1493898.0, 6663394.0, 6663394.0, 914678.0, 521870.0, 5664579.0, 5664579.0, 694844.0, 1493898.0, 942665.0, 6663394.0, 1942389.0, 1119596.0, 1493898.0, 519546.0, 1120406.0, 782979.0, 1858683.0, 153129.0, 330119.0, 1858683.0, 1858683.0, 153129.0, 1240155.0, 307651.0, 1119596.0, 6663394.0, 673559.0, 6663394.0, 6663394.0, 330119.0, 394151.0, 6663394.0, 6663394.0, 6663394.0, 694844.0, 220461.0, 134137.0, 6663394.0, 1032983.0, 1119596.0, 307651.0, 1493898.0, 1493898.0, 330119.0, 694844.0, 964693.0, 1493898.0, 1022800.0, 6663394.0, 2565124.0, 1493898.0, 6663394.0, 6663394.0, 6663394.0, 914678.0, 942665.0, 6663394.0, 6663394.0, 6663394.0, 6663394.0, 633564.0, 2565124.0, 581078.0, 6663394.0, 942665.0, 673559.0, 6663394.0, 6663394.0, 1119596.0, 964693.0, 5664579.0, 388167.0, 5664579.0, 694844.0, 2565124.0, 6663394.0, 330119.0, 519546.0, 6663394.0, 1661785.0, 6663394.0, 5664579.0, 654214.0, 330119.0, 942665.0, 1661785.0, 6663394.0, 1858683.0, 5664579.0, 2565124.0, 633564.0, 6663394.0, 330119.0, 1119596.0, 6663394.0, 6663394.0, 5664579.0, 782979.0, 330119.0, 6663394.0, 1240155.0, 1942389.0, 6663394.0, 157640.0, 5664579.0, 330119.0, 1942389.0, 6663394.0, 1858683.0, 356958.0, 1942389.0, 388167.0, 388167.0, 694844.0, 153129.0, 196329.0, 6663394.0, 5664579.0, 1942389.0, 388167.0, 394151.0, 5664579.0, 5664579.0, 5664579.0, 694844.0, 942665.0, 1493898.0, 694844.0, 694844.0, 1858683.0, 6663394.0, 5664579.0, 160980.0, 1942389.0, 1493898.0, 1858683.0, 673559.0, 356958.0, 6663394.0, 5664579.0, 1120406.0, 5664579.0, 2565124.0, 5664579.0, 1661785.0, 6663394.0, 581078.0, 460001.0, 581078.0, 6663394.0, 1120406.0, 6663394.0, 694844.0, 5664579.0, 782979.0, 316798.0, 5664579.0, 6663394.0, 460001.0, 6663394.0, 6663394.0, 434930.0, 2565124.0, 1152651.0, 6663394.0, 1942389.0, 394151.0, 1022800.0, 330119.0, 1942389.0, 6663394.0, 782979.0, 6663394.0, 1942389.0, 581078.0, 1022800.0, 1119596.0, 1240155.0, 6663394.0, 2565124.0, 6663394.0, 330119.0, 5664579.0, 5664579.0, 6663394.0, 1240155.0, 6663394.0, 914678.0, 1119596.0, 1240155.0, 5664579.0, 1240155.0, 1858683.0, 782979.0, 2565124.0, 579962.0, 1240155.0, 2565124.0, 1240155.0, 2565124.0, 2565124.0, 6663394.0, 521870.0, 6663394.0, 1493898.0, 942665.0, 356958.0, 1661785.0, 5664579.0, 6663394.0, 1942389.0, 6663394.0, 6663394.0, 1493898.0, 581078.0, 1942389.0, 157640.0, 6663394.0, 6663394.0, 2565124.0, 1942389.0, 5664579.0, 6663394.0, 1858683.0, 1240155.0, 1149460.0, 6663394.0, 6663394.0, 6663394.0, 6663394.0, 6663394.0, 1120406.0, 2565124.0, 1942389.0, 5664579.0, 356958.0, 257762.0, 771044.0, 2565124.0, 942665.0, 157640.0, 6663394.0, 1119596.0, 782979.0, 6663394.0, 6663394.0, 6663394.0, 2565124.0, 1120406.0, 6663394.0, 2565124.0, 6663394.0, 782979.0, 579962.0, 579962.0, 1858683.0, 579962.0, 673559.0, 6663394.0, 316798.0, 6663394.0, 1119596.0, 6663394.0, 460001.0, 1858683.0, 329587.0, 6663394.0, 356958.0, 316798.0, 633564.0, 1022800.0, 942665.0, 6663394.0, 942665.0, 519546.0, 6663394.0, 495761.0, 330119.0, 5664579.0, 394151.0, 6663394.0, 6663394.0, 1152651.0, 330119.0, 330119.0, 521870.0, 1942389.0, 579962.0, 579962.0, 6663394.0, 6663394.0, 6663394.0, 331549.0, 331549.0, 330119.0, 394151.0, 519546.0, 694844.0, 6663394.0, 6663394.0, 6663394.0, 6663394.0, 6663394.0, 2565124.0, 1493898.0, 6663394.0, 1858683.0, 519546.0, 964693.0, 6663394.0, 942665.0, 6663394.0, 1942389.0, 2565124.0, 1119596.0, 1942389.0, 1119596.0, 6663394.0, 1120406.0, 519546.0, 5664579.0, 5664579.0, 1240155.0, 942665.0, 2565124.0, 1858683.0, 1152651.0, 160980.0, 157640.0, 460001.0, 307651.0, 356958.0, 519546.0, 330119.0, 1120406.0, 6663394.0, 6663394.0, 581078.0, 6663394.0, 782979.0, 942665.0, 1942389.0, 581078.0, 1858683.0, 330119.0, 5664579.0, 2565124.0, 782979.0, 196329.0, 388167.0, 307651.0, 942665.0, 196329.0, 942665.0, 6663394.0, 1120406.0, 196329.0, 6663394.0, 6663394.0, 388167.0, 388167.0, 1493898.0, 942665.0, 1858683.0, 6663394.0, 964693.0, 1120406.0, 716820.0, 495761.0, 5664579.0, 942665.0, 316798.0, 1240155.0, 5664579.0, 5664579.0, 5664579.0, 942665.0, 964693.0, 6663394.0, 6663394.0, 1119596.0, 942665.0, 5664579.0, 1493898.0, 1152651.0, 1152651.0, 723576.0, 1661785.0, 6663394.0, 1032983.0, 5664579.0, 2565124.0, 1149460.0, 942665.0, 6663394.0, 6663394.0, 160980.0, 5664579.0, 1119596.0, 6663394.0, 1942389.0, 6663394.0, 1152651.0, 1942389.0, 1240155.0, 581078.0, 6663394.0, 1493898.0, 1942389.0, 633564.0, 1120406.0, 6663394.0, 673559.0, 6663394.0, 6663394.0, 1152651.0, 654214.0, 5664579.0, 6663394.0, 6663394.0, 2565124.0, 2565124.0, 1240155.0, 6663394.0, 1493898.0, 6663394.0, 694844.0, 6663394.0, 6663394.0, 581078.0, 307651.0, 6663394.0, 316798.0, 1661785.0, 6663394.0, 1120406.0, 1119596.0, 6663394.0, 5664579.0, 519546.0, 1119596.0, 6663394.0, 2565124.0, 1858683.0, 716820.0, 6663394.0, 1022800.0, 964693.0, 1858683.0, 1240155.0, 1240155.0, 2565124.0, 964693.0, 964693.0, 1858683.0, 964693.0, 771044.0, 771044.0, 6663394.0, 1120406.0, 914678.0, 331549.0, 1119596.0, 1858683.0, 1493898.0, 964693.0, 356958.0, 964693.0, 1119596.0, 316798.0, 1119596.0, 654214.0, 1152651.0, 330119.0, 307651.0, 1119596.0, 1119596.0, 5664579.0, 388167.0, 5664579.0, 330119.0, 157640.0, 134137.0, 519546.0, 782979.0, 1119596.0, 329587.0, 153129.0, 1493898.0, 1240155.0, 1942389.0, 1493898.0, 5664579.0, 519546.0, 330119.0, 1942389.0, 771044.0, 519546.0, 6663394.0, 964693.0, 521870.0, 6663394.0, 1022800.0, 2565124.0, 1240155.0, 942665.0, 388167.0, 6663394.0, 2565124.0, 1119596.0, 6663394.0, 2565124.0, 6663394.0, 6663394.0, 6663394.0, 1858683.0, 196329.0, 6663394.0, 581078.0, 2565124.0, 521870.0, 495761.0, 356958.0, 581078.0, 964693.0, 1119596.0, 633564.0, 5664579.0, 495761.0, 519546.0, 307651.0, 1493898.0, 519546.0, 495761.0, 1120406.0, 6663394.0, 6663394.0, 6663394.0, 6663394.0, 6663394.0, 1240155.0, 1240155.0, 6663394.0, 1152651.0, 495761.0, 356958.0, 6663394.0, 196329.0, 6663394.0, 942665.0, 521870.0, 356958.0, 2565124.0, 521870.0, 307651.0, 1149460.0, 316798.0, 330119.0, 6663394.0, 6663394.0, 330119.0, 6663394.0, 521870.0, 1120406.0, 964693.0, 1661785.0, 2565124.0, 1022800.0, 1149460.0, 942665.0, 579962.0, 6663394.0, 1119596.0, 5664579.0, 388167.0, 964693.0, 394151.0, 394151.0, 804664.0, 388167.0, 579962.0, 6663394.0, 1119596.0, 579962.0, 6663394.0, 914678.0, 394151.0, 1120406.0, 329587.0, 694844.0, 1858683.0, 5664579.0, 6663394.0, 964693.0, 6663394.0, 804664.0, 6663394.0, 6663394.0, 6663394.0, 1942389.0, 964693.0, 1858683.0, 964693.0, 1942389.0, 394151.0, 6663394.0, 942665.0, 581078.0, 6663394.0, 964693.0, 1119596.0, 6663394.0, 6663394.0, 5664579.0, 2565124.0, 579962.0, 654214.0, 2565124.0, 5664579.0, 579962.0, 694844.0, 356958.0, 914678.0, 5664579.0, 394151.0, 1240155.0, 964693.0, 6663394.0, 388167.0, 521870.0, 5664579.0, 5664579.0, 6663394.0, 579962.0, 521870.0, 521870.0, 964693.0, 5664579.0, 673559.0, 579962.0, 519546.0, 5664579.0, 964693.0, 579962.0, 2565124.0, 964693.0, 654214.0, 673559.0, 6663394.0, 771044.0, 1240155.0, 964693.0, 2565124.0, 5664579.0, 521870.0, 1493898.0, 316798.0, 220461.0, 771044.0, 394151.0, 964693.0, 316798.0, 460001.0, 1661785.0, 330119.0, 579962.0, 316798.0, 942665.0, 1661785.0, 673559.0, 6663394.0, 1661785.0, 6663394.0, 394151.0, 581078.0, 6663394.0, 257762.0, 6663394.0, 6663394.0, 914678.0, 964693.0, 1858683.0, 1119596.0, 519546.0, 330119.0, 1942389.0, 1119596.0, 6663394.0, 329587.0, 6663394.0, 1493898.0, 579962.0, 1942389.0, 1119596.0, 2565124.0, 6663394.0, 6663394.0, 6663394.0, 6663394.0, 1942389.0, 1119596.0, 5664579.0, 2565124.0, 1152651.0, 654214.0, 914678.0, 388167.0, 1119596.0, 521870.0, 329587.0, 1119596.0, 782979.0, 388167.0, 1119596.0, 6663394.0, 771044.0, 6663394.0, 5664579.0, 6663394.0, 6663394.0, 6663394.0, 6663394.0, 1493898.0, 5664579.0, 6663394.0, 1119596.0, 307651.0, 2565124.0, 782979.0, 964693.0, 1119596.0, 495761.0, 330119.0, 316798.0, 1858683.0, 1149460.0, 6663394.0, 1152651.0, 1493898.0, 964693.0, 6663394.0, 673559.0, 5664579.0, 6663394.0, 654214.0, 5664579.0, 6663394.0, 6663394.0, 1119596.0, 1119596.0, 6663394.0, 519546.0, 673559.0, 1493898.0, 1858683.0, 942665.0, 5664579.0, 1119596.0, 5664579.0, 1493898.0, 153129.0, 1858683.0, 307651.0, 1119596.0, 6663394.0, 942665.0, 1119596.0, 942665.0, 942665.0, 581078.0, 964693.0, 6663394.0, 1149460.0, 134137.0, 6663394.0, 6663394.0, 6663394.0, 1858683.0, 6663394.0, 330119.0, 1240155.0, 1493898.0, 1119596.0, 1858683.0, 519546.0, 942665.0, 1493898.0, 914678.0, 673559.0, 519546.0, 1022800.0, 330119.0, 633564.0, 1493898.0, 6663394.0, 1493898.0, 1493898.0, 1942389.0, 519546.0, 1493898.0, 1119596.0, 519546.0, 388167.0, 1858683.0, 519546.0, 495761.0, 160980.0, 388167.0, 519546.0, 1942389.0, 673559.0, 6663394.0, 6663394.0, 6663394.0, 1149460.0, 388167.0, 388167.0, 88636.0, 914678.0, 394151.0, 2565124.0, 196329.0, 1942389.0, 307651.0, 1661785.0, 1119596.0, 388167.0, 356958.0, 1119596.0, 157640.0, 1661785.0, 6663394.0, 6663394.0, 388167.0, 495761.0, 6663394.0, 6663394.0, 329587.0, 673559.0, 6663394.0, 356958.0, 1493898.0, 330119.0, 356958.0, 2565124.0, 6663394.0, 1119596.0, 1119596.0, 6663394.0, 329587.0, 1858683.0, 581078.0, 330119.0, 153129.0, 331549.0, 6663394.0, 2565124.0, 153129.0, 1149460.0, 6663394.0, 1149460.0, 1858683.0, 964693.0, 1119596.0, 172539.0, 1493898.0, 1120406.0, 521870.0, 6663394.0, 1493898.0, 942665.0, 6663394.0, 6663394.0, 519546.0, 519546.0, 519546.0, 581078.0, 6663394.0, 495761.0, 1119596.0, 495761.0, 2565124.0, 330119.0, 495761.0, 1152651.0, 519546.0, 329587.0, 307651.0, 521870.0, 6663394.0, 2565124.0, 1942389.0, 519546.0, 1493898.0, 329587.0, 2565124.0, 1149460.0, 172539.0, 6663394.0, 6663394.0, 1149460.0, 1119596.0, 5664579.0, 1493898.0, 1240155.0, 694844.0, 1240155.0, 6663394.0, 5664579.0, 6663394.0, 6663394.0, 6663394.0, 6663394.0, 6663394.0, 6663394.0, 5664579.0, 5664579.0, 5664579.0, 6663394.0, 6663394.0, 5664579.0, 6663394.0, 5664579.0, 5664579.0, 5664579.0, 6663394.0, 6663394.0, 6663394.0, 5664579.0, 5664579.0, 6663394.0, 6663394.0, 6663394.0, 6663394.0, 6663394.0, 5664579.0, 6663394.0, 6663394.0, 6663394.0, 5664579.0, 5664579.0, 6663394.0, 6663394.0, 5664579.0, 6663394.0, 6663394.0, 6663394.0, 6663394.0, 5664579.0, 6663394.0, 6663394.0, 5664579.0, 6663394.0, 6663394.0, 6663394.0, 6663394.0, 6663394.0, 6663394.0, 5664579.0, 6663394.0, 5664579.0, 6663394.0, 5664579.0, 5664579.0, 6663394.0, 6663394.0, 6663394.0, 5664579.0, 5664579.0, 5664579.0, 5664579.0, 5664579.0, 5664579.0, 5664579.0, 5664579.0, 6663394.0, 6663394.0, 6663394.0, 5664579.0, 6663394.0, 6663394.0, 5664579.0, 5664579.0, 5664579.0, 6663394.0, 6663394.0, 6663394.0, 6663394.0, 6663394.0, 5664579.0, 5664579.0, 5664579.0, 5664579.0, 5664579.0, 5664579.0, 5664579.0, 5664579.0, 5664579.0, 5664579.0, 5664579.0, 5664579.0, 6663394.0, 5664579.0, 5664579.0, 5664579.0, 5664579.0, 6663394.0, 5664579.0, 5664579.0, 6663394.0, 5664579.0, 5664579.0, 5664579.0, 5664579.0, 6663394.0, 6663394.0, 5664579.0, 5664579.0, 5664579.0, 5664579.0, 5664579.0, 5664579.0, 5664579.0, 6663394.0, 6663394.0, 6663394.0, 5664579.0, 5664579.0, 6663394.0, 6663394.0, 6663394.0, 6663394.0, 5664579.0, 6663394.0, 6663394.0, 6663394.0, 5664579.0, 5664579.0, 6663394.0, 5664579.0, 6663394.0, 6663394.0, 5664579.0, 6663394.0, 6663394.0, 5664579.0, 5664579.0, 5664579.0, 5664579.0, 5664579.0, 5664579.0, 5664579.0, 6663394.0, 5664579.0, 5664579.0, 5664579.0, 5664579.0, 6663394.0, 6663394.0, 5664579.0, 6663394.0, 6663394.0, 5664579.0, 5664579.0, 5664579.0, 5664579.0, 5664579.0, 5664579.0, 6663394.0, 6663394.0, 5664579.0, 5664579.0, 6663394.0, 5664579.0, 5664579.0, 6663394.0, 6663394.0, 5664579.0, 5664579.0, 6663394.0, 5664579.0, 5664579.0, 5664579.0, 6663394.0, 5664579.0, 6663394.0, 5664579.0, 1942389.0, 2565124.0, 6663394.0, 6663394.0, 6663394.0, 6663394.0, 673559.0, 1120406.0, 330119.0, 1858683.0, 330119.0, 6663394.0, 6663394.0, 6663394.0, 6663394.0, 2565124.0, 1942389.0, 329587.0, 134137.0, 2565124.0, 5664579.0, 6663394.0, 694844.0, 2565124.0, 153129.0, 633564.0, 5664579.0, 654214.0, 6663394.0, 6663394.0, 771044.0, 964693.0, 942665.0, 5664579.0, 6663394.0, 942665.0, 6663394.0, 5664579.0, 1240155.0, 6663394.0, 6663394.0, 1942389.0, 1942389.0, 330119.0, 6663394.0, 694844.0, 307651.0, 716820.0, 1942389.0, 6663394.0, 5664579.0, 694844.0, 6663394.0, 1152651.0, 716820.0, 2565124.0, 1661785.0, 495761.0, 1240155.0, 1032983.0, 6663394.0, 5664579.0, 6663394.0, 5664579.0, 5664579.0, 6663394.0, 6663394.0, 716820.0, 1119596.0, 6663394.0, 6663394.0, 964693.0, 6663394.0, 579962.0, 633564.0, 6663394.0, 6663394.0, 6663394.0, 5664579.0, 2565124.0, 1119596.0, 1119596.0, 1022800.0, 6663394.0, 782979.0, 1022800.0, 5664579.0, 153129.0, 330119.0, 1119596.0, 581078.0, 5664579.0, 579962.0, 1858683.0, 521870.0, 316798.0, 581078.0, 914678.0, 1119596.0, 1119596.0, 581078.0, 633564.0, 1149460.0, 1022800.0, 1942389.0, 1858683.0, 1661785.0, 2565124.0, 6663394.0, 1661785.0, 6663394.0, 6663394.0, 2565124.0, 6663394.0, 495761.0, 964693.0, 316798.0, 6663394.0, 5664579.0, 1152651.0, 581078.0, 153129.0, 6663394.0, 2565124.0, 6663394.0, 495761.0, 633564.0, 6663394.0, 6663394.0, 1120406.0, 694844.0, 2565124.0, 1493898.0, 1152651.0, 6663394.0, 5664579.0, 6663394.0, 1858683.0, 5664579.0, 6663394.0, 1858683.0, 160980.0, 6663394.0, 1119596.0, 2565124.0, 519546.0, 1152651.0, 6663394.0, 460001.0, 6663394.0, 2565124.0, 5664579.0, 6663394.0, 6663394.0, 1032983.0, 495761.0, 6663394.0, 1942389.0, 6663394.0, 964693.0, 914678.0, 1152651.0, 6663394.0, 914678.0, 6663394.0, 5664579.0, 1661785.0, 220461.0, 356958.0, 1022800.0, 519546.0, 2565124.0, 1858683.0, 6663394.0, 1661785.0, 6663394.0, 6663394.0, 5664579.0, 1152651.0, 6663394.0, 1149460.0, 1022800.0, 6663394.0, 6663394.0, 6663394.0, 1022800.0, 942665.0, 581078.0, 942665.0, 5664579.0, 6663394.0, 2565124.0, 1942389.0, 581078.0, 1858683.0, 1858683.0, 6663394.0, 521870.0, 1149460.0, 1022800.0, 6663394.0, 6663394.0, 6663394.0, 1661785.0, 6663394.0, 694844.0, 394151.0, 1858683.0, 1858683.0, 5664579.0, 6663394.0, 1240155.0, 5664579.0, 6663394.0, 6663394.0, 495761.0, 1661785.0, 1022800.0, 6663394.0, 1858683.0, 5664579.0, 914678.0, 1120406.0, 6663394.0, 782979.0, 6663394.0, 1120406.0, 1032983.0, 6663394.0, 6663394.0, 5664579.0, 1942389.0, 6663394.0, 1022800.0, 2565124.0, 6663394.0, 6663394.0, 1942389.0, 1120406.0, 942665.0, 6663394.0, 6663394.0, 519546.0, 1022800.0, 6663394.0, 1120406.0, 782979.0, 331549.0, 1152651.0, 2565124.0, 6663394.0, 5664579.0, 6663394.0, 6663394.0, 723576.0, 1152651.0, 6663394.0, 1240155.0, 1022800.0, 1149460.0, 6663394.0, 6663394.0, 694844.0, 1240155.0, 782979.0, 964693.0, 6663394.0, 6663394.0, 6663394.0, 942665.0, 6663394.0, 1240155.0, 5664579.0, 6663394.0, 2565124.0, 581078.0, 1942389.0, 6663394.0, 2565124.0, 331549.0, 6663394.0, 519546.0, 5664579.0, 1119596.0, 1120406.0, 782979.0, 6663394.0, 914678.0, 6663394.0, 2565124.0, 1240155.0, 5664579.0, 2565124.0, 6663394.0, 1661785.0, 942665.0, 1942389.0, 6663394.0, 6663394.0, 581078.0, 6663394.0, 6663394.0, 5664579.0, 6663394.0, 1858683.0, 673559.0, 1942389.0, 694844.0, 6663394.0, 6663394.0, 964693.0, 6663394.0, 6663394.0, 6663394.0, 6663394.0, 782979.0, 942665.0, 6663394.0, 6663394.0, 6663394.0, 6663394.0, 1120406.0, 6663394.0, 1858683.0, 5664579.0, 2565124.0, 5664579.0, 519546.0, 6663394.0, 394151.0, 6663394.0, 6663394.0, 2565124.0, 1120406.0, 6663394.0, 6663394.0, 2565124.0, 331549.0, 581078.0, 6663394.0, 723576.0, 6663394.0, 1858683.0, 330119.0, 2565124.0, 6663394.0, 157640.0, 1493898.0, 723576.0, 5664579.0, 1942389.0, 1858683.0, 356958.0, 2565124.0, 6663394.0, 6663394.0, 388167.0, 964693.0, 633564.0, 1119596.0, 6663394.0, 172539.0, 1942389.0, 6663394.0, 5664579.0, 6663394.0, 942665.0, 2565124.0, 1858683.0, 579962.0, 6663394.0, 6663394.0, 1942389.0, 6663394.0, 6663394.0, 6663394.0, 1493898.0, 5664579.0, 6663394.0, 6663394.0, 1032983.0, 694844.0, 519546.0, 6663394.0, 2565124.0, 6663394.0, 1661785.0, 2565124.0, 6663394.0, 6663394.0, 6663394.0, 2565124.0, 716820.0, 519546.0, 519546.0, 6663394.0, 1661785.0, 1022800.0, 694844.0, 1942389.0, 521870.0, 5664579.0, 6663394.0, 6663394.0, 5664579.0, 6663394.0, 2565124.0, 1942389.0, 6663394.0, 6663394.0, 1032983.0, 1858683.0, 6663394.0, 5664579.0, 964693.0, 6663394.0, 654214.0, 1120406.0, 579962.0, 1119596.0, 6663394.0, 1493898.0, 2565124.0, 782979.0, 6663394.0, 5664579.0, 1152651.0, 782979.0, 6663394.0, 6663394.0, 6663394.0, 6663394.0, 6663394.0, 6663394.0, 330119.0, 1152651.0, 6663394.0, 1493898.0, 6663394.0, 6663394.0, 2565124.0, 6663394.0, 6663394.0, 723576.0, 1152651.0, 694844.0, 694844.0, 6663394.0, 6663394.0, 6663394.0, 316798.0, 6663394.0, 1120406.0, 1661785.0, 2565124.0, 1661785.0, 6663394.0, 1942389.0, 6663394.0, 1119596.0, 6663394.0, 2565124.0, 6663394.0, 6663394.0, 519546.0, 6663394.0, 1942389.0, 1240155.0, 2565124.0, 1152651.0, 6663394.0, 519546.0, 6663394.0, 6663394.0, 964693.0, 1858683.0, 5664579.0, 1942389.0, 5664579.0, 771044.0, 5664579.0, 2565124.0, 1858683.0, 1942389.0, 6663394.0, 2565124.0, 519546.0, 6663394.0, 1152651.0, 6663394.0, 519546.0, 914678.0, 6663394.0, 6663394.0, 6663394.0, 1032983.0, 1022800.0, 1119596.0, 914678.0, 5664579.0, 1661785.0, 1032983.0, 6663394.0, 6663394.0, 5664579.0, 6663394.0, 6663394.0, 6663394.0, 782979.0, 5664579.0, 153129.0, 6663394.0, 1942389.0, 1240155.0, 316798.0, 633564.0, 6663394.0, 153129.0, 2565124.0, 6663394.0, 942665.0, 804664.0, 942665.0, 6663394.0, 6663394.0, 914678.0, 6663394.0, 1119596.0, 633564.0, 6663394.0, 434930.0, 1493898.0, 6663394.0, 6663394.0, 6663394.0, 5664579.0, 2565124.0, 6663394.0, 1942389.0, 1022800.0, 6663394.0, 6663394.0, 1942389.0, 6663394.0, 6663394.0, 6663394.0, 654214.0, 6663394.0, 388167.0, 6663394.0, 5664579.0, 1858683.0, 1022800.0, 914678.0, 1942389.0, 172539.0, 6663394.0, 6663394.0, 581078.0, 2565124.0, 5664579.0, 673559.0, 579962.0, 1661785.0, 1661785.0, 6663394.0, 394151.0, 942665.0, 1858683.0, 6663394.0, 6663394.0, 6663394.0, 2565124.0, 1942389.0, 633564.0, 6663394.0, 6663394.0, 160980.0, 5664579.0, 6663394.0, 6663394.0, 6663394.0, 5664579.0, 1661785.0, 1661785.0, 6663394.0, 6663394.0, 804664.0, 6663394.0, 1942389.0, 2565124.0, 6663394.0, 6663394.0, 723576.0, 1240155.0, 519546.0, 307651.0, 2565124.0, 6663394.0, 6663394.0, 6663394.0, 6663394.0, 307651.0, 1119596.0, 782979.0, 964693.0, 6663394.0, 6663394.0, 1493898.0, 1661785.0, 2565124.0, 1240155.0, 5664579.0, 519546.0, 153129.0, 5664579.0, 1858683.0, 6663394.0, 6663394.0, 1022800.0, 1022800.0, 6663394.0, 6663394.0, 694844.0, 964693.0, 6663394.0, 6663394.0, 5664579.0, 1240155.0, 964693.0, 1240155.0, 6663394.0, 2565124.0, 1942389.0, 6663394.0, 6663394.0, 495761.0, 1120406.0, 6663394.0, 1942389.0, 460001.0, 5664579.0, 1152651.0, 5664579.0, 1120406.0, 6663394.0, 6663394.0, 1149460.0, 5664579.0, 356958.0, 804664.0, 1858683.0, 1149460.0, 172539.0, 579962.0, 1149460.0, 1119596.0, 6663394.0, 6663394.0, 519546.0, 6663394.0, 6663394.0, 220461.0, 723576.0, 6663394.0, 6663394.0, 723576.0, 694844.0, 6663394.0, 5664579.0, 782979.0, 6663394.0, 6663394.0, 1149460.0, 771044.0, 1661785.0, 782979.0, 434930.0, 157640.0, 1120406.0, 521870.0, 6663394.0, 1149460.0, 2565124.0, 257762.0, 1942389.0, 2565124.0, 6663394.0, 6663394.0, 5664579.0, 6663394.0, 6663394.0, 6663394.0, 1120406.0, 434930.0, 1942389.0, 1152651.0, 5664579.0, 673559.0, 1240155.0, 2565124.0, 581078.0, 1120406.0, 694844.0, 6663394.0, 6663394.0, 5664579.0, 356958.0, 6663394.0, 2565124.0, 6663394.0, 1858683.0, 942665.0, 6663394.0, 6663394.0, 1942389.0, 6663394.0, 6663394.0, 6663394.0, 1858683.0, 6663394.0, 307651.0, 1240155.0, 6663394.0, 6663394.0, 6663394.0, 6663394.0, 942665.0, 673559.0, 495761.0, 964693.0, 1149460.0, 6663394.0, 5664579.0, 804664.0, 5664579.0, 6663394.0, 694844.0, 2565124.0, 307651.0, 942665.0, 1120406.0, 495761.0, 6663394.0, 942665.0, 581078.0, 914678.0, 330119.0, 6663394.0, 964693.0, 1661785.0, 460001.0, 6663394.0, 1858683.0, 1152651.0, 160980.0, 6663394.0, 6663394.0, 6663394.0, 5664579.0, 5664579.0, 5664579.0, 1858683.0, 6663394.0, 1661785.0, 2565124.0, 6663394.0, 1661785.0, 6663394.0, 6663394.0, 1120406.0, 654214.0, 1120406.0, 6663394.0, 6663394.0, 654214.0, 1858683.0, 5664579.0, 6663394.0, 914678.0, 519546.0, 6663394.0, 1119596.0, 6663394.0, 5664579.0, 6663394.0, 723576.0, 6663394.0, 6663394.0, 6663394.0, 673559.0, 6663394.0, 6663394.0, 782979.0, 782979.0, 914678.0, 6663394.0, 1022800.0, 964693.0, 519546.0, 6663394.0, 1661785.0, 1661785.0, 6663394.0, 1493898.0, 460001.0, 6663394.0, 5664579.0, 6663394.0, 5664579.0, 521870.0, 2565124.0, 6663394.0, 654214.0, 6663394.0, 1032983.0, 6663394.0, 2565124.0, 1032983.0, 6663394.0, 394151.0, 782979.0, 771044.0, 6663394.0, 6663394.0, 6663394.0, 1942389.0, 5664579.0, 1942389.0, 1493898.0, 6663394.0, 394151.0, 5664579.0, 329587.0, 6663394.0, 1661785.0, 6663394.0, 1661785.0, 521870.0, 942665.0, 5664579.0, 1152651.0, 6663394.0, 329587.0, 330119.0, 2565124.0, 6663394.0, 1032983.0, 1152651.0, 6663394.0, 633564.0, 6663394.0, 2565124.0, 6663394.0, 6663394.0, 6663394.0, 394151.0, 1942389.0, 2565124.0, 1149460.0, 1022800.0, 782979.0, 581078.0, 5664579.0, 6663394.0, 964693.0, 519546.0, 5664579.0, 6663394.0, 6663394.0, 6663394.0, 1149460.0, 6663394.0, 1149460.0, 2565124.0, 581078.0, 6663394.0, 1942389.0, 914678.0, 1493898.0, 5664579.0, 6663394.0, 1942389.0, 5664579.0, 6663394.0, 1942389.0, 6663394.0, 1119596.0, 1858683.0, 6663394.0, 5664579.0, 5664579.0, 2565124.0, 1152651.0, 220461.0, 804664.0, 579962.0, 6663394.0, 6663394.0, 1858683.0, 1942389.0, 356958.0, 6663394.0, 1120406.0, 6663394.0, 1152651.0, 2565124.0, 6663394.0, 356958.0, 6663394.0, 1032983.0, 1661785.0, 723576.0, 6663394.0, 1493898.0, 6663394.0, 331549.0, 6663394.0, 6663394.0, 1661785.0, 5664579.0, 6663394.0, 2565124.0, 6663394.0, 1149460.0, 1119596.0, 581078.0, 5664579.0, 1661785.0, 330119.0, 6663394.0, 1858683.0, 6663394.0, 6663394.0, 964693.0, 6663394.0, 6663394.0, 5664579.0, 5664579.0, 6663394.0, 1942389.0, 6663394.0, 6663394.0, 5664579.0, 519546.0, 6663394.0, 1493898.0, 1858683.0, 1149460.0, 1119596.0, 6663394.0, 257762.0, 6663394.0, 6663394.0, 6663394.0, 6663394.0, 6663394.0, 723576.0, 2565124.0, 6663394.0, 1149460.0, 579962.0, 6663394.0, 2565124.0, 6663394.0, 6663394.0, 1942389.0, 1120406.0, 964693.0, 1032983.0, 394151.0, 6663394.0, 460001.0, 6663394.0, 1120406.0, 6663394.0, 6663394.0, 6663394.0, 316798.0, 6663394.0, 6663394.0, 782979.0, 654214.0, 6663394.0, 6663394.0, 6663394.0, 6663394.0, 5664579.0, 519546.0, 942665.0, 1858683.0, 6663394.0, 1119596.0, 6663394.0, 1661785.0, 6663394.0, 88636.0, 1152651.0, 6663394.0, 6663394.0, 5664579.0, 6663394.0, 6663394.0, 2565124.0, 2565124.0, 1240155.0, 6663394.0, 2565124.0, 964693.0, 2565124.0, 1152651.0, 519546.0, 964693.0, 1942389.0, 964693.0, 6663394.0, 633564.0, 495761.0, 2565124.0, 460001.0, 964693.0, 1661785.0, 2565124.0, 1032983.0, 2565124.0, 2565124.0, 1022800.0, 579962.0, 519546.0, 6663394.0, 6663394.0, 5664579.0, 2565124.0, 6663394.0, 5664579.0, 1119596.0, 5664579.0, 1493898.0, 1942389.0, 88636.0, 1942389.0, 6663394.0, 2565124.0, 6663394.0, 1149460.0, 716820.0, 1032983.0, 2565124.0, 6663394.0, 1493898.0, 1942389.0, 1942389.0, 694844.0, 2565124.0, 942665.0, 6663394.0, 1493898.0, 2565124.0, 1858683.0, 6663394.0, 6663394.0, 1942389.0, 1240155.0, 6663394.0, 6663394.0, 6663394.0, 6663394.0, 5664579.0, 2565124.0, 964693.0, 6663394.0, 1152651.0, 673559.0, 6663394.0, 316798.0, 6663394.0, 6663394.0, 1032983.0, 2565124.0, 6663394.0, 942665.0, 6663394.0, 5664579.0, 1149460.0, 153129.0, 1942389.0, 84777.0, 1022800.0, 1661785.0, 1661785.0, 6663394.0, 6663394.0, 581078.0, 1942389.0, 1120406.0, 257762.0, 782979.0, 6663394.0, 6663394.0, 694844.0, 6663394.0, 6663394.0, 1240155.0, 5664579.0, 307651.0, 6663394.0, 1942389.0, 6663394.0, 716820.0, 2565124.0, 1240155.0, 6663394.0, 5664579.0, 6663394.0, 2565124.0, 942665.0, 6663394.0, 804664.0, 6663394.0, 579962.0, 942665.0, 5664579.0, 6663394.0, 6663394.0, 1022800.0, 1022800.0, 6663394.0, 1149460.0, 6663394.0, 2565124.0, 519546.0, 1942389.0, 964693.0, 460001.0, 914678.0, 6663394.0, 1152651.0, 356958.0, 6663394.0, 356958.0, 1858683.0, 6663394.0, 964693.0, 331549.0, 581078.0, 5664579.0, 394151.0, 964693.0, 1661785.0, 6663394.0, 6663394.0, 6663394.0, 716820.0, 6663394.0, 1858683.0, 673559.0, 5664579.0, 6663394.0, 6663394.0, 2565124.0, 6663394.0, 2565124.0, 1119596.0, 1858683.0, 6663394.0, 914678.0, 5664579.0, 6663394.0, 581078.0, 716820.0, 1661785.0, 964693.0, 6663394.0, 1240155.0, 1942389.0, 654214.0, 1032983.0, 2565124.0, 914678.0, 330119.0, 330119.0, 1119596.0, 6663394.0, 6663394.0, 6663394.0, 2565124.0, 5664579.0, 6663394.0, 6663394.0, 6663394.0, 1152651.0, 6663394.0, 1149460.0, 6663394.0, 1661785.0, 6663394.0, 1032983.0, 964693.0, 6663394.0, 2565124.0, 394151.0, 1152651.0, 723576.0, 6663394.0, 330119.0, 6663394.0, 6663394.0, 2565124.0, 6663394.0, 2565124.0, 330119.0, 6663394.0, 6663394.0, 6663394.0, 1152651.0, 6663394.0, 6663394.0, 5664579.0, 1152651.0, 6663394.0, 331549.0, 673559.0, 6663394.0, 6663394.0, 654214.0, 581078.0, 6663394.0, 6663394.0, 782979.0, 6663394.0, 6663394.0, 220461.0, 6663394.0, 6663394.0, 6663394.0, 2565124.0, 2565124.0, 6663394.0, 1120406.0, 6663394.0, 1661785.0, 1119596.0, 6663394.0, 579962.0, 356958.0, 6663394.0, 6663394.0, 6663394.0, 394151.0, 6663394.0, 6663394.0, 716820.0, 329587.0, 307651.0, 1152651.0, 6663394.0, 6663394.0, 5664579.0, 633564.0, 964693.0, 6663394.0, 6663394.0, 257762.0, 6663394.0, 5664579.0, 914678.0, 1022800.0, 6663394.0, 6663394.0, 5664579.0, 6663394.0, 5664579.0, 6663394.0, 942665.0, 6663394.0, 1661785.0, 654214.0, 6663394.0, 6663394.0, 1149460.0, 633564.0, 1152651.0, 1942389.0, 6663394.0, 581078.0, 6663394.0, 6663394.0, 6663394.0, 1152651.0, 6663394.0, 6663394.0, 6663394.0, 964693.0, 6663394.0, 6663394.0, 6663394.0, 1022800.0, 1032983.0, 1149460.0, 1661785.0, 6663394.0, 434930.0, 2565124.0, 5664579.0, 6663394.0, 6663394.0, 6663394.0, 6663394.0, 694844.0, 1661785.0, 519546.0, 6663394.0, 1493898.0, 673559.0, 388167.0, 1022800.0, 1149460.0, 6663394.0, 723576.0, 1119596.0, 5664579.0, 6663394.0, 307651.0, 1942389.0, 6663394.0, 1661785.0, 329587.0, 1149460.0, 633564.0, 6663394.0, 2565124.0, 6663394.0, 6663394.0, 5664579.0, 6663394.0, 579962.0, 6663394.0, 6663394.0, 6663394.0, 6663394.0, 914678.0, 804664.0, 6663394.0, 1661785.0, 1022800.0, 964693.0, 5664579.0, 1152651.0, 6663394.0, 581078.0, 2565124.0, 1942389.0, 6663394.0, 673559.0, 6663394.0, 6663394.0, 804664.0, 5664579.0, 673559.0, 5664579.0, 6663394.0, 1661785.0, 6663394.0, 581078.0, 1493898.0, 6663394.0, 1942389.0, 5664579.0, 914678.0, 1022800.0, 581078.0, 2565124.0, 5664579.0, 6663394.0, 1942389.0, 914678.0, 1942389.0, 1032983.0, 2565124.0, 460001.0, 654214.0, 6663394.0, 1858683.0, 723576.0, 942665.0, 723576.0, 6663394.0, 6663394.0, 6663394.0, 1858683.0, 6663394.0, 2565124.0, 6663394.0, 1120406.0, 1661785.0, 1149460.0, 6663394.0, 6663394.0, 1120406.0, 1120406.0, 521870.0, 519546.0, 6663394.0, 6663394.0, 6663394.0, 6663394.0, 1942389.0, 495761.0, 964693.0, 160980.0, 633564.0, 2565124.0, 1493898.0, 914678.0, 6663394.0, 1942389.0, 1661785.0, 723576.0, 6663394.0, 6663394.0, 1152651.0, 6663394.0, 1120406.0, 2565124.0, 1858683.0, 6663394.0, 6663394.0, 331549.0, 581078.0, 329587.0, 1942389.0, 394151.0, 257762.0, 519546.0, 782979.0, 1858683.0, 5664579.0, 1493898.0, 388167.0, 1942389.0, 5664579.0, 1149460.0, 2565124.0, 6663394.0, 2565124.0, 942665.0, 1240155.0, 942665.0, 6663394.0, 6663394.0, 6663394.0, 2565124.0, 1942389.0, 6663394.0, 5664579.0, 1240155.0, 6663394.0, 2565124.0, 6663394.0, 5664579.0, 673559.0, 519546.0, 6663394.0, 5664579.0, 1120406.0, 5664579.0, 579962.0, 581078.0, 6663394.0, 1022800.0, 579962.0, 519546.0, 914678.0, 6663394.0, 2565124.0, 1119596.0, 6663394.0, 257762.0, 1858683.0, 5664579.0, 6663394.0, 6663394.0, 694844.0, 6663394.0, 6663394.0, 6663394.0, 5664579.0, 914678.0, 6663394.0, 330119.0, 2565124.0, 1149460.0, 6663394.0, 6663394.0, 914678.0, 5664579.0, 6663394.0, 6663394.0, 1119596.0, 6663394.0, 519546.0, 5664579.0, 1661785.0, 307651.0, 6663394.0, 673559.0, 6663394.0, 6663394.0, 6663394.0, 6663394.0, 2565124.0, 6663394.0, 694844.0, 6663394.0, 5664579.0, 6663394.0, 6663394.0, 5664579.0, 2565124.0, 2565124.0, 521870.0, 1858683.0, 6663394.0, 6663394.0, 1942389.0, 964693.0, 716820.0, 6663394.0, 6663394.0, 1152651.0, 6663394.0, 6663394.0, 1858683.0, 1858683.0, 1120406.0, 2565124.0, 6663394.0, 6663394.0, 581078.0, 6663394.0, 1240155.0, 6663394.0, 6663394.0, 6663394.0, 5664579.0, 5664579.0, 6663394.0, 723576.0, 6663394.0, 1942389.0, 942665.0, 1858683.0, 1858683.0, 6663394.0, 6663394.0, 716820.0, 6663394.0, 1119596.0, 134137.0, 6663394.0, 581078.0, 6663394.0, 434930.0, 6663394.0, 1240155.0, 6663394.0, 6663394.0, 694844.0, 2565124.0, 330119.0, 6663394.0, 5664579.0, 1022800.0, 1152651.0, 914678.0, 6663394.0, 5664579.0, 1493898.0, 6663394.0, 6663394.0, 6663394.0, 6663394.0, 330119.0, 6663394.0, 5664579.0, 6663394.0, 694844.0, 1942389.0, 1858683.0, 6663394.0, 519546.0, 1119596.0, 1119596.0, 6663394.0, 2565124.0, 6663394.0, 2565124.0, 330119.0, 1942389.0, 5664579.0, 6663394.0, 771044.0, 6663394.0, 1152651.0, 6663394.0, 1661785.0, 6663394.0, 1022800.0, 5664579.0, 6663394.0, 654214.0, 6663394.0, 2565124.0, 330119.0, 6663394.0, 1661785.0, 1942389.0, 394151.0, 388167.0, 1032983.0, 942665.0, 964693.0, 1661785.0, 1858683.0, 1942389.0, 6663394.0, 6663394.0, 1858683.0, 6663394.0, 1661785.0, 1942389.0, 6663394.0, 6663394.0, 723576.0, 5664579.0, 6663394.0, 6663394.0, 2565124.0, 1120406.0, 2565124.0, 6663394.0, 1152651.0, 1858683.0, 1240155.0, 6663394.0, 5664579.0, 6663394.0, 6663394.0, 942665.0, 6663394.0, 6663394.0, 6663394.0, 654214.0, 6663394.0, 1942389.0, 1149460.0, 804664.0, 1119596.0, 257762.0, 1152651.0, 5664579.0, 723576.0, 694844.0, 5664579.0, 579962.0, 673559.0, 579962.0, 5664579.0, 6663394.0, 6663394.0, 964693.0, 6663394.0, 6663394.0, 5664579.0, 1120406.0, 942665.0, 6663394.0, 6663394.0, 6663394.0, 6663394.0, 964693.0, 5664579.0, 6663394.0, 1240155.0, 1119596.0, 1858683.0, 942665.0, 5664579.0, 6663394.0, 1240155.0, 1858683.0, 1022800.0, 5664579.0, 1858683.0, 6663394.0, 6663394.0, 6663394.0, 6663394.0, 2565124.0, 1120406.0, 460001.0, 6663394.0, 6663394.0, 6663394.0, 964693.0, 1022800.0, 257762.0, 460001.0, 1120406.0, 6663394.0, 257762.0, 5664579.0, 6663394.0, 6663394.0, 1032983.0, 1240155.0, 6663394.0, 6663394.0, 134137.0, 6663394.0, 6663394.0, 5664579.0, 964693.0, 942665.0, 1119596.0, 6663394.0, 914678.0, 942665.0, 1152651.0, 1119596.0, 1240155.0, 5664579.0, 1119596.0, 6663394.0, 6663394.0, 495761.0, 6663394.0, 1661785.0, 2565124.0, 2565124.0, 6663394.0, 6663394.0, 716820.0, 1119596.0, 6663394.0, 394151.0, 804664.0, 6663394.0, 723576.0, 1022800.0, 2565124.0, 495761.0, 330119.0, 6663394.0, 2565124.0, 6663394.0, 1119596.0, 1119596.0, 6663394.0, 1858683.0, 1942389.0, 6663394.0, 1942389.0, 2565124.0, 694844.0, 1240155.0, 694844.0, 1240155.0, 5664579.0, 6663394.0, 5664579.0, 6663394.0, 460001.0, 5664579.0, 1858683.0, 172539.0, 330119.0, 6663394.0, 579962.0, 1661785.0, 6663394.0, 1942389.0, 6663394.0, 6663394.0, 521870.0, 579962.0, 460001.0, 1858683.0, 581078.0, 6663394.0, 6663394.0, 6663394.0, 2565124.0, 723576.0, 6663394.0, 633564.0, 579962.0, 581078.0, 6663394.0, 1120406.0, 6663394.0, 2565124.0, 6663394.0, 6663394.0, 1152651.0, 6663394.0, 330119.0, 771044.0, 5664579.0, 1942389.0, 6663394.0, 6663394.0, 2565124.0, 5664579.0, 6663394.0, 5664579.0, 654214.0, 316798.0, 157640.0, 6663394.0, 6663394.0, 1858683.0, 1858683.0, 6663394.0, 1119596.0, 6663394.0, 1661785.0, 6663394.0, 6663394.0, 2565124.0, 388167.0, 6663394.0, 2565124.0, 157640.0, 6663394.0, 6663394.0, 6663394.0, 1493898.0, 2565124.0, 6663394.0, 88636.0, 1240155.0, 330119.0, 579962.0, 330119.0, 1942389.0, 1119596.0, 6663394.0, 257762.0, 5664579.0, 5664579.0, 2565124.0, 2565124.0, 6663394.0, 5664579.0, 579962.0, 1858683.0, 6663394.0, 5664579.0, 5664579.0, 2565124.0, 914678.0, 6663394.0, 2565124.0, 6663394.0, 2565124.0, 1022800.0, 6663394.0, 579962.0, 6663394.0, 6663394.0, 1119596.0, 1119596.0, 6663394.0, 6663394.0, 2565124.0, 6663394.0, 1149460.0, 6663394.0, 6663394.0, 6663394.0, 2565124.0, 6663394.0, 6663394.0, 5664579.0, 6663394.0, 495761.0, 1661785.0, 716820.0, 942665.0, 771044.0, 307651.0, 2565124.0, 5664579.0, 2565124.0, 495761.0, 1661785.0, 2565124.0, 6663394.0, 521870.0, 782979.0, 519546.0, 5664579.0, 2565124.0, 581078.0, 673559.0, 5664579.0, 723576.0, 2565124.0, 6663394.0, 1661785.0, 581078.0, 6663394.0, 6663394.0, 6663394.0, 6663394.0, 1119596.0, 6663394.0, 1120406.0, 6663394.0, 6663394.0, 6663394.0, 1493898.0, 1661785.0, 6663394.0, 5664579.0, 1120406.0, 6663394.0, 330119.0, 5664579.0, 6663394.0, 1858683.0, 6663394.0, 1942389.0, 6663394.0, 6663394.0, 153129.0, 2565124.0, 6663394.0, 6663394.0, 6663394.0, 1119596.0, 6663394.0, 1858683.0, 1120406.0, 434930.0, 5664579.0, 519546.0, 6663394.0, 6663394.0, 5664579.0, 1152651.0, 6663394.0, 6663394.0, 2565124.0, 6663394.0, 5664579.0, 1661785.0, 316798.0, 964693.0, 1942389.0, 6663394.0, 2565124.0, 6663394.0, 6663394.0, 6663394.0, 1942389.0, 633564.0, 1120406.0, 6663394.0, 5664579.0, 6663394.0, 1152651.0, 716820.0, 6663394.0, 654214.0, 694844.0, 6663394.0, 1120406.0, 1942389.0, 782979.0, 1858683.0, 6663394.0, 5664579.0, 6663394.0, 2565124.0, 6663394.0, 6663394.0, 633564.0, 6663394.0, 914678.0, 6663394.0, 6663394.0, 2565124.0, 257762.0, 6663394.0, 6663394.0, 2565124.0, 1022800.0, 2565124.0], \"y0\": \" \", \"yaxis\": \"y\"}],\n",
              "                        {\"boxmode\": \"group\", \"legend\": {\"tracegroupgap\": 0}, \"template\": {\"data\": {\"bar\": [{\"error_x\": {\"color\": \"#2a3f5f\"}, \"error_y\": {\"color\": \"#2a3f5f\"}, \"marker\": {\"line\": {\"color\": \"#E5ECF6\", \"width\": 0.5}}, \"type\": \"bar\"}], \"barpolar\": [{\"marker\": {\"line\": {\"color\": \"#E5ECF6\", \"width\": 0.5}}, \"type\": \"barpolar\"}], \"carpet\": [{\"aaxis\": {\"endlinecolor\": \"#2a3f5f\", \"gridcolor\": \"white\", \"linecolor\": \"white\", \"minorgridcolor\": \"white\", \"startlinecolor\": \"#2a3f5f\"}, \"baxis\": {\"endlinecolor\": \"#2a3f5f\", \"gridcolor\": \"white\", \"linecolor\": \"white\", \"minorgridcolor\": \"white\", \"startlinecolor\": \"#2a3f5f\"}, \"type\": \"carpet\"}], \"choropleth\": [{\"colorbar\": {\"outlinewidth\": 0, \"ticks\": \"\"}, \"type\": \"choropleth\"}], \"contour\": [{\"colorbar\": {\"outlinewidth\": 0, \"ticks\": \"\"}, \"colorscale\": [[0.0, \"#0d0887\"], [0.1111111111111111, \"#46039f\"], [0.2222222222222222, \"#7201a8\"], [0.3333333333333333, \"#9c179e\"], [0.4444444444444444, \"#bd3786\"], [0.5555555555555556, \"#d8576b\"], [0.6666666666666666, \"#ed7953\"], [0.7777777777777778, \"#fb9f3a\"], [0.8888888888888888, \"#fdca26\"], [1.0, \"#f0f921\"]], \"type\": \"contour\"}], \"contourcarpet\": [{\"colorbar\": {\"outlinewidth\": 0, \"ticks\": \"\"}, \"type\": \"contourcarpet\"}], \"heatmap\": [{\"colorbar\": {\"outlinewidth\": 0, \"ticks\": \"\"}, \"colorscale\": [[0.0, \"#0d0887\"], [0.1111111111111111, \"#46039f\"], [0.2222222222222222, \"#7201a8\"], [0.3333333333333333, \"#9c179e\"], [0.4444444444444444, \"#bd3786\"], [0.5555555555555556, \"#d8576b\"], [0.6666666666666666, \"#ed7953\"], [0.7777777777777778, \"#fb9f3a\"], [0.8888888888888888, \"#fdca26\"], [1.0, \"#f0f921\"]], \"type\": \"heatmap\"}], \"heatmapgl\": [{\"colorbar\": {\"outlinewidth\": 0, \"ticks\": \"\"}, \"colorscale\": [[0.0, \"#0d0887\"], [0.1111111111111111, \"#46039f\"], [0.2222222222222222, \"#7201a8\"], [0.3333333333333333, \"#9c179e\"], [0.4444444444444444, \"#bd3786\"], [0.5555555555555556, \"#d8576b\"], [0.6666666666666666, \"#ed7953\"], [0.7777777777777778, \"#fb9f3a\"], [0.8888888888888888, \"#fdca26\"], [1.0, \"#f0f921\"]], \"type\": \"heatmapgl\"}], \"histogram\": [{\"marker\": {\"colorbar\": {\"outlinewidth\": 0, \"ticks\": \"\"}}, \"type\": \"histogram\"}], \"histogram2d\": [{\"colorbar\": {\"outlinewidth\": 0, \"ticks\": \"\"}, \"colorscale\": [[0.0, \"#0d0887\"], [0.1111111111111111, \"#46039f\"], [0.2222222222222222, \"#7201a8\"], [0.3333333333333333, \"#9c179e\"], [0.4444444444444444, \"#bd3786\"], [0.5555555555555556, \"#d8576b\"], [0.6666666666666666, \"#ed7953\"], [0.7777777777777778, \"#fb9f3a\"], [0.8888888888888888, \"#fdca26\"], [1.0, \"#f0f921\"]], \"type\": \"histogram2d\"}], \"histogram2dcontour\": [{\"colorbar\": {\"outlinewidth\": 0, \"ticks\": \"\"}, \"colorscale\": [[0.0, \"#0d0887\"], [0.1111111111111111, \"#46039f\"], [0.2222222222222222, \"#7201a8\"], [0.3333333333333333, \"#9c179e\"], [0.4444444444444444, \"#bd3786\"], [0.5555555555555556, \"#d8576b\"], [0.6666666666666666, \"#ed7953\"], [0.7777777777777778, \"#fb9f3a\"], [0.8888888888888888, \"#fdca26\"], [1.0, \"#f0f921\"]], \"type\": \"histogram2dcontour\"}], \"mesh3d\": [{\"colorbar\": {\"outlinewidth\": 0, \"ticks\": \"\"}, \"type\": \"mesh3d\"}], \"parcoords\": [{\"line\": {\"colorbar\": {\"outlinewidth\": 0, \"ticks\": \"\"}}, \"type\": \"parcoords\"}], \"pie\": [{\"automargin\": true, \"type\": \"pie\"}], \"scatter\": [{\"marker\": {\"colorbar\": {\"outlinewidth\": 0, \"ticks\": \"\"}}, \"type\": \"scatter\"}], \"scatter3d\": [{\"line\": {\"colorbar\": {\"outlinewidth\": 0, \"ticks\": \"\"}}, \"marker\": {\"colorbar\": {\"outlinewidth\": 0, \"ticks\": \"\"}}, \"type\": \"scatter3d\"}], \"scattercarpet\": [{\"marker\": {\"colorbar\": {\"outlinewidth\": 0, \"ticks\": \"\"}}, \"type\": \"scattercarpet\"}], \"scattergeo\": [{\"marker\": {\"colorbar\": {\"outlinewidth\": 0, \"ticks\": \"\"}}, \"type\": \"scattergeo\"}], \"scattergl\": [{\"marker\": {\"colorbar\": {\"outlinewidth\": 0, \"ticks\": \"\"}}, \"type\": \"scattergl\"}], \"scattermapbox\": [{\"marker\": {\"colorbar\": {\"outlinewidth\": 0, \"ticks\": \"\"}}, \"type\": \"scattermapbox\"}], \"scatterpolar\": [{\"marker\": {\"colorbar\": {\"outlinewidth\": 0, \"ticks\": \"\"}}, \"type\": \"scatterpolar\"}], \"scatterpolargl\": [{\"marker\": {\"colorbar\": {\"outlinewidth\": 0, \"ticks\": \"\"}}, \"type\": \"scatterpolargl\"}], \"scatterternary\": [{\"marker\": {\"colorbar\": {\"outlinewidth\": 0, \"ticks\": \"\"}}, \"type\": \"scatterternary\"}], \"surface\": [{\"colorbar\": {\"outlinewidth\": 0, \"ticks\": \"\"}, \"colorscale\": [[0.0, \"#0d0887\"], [0.1111111111111111, \"#46039f\"], [0.2222222222222222, \"#7201a8\"], [0.3333333333333333, \"#9c179e\"], [0.4444444444444444, \"#bd3786\"], [0.5555555555555556, \"#d8576b\"], [0.6666666666666666, \"#ed7953\"], [0.7777777777777778, \"#fb9f3a\"], [0.8888888888888888, \"#fdca26\"], [1.0, \"#f0f921\"]], \"type\": \"surface\"}], \"table\": [{\"cells\": {\"fill\": {\"color\": \"#EBF0F8\"}, \"line\": {\"color\": \"white\"}}, \"header\": {\"fill\": {\"color\": \"#C8D4E3\"}, \"line\": {\"color\": \"white\"}}, \"type\": \"table\"}]}, \"layout\": {\"annotationdefaults\": {\"arrowcolor\": \"#2a3f5f\", \"arrowhead\": 0, \"arrowwidth\": 1}, \"coloraxis\": {\"colorbar\": {\"outlinewidth\": 0, \"ticks\": \"\"}}, \"colorscale\": {\"diverging\": [[0, \"#8e0152\"], [0.1, \"#c51b7d\"], [0.2, \"#de77ae\"], [0.3, \"#f1b6da\"], [0.4, \"#fde0ef\"], [0.5, \"#f7f7f7\"], [0.6, \"#e6f5d0\"], [0.7, \"#b8e186\"], [0.8, \"#7fbc41\"], [0.9, \"#4d9221\"], [1, \"#276419\"]], \"sequential\": [[0.0, \"#0d0887\"], [0.1111111111111111, \"#46039f\"], [0.2222222222222222, \"#7201a8\"], [0.3333333333333333, \"#9c179e\"], [0.4444444444444444, \"#bd3786\"], [0.5555555555555556, \"#d8576b\"], [0.6666666666666666, \"#ed7953\"], [0.7777777777777778, \"#fb9f3a\"], [0.8888888888888888, \"#fdca26\"], [1.0, \"#f0f921\"]], \"sequentialminus\": [[0.0, \"#0d0887\"], [0.1111111111111111, \"#46039f\"], [0.2222222222222222, \"#7201a8\"], [0.3333333333333333, \"#9c179e\"], [0.4444444444444444, \"#bd3786\"], [0.5555555555555556, \"#d8576b\"], [0.6666666666666666, \"#ed7953\"], [0.7777777777777778, \"#fb9f3a\"], [0.8888888888888888, \"#fdca26\"], [1.0, \"#f0f921\"]]}, \"colorway\": [\"#636efa\", \"#EF553B\", \"#00cc96\", \"#ab63fa\", \"#FFA15A\", \"#19d3f3\", \"#FF6692\", \"#B6E880\", \"#FF97FF\", \"#FECB52\"], \"font\": {\"color\": \"#2a3f5f\"}, \"geo\": {\"bgcolor\": \"white\", \"lakecolor\": \"white\", \"landcolor\": \"#E5ECF6\", \"showlakes\": true, \"showland\": true, \"subunitcolor\": \"white\"}, \"hoverlabel\": {\"align\": \"left\"}, \"hovermode\": \"closest\", \"mapbox\": {\"style\": \"light\"}, \"paper_bgcolor\": \"white\", \"plot_bgcolor\": \"#E5ECF6\", \"polar\": {\"angularaxis\": {\"gridcolor\": \"white\", \"linecolor\": \"white\", \"ticks\": \"\"}, \"bgcolor\": \"#E5ECF6\", \"radialaxis\": {\"gridcolor\": \"white\", \"linecolor\": \"white\", \"ticks\": \"\"}}, \"scene\": {\"xaxis\": {\"backgroundcolor\": \"#E5ECF6\", \"gridcolor\": \"white\", \"gridwidth\": 2, \"linecolor\": \"white\", \"showbackground\": true, \"ticks\": \"\", \"zerolinecolor\": \"white\"}, \"yaxis\": {\"backgroundcolor\": \"#E5ECF6\", \"gridcolor\": \"white\", \"gridwidth\": 2, \"linecolor\": \"white\", \"showbackground\": true, \"ticks\": \"\", \"zerolinecolor\": \"white\"}, \"zaxis\": {\"backgroundcolor\": \"#E5ECF6\", \"gridcolor\": \"white\", \"gridwidth\": 2, \"linecolor\": \"white\", \"showbackground\": true, \"ticks\": \"\", \"zerolinecolor\": \"white\"}}, \"shapedefaults\": {\"line\": {\"color\": \"#2a3f5f\"}}, \"ternary\": {\"aaxis\": {\"gridcolor\": \"white\", \"linecolor\": \"white\", \"ticks\": \"\"}, \"baxis\": {\"gridcolor\": \"white\", \"linecolor\": \"white\", \"ticks\": \"\"}, \"bgcolor\": \"#E5ECF6\", \"caxis\": {\"gridcolor\": \"white\", \"linecolor\": \"white\", \"ticks\": \"\"}}, \"title\": {\"x\": 0.05}, \"xaxis\": {\"automargin\": true, \"gridcolor\": \"white\", \"linecolor\": \"white\", \"ticks\": \"\", \"title\": {\"standoff\": 15}, \"zerolinecolor\": \"white\", \"zerolinewidth\": 2}, \"yaxis\": {\"automargin\": true, \"gridcolor\": \"white\", \"linecolor\": \"white\", \"ticks\": \"\", \"title\": {\"standoff\": 15}, \"zerolinecolor\": \"white\", \"zerolinewidth\": 2}}}, \"title\": {\"text\": \"Poblacion por creatividad\"}, \"xaxis\": {\"anchor\": \"y\", \"domain\": [0.0, 1.0], \"title\": {\"text\": \"personalizacion\"}}, \"yaxis\": {\"anchor\": \"x\", \"domain\": [0.0, 1.0], \"title\": {\"text\": \"poblacion\"}}},\n",
              "                        {\"responsive\": true}\n",
              "                    ).then(function(){\n",
              "                            \n",
              "var gd = document.getElementById('9e00fca7-78df-439d-88eb-e33c413b6ef4');\n",
              "var x = new MutationObserver(function (mutations, observer) {{\n",
              "        var display = window.getComputedStyle(gd).display;\n",
              "        if (!display || display === 'none') {{\n",
              "            console.log([gd, 'removed!']);\n",
              "            Plotly.purge(gd);\n",
              "            observer.disconnect();\n",
              "        }}\n",
              "}});\n",
              "\n",
              "// Listen for the removal of the full notebook cells\n",
              "var notebookContainer = gd.closest('#notebook-container');\n",
              "if (notebookContainer) {{\n",
              "    x.observe(notebookContainer, {childList: true});\n",
              "}}\n",
              "\n",
              "// Listen for the clearing of the current output cell\n",
              "var outputEl = gd.closest('.output');\n",
              "if (outputEl) {{\n",
              "    x.observe(outputEl, {childList: true});\n",
              "}}\n",
              "\n",
              "                        })\n",
              "                };\n",
              "                \n",
              "            </script>\n",
              "        </div>\n",
              "</body>\n",
              "</html>"
            ]
          },
          "metadata": {
            "tags": []
          }
        }
      ]
    },
    {
      "cell_type": "code",
      "metadata": {
        "colab": {
          "base_uri": "https://localhost:8080/",
          "height": 542
        },
        "id": "0FPKdCi_sQlc",
        "outputId": "b61d992e-98c5-4e94-b92b-3dbbf5133711"
      },
      "source": [
        "fig_pob = px.box(X_processed, x='personalizacion', y=\"Indice Actividad\",title='IA por creatividad')\n",
        "fig_pob.show()"
      ],
      "id": "0FPKdCi_sQlc",
      "execution_count": null,
      "outputs": [
        {
          "output_type": "display_data",
          "data": {
            "text/html": [
              "<html>\n",
              "<head><meta charset=\"utf-8\" /></head>\n",
              "<body>\n",
              "    <div>\n",
              "            <script src=\"https://cdnjs.cloudflare.com/ajax/libs/mathjax/2.7.5/MathJax.js?config=TeX-AMS-MML_SVG\"></script><script type=\"text/javascript\">if (window.MathJax) {MathJax.Hub.Config({SVG: {font: \"STIX-Web\"}});}</script>\n",
              "                <script type=\"text/javascript\">window.PlotlyConfig = {MathJaxConfig: 'local'};</script>\n",
              "        <script src=\"https://cdn.plot.ly/plotly-latest.min.js\"></script>    \n",
              "            <div id=\"64a8149d-9f39-4f8d-b3aa-390e37081803\" class=\"plotly-graph-div\" style=\"height:525px; width:100%;\"></div>\n",
              "            <script type=\"text/javascript\">\n",
              "                \n",
              "                    window.PLOTLYENV=window.PLOTLYENV || {};\n",
              "                    \n",
              "                if (document.getElementById(\"64a8149d-9f39-4f8d-b3aa-390e37081803\")) {\n",
              "                    Plotly.newPlot(\n",
              "                        '64a8149d-9f39-4f8d-b3aa-390e37081803',\n",
              "                        [{\"alignmentgroup\": \"True\", \"hoverlabel\": {\"namelength\": 0}, \"hovertemplate\": \"personalizacion=%{x}<br>Indice Actividad=%{y}\", \"legendgroup\": \"\", \"marker\": {\"color\": \"#636efa\"}, \"name\": \"\", \"notched\": false, \"offsetgroup\": \"\", \"orientation\": \"v\", \"showlegend\": false, \"type\": \"box\", \"x\": [3, 3, 3, 3, 3, 3, 1, 3, 2, 2, 2, 2, 1, 2, 3, 3, 3, 3, 0, 2, 2, 2, 2, 2, 2, 2, 2, 2, 2, 2, 2, 2, 2, 2, 2, 2, 2, 2, 2, 2, 2, 2, 2, 2, 3, 2, 2, 2, 2, 3, 3, 3, 3, 3, 2, 1, 2, 2, 2, 2, 2, 2, 2, 2, 2, 2, 2, 2, 2, 2, 2, 2, 2, 2, 2, 2, 2, 2, 2, 2, 2, 2, 2, 2, 2, 2, 2, 2, 2, 2, 2, 2, 2, 2, 2, 2, 2, 3, 2, 2, 2, 2, 3, 2, 2, 2, 2, 2, 2, 2, 2, 2, 2, 2, 2, 2, 2, 2, 2, 2, 2, 2, 3, 2, 2, 2, 2, 2, 2, 2, 2, 2, 2, 2, 2, 2, 2, 2, 2, 2, 2, 2, 2, 2, 2, 2, 2, 2, 2, 2, 2, 2, 2, 2, 2, 2, 2, 2, 2, 2, 2, 2, 2, 2, 2, 2, 2, 2, 2, 2, 2, 2, 2, 2, 2, 2, 1, 2, 2, 2, 2, 2, 2, 2, 2, 2, 2, 2, 2, 2, 2, 2, 2, 2, 2, 2, 2, 2, 2, 2, 2, 2, 2, 2, 2, 2, 2, 2, 2, 2, 2, 2, 2, 2, 2, 2, 2, 2, 2, 2, 2, 2, 1, 2, 2, 2, 2, 2, 2, 2, 2, 2, 2, 2, 2, 2, 2, 2, 2, 2, 2, 2, 2, 0, 2, 2, 2, 2, 2, 2, 2, 2, 2, 2, 2, 2, 2, 2, 2, 2, 2, 3, 2, 2, 2, 2, 2, 2, 2, 2, 2, 2, 2, 2, 2, 2, 2, 2, 2, 2, 2, 2, 2, 2, 2, 2, 2, 2, 2, 2, 2, 2, 2, 2, 2, 2, 2, 2, 2, 2, 2, 0, 2, 2, 2, 2, 2, 2, 2, 2, 2, 2, 2, 2, 2, 2, 2, 2, 2, 2, 2, 2, 2, 2, 2, 2, 2, 2, 2, 2, 2, 2, 2, 1, 3, 2, 2, 2, 2, 2, 2, 2, 2, 2, 2, 2, 2, 2, 2, 2, 2, 2, 3, 3, 2, 2, 2, 2, 2, 2, 2, 2, 2, 2, 2, 2, 2, 2, 2, 2, 2, 2, 2, 2, 2, 2, 2, 2, 2, 2, 2, 2, 2, 2, 2, 2, 2, 2, 2, 2, 2, 2, 2, 2, 2, 2, 2, 2, 2, 2, 2, 2, 2, 2, 2, 2, 2, 2, 2, 2, 2, 2, 2, 2, 2, 2, 2, 2, 2, 2, 2, 2, 2, 2, 2, 2, 2, 2, 2, 2, 2, 2, 2, 2, 2, 2, 2, 2, 2, 2, 2, 2, 2, 2, 2, 2, 2, 2, 2, 2, 2, 2, 2, 2, 2, 2, 2, 2, 2, 2, 2, 2, 2, 2, 2, 2, 2, 2, 2, 2, 0, 2, 2, 2, 2, 2, 2, 2, 2, 2, 2, 2, 2, 2, 2, 3, 1, 1, 2, 2, 2, 2, 2, 2, 2, 2, 2, 3, 2, 2, 2, 2, 2, 2, 2, 2, 2, 2, 2, 2, 2, 2, 2, 2, 2, 2, 2, 2, 2, 2, 2, 2, 2, 2, 2, 2, 2, 2, 2, 2, 2, 2, 2, 2, 2, 2, 2, 2, 2, 2, 2, 2, 2, 2, 2, 2, 2, 1, 2, 2, 3, 1, 1, 2, 2, 2, 2, 2, 2, 2, 2, 2, 2, 2, 2, 2, 2, 2, 2, 2, 3, 2, 2, 3, 3, 3, 3, 3, 3, 3, 3, 3, 3, 3, 3, 3, 3, 3, 3, 3, 3, 3, 3, 3, 3, 3, 3, 3, 3, 3, 3, 3, 1, 3, 3, 3, 3, 3, 3, 3, 3, 3, 3, 3, 3, 2, 2, 2, 2, 2, 2, 2, 2, 3, 2, 2, 2, 2, 1, 3, 2, 2, 2, 2, 2, 2, 2, 2, 2, 2, 2, 2, 2, 2, 2, 2, 2, 2, 2, 2, 2, 2, 2, 2, 2, 2, 2, 3, 1, 2, 2, 2, 2, 2, 2, 2, 2, 2, 2, 2, 2, 2, 2, 2, 2, 2, 2, 2, 2, 2, 2, 2, 2, 2, 2, 2, 2, 2, 2, 2, 2, 2, 2, 2, 2, 2, 3, 2, 2, 2, 2, 2, 2, 2, 2, 2, 2, 2, 2, 2, 3, 2, 2, 2, 2, 2, 2, 2, 2, 2, 2, 2, 2, 2, 2, 2, 1, 2, 2, 2, 2, 2, 2, 2, 2, 2, 2, 3, 3, 2, 2, 2, 2, 2, 2, 2, 2, 2, 2, 2, 2, 2, 2, 1, 2, 2, 2, 2, 1, 3, 2, 2, 2, 2, 2, 2, 2, 2, 0, 2, 2, 2, 2, 2, 2, 2, 2, 2, 3, 2, 3, 3, 2, 2, 2, 2, 1, 2, 2, 1, 2, 2, 2, 2, 2, 3, 2, 2, 2, 2, 2, 2, 2, 2, 2, 2, 2, 2, 2, 2, 2, 2, 2, 2, 2, 2, 2, 2, 2, 2, 2, 2, 2, 2, 2, 2, 2, 2, 2, 2, 2, 0, 3, 2, 2, 2, 2, 2, 2, 2, 2, 2, 2, 2, 2, 2, 2, 2, 2, 2, 2, 2, 2, 2, 2, 2, 2, 2, 2, 2, 2, 2, 3, 3, 3, 3, 3, 3, 2, 3, 3, 2, 2, 2, 2, 2, 2, 2, 2, 2, 2, 2, 2, 2, 2, 2, 3, 3, 3, 3, 3, 0, 3, 3, 2, 2, 2, 1, 2, 2, 3, 2, 2, 2, 3, 3, 3, 3, 2, 2, 1, 3, 2, 2, 2, 2, 2, 3, 2, 2, 3, 1, 3, 3, 3, 3, 3, 2, 2, 2, 2, 2, 2, 2, 2, 2, 2, 2, 2, 3, 1, 3, 2, 2, 2, 2, 2, 2, 2, 2, 2, 2, 2, 2, 2, 2, 2, 2, 2, 2, 2, 2, 2, 2, 2, 2, 2, 2, 2, 2, 2, 2, 2, 2, 2, 2, 2, 0, 3, 1, 2, 3, 3, 1, 3, 3, 0, 2, 2, 2, 2, 2, 2, 2, 2, 2, 2, 2, 2, 2, 2, 2, 2, 2, 2, 2, 2, 2, 2, 2, 2, 2, 2, 2, 2, 2, 2, 2, 2, 2, 2, 2, 2, 2, 2, 2, 2, 2, 2, 2, 2, 2, 0, 0, 2, 2, 2, 2, 2, 2, 2, 2, 2, 2, 2, 2, 2, 2, 2, 2, 2, 2, 2, 2, 2, 2, 2, 2, 2, 2, 2, 2, 2, 2, 2, 2, 2, 2, 2, 2, 2, 2, 2, 2, 2, 2, 2, 2, 3, 3, 1, 3, 3, 2, 3, 2, 2, 2, 2, 2, 2, 2, 2, 2, 2, 2, 2, 2, 2, 2, 2, 3, 3, 2, 3, 2, 3, 1, 2, 2, 2, 2, 2, 2, 2, 2, 2, 2, 2, 2, 2, 2, 2, 1, 2, 3, 2, 2, 2, 2, 2, 2, 2, 2, 3, 2, 2, 2, 2, 0, 3, 2, 2, 2, 2, 2, 2, 2, 2, 2, 2, 2, 2, 2, 2, 2, 2, 2, 2, 2, 2, 2, 2, 2, 2, 2, 2, 2, 2, 2, 2, 2, 2, 2, 2, 2, 2, 2, 3, 3, 3, 1, 2, 2, 2, 3, 3, 2, 2, 2, 2, 2, 2, 2, 2, 2, 2, 2, 2, 2, 2, 2, 2, 2, 2, 2, 2, 2, 2, 2, 2, 2, 2, 2, 2, 2, 2, 2, 2, 2, 2, 1, 2, 2, 2, 2, 2, 2, 2, 2, 2, 2, 2, 2, 2, 2, 2, 2, 2, 2, 2, 2, 2, 2, 2, 2, 2, 2, 2, 3, 3, 3, 3, 1, 3, 1, 3, 2, 2, 2, 2, 2, 2, 1, 2, 2, 2, 2, 2, 2, 2, 2, 2, 2, 2, 2, 2, 2, 2, 2, 2, 2, 2, 2, 2, 2, 2, 2, 2, 2, 2, 2, 2, 2, 2, 2, 2, 2, 2, 2, 2, 2, 2, 3, 2, 0, 0, 0, 2, 2, 2, 2, 2, 2, 2, 2, 2, 0, 2, 1, 1, 1, 1, 1, 2, 2, 1, 3, 1, 2, 2, 2, 2, 2, 2, 2, 2, 2, 2, 2, 2, 2, 2, 2, 2, 2, 2, 2, 2, 2, 2, 2, 2, 2, 2, 2, 2, 2, 2, 2, 2, 2, 2, 2, 2, 2, 2, 2, 2, 2, 2, 2, 2, 2, 2, 1, 1, 1, 2, 2, 2, 2, 2, 2, 2, 2, 2, 2, 2, 2, 2, 2, 2, 2, 2, 2, 2, 2, 2, 2, 2, 2, 2, 2, 2, 2, 2, 2, 2, 2, 2, 2, 2, 2, 2, 2, 2, 2, 1, 1, 1, 2, 2, 2, 2, 2, 2, 2, 2, 2, 0, 2, 2, 3, 1, 1, 1, 3, 2, 2, 2, 2, 2, 2, 2, 2, 2, 2, 3, 3, 1, 1, 2, 2, 2, 2, 2, 2, 2, 2, 3, 3, 3, 3, 3, 2, 1, 1, 1, 1, 3, 3, 3, 3, 2, 2, 2, 2, 2, 2, 2, 2, 2, 2, 2, 2, 2, 2, 2, 2, 2, 2, 2, 2, 2, 2, 2, 2, 2, 2, 2, 2, 2, 2, 2, 2, 2, 2, 2, 2, 2, 2, 2, 2, 2, 1, 1, 1, 3, 1, 3, 2, 0, 1, 1, 1, 2, 2, 2, 2, 2, 2, 2, 2, 2, 2, 2, 2, 2, 2, 2, 2, 2, 2, 2, 2, 2, 2, 2, 2, 2, 2, 2, 0, 1, 2, 3, 2, 3, 2, 2, 1, 2, 2, 2, 2, 2, 3, 3, 2, 2, 2, 2, 3, 1, 2, 1, 3, 2, 2, 2, 2, 2, 2, 2, 2, 2, 1, 3, 2, 2, 2, 2, 2, 2, 1, 2, 2, 1, 2, 2, 2, 2, 2, 2, 2, 2, 2, 2, 2, 2, 2, 2, 2, 2, 2, 2, 2, 2, 2, 1, 3, 2, 2, 3, 1, 2, 2, 2, 2, 2, 2, 2, 2, 2, 2, 2, 2, 2, 2, 2, 2, 2, 2, 2, 2, 2, 2, 2, 2, 2, 2, 2, 2, 2, 2, 2, 2, 2, 2, 1, 1, 0, 1, 2, 2, 2, 2, 2, 1, 3, 2, 1, 2, 2, 2, 2, 2, 2, 1, 2, 2, 2, 2, 2, 2, 2, 2, 2, 2, 2, 1, 1, 1, 1, 1, 1, 1, 2, 3, 3, 3, 2, 2, 2, 2, 2, 2, 2, 2, 2, 2, 2, 2, 2, 2, 1, 0, 3, 3, 2, 2, 3, 1, 1, 3, 2, 2, 2, 2, 2, 2, 2, 0, 2, 2, 1, 1, 1, 3, 1, 3, 1, 3, 1, 3, 3, 0, 0, 0, 3, 2, 2, 2, 2, 1, 1, 3, 2, 0, 1, 2, 2, 2, 2, 2, 2, 2, 2, 2, 2, 2, 2, 2, 3, 3, 3, 2, 2, 2, 2, 2, 2, 2, 2, 2, 2, 2, 2, 0, 3, 3, 1, 1, 1, 2, 1, 3, 3, 2, 2, 2, 2, 2, 2, 2, 2, 2, 2, 3, 1, 2, 2, 2, 2, 2, 1, 1, 1, 1, 1, 1, 2, 0, 3, 3, 2, 1, 1, 0, 2, 2, 2, 3, 3, 2, 2, 2, 2, 2, 2, 1, 2, 2, 2, 2, 2, 2, 2, 2, 2, 2, 2, 2, 2, 2, 2, 2, 2, 2, 2, 2, 2, 2, 2, 2, 2, 2, 2, 2, 2, 2, 1, 3, 2, 2, 2, 2, 1, 1, 1, 2, 2, 1, 2, 0, 0, 2, 2, 2, 2, 2, 2, 2, 2, 2, 2, 2, 0, 0, 2, 2, 2, 2, 2, 2, 2, 2, 2, 2, 2, 2, 1, 3, 2, 1, 1, 1, 3, 2, 2, 2, 2, 2, 2, 2, 2, 3, 3, 3, 3, 1, 3, 2, 2, 2, 0, 2, 2, 2, 2, 2, 2, 3, 1, 1, 3, 2, 1, 0, 3, 2, 2, 2, 2, 2, 1, 1, 3, 1, 3, 3, 1, 3, 2, 2, 2, 1, 1, 3, 2, 2, 3, 1, 3, 2, 1, 2, 2, 2, 2, 2, 1, 1, 3, 2, 3, 2, 2, 2, 2, 2, 1, 1, 1, 2, 2, 2, 2, 2, 3, 3, 3, 3, 3, 3, 3, 3, 3, 3, 3, 3, 3, 3, 3, 3, 3, 3, 3, 3, 3, 3, 3, 3, 3, 3, 3, 1, 3, 3, 3, 3, 3, 3, 3, 3, 3, 3, 3, 1, 3, 3, 3, 3, 3, 3, 3, 3, 3, 3, 3, 3, 3, 3, 3, 3, 3, 3, 3, 3, 3, 3, 3, 3, 3, 3, 3, 3, 3, 3, 3, 3, 3, 3, 3, 3, 3, 3, 3, 3, 3, 3, 3, 3, 3, 3, 3, 3, 3, 3, 3, 3, 3, 3, 3, 3, 3, 3, 3, 3, 3, 3, 3, 3, 3, 3, 3, 3, 3, 3, 3, 3, 3, 3, 3, 3, 3, 3, 3, 3, 3, 3, 3, 3, 3, 3, 3, 3, 3, 3, 3, 3, 3, 3, 3, 3, 3, 3, 3, 3, 3, 3, 3, 0, 3, 3, 3, 3, 3, 3, 3, 3, 3, 3, 3, 3, 3, 3, 3, 3, 3, 3, 3, 3, 3, 3, 3, 3, 3, 3, 3, 3, 3, 3, 3, 3, 3, 3, 3, 3, 3, 3, 3, 3, 3, 3, 3, 3, 3, 3, 3, 3, 3, 3, 3, 3, 3, 3, 3, 3, 3, 3, 3, 3, 3, 3, 3, 3, 3, 3, 3, 3, 3, 3, 3, 3, 3, 3, 3, 3, 3, 3, 3, 3, 3, 3, 3, 3, 3, 3, 3, 3, 3, 3, 3, 3, 3, 3, 3, 3, 3, 3, 3, 3, 3, 3, 3, 3, 3, 3, 3, 3, 3, 3, 3, 3, 3, 3, 3, 1, 3, 3, 3, 3, 3, 3, 3, 3, 3, 3, 3, 3, 3, 3, 3, 3, 3, 3, 3, 3, 3, 3, 3, 3, 0, 3, 3, 3, 3, 1, 3, 3, 3, 3, 3, 3, 3, 3, 3, 3, 3, 3, 3, 3, 3, 3, 3, 3, 3, 3, 3, 3, 3, 3, 3, 3, 3, 3, 3, 3, 3, 3, 3, 3, 3, 3, 3, 3, 3, 3, 3, 3, 3, 3, 3, 3, 3, 3, 3, 3, 3, 3, 3, 3, 3, 3, 3, 3, 3, 3, 3, 3, 3, 3, 3, 3, 3, 3, 3, 3, 3, 3, 3, 3, 3, 3, 3, 3, 0, 3, 3, 3, 3, 3, 3, 3, 3, 3, 3, 3, 3, 3, 3, 3, 3, 3, 3, 3, 3, 3, 3, 3, 3, 3, 3, 3, 3, 3, 3, 3, 3, 3, 3, 3, 3, 3, 3, 3, 3, 3, 3, 3, 3, 3, 3, 3, 3, 3, 3, 3, 3, 3, 3, 3, 3, 3, 3, 3, 3, 3, 3, 3, 3, 3, 3, 3, 3, 3, 3, 3, 3, 1, 3, 3, 3, 3, 3, 3, 3, 3, 3, 3, 3, 3, 3, 3, 3, 3, 3, 3, 3, 3, 3, 3, 3, 3, 3, 3, 3, 3, 3, 3, 3, 3, 3, 3, 3, 3, 3, 3, 3, 3, 3, 3, 3, 3, 3, 3, 3, 3, 3, 3, 3, 3, 3, 3, 3, 3, 3, 3, 3, 3, 3, 3, 3, 3, 3, 3, 3, 3, 3, 3, 3, 3, 3, 3, 3, 3, 3, 3, 3, 3, 3, 3, 3, 3, 3, 3, 3, 3, 3, 3, 3, 3, 3, 3, 3, 3, 3, 3, 3, 3, 3, 3, 3, 3, 3, 3, 3, 3, 3, 3, 3, 3, 3, 3, 3, 3, 3, 3, 3, 3, 3, 3, 3, 3, 3, 3, 3, 3, 3, 3, 3, 3, 3, 3, 3, 3, 3, 3, 3, 3, 3, 3, 3, 3, 3, 3, 3, 3, 3, 3, 3, 3, 3, 3, 3, 3, 3, 3, 3, 3, 3, 3, 3, 3, 3, 3, 3, 3, 3, 3, 3, 3, 3, 3, 3, 3, 3, 3, 3, 3, 3, 3, 3, 3, 3, 3, 3, 3, 3, 3, 3, 3, 3, 3, 3, 3, 3, 3, 3, 3, 3, 3, 3, 3, 3, 3, 3, 3, 3, 3, 3, 3, 3, 3, 3, 3, 3, 3, 3, 3, 3, 3, 3, 3, 3, 3, 3, 3, 3, 3, 3, 3, 3, 3, 3, 3, 3, 3, 3, 3, 3, 3, 3, 3, 3, 3, 3, 3, 3, 3, 3, 3, 3, 3, 3, 3, 3, 3, 3, 3, 3, 3, 3, 3, 3, 3, 3, 3, 3, 3, 3, 3, 3, 3, 3, 3, 3, 3, 3, 3, 3, 3, 3, 3, 3, 3, 3, 3, 3, 3, 3, 3, 3, 3, 3, 3, 3, 3, 3, 3, 3, 3, 3, 3, 3, 3, 3, 3, 3, 3, 3, 3, 3, 3, 3, 3, 3, 3, 3, 3, 3, 3, 3, 3, 3, 3, 3, 3, 3, 3, 3, 3, 3, 3, 3, 3, 3, 3, 3, 3, 3, 3, 3, 3, 3, 3, 3, 3, 3, 3, 3, 3, 3, 3, 3, 3, 3, 3, 3, 3, 3, 3, 3, 3, 3, 3, 3, 3, 3, 3, 3, 3, 3, 3, 3, 3, 3, 3, 3, 3, 3, 3, 3, 3, 3, 3, 3, 3, 3, 3, 3, 3, 3, 3, 3, 3, 3, 3, 3, 3, 3, 3, 3, 3, 3, 3, 3, 3, 3, 3, 3, 3, 3, 3, 3, 3, 3, 3, 3, 3, 3, 3, 3, 3, 3, 3, 3, 3, 3, 3, 3, 3, 3, 3, 3, 3, 3, 3, 3, 3, 3, 3, 3, 3, 3, 3, 3, 3, 3, 3, 3, 3, 3, 3, 3, 3, 3, 3, 3, 3, 3, 3, 3, 3, 3, 3, 3, 3, 3, 3, 3, 3, 3, 3, 3, 3, 3, 3, 3, 3, 3, 3, 3, 3, 3, 3, 3, 3, 3, 3, 3, 3, 3, 3, 3, 3, 3, 3, 1, 3, 3, 3, 3, 3, 3, 3, 3, 3, 3, 3, 3, 3, 3, 3, 3, 3, 3, 3, 3, 3, 3, 3, 3, 3, 3, 3, 3, 3, 3, 3, 3, 3, 3, 3, 3, 3, 3, 3, 3, 3, 3, 3, 3, 3, 3, 3, 3, 3, 3, 3, 3, 3, 3, 3, 3, 3, 3, 3, 3, 3, 3, 3, 3, 3, 3, 3, 3, 3, 3, 3, 3, 3, 3, 3, 3, 3, 3, 3, 3, 3, 3, 3, 3, 3, 3, 3, 3, 3, 3, 3, 3, 3, 3, 3, 3, 3, 3, 3, 3, 3, 3, 3, 3, 3, 3, 3, 3, 3, 3, 3, 3, 3, 3, 3, 3, 3, 3, 3, 3, 3, 3, 3, 3, 3, 3, 3, 3, 3, 3, 3, 3, 3, 3, 3, 3, 3, 3, 3, 3, 3, 3, 3, 3, 3, 3, 3, 3, 3, 3, 3, 3, 3, 3, 3, 3, 3, 3, 3, 3, 3, 3, 3, 3, 3, 3, 3, 3, 3, 3, 3, 3, 3, 3, 3, 3, 3, 3, 3, 3, 3, 3, 3, 3, 3, 3, 3, 3, 3, 3, 3, 3, 3, 3, 3, 3, 3, 3, 3, 3, 3, 3, 3, 3, 3, 3, 3, 3, 3, 3, 3, 3, 3, 3, 3, 3, 3, 3, 3, 3, 3, 3, 3, 3, 3, 3, 3, 3, 3, 3, 3, 3, 3, 3, 3, 3, 3, 3, 3, 3, 3, 3, 3, 3, 3, 3, 3, 3, 3, 3, 3, 3, 3, 3, 3, 3, 3, 3, 3, 3, 3, 3, 3, 3, 3, 3, 3, 3, 3, 3, 3, 3, 3, 3, 3, 3, 3, 3, 3, 3, 3, 3, 3, 3, 3, 3, 0, 3, 3, 3, 3, 3, 3, 3, 3, 3, 3, 3, 3, 3, 3, 3, 3, 3, 3, 3, 3, 3, 3, 3, 3, 3, 3, 3, 3, 3, 3, 3, 3, 3, 3, 3, 3, 3, 3, 3, 3, 3, 3, 3, 3, 3, 3, 3, 3, 3, 3, 3, 3, 3, 3, 3, 3, 3, 3, 3, 3, 3, 3, 3, 3, 3, 3, 3, 3, 3, 3, 3, 3, 3, 3, 3, 3, 3, 3, 3, 3, 3, 3, 3, 3, 3, 3, 3, 3, 3, 3, 3, 3, 3, 3, 3, 3, 3, 3, 3, 3, 3, 3, 3, 3, 3, 3, 3, 3, 3, 3, 3, 3, 3, 3, 3, 3, 3, 3, 3, 3, 3, 3, 3, 3, 3, 3, 3, 3, 3, 3, 3, 3, 3, 3, 3, 3, 3, 3, 3, 3, 3, 3, 3, 0, 3, 3, 3, 3, 0, 3, 0, 3, 3, 3, 3, 3, 3, 3, 3, 3, 3, 3, 3, 0, 3, 3, 3, 3, 3, 3, 3, 3, 3, 3, 3, 3, 3, 3, 3, 3, 3, 3, 3, 3, 3, 3, 3, 3, 3, 3, 3, 3, 3, 3, 3, 3, 3, 3, 3, 3, 3, 3, 3, 3, 3, 3, 3, 3, 3, 3, 3, 3, 3, 3, 3, 3, 3, 3, 3, 3, 3, 3, 3, 3, 3, 3, 3, 3, 3, 3, 3, 3, 3, 3, 3, 3, 3, 3, 3, 3, 3, 3, 3, 3, 3, 3, 3, 3, 3, 3, 3, 3, 3, 3, 3, 3, 3, 3, 3, 3, 3, 3, 3, 3, 3, 3, 3, 3, 3, 3, 3, 3, 3, 3, 3, 3, 3, 3, 3, 3, 3, 3, 3, 3, 3, 3, 3, 3, 3, 3, 3, 3, 3, 3, 3, 3, 3, 3, 3, 3, 3, 3, 3, 3, 3, 3, 3, 3, 3, 3, 3, 3, 3, 3, 3, 3, 3, 3, 3, 3, 3, 3, 3, 3, 3, 3, 3, 3, 3, 3, 3, 3, 3, 3, 3, 3, 3, 3, 3, 3, 3, 3, 3, 3, 3, 3, 3, 3, 3, 3, 3, 3, 3, 3, 3, 3, 3, 3, 3, 3, 3, 3, 3, 3, 3, 3, 3, 3, 3, 3, 3, 3, 3, 3, 3, 3, 3, 3, 3, 3, 3, 3, 3, 1, 3, 3, 3, 3, 3, 3, 3, 3, 3, 3, 3, 3, 3, 3, 3, 3, 3, 3, 3, 3, 3, 3, 3, 3, 3, 3, 3, 3, 3, 3, 3, 3, 3, 3, 3, 3, 3, 3, 3, 3, 3, 3, 3, 3, 3, 3, 3, 3, 3, 3, 3, 3, 3, 3, 3, 3, 3, 3, 3, 3, 3, 3, 3, 3, 3, 3, 3, 3, 3, 3, 3, 3, 3, 3, 3, 3, 3, 3, 3, 3, 3, 3, 3, 3, 3, 3, 3, 3, 3, 3, 3, 3, 3, 3, 3, 3, 3, 3, 3, 3, 3, 3, 3, 3, 3, 3, 3, 3, 3, 3, 3, 3, 3, 3, 3, 3, 3, 3, 3, 3, 3, 3, 3, 3, 3, 3, 3, 3, 3, 3, 3, 3, 3, 3, 3, 3, 3, 3, 3, 3, 3, 3, 3, 3, 3, 3, 3, 3, 3, 3, 3, 3, 3, 3, 3, 3, 3, 3, 3, 3, 3, 3, 3, 3, 3, 3, 3, 3, 3, 3, 3, 3, 3, 3, 3, 3, 3, 3, 3, 3, 3, 3, 3, 3, 3, 3, 3, 3, 3, 3, 3, 3, 3, 3, 3, 3, 3, 3, 3, 3, 3, 3, 3, 3, 3, 3, 3, 3, 3, 3, 3, 3, 3, 3, 3, 3, 3, 3, 3, 3, 3, 3, 3, 3, 3, 3, 3, 3, 3, 3, 3, 3, 3, 3, 3, 3, 3, 3, 3, 3, 3, 3, 3, 3, 3, 3, 3, 3, 3, 3, 3, 3, 3, 3, 3, 3, 3, 3, 3, 3, 3, 3, 3, 3, 3, 3, 3, 0, 3, 3, 3, 3, 3, 3, 3, 3, 3, 3, 3, 3, 3, 3, 3, 3, 3, 3, 3, 3, 3, 3, 3, 3, 3, 3, 3, 3, 3, 3, 3, 3, 3, 3, 3, 3, 3, 3, 3, 3, 3, 3, 3, 3, 3, 3, 3, 3, 3, 3, 3, 3, 3, 3, 3, 3, 3, 3, 0, 3, 3, 3, 3, 3, 3, 3, 3, 3, 3, 3, 3, 3, 3, 3, 3, 3, 3, 3, 3, 0, 3, 3, 3, 3, 3, 3, 3, 3, 3, 3, 3, 3, 3, 3, 3, 3, 3, 3, 3, 3, 3, 3, 3, 3, 3, 3, 3, 3, 3, 3, 3, 3, 3, 3, 3, 3, 3, 3, 3, 3, 3, 3, 0, 1, 1, 3, 1, 0, 3, 0, 1, 1, 0, 3, 1, 1, 1, 3, 0, 0, 0, 0, 0, 1, 1, 3, 0, 0, 1, 1, 0, 3, 0, 0, 0, 3, 3, 1, 1, 1, 1, 1, 0, 0, 3, 1, 0, 0, 3, 1, 0, 3, 1, 1, 3, 3, 3, 1, 3, 1, 1, 0, 0, 1, 3, 3, 1, 1, 1, 0, 3, 3, 0, 1, 3, 3, 0, 1, 1, 3, 0, 3, 0, 3, 3, 3, 1, 0, 0, 3, 3, 1, 0, 3, 0, 0, 1, 3, 1, 1, 1, 3, 1, 3, 3, 1, 0, 0, 1, 3, 3, 1, 1, 3, 0, 3, 3, 0, 1, 1, 0, 0, 1, 3, 1, 0, 0, 1, 0, 3, 3, 1, 3, 3, 1, 0, 1, 0, 0, 0, 3, 0, 0, 0, 3, 0, 3, 1, 1, 3, 1, 3, 1, 0, 0, 3, 0, 3, 1, 1, 0, 0, 3, 3, 3, 1, 3, 0, 0, 1, 0, 0, 0, 0, 0, 0, 3, 3, 0, 0, 0, 0, 1, 0, 3, 0, 1, 0, 0, 1, 0, 0, 1, 1, 1, 0, 3, 0, 1, 0, 1, 3, 1, 0, 0, 3, 1, 0, 3, 1, 1, 0, 1, 0, 0, 3, 0, 1, 3, 0, 3, 0, 3, 0, 1, 1, 1, 0, 3, 0, 1, 0, 1, 0, 0, 1, 3, 0, 1, 0, 0, 0, 3, 0, 1, 3, 1, 1, 0, 0, 0, 3, 0, 3, 3, 1, 1, 0, 0, 0, 0, 1, 3, 3, 1, 3, 1, 0, 0, 3, 3, 3, 1, 0, 1, 0, 0, 0, 0, 0, 0, 0, 0, 3, 1, 1, 1, 3, 1, 0, 1, 1, 3, 3, 0, 0, 0, 3, 3, 1, 1, 3, 3, 3, 0, 0, 0, 1, 0, 0, 0, 0, 0, 1, 0, 0, 0, 3, 0, 1, 0, 1, 0, 1, 0, 3, 0, 0, 0, 0, 1, 0, 0, 1, 3, 0, 0, 1, 0, 3, 1, 0, 0, 3, 1, 0, 0, 0, 1, 1, 0, 1, 0, 3, 0, 3, 0, 3, 3, 0, 0, 0, 0, 1, 0, 3, 0, 0, 0, 0, 1, 3, 1, 1, 1, 1, 3, 0, 0, 3, 3, 1, 1, 1, 1, 3, 3, 1, 1, 1, 1, 1, 0, 0, 1, 3, 0, 3, 3, 1, 3, 1, 0, 0, 1, 3, 1, 0, 0, 0, 3, 3, 0, 1, 0, 1, 3, 1, 0, 0, 0, 1, 1, 1, 0, 3, 3, 1, 1, 0, 1, 1, 0, 3, 0, 0, 3, 1, 1, 1, 0, 1, 3, 0, 3, 3, 3, 0, 3, 3, 1, 0, 1, 0, 1, 3, 3, 3, 1, 0, 0, 3, 3, 1, 1, 1, 3, 0, 3, 0, 0, 0, 0, 3, 0, 1, 0, 1, 1, 3, 3, 0, 3, 0, 0, 1, 1, 1, 1, 0, 1, 3, 0, 3, 1, 0, 0, 3, 0, 1, 0, 1, 0, 0, 1, 1, 0, 1, 0, 3, 0, 0, 3, 0, 0, 1, 0, 1, 1, 0, 0, 1, 0, 1, 0, 3, 1, 3, 3, 3, 1, 1, 1, 3, 3, 3, 3, 1, 0, 0, 1, 3, 1, 1, 3, 1, 3, 0, 1, 3, 3, 0, 0, 3, 3, 0, 1, 0, 1, 1, 1, 3, 3, 0, 1, 3, 0, 1, 0, 1, 3, 0, 3, 0, 1, 0, 1, 0, 0, 1, 0, 0, 1, 0, 3, 3, 0, 1, 1, 0, 3, 0, 1, 0, 0, 0, 1, 1, 1, 0, 1, 0, 3, 0, 1, 1, 0, 3, 0, 1, 0, 1, 1, 1, 0, 0, 0, 3, 0, 3, 0, 0, 0, 0, 0, 1, 0, 3, 1, 3, 0, 0, 1, 0, 0, 1, 1, 3, 3, 0, 3, 3, 1, 1, 0, 1, 3, 0, 1, 0, 3, 3, 0, 3, 1, 1, 1, 1, 1, 0, 3, 0, 1, 0, 0, 0, 1, 1, 3, 0, 3, 0, 1, 1, 1, 1, 0, 0, 1, 0, 1, 3, 3, 0, 3, 0, 0, 1, 1, 1, 3, 1, 3, 0, 3, 3, 3, 0, 1, 3, 3, 1, 0, 0, 0, 0, 1, 3, 0, 0, 1, 1, 0, 0, 3, 3, 0, 1, 3, 0, 0, 3, 0, 3, 3, 3, 0, 1, 3, 3, 0, 0, 1, 3, 1, 0, 1, 0, 0, 3, 1, 3, 3, 1, 1, 0, 1, 3, 3, 1, 3, 0, 0, 1, 3, 1, 1, 0, 0, 1, 3, 3, 3, 1, 3, 0, 0, 0, 3, 1, 1, 1, 1, 0, 0, 3, 1, 0, 0, 0, 1, 3, 1, 3, 3, 1, 1, 1, 0, 3, 0, 3, 3, 0, 0, 1, 1, 3, 0, 1, 3, 0, 3, 0, 3, 3, 0, 1, 1, 1, 0, 0, 0, 1, 1, 1, 0, 0, 1, 3, 1, 1, 3, 1, 1, 0, 0, 0, 0, 0, 3, 1, 3, 0, 3, 0, 0, 1, 3, 1, 1, 1, 1, 3, 1, 0, 3, 3, 1, 0, 1, 3, 3, 3, 0, 1, 3, 0, 0, 0, 1, 1, 1, 3, 1, 1, 1, 1, 0, 0, 1, 0, 3, 1, 3, 0, 0, 1, 3, 1, 3, 0, 0, 0, 1, 3, 0, 3, 1, 3, 3, 1, 0, 0, 1, 1, 0, 0, 1, 0, 3, 0, 0, 0, 3, 0, 3, 1, 0, 0, 0, 1, 1, 0, 3, 1, 1, 3, 3, 0, 1, 3, 1, 3, 3, 0, 3, 3, 1, 3, 1, 3, 1, 0, 0, 1, 1, 0, 1, 0, 3, 1, 1, 3, 0, 3, 3, 3, 0, 0, 3, 1, 1, 3, 1, 3, 3, 1, 0, 0, 1, 1, 1, 1, 3, 3, 3, 0, 0, 1, 0, 0, 0, 3, 3, 1, 0, 3, 0, 3, 1, 3, 1, 0, 3, 3, 0, 3, 0, 1, 0, 1, 3, 1, 0, 3, 1, 3, 1, 0, 0, 3, 1, 1, 1, 1, 3, 3, 0, 0, 1, 1, 0, 1, 0, 0, 1, 0, 0, 1, 0, 1, 0, 0, 0, 0, 0, 3, 0, 0, 1, 3, 3, 1, 0, 1, 1, 0, 0, 1, 3, 0, 3, 1, 0, 0, 0, 1, 3, 0, 3, 3, 3, 0, 1, 3, 0, 1, 3, 3, 3, 1, 3, 0, 3, 1, 1, 0, 3, 1, 1, 1, 1, 1, 1, 3, 0, 0, 3, 0, 1, 1, 1, 1, 3, 1, 3, 0, 3, 1, 1, 1, 3, 1, 3, 3, 3, 1, 3, 0, 0, 0, 3, 0, 0, 3, 0, 1, 1, 1, 1, 1, 1, 3, 0, 3, 1, 0, 3, 3, 0, 0, 0, 3, 0, 1, 1, 3, 0, 3, 0, 1, 3, 3, 1, 1, 3, 3, 0, 1, 1, 1, 1, 3, 1, 0, 0, 1, 3, 0, 3, 3, 3, 1, 0, 3, 0, 3, 1, 0, 3, 0, 3, 0, 1, 0, 0, 3, 3, 1, 1, 1, 0, 3, 1, 1, 3, 1, 1, 0, 0, 0, 1, 1, 0, 0, 0, 3, 1, 3, 3, 0, 3, 0, 1, 0, 0, 3, 3, 1, 0, 0, 0, 1, 0, 3, 1, 1, 0, 3, 0, 0, 0, 0, 3, 0, 0, 0, 3, 1, 0, 1, 0, 0, 3, 3, 0, 0, 0, 0, 1, 3, 1, 3, 1, 0, 3, 0, 0, 3, 0, 0, 1, 3, 0, 3, 1, 0, 0, 1, 3, 1, 0, 0, 0, 3, 3, 0, 0, 1, 3, 1, 0, 1, 1, 0, 1, 0, 0, 0, 1, 1, 0, 1, 3, 1, 1, 1, 3, 1, 3, 1, 1, 3, 0, 3, 1, 0, 1, 1, 0, 1, 0, 3, 0, 0, 0, 3, 1, 1, 1, 1, 1, 0, 1, 1, 3, 0, 3, 3, 1, 3, 1, 3, 1, 3, 3, 0, 1, 1, 3, 1, 0, 0, 1, 1, 0, 3, 0, 0, 3, 0, 0, 3, 1, 0, 3, 0, 3, 3, 0, 3, 3, 0, 0, 0, 0, 1, 1, 1, 3, 0, 3, 3, 1, 1, 0, 1, 1, 0, 1, 3, 0, 3, 0, 3, 1, 3, 1, 0, 1, 0, 0, 0, 1, 0, 0, 1, 0, 3, 0, 0, 3, 3, 0, 3, 0, 1, 3, 1, 0, 3, 1, 0, 1, 3, 1, 1, 3, 3, 1, 1, 1, 3, 1, 3, 3, 3, 0, 3, 1, 0, 3, 0, 3, 3, 0, 1, 1, 3, 1, 3, 0, 0, 3, 3, 1, 3, 0, 1, 0, 1, 3, 3, 1, 0, 0, 0, 0, 0, 1, 1, 0, 0, 3, 0, 1, 0, 3, 0, 1, 3, 1, 1, 1, 1, 0, 0, 0, 3, 0, 0, 0, 3, 1, 1, 1, 1, 3, 0, 3, 1, 3, 1, 1, 3, 3, 3, 3, 1, 3, 0, 0, 3, 0, 3, 0, 0, 1, 0, 3, 0, 3, 1, 0, 3, 3, 1, 0, 1, 3, 3, 3, 0, 1, 0, 0, 3, 1, 1, 0, 1, 3, 1, 0, 3, 1, 0, 1, 0, 0, 1, 3, 3, 1, 1, 0, 1, 0, 1, 1, 3, 3, 0, 3, 3, 3, 1, 3, 3, 0, 3, 3, 3, 3, 0, 1, 0, 0, 0, 3, 3, 1, 1, 3, 0, 3, 0, 3, 1, 1, 1, 1, 1, 0, 0, 3, 3, 1, 0, 0, 1, 0, 3, 1, 3, 1, 1, 1, 0, 1, 1, 3, 0, 1, 3, 3, 0, 3, 0, 1, 3, 3, 3, 0, 0, 1, 0, 0, 0, 1, 0, 0, 1, 0, 0, 1, 3, 0, 0, 3, 3, 0, 3, 1, 0, 1, 0, 0, 0, 3, 3, 3, 0, 0, 0, 3, 3, 0, 1, 0, 0, 1, 3, 3, 3, 1, 0, 1, 3, 3, 0, 1, 0, 0, 1, 0, 1, 0, 3, 1, 3, 1, 1, 3, 3, 0, 3, 0, 1, 0, 1, 0, 0, 1, 1, 3, 3, 0, 3, 0, 0, 3, 0, 3, 1, 0, 3, 0, 1, 0, 3, 3, 3, 0, 0, 0, 1, 0, 3, 0, 1, 3, 3, 1, 1, 0, 3, 3, 3, 1, 0, 1, 0, 1, 3, 0, 3, 3, 1, 0, 3, 0, 3, 3, 1, 1, 1, 1, 0, 0, 3, 3, 3, 1, 3, 1, 3, 1, 3, 3, 1, 1, 1, 3, 3, 1, 3, 3, 0, 1, 0, 0, 0, 0, 0, 1, 1, 0, 1, 1, 1, 3, 0, 0, 0, 1, 1, 1, 1, 3, 0, 3, 3, 3, 0, 0, 0, 0, 0, 1, 3, 0, 0, 3, 3, 1, 0, 0, 3, 3, 3, 0, 0, 1, 1, 1, 1, 0, 0, 3, 0, 3, 1, 0, 0, 0, 3, 3, 1, 3, 0, 0, 3, 1, 3, 3, 1, 3, 1, 3, 0, 0, 3, 1, 3, 3, 3, 1, 1, 3, 3, 3, 3, 3, 0, 3, 3, 0, 0, 0, 3, 0, 1, 0, 1, 1, 0, 3, 1, 3, 0, 0, 1, 3, 0, 1, 0, 3, 0, 0, 1, 0, 0, 1, 3, 3, 0, 0, 1, 1, 1, 1, 1, 0, 3, 0, 1, 3, 0, 3, 3, 1, 3, 1, 1, 3, 0, 1, 0, 0, 3, 0, 3, 3, 1, 3, 0, 3, 3, 1, 3, 0, 1, 1, 0, 0, 0, 0, 0, 1, 0, 1, 3, 3, 1, 3, 1, 0, 3, 3, 1, 1, 0, 1, 1, 1, 0, 1, 1, 1, 1, 0, 0, 3, 3, 1, 1, 3, 3, 0, 3, 1, 1, 0, 0, 1, 0, 0, 3, 3, 0, 0, 3, 3, 3, 0, 1, 3, 3, 1, 3, 1, 1, 0, 0, 3, 3, 1, 0, 1, 3, 1, 1, 0, 3, 1, 1, 0, 1, 0, 0, 0, 1, 0, 3, 0, 1, 1, 3, 1, 1, 0, 0, 3, 3, 3, 0, 1, 1, 0, 0, 0, 0, 0, 3, 3, 1, 3, 3, 0, 0, 0, 0, 0, 0, 0, 0, 0, 0, 0, 0, 0, 3, 0, 0, 0, 0, 0, 3, 3, 3, 3, 0, 1, 0, 0, 3, 0, 3, 0, 3, 3, 3, 3, 3, 0, 3, 0, 3, 3, 0, 0, 0, 0, 0, 0, 0, 1, 3, 3, 0, 0, 0, 0, 0, 1, 0, 0, 3, 3, 3, 3, 0, 0, 0, 0, 3, 0, 0, 0, 3, 0, 0, 3, 0, 0, 3, 0, 0, 0, 3, 0, 0, 0, 0, 0, 0, 3, 0, 0, 0, 1, 3, 3, 0, 3, 3, 3, 0, 0, 3, 3, 0, 3, 3, 3, 0, 3, 3, 0, 3, 0, 0, 0, 3, 3, 0, 0, 1, 3, 1, 1, 3, 0, 0, 0, 3, 3, 3, 0, 3, 0, 3, 3, 0, 3, 3, 0, 0, 3, 3, 0, 3, 0, 0, 3, 0, 3, 3, 0, 0, 3, 3, 3, 0, 3, 0, 3, 3, 3, 3, 0, 3, 0, 3, 3, 0, 0, 3, 3, 3, 3, 3, 3, 3, 1, 3, 0, 3, 3, 3, 3, 3, 3, 3, 3, 3, 3, 3, 0, 1, 0, 3, 0, 0, 3, 3, 3, 3, 0, 3, 3, 1, 0, 0, 0, 0, 1, 0, 0, 3, 3, 0, 0, 3, 0, 3, 0, 3, 1, 0, 0, 3, 3, 3, 3, 3, 3, 3, 3, 0, 0, 0, 3, 3, 3, 0, 3, 3, 0, 3, 3, 1, 0, 3, 0, 0, 0, 3, 3, 1, 3, 3, 3, 0, 0, 0, 3, 3, 0, 0, 0, 3, 3, 3, 3, 3, 0, 3, 0, 3, 3, 0, 0, 3, 3, 3, 0, 0, 3, 0, 3, 0, 0, 0, 3, 3, 3, 3, 0, 0, 3, 0, 0, 0, 0, 3, 0, 3, 0, 0, 3, 3, 0, 0, 3, 0, 0, 0, 3, 3, 3, 0, 0, 0, 0, 3, 0, 3, 0, 3, 0, 0, 0, 3, 3, 0, 0, 0, 3, 0, 3, 1, 0, 3, 3, 3, 3, 0, 0, 0, 0, 3, 0, 3, 3, 3, 0, 0, 1, 0, 3, 3, 3, 3, 0, 0, 0, 3, 3, 0, 0, 0, 3, 3, 0, 0, 0, 3, 0, 0, 3, 0, 0, 1, 3, 0, 3, 3, 0, 3, 3, 0, 1, 0, 3, 0, 3, 0, 3, 0, 0, 0, 0, 3, 3, 3, 3, 0, 0, 0, 0, 0, 0, 3, 0, 3, 3, 1, 3, 3, 3, 0, 0, 3, 0, 0, 3, 0, 0, 0, 0, 3, 0, 3, 0, 1, 3, 3, 0, 0, 0, 0, 3, 0, 3, 0, 0, 3, 3, 3, 3, 0, 1, 3, 0, 3, 0, 3, 3, 0, 3, 0, 3, 3, 0, 3, 3, 3, 3, 3, 3, 3, 0, 3, 3, 0, 3, 0, 0, 3, 0, 0, 3, 3, 0, 0, 3, 0, 1, 0, 0, 3, 3, 3, 3, 0, 0, 0, 3, 3, 0, 0, 3, 0, 3, 0, 0, 3, 0, 3, 3, 0, 0, 0, 0, 0, 3, 3, 3, 3, 3, 3, 3, 0, 3, 0, 0, 3, 0, 3, 0, 0, 3, 3, 3, 3, 3, 3, 3, 3, 0, 3, 0, 0, 3, 3, 0, 0, 0, 0, 0, 3, 0, 3, 0, 0, 3, 3, 3, 3, 3, 0, 3, 3, 3, 3, 3, 0, 0, 3, 0, 3, 3, 0, 3, 0, 0, 0, 3, 0, 3, 0, 0, 3, 3, 0, 3, 3, 3, 3, 3, 0, 0, 3, 0, 3, 3, 0, 0, 3, 0, 0, 3, 0, 3, 3, 3, 0, 0, 3, 0, 0, 0, 0, 3, 0, 3, 0, 0, 3, 0, 3, 3, 0, 3, 0, 3, 3, 0, 0, 3, 0, 0, 3, 0, 0, 0, 0, 3, 0, 0, 0, 0, 0, 0, 0, 3, 3, 3, 0, 0, 0, 0, 3, 3, 0, 0, 3, 0, 0, 0, 3, 3, 3, 1, 3, 3, 0, 3, 0, 3, 3, 0, 3, 0, 3, 0, 3, 1, 3, 0, 0, 0, 3, 0, 0, 0, 0, 0, 3, 3, 0, 3, 3, 3, 3, 0, 3, 3, 0, 0, 3, 0, 3, 0, 0, 0, 3, 0, 3, 3, 0, 3, 0, 3, 3, 0, 3, 3, 0, 3, 3, 3, 3, 3, 0, 0, 0, 0, 0, 0, 3, 3, 0, 0, 0, 3, 3, 1, 0, 3, 1, 3, 3, 0, 0, 0, 1, 0, 3, 0, 3, 0, 3, 3, 0, 3, 0, 3, 0, 3, 0, 3, 3, 0, 3, 0, 0, 0, 0, 0, 0, 0, 0, 0, 0, 0, 0, 0, 0, 0, 0, 0, 0, 0, 0, 0, 0, 0, 0, 0, 0, 0, 0, 0, 0, 0, 0, 0, 0, 0, 0, 0, 0, 0, 0, 0, 0, 0, 0, 0, 0, 0, 0, 0, 0, 3, 0, 3, 0, 3, 3, 3, 3, 0, 0, 3, 3, 3, 3, 3, 0, 3, 0, 3, 3, 3, 0, 3, 3, 1, 0, 3, 3, 3, 0, 3, 3, 3, 3, 3, 3, 0, 0, 3, 3, 3, 3, 0, 3, 0, 3, 3, 3, 3, 3, 0, 3, 0, 3, 3, 0, 3, 3, 3, 3, 0, 3, 3, 3, 3, 3, 3, 3, 3, 0, 3, 3, 3, 0, 1, 0, 3, 3, 3, 0, 3, 3, 3, 3, 0, 3, 0, 3, 3, 0, 0, 3, 3, 0, 3, 0, 1, 3, 0, 0, 3, 0, 3, 3, 3, 0, 0, 3, 3, 0, 0, 3, 3, 3, 0, 3, 3, 1, 3, 3, 3, 3, 3, 3, 3, 3, 3, 3, 3, 3, 0, 3, 0, 0, 3, 3, 0, 0, 0, 3, 1, 3, 0, 3, 3, 3, 3, 3, 3, 3, 3, 3, 3, 0, 3, 3, 0, 0, 0, 3, 3, 0, 0, 0, 0, 3, 3, 3, 0, 3, 3, 0, 0, 3, 3, 0, 3, 0, 3, 3, 0, 3, 3, 0, 3, 0, 0, 1, 3, 3, 3, 0, 3, 0, 3, 3, 0, 3, 3, 0, 0, 0, 3, 3, 0, 3, 3, 0, 3, 0, 3, 3, 0, 3, 3, 3, 3, 3, 3, 3, 3, 0, 0, 3, 3, 3, 0, 0, 0, 3, 3, 3, 3, 3, 3, 0, 0, 3, 3, 3, 3, 3, 3, 0, 0, 3, 0, 3, 0, 3, 0, 3, 3, 3, 0, 1, 0, 3, 0, 3, 3, 0, 0, 3, 0, 0, 1, 3, 3, 0, 3, 3, 3, 3, 3, 0, 3, 0, 3, 3, 3, 3, 3, 0, 3, 0, 3, 0, 0, 0, 3, 0, 3, 3, 3, 0, 3, 3, 3, 3, 3, 3, 3, 3, 3, 3, 0, 3, 0, 3, 3, 3, 3, 0, 0, 1, 0, 0, 3, 3, 1, 3, 0, 0, 3, 3, 0, 0, 3, 3, 0, 0, 0, 0, 0, 0, 3, 3, 3, 0, 3, 1, 3, 3, 3, 3, 0, 3, 3, 0, 0, 0, 3, 1, 0, 3, 0, 3, 3, 3, 1, 3, 3, 0, 3, 0, 3, 0, 3, 3, 3, 0, 3, 1, 3, 3, 3, 0, 3, 3, 0, 3, 3, 0, 3, 0, 0, 3, 3, 3, 3, 1, 3, 3, 0, 0, 0, 3, 3, 3, 3, 3, 3, 0, 0, 0, 0, 0, 3, 3, 0, 3, 3, 3, 0, 3, 0, 3, 3, 3, 3, 3, 0, 3, 3, 0, 0, 3, 3, 3, 3, 3, 3, 3, 3, 3, 3, 3, 3, 3, 0, 0, 3, 0, 3, 3, 3, 3, 3, 3, 0, 3, 3, 3, 3, 3, 3, 3, 3, 0, 1, 3, 0, 0, 3, 3, 3, 3, 3, 0, 3, 3, 3, 3, 0, 3, 3, 3, 0, 0, 0, 3, 3, 0, 0, 3, 3, 0, 1, 3, 3, 3, 3, 0, 3, 0, 3, 1, 3, 0, 0, 3, 0, 3, 0, 3, 0, 3, 3, 3, 3, 0, 3, 3, 3, 3, 0, 3, 0, 0, 3, 1, 0, 0, 0, 3, 3, 3, 0, 3, 0, 3, 0, 0, 3, 3, 0, 3, 3, 0, 3, 3, 0, 0, 3, 3, 0, 3, 3, 1, 0, 3, 3, 3, 3, 3, 3, 3, 3, 3, 3, 3, 1, 0, 3, 3, 3, 3, 1, 3, 3, 3, 3, 3, 3, 3, 3, 3, 3, 3, 3, 3, 0, 3, 0, 3, 3, 3, 3, 3, 3, 3, 3, 1, 3, 3, 3, 0, 3, 3, 3, 3, 3, 0, 3, 3, 0, 3, 3, 3, 3, 3, 0, 1, 3, 0, 3, 0, 0, 0, 3, 3, 0, 3, 3, 3, 3, 3, 3, 3, 3, 3, 0, 3, 3, 3, 3, 3, 3, 3, 0, 0, 0, 0, 0, 3, 3, 0, 3, 3, 3, 0, 3, 0, 3, 3, 3, 3, 3, 3, 1, 3, 3, 0, 0, 3, 0, 3, 3, 3, 3, 3, 3, 0, 3, 3, 0, 3, 0, 3, 3, 3, 3, 3, 3, 3, 0, 3, 3, 0, 3, 3, 3, 3, 3, 1, 0, 0, 1, 0, 3, 0, 0, 0, 3, 3, 3, 3, 3, 3, 0, 3, 3, 0, 3, 3, 0, 0, 0, 3, 3, 3, 3, 0, 3, 3, 3, 3, 0, 3, 3, 3, 0, 3, 3, 0, 0, 0, 3, 3, 3, 3, 0, 3, 3, 3, 0, 3, 3, 3, 3, 3, 3, 0, 3, 3, 3, 3, 0, 3, 3, 3, 3, 1, 3, 3, 3, 3, 3, 3, 3, 3, 3, 3, 3, 0, 3, 0, 3, 3, 0, 1, 0, 0, 3, 3, 3, 3, 3, 3, 3, 3, 0, 3, 0, 3, 3, 3, 3, 3, 0, 0, 0, 0, 3, 3, 0, 3, 3, 3, 3, 3, 3, 3, 3, 3, 3, 3, 3, 0, 3, 0, 0, 0, 0, 0, 0, 3, 0, 0, 3, 3, 3, 3, 3, 3, 3, 3, 3, 3, 1, 0, 3, 3, 3, 0, 3, 0, 0, 3, 0, 0, 0, 3, 3, 0, 3, 3, 3, 1, 3, 0, 3, 0, 3, 3, 3, 3, 3, 0, 3, 3, 3, 3, 3, 3, 0, 3, 3, 0, 0, 0, 3, 0, 3, 3, 3, 3, 3, 3, 3, 3, 3, 3, 3, 3, 3, 3, 3, 0, 3, 3, 3, 3, 3, 3, 3, 3, 3, 3, 3, 3, 3, 3, 3, 3, 0, 0, 0, 3, 3, 3, 3, 3, 3, 3, 3, 3, 3, 3, 3, 3, 3, 3, 3, 3, 0, 0, 3, 3, 0, 0, 3, 3, 0, 3, 3, 3, 3, 3, 0, 3, 3, 0, 3, 3, 3, 3, 3, 3, 0, 3, 3, 1, 0, 1, 3, 3, 3, 3, 1, 3, 3, 0, 3, 3, 0, 0, 3, 3, 3, 3, 0, 3, 3, 3, 3, 3, 3, 3, 3, 3, 3, 3, 0, 3, 3, 3, 3, 3, 3, 1, 3, 0, 0, 1, 3, 0, 3, 3, 3, 3, 0, 0, 0, 0, 0, 0, 0, 0, 0, 0, 0, 0, 0, 0, 0, 0, 0, 0, 0, 0, 0, 0, 0, 0, 0, 0, 0, 0, 0, 0, 0, 0, 0, 0, 0, 0, 0, 0, 0, 0, 0, 0, 0, 0, 0, 0, 0, 0, 0, 0, 0, 0, 0, 0, 0, 0, 0, 0, 0, 0, 0, 0, 0, 0, 0, 0, 0, 0, 0, 0, 0, 0, 0, 0, 0, 0, 0, 0, 0, 0, 0, 0, 0, 0, 0, 0, 0, 0, 0, 0, 0, 0, 0, 0, 0, 0, 0, 0, 0, 0, 0, 0, 0, 0, 0, 0, 0, 0, 0, 0, 0, 0, 0, 0, 0, 0, 0, 0, 0, 0, 0, 0, 0, 0, 0, 0, 0, 0, 0, 0, 0, 0, 0, 0, 0, 0, 0, 0, 0, 0, 0, 0, 0, 0, 0, 0, 0, 0, 0, 0, 0, 0, 0, 0, 0, 0, 0, 0, 0, 0, 0, 0, 0, 0, 0, 0, 0, 0, 0, 0, 0, 0, 0, 0, 0, 0, 0, 0, 0, 0, 1, 1, 0, 0, 0, 0, 1, 1, 1, 1, 1, 0, 0, 0, 0, 1, 1, 3, 3, 1, 0, 0, 1, 1, 1, 1, 0, 1, 0, 0, 1, 1, 3, 0, 0, 1, 0, 0, 1, 0, 0, 1, 1, 1, 0, 1, 1, 1, 1, 0, 0, 1, 0, 1, 1, 1, 1, 1, 1, 1, 0, 0, 0, 0, 0, 0, 0, 1, 3, 0, 0, 1, 0, 1, 3, 0, 0, 0, 0, 1, 3, 3, 3, 0, 1, 1, 0, 1, 1, 1, 1, 0, 3, 1, 1, 1, 1, 1, 1, 3, 1, 3, 1, 1, 1, 1, 1, 1, 0, 1, 0, 0, 1, 0, 1, 1, 1, 0, 0, 1, 1, 1, 0, 1, 0, 1, 1, 0, 0, 1, 1, 1, 1, 1, 0, 0, 0, 1, 1, 0, 1, 1, 0, 1, 1, 1, 1, 0, 1, 0, 1, 0, 0, 0, 1, 3, 0, 1, 0, 1, 1, 1, 0, 1, 0, 0, 1, 1, 3, 3, 1, 1, 1, 0, 1, 0, 0, 0, 1, 0, 1, 3, 0, 0, 0, 1, 1, 1, 1, 0, 0, 1, 1, 1, 1, 1, 0, 1, 1, 3, 0, 0, 0, 3, 0, 1, 1, 1, 1, 0, 0, 1, 0, 0, 0, 1, 1, 1, 0, 1, 0, 1, 1, 0, 1, 0, 1, 1, 0, 0, 0, 1, 0, 1, 1, 0, 0, 1, 1, 1, 0, 0, 1, 1, 0, 1, 1, 1, 1, 1, 0, 0, 0, 0, 1, 1, 0, 1, 1, 1, 0, 0, 1, 1, 1, 1, 0, 0, 0, 1, 0, 1, 0, 0, 1, 1, 1, 0, 1, 1, 0, 1, 0, 1, 1, 1, 0, 1, 0, 1, 1, 0, 1, 0, 1, 3, 1, 0, 0, 1, 0, 0, 0, 0, 1, 1, 1, 1, 0, 0, 1, 0, 0, 0, 0, 1, 3, 0, 0, 0, 0, 1, 0, 1, 0, 1, 0, 1, 0, 1, 0, 0, 1, 1, 0, 0, 1, 1, 1, 0, 1, 0, 1, 3, 1, 0, 1, 1, 1, 0, 1, 1, 1, 1, 0, 0, 1, 1, 3, 1, 0, 1, 1, 0, 0, 0, 3, 1, 1, 1, 0, 0, 1, 0, 0, 0, 1, 0, 0, 0, 1, 1, 1, 0, 1, 0, 1, 1, 0, 0, 0, 1, 1, 1, 1, 0, 1, 1, 1, 1, 1, 0, 0, 0, 0, 0, 1, 1, 0, 0, 1, 1, 0, 0, 1, 0, 1, 1, 1, 1, 0, 1, 1, 1, 0, 1, 1, 1, 0, 0, 0, 0, 0, 0, 1, 1, 0, 1, 0, 0, 1, 0, 0, 1, 1, 1, 1, 0, 0, 0, 1, 0, 1, 1, 1, 1, 0, 1, 0, 1, 0, 1, 0, 0, 1, 0, 1, 1, 1, 1, 0, 1, 0, 0, 1, 1, 0, 1, 0, 1, 0, 1, 1, 1, 0, 1, 1, 0, 1, 0, 1, 1, 0, 0, 0, 1, 3, 3, 1, 0, 1, 1, 0, 0, 0, 0, 0, 0, 1, 0, 1, 0, 1, 3, 1, 1, 0, 1, 1, 0, 3, 1, 1, 0, 0, 1, 0, 1, 1, 0, 1, 1, 0, 0, 0, 0, 1, 0, 1, 1, 0, 0, 1, 0, 0, 0, 1, 0, 1, 0, 0, 1, 3, 1, 1, 1, 0, 0, 1, 1, 0, 1, 1, 1, 1, 0, 1, 1, 1, 0, 0, 0, 1, 1, 1, 0, 0, 1, 0, 0, 0, 0, 0, 1, 3, 0, 0, 1, 0, 1, 1, 0, 0, 1, 1, 1, 1, 1, 0, 0, 0, 0, 1, 1, 1, 1, 0, 0, 1, 1, 1, 1, 0, 1, 1, 0, 1, 0, 0, 1, 1, 0, 0, 1, 1, 0, 0, 0, 1, 1, 3, 0, 1, 1, 0, 0, 1, 1, 0, 1, 1, 0, 1, 0, 1, 0, 0, 1, 0, 1, 1, 1, 1, 3, 1, 1, 1, 0, 0, 1, 0, 0, 1, 1, 0, 0, 1, 1, 0, 0, 1, 0, 0, 0, 1, 1, 1, 1, 1, 1, 1, 0, 1, 1, 1, 1, 1, 0, 0, 0, 0, 0, 0, 1, 1, 1, 1, 0, 1, 1, 1, 1, 1, 1, 0, 0, 0, 1, 0, 1, 0, 1, 1, 0, 0, 1, 0, 0, 0, 1, 0, 3, 1, 0, 0, 0, 0, 1, 1, 1, 1, 1, 0, 0, 1, 0, 0, 1, 1, 1, 1, 1, 1, 0, 1, 1, 1, 1, 0, 1, 1, 3, 0, 1, 1, 1, 0, 0, 0, 0, 0, 0, 1, 0, 1, 1, 0, 1, 0, 0, 1, 1, 1, 0, 0, 1, 1, 0, 0, 1, 1, 0, 1, 0, 0, 0, 1, 0, 0, 0, 1, 0, 0, 1, 1, 1, 0, 1, 1, 1, 0, 3, 1, 0, 1, 1, 0, 0, 0, 0, 1, 1, 0, 1, 0, 1, 0, 1, 1, 0, 1, 1, 1, 0, 0, 0, 1, 0, 1, 1, 0, 1, 0, 1, 0, 1, 0, 3, 1, 3, 0, 1, 0, 1, 3, 1, 0, 1, 1, 0, 3, 0, 1, 0, 0, 0, 1, 1, 1, 1, 1, 3, 1, 0, 0, 1, 1, 0, 0, 0, 0, 1, 0, 1, 1, 3, 0, 1, 1, 1, 0, 0, 1, 0, 0, 1, 0, 1, 1, 0, 0, 0, 1, 1, 1, 1, 1, 0, 0, 1, 1, 1, 0, 1, 0, 1, 1, 0, 1, 0, 1, 1, 1, 0, 1, 0, 1, 0, 0, 1, 1, 0, 1, 0, 0, 3, 1, 0, 1, 1, 0, 1, 0, 0, 1, 0, 0, 0, 0, 0, 1, 0, 0, 0, 1, 0, 1, 1, 1, 1, 0, 1, 0, 0, 0, 0, 0, 1, 1, 0, 1, 1, 0, 1, 0, 0, 1, 1, 1, 1, 1, 0, 3, 0, 1, 0, 0, 0, 1, 0, 0, 1, 1, 0, 0, 0, 0, 0, 1, 1, 1, 0, 3, 0, 1, 0, 1, 1, 0, 0, 0, 0, 0, 1, 1, 1, 0, 1, 1, 1, 1, 1, 1, 1, 1, 0, 1, 1, 1, 1, 1, 1, 1, 0, 1, 1, 1, 1, 1, 0, 0, 0, 1, 0, 0, 1, 0, 1, 1, 1, 1, 0, 1, 0, 1, 1, 1, 1, 0, 1, 1, 1, 1, 1, 1, 0, 1, 1, 1, 0, 0, 1, 3, 0, 0, 0, 0, 0, 1, 1, 0, 1, 1, 0, 1, 0, 0, 1, 1, 0, 1, 0, 1, 1, 1, 1, 1, 1, 1, 1, 0, 0, 1, 1, 1, 1, 1, 0, 0, 1, 0, 0, 1, 0, 1, 0, 1, 0, 1, 1, 1, 0, 0, 0, 1, 1, 0, 1, 0, 1, 3, 0, 0, 0, 1, 3, 0, 1, 0, 1, 1, 1, 1, 1, 1, 0, 1, 3, 0, 1, 1, 0, 1, 1, 1, 0, 1, 1, 1, 0, 0, 0, 1, 0, 1, 1, 0, 0, 0, 1, 0, 1, 3, 1, 0, 1, 0, 0, 1, 1, 1, 1, 0, 1, 1, 1, 1, 1, 1, 1, 3, 1, 0, 0, 0, 1, 0, 0, 0, 0, 1, 0, 1, 0, 1, 0, 1, 1, 0, 1, 1, 1, 1, 0, 1, 0, 0, 1, 0, 1, 3, 0, 0, 0, 1, 0, 0, 0, 1, 0, 1, 1, 0, 0, 1, 1, 0, 0, 1, 0, 0, 1, 0, 0, 0, 1, 1, 0, 1, 0, 1, 1, 0, 1, 1, 0, 0, 0, 1, 0, 0, 1, 3, 3, 1, 0, 0, 0, 1, 1, 0, 0, 1, 0, 0, 1, 3, 0, 0, 0, 0, 0, 0, 3, 0, 1, 1, 0, 0, 1, 3, 1, 1, 0, 1, 0, 0, 0, 1, 0, 0, 0, 1, 0, 0, 0, 3, 1, 1, 1, 0, 1, 1, 0, 0, 0, 0, 0, 1, 1, 1, 0, 1, 1, 1, 3, 1, 0, 3, 1, 0, 0, 1, 1, 0, 1, 1, 1, 1, 0, 1, 0, 0, 0, 0, 1, 0, 0, 0, 0, 1, 1, 0, 1, 3, 1, 0, 1, 0, 0, 1, 1, 0, 1, 0, 0, 1, 0, 1, 0, 0, 1, 0, 1, 1, 0, 1, 0, 1, 3, 1, 1, 0, 0, 1, 1, 1, 1, 1, 3, 1, 0, 1, 1, 3, 1, 0, 0, 0, 1, 0, 1, 0, 1, 1, 1, 0, 0, 1, 1, 1, 1, 0, 0, 0, 0, 1, 3, 1, 1, 1, 1, 1, 1, 0, 1, 1, 1, 0, 0, 1, 0, 1, 1, 1, 0, 0, 1, 1, 3, 1, 1, 1, 1, 1, 1, 0, 1, 3, 1, 0, 1, 1, 0, 1, 1, 1, 1, 0, 0, 0, 1, 1, 0, 0, 1, 0, 1, 0, 0, 1, 1, 0, 0, 1, 0, 1, 1, 0, 1, 1, 1, 1, 0, 1, 1, 0, 1, 1, 0, 0, 0, 1, 0, 0, 0, 0, 1, 0, 1, 1, 1, 0, 0, 1, 0, 0, 0, 1, 0, 1, 1, 1, 3, 0, 1, 0, 0, 0, 0, 1, 0, 1, 0, 1, 0, 0, 0, 1, 1, 1, 1, 0, 0, 1, 1, 1, 0, 0, 1, 0, 0, 1, 1, 1, 1, 0, 0, 1, 0, 1, 0, 0, 0, 0, 0, 0, 1, 0, 1, 1, 1, 1, 0, 0, 1, 0, 1, 1, 0, 1, 0, 1, 0, 3, 0, 0, 1, 1, 1, 0, 0, 3, 1, 1, 0, 0, 1, 0, 0, 0, 0, 1, 0, 0, 0, 1, 1, 1, 0, 1, 3, 3, 0, 1, 0, 1, 3, 1, 0, 0, 1, 0, 1, 0, 1, 0, 3, 0, 0, 1, 0, 1, 1, 0, 1, 1, 3, 1, 1, 1, 1, 1, 1, 1, 0, 0, 1, 0, 1, 1, 0, 0, 1, 0, 0, 0, 1, 1, 1, 0, 1, 1, 1, 0, 0, 0, 0, 1, 0, 0, 0, 1, 0, 1, 1, 1, 1, 1, 1, 0, 1, 1, 0, 1, 1, 1, 0, 0, 0, 1, 0, 0, 0, 1, 1, 0, 0, 0, 0, 1, 0, 0, 1, 3, 1, 1, 0, 0, 1, 1, 3, 0, 1, 0, 0, 0, 0, 1, 1, 1, 0, 0, 0, 1, 3, 1, 3, 1, 0, 1, 0, 0, 0, 1, 1, 0, 0, 1, 0, 0, 0, 1, 3, 1, 0, 1, 1, 1, 1, 3, 0, 1, 0, 0, 1, 0, 1, 1, 1, 0, 0, 1, 1, 0, 3, 1, 0, 1, 3, 1, 1, 1, 0, 1, 0, 1, 3, 0, 1, 1, 0, 1, 1, 1, 1, 1, 1, 0, 0, 0, 0, 1, 0, 1, 1, 3, 0, 1, 1, 0, 1, 0, 0, 1, 1, 3, 1, 3, 0, 0, 0, 1, 1, 0, 3, 1, 1, 0, 1, 0, 1, 0, 0, 1, 0, 1, 1, 0, 1, 0, 0, 1, 0, 0, 0, 1, 1, 1, 0, 0, 1, 1, 0, 3, 0, 1, 0, 0, 1, 1, 0, 1, 1, 0, 0, 0, 1, 1, 0, 1, 1, 3, 1, 1, 1, 1, 0, 1, 0, 0, 1, 1, 0, 0, 1, 1, 0, 0, 0, 1, 1, 0, 1, 0, 1, 3, 0, 1, 0, 0, 3, 1, 0, 0, 1, 0, 1, 0, 0, 0, 1, 0, 0, 0, 0, 1, 1, 1, 1, 1, 1, 1, 0, 1, 1, 3, 1, 0, 1, 1, 1, 0, 1, 1, 1, 0, 1, 1, 0, 1, 1, 0, 0, 0, 0, 3, 0, 1, 0, 0, 0, 1, 1, 0, 0, 1, 0, 1, 0, 0, 1, 0, 1, 0, 0, 1, 1, 0, 0, 0, 3, 0, 1, 1, 1, 1, 1, 0, 0, 0, 1, 0, 0, 1, 0, 0, 1, 1, 1, 1, 0, 1, 0, 0, 0, 1, 1, 1, 0, 0, 0, 1, 1, 0, 1, 1, 0, 1, 1, 1, 1, 0, 0, 0, 1, 0, 0, 3, 0, 1, 0, 0, 1, 1, 0, 0, 1, 1, 1], \"x0\": \" \", \"xaxis\": \"x\", \"y\": [60.0, 58.0, 59.0, 52.0, 55.0, 59.0, 55.0, 59.0, 62.0, 62.0, 62.0, 62.0, 56.0, 65.0, 47.0, 54.0, 56.0, 54.0, 56.0, 62.0, 62.0, 62.0, 62.0, 62.0, 62.0, 62.0, 62.0, 62.0, 62.0, 62.0, 62.0, 62.0, 62.0, 62.0, 62.0, 62.0, 62.0, 62.0, 62.0, 62.0, 62.0, 62.0, 62.0, 61.0, 59.0, 62.0, 62.0, 62.0, 62.0, 55.0, 50.0, 58.0, 55.0, 50.0, 62.0, 56.0, 62.0, 62.0, 62.0, 62.0, 62.0, 62.0, 62.0, 62.0, 62.0, 62.0, 62.0, 62.0, 62.0, 62.0, 62.0, 62.0, 62.0, 62.0, 62.0, 62.0, 62.0, 62.0, 62.0, 62.0, 62.0, 62.0, 62.0, 62.0, 62.0, 62.0, 62.0, 62.0, 62.0, 62.0, 62.0, 62.0, 62.0, 62.0, 62.0, 62.0, 62.0, 58.0, 62.0, 62.0, 62.0, 62.0, 58.0, 62.0, 62.0, 62.0, 62.0, 62.0, 62.0, 62.0, 62.0, 62.0, 62.0, 62.0, 62.0, 62.0, 62.0, 62.0, 62.0, 62.0, 62.0, 62.0, 57.0, 62.0, 62.0, 62.0, 62.0, 62.0, 62.0, 62.0, 62.0, 62.0, 62.0, 62.0, 62.0, 62.0, 62.0, 62.0, 62.0, 62.0, 52.0, 62.0, 62.0, 62.0, 62.0, 62.0, 62.0, 62.0, 62.0, 62.0, 62.0, 62.0, 62.0, 62.0, 62.0, 62.0, 62.0, 62.0, 62.0, 62.0, 62.0, 62.0, 62.0, 62.0, 62.0, 62.0, 62.0, 62.0, 62.0, 62.0, 62.0, 62.0, 62.0, 62.0, 62.0, 62.0, 56.0, 56.0, 62.0, 62.0, 62.0, 62.0, 62.0, 62.0, 62.0, 62.0, 62.0, 62.0, 62.0, 62.0, 62.0, 62.0, 62.0, 62.0, 62.0, 62.0, 62.0, 62.0, 62.0, 62.0, 62.0, 62.0, 62.0, 62.0, 62.0, 62.0, 62.0, 62.0, 62.0, 62.0, 62.0, 62.0, 62.0, 62.0, 62.0, 62.0, 62.0, 62.0, 62.0, 62.0, 62.0, 62.0, 55.0, 62.0, 62.0, 62.0, 62.0, 62.0, 62.0, 62.0, 62.0, 62.0, 62.0, 62.0, 62.0, 62.0, 62.0, 62.0, 62.0, 62.0, 62.0, 62.0, 62.0, 61.0, 62.0, 62.0, 62.0, 62.0, 62.0, 62.0, 62.0, 62.0, 62.0, 62.0, 62.0, 62.0, 62.0, 62.0, 62.0, 62.0, 62.0, 59.0, 62.0, 62.0, 62.0, 62.0, 62.0, 62.0, 62.0, 62.0, 62.0, 62.0, 62.0, 62.0, 62.0, 62.0, 62.0, 62.0, 62.0, 62.0, 62.0, 62.0, 62.0, 62.0, 62.0, 62.0, 62.0, 62.0, 62.0, 62.0, 59.0, 62.0, 62.0, 62.0, 62.0, 62.0, 62.0, 62.0, 62.0, 62.0, 62.0, 56.0, 62.0, 62.0, 62.0, 62.0, 62.0, 62.0, 62.0, 62.0, 62.0, 62.0, 62.0, 62.0, 62.0, 62.0, 62.0, 62.0, 62.0, 62.0, 62.0, 62.0, 62.0, 62.0, 62.0, 62.0, 62.0, 62.0, 62.0, 62.0, 62.0, 62.0, 62.0, 58.0, 58.0, 62.0, 62.0, 62.0, 62.0, 62.0, 62.0, 62.0, 62.0, 62.0, 62.0, 62.0, 62.0, 62.0, 62.0, 62.0, 61.0, 62.0, 60.0, 58.0, 62.0, 62.0, 62.0, 62.0, 62.0, 62.0, 62.0, 62.0, 62.0, 62.0, 62.0, 62.0, 62.0, 62.0, 62.0, 62.0, 62.0, 62.0, 62.0, 62.0, 62.0, 62.0, 62.0, 62.0, 62.0, 62.0, 62.0, 62.0, 62.0, 62.0, 62.0, 62.0, 62.0, 62.0, 62.0, 62.0, 62.0, 62.0, 62.0, 62.0, 62.0, 62.0, 62.0, 62.0, 62.0, 62.0, 62.0, 62.0, 62.0, 62.0, 62.0, 62.0, 62.0, 62.0, 62.0, 62.0, 62.0, 62.0, 62.0, 62.0, 62.0, 62.0, 62.0, 62.0, 62.0, 62.0, 62.0, 62.0, 62.0, 62.0, 62.0, 62.0, 62.0, 62.0, 62.0, 62.0, 62.0, 62.0, 62.0, 62.0, 62.0, 62.0, 62.0, 62.0, 62.0, 62.0, 54.0, 62.0, 62.0, 62.0, 62.0, 62.0, 62.0, 62.0, 62.0, 62.0, 62.0, 62.0, 62.0, 62.0, 62.0, 62.0, 62.0, 62.0, 62.0, 62.0, 62.0, 62.0, 62.0, 62.0, 62.0, 62.0, 62.0, 62.0, 62.0, 62.0, 63.0, 62.0, 62.0, 62.0, 62.0, 62.0, 62.0, 62.0, 62.0, 62.0, 62.0, 62.0, 62.0, 62.0, 62.0, 54.0, 56.0, 58.0, 62.0, 62.0, 62.0, 62.0, 62.0, 62.0, 62.0, 62.0, 62.0, 58.0, 62.0, 62.0, 62.0, 62.0, 62.0, 62.0, 62.0, 62.0, 62.0, 62.0, 62.0, 62.0, 62.0, 62.0, 62.0, 62.0, 62.0, 62.0, 62.0, 62.0, 62.0, 62.0, 62.0, 62.0, 62.0, 62.0, 62.0, 62.0, 62.0, 62.0, 62.0, 62.0, 62.0, 62.0, 62.0, 62.0, 62.0, 62.0, 62.0, 62.0, 62.0, 62.0, 62.0, 62.0, 62.0, 62.0, 62.0, 62.0, 62.0, 58.0, 62.0, 62.0, 58.0, 56.0, 59.0, 62.0, 62.0, 62.0, 62.0, 62.0, 62.0, 62.0, 62.0, 62.0, 62.0, 62.0, 62.0, 62.0, 62.0, 62.0, 62.0, 62.0, 58.0, 56.0, 62.0, 59.0, 58.0, 58.0, 59.0, 59.0, 58.0, 59.0, 58.0, 59.0, 58.0, 58.0, 59.0, 58.0, 58.0, 59.0, 59.0, 59.0, 58.0, 58.0, 58.0, 59.0, 58.0, 59.0, 59.0, 58.0, 58.0, 58.0, 59.0, 58.0, 61.0, 54.0, 54.0, 54.0, 59.0, 59.0, 59.0, 55.0, 50.0, 58.0, 58.0, 58.0, 54.0, 62.0, 62.0, 62.0, 62.0, 62.0, 62.0, 62.0, 62.0, 52.0, 62.0, 62.0, 62.0, 62.0, 59.0, 59.0, 62.0, 62.0, 62.0, 62.0, 62.0, 62.0, 62.0, 62.0, 62.0, 62.0, 62.0, 62.0, 62.0, 62.0, 62.0, 62.0, 62.0, 62.0, 62.0, 62.0, 62.0, 62.0, 62.0, 62.0, 62.0, 62.0, 62.0, 56.0, 58.0, 62.0, 62.0, 62.0, 62.0, 62.0, 62.0, 62.0, 62.0, 62.0, 62.0, 62.0, 62.0, 62.0, 62.0, 62.0, 62.0, 62.0, 62.0, 62.0, 62.0, 62.0, 62.0, 62.0, 62.0, 62.0, 62.0, 62.0, 62.0, 62.0, 62.0, 62.0, 62.0, 62.0, 62.0, 62.0, 62.0, 62.0, 58.0, 62.0, 62.0, 62.0, 62.0, 62.0, 62.0, 62.0, 62.0, 62.0, 62.0, 62.0, 62.0, 61.0, 54.0, 62.0, 62.0, 62.0, 62.0, 62.0, 62.0, 62.0, 62.0, 62.0, 62.0, 62.0, 62.0, 62.0, 62.0, 62.0, 58.0, 62.0, 61.0, 61.0, 61.0, 61.0, 61.0, 61.0, 61.0, 61.0, 61.0, 54.0, 47.0, 62.0, 62.0, 62.0, 62.0, 62.0, 62.0, 62.0, 62.0, 62.0, 62.0, 62.0, 62.0, 62.0, 62.0, 56.0, 62.0, 62.0, 62.0, 62.0, 58.0, 55.0, 62.0, 62.0, 62.0, 62.0, 62.0, 62.0, 62.0, 62.0, 54.0, 61.0, 61.0, 61.0, 61.0, 61.0, 61.0, 62.0, 62.0, 62.0, 59.0, 62.0, 58.0, 56.0, 62.0, 62.0, 62.0, 62.0, 57.0, 62.0, 62.0, 56.0, 62.0, 62.0, 62.0, 62.0, 62.0, 59.0, 62.0, 62.0, 62.0, 62.0, 62.0, 62.0, 62.0, 62.0, 62.0, 62.0, 62.0, 62.0, 62.0, 62.0, 62.0, 62.0, 62.0, 62.0, 62.0, 62.0, 62.0, 62.0, 62.0, 62.0, 62.0, 62.0, 62.0, 62.0, 62.0, 62.0, 62.0, 62.0, 62.0, 62.0, 62.0, 61.0, 58.0, 62.0, 62.0, 62.0, 62.0, 62.0, 62.0, 62.0, 62.0, 62.0, 62.0, 62.0, 62.0, 62.0, 62.0, 62.0, 62.0, 62.0, 62.0, 62.0, 62.0, 62.0, 62.0, 62.0, 62.0, 62.0, 62.0, 62.0, 62.0, 62.0, 55.0, 47.0, 58.0, 53.0, 59.0, 58.0, 62.0, 56.0, 55.0, 62.0, 62.0, 62.0, 62.0, 62.0, 62.0, 62.0, 62.0, 62.0, 62.0, 62.0, 62.0, 62.0, 62.0, 62.0, 59.0, 54.0, 53.0, 58.0, 53.0, 58.0, 54.0, 59.0, 62.0, 62.0, 61.0, 60.0, 62.0, 62.0, 59.0, 62.0, 62.0, 62.0, 60.0, 52.0, 59.0, 52.0, 62.0, 62.0, 58.0, 59.0, 62.0, 62.0, 62.0, 62.0, 62.0, 50.0, 65.0, 62.0, 58.0, 58.0, 54.0, 54.0, 58.0, 56.0, 50.0, 62.0, 62.0, 62.0, 62.0, 62.0, 62.0, 62.0, 62.0, 62.0, 62.0, 62.0, 62.0, 59.0, 58.0, 59.0, 61.0, 61.0, 61.0, 61.0, 61.0, 61.0, 61.0, 61.0, 61.0, 61.0, 61.0, 61.0, 61.0, 61.0, 61.0, 61.0, 61.0, 61.0, 61.0, 61.0, 61.0, 61.0, 61.0, 61.0, 61.0, 61.0, 61.0, 61.0, 61.0, 61.0, 61.0, 61.0, 61.0, 61.0, 61.0, 62.0, 56.0, 59.0, 61.0, 55.0, 56.0, 60.0, 50.0, 58.0, 62.0, 62.0, 61.0, 62.0, 62.0, 62.0, 62.0, 62.0, 62.0, 62.0, 62.0, 62.0, 62.0, 62.0, 62.0, 62.0, 62.0, 62.0, 62.0, 62.0, 62.0, 62.0, 62.0, 62.0, 62.0, 62.0, 62.0, 62.0, 62.0, 62.0, 62.0, 62.0, 62.0, 62.0, 62.0, 62.0, 62.0, 62.0, 62.0, 62.0, 62.0, 62.0, 62.0, 62.0, 62.0, 62.0, 62.0, 62.0, 62.0, 62.0, 62.0, 62.0, 62.0, 62.0, 62.0, 62.0, 62.0, 62.0, 62.0, 62.0, 62.0, 62.0, 62.0, 62.0, 62.0, 62.0, 62.0, 62.0, 62.0, 62.0, 62.0, 62.0, 62.0, 62.0, 62.0, 62.0, 62.0, 62.0, 61.0, 61.0, 61.0, 61.0, 61.0, 61.0, 61.0, 61.0, 61.0, 61.0, 61.0, 61.0, 62.0, 63.0, 63.0, 55.0, 67.0, 55.0, 59.0, 61.0, 63.0, 62.0, 62.0, 62.0, 62.0, 62.0, 62.0, 62.0, 62.0, 62.0, 62.0, 62.0, 62.0, 62.0, 62.0, 62.0, 62.0, 56.0, 56.0, 62.0, 58.0, 62.0, 59.0, 59.0, 62.0, 62.0, 62.0, 62.0, 62.0, 62.0, 62.0, 62.0, 62.0, 62.0, 62.0, 62.0, 62.0, 62.0, 62.0, 58.0, 62.0, 60.0, 62.0, 62.0, 62.0, 62.0, 62.0, 62.0, 62.0, 62.0, 55.0, 62.0, 62.0, 62.0, 62.0, 62.0, 59.0, 62.0, 62.0, 62.0, 62.0, 62.0, 62.0, 62.0, 62.0, 62.0, 62.0, 62.0, 62.0, 62.0, 62.0, 62.0, 62.0, 62.0, 62.0, 62.0, 62.0, 62.0, 62.0, 62.0, 62.0, 62.0, 62.0, 62.0, 62.0, 62.0, 62.0, 62.0, 62.0, 62.0, 62.0, 62.0, 62.0, 62.0, 55.0, 53.0, 58.0, 59.0, 62.0, 62.0, 62.0, 58.0, 55.0, 62.0, 61.0, 62.0, 62.0, 62.0, 62.0, 62.0, 62.0, 62.0, 62.0, 62.0, 62.0, 62.0, 62.0, 62.0, 62.0, 62.0, 62.0, 62.0, 62.0, 62.0, 62.0, 62.0, 62.0, 62.0, 62.0, 62.0, 62.0, 62.0, 62.0, 62.0, 62.0, 62.0, 62.0, 59.0, 62.0, 62.0, 62.0, 62.0, 62.0, 62.0, 62.0, 62.0, 62.0, 62.0, 62.0, 62.0, 62.0, 62.0, 62.0, 62.0, 62.0, 62.0, 62.0, 62.0, 62.0, 62.0, 62.0, 62.0, 62.0, 62.0, 62.0, 59.0, 59.0, 55.0, 53.0, 59.0, 50.0, 58.0, 54.0, 62.0, 62.0, 62.0, 62.0, 62.0, 62.0, 67.0, 62.0, 62.0, 62.0, 62.0, 62.0, 62.0, 62.0, 62.0, 62.0, 62.0, 62.0, 62.0, 62.0, 62.0, 62.0, 62.0, 62.0, 62.0, 62.0, 62.0, 62.0, 62.0, 62.0, 62.0, 62.0, 62.0, 62.0, 62.0, 62.0, 62.0, 62.0, 62.0, 62.0, 62.0, 62.0, 62.0, 62.0, 62.0, 62.0, 58.0, 61.0, 62.0, 62.0, 62.0, 61.0, 62.0, 62.0, 62.0, 62.0, 62.0, 62.0, 62.0, 62.0, 62.0, 62.0, 54.0, 58.0, 54.0, 50.0, 54.0, 62.0, 62.0, 50.0, 58.0, 50.0, 62.0, 62.0, 62.0, 62.0, 62.0, 62.0, 62.0, 62.0, 62.0, 62.0, 62.0, 62.0, 62.0, 62.0, 62.0, 62.0, 62.0, 62.0, 62.0, 62.0, 62.0, 62.0, 62.0, 62.0, 62.0, 62.0, 62.0, 62.0, 62.0, 62.0, 62.0, 62.0, 62.0, 62.0, 62.0, 62.0, 62.0, 62.0, 62.0, 62.0, 62.0, 62.0, 62.0, 62.0, 62.0, 62.0, 60.0, 59.0, 52.0, 58.0, 62.0, 62.0, 62.0, 62.0, 62.0, 62.0, 62.0, 62.0, 62.0, 62.0, 62.0, 62.0, 62.0, 62.0, 62.0, 62.0, 62.0, 62.0, 62.0, 62.0, 61.0, 61.0, 62.0, 62.0, 62.0, 61.0, 62.0, 62.0, 62.0, 62.0, 62.0, 62.0, 62.0, 62.0, 62.0, 62.0, 62.0, 62.0, 62.0, 50.0, 50.0, 53.0, 62.0, 62.0, 62.0, 62.0, 62.0, 62.0, 62.0, 62.0, 62.0, 62.0, 61.0, 61.0, 56.0, 54.0, 59.0, 59.0, 59.0, 62.0, 62.0, 62.0, 62.0, 62.0, 62.0, 62.0, 62.0, 62.0, 62.0, 58.0, 58.0, 60.0, 63.0, 62.0, 62.0, 62.0, 62.0, 62.0, 62.0, 62.0, 62.0, 54.0, 60.0, 59.0, 53.0, 55.0, 62.0, 60.0, 54.0, 59.0, 56.0, 52.0, 52.0, 52.0, 50.0, 62.0, 62.0, 62.0, 62.0, 62.0, 62.0, 62.0, 62.0, 62.0, 62.0, 62.0, 62.0, 62.0, 62.0, 62.0, 62.0, 62.0, 62.0, 62.0, 62.0, 62.0, 62.0, 62.0, 62.0, 62.0, 62.0, 62.0, 62.0, 62.0, 62.0, 62.0, 62.0, 62.0, 62.0, 62.0, 62.0, 62.0, 62.0, 62.0, 62.0, 62.0, 58.0, 56.0, 58.0, 58.0, 52.0, 50.0, 62.0, 62.0, 56.0, 58.0, 58.0, 62.0, 62.0, 62.0, 62.0, 62.0, 62.0, 62.0, 62.0, 62.0, 62.0, 62.0, 62.0, 62.0, 62.0, 62.0, 62.0, 62.0, 62.0, 62.0, 62.0, 62.0, 62.0, 62.0, 62.0, 62.0, 62.0, 62.0, 62.0, 63.0, 62.0, 52.0, 61.0, 50.0, 61.0, 61.0, 58.0, 62.0, 62.0, 62.0, 62.0, 62.0, 59.0, 59.0, 62.0, 61.0, 61.0, 61.0, 56.0, 56.0, 61.0, 59.0, 59.0, 62.0, 62.0, 62.0, 62.0, 62.0, 62.0, 62.0, 62.0, 62.0, 63.0, 53.0, 62.0, 62.0, 62.0, 62.0, 62.0, 61.0, 58.0, 61.0, 61.0, 56.0, 62.0, 62.0, 62.0, 62.0, 62.0, 62.0, 62.0, 62.0, 62.0, 62.0, 62.0, 62.0, 62.0, 62.0, 62.0, 62.0, 62.0, 62.0, 62.0, 62.0, 62.0, 53.0, 58.0, 65.0, 63.0, 56.0, 57.0, 62.0, 62.0, 62.0, 62.0, 62.0, 62.0, 62.0, 62.0, 62.0, 62.0, 62.0, 62.0, 62.0, 62.0, 62.0, 62.0, 62.0, 62.0, 62.0, 62.0, 62.0, 62.0, 62.0, 62.0, 62.0, 62.0, 62.0, 62.0, 62.0, 62.0, 62.0, 62.0, 62.0, 62.0, 60.0, 59.0, 56.0, 56.0, 62.0, 54.0, 62.0, 62.0, 62.0, 59.0, 58.0, 61.0, 58.0, 62.0, 62.0, 62.0, 62.0, 62.0, 62.0, 60.0, 62.0, 62.0, 62.0, 62.0, 62.0, 62.0, 62.0, 62.0, 62.0, 62.0, 62.0, 58.0, 59.0, 59.0, 59.0, 59.0, 57.0, 58.0, 62.0, 52.0, 52.0, 58.0, 62.0, 62.0, 62.0, 62.0, 62.0, 62.0, 62.0, 62.0, 62.0, 62.0, 62.0, 61.0, 61.0, 61.0, 59.0, 61.0, 47.0, 50.0, 62.0, 62.0, 57.0, 58.0, 60.0, 58.0, 62.0, 62.0, 62.0, 62.0, 61.0, 62.0, 62.0, 62.0, 61.0, 62.0, 54.0, 59.0, 56.0, 53.0, 56.0, 55.0, 55.0, 56.0, 59.0, 58.0, 60.0, 62.0, 62.0, 62.0, 59.0, 62.0, 62.0, 62.0, 62.0, 56.0, 58.0, 55.0, 62.0, 62.0, 60.0, 62.0, 62.0, 62.0, 62.0, 62.0, 62.0, 62.0, 62.0, 62.0, 62.0, 62.0, 62.0, 62.0, 58.0, 59.0, 59.0, 61.0, 61.0, 61.0, 61.0, 61.0, 61.0, 61.0, 61.0, 61.0, 61.0, 61.0, 61.0, 62.0, 59.0, 54.0, 58.0, 58.0, 57.0, 62.0, 67.0, 59.0, 58.0, 61.0, 61.0, 61.0, 61.0, 61.0, 61.0, 61.0, 61.0, 61.0, 61.0, 59.0, 59.0, 62.0, 62.0, 62.0, 62.0, 62.0, 60.0, 56.0, 63.0, 61.0, 53.0, 59.0, 62.0, 62.0, 57.0, 52.0, 62.0, 58.0, 56.0, 62.0, 62.0, 62.0, 62.0, 58.0, 59.0, 62.0, 62.0, 62.0, 62.0, 62.0, 62.0, 58.0, 62.0, 62.0, 62.0, 62.0, 62.0, 62.0, 62.0, 62.0, 62.0, 62.0, 62.0, 62.0, 62.0, 62.0, 62.0, 62.0, 62.0, 62.0, 62.0, 62.0, 62.0, 62.0, 62.0, 62.0, 62.0, 62.0, 62.0, 62.0, 62.0, 62.0, 52.0, 56.0, 61.0, 61.0, 61.0, 62.0, 58.0, 59.0, 59.0, 62.0, 62.0, 50.0, 62.0, 62.0, 62.0, 62.0, 62.0, 62.0, 62.0, 62.0, 62.0, 62.0, 61.0, 61.0, 61.0, 62.0, 62.0, 62.0, 62.0, 62.0, 62.0, 62.0, 62.0, 62.0, 62.0, 62.0, 62.0, 61.0, 61.0, 61.0, 59.0, 52.0, 61.0, 58.0, 56.0, 58.0, 58.0, 61.0, 61.0, 61.0, 61.0, 61.0, 61.0, 61.0, 62.0, 56.0, 58.0, 60.0, 56.0, 59.0, 55.0, 62.0, 62.0, 62.0, 62.0, 61.0, 61.0, 61.0, 61.0, 61.0, 62.0, 50.0, 59.0, 56.0, 58.0, 62.0, 67.0, 62.0, 56.0, 61.0, 61.0, 61.0, 61.0, 61.0, 58.0, 60.0, 59.0, 65.0, 50.0, 55.0, 65.0, 57.0, 62.0, 62.0, 62.0, 58.0, 55.0, 58.0, 62.0, 62.0, 59.0, 58.0, 53.0, 61.0, 54.0, 62.0, 61.0, 61.0, 61.0, 61.0, 56.0, 59.0, 58.0, 62.0, 59.0, 62.0, 62.0, 62.0, 62.0, 62.0, 59.0, 57.0, 56.0, 62.0, 62.0, 62.0, 62.0, 62.0, 50.0, 53.0, 56.0, 53.0, 59.0, 59.0, 54.0, 58.0, 60.0, 58.0, 59.0, 58.0, 57.0, 58.0, 58.0, 59.0, 55.0, 57.0, 54.0, 50.0, 54.0, 65.0, 60.0, 59.0, 58.0, 53.0, 55.0, 58.0, 50.0, 54.0, 58.0, 54.0, 53.0, 53.0, 56.0, 50.0, 56.0, 55.0, 53.0, 67.0, 59.0, 59.0, 55.0, 56.0, 54.0, 58.0, 52.0, 53.0, 58.0, 56.0, 56.0, 58.0, 53.0, 53.0, 54.0, 53.0, 53.0, 53.0, 59.0, 58.0, 53.0, 53.0, 59.0, 56.0, 54.0, 52.0, 47.0, 54.0, 54.0, 56.0, 59.0, 60.0, 55.0, 53.0, 58.0, 57.0, 55.0, 54.0, 47.0, 53.0, 59.0, 53.0, 63.0, 47.0, 54.0, 47.0, 58.0, 54.0, 47.0, 47.0, 60.0, 54.0, 47.0, 50.0, 58.0, 58.0, 60.0, 52.0, 58.0, 55.0, 53.0, 54.0, 54.0, 58.0, 50.0, 56.0, 55.0, 59.0, 55.0, 59.0, 54.0, 59.0, 50.0, 53.0, 56.0, 47.0, 53.0, 58.0, 53.0, 53.0, 54.0, 53.0, 50.0, 53.0, 53.0, 53.0, 54.0, 50.0, 59.0, 50.0, 50.0, 50.0, 54.0, 55.0, 54.0, 53.0, 53.0, 53.0, 56.0, 50.0, 53.0, 50.0, 47.0, 53.0, 55.0, 53.0, 53.0, 53.0, 59.0, 53.0, 59.0, 53.0, 50.0, 58.0, 53.0, 54.0, 55.0, 54.0, 59.0, 50.0, 53.0, 54.0, 55.0, 54.0, 54.0, 54.0, 53.0, 50.0, 59.0, 54.0, 54.0, 54.0, 58.0, 54.0, 55.0, 53.0, 59.0, 59.0, 54.0, 53.0, 54.0, 53.0, 59.0, 53.0, 55.0, 53.0, 54.0, 55.0, 50.0, 54.0, 59.0, 54.0, 50.0, 54.0, 50.0, 54.0, 54.0, 54.0, 54.0, 53.0, 54.0, 59.0, 53.0, 50.0, 50.0, 52.0, 54.0, 56.0, 54.0, 52.0, 54.0, 53.0, 50.0, 52.0, 53.0, 50.0, 59.0, 52.0, 52.0, 55.0, 53.0, 56.0, 59.0, 53.0, 52.0, 52.0, 53.0, 53.0, 54.0, 47.0, 53.0, 53.0, 54.0, 59.0, 50.0, 54.0, 53.0, 53.0, 54.0, 53.0, 53.0, 54.0, 54.0, 59.0, 58.0, 59.0, 58.0, 47.0, 59.0, 58.0, 52.0, 53.0, 58.0, 56.0, 58.0, 55.0, 58.0, 58.0, 54.0, 59.0, 59.0, 53.0, 55.0, 54.0, 58.0, 58.0, 58.0, 58.0, 56.0, 58.0, 47.0, 53.0, 59.0, 56.0, 54.0, 54.0, 54.0, 56.0, 50.0, 56.0, 59.0, 53.0, 53.0, 47.0, 59.0, 56.0, 59.0, 59.0, 58.0, 67.0, 53.0, 59.0, 50.0, 56.0, 58.0, 50.0, 50.0, 53.0, 47.0, 54.0, 50.0, 56.0, 54.0, 59.0, 53.0, 54.0, 53.0, 56.0, 55.0, 54.0, 54.0, 59.0, 53.0, 65.0, 58.0, 54.0, 58.0, 59.0, 54.0, 50.0, 59.0, 53.0, 53.0, 53.0, 54.0, 55.0, 53.0, 53.0, 56.0, 56.0, 53.0, 58.0, 62.0, 54.0, 47.0, 47.0, 57.0, 58.0, 59.0, 53.0, 53.0, 55.0, 53.0, 53.0, 55.0, 54.0, 50.0, 54.0, 54.0, 54.0, 50.0, 58.0, 54.0, 50.0, 54.0, 54.0, 50.0, 58.0, 59.0, 58.0, 59.0, 53.0, 54.0, 53.0, 53.0, 53.0, 53.0, 50.0, 65.0, 53.0, 47.0, 55.0, 53.0, 55.0, 53.0, 53.0, 54.0, 50.0, 54.0, 53.0, 50.0, 53.0, 59.0, 54.0, 47.0, 54.0, 60.0, 54.0, 58.0, 54.0, 50.0, 54.0, 54.0, 47.0, 54.0, 54.0, 50.0, 50.0, 47.0, 55.0, 54.0, 54.0, 47.0, 54.0, 47.0, 58.0, 53.0, 54.0, 59.0, 53.0, 53.0, 53.0, 54.0, 59.0, 56.0, 50.0, 54.0, 54.0, 56.0, 58.0, 59.0, 59.0, 58.0, 56.0, 53.0, 59.0, 53.0, 58.0, 55.0, 54.0, 58.0, 50.0, 58.0, 54.0, 56.0, 59.0, 53.0, 54.0, 53.0, 52.0, 53.0, 63.0, 50.0, 47.0, 47.0, 56.0, 54.0, 54.0, 54.0, 54.0, 54.0, 54.0, 47.0, 50.0, 53.0, 56.0, 53.0, 57.0, 53.0, 54.0, 53.0, 54.0, 54.0, 53.0, 54.0, 53.0, 54.0, 57.0, 53.0, 54.0, 53.0, 58.0, 53.0, 50.0, 60.0, 54.0, 59.0, 54.0, 59.0, 58.0, 59.0, 59.0, 54.0, 59.0, 59.0, 54.0, 56.0, 58.0, 67.0, 47.0, 59.0, 54.0, 58.0, 47.0, 56.0, 50.0, 57.0, 59.0, 53.0, 55.0, 59.0, 60.0, 60.0, 60.0, 60.0, 60.0, 59.0, 59.0, 57.0, 60.0, 58.0, 59.0, 59.0, 59.0, 59.0, 59.0, 59.0, 57.0, 58.0, 50.0, 59.0, 59.0, 59.0, 59.0, 53.0, 54.0, 54.0, 53.0, 54.0, 53.0, 54.0, 58.0, 54.0, 60.0, 60.0, 53.0, 56.0, 60.0, 54.0, 53.0, 54.0, 58.0, 54.0, 53.0, 59.0, 53.0, 54.0, 53.0, 54.0, 59.0, 60.0, 53.0, 58.0, 58.0, 60.0, 60.0, 58.0, 58.0, 50.0, 58.0, 53.0, 59.0, 58.0, 55.0, 59.0, 54.0, 53.0, 54.0, 53.0, 54.0, 54.0, 53.0, 59.0, 53.0, 54.0, 54.0, 54.0, 53.0, 53.0, 53.0, 53.0, 55.0, 57.0, 58.0, 59.0, 59.0, 58.0, 59.0, 58.0, 59.0, 55.0, 59.0, 59.0, 59.0, 47.0, 59.0, 50.0, 59.0, 50.0, 55.0, 55.0, 52.0, 52.0, 59.0, 59.0, 58.0, 54.0, 47.0, 60.0, 56.0, 59.0, 58.0, 58.0, 54.0, 54.0, 53.0, 58.0, 53.0, 54.0, 58.0, 58.0, 59.0, 58.0, 55.0, 58.0, 54.0, 59.0, 59.0, 47.0, 58.0, 55.0, 55.0, 50.0, 55.0, 58.0, 67.0, 58.0, 54.0, 54.0, 54.0, 54.0, 50.0, 54.0, 53.0, 54.0, 53.0, 50.0, 50.0, 50.0, 54.0, 59.0, 54.0, 54.0, 54.0, 53.0, 53.0, 50.0, 59.0, 47.0, 53.0, 59.0, 61.0, 54.0, 56.0, 56.0, 59.0, 53.0, 53.0, 58.0, 53.0, 60.0, 53.0, 60.0, 47.0, 54.0, 54.0, 56.0, 56.0, 58.0, 54.0, 58.0, 59.0, 56.0, 56.0, 54.0, 52.0, 55.0, 58.0, 58.0, 58.0, 50.0, 53.0, 54.0, 59.0, 53.0, 58.0, 55.0, 59.0, 61.0, 58.0, 50.0, 54.0, 59.0, 59.0, 55.0, 56.0, 54.0, 55.0, 55.0, 57.0, 54.0, 58.0, 58.0, 55.0, 54.0, 55.0, 55.0, 55.0, 59.0, 47.0, 55.0, 59.0, 53.0, 59.0, 54.0, 53.0, 53.0, 54.0, 59.0, 50.0, 53.0, 53.0, 55.0, 54.0, 54.0, 54.0, 55.0, 60.0, 55.0, 54.0, 58.0, 58.0, 54.0, 59.0, 58.0, 55.0, 55.0, 54.0, 50.0, 58.0, 47.0, 54.0, 53.0, 59.0, 59.0, 55.0, 55.0, 60.0, 59.0, 56.0, 55.0, 54.0, 59.0, 57.0, 54.0, 58.0, 55.0, 53.0, 56.0, 54.0, 54.0, 59.0, 47.0, 50.0, 59.0, 47.0, 52.0, 53.0, 55.0, 55.0, 58.0, 55.0, 56.0, 54.0, 56.0, 58.0, 50.0, 54.0, 50.0, 50.0, 53.0, 50.0, 53.0, 53.0, 50.0, 54.0, 50.0, 54.0, 50.0, 53.0, 50.0, 55.0, 54.0, 53.0, 53.0, 52.0, 56.0, 52.0, 53.0, 54.0, 53.0, 50.0, 58.0, 59.0, 59.0, 53.0, 52.0, 53.0, 55.0, 53.0, 53.0, 53.0, 53.0, 53.0, 53.0, 53.0, 53.0, 54.0, 59.0, 58.0, 58.0, 50.0, 58.0, 54.0, 54.0, 54.0, 53.0, 54.0, 47.0, 54.0, 54.0, 54.0, 53.0, 60.0, 50.0, 54.0, 53.0, 53.0, 53.0, 54.0, 47.0, 54.0, 50.0, 50.0, 53.0, 53.0, 53.0, 52.0, 53.0, 58.0, 50.0, 55.0, 53.0, 54.0, 54.0, 54.0, 58.0, 53.0, 55.0, 58.0, 59.0, 59.0, 54.0, 54.0, 59.0, 58.0, 47.0, 54.0, 53.0, 55.0, 50.0, 53.0, 54.0, 53.0, 50.0, 54.0, 54.0, 58.0, 54.0, 53.0, 61.0, 59.0, 58.0, 58.0, 58.0, 54.0, 53.0, 53.0, 53.0, 53.0, 54.0, 53.0, 47.0, 53.0, 53.0, 53.0, 47.0, 53.0, 57.0, 58.0, 58.0, 54.0, 55.0, 50.0, 54.0, 54.0, 56.0, 54.0, 58.0, 58.0, 58.0, 58.0, 58.0, 58.0, 60.0, 52.0, 55.0, 54.0, 54.0, 55.0, 59.0, 55.0, 58.0, 56.0, 52.0, 58.0, 58.0, 52.0, 58.0, 58.0, 59.0, 59.0, 53.0, 55.0, 56.0, 55.0, 56.0, 55.0, 58.0, 55.0, 56.0, 55.0, 58.0, 58.0, 58.0, 54.0, 50.0, 58.0, 55.0, 54.0, 58.0, 54.0, 59.0, 54.0, 61.0, 55.0, 59.0, 55.0, 50.0, 50.0, 58.0, 55.0, 50.0, 50.0, 58.0, 55.0, 50.0, 58.0, 58.0, 58.0, 54.0, 52.0, 56.0, 50.0, 56.0, 59.0, 56.0, 50.0, 59.0, 56.0, 59.0, 54.0, 55.0, 54.0, 54.0, 55.0, 58.0, 56.0, 54.0, 54.0, 67.0, 50.0, 50.0, 56.0, 54.0, 54.0, 59.0, 54.0, 54.0, 58.0, 50.0, 58.0, 55.0, 54.0, 55.0, 58.0, 53.0, 58.0, 55.0, 58.0, 59.0, 53.0, 58.0, 52.0, 54.0, 58.0, 53.0, 50.0, 56.0, 56.0, 52.0, 53.0, 60.0, 52.0, 59.0, 56.0, 59.0, 58.0, 59.0, 53.0, 59.0, 61.0, 60.0, 56.0, 59.0, 55.0, 56.0, 55.0, 55.0, 53.0, 59.0, 54.0, 54.0, 50.0, 55.0, 58.0, 57.0, 54.0, 55.0, 52.0, 52.0, 53.0, 56.0, 58.0, 53.0, 53.0, 50.0, 59.0, 53.0, 58.0, 52.0, 54.0, 55.0, 52.0, 53.0, 59.0, 56.0, 50.0, 50.0, 50.0, 56.0, 55.0, 54.0, 53.0, 53.0, 50.0, 54.0, 53.0, 55.0, 50.0, 56.0, 56.0, 56.0, 54.0, 50.0, 50.0, 54.0, 53.0, 58.0, 56.0, 54.0, 58.0, 50.0, 54.0, 50.0, 56.0, 55.0, 53.0, 55.0, 54.0, 53.0, 54.0, 58.0, 59.0, 55.0, 63.0, 67.0, 54.0, 58.0, 59.0, 59.0, 54.0, 58.0, 54.0, 54.0, 56.0, 50.0, 59.0, 52.0, 59.0, 54.0, 58.0, 59.0, 59.0, 59.0, 53.0, 53.0, 55.0, 55.0, 55.0, 52.0, 53.0, 52.0, 53.0, 58.0, 54.0, 52.0, 53.0, 53.0, 54.0, 58.0, 59.0, 59.0, 59.0, 55.0, 59.0, 56.0, 59.0, 59.0, 53.0, 53.0, 59.0, 59.0, 53.0, 52.0, 52.0, 53.0, 50.0, 55.0, 53.0, 53.0, 53.0, 53.0, 58.0, 58.0, 52.0, 58.0, 53.0, 52.0, 53.0, 53.0, 53.0, 54.0, 53.0, 53.0, 53.0, 53.0, 53.0, 54.0, 54.0, 54.0, 53.0, 53.0, 54.0, 50.0, 55.0, 53.0, 59.0, 52.0, 59.0, 47.0, 59.0, 56.0, 52.0, 53.0, 59.0, 59.0, 59.0, 59.0, 56.0, 55.0, 58.0, 56.0, 58.0, 59.0, 59.0, 59.0, 59.0, 59.0, 54.0, 53.0, 60.0, 59.0, 54.0, 54.0, 55.0, 58.0, 65.0, 54.0, 47.0, 55.0, 54.0, 54.0, 54.0, 54.0, 55.0, 53.0, 53.0, 54.0, 55.0, 53.0, 59.0, 58.0, 59.0, 59.0, 56.0, 53.0, 59.0, 55.0, 52.0, 53.0, 53.0, 55.0, 58.0, 59.0, 59.0, 58.0, 58.0, 55.0, 58.0, 58.0, 53.0, 58.0, 58.0, 52.0, 58.0, 50.0, 61.0, 59.0, 61.0, 67.0, 52.0, 58.0, 60.0, 55.0, 58.0, 58.0, 55.0, 53.0, 54.0, 54.0, 54.0, 58.0, 50.0, 58.0, 54.0, 61.0, 52.0, 54.0, 58.0, 58.0, 61.0, 56.0, 58.0, 53.0, 58.0, 54.0, 53.0, 60.0, 60.0, 58.0, 54.0, 54.0, 54.0, 54.0, 50.0, 58.0, 50.0, 53.0, 59.0, 47.0, 60.0, 50.0, 54.0, 59.0, 58.0, 50.0, 59.0, 59.0, 58.0, 53.0, 53.0, 55.0, 52.0, 50.0, 55.0, 55.0, 55.0, 55.0, 59.0, 58.0, 53.0, 59.0, 53.0, 58.0, 56.0, 54.0, 55.0, 58.0, 50.0, 54.0, 55.0, 53.0, 53.0, 58.0, 53.0, 53.0, 53.0, 53.0, 53.0, 58.0, 54.0, 53.0, 56.0, 53.0, 55.0, 54.0, 53.0, 53.0, 58.0, 50.0, 55.0, 59.0, 60.0, 54.0, 61.0, 52.0, 59.0, 59.0, 59.0, 54.0, 59.0, 59.0, 50.0, 59.0, 65.0, 65.0, 53.0, 65.0, 59.0, 50.0, 65.0, 63.0, 50.0, 56.0, 54.0, 55.0, 55.0, 54.0, 59.0, 59.0, 65.0, 53.0, 50.0, 63.0, 54.0, 54.0, 56.0, 60.0, 54.0, 54.0, 59.0, 50.0, 50.0, 63.0, 65.0, 58.0, 58.0, 59.0, 58.0, 54.0, 55.0, 60.0, 50.0, 54.0, 54.0, 56.0, 50.0, 54.0, 58.0, 54.0, 47.0, 55.0, 58.0, 50.0, 54.0, 58.0, 56.0, 59.0, 58.0, 59.0, 58.0, 53.0, 53.0, 53.0, 50.0, 54.0, 59.0, 54.0, 54.0, 54.0, 50.0, 54.0, 58.0, 59.0, 60.0, 52.0, 54.0, 58.0, 58.0, 56.0, 53.0, 59.0, 55.0, 63.0, 58.0, 55.0, 54.0, 54.0, 55.0, 59.0, 54.0, 52.0, 54.0, 57.0, 56.0, 55.0, 58.0, 59.0, 59.0, 55.0, 58.0, 58.0, 58.0, 56.0, 54.0, 54.0, 57.0, 53.0, 55.0, 54.0, 50.0, 54.0, 63.0, 50.0, 53.0, 59.0, 53.0, 54.0, 54.0, 53.0, 58.0, 59.0, 58.0, 59.0, 50.0, 59.0, 58.0, 53.0, 52.0, 63.0, 60.0, 52.0, 58.0, 53.0, 54.0, 58.0, 58.0, 55.0, 54.0, 55.0, 50.0, 65.0, 54.0, 58.0, 56.0, 56.0, 56.0, 54.0, 54.0, 59.0, 53.0, 53.0, 54.0, 53.0, 58.0, 61.0, 58.0, 54.0, 50.0, 58.0, 55.0, 58.0, 63.0, 54.0, 65.0, 47.0, 55.0, 50.0, 50.0, 53.0, 54.0, 50.0, 56.0, 55.0, 47.0, 63.0, 58.0, 63.0, 53.0, 56.0, 58.0, 54.0, 53.0, 59.0, 54.0, 52.0, 47.0, 54.0, 53.0, 47.0, 58.0, 52.0, 54.0, 58.0, 55.0, 59.0, 60.0, 59.0, 58.0, 58.0, 53.0, 59.0, 52.0, 56.0, 54.0, 50.0, 56.0, 61.0, 50.0, 65.0, 54.0, 47.0, 54.0, 54.0, 55.0, 53.0, 53.0, 52.0, 59.0, 54.0, 53.0, 50.0, 52.0, 55.0, 58.0, 53.0, 59.0, 58.0, 53.0, 60.0, 53.0, 59.0, 59.0, 53.0, 58.0, 53.0, 54.0, 50.0, 54.0, 54.0, 58.0, 52.0, 53.0, 53.0, 59.0, 53.0, 58.0, 60.0, 59.0, 58.0, 52.0, 59.0, 58.0, 59.0, 55.0, 59.0, 55.0, 52.0, 58.0, 58.0, 54.0, 54.0, 58.0, 55.0, 58.0, 54.0, 58.0, 55.0, 58.0, 53.0, 58.0, 53.0, 53.0, 55.0, 59.0, 54.0, 60.0, 60.0, 52.0, 55.0, 55.0, 54.0, 60.0, 58.0, 58.0, 52.0, 53.0, 53.0, 58.0, 50.0, 52.0, 58.0, 50.0, 56.0, 56.0, 59.0, 53.0, 59.0, 50.0, 47.0, 53.0, 54.0, 53.0, 59.0, 53.0, 58.0, 55.0, 53.0, 59.0, 59.0, 59.0, 56.0, 53.0, 55.0, 54.0, 53.0, 53.0, 60.0, 53.0, 59.0, 54.0, 53.0, 55.0, 53.0, 53.0, 59.0, 53.0, 58.0, 56.0, 53.0, 50.0, 65.0, 54.0, 63.0, 55.0, 61.0, 55.0, 50.0, 61.0, 55.0, 56.0, 54.0, 53.0, 59.0, 55.0, 54.0, 50.0, 50.0, 52.0, 54.0, 55.0, 59.0, 58.0, 53.0, 59.0, 54.0, 50.0, 57.0, 53.0, 53.0, 59.0, 58.0, 53.0, 54.0, 59.0, 53.0, 54.0, 58.0, 53.0, 52.0, 55.0, 52.0, 58.0, 50.0, 53.0, 50.0, 56.0, 63.0, 60.0, 54.0, 52.0, 58.0, 56.0, 50.0, 56.0, 57.0, 58.0, 55.0, 52.0, 54.0, 59.0, 60.0, 59.0, 52.0, 52.0, 54.0, 56.0, 59.0, 58.0, 56.0, 53.0, 59.0, 52.0, 50.0, 59.0, 55.0, 56.0, 55.0, 59.0, 55.0, 52.0, 53.0, 56.0, 54.0, 58.0, 53.0, 54.0, 56.0, 54.0, 53.0, 55.0, 54.0, 55.0, 59.0, 53.0, 55.0, 54.0, 58.0, 52.0, 56.0, 59.0, 59.0, 55.0, 55.0, 58.0, 58.0, 59.0, 58.0, 59.0, 52.0, 59.0, 55.0, 58.0, 56.0, 53.0, 55.0, 54.0, 54.0, 56.0, 53.0, 53.0, 54.0, 54.0, 54.0, 53.0, 54.0, 55.0, 54.0, 54.0, 54.0, 54.0, 54.0, 61.0, 65.0, 55.0, 54.0, 58.0, 53.0, 61.0, 52.0, 56.0, 50.0, 54.0, 50.0, 54.0, 54.0, 54.0, 53.0, 54.0, 54.0, 54.0, 56.0, 54.0, 55.0, 56.0, 53.0, 60.0, 54.0, 50.0, 55.0, 54.0, 50.0, 53.0, 54.0, 53.0, 54.0, 54.0, 56.0, 54.0, 53.0, 52.0, 50.0, 50.0, 54.0, 54.0, 54.0, 53.0, 61.0, 65.0, 56.0, 53.0, 54.0, 54.0, 59.0, 53.0, 59.0, 59.0, 50.0, 53.0, 59.0, 56.0, 59.0, 53.0, 50.0, 54.0, 54.0, 54.0, 54.0, 53.0, 54.0, 54.0, 60.0, 54.0, 53.0, 60.0, 53.0, 54.0, 54.0, 50.0, 54.0, 54.0, 54.0, 54.0, 53.0, 54.0, 52.0, 53.0, 54.0, 50.0, 56.0, 55.0, 55.0, 53.0, 54.0, 54.0, 54.0, 54.0, 53.0, 54.0, 53.0, 50.0, 55.0, 54.0, 58.0, 47.0, 53.0, 53.0, 63.0, 59.0, 47.0, 53.0, 54.0, 54.0, 53.0, 63.0, 53.0, 54.0, 53.0, 59.0, 53.0, 54.0, 47.0, 61.0, 54.0, 54.0, 54.0, 58.0, 53.0, 65.0, 59.0, 60.0, 54.0, 54.0, 61.0, 63.0, 47.0, 53.0, 54.0, 50.0, 59.0, 58.0, 61.0, 54.0, 54.0, 63.0, 53.0, 54.0, 47.0, 54.0, 61.0, 56.0, 55.0, 56.0, 52.0, 53.0, 58.0, 55.0, 61.0, 56.0, 61.0, 56.0, 52.0, 56.0, 55.0, 61.0, 53.0, 54.0, 53.0, 47.0, 65.0, 59.0, 61.0, 54.0, 58.0, 53.0, 57.0, 62.0, 58.0, 62.0, 57.0, 58.0, 62.0, 55.0, 58.0, 59.0, 60.0, 50.0, 62.0, 62.0, 62.0, 61.0, 62.0, 58.0, 67.0, 58.0, 62.0, 62.0, 59.0, 57.0, 61.0, 57.0, 62.0, 62.0, 62.0, 54.0, 59.0, 54.0, 59.0, 55.0, 55.0, 58.0, 61.0, 62.0, 47.0, 58.0, 62.0, 61.0, 60.0, 59.0, 62.0, 50.0, 56.0, 54.0, 59.0, 58.0, 58.0, 54.0, 54.0, 56.0, 59.0, 62.0, 61.0, 59.0, 58.0, 55.0, 54.0, 54.0, 54.0, 61.0, 52.0, 59.0, 62.0, 58.0, 59.0, 54.0, 62.0, 59.0, 55.0, 56.0, 62.0, 50.0, 62.0, 50.0, 60.0, 58.0, 61.0, 61.0, 62.0, 56.0, 59.0, 54.0, 61.0, 60.0, 62.0, 61.0, 59.0, 58.0, 56.0, 58.0, 55.0, 56.0, 59.0, 63.0, 58.0, 55.0, 61.0, 62.0, 53.0, 58.0, 59.0, 58.0, 59.0, 60.0, 61.0, 59.0, 56.0, 61.0, 55.0, 65.0, 61.0, 62.0, 57.0, 56.0, 58.0, 62.0, 62.0, 59.0, 62.0, 54.0, 54.0, 55.0, 56.0, 54.0, 56.0, 62.0, 59.0, 62.0, 62.0, 62.0, 57.0, 62.0, 61.0, 62.0, 56.0, 62.0, 55.0, 60.0, 58.0, 59.0, 61.0, 53.0, 52.0, 61.0, 62.0, 59.0, 61.0, 58.0, 60.0, 56.0, 61.0, 62.0, 58.0, 55.0, 58.0, 59.0, 52.0, 62.0, 62.0, 59.0, 61.0, 62.0, 62.0, 62.0, 61.0, 62.0, 60.0, 54.0, 62.0, 61.0, 62.0, 62.0, 58.0, 62.0, 59.0, 62.0, 58.0, 62.0, 62.0, 52.0, 62.0, 62.0, 65.0, 56.0, 58.0, 62.0, 53.0, 62.0, 59.0, 61.0, 59.0, 59.0, 58.0, 62.0, 62.0, 59.0, 59.0, 62.0, 59.0, 58.0, 61.0, 62.0, 57.0, 61.0, 62.0, 55.0, 62.0, 59.0, 58.0, 62.0, 54.0, 62.0, 55.0, 61.0, 60.0, 56.0, 60.0, 62.0, 58.0, 62.0, 56.0, 62.0, 60.0, 62.0, 62.0, 67.0, 58.0, 61.0, 63.0, 62.0, 62.0, 62.0, 56.0, 61.0, 58.0, 58.0, 59.0, 57.0, 62.0, 62.0, 62.0, 58.0, 62.0, 55.0, 56.0, 58.0, 54.0, 62.0, 62.0, 62.0, 61.0, 57.0, 58.0, 58.0, 58.0, 58.0, 59.0, 61.0, 62.0, 52.0, 58.0, 55.0, 56.0, 62.0, 59.0, 62.0, 61.0, 62.0, 62.0, 61.0, 62.0, 61.0, 62.0, 58.0, 59.0, 58.0, 58.0, 52.0, 58.0, 61.0, 63.0, 57.0, 59.0, 55.0, 61.0, 61.0, 62.0, 56.0, 58.0, 59.0, 58.0, 59.0, 55.0, 54.0, 62.0, 62.0, 62.0, 59.0, 62.0, 62.0, 62.0, 62.0, 62.0, 58.0, 62.0, 62.0, 62.0, 58.0, 61.0, 53.0, 61.0, 59.0, 61.0, 59.0, 62.0, 58.0, 62.0, 61.0, 62.0, 61.0, 63.0, 61.0, 62.0, 52.0, 50.0, 61.0, 61.0, 59.0, 61.0, 56.0, 56.0, 62.0, 62.0, 50.0, 56.0, 62.0, 62.0, 62.0, 58.0, 57.0, 61.0, 59.0, 62.0, 55.0, 62.0, 59.0, 62.0, 54.0, 59.0, 62.0, 61.0, 61.0, 61.0, 59.0, 61.0, 50.0, 62.0, 62.0, 62.0, 61.0, 53.0, 55.0, 58.0, 58.0, 57.0, 53.0, 58.0, 62.0, 62.0, 58.0, 53.0, 59.0, 58.0, 58.0, 54.0, 54.0, 59.0, 58.0, 60.0, 56.0, 67.0, 58.0, 62.0, 61.0, 61.0, 55.0, 62.0, 54.0, 47.0, 60.0, 59.0, 58.0, 62.0, 62.0, 58.0, 56.0, 59.0, 62.0, 62.0, 62.0, 56.0, 55.0, 62.0, 58.0, 62.0, 58.0, 52.0, 58.0, 61.0, 62.0, 61.0, 59.0, 58.0, 58.0, 61.0, 58.0, 52.0, 60.0, 58.0, 61.0, 59.0, 56.0, 62.0, 54.0, 61.0, 62.0, 56.0, 58.0, 59.0, 56.0, 62.0, 60.0, 54.0, 61.0, 58.0, 58.0, 59.0, 62.0, 59.0, 54.0, 59.0, 62.0, 59.0, 62.0, 54.0, 59.0, 56.0, 58.0, 50.0, 62.0, 62.0, 58.0, 58.0, 53.0, 58.0, 60.0, 54.0, 62.0, 60.0, 62.0, 62.0, 62.0, 62.0, 58.0, 61.0, 59.0, 62.0, 55.0, 59.0, 52.0, 52.0, 62.0, 55.0, 61.0, 62.0, 59.0, 59.0, 59.0, 59.0, 62.0, 60.0, 58.0, 61.0, 60.0, 58.0, 61.0, 61.0, 54.0, 62.0, 52.0, 62.0, 59.0, 62.0, 62.0, 59.0, 59.0, 61.0, 58.0, 62.0, 59.0, 62.0, 62.0, 53.0, 62.0, 62.0, 55.0, 62.0, 58.0, 58.0, 62.0, 62.0, 54.0, 62.0, 54.0, 62.0, 55.0, 52.0, 56.0, 55.0, 59.0, 60.0, 59.0, 56.0, 54.0, 58.0, 60.0, 53.0, 56.0, 62.0, 62.0, 59.0, 57.0, 54.0, 58.0, 58.0, 58.0, 50.0, 62.0, 53.0, 54.0, 54.0, 62.0, 61.0, 59.0, 56.0, 62.0, 59.0, 61.0, 59.0, 58.0, 59.0, 59.0, 55.0, 62.0, 59.0, 61.0, 62.0, 54.0, 61.0, 59.0, 54.0, 62.0, 58.0, 62.0, 54.0, 62.0, 58.0, 62.0, 62.0, 58.0, 62.0, 61.0, 53.0, 62.0, 59.0, 52.0, 62.0, 54.0, 60.0, 62.0, 58.0, 61.0, 56.0, 62.0, 62.0, 61.0, 58.0, 60.0, 58.0, 62.0, 56.0, 62.0, 50.0, 61.0, 58.0, 58.0, 62.0, 59.0, 62.0, 58.0, 61.0, 58.0, 55.0, 59.0, 62.0, 62.0, 62.0, 55.0, 62.0, 57.0, 62.0, 62.0, 62.0, 62.0, 62.0, 56.0, 62.0, 59.0, 55.0, 57.0, 62.0, 62.0, 53.0, 62.0, 62.0, 56.0, 54.0, 59.0, 55.0, 62.0, 58.0, 56.0, 67.0, 54.0, 61.0, 58.0, 53.0, 62.0, 58.0, 62.0, 52.0, 50.0, 62.0, 55.0, 53.0, 58.0, 58.0, 58.0, 54.0, 62.0, 50.0, 62.0, 67.0, 62.0, 62.0, 62.0, 53.0, 56.0, 55.0, 62.0, 53.0, 62.0, 55.0, 58.0, 58.0, 59.0, 62.0, 62.0, 60.0, 61.0, 60.0, 56.0, 52.0, 62.0, 59.0, 61.0, 62.0, 53.0, 59.0, 50.0, 56.0, 58.0, 59.0, 62.0, 56.0, 52.0, 58.0, 61.0, 58.0, 52.0, 60.0, 56.0, 62.0, 61.0, 61.0, 61.0, 56.0, 58.0, 61.0, 62.0, 60.0, 59.0, 62.0, 62.0, 56.0, 60.0, 62.0, 58.0, 56.0, 62.0, 62.0, 54.0, 61.0, 53.0, 59.0, 58.0, 62.0, 56.0, 50.0, 55.0, 62.0, 62.0, 58.0, 50.0, 65.0, 62.0, 67.0, 62.0, 62.0, 56.0, 57.0, 58.0, 58.0, 59.0, 58.0, 61.0, 60.0, 54.0, 58.0, 59.0, 59.0, 62.0, 62.0, 55.0, 58.0, 59.0, 56.0, 61.0, 62.0, 59.0, 58.0, 58.0, 55.0, 58.0, 50.0, 61.0, 62.0, 62.0, 59.0, 55.0, 52.0, 56.0, 56.0, 62.0, 62.0, 50.0, 60.0, 62.0, 62.0, 61.0, 58.0, 58.0, 58.0, 59.0, 59.0, 58.0, 56.0, 58.0, 61.0, 58.0, 62.0, 58.0, 50.0, 62.0, 61.0, 60.0, 57.0, 52.0, 62.0, 54.0, 57.0, 61.0, 59.0, 62.0, 62.0, 58.0, 62.0, 54.0, 65.0, 56.0, 62.0, 62.0, 61.0, 59.0, 58.0, 59.0, 62.0, 61.0, 58.0, 56.0, 59.0, 58.0, 58.0, 57.0, 61.0, 62.0, 62.0, 61.0, 62.0, 62.0, 56.0, 58.0, 58.0, 62.0, 58.0, 62.0, 62.0, 54.0, 58.0, 67.0, 54.0, 61.0, 59.0, 59.0, 53.0, 62.0, 60.0, 58.0, 56.0, 62.0, 58.0, 50.0, 55.0, 58.0, 62.0, 56.0, 56.0, 62.0, 62.0, 62.0, 56.0, 60.0, 59.0, 52.0, 58.0, 56.0, 58.0, 58.0, 62.0, 62.0, 56.0, 62.0, 56.0, 53.0, 50.0, 62.0, 61.0, 65.0, 54.0, 56.0, 58.0, 62.0, 62.0, 62.0, 60.0, 56.0, 61.0, 56.0, 61.0, 52.0, 50.0, 55.0, 61.0, 62.0, 58.0, 54.0, 61.0, 62.0, 52.0, 61.0, 55.0, 62.0, 61.0, 62.0, 56.0, 62.0, 52.0, 54.0, 62.0, 61.0, 62.0, 60.0, 60.0, 62.0, 56.0, 58.0, 60.0, 56.0, 53.0, 62.0, 58.0, 59.0, 60.0, 54.0, 53.0, 62.0, 55.0, 56.0, 58.0, 55.0, 58.0, 59.0, 56.0, 62.0, 61.0, 56.0, 59.0, 62.0, 50.0, 61.0, 60.0, 61.0, 54.0, 55.0, 62.0, 65.0, 55.0, 60.0, 61.0, 62.0, 58.0, 58.0, 58.0, 50.0, 61.0, 52.0, 58.0, 59.0, 62.0, 62.0, 55.0, 65.0, 59.0, 58.0, 59.0, 59.0, 53.0, 62.0, 62.0, 57.0, 62.0, 62.0, 62.0, 60.0, 59.0, 58.0, 62.0, 56.0, 62.0, 59.0, 55.0, 54.0, 54.0, 62.0, 50.0, 56.0, 61.0, 59.0, 62.0, 60.0, 62.0, 55.0, 59.0, 59.0, 62.0, 58.0, 54.0, 52.0, 59.0, 62.0, 61.0, 54.0, 54.0, 59.0, 59.0, 52.0, 50.0, 56.0, 62.0, 62.0, 60.0, 58.0, 62.0, 59.0, 61.0, 62.0, 58.0, 62.0, 61.0, 58.0, 62.0, 60.0, 62.0, 62.0, 62.0, 62.0, 61.0, 59.0, 62.0, 61.0, 56.0, 55.0, 50.0, 58.0, 62.0, 59.0, 56.0, 61.0, 62.0, 60.0, 57.0, 61.0, 58.0, 56.0, 62.0, 61.0, 62.0, 59.0, 59.0, 62.0, 50.0, 52.0, 52.0, 62.0, 56.0, 59.0, 62.0, 54.0, 50.0, 56.0, 54.0, 58.0, 58.0, 61.0, 53.0, 61.0, 65.0, 62.0, 59.0, 59.0, 58.0, 52.0, 58.0, 54.0, 59.0, 50.0, 62.0, 62.0, 54.0, 62.0, 59.0, 60.0, 58.0, 59.0, 56.0, 59.0, 50.0, 62.0, 58.0, 58.0, 58.0, 59.0, 56.0, 65.0, 58.0, 59.0, 54.0, 54.0, 56.0, 61.0, 61.0, 61.0, 59.0, 61.0, 62.0, 58.0, 62.0, 58.0, 58.0, 58.0, 59.0, 58.0, 50.0, 58.0, 62.0, 54.0, 55.0, 62.0, 53.0, 53.0, 61.0, 62.0, 62.0, 58.0, 62.0, 58.0, 59.0, 53.0, 61.0, 56.0, 62.0, 50.0, 60.0, 55.0, 58.0, 58.0, 58.0, 55.0, 62.0, 59.0, 59.0, 56.0, 60.0, 58.0, 58.0, 62.0, 61.0, 59.0, 58.0, 62.0, 59.0, 55.0, 55.0, 59.0, 62.0, 60.0, 62.0, 58.0, 59.0, 62.0, 60.0, 62.0, 54.0, 62.0, 58.0, 61.0, 61.0, 57.0, 53.0, 56.0, 58.0, 52.0, 62.0, 57.0, 58.0, 58.0, 59.0, 60.0, 60.0, 62.0, 62.0, 62.0, 57.0, 56.0, 62.0, 62.0, 61.0, 65.0, 60.0, 54.0, 56.0, 61.0, 55.0, 62.0, 58.0, 62.0, 61.0, 59.0, 56.0, 56.0, 62.0, 62.0, 62.0, 59.0, 62.0, 59.0, 58.0, 58.0, 62.0, 59.0, 62.0, 61.0, 62.0, 61.0, 58.0, 62.0, 62.0, 62.0, 58.0, 58.0, 61.0, 59.0, 62.0, 62.0, 58.0, 56.0, 62.0, 62.0, 62.0, 61.0, 57.0, 59.0, 59.0, 58.0, 59.0, 62.0, 50.0, 61.0, 62.0, 55.0, 62.0, 61.0, 54.0, 58.0, 62.0, 56.0, 59.0, 62.0, 62.0, 59.0, 55.0, 59.0, 62.0, 62.0, 62.0, 53.0, 56.0, 62.0, 61.0, 50.0, 55.0, 56.0, 62.0, 60.0, 55.0, 62.0, 59.0, 62.0, 62.0, 61.0, 59.0, 57.0, 62.0, 56.0, 58.0, 55.0, 53.0, 53.0, 58.0, 59.0, 58.0, 59.0, 57.0, 67.0, 62.0, 56.0, 55.0, 62.0, 60.0, 55.0, 61.0, 63.0, 62.0, 56.0, 61.0, 61.0, 62.0, 53.0, 58.0, 67.0, 58.0, 58.0, 57.0, 62.0, 59.0, 55.0, 56.0, 62.0, 60.0, 58.0, 58.0, 58.0, 56.0, 50.0, 67.0, 54.0, 55.0, 62.0, 58.0, 55.0, 59.0, 63.0, 61.0, 62.0, 59.0, 56.0, 62.0, 55.0, 62.0, 61.0, 65.0, 62.0, 61.0, 52.0, 56.0, 62.0, 52.0, 61.0, 55.0, 56.0, 62.0, 56.0, 58.0, 62.0, 62.0, 62.0, 62.0, 56.0, 56.0, 60.0, 55.0, 62.0, 54.0, 59.0, 59.0, 59.0, 62.0, 55.0, 65.0, 61.0, 56.0, 54.0, 62.0, 52.0, 62.0, 59.0, 58.0, 58.0, 58.0, 62.0, 59.0, 62.0, 61.0, 62.0, 58.0, 62.0, 61.0, 56.0, 62.0, 58.0, 61.0, 61.0, 56.0, 58.0, 61.0, 58.0, 62.0, 56.0, 61.0, 58.0, 62.0, 56.0, 59.0, 62.0, 61.0, 59.0, 59.0, 58.0, 56.0, 58.0, 54.0, 59.0, 56.0, 55.0, 60.0, 56.0, 55.0, 56.0, 62.0, 58.0, 58.0, 62.0, 50.0, 62.0, 55.0, 59.0, 61.0, 57.0, 58.0, 52.0, 60.0, 53.0, 62.0, 62.0, 56.0, 55.0, 59.0, 58.0, 62.0, 59.0, 62.0, 53.0, 50.0, 58.0, 59.0, 61.0, 62.0, 62.0, 61.0, 62.0, 53.0, 58.0, 62.0, 62.0, 56.0, 62.0, 58.0, 61.0, 59.0, 62.0, 65.0, 56.0, 59.0, 59.0, 54.0, 52.0, 62.0, 62.0, 62.0, 52.0, 62.0, 62.0, 61.0, 53.0, 58.0, 56.0, 59.0, 56.0, 58.0, 62.0, 56.0, 58.0, 54.0, 59.0, 59.0, 59.0, 58.0, 52.0, 59.0, 56.0, 58.0, 62.0, 62.0, 58.0, 62.0, 55.0, 62.0, 61.0, 52.0, 61.0, 52.0, 62.0, 57.0, 59.0, 61.0, 56.0, 63.0, 55.0, 62.0, 56.0, 58.0, 58.0, 55.0, 62.0, 58.0, 61.0, 62.0, 54.0, 53.0, 60.0, 62.0, 58.0, 54.0, 60.0, 62.0, 55.0, 58.0, 62.0, 55.0, 61.0, 62.0, 53.0, 50.0, 58.0, 58.0, 60.0, 62.0, 59.0, 62.0, 53.0, 59.0, 59.0, 59.0, 62.0, 52.0, 52.0, 56.0, 58.0, 55.0, 58.0, 61.0, 50.0, 53.0, 58.0, 55.0, 62.0, 58.0, 62.0, 62.0, 62.0, 60.0, 59.0, 59.0, 59.0, 58.0, 61.0, 58.0, 62.0, 58.0, 55.0, 59.0, 58.0, 58.0, 59.0, 61.0, 61.0, 58.0, 47.0, 58.0, 62.0, 62.0, 59.0, 62.0, 59.0, 60.0, 59.0, 65.0, 58.0, 54.0, 62.0, 58.0, 52.0, 59.0, 62.0, 58.0, 50.0, 60.0, 62.0, 58.0, 62.0, 58.0, 52.0, 58.0, 58.0, 62.0, 62.0, 59.0, 62.0, 62.0, 62.0, 50.0, 61.0, 61.0, 59.0, 61.0, 61.0, 58.0, 50.0, 62.0, 62.0, 60.0, 59.0, 62.0, 58.0, 59.0, 62.0, 59.0, 62.0, 61.0, 62.0, 55.0, 57.0, 56.0, 62.0, 61.0, 62.0, 52.0, 58.0, 63.0, 58.0, 62.0, 62.0, 60.0, 54.0, 58.0, 58.0, 65.0, 62.0, 56.0, 50.0, 55.0, 62.0, 58.0, 61.0, 62.0, 54.0, 62.0, 60.0, 62.0, 53.0, 59.0, 54.0, 54.0, 56.0, 50.0, 56.0, 61.0, 58.0, 62.0, 65.0, 61.0, 58.0, 61.0, 62.0, 67.0, 56.0, 60.0, 56.0, 62.0, 58.0, 62.0, 61.0, 58.0, 62.0, 56.0, 50.0, 62.0, 58.0, 62.0, 60.0, 61.0, 59.0, 59.0, 60.0, 62.0, 62.0, 62.0, 56.0, 61.0, 59.0, 62.0, 55.0, 59.0, 52.0, 59.0, 59.0, 62.0, 59.0, 54.0, 59.0, 59.0, 61.0, 58.0, 62.0, 60.0, 58.0, 61.0, 59.0, 53.0, 58.0, 61.0, 55.0, 61.0, 50.0, 59.0, 58.0, 59.0, 56.0, 55.0, 62.0, 62.0, 59.0, 58.0, 58.0, 59.0, 54.0, 56.0, 58.0, 58.0, 52.0, 60.0, 58.0, 67.0, 54.0, 58.0, 58.0, 56.0, 50.0, 56.0, 62.0, 59.0, 62.0, 62.0, 61.0, 61.0, 61.0, 59.0, 59.0, 62.0, 56.0, 55.0, 59.0, 59.0, 62.0, 62.0, 61.0, 59.0, 56.0, 61.0, 58.0, 56.0, 62.0, 55.0, 52.0, 56.0, 62.0, 62.0, 62.0, 62.0, 62.0, 54.0, 55.0, 61.0, 62.0, 56.0, 58.0, 59.0, 62.0, 62.0, 59.0, 59.0, 59.0, 62.0, 62.0, 55.0, 56.0, 59.0, 56.0, 62.0, 62.0, 59.0, 62.0, 54.0, 58.0, 62.0, 62.0, 61.0, 59.0, 58.0, 58.0, 56.0, 62.0, 62.0, 57.0, 59.0, 56.0, 53.0, 56.0, 52.0, 55.0, 58.0, 62.0, 62.0, 59.0, 58.0, 54.0, 58.0, 57.0, 61.0, 58.0, 58.0, 53.0, 54.0, 54.0, 59.0, 62.0, 55.0, 54.0, 62.0, 62.0, 62.0, 55.0, 62.0, 59.0, 62.0, 60.0, 55.0, 61.0, 54.0, 55.0, 60.0, 62.0, 62.0, 59.0, 54.0, 62.0, 58.0, 62.0, 52.0, 62.0, 62.0, 56.0, 61.0, 62.0, 58.0, 58.0, 58.0, 62.0, 61.0, 53.0, 63.0, 59.0, 52.0, 60.0, 62.0, 58.0, 62.0, 60.0, 58.0, 62.0, 55.0, 57.0, 58.0, 58.0, 55.0, 59.0, 56.0, 62.0, 58.0, 62.0, 61.0, 58.0, 61.0, 54.0, 55.0, 56.0, 54.0, 62.0, 53.0, 54.0, 56.0, 57.0, 62.0, 58.0, 59.0, 61.0, 62.0, 62.0, 62.0, 62.0, 54.0, 62.0, 60.0, 50.0, 58.0, 53.0, 55.0, 65.0, 62.0, 56.0, 55.0, 65.0, 58.0, 62.0, 59.0, 60.0, 56.0, 62.0, 67.0, 59.0, 56.0, 60.0, 62.0, 62.0, 59.0, 52.0, 65.0, 59.0, 58.0, 55.0, 61.0, 58.0, 61.0, 58.0, 61.0, 62.0, 56.0, 62.0, 62.0, 60.0, 47.0, 62.0, 62.0, 52.0, 52.0, 54.0, 62.0, 67.0, 54.0, 58.0, 60.0, 58.0, 53.0, 60.0, 62.0, 62.0, 54.0, 53.0, 60.0, 62.0, 55.0, 58.0, 58.0, 53.0, 62.0, 50.0, 57.0, 58.0, 62.0, 54.0, 62.0, 62.0, 62.0, 58.0, 61.0, 56.0, 62.0, 52.0, 52.0, 59.0, 58.0, 59.0, 62.0, 61.0, 58.0, 55.0, 54.0, 62.0, 52.0, 59.0, 61.0, 61.0, 62.0, 61.0, 62.0, 53.0, 56.0, 58.0, 59.0, 59.0, 62.0, 62.0, 62.0, 62.0, 62.0, 62.0, 62.0, 62.0, 62.0, 62.0, 62.0, 62.0, 62.0, 54.0, 62.0, 62.0, 61.0, 61.0, 62.0, 54.0, 59.0, 56.0, 59.0, 62.0, 59.0, 62.0, 62.0, 55.0, 62.0, 58.0, 62.0, 59.0, 52.0, 58.0, 59.0, 58.0, 62.0, 58.0, 62.0, 55.0, 54.0, 62.0, 62.0, 62.0, 62.0, 62.0, 62.0, 62.0, 59.0, 57.0, 59.0, 62.0, 62.0, 61.0, 62.0, 62.0, 58.0, 61.0, 62.0, 59.0, 55.0, 59.0, 55.0, 62.0, 62.0, 62.0, 62.0, 58.0, 61.0, 62.0, 62.0, 58.0, 62.0, 62.0, 60.0, 62.0, 62.0, 54.0, 62.0, 62.0, 62.0, 59.0, 62.0, 61.0, 62.0, 62.0, 62.0, 62.0, 58.0, 62.0, 62.0, 62.0, 60.0, 53.0, 55.0, 62.0, 58.0, 54.0, 56.0, 62.0, 62.0, 50.0, 55.0, 62.0, 57.0, 55.0, 56.0, 61.0, 58.0, 56.0, 62.0, 47.0, 62.0, 62.0, 61.0, 56.0, 56.0, 62.0, 62.0, 59.0, 52.0, 59.0, 59.0, 58.0, 61.0, 61.0, 62.0, 58.0, 52.0, 55.0, 62.0, 53.0, 62.0, 55.0, 59.0, 62.0, 55.0, 52.0, 62.0, 62.0, 56.0, 52.0, 62.0, 57.0, 62.0, 62.0, 52.0, 62.0, 53.0, 59.0, 62.0, 61.0, 53.0, 58.0, 55.0, 62.0, 55.0, 61.0, 56.0, 52.0, 57.0, 56.0, 61.0, 54.0, 62.0, 56.0, 54.0, 62.0, 62.0, 56.0, 59.0, 59.0, 58.0, 58.0, 58.0, 57.0, 60.0, 54.0, 62.0, 54.0, 59.0, 58.0, 50.0, 54.0, 55.0, 54.0, 60.0, 58.0, 53.0, 55.0, 61.0, 58.0, 62.0, 50.0, 62.0, 62.0, 56.0, 58.0, 58.0, 55.0, 62.0, 55.0, 58.0, 58.0, 62.0, 62.0, 62.0, 62.0, 59.0, 61.0, 61.0, 58.0, 59.0, 62.0, 62.0, 55.0, 62.0, 55.0, 62.0, 59.0, 65.0, 62.0, 62.0, 54.0, 58.0, 56.0, 56.0, 59.0, 55.0, 56.0, 58.0, 62.0, 62.0, 61.0, 56.0, 56.0, 60.0, 62.0, 59.0, 59.0, 61.0, 54.0, 60.0, 60.0, 62.0, 58.0, 61.0, 62.0, 62.0, 55.0, 52.0, 67.0, 57.0, 55.0, 63.0, 61.0, 62.0, 62.0, 56.0, 52.0, 61.0, 62.0, 62.0, 50.0, 54.0, 59.0, 59.0, 59.0, 62.0, 52.0, 62.0, 58.0, 57.0, 61.0, 61.0, 57.0, 59.0, 56.0, 62.0, 62.0, 59.0, 61.0, 55.0, 62.0, 61.0, 61.0, 56.0, 59.0, 58.0, 56.0, 62.0, 62.0, 59.0, 62.0, 62.0, 62.0, 62.0, 58.0, 62.0, 56.0, 62.0, 62.0, 58.0, 58.0, 61.0, 62.0, 55.0, 62.0, 62.0, 62.0, 58.0, 50.0, 54.0, 62.0, 62.0, 61.0, 62.0, 56.0, 61.0, 54.0, 62.0, 56.0, 62.0, 62.0, 62.0, 55.0, 59.0, 62.0, 62.0, 62.0, 58.0, 61.0, 58.0, 59.0, 61.0, 55.0, 58.0, 54.0, 58.0, 62.0, 62.0, 62.0, 61.0, 59.0, 62.0, 65.0, 58.0, 55.0, 62.0, 62.0, 59.0, 62.0, 55.0, 60.0, 60.0, 58.0, 62.0, 62.0, 61.0, 59.0, 54.0, 62.0, 62.0, 62.0, 54.0, 59.0, 62.0, 62.0, 62.0, 58.0, 62.0, 62.0, 56.0, 61.0, 62.0, 59.0, 59.0, 62.0, 59.0, 59.0, 62.0, 53.0, 54.0, 61.0, 59.0, 62.0, 56.0, 61.0, 59.0, 62.0, 56.0, 62.0, 62.0, 62.0, 62.0, 59.0, 58.0, 57.0, 56.0, 62.0, 62.0, 62.0, 62.0, 62.0, 62.0, 55.0, 62.0, 60.0, 59.0, 60.0, 58.0, 59.0, 57.0, 62.0, 61.0, 58.0, 62.0, 62.0, 59.0, 62.0, 62.0, 62.0, 62.0, 59.0, 62.0, 56.0, 62.0, 58.0, 59.0, 58.0, 62.0, 62.0, 62.0, 62.0, 55.0, 62.0, 59.0, 62.0, 62.0, 56.0, 57.0, 52.0, 59.0, 62.0, 65.0, 56.0, 62.0, 59.0, 61.0, 52.0, 58.0, 62.0, 56.0, 62.0, 58.0, 59.0, 62.0, 59.0, 50.0, 59.0, 58.0, 59.0, 55.0, 55.0, 62.0, 54.0, 56.0, 62.0, 53.0, 62.0, 62.0, 60.0, 62.0, 62.0, 56.0, 58.0, 62.0, 62.0, 56.0, 62.0, 67.0, 62.0, 62.0, 59.0, 53.0, 52.0, 57.0, 62.0, 62.0, 62.0, 47.0, 59.0, 62.0, 62.0, 58.0, 62.0, 54.0, 62.0, 62.0, 60.0, 61.0, 52.0, 59.0, 62.0, 61.0, 61.0, 62.0, 62.0, 58.0, 56.0, 60.0, 58.0, 53.0, 55.0, 54.0, 62.0, 58.0, 62.0, 62.0, 50.0, 62.0, 58.0, 62.0, 62.0, 58.0, 56.0, 56.0, 59.0, 50.0, 59.0, 58.0, 57.0, 62.0, 58.0, 62.0, 62.0, 59.0, 58.0, 62.0, 62.0, 62.0, 62.0, 62.0, 55.0, 62.0, 59.0, 62.0, 62.0, 59.0, 56.0, 55.0, 54.0, 50.0, 62.0, 55.0, 55.0, 61.0, 50.0, 58.0, 62.0, 61.0, 55.0, 62.0, 56.0, 50.0, 62.0, 52.0, 62.0, 62.0, 62.0, 58.0, 62.0, 59.0, 62.0, 61.0, 56.0, 59.0, 62.0, 58.0, 58.0, 59.0, 59.0, 58.0, 62.0, 62.0, 59.0, 62.0, 59.0, 53.0, 62.0, 62.0, 59.0, 62.0, 62.0, 56.0, 62.0, 55.0, 54.0, 54.0, 62.0, 62.0, 58.0, 62.0, 62.0, 62.0, 62.0, 57.0, 62.0, 58.0, 62.0, 62.0, 56.0, 62.0, 56.0, 58.0, 62.0, 55.0, 62.0, 52.0, 57.0, 61.0, 62.0, 58.0, 62.0, 62.0, 59.0, 62.0, 62.0, 62.0, 61.0, 55.0, 62.0, 61.0, 61.0, 61.0, 62.0, 62.0, 62.0, 56.0, 56.0, 58.0, 61.0, 62.0, 62.0, 62.0, 58.0, 56.0, 62.0, 62.0, 58.0, 62.0, 62.0, 62.0, 59.0, 58.0, 57.0, 58.0, 55.0, 56.0, 62.0, 54.0, 62.0, 58.0, 50.0, 62.0, 55.0, 62.0, 58.0, 62.0, 58.0, 59.0, 54.0, 62.0, 61.0, 62.0, 58.0, 61.0, 62.0, 62.0, 62.0, 62.0, 59.0, 58.0, 62.0, 59.0, 59.0, 58.0, 56.0, 62.0, 59.0, 58.0, 62.0, 62.0, 60.0, 61.0, 54.0, 62.0, 62.0, 62.0, 56.0, 62.0, 56.0, 59.0, 61.0, 58.0, 62.0, 59.0, 52.0, 62.0, 59.0, 56.0, 62.0, 59.0, 55.0, 54.0, 59.0, 55.0, 62.0, 62.0, 62.0, 62.0, 62.0, 62.0, 56.0, 58.0, 62.0, 62.0, 62.0, 59.0, 58.0, 60.0, 62.0, 58.0, 59.0, 58.0, 58.0, 62.0, 62.0, 62.0, 59.0, 62.0, 58.0, 62.0, 59.0, 62.0, 53.0, 52.0, 62.0, 58.0, 62.0, 58.0, 61.0, 55.0, 62.0, 54.0, 55.0, 62.0, 55.0, 62.0, 61.0, 61.0, 62.0, 61.0, 62.0, 61.0, 61.0, 61.0, 61.0, 62.0, 61.0, 61.0, 62.0, 61.0, 62.0, 62.0, 61.0, 61.0, 62.0, 62.0, 61.0, 61.0, 62.0, 62.0, 61.0, 61.0, 62.0, 61.0, 62.0, 62.0, 62.0, 62.0, 61.0, 62.0, 61.0, 62.0, 62.0, 61.0, 62.0, 61.0, 61.0, 62.0, 62.0, 62.0, 61.0, 62.0, 62.0, 62.0, 61.0, 54.0, 61.0, 58.0, 62.0, 52.0, 56.0, 59.0, 58.0, 62.0, 62.0, 53.0, 54.0, 54.0, 54.0, 54.0, 62.0, 50.0, 61.0, 58.0, 56.0, 53.0, 61.0, 60.0, 50.0, 65.0, 61.0, 59.0, 54.0, 58.0, 61.0, 59.0, 59.0, 50.0, 54.0, 55.0, 59.0, 61.0, 62.0, 56.0, 50.0, 55.0, 60.0, 61.0, 55.0, 62.0, 54.0, 58.0, 58.0, 56.0, 53.0, 62.0, 54.0, 62.0, 53.0, 59.0, 62.0, 58.0, 54.0, 59.0, 53.0, 61.0, 55.0, 54.0, 54.0, 54.0, 55.0, 55.0, 59.0, 59.0, 62.0, 58.0, 58.0, 59.0, 62.0, 59.0, 61.0, 53.0, 53.0, 55.0, 61.0, 53.0, 58.0, 67.0, 59.0, 62.0, 56.0, 62.0, 50.0, 63.0, 61.0, 62.0, 50.0, 56.0, 62.0, 52.0, 62.0, 58.0, 55.0, 61.0, 62.0, 50.0, 62.0, 56.0, 53.0, 59.0, 62.0, 62.0, 57.0, 58.0, 61.0, 61.0, 58.0, 59.0, 53.0, 62.0, 59.0, 54.0, 59.0, 58.0, 60.0, 56.0, 58.0, 59.0, 53.0, 58.0, 58.0, 59.0, 55.0, 47.0, 54.0, 62.0, 55.0, 62.0, 62.0, 53.0, 54.0, 62.0, 62.0, 62.0, 58.0, 58.0, 56.0, 62.0, 60.0, 54.0, 47.0, 59.0, 59.0, 53.0, 58.0, 59.0, 59.0, 50.0, 62.0, 58.0, 59.0, 62.0, 62.0, 62.0, 57.0, 53.0, 62.0, 62.0, 62.0, 62.0, 52.0, 58.0, 54.0, 62.0, 53.0, 55.0, 62.0, 62.0, 54.0, 59.0, 61.0, 55.0, 61.0, 58.0, 58.0, 62.0, 53.0, 58.0, 62.0, 56.0, 62.0, 61.0, 59.0, 53.0, 53.0, 56.0, 62.0, 58.0, 61.0, 58.0, 52.0, 62.0, 53.0, 54.0, 62.0, 62.0, 61.0, 56.0, 53.0, 62.0, 55.0, 59.0, 62.0, 52.0, 61.0, 53.0, 59.0, 62.0, 58.0, 55.0, 59.0, 55.0, 55.0, 58.0, 59.0, 56.0, 62.0, 61.0, 59.0, 55.0, 54.0, 61.0, 61.0, 61.0, 58.0, 53.0, 59.0, 58.0, 58.0, 58.0, 62.0, 61.0, 52.0, 59.0, 59.0, 58.0, 55.0, 55.0, 62.0, 61.0, 60.0, 61.0, 58.0, 61.0, 56.0, 62.0, 54.0, 52.0, 54.0, 62.0, 60.0, 62.0, 58.0, 61.0, 56.0, 60.0, 61.0, 62.0, 52.0, 62.0, 62.0, 61.0, 58.0, 56.0, 62.0, 59.0, 54.0, 50.0, 53.0, 59.0, 62.0, 56.0, 62.0, 59.0, 54.0, 50.0, 54.0, 55.0, 62.0, 58.0, 62.0, 53.0, 61.0, 61.0, 62.0, 55.0, 62.0, 57.0, 54.0, 55.0, 61.0, 55.0, 58.0, 56.0, 58.0, 56.0, 55.0, 58.0, 55.0, 58.0, 58.0, 62.0, 58.0, 62.0, 59.0, 53.0, 55.0, 56.0, 61.0, 62.0, 59.0, 62.0, 62.0, 59.0, 54.0, 59.0, 52.0, 62.0, 62.0, 58.0, 59.0, 61.0, 62.0, 58.0, 55.0, 65.0, 62.0, 62.0, 62.0, 62.0, 62.0, 60.0, 58.0, 59.0, 61.0, 55.0, 67.0, 63.0, 58.0, 53.0, 52.0, 62.0, 54.0, 56.0, 62.0, 62.0, 62.0, 58.0, 60.0, 62.0, 58.0, 62.0, 56.0, 56.0, 56.0, 58.0, 56.0, 55.0, 62.0, 60.0, 62.0, 54.0, 62.0, 52.0, 58.0, 50.0, 62.0, 55.0, 60.0, 52.0, 50.0, 53.0, 62.0, 53.0, 58.0, 62.0, 55.0, 53.0, 61.0, 54.0, 62.0, 62.0, 56.0, 53.0, 53.0, 58.0, 59.0, 56.0, 56.0, 62.0, 62.0, 62.0, 58.0, 58.0, 53.0, 54.0, 58.0, 58.0, 62.0, 62.0, 62.0, 62.0, 62.0, 58.0, 59.0, 62.0, 58.0, 58.0, 59.0, 62.0, 53.0, 62.0, 59.0, 58.0, 54.0, 59.0, 54.0, 62.0, 60.0, 58.0, 61.0, 61.0, 55.0, 53.0, 58.0, 58.0, 56.0, 52.0, 52.0, 52.0, 47.0, 55.0, 58.0, 53.0, 60.0, 62.0, 62.0, 54.0, 62.0, 56.0, 53.0, 59.0, 54.0, 58.0, 53.0, 61.0, 58.0, 56.0, 56.0, 55.0, 47.0, 53.0, 56.0, 53.0, 62.0, 60.0, 56.0, 62.0, 62.0, 55.0, 55.0, 59.0, 53.0, 58.0, 62.0, 59.0, 60.0, 58.0, 55.0, 61.0, 53.0, 60.0, 55.0, 61.0, 61.0, 61.0, 53.0, 59.0, 62.0, 62.0, 54.0, 53.0, 61.0, 59.0, 56.0, 56.0, 56.0, 56.0, 62.0, 60.0, 61.0, 58.0, 65.0, 53.0, 62.0, 62.0, 52.0, 61.0, 54.0, 62.0, 59.0, 62.0, 56.0, 59.0, 55.0, 54.0, 62.0, 59.0, 59.0, 52.0, 60.0, 62.0, 55.0, 62.0, 62.0, 56.0, 59.0, 61.0, 62.0, 62.0, 58.0, 58.0, 55.0, 62.0, 59.0, 62.0, 58.0, 62.0, 62.0, 54.0, 47.0, 62.0, 60.0, 56.0, 62.0, 60.0, 54.0, 62.0, 61.0, 58.0, 54.0, 62.0, 58.0, 58.0, 58.0, 62.0, 50.0, 59.0, 58.0, 55.0, 55.0, 58.0, 59.0, 59.0, 58.0, 59.0, 63.0, 63.0, 62.0, 60.0, 57.0, 58.0, 54.0, 58.0, 59.0, 59.0, 55.0, 59.0, 54.0, 60.0, 54.0, 59.0, 56.0, 53.0, 47.0, 54.0, 54.0, 61.0, 55.0, 61.0, 53.0, 52.0, 56.0, 58.0, 56.0, 54.0, 50.0, 59.0, 59.0, 55.0, 59.0, 59.0, 61.0, 58.0, 53.0, 59.0, 63.0, 58.0, 62.0, 59.0, 58.0, 62.0, 50.0, 58.0, 55.0, 53.0, 55.0, 62.0, 58.0, 54.0, 62.0, 58.0, 62.0, 62.0, 62.0, 58.0, 56.0, 62.0, 54.0, 58.0, 58.0, 55.0, 55.0, 54.0, 59.0, 54.0, 52.0, 61.0, 55.0, 58.0, 47.0, 59.0, 58.0, 55.0, 60.0, 62.0, 62.0, 62.0, 62.0, 62.0, 55.0, 55.0, 62.0, 56.0, 55.0, 55.0, 62.0, 56.0, 62.0, 53.0, 58.0, 55.0, 58.0, 58.0, 47.0, 65.0, 60.0, 53.0, 62.0, 62.0, 53.0, 62.0, 58.0, 60.0, 59.0, 56.0, 58.0, 50.0, 65.0, 53.0, 56.0, 62.0, 54.0, 61.0, 55.0, 59.0, 54.0, 54.0, 59.0, 55.0, 56.0, 62.0, 54.0, 56.0, 62.0, 57.0, 54.0, 60.0, 50.0, 58.0, 58.0, 61.0, 62.0, 59.0, 62.0, 59.0, 62.0, 62.0, 62.0, 59.0, 59.0, 58.0, 59.0, 59.0, 54.0, 62.0, 53.0, 54.0, 62.0, 59.0, 54.0, 62.0, 62.0, 61.0, 58.0, 56.0, 59.0, 58.0, 61.0, 56.0, 58.0, 55.0, 57.0, 61.0, 54.0, 55.0, 59.0, 62.0, 55.0, 58.0, 61.0, 61.0, 62.0, 56.0, 58.0, 58.0, 59.0, 61.0, 55.0, 56.0, 58.0, 61.0, 59.0, 56.0, 58.0, 59.0, 59.0, 55.0, 62.0, 63.0, 55.0, 59.0, 58.0, 61.0, 58.0, 59.0, 60.0, 58.0, 63.0, 54.0, 59.0, 60.0, 52.0, 56.0, 53.0, 56.0, 60.0, 53.0, 56.0, 55.0, 62.0, 56.0, 62.0, 54.0, 54.0, 62.0, 67.0, 62.0, 62.0, 57.0, 59.0, 58.0, 54.0, 58.0, 53.0, 59.0, 54.0, 62.0, 50.0, 62.0, 59.0, 56.0, 59.0, 54.0, 58.0, 62.0, 62.0, 62.0, 62.0, 59.0, 54.0, 61.0, 58.0, 56.0, 59.0, 57.0, 55.0, 54.0, 58.0, 50.0, 54.0, 56.0, 55.0, 54.0, 62.0, 63.0, 62.0, 61.0, 62.0, 62.0, 62.0, 62.0, 59.0, 61.0, 62.0, 54.0, 47.0, 58.0, 56.0, 59.0, 54.0, 55.0, 53.0, 60.0, 58.0, 65.0, 62.0, 56.0, 59.0, 59.0, 62.0, 55.0, 61.0, 62.0, 59.0, 61.0, 62.0, 62.0, 54.0, 54.0, 62.0, 58.0, 55.0, 59.0, 58.0, 53.0, 61.0, 54.0, 61.0, 59.0, 59.0, 58.0, 47.0, 54.0, 62.0, 53.0, 54.0, 53.0, 53.0, 54.0, 59.0, 62.0, 65.0, 56.0, 62.0, 62.0, 62.0, 58.0, 62.0, 53.0, 55.0, 59.0, 54.0, 58.0, 58.0, 53.0, 59.0, 57.0, 55.0, 58.0, 50.0, 53.0, 52.0, 59.0, 62.0, 59.0, 59.0, 59.0, 58.0, 59.0, 54.0, 58.0, 55.0, 58.0, 58.0, 55.0, 52.0, 55.0, 58.0, 59.0, 55.0, 62.0, 62.0, 62.0, 65.0, 55.0, 55.0, 57.0, 57.0, 54.0, 58.0, 56.0, 59.0, 47.0, 56.0, 54.0, 55.0, 55.0, 54.0, 52.0, 56.0, 62.0, 62.0, 55.0, 55.0, 62.0, 62.0, 50.0, 55.0, 62.0, 55.0, 59.0, 53.0, 55.0, 58.0, 62.0, 54.0, 54.0, 62.0, 50.0, 58.0, 54.0, 53.0, 59.0, 58.0, 62.0, 58.0, 59.0, 65.0, 62.0, 65.0, 58.0, 59.0, 54.0, 50.0, 59.0, 60.0, 58.0, 62.0, 59.0, 53.0, 62.0, 62.0, 58.0, 58.0, 58.0, 54.0, 62.0, 55.0, 54.0, 55.0, 58.0, 53.0, 55.0, 56.0, 58.0, 50.0, 47.0, 58.0, 62.0, 58.0, 59.0, 58.0, 59.0, 50.0, 58.0, 65.0, 50.0, 62.0, 62.0, 65.0, 54.0, 61.0, 59.0, 55.0, 58.0, 55.0, 62.0, 61.0, 62.0, 62.0, 62.0, 62.0, 62.0, 62.0, 61.0, 61.0, 61.0, 62.0, 62.0, 61.0, 62.0, 61.0, 61.0, 61.0, 62.0, 62.0, 62.0, 61.0, 61.0, 62.0, 62.0, 62.0, 62.0, 62.0, 61.0, 62.0, 62.0, 62.0, 61.0, 61.0, 62.0, 62.0, 61.0, 62.0, 62.0, 62.0, 62.0, 61.0, 62.0, 62.0, 61.0, 62.0, 62.0, 62.0, 62.0, 62.0, 62.0, 61.0, 62.0, 61.0, 62.0, 61.0, 61.0, 62.0, 62.0, 62.0, 61.0, 61.0, 61.0, 61.0, 61.0, 61.0, 61.0, 61.0, 62.0, 62.0, 62.0, 61.0, 62.0, 62.0, 61.0, 61.0, 61.0, 62.0, 62.0, 62.0, 62.0, 62.0, 61.0, 61.0, 61.0, 61.0, 61.0, 61.0, 61.0, 61.0, 61.0, 61.0, 61.0, 61.0, 62.0, 61.0, 61.0, 61.0, 61.0, 62.0, 61.0, 61.0, 62.0, 61.0, 61.0, 61.0, 61.0, 62.0, 62.0, 61.0, 61.0, 61.0, 61.0, 61.0, 61.0, 61.0, 62.0, 62.0, 62.0, 61.0, 61.0, 62.0, 62.0, 62.0, 62.0, 61.0, 62.0, 62.0, 62.0, 61.0, 61.0, 62.0, 61.0, 62.0, 62.0, 61.0, 62.0, 62.0, 61.0, 61.0, 61.0, 61.0, 61.0, 61.0, 61.0, 62.0, 61.0, 61.0, 61.0, 61.0, 62.0, 62.0, 61.0, 62.0, 62.0, 61.0, 61.0, 61.0, 61.0, 61.0, 61.0, 62.0, 62.0, 61.0, 61.0, 62.0, 61.0, 61.0, 62.0, 62.0, 61.0, 61.0, 62.0, 61.0, 61.0, 61.0, 62.0, 61.0, 62.0, 61.0, 59.0, 58.0, 62.0, 62.0, 62.0, 62.0, 55.0, 60.0, 53.0, 58.0, 53.0, 62.0, 62.0, 62.0, 62.0, 58.0, 59.0, 50.0, 56.0, 58.0, 61.0, 62.0, 58.0, 58.0, 59.0, 52.0, 61.0, 59.0, 62.0, 62.0, 63.0, 59.0, 53.0, 61.0, 62.0, 53.0, 62.0, 61.0, 55.0, 62.0, 62.0, 59.0, 59.0, 53.0, 62.0, 58.0, 47.0, 58.0, 59.0, 62.0, 61.0, 58.0, 62.0, 56.0, 58.0, 58.0, 56.0, 55.0, 55.0, 60.0, 62.0, 61.0, 62.0, 61.0, 61.0, 62.0, 62.0, 58.0, 54.0, 62.0, 62.0, 59.0, 62.0, 56.0, 52.0, 62.0, 62.0, 62.0, 61.0, 58.0, 54.0, 54.0, 50.0, 62.0, 56.0, 50.0, 61.0, 59.0, 53.0, 54.0, 54.0, 61.0, 56.0, 58.0, 58.0, 60.0, 54.0, 57.0, 54.0, 54.0, 54.0, 52.0, 65.0, 50.0, 59.0, 58.0, 56.0, 58.0, 62.0, 56.0, 62.0, 62.0, 58.0, 62.0, 55.0, 59.0, 60.0, 62.0, 61.0, 56.0, 54.0, 59.0, 62.0, 58.0, 62.0, 55.0, 52.0, 62.0, 62.0, 60.0, 58.0, 58.0, 59.0, 56.0, 62.0, 61.0, 62.0, 58.0, 61.0, 62.0, 58.0, 52.0, 62.0, 54.0, 58.0, 58.0, 56.0, 62.0, 52.0, 62.0, 58.0, 61.0, 62.0, 62.0, 60.0, 55.0, 62.0, 59.0, 62.0, 59.0, 57.0, 56.0, 62.0, 57.0, 62.0, 61.0, 56.0, 58.0, 55.0, 50.0, 58.0, 58.0, 58.0, 62.0, 56.0, 62.0, 62.0, 61.0, 56.0, 62.0, 65.0, 50.0, 62.0, 62.0, 62.0, 50.0, 53.0, 54.0, 53.0, 61.0, 62.0, 58.0, 59.0, 54.0, 58.0, 58.0, 62.0, 58.0, 65.0, 50.0, 62.0, 62.0, 62.0, 56.0, 62.0, 58.0, 54.0, 58.0, 58.0, 61.0, 62.0, 55.0, 61.0, 62.0, 62.0, 55.0, 56.0, 50.0, 62.0, 58.0, 61.0, 57.0, 60.0, 62.0, 56.0, 62.0, 60.0, 60.0, 62.0, 62.0, 61.0, 59.0, 62.0, 50.0, 58.0, 62.0, 62.0, 59.0, 60.0, 53.0, 62.0, 62.0, 58.0, 50.0, 62.0, 60.0, 56.0, 58.0, 56.0, 58.0, 62.0, 61.0, 62.0, 62.0, 56.0, 56.0, 62.0, 55.0, 50.0, 65.0, 62.0, 62.0, 58.0, 55.0, 56.0, 59.0, 62.0, 62.0, 62.0, 53.0, 62.0, 55.0, 61.0, 62.0, 58.0, 54.0, 59.0, 62.0, 58.0, 58.0, 62.0, 58.0, 61.0, 54.0, 60.0, 56.0, 62.0, 57.0, 62.0, 58.0, 55.0, 61.0, 58.0, 62.0, 56.0, 53.0, 59.0, 62.0, 62.0, 54.0, 62.0, 62.0, 61.0, 62.0, 58.0, 55.0, 59.0, 58.0, 62.0, 62.0, 59.0, 62.0, 62.0, 62.0, 62.0, 56.0, 53.0, 62.0, 62.0, 62.0, 62.0, 60.0, 62.0, 58.0, 61.0, 58.0, 61.0, 58.0, 62.0, 54.0, 62.0, 62.0, 58.0, 60.0, 62.0, 62.0, 58.0, 58.0, 54.0, 62.0, 56.0, 62.0, 58.0, 53.0, 58.0, 62.0, 52.0, 59.0, 56.0, 61.0, 59.0, 58.0, 55.0, 58.0, 62.0, 62.0, 55.0, 59.0, 52.0, 54.0, 62.0, 50.0, 59.0, 62.0, 61.0, 62.0, 53.0, 58.0, 58.0, 56.0, 62.0, 62.0, 59.0, 62.0, 62.0, 62.0, 59.0, 61.0, 62.0, 62.0, 60.0, 58.0, 58.0, 62.0, 58.0, 62.0, 56.0, 58.0, 62.0, 62.0, 62.0, 58.0, 58.0, 58.0, 58.0, 62.0, 56.0, 50.0, 58.0, 59.0, 58.0, 61.0, 62.0, 62.0, 61.0, 62.0, 58.0, 59.0, 62.0, 62.0, 60.0, 58.0, 62.0, 61.0, 59.0, 62.0, 59.0, 60.0, 56.0, 54.0, 62.0, 59.0, 58.0, 56.0, 62.0, 61.0, 56.0, 56.0, 62.0, 62.0, 62.0, 62.0, 62.0, 62.0, 53.0, 56.0, 62.0, 59.0, 62.0, 62.0, 58.0, 62.0, 62.0, 56.0, 56.0, 58.0, 58.0, 62.0, 62.0, 62.0, 60.0, 62.0, 60.0, 56.0, 58.0, 56.0, 62.0, 59.0, 62.0, 54.0, 62.0, 58.0, 62.0, 62.0, 58.0, 62.0, 59.0, 55.0, 58.0, 56.0, 62.0, 58.0, 62.0, 62.0, 59.0, 58.0, 61.0, 59.0, 61.0, 63.0, 61.0, 58.0, 58.0, 59.0, 62.0, 58.0, 58.0, 62.0, 56.0, 62.0, 58.0, 57.0, 62.0, 62.0, 62.0, 60.0, 50.0, 54.0, 57.0, 61.0, 56.0, 60.0, 62.0, 62.0, 61.0, 62.0, 62.0, 62.0, 56.0, 61.0, 59.0, 62.0, 59.0, 55.0, 60.0, 52.0, 62.0, 59.0, 58.0, 62.0, 53.0, 59.0, 53.0, 62.0, 62.0, 57.0, 62.0, 54.0, 52.0, 62.0, 61.0, 59.0, 62.0, 62.0, 62.0, 61.0, 58.0, 62.0, 59.0, 50.0, 62.0, 62.0, 59.0, 62.0, 62.0, 62.0, 59.0, 62.0, 55.0, 62.0, 61.0, 58.0, 50.0, 57.0, 59.0, 50.0, 62.0, 62.0, 54.0, 58.0, 61.0, 55.0, 56.0, 56.0, 56.0, 62.0, 54.0, 53.0, 58.0, 62.0, 62.0, 62.0, 58.0, 59.0, 52.0, 62.0, 62.0, 52.0, 61.0, 62.0, 62.0, 62.0, 61.0, 56.0, 56.0, 62.0, 62.0, 59.0, 62.0, 59.0, 58.0, 62.0, 62.0, 56.0, 55.0, 58.0, 47.0, 58.0, 62.0, 62.0, 62.0, 62.0, 47.0, 54.0, 56.0, 59.0, 62.0, 62.0, 59.0, 56.0, 58.0, 55.0, 61.0, 58.0, 59.0, 61.0, 58.0, 62.0, 62.0, 50.0, 50.0, 62.0, 62.0, 58.0, 59.0, 62.0, 62.0, 61.0, 55.0, 59.0, 55.0, 62.0, 58.0, 59.0, 62.0, 62.0, 55.0, 60.0, 62.0, 59.0, 52.0, 61.0, 56.0, 61.0, 60.0, 62.0, 62.0, 65.0, 61.0, 55.0, 59.0, 58.0, 65.0, 50.0, 56.0, 65.0, 54.0, 62.0, 62.0, 58.0, 62.0, 62.0, 58.0, 56.0, 62.0, 62.0, 56.0, 58.0, 62.0, 61.0, 56.0, 62.0, 62.0, 65.0, 63.0, 56.0, 56.0, 61.0, 52.0, 60.0, 58.0, 62.0, 65.0, 58.0, 67.0, 59.0, 58.0, 62.0, 62.0, 61.0, 62.0, 62.0, 62.0, 60.0, 61.0, 59.0, 56.0, 61.0, 55.0, 55.0, 58.0, 54.0, 60.0, 58.0, 62.0, 62.0, 61.0, 55.0, 62.0, 58.0, 62.0, 58.0, 53.0, 62.0, 62.0, 59.0, 62.0, 62.0, 62.0, 58.0, 62.0, 47.0, 55.0, 62.0, 62.0, 62.0, 62.0, 53.0, 55.0, 55.0, 59.0, 65.0, 62.0, 61.0, 59.0, 61.0, 62.0, 58.0, 58.0, 47.0, 53.0, 60.0, 55.0, 62.0, 53.0, 54.0, 57.0, 53.0, 62.0, 59.0, 56.0, 52.0, 62.0, 58.0, 56.0, 52.0, 62.0, 62.0, 62.0, 61.0, 61.0, 61.0, 58.0, 62.0, 56.0, 58.0, 62.0, 56.0, 62.0, 62.0, 60.0, 59.0, 60.0, 62.0, 62.0, 59.0, 58.0, 61.0, 62.0, 57.0, 58.0, 62.0, 54.0, 62.0, 61.0, 62.0, 56.0, 62.0, 62.0, 62.0, 55.0, 62.0, 62.0, 56.0, 56.0, 57.0, 62.0, 50.0, 59.0, 58.0, 62.0, 56.0, 56.0, 62.0, 59.0, 52.0, 62.0, 61.0, 62.0, 61.0, 58.0, 58.0, 62.0, 59.0, 62.0, 60.0, 62.0, 58.0, 60.0, 62.0, 54.0, 56.0, 63.0, 62.0, 62.0, 62.0, 59.0, 61.0, 59.0, 59.0, 62.0, 54.0, 61.0, 50.0, 62.0, 56.0, 62.0, 56.0, 58.0, 53.0, 61.0, 56.0, 62.0, 50.0, 53.0, 58.0, 62.0, 60.0, 56.0, 62.0, 52.0, 62.0, 58.0, 62.0, 62.0, 62.0, 54.0, 59.0, 58.0, 65.0, 50.0, 56.0, 54.0, 61.0, 62.0, 59.0, 58.0, 61.0, 62.0, 62.0, 62.0, 65.0, 62.0, 65.0, 58.0, 54.0, 62.0, 59.0, 57.0, 59.0, 61.0, 62.0, 59.0, 61.0, 62.0, 59.0, 62.0, 54.0, 58.0, 62.0, 61.0, 61.0, 58.0, 56.0, 58.0, 59.0, 56.0, 62.0, 62.0, 58.0, 59.0, 55.0, 62.0, 60.0, 62.0, 56.0, 58.0, 62.0, 55.0, 62.0, 60.0, 56.0, 56.0, 62.0, 59.0, 62.0, 58.0, 62.0, 62.0, 56.0, 61.0, 62.0, 58.0, 62.0, 65.0, 54.0, 54.0, 61.0, 56.0, 53.0, 62.0, 58.0, 62.0, 62.0, 59.0, 62.0, 62.0, 61.0, 61.0, 62.0, 59.0, 62.0, 62.0, 61.0, 58.0, 62.0, 59.0, 58.0, 65.0, 54.0, 62.0, 67.0, 62.0, 62.0, 62.0, 62.0, 62.0, 56.0, 58.0, 62.0, 65.0, 56.0, 62.0, 58.0, 62.0, 62.0, 59.0, 60.0, 59.0, 60.0, 54.0, 62.0, 52.0, 62.0, 60.0, 62.0, 62.0, 62.0, 60.0, 62.0, 62.0, 56.0, 59.0, 62.0, 62.0, 62.0, 62.0, 61.0, 58.0, 53.0, 58.0, 62.0, 54.0, 62.0, 56.0, 62.0, 57.0, 56.0, 62.0, 62.0, 61.0, 62.0, 62.0, 58.0, 58.0, 55.0, 62.0, 58.0, 59.0, 58.0, 56.0, 58.0, 59.0, 59.0, 59.0, 62.0, 52.0, 55.0, 58.0, 52.0, 59.0, 56.0, 58.0, 60.0, 58.0, 58.0, 50.0, 56.0, 58.0, 62.0, 62.0, 61.0, 58.0, 62.0, 61.0, 54.0, 61.0, 59.0, 59.0, 57.0, 59.0, 62.0, 58.0, 62.0, 65.0, 58.0, 60.0, 58.0, 62.0, 59.0, 59.0, 59.0, 58.0, 58.0, 53.0, 62.0, 59.0, 58.0, 58.0, 62.0, 62.0, 59.0, 55.0, 62.0, 62.0, 62.0, 62.0, 61.0, 58.0, 59.0, 62.0, 56.0, 55.0, 62.0, 60.0, 62.0, 62.0, 60.0, 58.0, 62.0, 53.0, 62.0, 61.0, 65.0, 59.0, 59.0, 57.0, 50.0, 56.0, 56.0, 62.0, 62.0, 54.0, 59.0, 60.0, 67.0, 56.0, 62.0, 62.0, 58.0, 62.0, 62.0, 55.0, 61.0, 47.0, 62.0, 59.0, 62.0, 58.0, 58.0, 55.0, 62.0, 61.0, 62.0, 58.0, 53.0, 62.0, 59.0, 62.0, 56.0, 53.0, 61.0, 62.0, 62.0, 50.0, 50.0, 62.0, 65.0, 62.0, 58.0, 58.0, 59.0, 59.0, 52.0, 57.0, 62.0, 56.0, 55.0, 62.0, 55.0, 58.0, 62.0, 59.0, 58.0, 54.0, 61.0, 54.0, 59.0, 56.0, 62.0, 62.0, 62.0, 58.0, 62.0, 58.0, 55.0, 61.0, 62.0, 62.0, 58.0, 62.0, 58.0, 54.0, 58.0, 62.0, 57.0, 61.0, 62.0, 54.0, 58.0, 56.0, 59.0, 62.0, 55.0, 59.0, 59.0, 60.0, 58.0, 57.0, 53.0, 53.0, 54.0, 62.0, 62.0, 62.0, 58.0, 61.0, 62.0, 62.0, 62.0, 56.0, 62.0, 65.0, 62.0, 56.0, 62.0, 60.0, 59.0, 62.0, 58.0, 54.0, 56.0, 56.0, 62.0, 53.0, 62.0, 62.0, 58.0, 62.0, 58.0, 53.0, 62.0, 62.0, 62.0, 56.0, 62.0, 62.0, 61.0, 56.0, 62.0, 58.0, 55.0, 62.0, 62.0, 59.0, 54.0, 62.0, 62.0, 56.0, 62.0, 62.0, 58.0, 62.0, 62.0, 62.0, 58.0, 58.0, 62.0, 60.0, 62.0, 56.0, 54.0, 62.0, 56.0, 55.0, 62.0, 62.0, 62.0, 54.0, 62.0, 62.0, 58.0, 50.0, 47.0, 56.0, 62.0, 62.0, 61.0, 52.0, 59.0, 62.0, 62.0, 67.0, 62.0, 61.0, 57.0, 50.0, 62.0, 62.0, 61.0, 62.0, 61.0, 62.0, 53.0, 62.0, 56.0, 59.0, 62.0, 62.0, 65.0, 52.0, 56.0, 59.0, 62.0, 54.0, 62.0, 62.0, 62.0, 56.0, 62.0, 62.0, 62.0, 59.0, 62.0, 62.0, 62.0, 50.0, 60.0, 65.0, 56.0, 62.0, 61.0, 58.0, 61.0, 62.0, 62.0, 62.0, 62.0, 58.0, 56.0, 58.0, 62.0, 59.0, 55.0, 55.0, 50.0, 65.0, 62.0, 56.0, 54.0, 61.0, 62.0, 47.0, 59.0, 62.0, 56.0, 50.0, 65.0, 52.0, 62.0, 58.0, 62.0, 62.0, 61.0, 62.0, 56.0, 62.0, 62.0, 62.0, 62.0, 57.0, 59.0, 62.0, 56.0, 50.0, 59.0, 61.0, 56.0, 62.0, 54.0, 58.0, 59.0, 62.0, 55.0, 62.0, 62.0, 59.0, 61.0, 55.0, 61.0, 62.0, 56.0, 62.0, 54.0, 59.0, 62.0, 59.0, 61.0, 57.0, 50.0, 54.0, 58.0, 61.0, 62.0, 59.0, 57.0, 59.0, 60.0, 58.0, 52.0, 59.0, 62.0, 58.0, 56.0, 53.0, 56.0, 62.0, 62.0, 62.0, 58.0, 62.0, 58.0, 62.0, 60.0, 56.0, 65.0, 62.0, 62.0, 60.0, 60.0, 58.0, 58.0, 62.0, 62.0, 62.0, 62.0, 59.0, 55.0, 59.0, 52.0, 52.0, 58.0, 59.0, 57.0, 62.0, 59.0, 56.0, 56.0, 62.0, 62.0, 56.0, 62.0, 60.0, 58.0, 58.0, 62.0, 62.0, 58.0, 54.0, 50.0, 59.0, 54.0, 67.0, 58.0, 56.0, 58.0, 61.0, 59.0, 55.0, 59.0, 61.0, 65.0, 58.0, 62.0, 58.0, 53.0, 55.0, 53.0, 62.0, 62.0, 62.0, 58.0, 59.0, 62.0, 61.0, 55.0, 62.0, 58.0, 62.0, 61.0, 55.0, 58.0, 62.0, 61.0, 60.0, 61.0, 56.0, 54.0, 62.0, 50.0, 56.0, 58.0, 57.0, 62.0, 58.0, 54.0, 62.0, 67.0, 58.0, 61.0, 62.0, 62.0, 58.0, 62.0, 62.0, 62.0, 61.0, 57.0, 62.0, 53.0, 58.0, 65.0, 62.0, 62.0, 57.0, 61.0, 62.0, 62.0, 54.0, 62.0, 58.0, 61.0, 56.0, 47.0, 62.0, 55.0, 62.0, 62.0, 62.0, 62.0, 58.0, 62.0, 58.0, 62.0, 61.0, 62.0, 62.0, 61.0, 58.0, 58.0, 58.0, 58.0, 62.0, 62.0, 59.0, 59.0, 58.0, 62.0, 62.0, 56.0, 62.0, 62.0, 58.0, 58.0, 60.0, 58.0, 62.0, 62.0, 54.0, 62.0, 55.0, 62.0, 62.0, 62.0, 61.0, 61.0, 62.0, 56.0, 62.0, 59.0, 53.0, 58.0, 58.0, 62.0, 62.0, 58.0, 62.0, 54.0, 56.0, 62.0, 54.0, 62.0, 61.0, 62.0, 55.0, 62.0, 62.0, 58.0, 58.0, 53.0, 62.0, 61.0, 50.0, 56.0, 57.0, 62.0, 61.0, 59.0, 62.0, 62.0, 62.0, 62.0, 53.0, 62.0, 61.0, 62.0, 58.0, 59.0, 58.0, 62.0, 58.0, 54.0, 54.0, 62.0, 58.0, 62.0, 58.0, 53.0, 59.0, 61.0, 62.0, 63.0, 62.0, 56.0, 62.0, 56.0, 62.0, 50.0, 61.0, 62.0, 59.0, 62.0, 58.0, 53.0, 62.0, 56.0, 59.0, 54.0, 55.0, 60.0, 53.0, 59.0, 56.0, 58.0, 59.0, 62.0, 62.0, 58.0, 62.0, 56.0, 59.0, 62.0, 62.0, 56.0, 61.0, 62.0, 62.0, 58.0, 60.0, 58.0, 62.0, 56.0, 58.0, 55.0, 62.0, 61.0, 62.0, 62.0, 53.0, 62.0, 62.0, 62.0, 59.0, 62.0, 59.0, 65.0, 59.0, 54.0, 67.0, 56.0, 61.0, 56.0, 58.0, 61.0, 56.0, 55.0, 56.0, 61.0, 62.0, 62.0, 59.0, 62.0, 62.0, 61.0, 60.0, 53.0, 62.0, 62.0, 62.0, 62.0, 59.0, 61.0, 62.0, 55.0, 54.0, 58.0, 53.0, 61.0, 62.0, 55.0, 58.0, 50.0, 61.0, 58.0, 62.0, 62.0, 62.0, 62.0, 58.0, 60.0, 52.0, 62.0, 62.0, 62.0, 59.0, 50.0, 67.0, 52.0, 60.0, 62.0, 67.0, 61.0, 62.0, 62.0, 60.0, 55.0, 62.0, 62.0, 56.0, 62.0, 62.0, 61.0, 59.0, 53.0, 54.0, 62.0, 57.0, 53.0, 56.0, 54.0, 55.0, 61.0, 54.0, 62.0, 62.0, 55.0, 62.0, 56.0, 58.0, 58.0, 62.0, 62.0, 58.0, 54.0, 62.0, 54.0, 59.0, 62.0, 56.0, 50.0, 58.0, 55.0, 53.0, 62.0, 58.0, 62.0, 54.0, 54.0, 62.0, 58.0, 59.0, 62.0, 59.0, 58.0, 58.0, 55.0, 58.0, 55.0, 61.0, 62.0, 61.0, 62.0, 52.0, 61.0, 58.0, 50.0, 53.0, 62.0, 56.0, 56.0, 62.0, 59.0, 62.0, 62.0, 58.0, 56.0, 52.0, 58.0, 54.0, 62.0, 62.0, 62.0, 58.0, 56.0, 62.0, 52.0, 56.0, 54.0, 62.0, 60.0, 62.0, 58.0, 62.0, 62.0, 56.0, 62.0, 53.0, 63.0, 61.0, 59.0, 62.0, 62.0, 58.0, 61.0, 62.0, 61.0, 59.0, 60.0, 52.0, 62.0, 62.0, 58.0, 58.0, 62.0, 54.0, 62.0, 56.0, 62.0, 62.0, 58.0, 55.0, 62.0, 58.0, 52.0, 62.0, 62.0, 62.0, 59.0, 58.0, 62.0, 57.0, 55.0, 53.0, 56.0, 53.0, 59.0, 54.0, 62.0, 67.0, 61.0, 61.0, 58.0, 58.0, 62.0, 61.0, 56.0, 58.0, 62.0, 61.0, 61.0, 58.0, 57.0, 62.0, 58.0, 62.0, 58.0, 50.0, 62.0, 56.0, 62.0, 62.0, 54.0, 54.0, 62.0, 62.0, 58.0, 62.0, 65.0, 62.0, 62.0, 62.0, 58.0, 62.0, 62.0, 61.0, 62.0, 55.0, 56.0, 58.0, 53.0, 63.0, 47.0, 58.0, 61.0, 58.0, 55.0, 56.0, 58.0, 62.0, 58.0, 56.0, 58.0, 61.0, 58.0, 54.0, 55.0, 61.0, 56.0, 58.0, 62.0, 56.0, 54.0, 62.0, 62.0, 62.0, 62.0, 54.0, 62.0, 60.0, 62.0, 62.0, 62.0, 59.0, 56.0, 62.0, 61.0, 60.0, 62.0, 53.0, 61.0, 62.0, 58.0, 62.0, 59.0, 62.0, 62.0, 59.0, 58.0, 62.0, 62.0, 62.0, 54.0, 62.0, 58.0, 60.0, 61.0, 61.0, 58.0, 62.0, 62.0, 61.0, 56.0, 62.0, 62.0, 58.0, 62.0, 61.0, 56.0, 60.0, 59.0, 59.0, 62.0, 58.0, 62.0, 62.0, 62.0, 59.0, 52.0, 60.0, 62.0, 61.0, 62.0, 56.0, 58.0, 62.0, 59.0, 58.0, 62.0, 60.0, 59.0, 56.0, 58.0, 62.0, 61.0, 62.0, 58.0, 62.0, 62.0, 52.0, 62.0, 57.0, 62.0, 62.0, 58.0, 67.0, 62.0, 62.0, 58.0, 50.0, 58.0], \"y0\": \" \", \"yaxis\": \"y\"}],\n",
              "                        {\"boxmode\": \"group\", \"legend\": {\"tracegroupgap\": 0}, \"template\": {\"data\": {\"bar\": [{\"error_x\": {\"color\": \"#2a3f5f\"}, \"error_y\": {\"color\": \"#2a3f5f\"}, \"marker\": {\"line\": {\"color\": \"#E5ECF6\", \"width\": 0.5}}, \"type\": \"bar\"}], \"barpolar\": [{\"marker\": {\"line\": {\"color\": \"#E5ECF6\", \"width\": 0.5}}, \"type\": \"barpolar\"}], \"carpet\": [{\"aaxis\": {\"endlinecolor\": \"#2a3f5f\", \"gridcolor\": \"white\", \"linecolor\": \"white\", \"minorgridcolor\": \"white\", \"startlinecolor\": \"#2a3f5f\"}, \"baxis\": {\"endlinecolor\": \"#2a3f5f\", \"gridcolor\": \"white\", \"linecolor\": \"white\", \"minorgridcolor\": \"white\", \"startlinecolor\": \"#2a3f5f\"}, \"type\": \"carpet\"}], \"choropleth\": [{\"colorbar\": {\"outlinewidth\": 0, \"ticks\": \"\"}, \"type\": \"choropleth\"}], \"contour\": [{\"colorbar\": {\"outlinewidth\": 0, \"ticks\": \"\"}, \"colorscale\": [[0.0, \"#0d0887\"], [0.1111111111111111, \"#46039f\"], [0.2222222222222222, \"#7201a8\"], [0.3333333333333333, \"#9c179e\"], [0.4444444444444444, \"#bd3786\"], [0.5555555555555556, \"#d8576b\"], [0.6666666666666666, \"#ed7953\"], [0.7777777777777778, \"#fb9f3a\"], [0.8888888888888888, \"#fdca26\"], [1.0, \"#f0f921\"]], \"type\": \"contour\"}], \"contourcarpet\": [{\"colorbar\": {\"outlinewidth\": 0, \"ticks\": \"\"}, \"type\": \"contourcarpet\"}], \"heatmap\": [{\"colorbar\": {\"outlinewidth\": 0, \"ticks\": \"\"}, \"colorscale\": [[0.0, \"#0d0887\"], [0.1111111111111111, \"#46039f\"], [0.2222222222222222, \"#7201a8\"], [0.3333333333333333, \"#9c179e\"], [0.4444444444444444, \"#bd3786\"], [0.5555555555555556, \"#d8576b\"], [0.6666666666666666, \"#ed7953\"], [0.7777777777777778, \"#fb9f3a\"], [0.8888888888888888, \"#fdca26\"], [1.0, \"#f0f921\"]], \"type\": \"heatmap\"}], \"heatmapgl\": [{\"colorbar\": {\"outlinewidth\": 0, \"ticks\": \"\"}, \"colorscale\": [[0.0, \"#0d0887\"], [0.1111111111111111, \"#46039f\"], [0.2222222222222222, \"#7201a8\"], [0.3333333333333333, \"#9c179e\"], [0.4444444444444444, \"#bd3786\"], [0.5555555555555556, \"#d8576b\"], [0.6666666666666666, \"#ed7953\"], [0.7777777777777778, \"#fb9f3a\"], [0.8888888888888888, \"#fdca26\"], [1.0, \"#f0f921\"]], \"type\": \"heatmapgl\"}], \"histogram\": [{\"marker\": {\"colorbar\": {\"outlinewidth\": 0, \"ticks\": \"\"}}, \"type\": \"histogram\"}], \"histogram2d\": [{\"colorbar\": {\"outlinewidth\": 0, \"ticks\": \"\"}, \"colorscale\": [[0.0, \"#0d0887\"], [0.1111111111111111, \"#46039f\"], [0.2222222222222222, \"#7201a8\"], [0.3333333333333333, \"#9c179e\"], [0.4444444444444444, \"#bd3786\"], [0.5555555555555556, \"#d8576b\"], [0.6666666666666666, \"#ed7953\"], [0.7777777777777778, \"#fb9f3a\"], [0.8888888888888888, \"#fdca26\"], [1.0, \"#f0f921\"]], \"type\": \"histogram2d\"}], \"histogram2dcontour\": [{\"colorbar\": {\"outlinewidth\": 0, \"ticks\": \"\"}, \"colorscale\": [[0.0, \"#0d0887\"], [0.1111111111111111, \"#46039f\"], [0.2222222222222222, \"#7201a8\"], [0.3333333333333333, \"#9c179e\"], [0.4444444444444444, \"#bd3786\"], [0.5555555555555556, \"#d8576b\"], [0.6666666666666666, \"#ed7953\"], [0.7777777777777778, \"#fb9f3a\"], [0.8888888888888888, \"#fdca26\"], [1.0, \"#f0f921\"]], \"type\": \"histogram2dcontour\"}], \"mesh3d\": [{\"colorbar\": {\"outlinewidth\": 0, \"ticks\": \"\"}, \"type\": \"mesh3d\"}], \"parcoords\": [{\"line\": {\"colorbar\": {\"outlinewidth\": 0, \"ticks\": \"\"}}, \"type\": \"parcoords\"}], \"pie\": [{\"automargin\": true, \"type\": \"pie\"}], \"scatter\": [{\"marker\": {\"colorbar\": {\"outlinewidth\": 0, \"ticks\": \"\"}}, \"type\": \"scatter\"}], \"scatter3d\": [{\"line\": {\"colorbar\": {\"outlinewidth\": 0, \"ticks\": \"\"}}, \"marker\": {\"colorbar\": {\"outlinewidth\": 0, \"ticks\": \"\"}}, \"type\": \"scatter3d\"}], \"scattercarpet\": [{\"marker\": {\"colorbar\": {\"outlinewidth\": 0, \"ticks\": \"\"}}, \"type\": \"scattercarpet\"}], \"scattergeo\": [{\"marker\": {\"colorbar\": {\"outlinewidth\": 0, \"ticks\": \"\"}}, \"type\": \"scattergeo\"}], \"scattergl\": [{\"marker\": {\"colorbar\": {\"outlinewidth\": 0, \"ticks\": \"\"}}, \"type\": \"scattergl\"}], \"scattermapbox\": [{\"marker\": {\"colorbar\": {\"outlinewidth\": 0, \"ticks\": \"\"}}, \"type\": \"scattermapbox\"}], \"scatterpolar\": [{\"marker\": {\"colorbar\": {\"outlinewidth\": 0, \"ticks\": \"\"}}, \"type\": \"scatterpolar\"}], \"scatterpolargl\": [{\"marker\": {\"colorbar\": {\"outlinewidth\": 0, \"ticks\": \"\"}}, \"type\": \"scatterpolargl\"}], \"scatterternary\": [{\"marker\": {\"colorbar\": {\"outlinewidth\": 0, \"ticks\": \"\"}}, \"type\": \"scatterternary\"}], \"surface\": [{\"colorbar\": {\"outlinewidth\": 0, \"ticks\": \"\"}, \"colorscale\": [[0.0, \"#0d0887\"], [0.1111111111111111, \"#46039f\"], [0.2222222222222222, \"#7201a8\"], [0.3333333333333333, \"#9c179e\"], [0.4444444444444444, \"#bd3786\"], [0.5555555555555556, \"#d8576b\"], [0.6666666666666666, \"#ed7953\"], [0.7777777777777778, \"#fb9f3a\"], [0.8888888888888888, \"#fdca26\"], [1.0, \"#f0f921\"]], \"type\": \"surface\"}], \"table\": [{\"cells\": {\"fill\": {\"color\": \"#EBF0F8\"}, \"line\": {\"color\": \"white\"}}, \"header\": {\"fill\": {\"color\": \"#C8D4E3\"}, \"line\": {\"color\": \"white\"}}, \"type\": \"table\"}]}, \"layout\": {\"annotationdefaults\": {\"arrowcolor\": \"#2a3f5f\", \"arrowhead\": 0, \"arrowwidth\": 1}, \"coloraxis\": {\"colorbar\": {\"outlinewidth\": 0, \"ticks\": \"\"}}, \"colorscale\": {\"diverging\": [[0, \"#8e0152\"], [0.1, \"#c51b7d\"], [0.2, \"#de77ae\"], [0.3, \"#f1b6da\"], [0.4, \"#fde0ef\"], [0.5, \"#f7f7f7\"], [0.6, \"#e6f5d0\"], [0.7, \"#b8e186\"], [0.8, \"#7fbc41\"], [0.9, \"#4d9221\"], [1, \"#276419\"]], \"sequential\": [[0.0, \"#0d0887\"], [0.1111111111111111, \"#46039f\"], [0.2222222222222222, \"#7201a8\"], [0.3333333333333333, \"#9c179e\"], [0.4444444444444444, \"#bd3786\"], [0.5555555555555556, \"#d8576b\"], [0.6666666666666666, \"#ed7953\"], [0.7777777777777778, \"#fb9f3a\"], [0.8888888888888888, \"#fdca26\"], [1.0, \"#f0f921\"]], \"sequentialminus\": [[0.0, \"#0d0887\"], [0.1111111111111111, \"#46039f\"], [0.2222222222222222, \"#7201a8\"], [0.3333333333333333, \"#9c179e\"], [0.4444444444444444, \"#bd3786\"], [0.5555555555555556, \"#d8576b\"], [0.6666666666666666, \"#ed7953\"], [0.7777777777777778, \"#fb9f3a\"], [0.8888888888888888, \"#fdca26\"], [1.0, \"#f0f921\"]]}, \"colorway\": [\"#636efa\", \"#EF553B\", \"#00cc96\", \"#ab63fa\", \"#FFA15A\", \"#19d3f3\", \"#FF6692\", \"#B6E880\", \"#FF97FF\", \"#FECB52\"], \"font\": {\"color\": \"#2a3f5f\"}, \"geo\": {\"bgcolor\": \"white\", \"lakecolor\": \"white\", \"landcolor\": \"#E5ECF6\", \"showlakes\": true, \"showland\": true, \"subunitcolor\": \"white\"}, \"hoverlabel\": {\"align\": \"left\"}, \"hovermode\": \"closest\", \"mapbox\": {\"style\": \"light\"}, \"paper_bgcolor\": \"white\", \"plot_bgcolor\": \"#E5ECF6\", \"polar\": {\"angularaxis\": {\"gridcolor\": \"white\", \"linecolor\": \"white\", \"ticks\": \"\"}, \"bgcolor\": \"#E5ECF6\", \"radialaxis\": {\"gridcolor\": \"white\", \"linecolor\": \"white\", \"ticks\": \"\"}}, \"scene\": {\"xaxis\": {\"backgroundcolor\": \"#E5ECF6\", \"gridcolor\": \"white\", \"gridwidth\": 2, \"linecolor\": \"white\", \"showbackground\": true, \"ticks\": \"\", \"zerolinecolor\": \"white\"}, \"yaxis\": {\"backgroundcolor\": \"#E5ECF6\", \"gridcolor\": \"white\", \"gridwidth\": 2, \"linecolor\": \"white\", \"showbackground\": true, \"ticks\": \"\", \"zerolinecolor\": \"white\"}, \"zaxis\": {\"backgroundcolor\": \"#E5ECF6\", \"gridcolor\": \"white\", \"gridwidth\": 2, \"linecolor\": \"white\", \"showbackground\": true, \"ticks\": \"\", \"zerolinecolor\": \"white\"}}, \"shapedefaults\": {\"line\": {\"color\": \"#2a3f5f\"}}, \"ternary\": {\"aaxis\": {\"gridcolor\": \"white\", \"linecolor\": \"white\", \"ticks\": \"\"}, \"baxis\": {\"gridcolor\": \"white\", \"linecolor\": \"white\", \"ticks\": \"\"}, \"bgcolor\": \"#E5ECF6\", \"caxis\": {\"gridcolor\": \"white\", \"linecolor\": \"white\", \"ticks\": \"\"}}, \"title\": {\"x\": 0.05}, \"xaxis\": {\"automargin\": true, \"gridcolor\": \"white\", \"linecolor\": \"white\", \"ticks\": \"\", \"title\": {\"standoff\": 15}, \"zerolinecolor\": \"white\", \"zerolinewidth\": 2}, \"yaxis\": {\"automargin\": true, \"gridcolor\": \"white\", \"linecolor\": \"white\", \"ticks\": \"\", \"title\": {\"standoff\": 15}, \"zerolinecolor\": \"white\", \"zerolinewidth\": 2}}}, \"title\": {\"text\": \"IA por creatividad\"}, \"xaxis\": {\"anchor\": \"y\", \"domain\": [0.0, 1.0], \"title\": {\"text\": \"personalizacion\"}}, \"yaxis\": {\"anchor\": \"x\", \"domain\": [0.0, 1.0], \"title\": {\"text\": \"Indice Actividad\"}}},\n",
              "                        {\"responsive\": true}\n",
              "                    ).then(function(){\n",
              "                            \n",
              "var gd = document.getElementById('64a8149d-9f39-4f8d-b3aa-390e37081803');\n",
              "var x = new MutationObserver(function (mutations, observer) {{\n",
              "        var display = window.getComputedStyle(gd).display;\n",
              "        if (!display || display === 'none') {{\n",
              "            console.log([gd, 'removed!']);\n",
              "            Plotly.purge(gd);\n",
              "            observer.disconnect();\n",
              "        }}\n",
              "}});\n",
              "\n",
              "// Listen for the removal of the full notebook cells\n",
              "var notebookContainer = gd.closest('#notebook-container');\n",
              "if (notebookContainer) {{\n",
              "    x.observe(notebookContainer, {childList: true});\n",
              "}}\n",
              "\n",
              "// Listen for the clearing of the current output cell\n",
              "var outputEl = gd.closest('.output');\n",
              "if (outputEl) {{\n",
              "    x.observe(outputEl, {childList: true});\n",
              "}}\n",
              "\n",
              "                        })\n",
              "                };\n",
              "                \n",
              "            </script>\n",
              "        </div>\n",
              "</body>\n",
              "</html>"
            ]
          },
          "metadata": {
            "tags": []
          }
        }
      ]
    },
    {
      "cell_type": "markdown",
      "metadata": {
        "id": "be7Zupkh1HPg"
      },
      "source": [
        "A continuación se facilita una ficha descripitiva para poder explorar con mas profundidad las caracteristicas de cada creatividad."
      ],
      "id": "be7Zupkh1HPg"
    },
    {
      "cell_type": "code",
      "metadata": {
        "id": "km861tBXo9QW"
      },
      "source": [
        "metricas_a_analizar=df_resumen.columns[0:-1]\n",
        "ficha_df = pd.DataFrame()\n",
        "for i, col in enumerate(metricas_a_analizar):\n",
        "    resumen_data = X_processed[[\"personalizacion\", col]].groupby(\"personalizacion\").describe().T[1:]\n",
        "    ficha_df = ficha_df.append(resumen_data)"
      ],
      "id": "km861tBXo9QW",
      "execution_count": null,
      "outputs": []
    },
    {
      "cell_type": "code",
      "metadata": {
        "colab": {
          "base_uri": "https://localhost:8080/",
          "height": 1000
        },
        "id": "pBY6pRR309qf",
        "outputId": "811ae543-8e2c-4452-a838-45a7ea80886d"
      },
      "source": [
        "ficha_df"
      ],
      "id": "pBY6pRR309qf",
      "execution_count": null,
      "outputs": [
        {
          "output_type": "execute_result",
          "data": {
            "text/html": [
              "<div>\n",
              "<style scoped>\n",
              "    .dataframe tbody tr th:only-of-type {\n",
              "        vertical-align: middle;\n",
              "    }\n",
              "\n",
              "    .dataframe tbody tr th {\n",
              "        vertical-align: top;\n",
              "    }\n",
              "\n",
              "    .dataframe thead th {\n",
              "        text-align: right;\n",
              "    }\n",
              "</style>\n",
              "<table border=\"1\" class=\"dataframe\">\n",
              "  <thead>\n",
              "    <tr style=\"text-align: right;\">\n",
              "      <th></th>\n",
              "      <th>personalizacion</th>\n",
              "      <th>0</th>\n",
              "      <th>1</th>\n",
              "      <th>2</th>\n",
              "      <th>3</th>\n",
              "    </tr>\n",
              "  </thead>\n",
              "  <tbody>\n",
              "    <tr>\n",
              "      <th rowspan=\"7\" valign=\"top\">active_customer</th>\n",
              "      <th>mean</th>\n",
              "      <td>9.980484e-01</td>\n",
              "      <td>9.395866e-01</td>\n",
              "      <td>0.000000e+00</td>\n",
              "      <td>9.529860e-01</td>\n",
              "    </tr>\n",
              "    <tr>\n",
              "      <th>std</th>\n",
              "      <td>4.414241e-02</td>\n",
              "      <td>2.383142e-01</td>\n",
              "      <td>0.000000e+00</td>\n",
              "      <td>2.116957e-01</td>\n",
              "    </tr>\n",
              "    <tr>\n",
              "      <th>min</th>\n",
              "      <td>0.000000e+00</td>\n",
              "      <td>0.000000e+00</td>\n",
              "      <td>0.000000e+00</td>\n",
              "      <td>0.000000e+00</td>\n",
              "    </tr>\n",
              "    <tr>\n",
              "      <th>25%</th>\n",
              "      <td>1.000000e+00</td>\n",
              "      <td>1.000000e+00</td>\n",
              "      <td>0.000000e+00</td>\n",
              "      <td>1.000000e+00</td>\n",
              "    </tr>\n",
              "    <tr>\n",
              "      <th>50%</th>\n",
              "      <td>1.000000e+00</td>\n",
              "      <td>1.000000e+00</td>\n",
              "      <td>0.000000e+00</td>\n",
              "      <td>1.000000e+00</td>\n",
              "    </tr>\n",
              "    <tr>\n",
              "      <th>75%</th>\n",
              "      <td>1.000000e+00</td>\n",
              "      <td>1.000000e+00</td>\n",
              "      <td>0.000000e+00</td>\n",
              "      <td>1.000000e+00</td>\n",
              "    </tr>\n",
              "    <tr>\n",
              "      <th>max</th>\n",
              "      <td>1.000000e+00</td>\n",
              "      <td>1.000000e+00</td>\n",
              "      <td>0.000000e+00</td>\n",
              "      <td>1.000000e+00</td>\n",
              "    </tr>\n",
              "    <tr>\n",
              "      <th rowspan=\"7\" valign=\"top\">salary</th>\n",
              "      <th>mean</th>\n",
              "      <td>1.655607e+05</td>\n",
              "      <td>9.666701e+04</td>\n",
              "      <td>1.586908e+05</td>\n",
              "      <td>9.349819e+04</td>\n",
              "    </tr>\n",
              "    <tr>\n",
              "      <th>std</th>\n",
              "      <td>5.004371e+05</td>\n",
              "      <td>5.786524e+04</td>\n",
              "      <td>1.463065e+05</td>\n",
              "      <td>4.965485e+04</td>\n",
              "    </tr>\n",
              "    <tr>\n",
              "      <th>min</th>\n",
              "      <td>2.705223e+04</td>\n",
              "      <td>5.925540e+03</td>\n",
              "      <td>2.994474e+04</td>\n",
              "      <td>1.045584e+04</td>\n",
              "    </tr>\n",
              "    <tr>\n",
              "      <th>25%</th>\n",
              "      <td>1.003298e+05</td>\n",
              "      <td>6.589835e+04</td>\n",
              "      <td>8.705560e+04</td>\n",
              "      <td>6.260635e+04</td>\n",
              "    </tr>\n",
              "    <tr>\n",
              "      <th>50%</th>\n",
              "      <td>1.307102e+05</td>\n",
              "      <td>8.643714e+04</td>\n",
              "      <td>1.254662e+05</td>\n",
              "      <td>8.172114e+04</td>\n",
              "    </tr>\n",
              "    <tr>\n",
              "      <th>75%</th>\n",
              "      <td>1.682214e+05</td>\n",
              "      <td>1.084040e+05</td>\n",
              "      <td>1.744174e+05</td>\n",
              "      <td>1.118795e+05</td>\n",
              "    </tr>\n",
              "    <tr>\n",
              "      <th>max</th>\n",
              "      <td>2.425324e+07</td>\n",
              "      <td>7.429357e+05</td>\n",
              "      <td>2.019314e+06</td>\n",
              "      <td>6.397263e+05</td>\n",
              "    </tr>\n",
              "    <tr>\n",
              "      <th rowspan=\"7\" valign=\"top\">age</th>\n",
              "      <th>mean</th>\n",
              "      <td>3.861319e+01</td>\n",
              "      <td>4.744992e+01</td>\n",
              "      <td>2.407797e+01</td>\n",
              "      <td>2.767548e+01</td>\n",
              "    </tr>\n",
              "    <tr>\n",
              "      <th>std</th>\n",
              "      <td>1.169253e+01</td>\n",
              "      <td>9.856688e+00</td>\n",
              "      <td>2.340143e+00</td>\n",
              "      <td>4.513849e+00</td>\n",
              "    </tr>\n",
              "    <tr>\n",
              "      <th>min</th>\n",
              "      <td>2.300000e+01</td>\n",
              "      <td>2.800000e+01</td>\n",
              "      <td>2.000000e+01</td>\n",
              "      <td>1.800000e+01</td>\n",
              "    </tr>\n",
              "    <tr>\n",
              "      <th>25%</th>\n",
              "      <td>2.900000e+01</td>\n",
              "      <td>4.000000e+01</td>\n",
              "      <td>2.200000e+01</td>\n",
              "      <td>2.400000e+01</td>\n",
              "    </tr>\n",
              "    <tr>\n",
              "      <th>50%</th>\n",
              "      <td>3.700000e+01</td>\n",
              "      <td>4.500000e+01</td>\n",
              "      <td>2.400000e+01</td>\n",
              "      <td>2.600000e+01</td>\n",
              "    </tr>\n",
              "    <tr>\n",
              "      <th>75%</th>\n",
              "      <td>4.600000e+01</td>\n",
              "      <td>5.300000e+01</td>\n",
              "      <td>2.600000e+01</td>\n",
              "      <td>3.100000e+01</td>\n",
              "    </tr>\n",
              "    <tr>\n",
              "      <th>max</th>\n",
              "      <td>8.600000e+01</td>\n",
              "      <td>8.700000e+01</td>\n",
              "      <td>4.000000e+01</td>\n",
              "      <td>4.300000e+01</td>\n",
              "    </tr>\n",
              "    <tr>\n",
              "      <th rowspan=\"7\" valign=\"top\">Renta per cápita</th>\n",
              "      <th>mean</th>\n",
              "      <td>3.404137e+01</td>\n",
              "      <td>2.304714e+01</td>\n",
              "      <td>3.463282e+01</td>\n",
              "      <td>2.266805e+01</td>\n",
              "    </tr>\n",
              "    <tr>\n",
              "      <th>std</th>\n",
              "      <td>1.951233e+00</td>\n",
              "      <td>3.921412e+00</td>\n",
              "      <td>1.528822e+00</td>\n",
              "      <td>3.256058e+00</td>\n",
              "    </tr>\n",
              "    <tr>\n",
              "      <th>min</th>\n",
              "      <td>1.852500e+01</td>\n",
              "      <td>1.805000e+01</td>\n",
              "      <td>1.880100e+01</td>\n",
              "      <td>1.805000e+01</td>\n",
              "    </tr>\n",
              "    <tr>\n",
              "      <th>25%</th>\n",
              "      <td>3.509100e+01</td>\n",
              "      <td>1.991900e+01</td>\n",
              "      <td>3.509100e+01</td>\n",
              "      <td>2.031400e+01</td>\n",
              "    </tr>\n",
              "    <tr>\n",
              "      <th>50%</th>\n",
              "      <td>3.509100e+01</td>\n",
              "      <td>2.336300e+01</td>\n",
              "      <td>3.509100e+01</td>\n",
              "      <td>2.258600e+01</td>\n",
              "    </tr>\n",
              "    <tr>\n",
              "      <th>75%</th>\n",
              "      <td>3.509100e+01</td>\n",
              "      <td>2.364600e+01</td>\n",
              "      <td>3.509100e+01</td>\n",
              "      <td>2.336300e+01</td>\n",
              "    </tr>\n",
              "    <tr>\n",
              "      <th>max</th>\n",
              "      <td>3.509100e+01</td>\n",
              "      <td>3.640400e+01</td>\n",
              "      <td>3.509100e+01</td>\n",
              "      <td>3.640400e+01</td>\n",
              "    </tr>\n",
              "    <tr>\n",
              "      <th rowspan=\"7\" valign=\"top\">region_code_fe</th>\n",
              "      <th>mean</th>\n",
              "      <td>2.750464e-01</td>\n",
              "      <td>2.143376e-02</td>\n",
              "      <td>3.133092e-01</td>\n",
              "      <td>2.263088e-02</td>\n",
              "    </tr>\n",
              "    <tr>\n",
              "      <th>std</th>\n",
              "      <td>1.145045e-01</td>\n",
              "      <td>1.528243e-02</td>\n",
              "      <td>8.005985e-02</td>\n",
              "      <td>1.606694e-02</td>\n",
              "    </tr>\n",
              "    <tr>\n",
              "      <th>min</th>\n",
              "      <td>5.200000e-03</td>\n",
              "      <td>7.000000e-04</td>\n",
              "      <td>5.200000e-03</td>\n",
              "      <td>2.000000e-04</td>\n",
              "    </tr>\n",
              "    <tr>\n",
              "      <th>25%</th>\n",
              "      <td>3.397000e-01</td>\n",
              "      <td>8.900000e-03</td>\n",
              "      <td>3.397000e-01</td>\n",
              "      <td>9.300000e-03</td>\n",
              "    </tr>\n",
              "    <tr>\n",
              "      <th>50%</th>\n",
              "      <td>3.397000e-01</td>\n",
              "      <td>1.720000e-02</td>\n",
              "      <td>3.397000e-01</td>\n",
              "      <td>1.720000e-02</td>\n",
              "    </tr>\n",
              "    <tr>\n",
              "      <th>75%</th>\n",
              "      <td>3.397000e-01</td>\n",
              "      <td>3.560000e-02</td>\n",
              "      <td>3.397000e-01</td>\n",
              "      <td>3.560000e-02</td>\n",
              "    </tr>\n",
              "    <tr>\n",
              "      <th>max</th>\n",
              "      <td>3.397000e-01</td>\n",
              "      <td>7.570000e-02</td>\n",
              "      <td>3.397000e-01</td>\n",
              "      <td>5.310000e-02</td>\n",
              "    </tr>\n",
              "    <tr>\n",
              "      <th rowspan=\"7\" valign=\"top\">poblacion</th>\n",
              "      <th>mean</th>\n",
              "      <td>6.379200e+06</td>\n",
              "      <td>1.274943e+06</td>\n",
              "      <td>6.532327e+06</td>\n",
              "      <td>9.657981e+05</td>\n",
              "    </tr>\n",
              "    <tr>\n",
              "      <th>std</th>\n",
              "      <td>6.690486e+05</td>\n",
              "      <td>8.041744e+05</td>\n",
              "      <td>5.422505e+05</td>\n",
              "      <td>6.272140e+05</td>\n",
              "    </tr>\n",
              "    <tr>\n",
              "      <th>min</th>\n",
              "      <td>3.301190e+05</td>\n",
              "      <td>8.477700e+04</td>\n",
              "      <td>4.600010e+05</td>\n",
              "      <td>8.477700e+04</td>\n",
              "    </tr>\n",
              "    <tr>\n",
              "      <th>25%</th>\n",
              "      <td>6.663394e+06</td>\n",
              "      <td>6.948440e+05</td>\n",
              "      <td>6.663394e+06</td>\n",
              "      <td>4.600010e+05</td>\n",
              "    </tr>\n",
              "    <tr>\n",
              "      <th>50%</th>\n",
              "      <td>6.663394e+06</td>\n",
              "      <td>1.119596e+06</td>\n",
              "      <td>6.663394e+06</td>\n",
              "      <td>9.426650e+05</td>\n",
              "    </tr>\n",
              "    <tr>\n",
              "      <th>75%</th>\n",
              "      <td>6.663394e+06</td>\n",
              "      <td>1.858683e+06</td>\n",
              "      <td>6.663394e+06</td>\n",
              "      <td>1.120406e+06</td>\n",
              "    </tr>\n",
              "    <tr>\n",
              "      <th>max</th>\n",
              "      <td>6.663394e+06</td>\n",
              "      <td>5.664579e+06</td>\n",
              "      <td>6.663394e+06</td>\n",
              "      <td>2.565124e+06</td>\n",
              "    </tr>\n",
              "    <tr>\n",
              "      <th rowspan=\"7\" valign=\"top\">Indice Actividad</th>\n",
              "      <th>mean</th>\n",
              "      <td>6.176073e+01</td>\n",
              "      <td>5.757234e+01</td>\n",
              "      <td>6.188800e+01</td>\n",
              "      <td>5.548793e+01</td>\n",
              "    </tr>\n",
              "    <tr>\n",
              "      <th>std</th>\n",
              "      <td>5.942356e-01</td>\n",
              "      <td>3.036180e+00</td>\n",
              "      <td>5.455858e-01</td>\n",
              "      <td>3.190813e+00</td>\n",
              "    </tr>\n",
              "    <tr>\n",
              "      <th>min</th>\n",
              "      <td>5.300000e+01</td>\n",
              "      <td>4.700000e+01</td>\n",
              "      <td>5.200000e+01</td>\n",
              "      <td>4.700000e+01</td>\n",
              "    </tr>\n",
              "    <tr>\n",
              "      <th>25%</th>\n",
              "      <td>6.200000e+01</td>\n",
              "      <td>5.600000e+01</td>\n",
              "      <td>6.200000e+01</td>\n",
              "      <td>5.300000e+01</td>\n",
              "    </tr>\n",
              "    <tr>\n",
              "      <th>50%</th>\n",
              "      <td>6.200000e+01</td>\n",
              "      <td>5.800000e+01</td>\n",
              "      <td>6.200000e+01</td>\n",
              "      <td>5.500000e+01</td>\n",
              "    </tr>\n",
              "    <tr>\n",
              "      <th>75%</th>\n",
              "      <td>6.200000e+01</td>\n",
              "      <td>5.900000e+01</td>\n",
              "      <td>6.200000e+01</td>\n",
              "      <td>5.800000e+01</td>\n",
              "    </tr>\n",
              "    <tr>\n",
              "      <th>max</th>\n",
              "      <td>6.500000e+01</td>\n",
              "      <td>6.700000e+01</td>\n",
              "      <td>6.500000e+01</td>\n",
              "      <td>6.700000e+01</td>\n",
              "    </tr>\n",
              "  </tbody>\n",
              "</table>\n",
              "</div>"
            ],
            "text/plain": [
              "personalizacion                   0             1             2             3\n",
              "active_customer  mean  9.980484e-01  9.395866e-01  0.000000e+00  9.529860e-01\n",
              "                 std   4.414241e-02  2.383142e-01  0.000000e+00  2.116957e-01\n",
              "                 min   0.000000e+00  0.000000e+00  0.000000e+00  0.000000e+00\n",
              "                 25%   1.000000e+00  1.000000e+00  0.000000e+00  1.000000e+00\n",
              "                 50%   1.000000e+00  1.000000e+00  0.000000e+00  1.000000e+00\n",
              "                 75%   1.000000e+00  1.000000e+00  0.000000e+00  1.000000e+00\n",
              "                 max   1.000000e+00  1.000000e+00  0.000000e+00  1.000000e+00\n",
              "salary           mean  1.655607e+05  9.666701e+04  1.586908e+05  9.349819e+04\n",
              "                 std   5.004371e+05  5.786524e+04  1.463065e+05  4.965485e+04\n",
              "                 min   2.705223e+04  5.925540e+03  2.994474e+04  1.045584e+04\n",
              "                 25%   1.003298e+05  6.589835e+04  8.705560e+04  6.260635e+04\n",
              "                 50%   1.307102e+05  8.643714e+04  1.254662e+05  8.172114e+04\n",
              "                 75%   1.682214e+05  1.084040e+05  1.744174e+05  1.118795e+05\n",
              "                 max   2.425324e+07  7.429357e+05  2.019314e+06  6.397263e+05\n",
              "age              mean  3.861319e+01  4.744992e+01  2.407797e+01  2.767548e+01\n",
              "                 std   1.169253e+01  9.856688e+00  2.340143e+00  4.513849e+00\n",
              "                 min   2.300000e+01  2.800000e+01  2.000000e+01  1.800000e+01\n",
              "                 25%   2.900000e+01  4.000000e+01  2.200000e+01  2.400000e+01\n",
              "                 50%   3.700000e+01  4.500000e+01  2.400000e+01  2.600000e+01\n",
              "                 75%   4.600000e+01  5.300000e+01  2.600000e+01  3.100000e+01\n",
              "                 max   8.600000e+01  8.700000e+01  4.000000e+01  4.300000e+01\n",
              "Renta per cápita mean  3.404137e+01  2.304714e+01  3.463282e+01  2.266805e+01\n",
              "                 std   1.951233e+00  3.921412e+00  1.528822e+00  3.256058e+00\n",
              "                 min   1.852500e+01  1.805000e+01  1.880100e+01  1.805000e+01\n",
              "                 25%   3.509100e+01  1.991900e+01  3.509100e+01  2.031400e+01\n",
              "                 50%   3.509100e+01  2.336300e+01  3.509100e+01  2.258600e+01\n",
              "                 75%   3.509100e+01  2.364600e+01  3.509100e+01  2.336300e+01\n",
              "                 max   3.509100e+01  3.640400e+01  3.509100e+01  3.640400e+01\n",
              "region_code_fe   mean  2.750464e-01  2.143376e-02  3.133092e-01  2.263088e-02\n",
              "                 std   1.145045e-01  1.528243e-02  8.005985e-02  1.606694e-02\n",
              "                 min   5.200000e-03  7.000000e-04  5.200000e-03  2.000000e-04\n",
              "                 25%   3.397000e-01  8.900000e-03  3.397000e-01  9.300000e-03\n",
              "                 50%   3.397000e-01  1.720000e-02  3.397000e-01  1.720000e-02\n",
              "                 75%   3.397000e-01  3.560000e-02  3.397000e-01  3.560000e-02\n",
              "                 max   3.397000e-01  7.570000e-02  3.397000e-01  5.310000e-02\n",
              "poblacion        mean  6.379200e+06  1.274943e+06  6.532327e+06  9.657981e+05\n",
              "                 std   6.690486e+05  8.041744e+05  5.422505e+05  6.272140e+05\n",
              "                 min   3.301190e+05  8.477700e+04  4.600010e+05  8.477700e+04\n",
              "                 25%   6.663394e+06  6.948440e+05  6.663394e+06  4.600010e+05\n",
              "                 50%   6.663394e+06  1.119596e+06  6.663394e+06  9.426650e+05\n",
              "                 75%   6.663394e+06  1.858683e+06  6.663394e+06  1.120406e+06\n",
              "                 max   6.663394e+06  5.664579e+06  6.663394e+06  2.565124e+06\n",
              "Indice Actividad mean  6.176073e+01  5.757234e+01  6.188800e+01  5.548793e+01\n",
              "                 std   5.942356e-01  3.036180e+00  5.455858e-01  3.190813e+00\n",
              "                 min   5.300000e+01  4.700000e+01  5.200000e+01  4.700000e+01\n",
              "                 25%   6.200000e+01  5.600000e+01  6.200000e+01  5.300000e+01\n",
              "                 50%   6.200000e+01  5.800000e+01  6.200000e+01  5.500000e+01\n",
              "                 75%   6.200000e+01  5.900000e+01  6.200000e+01  5.800000e+01\n",
              "                 max   6.500000e+01  6.700000e+01  6.500000e+01  6.700000e+01"
            ]
          },
          "metadata": {
            "tags": []
          },
          "execution_count": 88
        }
      ]
    },
    {
      "cell_type": "markdown",
      "metadata": {
        "id": "R2zWQmYvlnhG"
      },
      "source": [
        "##Relación de las creatividades con los productos a recomendar"
      ],
      "id": "R2zWQmYvlnhG"
    },
    {
      "cell_type": "code",
      "metadata": {
        "id": "zAjltaNZmO3w"
      },
      "source": [
        "X_processed.reset_index(drop=False,inplace=True)"
      ],
      "id": "zAjltaNZmO3w",
      "execution_count": null,
      "outputs": []
    },
    {
      "cell_type": "code",
      "metadata": {
        "id": "y0I6q7wtmX5q"
      },
      "source": [
        "X_processed.rename(columns={'index':'pk_cid'},inplace=True)"
      ],
      "id": "y0I6q7wtmX5q",
      "execution_count": null,
      "outputs": []
    },
    {
      "cell_type": "code",
      "metadata": {
        "id": "SHekunKQlxSB"
      },
      "source": [
        "df_con_recomend=pd.merge(X_processed,df_recomend,on='pk_cid',how='left')"
      ],
      "id": "SHekunKQlxSB",
      "execution_count": null,
      "outputs": []
    },
    {
      "cell_type": "code",
      "metadata": {
        "colab": {
          "base_uri": "https://localhost:8080/",
          "height": 424
        },
        "id": "tB6QlpsAnItY",
        "outputId": "25aceb32-167b-4eb9-877f-a17f2d242e7a"
      },
      "source": [
        "df_con_recomend"
      ],
      "id": "tB6QlpsAnItY",
      "execution_count": null,
      "outputs": [
        {
          "output_type": "execute_result",
          "data": {
            "text/html": [
              "<div>\n",
              "<style scoped>\n",
              "    .dataframe tbody tr th:only-of-type {\n",
              "        vertical-align: middle;\n",
              "    }\n",
              "\n",
              "    .dataframe tbody tr th {\n",
              "        vertical-align: top;\n",
              "    }\n",
              "\n",
              "    .dataframe thead th {\n",
              "        text-align: right;\n",
              "    }\n",
              "</style>\n",
              "<table border=\"1\" class=\"dataframe\">\n",
              "  <thead>\n",
              "    <tr style=\"text-align: right;\">\n",
              "      <th></th>\n",
              "      <th>pk_cid</th>\n",
              "      <th>active_customer</th>\n",
              "      <th>age</th>\n",
              "      <th>salary</th>\n",
              "      <th>Renta per cápita</th>\n",
              "      <th>poblacion</th>\n",
              "      <th>Indice Actividad</th>\n",
              "      <th>region_code_fe</th>\n",
              "      <th>personalizacion</th>\n",
              "      <th>target</th>\n",
              "    </tr>\n",
              "  </thead>\n",
              "  <tbody>\n",
              "    <tr>\n",
              "      <th>0</th>\n",
              "      <td>1459181</td>\n",
              "      <td>0.0</td>\n",
              "      <td>19.0</td>\n",
              "      <td>116939.034</td>\n",
              "      <td>23.363</td>\n",
              "      <td>1120406.0</td>\n",
              "      <td>60.0</td>\n",
              "      <td>0.0129</td>\n",
              "      <td>3</td>\n",
              "      <td>em_acount</td>\n",
              "    </tr>\n",
              "    <tr>\n",
              "      <th>1</th>\n",
              "      <td>1440380</td>\n",
              "      <td>0.0</td>\n",
              "      <td>23.0</td>\n",
              "      <td>57535.230</td>\n",
              "      <td>20.273</td>\n",
              "      <td>521870.0</td>\n",
              "      <td>58.0</td>\n",
              "      <td>0.0085</td>\n",
              "      <td>3</td>\n",
              "      <td>em_acount</td>\n",
              "    </tr>\n",
              "    <tr>\n",
              "      <th>2</th>\n",
              "      <td>1465393</td>\n",
              "      <td>0.0</td>\n",
              "      <td>20.0</td>\n",
              "      <td>176021.292</td>\n",
              "      <td>20.314</td>\n",
              "      <td>1942389.0</td>\n",
              "      <td>59.0</td>\n",
              "      <td>0.0386</td>\n",
              "      <td>3</td>\n",
              "      <td>em_acount</td>\n",
              "    </tr>\n",
              "    <tr>\n",
              "      <th>3</th>\n",
              "      <td>1462014</td>\n",
              "      <td>0.0</td>\n",
              "      <td>19.0</td>\n",
              "      <td>65775.672</td>\n",
              "      <td>18.628</td>\n",
              "      <td>633564.0</td>\n",
              "      <td>52.0</td>\n",
              "      <td>0.0064</td>\n",
              "      <td>3</td>\n",
              "      <td>em_acount</td>\n",
              "    </tr>\n",
              "    <tr>\n",
              "      <th>4</th>\n",
              "      <td>1423487</td>\n",
              "      <td>0.0</td>\n",
              "      <td>21.0</td>\n",
              "      <td>34419.450</td>\n",
              "      <td>18.050</td>\n",
              "      <td>1240155.0</td>\n",
              "      <td>55.0</td>\n",
              "      <td>0.0151</td>\n",
              "      <td>3</td>\n",
              "      <td>em_acount</td>\n",
              "    </tr>\n",
              "    <tr>\n",
              "      <th>...</th>\n",
              "      <td>...</td>\n",
              "      <td>...</td>\n",
              "      <td>...</td>\n",
              "      <td>...</td>\n",
              "      <td>...</td>\n",
              "      <td>...</td>\n",
              "      <td>...</td>\n",
              "      <td>...</td>\n",
              "      <td>...</td>\n",
              "      <td>...</td>\n",
              "    </tr>\n",
              "    <tr>\n",
              "      <th>10007</th>\n",
              "      <td>1004830</td>\n",
              "      <td>1.0</td>\n",
              "      <td>44.0</td>\n",
              "      <td>219869.700</td>\n",
              "      <td>35.091</td>\n",
              "      <td>6663394.0</td>\n",
              "      <td>62.0</td>\n",
              "      <td>0.3397</td>\n",
              "      <td>0</td>\n",
              "      <td>financiacion</td>\n",
              "    </tr>\n",
              "    <tr>\n",
              "      <th>10008</th>\n",
              "      <td>1004755</td>\n",
              "      <td>1.0</td>\n",
              "      <td>49.0</td>\n",
              "      <td>112760.700</td>\n",
              "      <td>35.091</td>\n",
              "      <td>6663394.0</td>\n",
              "      <td>62.0</td>\n",
              "      <td>0.3397</td>\n",
              "      <td>0</td>\n",
              "      <td>financiacion</td>\n",
              "    </tr>\n",
              "    <tr>\n",
              "      <th>10009</th>\n",
              "      <td>1018721</td>\n",
              "      <td>1.0</td>\n",
              "      <td>41.0</td>\n",
              "      <td>72700.560</td>\n",
              "      <td>23.363</td>\n",
              "      <td>2565124.0</td>\n",
              "      <td>58.0</td>\n",
              "      <td>0.0443</td>\n",
              "      <td>1</td>\n",
              "      <td>financiacion</td>\n",
              "    </tr>\n",
              "    <tr>\n",
              "      <th>10010</th>\n",
              "      <td>1020022</td>\n",
              "      <td>1.0</td>\n",
              "      <td>45.0</td>\n",
              "      <td>86311.194</td>\n",
              "      <td>22.709</td>\n",
              "      <td>1022800.0</td>\n",
              "      <td>50.0</td>\n",
              "      <td>0.0125</td>\n",
              "      <td>1</td>\n",
              "      <td>financiacion</td>\n",
              "    </tr>\n",
              "    <tr>\n",
              "      <th>10011</th>\n",
              "      <td>1017413</td>\n",
              "      <td>1.0</td>\n",
              "      <td>54.0</td>\n",
              "      <td>40576.890</td>\n",
              "      <td>23.363</td>\n",
              "      <td>2565124.0</td>\n",
              "      <td>58.0</td>\n",
              "      <td>0.0443</td>\n",
              "      <td>1</td>\n",
              "      <td>financiacion</td>\n",
              "    </tr>\n",
              "  </tbody>\n",
              "</table>\n",
              "<p>10012 rows × 10 columns</p>\n",
              "</div>"
            ],
            "text/plain": [
              "        pk_cid  active_customer  ...  personalizacion        target\n",
              "0      1459181              0.0  ...                3     em_acount\n",
              "1      1440380              0.0  ...                3     em_acount\n",
              "2      1465393              0.0  ...                3     em_acount\n",
              "3      1462014              0.0  ...                3     em_acount\n",
              "4      1423487              0.0  ...                3     em_acount\n",
              "...        ...              ...  ...              ...           ...\n",
              "10007  1004830              1.0  ...                0  financiacion\n",
              "10008  1004755              1.0  ...                0  financiacion\n",
              "10009  1018721              1.0  ...                1  financiacion\n",
              "10010  1020022              1.0  ...                1  financiacion\n",
              "10011  1017413              1.0  ...                1  financiacion\n",
              "\n",
              "[10012 rows x 10 columns]"
            ]
          },
          "metadata": {
            "tags": []
          },
          "execution_count": 92
        }
      ]
    },
    {
      "cell_type": "code",
      "metadata": {
        "colab": {
          "base_uri": "https://localhost:8080/",
          "height": 542
        },
        "id": "etjgogavmvBR",
        "outputId": "42bdea04-a232-40d9-80aa-c526edb22a30"
      },
      "source": [
        "fig=px.histogram(df_con_recomend,x='personalizacion',color='target',orientation='v')\n",
        "fig.update_xaxes(type='category')"
      ],
      "id": "etjgogavmvBR",
      "execution_count": null,
      "outputs": [
        {
          "output_type": "display_data",
          "data": {
            "text/html": [
              "<html>\n",
              "<head><meta charset=\"utf-8\" /></head>\n",
              "<body>\n",
              "    <div>\n",
              "            <script src=\"https://cdnjs.cloudflare.com/ajax/libs/mathjax/2.7.5/MathJax.js?config=TeX-AMS-MML_SVG\"></script><script type=\"text/javascript\">if (window.MathJax) {MathJax.Hub.Config({SVG: {font: \"STIX-Web\"}});}</script>\n",
              "                <script type=\"text/javascript\">window.PlotlyConfig = {MathJaxConfig: 'local'};</script>\n",
              "        <script src=\"https://cdn.plot.ly/plotly-latest.min.js\"></script>    \n",
              "            <div id=\"683e963c-b5af-4ea2-960c-20bc88b96f7a\" class=\"plotly-graph-div\" style=\"height:525px; width:100%;\"></div>\n",
              "            <script type=\"text/javascript\">\n",
              "                \n",
              "                    window.PLOTLYENV=window.PLOTLYENV || {};\n",
              "                    \n",
              "                if (document.getElementById(\"683e963c-b5af-4ea2-960c-20bc88b96f7a\")) {\n",
              "                    Plotly.newPlot(\n",
              "                        '683e963c-b5af-4ea2-960c-20bc88b96f7a',\n",
              "                        [{\"alignmentgroup\": \"True\", \"bingroup\": \"x\", \"hoverlabel\": {\"namelength\": 0}, \"hovertemplate\": \"target=em_acount<br>personalizacion=%{x}<br>count=%{y}\", \"legendgroup\": \"target=em_acount\", \"marker\": {\"color\": \"#636efa\"}, \"name\": \"target=em_acount\", \"offsetgroup\": \"target=em_acount\", \"orientation\": \"v\", \"showlegend\": true, \"type\": \"histogram\", \"x\": [3, 3, 3, 3, 3, 3, 1, 3, 2, 2, 2, 2, 1, 2, 3, 3, 3, 3, 0, 2, 2, 2, 2, 2, 2, 2, 2, 2, 2, 2, 2, 2, 2, 2, 2, 2, 2, 2, 2, 2, 2, 2, 2, 2, 3, 2, 2, 2, 2, 3, 3, 3, 3, 3, 2, 1, 2, 2, 2, 2, 2, 2, 2, 2, 2, 2, 2, 2, 2, 2, 2, 2, 2, 2, 2, 2, 2, 2, 2, 2, 2, 2, 2, 2, 2, 2, 2, 2, 2, 2, 2, 2, 2, 2, 2, 2, 2, 3, 2, 2, 2, 2, 3, 2, 2, 2, 2, 2, 2, 2, 2, 2, 2, 2, 2, 2, 2, 2, 2, 2, 2, 2, 3, 2, 2, 2, 2, 2, 2, 2, 2, 2, 2, 2, 2, 2, 2, 2, 2, 2, 2, 2, 2, 2, 2, 2, 2, 2, 2, 2, 2, 2, 2, 2, 2, 2, 2, 2, 2, 2, 2, 2, 2, 2, 2, 2, 2, 2, 2, 2, 2, 2, 2, 2, 2, 2, 1, 2, 2, 2, 2, 2, 2, 2, 2, 2, 2, 2, 2, 2, 2, 2, 2, 2, 2, 2, 2, 2, 2, 2, 2, 2, 2, 2, 2, 2, 2, 2, 2, 2, 2, 2, 2, 2, 2, 2, 2, 2, 2, 2, 2, 2, 1, 2, 2, 2, 2, 2, 2, 2, 2, 2, 2, 2, 2, 2, 2, 2, 2, 2, 2, 2, 2, 0, 2, 2, 2, 2, 2, 2, 2, 2, 2, 2, 2, 2, 2, 2, 2, 2, 2, 3, 2, 2, 2, 2, 2, 2, 2, 2, 2, 2, 2, 2, 2, 2, 2, 2, 2, 2, 2, 2, 2, 2, 2, 2, 2, 2, 2, 2, 2, 2, 2, 2, 2, 2, 2, 2, 2, 2, 2, 0, 2, 2, 2, 2, 2, 2, 2, 2, 2, 2, 2, 2, 2, 2, 2, 2, 2, 2, 2, 2, 2, 2, 2, 2, 2, 2, 2, 2, 2, 2, 2, 1, 3, 2, 2, 2, 2, 2, 2, 2, 2, 2, 2, 2, 2, 2, 2, 2, 2, 2, 3, 3, 2, 2, 2, 2, 2, 2, 2, 2, 2, 2, 2, 2, 2, 2, 2, 2, 2, 2, 2, 2, 2, 2, 2, 2, 2, 2, 2, 2, 2, 2, 2, 2, 2, 2, 2, 2, 2, 2, 2, 2, 2, 2, 2, 2, 2, 2, 2, 2, 2, 2, 2, 2, 2, 2, 2, 2, 2, 2, 2, 2, 2, 2, 2, 2, 2, 2, 2, 2, 2, 2, 2, 2, 2, 2, 2, 2, 2, 2, 2, 2, 2, 2, 2, 2, 2, 2, 2, 2, 2, 2, 2, 2, 2, 2, 2, 2, 2, 2, 2, 2, 2, 2, 2, 2, 2, 2, 2, 2, 2, 2, 2, 2, 2, 2, 2, 2, 0, 2, 2, 2, 2, 2, 2, 2, 2, 2, 2, 2, 2, 2, 2, 3, 1, 1, 2, 2, 2, 2, 2, 2, 2, 2, 2, 3, 2, 2, 2, 2, 2, 2, 2, 2, 2, 2, 2, 2, 2, 2, 2, 2, 2, 2, 2, 2, 2, 2, 2, 2, 2, 2, 2, 2, 2, 2, 2, 2, 2, 2, 2, 2, 2, 2, 2, 2, 2, 2, 2, 2, 2, 2, 2, 2, 2, 1, 2, 2, 3, 1, 1, 2, 2, 2, 2, 2, 2, 2, 2, 2, 2, 2, 2, 2, 2, 2, 2, 2, 3, 2, 2, 3, 3, 3, 3, 3, 3, 3, 3, 3, 3, 3, 3, 3, 3, 3, 3, 3, 3, 3, 3, 3, 3, 3, 3, 3, 3, 3, 3, 3, 1, 3, 3, 3, 3, 3, 3, 3, 3, 3, 3, 3, 3, 2, 2, 2, 2, 2, 2, 2, 2, 3, 2, 2, 2, 2, 1, 3, 2, 2, 2, 2, 2, 2, 2, 2, 2, 2, 2, 2, 2, 2, 2, 2, 2, 2, 2, 2, 2, 2, 2, 2, 2, 2, 2, 3, 1, 2, 2, 2, 2, 2, 2, 2, 2, 2, 2, 2, 2, 2, 2, 2, 2, 2, 2, 2, 2, 2, 2, 2, 2, 2, 2, 2, 2, 2, 2, 2, 2, 2, 2, 2, 2, 2, 3, 2, 2, 2, 2, 2, 2, 2, 2, 2, 2, 2, 2, 2, 3, 2, 2, 2, 2, 2, 2, 2, 2, 2, 2, 2, 2, 2, 2, 2, 1, 2, 2, 2, 2, 2, 2, 2, 2, 2, 2, 3, 3, 2, 2, 2, 2, 2, 2, 2, 2, 2, 2, 2, 2, 2, 2, 1, 2, 2, 2, 2, 1, 3, 2, 2, 2, 2, 2, 2, 2, 2, 0, 2, 2, 2, 2, 2, 2, 2, 2, 2, 3, 2, 3, 3, 2, 2, 2, 2, 1, 2, 2, 1, 2, 2, 2, 2, 2, 3, 2, 2, 2, 2, 2, 2, 2, 2, 2, 2, 2, 2, 2, 2, 2, 2, 2, 2, 2, 2, 2, 2, 2, 2, 2, 2, 2, 2, 2, 2, 2, 2, 2, 2, 2, 0, 3, 2, 2, 2, 2, 2, 2, 2, 2, 2, 2, 2, 2, 2, 2, 2, 2, 2, 2, 2, 2, 2, 2, 2, 2, 2, 2, 2, 2, 2, 3, 3, 3, 3, 3, 3, 2, 3, 3, 2, 2, 2, 2, 2, 2, 2, 2, 2, 2, 2, 2, 2, 2, 2, 3, 3, 3, 3, 3, 0, 3, 3, 2, 2, 2, 1, 2, 2, 3, 2, 2, 2, 3, 3, 3, 3, 2, 2, 1, 3, 2, 2, 2, 2, 2, 3, 2, 2, 3, 1, 3, 3, 3, 3, 3, 2, 2, 2, 2, 2, 2, 2, 2, 2, 2, 2, 2, 3, 1, 3, 2, 2, 2, 2, 2, 2, 2, 2, 2, 2, 2, 2, 2, 2, 2, 2, 2, 2, 2, 2, 2, 2, 2, 2, 2, 2, 2, 2, 2, 2, 2, 2, 2, 2, 2, 0, 3, 1, 2, 3, 3, 1, 3, 3, 0, 2, 2, 2, 2, 2, 2, 2, 2, 2, 2, 2, 2, 2, 2, 2, 2, 2, 2, 2, 2, 2, 2, 2, 2, 2, 2, 2, 2, 2, 2, 2, 2, 2, 2, 2, 2, 2, 2, 2, 2, 2, 2, 2, 2, 2, 0, 0, 2, 2, 2, 2, 2, 2, 2, 2, 2, 2, 2, 2, 2, 2, 2, 2, 2, 2, 2, 2, 2, 2, 2, 2, 2, 2, 2, 2, 2, 2, 2, 2, 2, 2, 2, 2, 2, 2, 2, 2, 2, 2, 2, 2, 3, 3, 1, 3, 3, 2, 3, 2, 2, 2, 2, 2, 2, 2, 2, 2, 2, 2, 2, 2, 2, 2, 2, 3, 3, 2, 3, 2, 3, 1, 2, 2, 2, 2, 2, 2, 2, 2, 2, 2, 2, 2, 2, 2, 2, 1, 2, 3, 2, 2, 2, 2, 2, 2, 2, 2, 3, 2, 2, 2, 2, 0, 3, 2, 2, 2, 2, 2, 2, 2, 2, 2, 2, 2, 2, 2, 2, 2, 2, 2, 2, 2, 2, 2, 2, 2, 2, 2, 2, 2, 2, 2, 2, 2, 2, 2, 2, 2, 2, 2, 3, 3, 3, 1, 2, 2, 2, 3, 3, 2, 2, 2, 2, 2, 2, 2, 2, 2, 2, 2, 2, 2, 2, 2, 2, 2, 2, 2, 2, 2, 2, 2, 2, 2, 2, 2, 2, 2, 2, 2, 2, 2, 2, 1, 2, 2, 2, 2, 2, 2, 2, 2, 2, 2, 2, 2, 2, 2, 2, 2, 2, 2, 2, 2, 2, 2, 2, 2, 2, 2, 2, 3, 3, 3, 3, 1, 3, 1, 3, 2, 2, 2, 2, 2, 2, 1, 2, 2, 2, 2, 2, 2, 2, 2, 2, 2, 2, 2, 2, 2, 2, 2, 2, 2, 2, 2, 2, 2, 2, 2, 2, 2, 2, 2, 2, 2, 2, 2, 2, 2, 2, 2, 2, 2, 2, 3, 2, 0, 0, 0, 2, 2, 2, 2, 2, 2, 2, 2, 2, 0, 2, 1, 1, 1, 1, 1, 2, 2, 1, 3, 1, 2, 2, 2, 2, 2, 2, 2, 2, 2, 2, 2, 2, 2, 2, 2, 2, 2, 2, 2, 2, 2, 2, 2, 2, 2, 2, 2, 2, 2, 2, 2, 2, 2, 2, 2, 2, 2, 2, 2, 2, 2, 2, 2, 2, 2, 2, 1, 1, 1, 2, 2, 2, 2, 2, 2, 2, 2, 2, 2, 2, 2, 2, 2, 2, 2, 2, 2, 2, 2, 2, 2, 2, 2, 2, 2, 2, 2, 2, 2, 2, 2, 2, 2, 2, 2, 2, 2, 2, 2, 1, 1, 1, 2, 2, 2, 2, 2, 2, 2, 2, 2, 0, 2, 2, 3, 1, 1, 1, 3, 2, 2, 2, 2, 2, 2, 2, 2, 2, 2, 3, 3, 1, 1, 2, 2, 2, 2, 2, 2, 2, 2, 3, 3, 3, 3, 3, 2, 1, 1, 1, 1, 3, 3, 3, 3, 2, 2, 2, 2, 2, 2, 2, 2, 2, 2, 2, 2, 2, 2, 2, 2, 2, 2, 2, 2, 2, 2, 2, 2, 2, 2, 2, 2, 2, 2, 2, 2, 2, 2, 2, 2, 2, 2, 2, 2, 2, 1, 1, 1, 3, 1, 3, 2, 0, 1, 1, 1, 2, 2, 2, 2, 2, 2, 2, 2, 2, 2, 2, 2, 2, 2, 2, 2, 2, 2, 2, 2, 2, 2, 2, 2, 2, 2, 2, 0, 1, 2, 3, 2, 3, 2, 2, 1, 2, 2, 2, 2, 2, 3, 3, 2, 2, 2, 2, 3, 1, 2, 1, 3, 2, 2, 2, 2, 2, 2, 2, 2, 2, 1, 3, 2, 2, 2, 2, 2, 2, 1, 2, 2, 1, 2, 2, 2, 2, 2, 2, 2, 2, 2, 2, 2, 2, 2, 2, 2, 2, 2, 2, 2, 2, 2, 1, 3, 2, 2, 3, 1, 2, 2, 2, 2, 2, 2, 2, 2, 2, 2, 2, 2, 2, 2, 2, 2, 2, 2, 2, 2, 2, 2, 2, 2, 2, 2, 2, 2, 2, 2, 2, 2, 2, 2, 1, 1, 0, 1, 2, 2, 2, 2, 2, 1, 3, 2, 1, 2, 2, 2, 2, 2, 2, 1, 2, 2, 2, 2, 2, 2, 2, 2, 2, 2, 2, 1, 1, 1, 1, 1, 1, 1, 2, 3, 3, 3, 2, 2, 2, 2, 2, 2, 2, 2, 2, 2, 2, 2, 2, 2, 1, 0, 3, 3, 2, 2, 3, 1, 1, 3, 2, 2, 2, 2, 2, 2, 2, 0, 2, 2, 1, 1, 1, 3, 1, 3, 1, 3, 1, 3, 3, 0, 0, 0, 3, 2, 2, 2, 2, 1, 1, 3, 2, 0, 1, 2, 2, 2, 2, 2, 2, 2, 2, 2, 2, 2, 2, 2, 3, 3, 3, 2, 2, 2, 2, 2, 2, 2, 2, 2, 2, 2, 2, 0, 3, 3, 1, 1, 1, 2, 1, 3, 3, 2, 2, 2, 2, 2, 2, 2, 2, 2, 2, 3, 1, 2, 2, 2, 2, 2, 1, 1, 1, 1, 1, 1, 2, 0, 3, 3, 2, 1, 1, 0, 2, 2, 2, 3, 3, 2, 2, 2, 2, 2, 2, 1, 2, 2, 2, 2, 2, 2, 2, 2, 2, 2, 2, 2, 2, 2, 2, 2, 2, 2, 2, 2, 2, 2, 2, 2, 2, 2, 2, 2, 2, 2, 1, 3, 2, 2, 2, 2, 1, 1, 1, 2, 2, 1, 2, 0, 0, 2, 2, 2, 2, 2, 2, 2, 2, 2, 2, 2, 0, 0, 2, 2, 2, 2, 2, 2, 2, 2, 2, 2, 2, 2, 1, 3, 2, 1, 1, 1, 3, 2, 2, 2, 2, 2, 2, 2, 2, 3, 3, 3, 3, 1, 3, 2, 2, 2, 0, 2, 2, 2, 2, 2, 2, 3, 1, 1, 3, 2, 1, 0, 3, 2, 2, 2, 2, 2, 1, 1, 3, 1, 3, 3, 1, 3, 2, 2, 2, 1, 1, 3, 2, 2, 3, 1, 3, 2, 1, 2, 2, 2, 2, 2, 1, 1, 3, 2, 3, 2, 2, 2, 2, 2, 1, 1, 1, 2, 2, 2, 2, 2, 3, 0, 1, 1, 1, 1], \"xaxis\": \"x\", \"yaxis\": \"y\"}, {\"alignmentgroup\": \"True\", \"bingroup\": \"x\", \"hoverlabel\": {\"namelength\": 0}, \"hovertemplate\": \"target=financiacion<br>personalizacion=%{x}<br>count=%{y}\", \"legendgroup\": \"target=financiacion\", \"marker\": {\"color\": \"#EF553B\"}, \"name\": \"target=financiacion\", \"offsetgroup\": \"target=financiacion\", \"orientation\": \"v\", \"showlegend\": true, \"type\": \"histogram\", \"x\": [0, 1, 1, 1, 3, 1, 1, 1, 0, 0, 0, 0, 1, 1, 1, 1, 1, 0, 0, 0, 0, 1, 1, 3, 3, 1, 0, 0, 1, 1, 1, 1, 0, 1, 0, 0, 1, 1, 3, 0, 0, 1, 0, 0, 1, 0, 0, 1, 1, 1, 0, 1, 1, 1, 1, 0, 0, 1, 0, 1, 1, 1, 1, 1, 1, 1, 0, 0, 0, 0, 0, 0, 0, 1, 3, 0, 0, 1, 0, 1, 3, 0, 0, 0, 0, 1, 3, 3, 3, 0, 1, 1, 0, 1, 1, 1, 1, 0, 3, 1, 1, 1, 1, 1, 1, 3, 1, 3, 1, 1, 1, 1, 1, 1, 0, 1, 0, 0, 1, 0, 1, 1, 1, 0, 0, 1, 1, 1, 0, 1, 0, 1, 1, 0, 0, 1, 1, 1, 1, 1, 0, 0, 0, 1, 1, 0, 1, 1, 0, 1, 1, 1, 1, 0, 1, 0, 1, 0, 0, 0, 1, 3, 0, 1, 0, 1, 1, 1, 0, 1, 0, 0, 1, 1, 3, 3, 1, 1, 1, 0, 1, 0, 0, 0, 1, 0, 1, 3, 0, 0, 0, 1, 1, 1, 1, 0, 0, 1, 1, 1, 1, 1, 0, 1, 1, 3, 0, 0, 0, 3, 0, 1, 1, 1, 1, 0, 0, 1, 0, 0, 0, 1, 1, 1, 0, 1, 0, 1, 1, 0, 1, 0, 1, 1, 0, 0, 0, 1, 0, 1, 1, 0, 0, 1, 1, 1, 0, 0, 1, 1, 0, 1, 1, 1, 1, 1, 0, 0, 0, 0, 1, 1, 0, 1, 1, 1, 0, 0, 1, 1, 1, 1, 0, 0, 0, 1, 0, 1, 0, 0, 1, 1, 1, 0, 1, 1, 0, 1, 0, 1, 1, 1, 0, 1, 0, 1, 1, 0, 1, 0, 1, 3, 1, 0, 0, 1, 0, 0, 0, 0, 1, 1, 1, 1, 0, 0, 1, 0, 0, 0, 0, 1, 3, 0, 0, 0, 0, 1, 0, 1, 0, 1, 0, 1, 0, 1, 0, 0, 1, 1, 0, 0, 1, 1, 1, 0, 1, 0, 1, 3, 1, 0, 1, 1, 1, 0, 1, 1, 1, 1, 0, 0, 1, 1, 3, 1, 0, 1, 1, 0, 0, 0, 3, 1, 1, 1, 0, 0, 1, 0, 0, 0, 1, 0, 0, 0, 1, 1, 1, 0, 1, 0, 1, 1, 0, 0, 0, 1, 1, 1, 1, 0, 1, 1, 1, 1, 1, 0, 0, 0, 0, 0, 1, 1, 0, 0, 1, 1, 0, 0, 1, 0, 1, 1, 1, 1, 0, 1, 1, 1, 0, 1, 1, 1, 0, 0, 0, 0, 0, 0, 1, 1, 0, 1, 0, 0, 1, 0, 0, 1, 1, 1, 1, 0, 0, 0, 1, 0, 1, 1, 1, 1, 0, 1, 0, 1, 0, 1, 0, 0, 1, 0, 1, 1, 1, 1, 0, 1, 0, 0, 1, 1, 0, 1, 0, 1, 0, 1, 1, 1, 0, 1, 1, 0, 1, 0, 1, 1, 0, 0, 0, 1, 3, 3, 1, 0, 1, 1, 0, 0, 0, 0, 0, 0, 1, 0, 1, 0, 1, 3, 1, 1, 0, 1, 1, 0, 3, 1, 1, 0, 0, 1, 0, 1, 1, 0, 1, 1, 0, 0, 0, 0, 1, 0, 1, 1, 0, 0, 1, 0, 0, 0, 1, 0, 1, 0, 0, 1, 3, 1, 1, 1, 0, 0, 1, 1, 0, 1, 1, 1, 1, 0, 1, 1, 1, 0, 0, 0, 1, 1, 1, 0, 0, 1, 0, 0, 0, 0, 0, 1, 3, 0, 0, 1, 0, 1, 1, 0, 0, 1, 1, 1, 1, 1, 0, 0, 0, 0, 1, 1, 1, 1, 0, 0, 1, 1, 1, 1, 0, 1, 1, 0, 1, 0, 0, 1, 1, 0, 0, 1, 1, 0, 0, 0, 1, 1, 3, 0, 1, 1, 0, 0, 1, 1, 0, 1, 1, 0, 1, 0, 1, 0, 0, 1, 0, 1, 1, 1, 1, 3, 1, 1, 1, 0, 0, 1, 0, 0, 1, 1, 0, 0, 1, 1, 0, 0, 1, 0, 0, 0, 1, 1, 1, 1, 1, 1, 1, 0, 1, 1, 1, 1, 1, 0, 0, 0, 0, 0, 0, 1, 1, 1, 1, 0, 1, 1, 1, 1, 1, 1, 0, 0, 0, 1, 0, 1, 0, 1, 1, 0, 0, 1, 0, 0, 0, 1, 0, 3, 1, 0, 0, 0, 0, 1, 1, 1, 1, 1, 0, 0, 1, 0, 0, 1, 1, 1, 1, 1, 1, 0, 1, 1, 1, 1, 0, 1, 1, 3, 0, 1, 1, 1, 0, 0, 0, 0, 0, 0, 1, 0, 1, 1, 0, 1, 0, 0, 1, 1, 1, 0, 0, 1, 1, 0, 0, 1, 1, 0, 1, 0, 0, 0, 1, 0, 0, 0, 1, 0, 0, 1, 1, 1, 0, 1, 1, 1, 0, 3, 1, 0, 1, 1, 0, 0, 0, 0, 1, 1, 0, 1, 0, 1, 0, 1, 1, 0, 1, 1, 1, 0, 0, 0, 1, 0, 1, 1, 0, 1, 0, 1, 0, 1, 0, 3, 1, 3, 0, 1, 0, 1, 3, 1, 0, 1, 1, 0, 3, 0, 1, 0, 0, 0, 1, 1, 1, 1, 1, 3, 1, 0, 0, 1, 1, 0, 0, 0, 0, 1, 0, 1, 1, 3, 0, 1, 1, 1, 0, 0, 1, 0, 0, 1, 0, 1, 1, 0, 0, 0, 1, 1, 1, 1, 1, 0, 0, 1, 1, 1, 0, 1, 0, 1, 1, 0, 1, 0, 1, 1, 1, 0, 1, 0, 1, 0, 0, 1, 1, 0, 1, 0, 0, 3, 1, 0, 1, 1, 0, 1, 0, 0, 1, 0, 0, 0, 0, 0, 1, 0, 0, 0, 1, 0, 1, 1, 1, 1, 0, 1, 0, 0, 0, 0, 0, 1, 1, 0, 1, 1, 0, 1, 0, 0, 1, 1, 1, 1, 1, 0, 3, 0, 1, 0, 0, 0, 1, 0, 0, 1, 1, 0, 0, 0, 0, 0, 1, 1, 1, 0, 3, 0, 1, 0, 1, 1, 0, 0, 0, 0, 0, 1, 1, 1, 0, 1, 1, 1, 1, 1, 1, 1, 1, 0, 1, 1, 1, 1, 1, 1, 1, 0, 1, 1, 1, 1, 1, 0, 0, 0, 1, 0, 0, 1, 0, 1, 1, 1, 1, 0, 1, 0, 1, 1, 1, 1, 0, 1, 1, 1, 1, 1, 1, 0, 1, 1, 1, 0, 0, 1, 3, 0, 0, 0, 0, 0, 1, 1, 0, 1, 1, 0, 1, 0, 0, 1, 1, 0, 1, 0, 1, 1, 1, 1, 1, 1, 1, 1, 0, 0, 1, 1, 1, 1, 1, 0, 0, 1, 0, 0, 1, 0, 1, 0, 1, 0, 1, 1, 1, 0, 0, 0, 1, 1, 0, 1, 0, 1, 3, 0, 0, 0, 1, 3, 0, 1, 0, 1, 1, 1, 1, 1, 1, 0, 1, 3, 0, 1, 1, 0, 1, 1, 1, 0, 1, 1, 1, 0, 0, 0, 1, 0, 1, 1, 0, 0, 0, 1, 0, 1, 3, 1, 0, 1, 0, 0, 1, 1, 1, 1, 0, 1, 1, 1, 1, 1, 1, 1, 3, 1, 0, 0, 0, 1, 0, 0, 0, 0, 1, 0, 1, 0, 1, 0, 1, 1, 0, 1, 1, 1, 1, 0, 1, 0, 0, 1, 0, 1, 3, 0, 0, 0, 1, 0, 0, 0, 1, 0, 1, 1, 0, 0, 1, 1, 0, 0, 1, 0, 0, 1, 0, 0, 0, 1, 1, 0, 1, 0, 1, 1, 0, 1, 1, 0, 0, 0, 1, 0, 0, 1, 3, 3, 1, 0, 0, 0, 1, 1, 0, 0, 1, 0, 0, 1, 3, 0, 0, 0, 0, 0, 0, 3, 0, 1, 1, 0, 0, 1, 3, 1, 1, 0, 1, 0, 0, 0, 1, 0, 0, 0, 1, 0, 0, 0, 3, 1, 1, 1, 0, 1, 1, 0, 0, 0, 0, 0, 1, 1, 1, 0, 1, 1, 1, 3, 1, 0, 3, 1, 0, 0, 1, 1, 0, 1, 1, 1, 1, 0, 1, 0, 0, 0, 0, 1, 0, 0, 0, 0, 1, 1, 0, 1, 3, 1, 0, 1, 0, 0, 1, 1, 0, 1, 0, 0, 1, 0, 1, 0, 0, 1, 0, 1, 1, 0, 1, 0, 1, 3, 1, 1, 0, 0, 1, 1, 1, 1, 1, 3, 1, 0, 1, 1, 3, 1, 0, 0, 0, 1, 0, 1, 0, 1, 1, 1, 0, 0, 1, 1, 1, 1, 0, 0, 0, 0, 1, 3, 1, 1, 1, 1, 1, 1, 0, 1, 1, 1, 0, 0, 1, 0, 1, 1, 1, 0, 0, 1, 1, 3, 1, 1, 1, 1, 1, 1, 0, 1, 3, 1, 0, 1, 1, 0, 1, 1, 1, 1, 0, 0, 0, 1, 1, 0, 0, 1, 0, 1, 0, 0, 1, 1, 0, 0, 1, 0, 1, 1, 0, 1, 1, 1, 1, 0, 1, 1, 0, 1, 1, 0, 0, 0, 1, 0, 0, 0, 0, 1, 0, 1, 1, 1, 0, 0, 1, 0, 0, 0, 1, 0, 1, 1, 1, 3, 0, 1, 0, 0, 0, 0, 1, 0, 1, 0, 1, 0, 0, 0, 1, 1, 1, 1, 0, 0, 1, 1, 1, 0, 0, 1, 0, 0, 1, 1, 1, 1, 0, 0, 1, 0, 1, 0, 0, 0, 0, 0, 0, 1, 0, 1, 1, 1, 1, 0, 0, 1, 0, 1, 1, 0, 1, 0, 1, 0, 3, 0, 0, 1, 1, 1, 0, 0, 3, 1, 1, 0, 0, 1, 0, 0, 0, 0, 1, 0, 0, 0, 1, 1, 1, 0, 1, 3, 3, 0, 1, 0, 1, 3, 1, 0, 0, 1, 0, 1, 0, 1, 0, 3, 0, 0, 1, 0, 1, 1, 0, 1, 1, 3, 1, 1, 1, 1, 1, 1, 1, 0, 0, 1, 0, 1, 1, 0, 0, 1, 0, 0, 0, 1, 1, 1, 0, 1, 1, 1, 0, 0, 0, 0, 1, 0, 0, 0, 1, 0, 1, 1, 1, 1, 1, 1, 0, 1, 1, 0, 1, 1, 1, 0, 0, 0, 1, 0, 0, 0, 1, 1, 0, 0, 0, 0, 1, 0, 0, 1, 3, 1, 1, 0, 0, 1, 1, 3, 0, 1, 0, 0, 0, 0, 1, 1, 1, 0, 0, 0, 1, 3, 1, 3, 1, 0, 1, 0, 0, 0, 1, 1, 0, 0, 1, 0, 0, 0, 1, 3, 1, 0, 1, 1, 1, 1, 3, 0, 1, 0, 0, 1, 0, 1, 1, 1, 0, 0, 1, 1, 0, 3, 1, 0, 1, 3, 1, 1, 1, 0, 1, 0, 1, 3, 0, 1, 1, 0, 1, 1, 1, 1, 1, 1, 0, 0, 0, 0, 1, 0, 1, 1, 3, 0, 1, 1, 0, 1, 0, 0, 1, 1, 3, 1, 3, 0, 0, 0, 1, 1, 0, 3, 1, 1, 0, 1, 0, 1, 0, 0, 1, 0, 1, 1, 0, 1, 0, 0, 1, 0, 0, 0, 1, 1, 1, 0, 0, 1, 1, 0, 3, 0, 1, 0, 0, 1, 1, 0, 1, 1, 0, 0, 0, 1, 1, 0, 1, 1, 3, 1, 1, 1, 1, 0, 1, 0, 0, 1, 1, 0, 0, 1, 1, 0, 0, 0, 1, 1, 0, 1, 0, 1, 3, 0, 1, 0, 0, 3, 1, 0, 0, 1, 0, 1, 0, 0, 0, 1, 0, 0, 0, 0, 1, 1, 1, 1, 1, 1, 1, 0, 1, 1, 3, 1, 0, 1, 1, 1, 0, 1, 1, 1, 0, 1, 1, 0, 1, 1, 0, 0, 0, 0, 3, 0, 1, 0, 0, 0, 1, 1, 0, 0, 1, 0, 1, 0, 0, 1, 0, 1, 0, 0, 1, 1, 0, 0, 0, 3, 0, 1, 1, 1, 1, 1, 0, 0, 0, 1, 0, 0, 1, 0, 0, 1, 1, 1, 1, 0, 1, 0, 0, 0, 1, 1, 1, 0, 0, 0, 1, 1, 0, 1, 1, 0, 1, 1, 1, 1, 0, 0, 0, 1, 0, 0, 3, 0, 1, 0, 0, 1, 1, 0, 0, 1, 1, 1], \"xaxis\": \"x\", \"yaxis\": \"y\"}, {\"alignmentgroup\": \"True\", \"bingroup\": \"x\", \"hoverlabel\": {\"namelength\": 0}, \"hovertemplate\": \"target=debit_card<br>personalizacion=%{x}<br>count=%{y}\", \"legendgroup\": \"target=debit_card\", \"marker\": {\"color\": \"#00cc96\"}, \"name\": \"target=debit_card\", \"offsetgroup\": \"target=debit_card\", \"orientation\": \"v\", \"showlegend\": true, \"type\": \"histogram\", \"x\": [3, 3, 3, 3, 3, 3, 3, 3, 3, 3, 3, 3, 3, 3, 3, 3, 3, 3, 3, 3, 3, 3, 3, 3, 3, 3, 3, 1, 3, 3, 3, 3, 3, 3, 3, 3, 3, 3, 3, 1, 3, 3, 3, 3, 3, 3, 3, 3, 3, 3, 3, 3, 3, 3, 3, 3, 3, 3, 3, 3, 3, 3, 3, 3, 3, 3, 3, 3, 3, 3, 3, 3, 3, 3, 3, 3, 3, 3, 3, 3, 3, 3, 3, 3, 3, 3, 3, 3, 3, 3, 3, 3, 3, 3, 3, 3, 3, 3, 3, 3, 3, 3, 3, 3, 3, 3, 3, 3, 3, 3, 3, 3, 3, 3, 3, 3, 3, 3, 3, 3, 3, 3, 3, 3, 3, 3, 3, 3, 3, 3, 3, 3, 3, 3, 3, 3, 3, 3, 3, 3, 3, 3, 3, 0, 3, 3, 3, 3, 3, 3, 3, 3, 3, 3, 3, 3, 3, 3, 3, 3, 3, 3, 3, 3, 3, 3, 3, 3, 3, 3, 3, 3, 3, 3, 3, 3, 3, 3, 3, 3, 3, 3, 3, 3, 3, 3, 3, 3, 3, 3, 3, 3, 3, 3, 3, 3, 3, 3, 3, 3, 3, 3, 3, 3, 3, 3, 3, 3, 3, 3, 3, 3, 3, 3, 3, 3, 3, 3, 3, 3, 3, 3, 3, 3, 3, 3, 3, 3, 3, 3, 3, 3, 3, 3, 3, 3, 3, 3, 3, 3, 3, 3, 3, 3, 3, 3, 3, 3, 3, 3, 3, 3, 3, 3, 3, 3, 3, 3, 3, 1, 3, 3, 3, 3, 3, 3, 3, 3, 3, 3, 3, 3, 3, 3, 3, 3, 3, 3, 3, 3, 3, 3, 3, 3, 0, 3, 3, 3, 3, 1, 3, 3, 3, 3, 3, 3, 3, 3, 3, 3, 3, 3, 3, 3, 3, 3, 3, 3, 3, 3, 3, 3, 3, 3, 3, 3, 3, 3, 3, 3, 3, 3, 3, 3, 3, 3, 3, 3, 3, 3, 3, 3, 3, 3, 3, 3, 3, 3, 3, 3, 3, 3, 3, 3, 3, 3, 3, 3, 3, 3, 3, 3, 3, 3, 3, 3, 3, 3, 3, 3, 3, 3, 3, 3, 3, 3, 3, 3, 0, 3, 3, 3, 3, 3, 3, 3, 3, 3, 3, 3, 3, 3, 3, 3, 3, 3, 3, 3, 3, 3, 3, 3, 3, 3, 3, 3, 3, 3, 3, 3, 3, 3, 3, 3, 3, 3, 3, 3, 3, 3, 3, 3, 3, 3, 3, 3, 3, 3, 3, 3, 3, 3, 3, 3, 3, 3, 3, 3, 3, 3, 3, 3, 3, 3, 3, 3, 3, 3, 3, 3, 3, 1, 3, 3, 3, 3, 3, 3, 3, 3, 3, 3, 3, 3, 3, 3, 3, 3, 3, 3, 3, 3, 3, 3, 3, 3, 3, 3, 3, 3, 3, 3, 3, 3, 3, 3, 3, 3, 3, 3, 3, 3, 3, 3, 3, 3, 3, 3, 3, 3, 3, 3, 3, 3, 3, 3, 3, 3, 3, 3, 3, 3, 3, 3, 3, 3, 3, 3, 3, 3, 3, 3, 3, 3, 3, 3, 3, 3, 3, 3, 3, 3, 3, 3, 3, 3, 3, 3, 3, 3, 3, 3, 3, 3, 3, 3, 3, 3, 3, 3, 3, 3, 3, 3, 3, 3, 3, 3, 3, 3, 3, 3, 3, 3, 3, 3, 3, 3, 3, 3, 3, 3, 3, 3, 3, 3, 3, 3, 3, 3, 3, 3, 3, 3, 3, 3, 3, 3, 3, 3, 3, 3, 3, 3, 3, 3, 3, 3, 3, 3, 3, 3, 3, 3, 3, 3, 3, 3, 3, 3, 3, 3, 3, 3, 3, 3, 3, 3, 3, 3, 3, 3, 3, 3, 3, 3, 3, 3, 3, 3, 3, 3, 3, 3, 3, 3, 3, 3, 3, 3, 3, 3, 3, 3, 3, 3, 3, 3, 3, 3, 3, 3, 3, 3, 3, 3, 3, 3, 3, 3, 3, 3, 3, 3, 3, 3, 3, 3, 3, 3, 3, 3, 3, 3, 3, 3, 3, 3, 3, 3, 3, 3, 3, 3, 3, 3, 3, 3, 3, 3, 3, 3, 3, 3, 3, 3, 3, 3, 3, 3, 3, 3, 3, 3, 3, 3, 3, 3, 3, 3, 3, 3, 3, 3, 3, 3, 3, 3, 3, 3, 3, 3, 3, 3, 3, 3, 3, 3, 3, 3, 3, 3, 3, 3, 3, 3, 3, 3, 3, 3, 3, 3, 3, 3, 3, 3, 3, 3, 3, 3, 3, 3, 3, 3, 3, 3, 3, 3, 3, 3, 3, 3, 3, 3, 3, 3, 3, 3, 3, 3, 3, 3, 3, 3, 3, 3, 3, 3, 3, 3, 3, 3, 3, 3, 3, 3, 3, 3, 3, 3, 3, 3, 3, 3, 3, 3, 3, 3, 3, 3, 3, 3, 3, 3, 3, 3, 3, 3, 3, 3, 3, 3, 3, 3, 3, 3, 3, 3, 3, 3, 3, 3, 3, 3, 3, 3, 3, 3, 3, 3, 3, 3, 3, 3, 3, 3, 3, 3, 3, 3, 3, 3, 3, 3, 3, 3, 3, 3, 3, 3, 3, 3, 3, 3, 3, 3, 3, 3, 3, 3, 3, 3, 3, 3, 3, 3, 3, 3, 3, 3, 3, 3, 3, 3, 3, 3, 3, 3, 3, 3, 3, 3, 3, 3, 3, 3, 3, 3, 3, 3, 3, 3, 3, 3, 3, 3, 3, 3, 3, 3, 3, 3, 3, 3, 3, 3, 3, 3, 3, 3, 3, 3, 3, 3, 3, 3, 3, 3, 3, 3, 3, 3, 3, 3, 3, 3, 3, 3, 3, 3, 3, 3, 3, 3, 3, 3, 3, 3, 3, 3, 3, 3, 3, 3, 3, 3, 3, 3, 3, 3, 1, 3, 3, 3, 3, 3, 3, 3, 3, 3, 3, 3, 3, 3, 3, 3, 3, 3, 3, 3, 3, 3, 3, 3, 3, 3, 3, 3, 3, 3, 3, 3, 3, 3, 3, 3, 3, 3, 3, 3, 3, 3, 3, 3, 3, 3, 3, 3, 3, 3, 3, 3, 3, 3, 3, 3, 3, 3, 3, 3, 3, 3, 3, 3, 3, 3, 3, 3, 3, 3, 3, 3, 3, 3, 3, 3, 3, 3, 3, 3, 3, 3, 3, 3, 3, 3, 3, 3, 3, 3, 3, 3, 3, 3, 3, 3, 3, 3, 3, 3, 3, 3, 3, 3, 3, 3, 3, 3, 3, 3, 3, 3, 3, 3, 3, 3, 3, 3, 3, 3, 3, 3, 3, 3, 3, 3, 3, 3, 3, 3, 3, 3, 3, 3, 3, 3, 3, 3, 3, 3, 3, 3, 3, 3, 3, 3, 3, 3, 3, 3, 3, 3, 3, 3, 3, 3, 3, 3, 3, 3, 3, 3, 3, 3, 3, 3, 3, 3, 3, 3, 3, 3, 3, 3, 3, 3, 3, 3, 3, 3, 3, 3, 3, 3, 3, 3, 3, 3, 3, 3, 3, 3, 3, 3, 3, 3, 3, 3, 3, 3, 3, 3, 3, 3, 3, 3, 3, 3, 3, 3, 3, 3, 3, 3, 3, 3, 3, 3, 3, 3, 3, 3, 3, 3, 3, 3, 3, 3, 3, 3, 3, 3, 3, 3, 3, 3, 3, 3, 3, 3, 3, 3, 3, 3, 3, 3, 3, 3, 3, 3, 3, 3, 3, 3, 3, 3, 3, 3, 3, 3, 3, 3, 3, 3, 3, 3, 3, 3, 3, 3, 3, 3, 3, 3, 3, 3, 3, 3, 3, 3, 3, 3, 3, 3, 3, 3, 3, 0, 3, 3, 3, 3, 3, 3, 3, 3, 3, 3, 3, 3, 3, 3, 3, 3, 3, 3, 3, 3, 3, 3, 3, 3, 3, 3, 3, 3, 3, 3, 3, 3, 3, 3, 3, 3, 3, 3, 3, 3, 3, 3, 3, 3, 3, 3, 3, 3, 3, 3, 3, 3, 3, 3, 3, 3, 3, 3, 3, 3, 3, 3, 3, 3, 3, 3, 3, 3, 3, 3, 3, 3, 3, 3, 3, 3, 3, 3, 3, 3, 3, 3, 3, 3, 3, 3, 3, 3, 3, 3, 3, 3, 3, 3, 3, 3, 3, 3, 3, 3, 3, 3, 3, 3, 3, 3, 3, 3, 3, 3, 3, 3, 3, 3, 3, 3, 3, 3, 3, 3, 3, 3, 3, 3, 3, 3, 3, 3, 3, 3, 3, 3, 3, 3, 3, 3, 3, 3, 3, 3, 3, 3, 3, 0, 3, 3, 3, 3, 0, 3, 0, 3, 3, 3, 3, 3, 3, 3, 3, 3, 3, 3, 3, 0, 3, 3, 3, 3, 3, 3, 3, 3, 3, 3, 3, 3, 3, 3, 3, 3, 3, 3, 3, 3, 3, 3, 3, 3, 3, 3, 3, 3, 3, 3, 3, 3, 3, 3, 3, 3, 3, 3, 3, 3, 3, 3, 3, 3, 3, 3, 3, 3, 3, 3, 3, 3, 3, 3, 3, 3, 3, 3, 3, 3, 3, 3, 3, 3, 3, 3, 3, 3, 3, 3, 3, 3, 3, 3, 3, 3, 3, 3, 3, 3, 3, 3, 3, 3, 3, 3, 3, 3, 3, 3, 3, 3, 3, 3, 3, 3, 3, 3, 3, 3, 3, 3, 3, 3, 3, 3, 3, 3, 3, 3, 3, 3, 3, 3, 3, 3, 3, 3, 3, 3, 3, 3, 3, 3, 3, 3, 3, 3, 3, 3, 3, 3, 3, 3, 3, 3, 3, 3, 3, 3, 3, 3, 3, 3, 3, 3, 3, 3, 3, 3, 3, 3, 3, 3, 3, 3, 3, 3, 3, 3, 3, 3, 3, 3, 3, 3, 3, 3, 3, 3, 3, 3, 3, 3, 3, 3, 3, 3, 3, 3, 3, 3, 3, 3, 3, 3, 3, 3, 3, 3, 3, 3, 3, 3, 3, 3, 3, 3, 3, 3, 3, 3, 3, 3, 3, 3, 3, 3, 3, 3, 3, 3, 3, 3, 3, 3, 3, 3, 3, 1, 3, 3, 3, 3, 3, 3, 3, 3, 3, 3, 3, 3, 3, 3, 3, 3, 3, 3, 3, 3, 3, 3, 3, 3, 3, 3, 3, 3, 3, 3, 3, 3, 3, 3, 3, 3, 3, 3, 3, 3, 3, 3, 3, 3, 3, 3, 3, 3, 3, 3, 3, 3, 3, 3, 3, 3, 3, 3, 3, 3, 3, 3, 3, 3, 3, 3, 3, 3, 3, 3, 3, 3, 3, 3, 3, 3, 3, 3, 3, 3, 3, 3, 3, 3, 3, 3, 3, 3, 3, 3, 3, 3, 3, 3, 3, 3, 3, 3, 3, 3, 3, 3, 3, 3, 3, 3, 3, 3, 3, 3, 3, 3, 3, 3, 3, 3, 3, 3, 3, 3, 3, 3, 3, 3, 3, 3, 3, 3, 3, 3, 3, 3, 3, 3, 3, 3, 3, 3, 3, 3, 3, 3, 3, 3, 3, 3, 3, 3, 3, 3, 3, 3, 3, 3, 3, 3, 3, 3, 3, 3, 3, 3, 3, 3, 3, 3, 3, 3, 3, 3, 3, 3, 3, 3, 3, 3, 3, 3, 3, 3, 3, 3, 3, 3, 3, 3, 3, 3, 3, 3, 3, 3, 3, 3, 3, 3, 3, 3, 3, 3, 3, 3, 3, 3, 3, 3, 3, 3, 3, 3, 3, 3, 3, 3, 3, 3, 3, 3, 3, 3, 3, 3, 3, 3, 3, 3, 3, 3, 3, 3, 3, 3, 3, 3, 3, 3, 3, 3, 3, 3, 3, 3, 3, 3, 3, 3, 3, 3, 3, 3, 3, 3, 3, 3, 3, 3, 3, 3, 3, 3, 3, 3, 3, 3, 3, 3, 3, 0, 3, 3, 3, 3, 3, 3, 3, 3, 3, 3, 3, 3, 3, 3, 3, 3, 3, 3, 3, 3, 3, 3, 3, 3, 3, 3, 3, 3, 3, 3, 3, 3, 3, 3, 3, 3, 3, 3, 3, 3, 3, 3, 3, 3, 3, 3, 3, 3, 3, 3, 3, 3, 3, 3, 3, 3, 3, 3, 0, 3, 3, 3, 3, 3, 3, 3, 3, 3, 3, 3, 3, 3, 3, 3, 3, 3, 3, 3, 3, 0, 3, 3, 3, 3, 3, 3, 3, 3, 3, 3, 3, 3, 3, 3, 3, 3, 3, 3, 3, 3, 3, 3, 3, 3, 3, 3, 3, 3, 3, 3, 3, 3, 3, 3, 3, 3, 3, 3, 3, 3], \"xaxis\": \"x\", \"yaxis\": \"y\"}, {\"alignmentgroup\": \"True\", \"bingroup\": \"x\", \"hoverlabel\": {\"namelength\": 0}, \"hovertemplate\": \"target=cuentas<br>personalizacion=%{x}<br>count=%{y}\", \"legendgroup\": \"target=cuentas\", \"marker\": {\"color\": \"#ab63fa\"}, \"name\": \"target=cuentas\", \"offsetgroup\": \"target=cuentas\", \"orientation\": \"v\", \"showlegend\": true, \"type\": \"histogram\", \"x\": [3, 3, 0, 1, 1, 3, 1, 0, 3, 0, 1, 1, 0, 3, 1, 1, 1, 3, 0, 0, 0, 0, 0, 1, 1, 3, 0, 0, 1, 1, 0, 3, 0, 0, 0, 3, 3, 1, 1, 1, 1, 1, 0, 0, 3, 1, 0, 0, 3, 1, 0, 3, 1, 1, 3, 3, 3, 1, 3, 1, 1, 0, 0, 1, 3, 3, 1, 1, 1, 0, 3, 3, 0, 1, 3, 3, 0, 1, 1, 3, 0, 3, 0, 3, 3, 3, 1, 0, 0, 3, 3, 1, 0, 3, 0, 0, 1, 3, 1, 1, 1, 3, 1, 3, 3, 1, 0, 0, 1, 3, 3, 1, 1, 3, 0, 3, 3, 0, 1, 1, 0, 0, 1, 3, 1, 0, 0, 1, 0, 3, 3, 1, 3, 3, 1, 0, 1, 0, 0, 0, 3, 0, 0, 0, 3, 0, 3, 1, 1, 3, 1, 3, 1, 0, 0, 3, 0, 3, 1, 1, 0, 0, 3, 3, 3, 1, 3, 0, 0, 1, 0, 0, 0, 0, 0, 0, 3, 3, 0, 0, 0, 0, 1, 0, 3, 0, 1, 0, 0, 1, 0, 0, 1, 1, 1, 0, 3, 0, 1, 0, 1, 3, 1, 0, 0, 3, 1, 0, 3, 1, 1, 0, 1, 0, 0, 3, 0, 1, 3, 0, 3, 0, 3, 0, 1, 1, 1, 0, 3, 0, 1, 0, 1, 0, 0, 1, 3, 0, 1, 0, 0, 0, 3, 0, 1, 3, 1, 1, 0, 0, 0, 3, 0, 3, 3, 1, 1, 0, 0, 0, 0, 1, 3, 3, 1, 3, 1, 0, 0, 3, 3, 3, 1, 0, 1, 0, 0, 0, 0, 0, 0, 0, 0, 3, 1, 1, 1, 3, 1, 0, 1, 1, 3, 3, 0, 0, 0, 3, 3, 1, 1, 3, 3, 3, 0, 0, 0, 1, 0, 0, 0, 0, 0, 1, 0, 0, 0, 3, 0, 1, 0, 1, 0, 1, 0, 3, 0, 0, 0, 0, 1, 0, 0, 1, 3, 0, 0, 1, 0, 3, 1, 0, 0, 3, 1, 0, 0, 0, 1, 1, 0, 1, 0, 3, 0, 3, 0, 3, 3, 0, 0, 0, 0, 1, 0, 3, 0, 0, 0, 0, 1, 3, 1, 1, 1, 1, 3, 0, 0, 3, 3, 1, 1, 1, 1, 3, 3, 1, 1, 1, 1, 1, 0, 0, 1, 3, 0, 3, 3, 1, 3, 1, 0, 0, 1, 3, 1, 0, 0, 0, 3, 3, 0, 1, 0, 1, 3, 1, 0, 0, 0, 1, 1, 1, 0, 3, 3, 1, 1, 0, 1, 1, 0, 3, 0, 0, 3, 1, 1, 1, 0, 1, 3, 0, 3, 3, 3, 0, 3, 3, 1, 0, 1, 0, 1, 3, 3, 3, 1, 0, 0, 3, 3, 1, 1, 1, 3, 0, 3, 0, 0, 0, 0, 3, 0, 1, 0, 1, 1, 3, 3, 0, 3, 0, 0, 1, 1, 1, 1, 0, 1, 3, 0, 3, 1, 0, 0, 3, 0, 1, 0, 1, 0, 0, 1, 1, 0, 1, 0, 3, 0, 0, 3, 0, 0, 1, 0, 1, 1, 0, 0, 1, 0, 1, 0, 3, 1, 3, 3, 3, 1, 1, 1, 3, 3, 3, 3, 1, 0, 0, 1, 3, 1, 1, 3, 1, 3, 0, 1, 3, 3, 0, 0, 3, 3, 0, 1, 0, 1, 1, 1, 3, 3, 0, 1, 3, 0, 1, 0, 1, 3, 0, 3, 0, 1, 0, 1, 0, 0, 1, 0, 0, 1, 0, 3, 3, 0, 1, 1, 0, 3, 0, 1, 0, 0, 0, 1, 1, 1, 0, 1, 0, 3, 0, 1, 1, 0, 3, 0, 1, 0, 1, 1, 1, 0, 0, 0, 3, 0, 3, 0, 0, 0, 0, 0, 1, 0, 3, 1, 3, 0, 0, 1, 0, 0, 1, 1, 3, 3, 0, 3, 3, 1, 1, 0, 1, 3, 0, 1, 0, 3, 3, 0, 3, 1, 1, 1, 1, 1, 0, 3, 0, 1, 0, 0, 0, 1, 1, 3, 0, 3, 0, 1, 1, 1, 1, 0, 0, 1, 0, 1, 3, 3, 0, 3, 0, 0, 1, 1, 1, 3, 1, 3, 0, 3, 3, 3, 0, 1, 3, 3, 1, 0, 0, 0, 0, 1, 3, 0, 0, 1, 1, 0, 0, 3, 3, 0, 1, 3, 0, 0, 3, 0, 3, 3, 3, 0, 1, 3, 3, 0, 0, 1, 3, 1, 0, 1, 0, 0, 3, 1, 3, 3, 1, 1, 0, 1, 3, 3, 1, 3, 0, 0, 1, 3, 1, 1, 0, 0, 1, 3, 3, 3, 1, 3, 0, 0, 0, 3, 1, 1, 1, 1, 0, 0, 3, 1, 0, 0, 0, 1, 3, 1, 3, 3, 1, 1, 1, 0, 3, 0, 3, 3, 0, 0, 1, 1, 3, 0, 1, 3, 0, 3, 0, 3, 3, 0, 1, 1, 1, 0, 0, 0, 1, 1, 1, 0, 0, 1, 3, 1, 1, 3, 1, 1, 0, 0, 0, 0, 0, 3, 1, 3, 0, 3, 0, 0, 1, 3, 1, 1, 1, 1, 3, 1, 0, 3, 3, 1, 0, 1, 3, 3, 3, 0, 1, 3, 0, 0, 0, 1, 1, 1, 3, 1, 1, 1, 1, 0, 0, 1, 0, 3, 1, 3, 0, 0, 1, 3, 1, 3, 0, 0, 0, 1, 3, 0, 3, 1, 3, 3, 1, 0, 0, 1, 1, 0, 0, 1, 0, 3, 0, 0, 0, 3, 0, 3, 1, 0, 0, 0, 1, 1, 0, 3, 1, 1, 3, 3, 0, 1, 3, 1, 3, 3, 0, 3, 3, 1, 3, 1, 3, 1, 0, 0, 1, 1, 0, 1, 0, 3, 1, 1, 3, 0, 3, 3, 3, 0, 0, 3, 1, 1, 3, 1, 3, 3, 1, 0, 0, 1, 1, 1, 1, 3, 3, 3, 0, 0, 1, 0, 0, 0, 3, 3, 1, 0, 3, 0, 3, 1, 3, 1, 0, 3, 3, 0, 3, 0, 1, 0, 1, 3, 1, 0, 3, 1, 3, 1, 0, 0, 3, 1, 1, 1, 1, 3, 3, 0, 0, 1, 1, 0, 1, 0, 0, 1, 0, 0, 1, 0, 1, 0, 0, 0, 0, 0, 3, 0, 0, 1, 3, 3, 1, 0, 1, 1, 0, 0, 1, 3, 0, 3, 1, 0, 0, 0, 1, 3, 0, 3, 3, 3, 0, 1, 3, 0, 1, 3, 3, 3, 1, 3, 0, 3, 1, 1, 0, 3, 1, 1, 1, 1, 1, 1, 3, 0, 0, 3, 0, 1, 1, 1, 1, 3, 1, 3, 0, 3, 1, 1, 1, 3, 1, 3, 3, 3, 1, 3, 0, 0, 0, 3, 0, 0, 3, 0, 1, 1, 1, 1, 1, 1, 3, 0, 3, 1, 0, 3, 3, 0, 0, 0, 3, 0, 1, 1, 3, 0, 3, 0, 1, 3, 3, 1, 1, 3, 3, 0, 1, 1, 1, 1, 3, 1, 0, 0, 1, 3, 0, 3, 3, 3, 1, 0, 3, 0, 3, 1, 0, 3, 0, 3, 0, 1, 0, 0, 3, 3, 1, 1, 1, 0, 3, 1, 1, 3, 1, 1, 0, 0, 0, 1, 1, 0, 0, 0, 3, 1, 3, 3, 0, 3, 0, 1, 0, 0, 3, 3, 1, 0, 0, 0, 1, 0, 3, 1, 1, 0, 3, 0, 0, 0, 0, 3, 0, 0, 0, 3, 1, 0, 1, 0, 0, 3, 3, 0, 0, 0, 0, 1, 3, 1, 3, 1, 0, 3, 0, 0, 3, 0, 0, 1, 3, 0, 3, 1, 0, 0, 1, 3, 1, 0, 0, 0, 3, 3, 0, 0, 1, 3, 1, 0, 1, 1, 0, 1, 0, 0, 0, 1, 1, 0, 1, 3, 1, 1, 1, 3, 1, 3, 1, 1, 3, 0, 3, 1, 0, 1, 1, 0, 1, 0, 3, 0, 0, 0, 3, 1, 1, 1, 1, 1, 0, 1, 1, 3, 0, 3, 3, 1, 3, 1, 3, 1, 3, 3, 0, 1, 1, 3, 1, 0, 0, 1, 1, 0, 3, 0, 0, 3, 0, 0, 3, 1, 0, 3, 0, 3, 3, 0, 3, 3, 0, 0, 0, 0, 1, 1, 1, 3, 0, 3, 3, 1, 1, 0, 1, 1, 0, 1, 3, 0, 3, 0, 3, 1, 3, 1, 0, 1, 0, 0, 0, 1, 0, 0, 1, 0, 3, 0, 0, 3, 3, 0, 3, 0, 1, 3, 1, 0, 3, 1, 0, 1, 3, 1, 1, 3, 3, 1, 1, 1, 3, 1, 3, 3, 3, 0, 3, 1, 0, 3, 0, 3, 3, 0, 1, 1, 3, 1, 3, 0, 0, 3, 3, 1, 3, 0, 1, 0, 1, 3, 3, 1, 0, 0, 0, 0, 0, 1, 1, 0, 0, 3, 0, 1, 0, 3, 0, 1, 3, 1, 1, 1, 1, 0, 0, 0, 3, 0, 0, 0, 3, 1, 1, 1, 1, 3, 0, 3, 1, 3, 1, 1, 3, 3, 3, 3, 1, 3, 0, 0, 3, 0, 3, 0, 0, 1, 0, 3, 0, 3, 1, 0, 3, 3, 1, 0, 1, 3, 3, 3, 0, 1, 0, 0, 3, 1, 1, 0, 1, 3, 1, 0, 3, 1, 0, 1, 0, 0, 1, 3, 3, 1, 1, 0, 1, 0, 1, 1, 3, 3, 0, 3, 3, 3, 1, 3, 3, 0, 3, 3, 3, 3, 0, 1, 0, 0, 0, 3, 3, 1, 1, 3, 0, 3, 0, 3, 1, 1, 1, 1, 1, 0, 0, 3, 3, 1, 0, 0, 1, 0, 3, 1, 3, 1, 1, 1, 0, 1, 1, 3, 0, 1, 3, 3, 0, 3, 0, 1, 3, 3, 3, 0, 0, 1, 0, 0, 0, 1, 0, 0, 1, 0, 0, 1, 3, 0, 0, 3, 3, 0, 3, 1, 0, 1, 0, 0, 0, 3, 3, 3, 0, 0, 0, 3, 3, 0, 1, 0, 0, 1, 3, 3, 3, 1, 0, 1, 3, 3, 0, 1, 0, 0, 1, 0, 1, 0, 3, 1, 3, 1, 1, 3, 3, 0, 3, 0, 1, 0, 1, 0, 0, 1, 1, 3, 3, 0, 3, 0, 0, 3, 0, 3, 1, 0, 3, 0, 1, 0, 3, 3, 3, 0, 0, 0, 1, 0, 3, 0, 1, 3, 3, 1, 1, 0, 3, 3, 3, 1, 0, 1, 0, 1, 3, 0, 3, 3, 1, 0, 3, 0, 3, 3, 1, 1, 1, 1, 0, 0, 3, 3, 3, 1, 3, 1, 3, 1, 3, 3, 1, 1, 1, 3, 3, 1, 3, 3, 0, 1, 0, 0, 0, 0, 0, 1, 1, 0, 1, 1, 1, 3, 0, 0, 0, 1, 1, 1, 1, 3, 0, 3, 3, 3, 0, 0, 0, 0, 0, 1, 3, 0, 0, 3, 3, 1, 0, 0, 3, 3, 3, 0, 0, 1, 1, 1, 1, 0, 0, 3, 0, 3, 1, 0, 0, 0, 3, 3, 1, 3, 0, 0, 3, 1, 3, 3, 1, 3, 1, 3, 0, 0, 3, 1, 3, 3, 3, 1, 1, 3, 3, 3, 3, 3, 0, 3, 3, 0, 0, 0, 3, 0, 1, 0, 1, 1, 0, 3, 1, 3, 0, 0, 1, 3, 0, 1, 0, 3, 0, 0, 1, 0, 0, 1, 3, 3, 0, 0, 1, 1, 1, 1, 1, 0, 3, 0, 1, 3, 0, 3, 3, 1, 3, 1, 1, 3, 0, 1, 0, 0, 3, 0, 3, 3, 1, 3, 0, 3, 3, 1, 3, 0, 1, 1, 0, 0, 0, 0, 0, 1, 0, 1, 3, 3, 1, 3, 1, 0, 3, 3, 1, 1, 0, 1, 1, 1, 0, 1, 1, 1, 1, 0, 0, 3, 3, 1, 1, 3, 3, 0, 3, 1, 1, 0, 0, 1, 0, 0, 3, 3, 0, 0, 3, 3, 3, 0, 1, 3, 3, 1, 3, 1, 1, 0, 0, 3, 3, 1, 0, 1, 3, 1, 1, 0, 3, 1, 1, 0, 1, 0, 0, 0, 1, 0, 3, 0, 1, 1, 3, 1, 1, 0, 0, 3, 3, 3, 0, 1, 1, 0, 0, 0, 0, 0, 3, 3, 1, 3, 3], \"xaxis\": \"x\", \"yaxis\": \"y\"}, {\"alignmentgroup\": \"True\", \"bingroup\": \"x\", \"hoverlabel\": {\"namelength\": 0}, \"hovertemplate\": \"target=ahorro_inversion<br>personalizacion=%{x}<br>count=%{y}\", \"legendgroup\": \"target=ahorro_inversion\", \"marker\": {\"color\": \"#FFA15A\"}, \"name\": \"target=ahorro_inversion\", \"offsetgroup\": \"target=ahorro_inversion\", \"orientation\": \"v\", \"showlegend\": true, \"type\": \"histogram\", \"x\": [0, 0, 0, 0, 0, 0, 0, 0, 0, 0, 0, 0, 0, 3, 0, 0, 0, 0, 0, 3, 3, 3, 3, 0, 1, 0, 0, 3, 0, 3, 0, 3, 3, 3, 3, 3, 0, 3, 0, 3, 3, 0, 0, 0, 0, 0, 0, 0, 1, 3, 3, 0, 0, 0, 0, 0, 1, 0, 0, 3, 3, 3, 3, 0, 0, 0, 0, 3, 0, 0, 0, 3, 0, 0, 3, 0, 0, 3, 0, 0, 0, 3, 0, 0, 0, 0, 0, 0, 3, 0, 0, 0, 1, 3, 3, 0, 3, 3, 3, 0, 0, 3, 3, 0, 3, 3, 3, 0, 3, 3, 0, 3, 0, 0, 0, 3, 3, 0, 0, 1, 3, 1, 1, 3, 0, 0, 0, 3, 3, 3, 0, 3, 0, 3, 3, 0, 3, 3, 0, 0, 3, 3, 0, 3, 0, 0, 3, 0, 3, 3, 0, 0, 3, 3, 3, 0, 3, 0, 3, 3, 3, 3, 0, 3, 0, 3, 3, 0, 0, 3, 3, 3, 3, 3, 3, 3, 1, 3, 0, 3, 3, 3, 3, 3, 3, 3, 3, 3, 3, 3, 0, 1, 0, 3, 0, 0, 3, 3, 3, 3, 0, 3, 3, 1, 0, 0, 0, 0, 1, 0, 0, 3, 3, 0, 0, 3, 0, 3, 0, 3, 1, 0, 0, 3, 3, 3, 3, 3, 3, 3, 3, 0, 0, 0, 3, 3, 3, 0, 3, 3, 0, 3, 3, 1, 0, 3, 0, 0, 0, 3, 3, 1, 3, 3, 3, 0, 0, 0, 3, 3, 0, 0, 0, 3, 3, 3, 3, 3, 0, 3, 0, 3, 3, 0, 0, 3, 3, 3, 0, 0, 3, 0, 3, 0, 0, 0, 3, 3, 3, 3, 0, 0, 3, 0, 0, 0, 0, 3, 0, 3, 0, 0, 3, 3, 0, 0, 3, 0, 0, 0, 3, 3, 3, 0, 0, 0, 0, 3, 0, 3, 0, 3, 0, 0, 0, 3, 3, 0, 0, 0, 3, 0, 3, 1, 0, 3, 3, 3, 3, 0, 0, 0, 0, 3, 0, 3, 3, 3, 0, 0, 1, 0, 3, 3, 3, 3, 0, 0, 0, 3, 3, 0, 0, 0, 3, 3, 0, 0, 0, 3, 0, 0, 3, 0, 0, 1, 3, 0, 3, 3, 0, 3, 3, 0, 1, 0, 3, 0, 3, 0, 3, 0, 0, 0, 0, 3, 3, 3, 3, 0, 0, 0, 0, 0, 0, 3, 0, 3, 3, 1, 3, 3, 3, 0, 0, 3, 0, 0, 3, 0, 0, 0, 0, 3, 0, 3, 0, 1, 3, 3, 0, 0, 0, 0, 3, 0, 3, 0, 0, 3, 3, 3, 3, 0, 1, 3, 0, 3, 0, 3, 3, 0, 3, 0, 3, 3, 0, 3, 3, 3, 3, 3, 3, 3, 0, 3, 3, 0, 3, 0, 0, 3, 0, 0, 3, 3, 0, 0, 3, 0, 1, 0, 0, 3, 3, 3, 3, 0, 0, 0, 3, 3, 0, 0, 3, 0, 3, 0, 0, 3, 0, 3, 3, 0, 0, 0, 0, 0, 3, 3, 3, 3, 3, 3, 3, 0, 3, 0, 0, 3, 0, 3, 0, 0, 3, 3, 3, 3, 3, 3, 3, 3, 0, 3, 0, 0, 3, 3, 0, 0, 0, 0, 0, 3, 0, 3, 0, 0, 3, 3, 3, 3, 3, 0, 3, 3, 3, 3, 3, 0, 0, 3, 0, 3, 3, 0, 3, 0, 0, 0, 3, 0, 3, 0, 0, 3, 3, 0, 3, 3, 3, 3, 3, 0, 0, 3, 0, 3, 3, 0, 0, 3, 0, 0, 3, 0, 3, 3, 3, 0, 0, 3, 0, 0, 0, 0, 3, 0, 3, 0, 0, 3, 0, 3, 3, 0, 3, 0, 3, 3, 0, 0, 3, 0, 0, 3, 0, 0, 0, 0, 3, 0, 0, 0, 0, 0, 0, 0, 3, 3, 3, 0, 0, 0, 0, 3, 3, 0, 0, 3, 0, 0, 0, 3, 3, 3, 1, 3, 3, 0, 3, 0, 3, 3, 0, 3, 0, 3, 0, 3, 1, 3, 0, 0, 0, 3, 0, 0, 0, 0, 0, 3, 3, 0, 3, 3, 3, 3, 0, 3, 3, 0, 0, 3, 0, 3, 0, 0, 0, 3, 0, 3, 3, 0, 3, 0, 3, 3, 0, 3, 3, 0, 3, 3, 3, 3, 3, 0, 0, 0, 0, 0, 0, 3, 3, 0, 0, 0, 3, 3, 1, 0, 3, 1, 3, 3, 0, 0, 0, 1, 0, 3, 0, 3, 0, 3, 3, 0, 3, 0, 3, 0, 3, 0, 3, 3, 0, 3, 0, 0, 0, 0, 0, 0, 0, 0, 0, 0, 0, 0, 0, 0, 0, 0, 0, 0, 0, 0, 0, 0, 0, 0, 0, 0, 0, 0, 0, 0, 0, 0, 0, 0, 0, 0, 0, 0, 0, 0, 0, 0, 0, 0, 0, 0, 0, 0, 0, 0, 3, 0, 3, 0, 3, 3, 3, 3, 0, 0, 3, 3, 3, 3, 3, 0, 3, 0, 3, 3, 3, 0, 3, 3, 1, 0, 3, 3, 3, 0, 3, 3, 3, 3, 3, 3, 0, 0, 3, 3, 3, 3, 0, 3, 0, 3, 3, 3, 3, 3, 0, 3, 0, 3, 3, 0, 3, 3, 3, 3, 0, 3, 3, 3, 3, 3, 3, 3, 3, 0, 3, 3, 3, 0, 1, 0, 3, 3, 3, 0, 3, 3, 3, 3, 0, 3, 0, 3, 3, 0, 0, 3, 3, 0, 3, 0, 1, 3, 0, 0, 3, 0, 3, 3, 3, 0, 0, 3, 3, 0, 0, 3, 3, 3, 0, 3, 3, 1, 3, 3, 3, 3, 3, 3, 3, 3, 3, 3, 3, 3, 0, 3, 0, 0, 3, 3, 0, 0, 0, 3, 1, 3, 0, 3, 3, 3, 3, 3, 3, 3, 3, 3, 3, 0, 3, 3, 0, 0, 0, 3, 3, 0, 0, 0, 0, 3, 3, 3, 0, 3, 3, 0, 0, 3, 3, 0, 3, 0, 3, 3, 0, 3, 3, 0, 3, 0, 0, 1, 3, 3, 3, 0, 3, 0, 3, 3, 0, 3, 3, 0, 0, 0, 3, 3, 0, 3, 3, 0, 3, 0, 3, 3, 0, 3, 3, 3, 3, 3, 3, 3, 3, 0, 0, 3, 3, 3, 0, 0, 0, 3, 3, 3, 3, 3, 3, 0, 0, 3, 3, 3, 3, 3, 3, 0, 0, 3, 0, 3, 0, 3, 0, 3, 3, 3, 0, 1, 0, 3, 0, 3, 3, 0, 0, 3, 0, 0, 1, 3, 3, 0, 3, 3, 3, 3, 3, 0, 3, 0, 3, 3, 3, 3, 3, 0, 3, 0, 3, 0, 0, 0, 3, 0, 3, 3, 3, 0, 3, 3, 3, 3, 3, 3, 3, 3, 3, 3, 0, 3, 0, 3, 3, 3, 3, 0, 0, 1, 0, 0, 3, 3, 1, 3, 0, 0, 3, 3, 0, 0, 3, 3, 0, 0, 0, 0, 0, 0, 3, 3, 3, 0, 3, 1, 3, 3, 3, 3, 0, 3, 3, 0, 0, 0, 3, 1, 0, 3, 0, 3, 3, 3, 1, 3, 3, 0, 3, 0, 3, 0, 3, 3, 3, 0, 3, 1, 3, 3, 3, 0, 3, 3, 0, 3, 3, 0, 3, 0, 0, 3, 3, 3, 3, 1, 3, 3, 0, 0, 0, 3, 3, 3, 3, 3, 3, 0, 0, 0, 0, 0, 3, 3, 0, 3, 3, 3, 0, 3, 0, 3, 3, 3, 3, 3, 0, 3, 3, 0, 0, 3, 3, 3, 3, 3, 3, 3, 3, 3, 3, 3, 3, 3, 0, 0, 3, 0, 3, 3, 3, 3, 3, 3, 0, 3, 3, 3, 3, 3, 3, 3, 3, 0, 1, 3, 0, 0, 3, 3, 3, 3, 3, 0, 3, 3, 3, 3, 0, 3, 3, 3, 0, 0, 0, 3, 3, 0, 0, 3, 3, 0, 1, 3, 3, 3, 3, 0, 3, 0, 3, 1, 3, 0, 0, 3, 0, 3, 0, 3, 0, 3, 3, 3, 3, 0, 3, 3, 3, 3, 0, 3, 0, 0, 3, 1, 0, 0, 0, 3, 3, 3, 0, 3, 0, 3, 0, 0, 3, 3, 0, 3, 3, 0, 3, 3, 0, 0, 3, 3, 0, 3, 3, 1, 0, 3, 3, 3, 3, 3, 3, 3, 3, 3, 3, 3, 1, 0, 3, 3, 3, 3, 1, 3, 3, 3, 3, 3, 3, 3, 3, 3, 3, 3, 3, 3, 0, 3, 0, 3, 3, 3, 3, 3, 3, 3, 3, 1, 3, 3, 3, 0, 3, 3, 3, 3, 3, 0, 3, 3, 0, 3, 3, 3, 3, 3, 0, 1, 3, 0, 3, 0, 0, 0, 3, 3, 0, 3, 3, 3, 3, 3, 3, 3, 3, 3, 0, 3, 3, 3, 3, 3, 3, 3, 0, 0, 0, 0, 0, 3, 3, 0, 3, 3, 3, 0, 3, 0, 3, 3, 3, 3, 3, 3, 1, 3, 3, 0, 0, 3, 0, 3, 3, 3, 3, 3, 3, 0, 3, 3, 0, 3, 0, 3, 3, 3, 3, 3, 3, 3, 0, 3, 3, 0, 3, 3, 3, 3, 3, 1, 0, 0, 1, 0, 3, 0, 0, 0, 3, 3, 3, 3, 3, 3, 0, 3, 3, 0, 3, 3, 0, 0, 0, 3, 3, 3, 3, 0, 3, 3, 3, 3, 0, 3, 3, 3, 0, 3, 3, 0, 0, 0, 3, 3, 3, 3, 0, 3, 3, 3, 0, 3, 3, 3, 3, 3, 3, 0, 3, 3, 3, 3, 0, 3, 3, 3, 3, 1, 3, 3, 3, 3, 3, 3, 3, 3, 3, 3, 3, 0, 3, 0, 3, 3, 0, 1, 0, 0, 3, 3, 3, 3, 3, 3, 3, 3, 0, 3, 0, 3, 3, 3, 3, 3, 0, 0, 0, 0, 3, 3, 0, 3, 3, 3, 3, 3, 3, 3, 3, 3, 3, 3, 3, 0, 3, 0, 0, 0, 0, 0, 0, 3, 0, 0, 3, 3, 3, 3, 3, 3, 3, 3, 3, 3, 1, 0, 3, 3, 3, 0, 3, 0, 0, 3, 0, 0, 0, 3, 3, 0, 3, 3, 3, 1, 3, 0, 3, 0, 3, 3, 3, 3, 3, 0, 3, 3, 3, 3, 3, 3, 0, 3, 3, 0, 0, 0, 3, 0, 3, 3, 3, 3, 3, 3, 3, 3, 3, 3, 3, 3, 3, 3, 3, 0, 3, 3, 3, 3, 3, 3, 3, 3, 3, 3, 3, 3, 3, 3, 3, 3, 0, 0, 0, 3, 3, 3, 3, 3, 3, 3, 3, 3, 3, 3, 3, 3, 3, 3, 3, 3, 0, 0, 3, 3, 0, 0, 3, 3, 0, 3, 3, 3, 3, 3, 0, 3, 3, 0, 3, 3, 3, 3, 3, 3, 0, 3, 3, 1, 0, 1, 3, 3, 3, 3, 1, 3, 3, 0, 3, 3, 0, 0, 3, 3, 3, 3, 0, 3, 3, 3, 3, 3, 3, 3, 3, 3, 3, 3, 0, 3, 3, 3, 3, 3, 3, 1, 3, 0, 0, 1, 3, 0, 3, 3, 3, 3, 0, 0, 0, 0, 0, 0, 0, 0, 0, 0, 0, 0, 0, 0, 0, 0, 0, 0, 0, 0, 0, 0, 0, 0, 0, 0, 0, 0, 0, 0, 0, 0, 0, 0, 0, 0, 0, 0, 0, 0, 0, 0, 0, 0, 0, 0, 0, 0, 0, 0, 0, 0, 0, 0, 0, 0, 0, 0, 0, 0, 0, 0, 0, 0, 0, 0, 0, 0, 0, 0, 0, 0, 0, 0, 0, 0, 0, 0, 0, 0, 0, 0, 0, 0, 0, 0, 0, 0, 0, 0, 0, 0, 0, 0, 0, 0, 0, 0, 0, 0, 0, 0, 0, 0, 0, 0, 0, 0, 0, 0, 0, 0, 0, 0, 0, 0, 0, 0, 0, 0, 0, 0, 0, 0, 0, 0, 0, 0, 0, 0, 0, 0, 0, 0, 0, 0, 0, 0, 0, 0, 0, 0, 0, 0, 0, 0, 0, 0, 0, 0, 0, 0, 0, 0, 0, 0, 0, 0, 0, 0, 0, 0, 0, 0, 0, 0, 0, 0, 0, 0, 0, 0, 0, 0, 0, 0, 0, 0, 0, 0], \"xaxis\": \"x\", \"yaxis\": \"y\"}],\n",
              "                        {\"barmode\": \"relative\", \"legend\": {\"tracegroupgap\": 0}, \"margin\": {\"t\": 60}, \"template\": {\"data\": {\"bar\": [{\"error_x\": {\"color\": \"#2a3f5f\"}, \"error_y\": {\"color\": \"#2a3f5f\"}, \"marker\": {\"line\": {\"color\": \"#E5ECF6\", \"width\": 0.5}}, \"type\": \"bar\"}], \"barpolar\": [{\"marker\": {\"line\": {\"color\": \"#E5ECF6\", \"width\": 0.5}}, \"type\": \"barpolar\"}], \"carpet\": [{\"aaxis\": {\"endlinecolor\": \"#2a3f5f\", \"gridcolor\": \"white\", \"linecolor\": \"white\", \"minorgridcolor\": \"white\", \"startlinecolor\": \"#2a3f5f\"}, \"baxis\": {\"endlinecolor\": \"#2a3f5f\", \"gridcolor\": \"white\", \"linecolor\": \"white\", \"minorgridcolor\": \"white\", \"startlinecolor\": \"#2a3f5f\"}, \"type\": \"carpet\"}], \"choropleth\": [{\"colorbar\": {\"outlinewidth\": 0, \"ticks\": \"\"}, \"type\": \"choropleth\"}], \"contour\": [{\"colorbar\": {\"outlinewidth\": 0, \"ticks\": \"\"}, \"colorscale\": [[0.0, \"#0d0887\"], [0.1111111111111111, \"#46039f\"], [0.2222222222222222, \"#7201a8\"], [0.3333333333333333, \"#9c179e\"], [0.4444444444444444, \"#bd3786\"], [0.5555555555555556, \"#d8576b\"], [0.6666666666666666, \"#ed7953\"], [0.7777777777777778, \"#fb9f3a\"], [0.8888888888888888, \"#fdca26\"], [1.0, \"#f0f921\"]], \"type\": \"contour\"}], \"contourcarpet\": [{\"colorbar\": {\"outlinewidth\": 0, \"ticks\": \"\"}, \"type\": \"contourcarpet\"}], \"heatmap\": [{\"colorbar\": {\"outlinewidth\": 0, \"ticks\": \"\"}, \"colorscale\": [[0.0, \"#0d0887\"], [0.1111111111111111, \"#46039f\"], [0.2222222222222222, \"#7201a8\"], [0.3333333333333333, \"#9c179e\"], [0.4444444444444444, \"#bd3786\"], [0.5555555555555556, \"#d8576b\"], [0.6666666666666666, \"#ed7953\"], [0.7777777777777778, \"#fb9f3a\"], [0.8888888888888888, \"#fdca26\"], [1.0, \"#f0f921\"]], \"type\": \"heatmap\"}], \"heatmapgl\": [{\"colorbar\": {\"outlinewidth\": 0, \"ticks\": \"\"}, \"colorscale\": [[0.0, \"#0d0887\"], [0.1111111111111111, \"#46039f\"], [0.2222222222222222, \"#7201a8\"], [0.3333333333333333, \"#9c179e\"], [0.4444444444444444, \"#bd3786\"], [0.5555555555555556, \"#d8576b\"], [0.6666666666666666, \"#ed7953\"], [0.7777777777777778, \"#fb9f3a\"], [0.8888888888888888, \"#fdca26\"], [1.0, \"#f0f921\"]], \"type\": \"heatmapgl\"}], \"histogram\": [{\"marker\": {\"colorbar\": {\"outlinewidth\": 0, \"ticks\": \"\"}}, \"type\": \"histogram\"}], \"histogram2d\": [{\"colorbar\": {\"outlinewidth\": 0, \"ticks\": \"\"}, \"colorscale\": [[0.0, \"#0d0887\"], [0.1111111111111111, \"#46039f\"], [0.2222222222222222, \"#7201a8\"], [0.3333333333333333, \"#9c179e\"], [0.4444444444444444, \"#bd3786\"], [0.5555555555555556, \"#d8576b\"], [0.6666666666666666, \"#ed7953\"], [0.7777777777777778, \"#fb9f3a\"], [0.8888888888888888, \"#fdca26\"], [1.0, \"#f0f921\"]], \"type\": \"histogram2d\"}], \"histogram2dcontour\": [{\"colorbar\": {\"outlinewidth\": 0, \"ticks\": \"\"}, \"colorscale\": [[0.0, \"#0d0887\"], [0.1111111111111111, \"#46039f\"], [0.2222222222222222, \"#7201a8\"], [0.3333333333333333, \"#9c179e\"], [0.4444444444444444, \"#bd3786\"], [0.5555555555555556, \"#d8576b\"], [0.6666666666666666, \"#ed7953\"], [0.7777777777777778, \"#fb9f3a\"], [0.8888888888888888, \"#fdca26\"], [1.0, \"#f0f921\"]], \"type\": \"histogram2dcontour\"}], \"mesh3d\": [{\"colorbar\": {\"outlinewidth\": 0, \"ticks\": \"\"}, \"type\": \"mesh3d\"}], \"parcoords\": [{\"line\": {\"colorbar\": {\"outlinewidth\": 0, \"ticks\": \"\"}}, \"type\": \"parcoords\"}], \"pie\": [{\"automargin\": true, \"type\": \"pie\"}], \"scatter\": [{\"marker\": {\"colorbar\": {\"outlinewidth\": 0, \"ticks\": \"\"}}, \"type\": \"scatter\"}], \"scatter3d\": [{\"line\": {\"colorbar\": {\"outlinewidth\": 0, \"ticks\": \"\"}}, \"marker\": {\"colorbar\": {\"outlinewidth\": 0, \"ticks\": \"\"}}, \"type\": \"scatter3d\"}], \"scattercarpet\": [{\"marker\": {\"colorbar\": {\"outlinewidth\": 0, \"ticks\": \"\"}}, \"type\": \"scattercarpet\"}], \"scattergeo\": [{\"marker\": {\"colorbar\": {\"outlinewidth\": 0, \"ticks\": \"\"}}, \"type\": \"scattergeo\"}], \"scattergl\": [{\"marker\": {\"colorbar\": {\"outlinewidth\": 0, \"ticks\": \"\"}}, \"type\": \"scattergl\"}], \"scattermapbox\": [{\"marker\": {\"colorbar\": {\"outlinewidth\": 0, \"ticks\": \"\"}}, \"type\": \"scattermapbox\"}], \"scatterpolar\": [{\"marker\": {\"colorbar\": {\"outlinewidth\": 0, \"ticks\": \"\"}}, \"type\": \"scatterpolar\"}], \"scatterpolargl\": [{\"marker\": {\"colorbar\": {\"outlinewidth\": 0, \"ticks\": \"\"}}, \"type\": \"scatterpolargl\"}], \"scatterternary\": [{\"marker\": {\"colorbar\": {\"outlinewidth\": 0, \"ticks\": \"\"}}, \"type\": \"scatterternary\"}], \"surface\": [{\"colorbar\": {\"outlinewidth\": 0, \"ticks\": \"\"}, \"colorscale\": [[0.0, \"#0d0887\"], [0.1111111111111111, \"#46039f\"], [0.2222222222222222, \"#7201a8\"], [0.3333333333333333, \"#9c179e\"], [0.4444444444444444, \"#bd3786\"], [0.5555555555555556, \"#d8576b\"], [0.6666666666666666, \"#ed7953\"], [0.7777777777777778, \"#fb9f3a\"], [0.8888888888888888, \"#fdca26\"], [1.0, \"#f0f921\"]], \"type\": \"surface\"}], \"table\": [{\"cells\": {\"fill\": {\"color\": \"#EBF0F8\"}, \"line\": {\"color\": \"white\"}}, \"header\": {\"fill\": {\"color\": \"#C8D4E3\"}, \"line\": {\"color\": \"white\"}}, \"type\": \"table\"}]}, \"layout\": {\"annotationdefaults\": {\"arrowcolor\": \"#2a3f5f\", \"arrowhead\": 0, \"arrowwidth\": 1}, \"coloraxis\": {\"colorbar\": {\"outlinewidth\": 0, \"ticks\": \"\"}}, \"colorscale\": {\"diverging\": [[0, \"#8e0152\"], [0.1, \"#c51b7d\"], [0.2, \"#de77ae\"], [0.3, \"#f1b6da\"], [0.4, \"#fde0ef\"], [0.5, \"#f7f7f7\"], [0.6, \"#e6f5d0\"], [0.7, \"#b8e186\"], [0.8, \"#7fbc41\"], [0.9, \"#4d9221\"], [1, \"#276419\"]], \"sequential\": [[0.0, \"#0d0887\"], [0.1111111111111111, \"#46039f\"], [0.2222222222222222, \"#7201a8\"], [0.3333333333333333, \"#9c179e\"], [0.4444444444444444, \"#bd3786\"], [0.5555555555555556, \"#d8576b\"], [0.6666666666666666, \"#ed7953\"], [0.7777777777777778, \"#fb9f3a\"], [0.8888888888888888, \"#fdca26\"], [1.0, \"#f0f921\"]], \"sequentialminus\": [[0.0, \"#0d0887\"], [0.1111111111111111, \"#46039f\"], [0.2222222222222222, \"#7201a8\"], [0.3333333333333333, \"#9c179e\"], [0.4444444444444444, \"#bd3786\"], [0.5555555555555556, \"#d8576b\"], [0.6666666666666666, \"#ed7953\"], [0.7777777777777778, \"#fb9f3a\"], [0.8888888888888888, \"#fdca26\"], [1.0, \"#f0f921\"]]}, \"colorway\": [\"#636efa\", \"#EF553B\", \"#00cc96\", \"#ab63fa\", \"#FFA15A\", \"#19d3f3\", \"#FF6692\", \"#B6E880\", \"#FF97FF\", \"#FECB52\"], \"font\": {\"color\": \"#2a3f5f\"}, \"geo\": {\"bgcolor\": \"white\", \"lakecolor\": \"white\", \"landcolor\": \"#E5ECF6\", \"showlakes\": true, \"showland\": true, \"subunitcolor\": \"white\"}, \"hoverlabel\": {\"align\": \"left\"}, \"hovermode\": \"closest\", \"mapbox\": {\"style\": \"light\"}, \"paper_bgcolor\": \"white\", \"plot_bgcolor\": \"#E5ECF6\", \"polar\": {\"angularaxis\": {\"gridcolor\": \"white\", \"linecolor\": \"white\", \"ticks\": \"\"}, \"bgcolor\": \"#E5ECF6\", \"radialaxis\": {\"gridcolor\": \"white\", \"linecolor\": \"white\", \"ticks\": \"\"}}, \"scene\": {\"xaxis\": {\"backgroundcolor\": \"#E5ECF6\", \"gridcolor\": \"white\", \"gridwidth\": 2, \"linecolor\": \"white\", \"showbackground\": true, \"ticks\": \"\", \"zerolinecolor\": \"white\"}, \"yaxis\": {\"backgroundcolor\": \"#E5ECF6\", \"gridcolor\": \"white\", \"gridwidth\": 2, \"linecolor\": \"white\", \"showbackground\": true, \"ticks\": \"\", \"zerolinecolor\": \"white\"}, \"zaxis\": {\"backgroundcolor\": \"#E5ECF6\", \"gridcolor\": \"white\", \"gridwidth\": 2, \"linecolor\": \"white\", \"showbackground\": true, \"ticks\": \"\", \"zerolinecolor\": \"white\"}}, \"shapedefaults\": {\"line\": {\"color\": \"#2a3f5f\"}}, \"ternary\": {\"aaxis\": {\"gridcolor\": \"white\", \"linecolor\": \"white\", \"ticks\": \"\"}, \"baxis\": {\"gridcolor\": \"white\", \"linecolor\": \"white\", \"ticks\": \"\"}, \"bgcolor\": \"#E5ECF6\", \"caxis\": {\"gridcolor\": \"white\", \"linecolor\": \"white\", \"ticks\": \"\"}}, \"title\": {\"x\": 0.05}, \"xaxis\": {\"automargin\": true, \"gridcolor\": \"white\", \"linecolor\": \"white\", \"ticks\": \"\", \"title\": {\"standoff\": 15}, \"zerolinecolor\": \"white\", \"zerolinewidth\": 2}, \"yaxis\": {\"automargin\": true, \"gridcolor\": \"white\", \"linecolor\": \"white\", \"ticks\": \"\", \"title\": {\"standoff\": 15}, \"zerolinecolor\": \"white\", \"zerolinewidth\": 2}}}, \"xaxis\": {\"anchor\": \"y\", \"domain\": [0.0, 1.0], \"title\": {\"text\": \"personalizacion\"}, \"type\": \"category\"}, \"yaxis\": {\"anchor\": \"x\", \"domain\": [0.0, 1.0], \"title\": {\"text\": \"count\"}}},\n",
              "                        {\"responsive\": true}\n",
              "                    ).then(function(){\n",
              "                            \n",
              "var gd = document.getElementById('683e963c-b5af-4ea2-960c-20bc88b96f7a');\n",
              "var x = new MutationObserver(function (mutations, observer) {{\n",
              "        var display = window.getComputedStyle(gd).display;\n",
              "        if (!display || display === 'none') {{\n",
              "            console.log([gd, 'removed!']);\n",
              "            Plotly.purge(gd);\n",
              "            observer.disconnect();\n",
              "        }}\n",
              "}});\n",
              "\n",
              "// Listen for the removal of the full notebook cells\n",
              "var notebookContainer = gd.closest('#notebook-container');\n",
              "if (notebookContainer) {{\n",
              "    x.observe(notebookContainer, {childList: true});\n",
              "}}\n",
              "\n",
              "// Listen for the clearing of the current output cell\n",
              "var outputEl = gd.closest('.output');\n",
              "if (outputEl) {{\n",
              "    x.observe(outputEl, {childList: true});\n",
              "}}\n",
              "\n",
              "                        })\n",
              "                };\n",
              "                \n",
              "            </script>\n",
              "        </div>\n",
              "</body>\n",
              "</html>"
            ]
          },
          "metadata": {
            "tags": []
          }
        }
      ]
    },
    {
      "cell_type": "markdown",
      "metadata": {
        "id": "TTWIz0puxj9I"
      },
      "source": [
        "Otra cosa interesante a estudiar es saber como se distribuyen los diferentes productos o tipologia de productos que vamos a recomendar con las creatividades anteriormente explicadas. \n",
        "\n",
        "- Observamos claramente como existe una creatividad de correo en la qual unicamente hay que recomendar el producto em_acount. \n",
        "- El resto de creatividades sin embargo son para clientes que nos interesa recomendar diferente tipologia de productos. \n",
        "- Existe una creatividad donde mayoritariamente se recomendará targetas de debito però tambien el resto de productos. \n",
        "- Existe otra creatiidad donde mayoritariamente se recomendaran productos de financiacion y cuentas ( diferentes a em_account).\n",
        "- Por último para la ultima de las creatividades se recomendará principalmente productos de ahorro inversión, cuentas y financiación. "
      ],
      "id": "TTWIz0puxj9I"
    },
    {
      "cell_type": "markdown",
      "metadata": {
        "id": "0JtJFfQZZCSd"
      },
      "source": [
        "## Muestra 1000 clientes "
      ],
      "id": "0JtJFfQZZCSd"
    },
    {
      "cell_type": "markdown",
      "metadata": {
        "id": "mPdzoAi-ajH2"
      },
      "source": [
        "Desde el departamento de IT se nos pide generar una muestra de 1000 clientes para poder testear el modelo. Es por eso que a continuación se genera un fichero en formato CSV que contiene lo siguientes campos:\n",
        "\n",
        "- id_user : identificador de cliente \n",
        "- segment: personalización assignada "
      ],
      "id": "mPdzoAi-ajH2"
    },
    {
      "cell_type": "code",
      "metadata": {
        "id": "pSaPAYRdadEl"
      },
      "source": [
        "muestra=X_processed[['personalizacion']].sample(1000,random_state=42)"
      ],
      "id": "pSaPAYRdadEl",
      "execution_count": null,
      "outputs": []
    },
    {
      "cell_type": "code",
      "metadata": {
        "id": "b6DbAUoebaMG"
      },
      "source": [
        "muestra.reset_index(drop=False,inplace=True)"
      ],
      "id": "b6DbAUoebaMG",
      "execution_count": null,
      "outputs": []
    },
    {
      "cell_type": "code",
      "metadata": {
        "id": "uipZerjLbbRB"
      },
      "source": [
        "muestra.columns=['id_user','segment']"
      ],
      "id": "uipZerjLbbRB",
      "execution_count": null,
      "outputs": []
    },
    {
      "cell_type": "code",
      "metadata": {
        "colab": {
          "base_uri": "https://localhost:8080/",
          "height": 424
        },
        "id": "sV4BsGtlbibs",
        "outputId": "59ee8e20-501a-453e-c4a0-b2cb3425017b"
      },
      "source": [
        "muestra"
      ],
      "id": "sV4BsGtlbibs",
      "execution_count": null,
      "outputs": [
        {
          "output_type": "execute_result",
          "data": {
            "text/html": [
              "<div>\n",
              "<style scoped>\n",
              "    .dataframe tbody tr th:only-of-type {\n",
              "        vertical-align: middle;\n",
              "    }\n",
              "\n",
              "    .dataframe tbody tr th {\n",
              "        vertical-align: top;\n",
              "    }\n",
              "\n",
              "    .dataframe thead th {\n",
              "        text-align: right;\n",
              "    }\n",
              "</style>\n",
              "<table border=\"1\" class=\"dataframe\">\n",
              "  <thead>\n",
              "    <tr style=\"text-align: right;\">\n",
              "      <th></th>\n",
              "      <th>id_user</th>\n",
              "      <th>segment</th>\n",
              "    </tr>\n",
              "  </thead>\n",
              "  <tbody>\n",
              "    <tr>\n",
              "      <th>0</th>\n",
              "      <td>6252</td>\n",
              "      <td>3</td>\n",
              "    </tr>\n",
              "    <tr>\n",
              "      <th>1</th>\n",
              "      <td>4684</td>\n",
              "      <td>3</td>\n",
              "    </tr>\n",
              "    <tr>\n",
              "      <th>2</th>\n",
              "      <td>1731</td>\n",
              "      <td>2</td>\n",
              "    </tr>\n",
              "    <tr>\n",
              "      <th>3</th>\n",
              "      <td>4742</td>\n",
              "      <td>3</td>\n",
              "    </tr>\n",
              "    <tr>\n",
              "      <th>4</th>\n",
              "      <td>4521</td>\n",
              "      <td>1</td>\n",
              "    </tr>\n",
              "    <tr>\n",
              "      <th>...</th>\n",
              "      <td>...</td>\n",
              "      <td>...</td>\n",
              "    </tr>\n",
              "    <tr>\n",
              "      <th>995</th>\n",
              "      <td>3921</td>\n",
              "      <td>3</td>\n",
              "    </tr>\n",
              "    <tr>\n",
              "      <th>996</th>\n",
              "      <td>6685</td>\n",
              "      <td>3</td>\n",
              "    </tr>\n",
              "    <tr>\n",
              "      <th>997</th>\n",
              "      <td>3194</td>\n",
              "      <td>3</td>\n",
              "    </tr>\n",
              "    <tr>\n",
              "      <th>998</th>\n",
              "      <td>1941</td>\n",
              "      <td>2</td>\n",
              "    </tr>\n",
              "    <tr>\n",
              "      <th>999</th>\n",
              "      <td>7713</td>\n",
              "      <td>3</td>\n",
              "    </tr>\n",
              "  </tbody>\n",
              "</table>\n",
              "<p>1000 rows × 2 columns</p>\n",
              "</div>"
            ],
            "text/plain": [
              "     id_user  segment\n",
              "0       6252        3\n",
              "1       4684        3\n",
              "2       1731        2\n",
              "3       4742        3\n",
              "4       4521        1\n",
              "..       ...      ...\n",
              "995     3921        3\n",
              "996     6685        3\n",
              "997     3194        3\n",
              "998     1941        2\n",
              "999     7713        3\n",
              "\n",
              "[1000 rows x 2 columns]"
            ]
          },
          "metadata": {
            "tags": []
          },
          "execution_count": 97
        }
      ]
    },
    {
      "cell_type": "code",
      "metadata": {
        "id": "Nk9ESY9fbokG"
      },
      "source": [
        "muestra.to_csv(\"gdrive/MyDrive/EASY_MONEY_NUCLIO/personalizacion/muestra_1000.csv\",index=False)"
      ],
      "id": "Nk9ESY9fbokG",
      "execution_count": null,
      "outputs": []
    },
    {
      "cell_type": "code",
      "metadata": {
        "id": "oyq1fs3mzcdc"
      },
      "source": [
        "muestra.to_csv(\"gdrive/MyDrive/EASY_MONEY_NUCLIO/entregas/muestra_1000.csv\",index=False)"
      ],
      "id": "oyq1fs3mzcdc",
      "execution_count": null,
      "outputs": []
    },
    {
      "cell_type": "code",
      "metadata": {
        "id": "XklvTyte1e-N"
      },
      "source": [
        ""
      ],
      "id": "XklvTyte1e-N",
      "execution_count": null,
      "outputs": []
    }
  ]
}